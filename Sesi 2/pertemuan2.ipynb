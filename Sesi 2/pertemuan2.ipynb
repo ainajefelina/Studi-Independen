{
 "cells": [
  {
   "cell_type": "code",
   "execution_count": 1,
   "id": "3c26df6a",
   "metadata": {},
   "outputs": [],
   "source": [
    "x=0\n",
    "y=5"
   ]
  },
  {
   "cell_type": "code",
   "execution_count": 4,
   "id": "0234ab39",
   "metadata": {},
   "outputs": [
    {
     "name": "stdout",
     "output_type": "stream",
     "text": [
      "yes\n",
      "yes\n"
     ]
    }
   ],
   "source": [
    "if x<y:\n",
    "    print('yes')\n",
    "if y<x:\n",
    "    print('yes')\n",
    "if x:\n",
    "    print('yes')\n",
    "if y:\n",
    "    print('yes')"
   ]
  },
  {
   "cell_type": "code",
   "execution_count": 5,
   "id": "fe2c6145",
   "metadata": {},
   "outputs": [
    {
     "name": "stdout",
     "output_type": "stream",
     "text": [
      "yes\n"
     ]
    }
   ],
   "source": [
    "if 'aul' in 'grault':\n",
    "    print('yes')"
   ]
  },
  {
   "cell_type": "code",
   "execution_count": 7,
   "id": "ef457177",
   "metadata": {},
   "outputs": [],
   "source": [
    "if 'quux' in ['foo', 'bar', 'baz']:\n",
    "    print('yes')"
   ]
  },
  {
   "cell_type": "code",
   "execution_count": 8,
   "id": "7c644cb4",
   "metadata": {},
   "outputs": [
    {
     "name": "stdout",
     "output_type": "stream",
     "text": [
      "after conditional\n"
     ]
    }
   ],
   "source": [
    "if 'foo' in ['bar','baz','qux']:\n",
    "    print('expression was true')\n",
    "    print('executing statement in suite')\n",
    "    print('...')\n",
    "    print('done')\n",
    "print('after conditional')"
   ]
  },
  {
   "cell_type": "code",
   "execution_count": 10,
   "id": "b3d47b80",
   "metadata": {},
   "outputs": [
    {
     "name": "stdout",
     "output_type": "stream",
     "text": [
      "expression was true\n",
      "executing statement in suite\n",
      "...\n",
      "done\n",
      "after conditional\n"
     ]
    }
   ],
   "source": [
    "if 'bar' in ['bar','baz','qux']:\n",
    "    print('expression was true')\n",
    "    print('executing statement in suite')\n",
    "    print('...')\n",
    "    print('done')\n",
    "    \n",
    "print('after conditional')"
   ]
  },
  {
   "cell_type": "code",
   "execution_count": null,
   "id": "f7c75c3f",
   "metadata": {},
   "outputs": [],
   "source": []
  }
 ],
 "metadata": {
  "kernelspec": {
   "display_name": "Python 3",
   "language": "python",
   "name": "python3"
  },
  "language_info": {
   "codemirror_mode": {
    "name": "ipython",
    "version": 3
   },
   "file_extension": ".py",
   "mimetype": "text/x-python",
   "name": "python",
   "nbconvert_exporter": "python",
   "pygments_lexer": "ipython3",
   "version": "3.8.8"
  }
 },
 "nbformat": 4,
 "nbformat_minor": 5
}
