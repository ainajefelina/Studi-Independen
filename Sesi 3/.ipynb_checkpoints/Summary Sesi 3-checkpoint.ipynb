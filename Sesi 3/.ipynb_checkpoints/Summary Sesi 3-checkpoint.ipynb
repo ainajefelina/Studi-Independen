{
 "cells": [
  {
   "cell_type": "markdown",
   "id": "25d32f7a",
   "metadata": {},
   "source": [
    "# Defining and Calling a Function"
   ]
  },
  {
   "cell_type": "code",
   "execution_count": 4,
   "id": "3fc0c0de",
   "metadata": {},
   "outputs": [
    {
     "name": "stdout",
     "output_type": "stream",
     "text": [
      "I\"m Aina Jefelina Nuur\n"
     ]
    }
   ],
   "source": [
    "def printme(str):\n",
    "    'This prints a passed string into this function'\n",
    "    print(str)\n",
    "    return\n",
    "\n",
    "printme('I\"m Aina Jefelina Nuur')"
   ]
  },
  {
   "cell_type": "markdown",
   "id": "7f2843ae",
   "metadata": {},
   "source": [
    "# Pass by reference vs value"
   ]
  },
  {
   "cell_type": "code",
   "execution_count": 10,
   "id": "fc8471bf",
   "metadata": {},
   "outputs": [
    {
     "name": "stdout",
     "output_type": "stream",
     "text": [
      "Nilai di dalam fungsi:  [1, 2, 3, 4]\n",
      "Nilai diluar fungsi:  [10, 20, 30]\n"
     ]
    }
   ],
   "source": [
    "#definisi fungsi\n",
    "def changeme( mylist ):\n",
    "    \"Ini mengubah daftar yang diteruskan menjadi fungsi ini\"\n",
    "    mylist= [1,2,3,4];\n",
    "    print(\"Nilai di dalam fungsi: \", mylist)\n",
    "    return\n",
    "\n",
    "#memanggil fungsi\n",
    "mylist =[10,20,30];\n",
    "changeme( mylist );\n",
    "print(\"Nilai diluar fungsi: \", mylist)"
   ]
  },
  {
   "cell_type": "markdown",
   "id": "43d06aac",
   "metadata": {},
   "source": [
    "# Function Argumen"
   ]
  },
  {
   "cell_type": "markdown",
   "id": "0ba12aa0",
   "metadata": {},
   "source": [
    "## argumen jelas"
   ]
  },
  {
   "cell_type": "markdown",
   "id": "e692c379",
   "metadata": {},
   "source": [
    "## ada kata kunci"
   ]
  },
  {
   "cell_type": "code",
   "execution_count": 12,
   "id": "373bc80e",
   "metadata": {},
   "outputs": [
    {
     "name": "stdout",
     "output_type": "stream",
     "text": [
      "Nama:  Jef\n",
      "Umur:  21\n"
     ]
    }
   ],
   "source": [
    "def info(Nama, Umur):\n",
    "    \"Print info\"\n",
    "    print(\"Nama: \", Nama)\n",
    "    print(\"Umur: \", Umur)\n",
    "    return;\n",
    "\n",
    "info(Umur =21, Nama=\"Jef\")\n"
   ]
  },
  {
   "cell_type": "markdown",
   "id": "a806ce16",
   "metadata": {},
   "source": [
    "## default arguments"
   ]
  },
  {
   "cell_type": "code",
   "execution_count": 13,
   "id": "7b2a8dd3",
   "metadata": {},
   "outputs": [
    {
     "name": "stdout",
     "output_type": "stream",
     "text": [
      "Nama:  Nurnaningsih\n",
      "Umur:  40\n",
      "Nama:  Jef\n",
      "Umur:  21\n"
     ]
    }
   ],
   "source": [
    "def info(Nama, Umur=21):\n",
    "    \"Print Info\"\n",
    "    print(\"Nama: \", Nama)\n",
    "    print(\"Umur: \", Umur)\n",
    "    return\n",
    "info(Umur=40, Nama= \"Nurnaningsih\")\n",
    "info(Nama= \"Jef\")"
   ]
  },
  {
   "cell_type": "markdown",
   "id": "5deb1de2",
   "metadata": {},
   "source": [
    "## variable-length arguments"
   ]
  },
  {
   "cell_type": "code",
   "execution_count": 15,
   "id": "5dd7fa95",
   "metadata": {},
   "outputs": [
    {
     "name": "stdout",
     "output_type": "stream",
     "text": [
      "Output is: \n",
      "10\n",
      "Output is: \n",
      "70\n",
      "80\n",
      "90\n"
     ]
    }
   ],
   "source": [
    "def Data(arg1, *vartuple):\n",
    "    \"Variable\"\n",
    "    print(\"Output is: \")\n",
    "    print(arg1)\n",
    "    for var in vartuple:\n",
    "        print(var)\n",
    "    return;\n",
    "\n",
    "Data(10)\n",
    "Data (70, 80, 90)"
   ]
  },
  {
   "cell_type": "markdown",
   "id": "0f419379",
   "metadata": {},
   "source": [
    "# Funsi Anonim"
   ]
  },
  {
   "cell_type": "code",
   "execution_count": null,
   "id": "97fd1420",
   "metadata": {},
   "outputs": [],
   "source": [
    " "
   ]
  }
 ],
 "metadata": {
  "kernelspec": {
   "display_name": "Python 3 (ipykernel)",
   "language": "python",
   "name": "python3"
  },
  "language_info": {
   "codemirror_mode": {
    "name": "ipython",
    "version": 3
   },
   "file_extension": ".py",
   "mimetype": "text/x-python",
   "name": "python",
   "nbconvert_exporter": "python",
   "pygments_lexer": "ipython3",
   "version": "3.8.10"
  }
 },
 "nbformat": 4,
 "nbformat_minor": 5
}
