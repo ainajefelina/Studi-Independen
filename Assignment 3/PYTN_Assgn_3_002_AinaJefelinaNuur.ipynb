{
 "cells": [
  {
   "cell_type": "markdown",
   "id": "c2075d80",
   "metadata": {},
   "source": [
    "# Bank Marketing Data Set "
   ]
  },
  {
   "cell_type": "markdown",
   "id": "0d671eff",
   "metadata": {},
   "source": [
    "## project overview"
   ]
  },
  {
   "cell_type": "markdown",
   "id": "a4b59ed4",
   "metadata": {},
   "source": [
    "- Merupakan data kampanye untuk pemasaran yang digunakan oleh lembaga perbankan portugis. Kampanye dilakukan melalui panggilan telepon dan seingkali kontak ke klien diperlukan untuk mengetahui apakah produk yang dipasarkan seperti deposito berjangka akan dibeli oleh klien sehingga menjadi berlangganan atau tidak. "
   ]
  },
  {
   "cell_type": "markdown",
   "id": "b20763fb",
   "metadata": {},
   "source": [
    "- **4 jenis kumpulan data :**\n",
    "1. bank-additional-full.csv dengan semua contoh (41188) dan 20 input, diurutkan berdasarkan tanggal (dari Mei 2008 hingga November 2010), sangat dekat dengan data yang dianalisis dalam [Moro et al., 2014]\n",
    "2. bank-additional.csv dengan 10% dari contoh (4119), dipilih secara acak dari 1), dan 20 input.\n",
    "3. bank-full.csv dengan semua contoh dan 17 input, diurutkan berdasarkan tanggal (versi lama dari kumpulan data ini dengan input yang lebih sedikit).\n",
    "4. bank.csv dengan 10% contoh dan 17 input, dipilih secara acak dari 3 (versi lama dari kumpulan data ini dengan input lebih sedikit)."
   ]
  },
  {
   "cell_type": "markdown",
   "id": "31271d04",
   "metadata": {},
   "source": [
    "- Kumpulan data terkecil digunakan untuk menguji algoritme pembelajaran mesin yang lebih menuntut komputasi (mis., SVM).\n",
    "\n",
    "- Tujuan dilakukannya klasifikasi adalah untuk memprediksi apakah klien akan berlangganan (ya/tidak) deposito berjangka (variabel y). "
   ]
  },
  {
   "cell_type": "markdown",
   "id": "4b0c9f3c",
   "metadata": {},
   "source": [
    "- **Attribute Information:**\n",
    "\n",
    "Input variables:\n",
    "**bank client data:**\n",
    "1. age (numeric)\n",
    "2. job : jenis pekerjaan (kategoris: 'admin.','kerah biru','pengusaha','pembantu rumah tangga','manajemen','pensiunan','wiraswasta','jasa','mahasiswa' ,'teknisi','menganggur','tidak diketahui')\n",
    "3. marital : status perkawinan (kategori: 'cerai', 'menikah', 'lajang', 'tidak diketahui'; catatan: 'cerai' berarti cerai atau janda)\n",
    "4. education (kategoris: 'dasar.4 tahun', 'dasar.6 tahun', 'dasar.9 tahun', 'sekolah menengah', 'buta huruf', 'kursus profesional', 'gelar universitas', 'tidak diketahui')\n",
    "5. default: apakah kredit default? (kategoris: 'tidak', 'ya', 'tidak diketahui')\n",
    "6. housing: memiliki pinjaman perumahan? (kategoris: 'tidak', 'ya', 'tidak diketahui')\n",
    "7. loan: memiliki pinjaman pribadi? (kategoris: 'tidak', 'ya', 'tidak diketahui')\n",
    "\n",
    "**related with the last contact of the current campaign:**\n",
    "\n",
    "8. contact: jenis komunikasi kontak (kategori: 'seluler', 'telepon')\n",
    "9. month: kontak terakhir bulan dalam setahun (kategoris: 'jan', 'feb', 'mar', ..., 'nov', 'dec')\n",
    "10. day_of_week: hari kontak terakhir dalam seminggu (kategoris: 'sen','sel','wed','kamis','fri')\n",
    "11. duration: durasi kontak terakhir, dalam detik (numerik). Catatan penting: atribut ini sangat mempengaruhi target keluaran (misalnya, jika durasi=0 maka y='tidak'). Namun, durasinya tidak diketahui sebelum panggilan dilakukan. Juga, setelah akhir panggilan y jelas diketahui. Dengan demikian, input ini hanya boleh dimasukkan untuk tujuan benchmark dan harus dibuang jika tujuannya adalah untuk memiliki model prediksi yang realistis.\n",
    "\n",
    "**other attributes:**\n",
    "\n",
    "12. campaign: jumlah kontak yang dilakukan selama kampanye ini dan untuk klien ini (numerik, termasuk kontak terakhir)\n",
    "13. pdays: jumlah hari yang berlalu setelah klien terakhir dihubungi dari kampanye sebelumnya (numerik; 999 berarti klien tidak dihubungi sebelumnya)\n",
    "14. previous: jumlah kontak yang dilakukan sebelum kampanye ini dan untuk klien ini (numerik)\n",
    "15. poutcome: hasil dari kampanye pemasaran sebelumnya (categorical: 'failure','nonexistent','success')\n",
    "\n",
    "**social and economic context attributes**\n",
    "\n",
    "16. emp.var.rate: tingkat variasi pekerjaan - indikator triwulanan (numerik)\n",
    "17. cons.price.idx: indeks harga konsumen - indikator bulanan (numerik)\n",
    "18. cons.conf.idx:  indeks kepercayaan konsumen - indikator bulanan (numerik)\n",
    "19. euribor3m: tarif euribor 3 bulan - indikator harian (numerik)\n",
    "20. nr.employed:  jumlah karyawan - indikator triwulanan (numerik) \n",
    "\n",
    "**Output variable (desired target):**\n",
    "\n",
    "21. y - has the client subscribed a term deposit? (binary: 'yes','no')"
   ]
  },
  {
   "cell_type": "markdown",
   "id": "8db0de2f",
   "metadata": {},
   "source": [
    "## import library"
   ]
  },
  {
   "cell_type": "code",
   "execution_count": 55,
   "id": "09c56181",
   "metadata": {},
   "outputs": [],
   "source": [
    "import pandas as pd \n",
    "import numpy as np\n",
    "import matplotlib.pyplot as plt\n",
    "import seaborn as sns\n",
    "\n",
    "from sklearn.linear_model import LogisticRegression\n",
    "from sklearn.tree import DecisionTreeClassifier\n",
    "from sklearn.ensemble import RandomForestClassifier\n",
    "from sklearn.metrics import accuracy_score, classification_report,confusion_matrix"
   ]
  },
  {
   "cell_type": "markdown",
   "id": "0d1db4d2",
   "metadata": {},
   "source": [
    "## import data"
   ]
  },
  {
   "cell_type": "code",
   "execution_count": 56,
   "id": "71e69c62",
   "metadata": {},
   "outputs": [],
   "source": [
    "df= pd.read_csv('Data/bank-full-1.csv',sep=';',engine='python', na_values=\"unknown\")"
   ]
  },
  {
   "cell_type": "code",
   "execution_count": 57,
   "id": "05767680",
   "metadata": {},
   "outputs": [
    {
     "data": {
      "text/html": [
       "<div>\n",
       "<style scoped>\n",
       "    .dataframe tbody tr th:only-of-type {\n",
       "        vertical-align: middle;\n",
       "    }\n",
       "\n",
       "    .dataframe tbody tr th {\n",
       "        vertical-align: top;\n",
       "    }\n",
       "\n",
       "    .dataframe thead th {\n",
       "        text-align: right;\n",
       "    }\n",
       "</style>\n",
       "<table border=\"1\" class=\"dataframe\">\n",
       "  <thead>\n",
       "    <tr style=\"text-align: right;\">\n",
       "      <th></th>\n",
       "      <th>age</th>\n",
       "      <th>job</th>\n",
       "      <th>marital</th>\n",
       "      <th>education</th>\n",
       "      <th>default</th>\n",
       "      <th>balance</th>\n",
       "      <th>housing</th>\n",
       "      <th>loan</th>\n",
       "      <th>contact</th>\n",
       "      <th>day</th>\n",
       "      <th>month</th>\n",
       "      <th>duration</th>\n",
       "      <th>campaign</th>\n",
       "      <th>pdays</th>\n",
       "      <th>previous</th>\n",
       "      <th>poutcome</th>\n",
       "      <th>y</th>\n",
       "    </tr>\n",
       "  </thead>\n",
       "  <tbody>\n",
       "    <tr>\n",
       "      <th>0</th>\n",
       "      <td>58</td>\n",
       "      <td>management</td>\n",
       "      <td>married</td>\n",
       "      <td>tertiary</td>\n",
       "      <td>no</td>\n",
       "      <td>2143</td>\n",
       "      <td>yes</td>\n",
       "      <td>no</td>\n",
       "      <td>NaN</td>\n",
       "      <td>5</td>\n",
       "      <td>may</td>\n",
       "      <td>261</td>\n",
       "      <td>1</td>\n",
       "      <td>-1</td>\n",
       "      <td>0</td>\n",
       "      <td>NaN</td>\n",
       "      <td>no</td>\n",
       "    </tr>\n",
       "    <tr>\n",
       "      <th>1</th>\n",
       "      <td>44</td>\n",
       "      <td>technician</td>\n",
       "      <td>single</td>\n",
       "      <td>secondary</td>\n",
       "      <td>no</td>\n",
       "      <td>29</td>\n",
       "      <td>yes</td>\n",
       "      <td>no</td>\n",
       "      <td>NaN</td>\n",
       "      <td>5</td>\n",
       "      <td>may</td>\n",
       "      <td>151</td>\n",
       "      <td>1</td>\n",
       "      <td>-1</td>\n",
       "      <td>0</td>\n",
       "      <td>NaN</td>\n",
       "      <td>no</td>\n",
       "    </tr>\n",
       "    <tr>\n",
       "      <th>2</th>\n",
       "      <td>33</td>\n",
       "      <td>entrepreneur</td>\n",
       "      <td>married</td>\n",
       "      <td>secondary</td>\n",
       "      <td>no</td>\n",
       "      <td>2</td>\n",
       "      <td>yes</td>\n",
       "      <td>yes</td>\n",
       "      <td>NaN</td>\n",
       "      <td>5</td>\n",
       "      <td>may</td>\n",
       "      <td>76</td>\n",
       "      <td>1</td>\n",
       "      <td>-1</td>\n",
       "      <td>0</td>\n",
       "      <td>NaN</td>\n",
       "      <td>no</td>\n",
       "    </tr>\n",
       "  </tbody>\n",
       "</table>\n",
       "</div>"
      ],
      "text/plain": [
       "   age           job  marital  education default  balance housing loan  \\\n",
       "0   58    management  married   tertiary      no     2143     yes   no   \n",
       "1   44    technician   single  secondary      no       29     yes   no   \n",
       "2   33  entrepreneur  married  secondary      no        2     yes  yes   \n",
       "\n",
       "  contact  day month  duration  campaign  pdays  previous poutcome   y  \n",
       "0     NaN    5   may       261         1     -1         0      NaN  no  \n",
       "1     NaN    5   may       151         1     -1         0      NaN  no  \n",
       "2     NaN    5   may        76         1     -1         0      NaN  no  "
      ]
     },
     "execution_count": 57,
     "metadata": {},
     "output_type": "execute_result"
    }
   ],
   "source": [
    "# mengetahui beberapa data teratas\n",
    "df.head(3)"
   ]
  },
  {
   "cell_type": "code",
   "execution_count": 58,
   "id": "28b65ea6",
   "metadata": {},
   "outputs": [
    {
     "data": {
      "text/html": [
       "<div>\n",
       "<style scoped>\n",
       "    .dataframe tbody tr th:only-of-type {\n",
       "        vertical-align: middle;\n",
       "    }\n",
       "\n",
       "    .dataframe tbody tr th {\n",
       "        vertical-align: top;\n",
       "    }\n",
       "\n",
       "    .dataframe thead th {\n",
       "        text-align: right;\n",
       "    }\n",
       "</style>\n",
       "<table border=\"1\" class=\"dataframe\">\n",
       "  <thead>\n",
       "    <tr style=\"text-align: right;\">\n",
       "      <th></th>\n",
       "      <th>age</th>\n",
       "      <th>job</th>\n",
       "      <th>marital</th>\n",
       "      <th>education</th>\n",
       "      <th>default</th>\n",
       "      <th>balance</th>\n",
       "      <th>housing</th>\n",
       "      <th>loan</th>\n",
       "      <th>contact</th>\n",
       "      <th>day</th>\n",
       "      <th>month</th>\n",
       "      <th>duration</th>\n",
       "      <th>campaign</th>\n",
       "      <th>pdays</th>\n",
       "      <th>previous</th>\n",
       "      <th>poutcome</th>\n",
       "      <th>y</th>\n",
       "    </tr>\n",
       "  </thead>\n",
       "  <tbody>\n",
       "    <tr>\n",
       "      <th>45208</th>\n",
       "      <td>72</td>\n",
       "      <td>retired</td>\n",
       "      <td>married</td>\n",
       "      <td>secondary</td>\n",
       "      <td>no</td>\n",
       "      <td>5715</td>\n",
       "      <td>no</td>\n",
       "      <td>no</td>\n",
       "      <td>cellular</td>\n",
       "      <td>17</td>\n",
       "      <td>nov</td>\n",
       "      <td>1127</td>\n",
       "      <td>5</td>\n",
       "      <td>184</td>\n",
       "      <td>3</td>\n",
       "      <td>success</td>\n",
       "      <td>yes</td>\n",
       "    </tr>\n",
       "    <tr>\n",
       "      <th>45209</th>\n",
       "      <td>57</td>\n",
       "      <td>blue-collar</td>\n",
       "      <td>married</td>\n",
       "      <td>secondary</td>\n",
       "      <td>no</td>\n",
       "      <td>668</td>\n",
       "      <td>no</td>\n",
       "      <td>no</td>\n",
       "      <td>telephone</td>\n",
       "      <td>17</td>\n",
       "      <td>nov</td>\n",
       "      <td>508</td>\n",
       "      <td>4</td>\n",
       "      <td>-1</td>\n",
       "      <td>0</td>\n",
       "      <td>NaN</td>\n",
       "      <td>no</td>\n",
       "    </tr>\n",
       "    <tr>\n",
       "      <th>45210</th>\n",
       "      <td>37</td>\n",
       "      <td>entrepreneur</td>\n",
       "      <td>married</td>\n",
       "      <td>secondary</td>\n",
       "      <td>no</td>\n",
       "      <td>2971</td>\n",
       "      <td>no</td>\n",
       "      <td>no</td>\n",
       "      <td>cellular</td>\n",
       "      <td>17</td>\n",
       "      <td>nov</td>\n",
       "      <td>361</td>\n",
       "      <td>2</td>\n",
       "      <td>188</td>\n",
       "      <td>11</td>\n",
       "      <td>other</td>\n",
       "      <td>no</td>\n",
       "    </tr>\n",
       "  </tbody>\n",
       "</table>\n",
       "</div>"
      ],
      "text/plain": [
       "       age           job  marital  education default  balance housing loan  \\\n",
       "45208   72       retired  married  secondary      no     5715      no   no   \n",
       "45209   57   blue-collar  married  secondary      no      668      no   no   \n",
       "45210   37  entrepreneur  married  secondary      no     2971      no   no   \n",
       "\n",
       "         contact  day month  duration  campaign  pdays  previous poutcome    y  \n",
       "45208   cellular   17   nov      1127         5    184         3  success  yes  \n",
       "45209  telephone   17   nov       508         4     -1         0      NaN   no  \n",
       "45210   cellular   17   nov       361         2    188        11    other   no  "
      ]
     },
     "execution_count": 58,
     "metadata": {},
     "output_type": "execute_result"
    }
   ],
   "source": [
    "#mengetahui beberapa data terbawah\n",
    "df.tail(3)"
   ]
  },
  {
   "cell_type": "code",
   "execution_count": 59,
   "id": "2c4f5d73",
   "metadata": {},
   "outputs": [
    {
     "data": {
      "text/plain": [
       "(45211, 17)"
      ]
     },
     "execution_count": 59,
     "metadata": {},
     "output_type": "execute_result"
    }
   ],
   "source": [
    "# mengetahui banyaknya dimensi dataframe\n",
    "df.shape"
   ]
  },
  {
   "cell_type": "code",
   "execution_count": 60,
   "id": "73b0a7a3",
   "metadata": {},
   "outputs": [
    {
     "data": {
      "text/plain": [
       "False"
      ]
     },
     "execution_count": 60,
     "metadata": {},
     "output_type": "execute_result"
    }
   ],
   "source": [
    "# mengetahui data yang terdulikat\n",
    "df.duplicated().any()"
   ]
  },
  {
   "cell_type": "code",
   "execution_count": 61,
   "id": "4e207209",
   "metadata": {},
   "outputs": [
    {
     "data": {
      "text/plain": [
       "age              0\n",
       "job            288\n",
       "marital          0\n",
       "education     1857\n",
       "default          0\n",
       "balance          0\n",
       "housing          0\n",
       "loan             0\n",
       "contact      13020\n",
       "day              0\n",
       "month            0\n",
       "duration         0\n",
       "campaign         0\n",
       "pdays            0\n",
       "previous         0\n",
       "poutcome     36959\n",
       "y                0\n",
       "dtype: int64"
      ]
     },
     "execution_count": 61,
     "metadata": {},
     "output_type": "execute_result"
    }
   ],
   "source": [
    "# mengetahui data yang kosong\n",
    "df.isnull().sum()"
   ]
  },
  {
   "cell_type": "code",
   "execution_count": 62,
   "id": "6c9e4e01",
   "metadata": {},
   "outputs": [
    {
     "data": {
      "text/plain": [
       "age           0.000000\n",
       "job           0.637013\n",
       "marital       0.000000\n",
       "education     4.107407\n",
       "default       0.000000\n",
       "balance       0.000000\n",
       "housing       0.000000\n",
       "loan          0.000000\n",
       "contact      28.798301\n",
       "day           0.000000\n",
       "month         0.000000\n",
       "duration      0.000000\n",
       "campaign      0.000000\n",
       "pdays         0.000000\n",
       "previous      0.000000\n",
       "poutcome     81.747805\n",
       "y             0.000000\n",
       "dtype: float64"
      ]
     },
     "execution_count": 62,
     "metadata": {},
     "output_type": "execute_result"
    }
   ],
   "source": [
    "# presemtase data kosong\n",
    "df.isna().sum() /len(df) *100"
   ]
  },
  {
   "cell_type": "markdown",
   "id": "669f513c",
   "metadata": {},
   "source": [
    "- diketahui bahwa poutcome memiliki % data hilang yang  tinggi yang dapat mengganggu analisis maka perlu di drop dari dataset\n",
    "- data job, education, contact, merupakan data yang tidak bisa diisi dengan mean, modus ataupun median, sehingga perlu dihapus dari dataset juga"
   ]
  },
  {
   "cell_type": "code",
   "execution_count": 63,
   "id": "bc15faa1",
   "metadata": {},
   "outputs": [],
   "source": [
    "# menghapus poutcome\n",
    "df.drop(columns=[\"poutcome\"], inplace=True)"
   ]
  },
  {
   "cell_type": "code",
   "execution_count": 64,
   "id": "abdfc3e0",
   "metadata": {},
   "outputs": [],
   "source": [
    "#menghapus data kosong yang tersisa\n",
    "df.dropna(inplace=True)"
   ]
  },
  {
   "cell_type": "code",
   "execution_count": 65,
   "id": "a537bbed",
   "metadata": {},
   "outputs": [
    {
     "data": {
      "text/plain": [
       "age          0\n",
       "job          0\n",
       "marital      0\n",
       "education    0\n",
       "default      0\n",
       "balance      0\n",
       "housing      0\n",
       "loan         0\n",
       "contact      0\n",
       "day          0\n",
       "month        0\n",
       "duration     0\n",
       "campaign     0\n",
       "pdays        0\n",
       "previous     0\n",
       "y            0\n",
       "dtype: int64"
      ]
     },
     "execution_count": 65,
     "metadata": {},
     "output_type": "execute_result"
    }
   ],
   "source": [
    "#mengecek kembali data yang kosong \n",
    "df.isnull().sum()"
   ]
  },
  {
   "cell_type": "code",
   "execution_count": 66,
   "id": "c706ec87",
   "metadata": {},
   "outputs": [
    {
     "data": {
      "text/plain": [
       "(30907, 16)"
      ]
     },
     "execution_count": 66,
     "metadata": {},
     "output_type": "execute_result"
    }
   ],
   "source": [
    "df.shape #recheck"
   ]
  },
  {
   "cell_type": "code",
   "execution_count": 67,
   "id": "bdb4e416",
   "metadata": {},
   "outputs": [
    {
     "name": "stdout",
     "output_type": "stream",
     "text": [
      "<class 'pandas.core.frame.DataFrame'>\n",
      "Int64Index: 30907 entries, 12657 to 45210\n",
      "Data columns (total 16 columns):\n",
      " #   Column     Non-Null Count  Dtype \n",
      "---  ------     --------------  ----- \n",
      " 0   age        30907 non-null  int64 \n",
      " 1   job        30907 non-null  object\n",
      " 2   marital    30907 non-null  object\n",
      " 3   education  30907 non-null  object\n",
      " 4   default    30907 non-null  object\n",
      " 5   balance    30907 non-null  int64 \n",
      " 6   housing    30907 non-null  object\n",
      " 7   loan       30907 non-null  object\n",
      " 8   contact    30907 non-null  object\n",
      " 9   day        30907 non-null  int64 \n",
      " 10  month      30907 non-null  object\n",
      " 11  duration   30907 non-null  int64 \n",
      " 12  campaign   30907 non-null  int64 \n",
      " 13  pdays      30907 non-null  int64 \n",
      " 14  previous   30907 non-null  int64 \n",
      " 15  y          30907 non-null  object\n",
      "dtypes: int64(7), object(9)\n",
      "memory usage: 4.0+ MB\n"
     ]
    }
   ],
   "source": [
    "# mengetahui data set\n",
    "df.info()"
   ]
  },
  {
   "cell_type": "code",
   "execution_count": 68,
   "id": "494740ba",
   "metadata": {},
   "outputs": [
    {
     "data": {
      "text/plain": [
       "Index(['age', 'job', 'marital', 'education', 'default', 'balance', 'housing',\n",
       "       'loan', 'contact', 'day', 'month', 'duration', 'campaign', 'pdays',\n",
       "       'previous', 'y'],\n",
       "      dtype='object')"
      ]
     },
     "execution_count": 68,
     "metadata": {},
     "output_type": "execute_result"
    }
   ],
   "source": [
    "# informasi kolom\n",
    "df.columns"
   ]
  },
  {
   "cell_type": "code",
   "execution_count": 69,
   "id": "1a7849b5",
   "metadata": {},
   "outputs": [],
   "source": [
    "#konversi data ke bentuk kategorikal\n",
    "categorical = [\"job\",\"marital\",\"education\", \"default\", \"housing\", \"loan\", \"contact\", \"month\",\"y\"]\n",
    "\n",
    "for col in categorical: \n",
    "    df[col] = df[col].astype(\"category\")"
   ]
  },
  {
   "cell_type": "code",
   "execution_count": 70,
   "id": "34f1b559",
   "metadata": {},
   "outputs": [
    {
     "name": "stdout",
     "output_type": "stream",
     "text": [
      "age : \n",
      "{18, 19, 20, 21, 22, 23, 24, 25, 26, 27, 28, 29, 30, 31, 32, 33, 34, 35, 36, 37, 38, 39, 40, 41, 42, 43, 44, 45, 46, 47, 48, 49, 50, 51, 52, 53, 54, 55, 56, 57, 58, 59, 60, 61, 62, 63, 64, 65, 66, 67, 68, 69, 70, 71, 72, 73, 74, 75, 76, 77, 78, 79, 80, 81, 82, 83, 84, 85, 86, 87, 88, 89, 90, 94, 95}\n",
      " \n",
      "---------------------------------------------------------\n",
      "job : \n",
      "{'self-employed', 'technician', 'entrepreneur', 'housemaid', 'retired', 'management', 'admin.', 'unemployed', 'student', 'blue-collar', 'services'}\n",
      " \n",
      "---------------------------------------------------------\n",
      "marital : \n",
      "{'married', 'divorced', 'single'}\n",
      " \n",
      "---------------------------------------------------------\n",
      "education : \n",
      "{'primary', 'tertiary', 'secondary'}\n",
      " \n",
      "---------------------------------------------------------\n",
      "default : \n",
      "{'no', 'yes'}\n",
      " \n",
      "---------------------------------------------------------\n",
      "balance : \n",
      "{0, 1, 2, 3, 4, 5, 6, 7, 8, 9, 10, 11, 12, 13, 14, 15, 16, 17, 18, 19, 20, 21, 22, 23, 24, 25, 26, 27, 28, 29, 30, 31, 32, 33, 34, 35, 36, 37, 38, 39, 40, 41, 42, 43, 44, 45, 46, 47, 48, 49, 50, 51, 52, 53, 54, 55, 56, 57, 58, 59, 60, 61, 62, 63, 64, 65, 66, 67, 68, 69, 70, 71, 72, 73, 74, 75, 76, 77, 78, 79, 80, 81, 82, 83, 84, 85, 86, 87, 88, 89, 90, 91, 92, 93, 94, 95, 96, 97, 98, 99, 100, 101, 102, 103, 104, 105, 106, 107, 108, 109, 110, 111, 112, 113, 114, 115, 116, 117, 118, 119, 120, 121, 122, 123, 124, 125, 126, 127, 128, 129, 130, 131, 132, 133, 134, 135, 136, 137, 138, 139, 140, 141, 142, 143, 144, 145, 146, 147, 148, 149, 150, 151, 152, 153, 154, 155, 156, 157, 158, 159, 160, 161, 162, 163, 164, 165, 166, 167, 168, 169, 170, 171, 172, 173, 174, 175, 176, 177, 178, 179, 180, 181, 182, 183, 184, 185, 186, 187, 188, 189, 190, 191, 192, 193, 194, 195, 196, 197, 198, 199, 200, 201, 202, 203, 204, 205, 206, 207, 208, 209, 210, 211, 212, 213, 214, 215, 216, 217, 218, 219, 220, 221, 222, 223, 224, 225, 226, 227, 228, 229, 230, 231, 232, 233, 234, 235, 236, 237, 238, 239, 240, 241, 242, 243, 244, 245, 246, 247, 248, 249, 250, 251, 252, 253, 254, 255, 256, 257, 258, 259, 260, 261, 262, 263, 264, 265, 266, 267, 268, 269, 270, 271, 272, 273, 274, 275, 276, 277, 278, 279, 280, 281, 282, 283, 284, 285, 286, 287, 288, 289, 290, 291, 292, 293, 294, 295, 296, 297, 298, 299, 300, 301, 302, 303, 304, 305, 306, 307, 308, 309, 310, 311, 312, 313, 314, 315, 316, 317, 318, 319, 320, 321, 322, 323, 324, 325, 326, 327, 328, 329, 330, 331, 332, 333, 334, 335, 336, 337, 338, 339, 340, 341, 342, 343, 344, 345, 346, 347, 348, 349, 350, 351, 352, 353, 354, 355, 356, 357, 358, 359, 360, 361, 362, 363, 364, 365, 366, 367, 368, 369, 370, 371, 372, 373, 374, 375, 376, 377, 378, 379, 380, 381, 382, 383, 384, 385, 386, 387, 388, 389, 390, 391, 392, 393, 394, 395, 396, 397, 398, 399, 400, 401, 402, 403, 404, 405, 406, 407, 408, 409, 410, 411, 412, 413, 414, 415, 416, 417, 418, 419, 420, 421, 422, 423, 424, 425, 426, 427, 428, 429, 430, 431, 432, 433, 434, 435, 436, 437, 438, 439, 440, 441, 442, 443, 444, 445, 446, 447, 448, 449, 450, 451, 452, 453, 454, 455, 456, 457, 458, 459, 460, 461, 462, 463, 464, 465, 466, 467, 468, 469, 470, 471, 472, 473, 474, 475, 476, 477, 478, 479, 480, 481, 482, 483, 484, 485, 486, 487, 488, 489, 490, 491, 492, 493, 494, 495, 496, 497, 498, 499, 500, 501, 502, 503, 504, 505, 506, 507, 508, 509, 510, 511, 512, 513, 514, 515, 516, 517, 518, 519, 520, 521, 522, 523, 524, 525, 526, 527, 528, 529, 530, 531, 532, 533, 534, 535, 536, 537, 538, 539, 540, 541, 542, 543, 544, 545, 546, 547, 548, 549, 550, 551, 552, 553, 554, 555, 556, 557, 558, 559, 560, 561, 562, 563, 564, 565, 566, 567, 568, 569, 570, 571, 572, 573, 574, 575, 576, 577, 578, 579, 580, 581, 582, 583, 584, 585, 586, 587, 588, 589, 590, 591, 592, 593, 594, 595, 596, 597, 598, 599, 600, 601, 602, 603, 604, 605, 606, 607, 608, 609, 610, 611, 612, 613, 614, 615, 616, 617, 618, 619, 620, 621, 622, 623, 624, 625, 626, 627, 628, 629, 630, 631, 632, 633, 634, 635, 636, 637, 638, 639, 640, 641, 642, 643, 644, 645, 646, 647, 648, 649, 650, 651, 652, 653, 654, 655, 656, 657, 658, 659, 660, 661, 662, 663, 664, 665, 666, 667, 668, 669, 670, 671, 672, 673, 674, 675, 676, 677, 678, 679, 680, 681, 682, 683, 684, 685, 686, 687, 688, 689, 690, 691, 692, 693, 694, 695, 696, 697, 698, 699, 700, 701, 702, 703, 704, 705, 706, 707, 708, 709, 710, 711, 712, 713, 714, 715, 716, 717, 718, 719, 720, 721, 722, 723, 724, 725, 726, 727, 728, 729, 730, 731, 732, 733, 734, 735, 736, 737, 738, 739, 740, 741, 742, 743, 744, 745, 746, 747, 748, 749, 750, 751, 752, 753, 754, 755, 756, 757, 758, 759, 760, 761, 762, 763, 764, 765, 766, 767, 768, 769, 770, 771, 772, 773, 774, 775, 776, 777, 778, 779, 780, 781, 782, 783, 784, 785, 786, 787, 788, 789, 790, 791, 792, 793, 794, 795, 796, 797, 798, 799, 800, 801, 802, 803, 804, 805, 806, 807, 808, 809, 810, 811, 812, 813, 814, 815, 816, 817, 818, 819, 820, 821, 822, 823, 824, 825, 826, 827, 828, 829, 830, 831, 832, 833, 834, 835, 836, 837, 838, 839, 840, 841, 842, 843, 844, 845, 846, 847, 848, 849, 850, 851, 852, 853, 854, 855, 856, 857, 858, 859, 860, 861, 862, 863, 864, 865, 866, 867, 868, 869, 870, 871, 872, 873, 874, 875, 876, 877, 878, 879, 880, 881, 882, 883, 884, 885, 886, 887, 888, 889, 890, 891, 892, 893, 894, 895, 896, 897, 898, 899, 900, 901, 902, 903, 904, 905, 906, 907, 908, 909, 910, 911, 912, 913, 914, 915, 916, 917, 918, 919, 920, 921, 922, 923, 924, 925, 926, 927, 928, 929, 930, 931, 932, 933, 934, 935, 936, 937, 938, 939, 940, 941, 942, 943, 944, 945, 946, 947, 948, 949, 950, 951, 952, 953, 954, 955, 956, 957, 958, 959, 960, 961, 962, 963, 964, 965, 966, 967, 968, 969, 970, 971, 972, 973, 974, 975, 976, 977, 978, 979, 980, 981, 982, 983, 984, 985, 986, 987, 988, 989, 990, 991, 992, 993, 994, 995, 996, 997, 998, 999, 1000, 1001, 1002, 1003, 1004, 1005, 1006, 1007, 1008, 1009, 1010, 1011, 1012, 1013, 1014, 1015, 1016, 1017, 1018, 1019, 1020, 1021, 1022, 1023, 1024, 1025, 1026, 1027, 1028, 1029, 1030, 1031, 1032, 1033, 1034, 1035, 1036, 1037, 1038, 1039, 1040, 1041, 1042, 1043, 1044, 1045, 1046, 1047, 1048, 1049, 1050, 1051, 1052, 1053, 1054, 1055, 1056, 1057, 1058, 1059, 1060, 1061, 1062, 1063, 1064, 1065, 1066, 1067, 1068, 1069, 1070, 1071, 1072, 1073, 1074, 1075, 1076, 1077, 1078, 1079, 1080, 1081, 1082, 1083, 1084, 1085, 1086, 1087, 1088, 1089, 1090, 1091, 1092, 1093, 1094, 1095, 1096, 1097, 1098, 1099, 1100, 1101, 1102, 1103, 1104, 1105, 1106, 1107, 1108, 1109, 1110, 1111, 1112, 1113, 1114, 1115, 1116, 1117, 1118, 1119, 1120, 1121, 1122, 1123, 66653, 1125, 1126, 1127, 1128, 1129, 1130, 1131, 1124, 1133, 1134, 1135, 1136, 1137, 1138, 1139, 1140, 1141, 1142, 1143, 1144, 1145, 1146, 1147, 1148, 1149, 1150, 1151, 1152, 1153, 1154, 1155, 1156, 1157, 1158, 1159, 1160, 1161, 1162, 1163, 1164, 1165, 1166, 1167, 1168, 1169, 1170, 1171, 1172, 1173, 1174, 1175, 1176, 1177, 1178, 1179, 1180, 1181, 1182, 1183, 1184, 1185, 1186, 1187, 1188, 66721, 1190, 1191, 1192, 1193, 1194, 1195, 1196, 1197, 1198, 1199, 1200, 1201, 1202, 1203, 1204, 1205, 1206, 1207, 1208, 1209, 1210, 1211, 1212, 1213, 1214, 1215, 1216, 1217, 1218, 1219, 1220, 1221, 1222, 1223, 1224, 1225, 1226, 1227, 1228, 1229, 1230, 1231, 1232, 1233, 1234, 1235, 1236, 1238, 1239, 1240, 1241, 1242, 1243, 1244, 1245, 1246, 1247, 1248, 1249, 1250, 1251, 1252, 1253, 1254, 1255, 1256, 1257, 1258, 1259, 1260, 1261, 1262, 1263, 1264, 1265, 1266, 1267, 1268, 1269, 1270, 1271, 1272, 1273, 1274, 1275, 1276, 1277, 1278, 1279, 1280, 1281, 1282, 1283, 1284, 1285, 1286, 1287, 1288, 1289, 1290, 1291, 1292, 1293, 1294, 1295, 1296, 1297, 1298, 1299, 1300, 1301, 1302, 1303, 1304, 1305, 1306, 1307, 1308, 1309, 1310, 1311, 1312, 1313, 1314, 1315, 1316, 1317, 1318, 1319, 1320, 1321, 1322, 1323, 1324, 1325, 1326, 1327, 1328, 1329, 1330, 1331, 1332, 1333, 1334, 1335, 1336, 1337, 1338, 1339, 1340, 1341, 1342, 1343, 1344, 1345, 1346, 1347, 1348, 1349, 1350, 1351, 1352, 1353, 1354, 1355, 1356, 1357, 1358, 1359, 1360, 1361, 1362, 1363, 1364, 1366, 1367, 1368, 1369, 1370, 1371, 1372, 1373, 1374, 1375, 1376, 1377, 1378, 1379, 1380, 1381, 1382, 1383, 1384, 1385, 1386, 1387, 1388, 1389, 1390, 1391, 1392, 1393, 1394, 1395, 1396, 1397, 1398, 1399, 1400, 1401, 1402, 1403, 1404, 1405, 1406, 1407, 1408, 1409, 1410, 1411, 1412, 1413, 1414, 1415, 1416, 1417, 1418, 1419, 1420, 1421, 1422, 1423, 1424, 1425, 1426, 1428, 1429, 1430, 1431, 1432, 1433, 1434, 1435, 1436, 1437, 1438, 1439, 1440, 1441, 1442, 1443, 1444, 1445, 1446, 1447, 1448, 1449, 1450, 1451, 1452, 1453, 1454, 1455, 1456, 1457, 1458, 1459, 1460, 1461, 34230, 1463, 1464, 1465, 1466, 1467, 1468, 1469, 1470, 1471, 1472, 1473, 1474, 1475, 1476, 1477, 1478, 34247, 1480, 1481, 1482, 1483, 1484, 1485, 1486, 1479, 1489, 1490, 1491, 1492, 1493, 1494, 1495, 1496, 1497, 1498, 1499, 1500, 1501, 1502, 1503, 1504, 1506, 1507, 1508, 1509, 1510, 1511, 1512, 1513, 1514, 1515, 1516, 1517, 1518, 1519, 1520, 1521, 1522, 1523, 1524, 1525, 1526, 1527, 1528, 1529, 1530, 1531, 1532, 1533, 1534, 1535, 1536, 1537, 1538, 1539, 1540, 1541, 1543, 1544, 1545, 1546, 1547, 1548, 1549, 1550, 1551, 1553, 1554, 1555, 1556, 1557, 1558, 1559, 1560, 1561, 1562, 1563, 1564, 1565, 1566, 1567, 1568, 1569, 1570, 1571, 1572, 1573, 1574, 1575, 1576, 1577, 1578, 1579, 1580, 1581, 1582, 1583, 1584, 1585, 1586, 1587, 1588, 1589, 1590, 1591, 1592, 1593, 1594, 1595, 1596, 1597, 1598, 1599, 1600, 1601, 1602, 1603, 1604, 1605, 1606, 1608, 1609, 1610, 1611, 1612, 1613, 1614, 1615, 1616, 1617, 1618, 1619, 1621, 1622, 1623, 1624, 1625, 1626, 1627, 1628, 1629, 1630, 1631, 1632, 1633, 1634, 1635, 1636, 1637, 1638, 1639, 1640, 1641, 1642, 1643, 1644, 1645, 1646, 1647, 1648, 1649, 1650, 1651, 1653, 1654, 1655, 1657, 1659, 1660, 1661, 1662, 1663, 1664, 1666, 1667, 1669, 1670, 1671, 1672, 1673, 1674, 1675, 1676, 1678, 1679, 1680, 1681, 1682, 1683, 1684, 1685, 1686, 1687, 1688, 1689, 1690, 1691, 1692, 1693, 1694, 1696, 1697, 1698, 1699, 1700, 1701, 1702, 1703, 1704, 1705, 1706, 1707, 1708, 1709, 1710, 1711, 1712, 1713, 1714, 1715, 1716, 1717, 1718, 1719, 1720, 1721, 1722, 1723, 1724, 1725, 1726, 1727, 1728, 1729, 1730, 1731, 1732, 1733, 1734, 1735, 1736, 1737, 1738, 1739, 1740, 1741, 1742, 1743, 1745, 1746, 1747, 1749, 1750, 1751, 1752, 1753, 1756, 1757, 1758, 1759, 1760, 1761, 1762, 1763, 1764, 1765, 1766, 1767, 1768, 1769, 1770, 1772, 1773, 1774, 1775, 1776, 1777, 1778, 1779, 1780, 1781, 1782, 1783, 1784, 1785, 1786, 1787, 1788, 1790, 1791, 1792, 1794, 1795, 1796, 1797, 1798, 1800, 1801, 1802, 1803, 1804, 1805, 1806, 1807, 1808, 1809, 1810, 1811, 1812, 1813, 1814, 1815, 1816, 1817, 1818, 1819, 1820, 1821, 1822, 1823, 1824, 1825, 1826, 1828, 1830, 1831, 1832, 1833, 1834, 1835, 1836, 1837, 1838, 1839, 1840, 1841, 1842, 1843, 1844, 1846, 1847, 1849, 1850, 1851, 1852, 1853, 1854, 1855, 1856, 1857, 1858, 1859, 1860, 1861, 1863, 1864, 1865, 1866, 1867, 1868, 1869, 1870, 1871, 1872, 1873, 1874, 1875, 1876, 34646, 1879, 1880, 1878, 1882, 1881, 1884, 1883, 1886, 1887, 1888, 1889, 1890, 1891, 1885, 1893, 1894, 1895, 1896, 1897, 1898, 1899, 1900, 1901, 1902, 1903, 1904, 1905, 1906, 1907, 1908, 1909, 1910, 1911, 1912, 1913, 1914, 1915, 1916, 1918, 1919, 1920, 1921, 1922, 1923, 1924, 1925, 1926, 1927, 1928, 1929, 1930, 32948, 1932, 1933, 1934, 1931, 1937, 1938, 1939, 1940, 1941, 1942, 1943, 1944, 1945, 1946, 1947, 1948, 1949, 1950, 1951, 1952, 1953, 1954, 1955, 1956, 1957, 1958, 1959, 1960, 1961, 1962, 1963, 1965, 1966, 1967, 1968, 1969, 1970, 1971, 1972, 1973, 1974, 1975, 1976, 1977, 1978, 1979, 1980, 1981, 1982, 1983, 1984, 1986, 1987, 1988, 1989, 1990, 1991, 1992, 1993, 1994, 1995, 1996, 1997, 1998, 2000, 2002, 2003, 2004, 2007, 2008, 2010, 2011, 2012, 2013, 2014, 2015, 2016, 2017, 2018, 2019, 2020, 2021, 2023, 2024, 2025, 2026, 2027, 2030, 2031, 2032, 2033, 2034, 2036, 2037, 2038, 2039, 2040, 2041, 2043, 2044, 2045, 2046, 2047, 2048, 2050, 2052, 2053, 2054, 2055, 2058, 2059, 2060, 2061, 2063, 2064, 2065, 2066, 2067, 2068, 2069, 2070, 2071, 2072, 2074, 2076, 2077, 2079, 2080, 2081, 2083, 2084, 2085, 2086, 2087, 2088, 2089, 2091, 2093, 2094, 2095, 2096, 2098, 2100, 2101, 2102, 2103, 2104, 2105, 2107, 2108, 2109, 2110, 2111, 2112, 2114, 2115, 2116, 2117, 2118, 2120, 2121, 2122, 2123, 2124, 2125, 2126, 2127, 2128, 2129, 2130, 2131, 2132, 2133, 2134, 2135, 2137, 2138, 2139, 2140, 2141, 2142, 2143, 2144, 2145, 2146, 2147, 2148, 2149, 2151, 2152, 2153, 2154, 2155, 2156, 2157, 2158, 2159, 2160, 2161, 2162, 2163, 2164, 2165, 2166, 2167, 2168, 2169, 2170, 2171, 2172, 2173, 2174, 2178, 2179, 2180, 2182, 2183, 2184, 2185, 2187, 2189, 2190, 2191, 2192, 2194, 2195, 2196, 2198, 2199, 2200, 2201, 2202, 2203, 2204, 2205, 2206, 2208, 2209, 2211, 2212, 2213, 2214, 2215, 2216, 2218, 2219, 2220, 2221, 2222, 2223, 2225, 2226, 2227, 2228, 2230, 2231, 2232, 2233, 2235, 2236, 2237, 2239, 2240, 2242, 2243, 2244, 2245, 2246, 2248, 2249, 2251, 2252, 2253, 2254, 2255, 2257, 2258, 2260, 2261, 2262, 2263, 2264, 2265, 2266, 2267, 2268, 2269, 2270, 2271, 2273, 2275, 2277, 2278, 2279, 2280, 2281, 2282, 2283, 2284, 2287, 2288, 2289, 2290, 2291, 2293, 2294, 2295, 2296, 2297, 2298, 2299, 2300, 2301, 2302, 2303, 2304, 2305, 2306, 2307, 2308, 2309, 2310, 2311, 2312, 2313, 2315, 2316, 2317, 2319, 2320, 2321, 2322, 2323, 2324, 2325, 2326, 2327, 2328, 2329, 2330, 2331, 2332, 2333, 2335, 2336, 2338, 2339, 2340, 2341, 2342, 2343, 2344, 2345, 2346, 2347, 2348, 2349, 2350, 2351, 2352, 2353, 2354, 2355, 2356, 2357, 2358, 2359, 2360, 2361, 2362, 2363, 2364, 2365, 2366, 2367, 2368, 2369, 2370, 2371, 2374, 2376, 2377, 2378, 2380, 2381, 2383, 2384, 2385, 2386, 2387, 2388, 2389, 2390, 2391, 2392, 2394, 2395, 2396, 2397, 2398, 2399, 2400, 2401, 2403, 2404, 2405, 2406, 2408, 2409, 2410, 2411, 2412, 2414, 2415, 2416, 2417, 2419, 2420, 2421, 2422, 2423, 2424, 2426, 2427, 2428, 2429, 2430, 2431, 2432, 2433, 2436, 2437, 2439, 2440, 2441, 2442, 2443, 2444, 2447, 2450, 2451, 2452, 2453, 2454, 2455, 2456, 2457, 2458, 2460, 2461, 2463, 2464, 2465, 2466, 2467, 2468, 2469, 2470, 2471, 2472, 2473, 2474, 2475, 2476, 2478, 2479, 2480, 2481, 2483, 2484, 2485, 2486, 2487, 2488, 2489, 2490, 2493, 2495, 2496, 2497, 2498, 2499, 2500, 2501, 2502, 2503, 2505, 2506, 2509, 2511, 2512, 2514, 2515, 2516, 2517, 2518, 2519, 2520, 2521, 2523, 2524, 2526, 2528, 2530, 2531, 2532, 2533, 2534, 2536, 2537, 2538, 2539, 2540, 2541, 2542, 2543, 2544, 2547, 2548, 2549, 2550, 2551, 2552, 2553, 2554, 2555, 2556, 2557, 2558, 2559, 2561, 2562, 2564, 2565, 2567, 2568, 2569, 2570, 2572, 2573, 2574, 2575, 2576, 2578, 2579, 2580, 2581, 2582, 2583, 2584, 2585, 2586, 2587, 2589, 2590, 2591, 2592, 2594, 2595, 2596, 2597, 2598, 2599, 2600, 2601, 2603, 2604, 2605, 2607, 2609, 2610, 2611, 2613, 2614, 2615, 2616, 2617, 2618, 2619, 2621, 2622, 2625, 2626, 2627, 2628, 2629, 2632, 2633, 2635, 2636, 2637, 2639, 2640, 2642, 2643, 2644, 2646, 2647, 2648, 2650, 2651, 2652, 2653, 2655, 2656, 2657, 2658, 2660, 2661, 2662, 2663, 2664, 2665, 2666, 2667, 2668, 2669, 2671, 2672, 2673, 2674, 2675, 2676, 2677, 2678, 2679, 2681, 2682, 2683, 2684, 2685, 2686, 2687, 2688, 2689, 2690, 2693, 2694, 2695, 2696, 2697, 2699, 2700, 2702, 2703, 2704, 2705, 2706, 2707, 2708, 2711, 2713, 2714, 2716, 2717, 2718, 2719, 2720, 2722, 2723, 2725, 2726, 2728, 2729, 2730, 2731, 2732, 2733, 2734, 2735, 2737, 2739, 2740, 2743, 2744, 2745, 2746, 2747, 2749, 2750, 2752, 2753, 2755, 2756, 2757, 2758, 2759, 2761, 2762, 2763, 2764, 2765, 2766, 2767, 2768, 2769, 2770, 2772, 2774, 2775, 2776, 2777, 2779, 2780, 2781, 2782, 2783, 2784, 2785, 2786, 2787, 2789, 2790, 2791, 2793, 2795, 2796, 2798, 2799, 2800, 2801, 2802, 2803, 2805, 2806, 2809, 2811, 2812, 2813, 2814, 2815, 2816, 2817, 2818, 2819, 2820, 35589, 2821, 2823, 2825, 2829, 2830, 2831, 2832, 2833, 2835, 2836, 2838, 2840, 2841, 2843, 2845, 2846, 2847, 2848, 2849, 2850, 2851, 2853, 2854, 2855, 2856, 2857, 2858, 2859, 2861, 2862, 2863, 2868, 2869, 2870, 2873, 2875, 2876, 2877, 2878, 2879, 2880, 2881, 2883, 2885, 2886, 2887, 2889, 2891, 2892, 2893, 2894, 2895, 2896, 2897, 2900, 2901, 2903, 2904, 2907, 2909, 2910, 2911, 2913, 2914, 2915, 2916, 2917, 2918, 2919, 2920, 2921, 2922, 2923, 2924, 2925, 2926, 2927, 2928, 2929, 2931, 2934, 2935, 2937, 2938, 2939, 2940, 2944, 2945, 2946, 2948, 2950, 2951, 2952, 2953, 2954, 2955, 2956, 2957, 2958, 2959, 2960, 2961, 2964, 2965, 2969, 2970, 2971, 2972, 2974, 2975, 2976, 2977, 2978, 2979, 2980, 2981, 2983, 2984, 2985, 2987, 2988, 2990, 2991, 2992, 2993, 2994, 2995, 2996, 2998, 2999, 3000, 3002, 3003, 3006, 3007, 3008, 3009, 3012, 3013, 3014, 3016, 3017, 3018, 3020, 3023, 3024, 3025, 3026, 3027, 3028, 3029, 3030, 3031, 3033, 3035, 3036, 3037, 3038, 3039, 3041, 3043, 3044, 3045, 3046, 3047, 3048, 3049, 3050, 3051, 3052, 3053, 3054, 3056, 3058, 3059, 3060, 3062, 3063, 3064, 3067, 3068, 3069, 3070, 3071, 3072, 32685, 3074, 3075, 3076, 3079, 3080, 3082, 3083, 3086, 3090, 3091, 3092, 3094, 3095, 3096, 3097, 3098, 3100, 3102, 3103, 3104, 3105, 3107, 3108, 3109, 3111, 3113, 3114, 3115, 3117, 3118, 3119, 3120, 3122, 3123, 3126, 3131, 3132, 3133, 3134, 3136, 3137, 3138, 3139, 3140, 3141, 3142, 3143, 3144, 3145, 3148, 3149, 3150, 3151, 3154, 3155, 3156, 3157, 3158, 3160, 3161, 3163, 3164, 3165, 3166, 3167, 3168, 3169, 3170, 3172, 3173, 3175, 3176, 3177, 3178, 3180, 3181, 3184, 3185, 3186, 3187, 3188, 3189, 3192, 3194, 3195, 3197, 3198, 3199, 3201, 3202, 3203, 3204, 3206, 3207, 3211, 3213, 3214, 3215, 3217, 3219, 3220, 3221, 3222, 3226, 3228, 3229, 3230, 3232, 3234, 3236, 3237, 3240, 3241, 3242, 3243, 3244, 3250, 3252, 3255, 3258, 3259, 3260, 3262, 3263, 3264, 3266, 3267, 3268, 3269, 3270, 3271, 3275, 3276, 3278, 3279, 3280, 3282, 3283, 3284, 3285, 3286, 3287, 3288, 3289, 3290, 3293, 3294, 3295, 3296, 3297, 3300, 3301, 3302, 3304, 3305, 3307, 3308, 3309, 3310, 3311, 3313, 3314, 3315, 3317, 3321, 3322, 3323, 3324, 3327, 3329, 3330, 3331, 3332, 3333, 3334, 3335, 3337, 3338, 3340, 3342, 3343, 3344, 3345, 3347, 3348, 3349, 3350, 3352, 3353, 3354, 3355, 3357, 3358, 3360, 3361, 3362, 3363, 3364, 3366, 3367, 3368, 3369, 3370, 3371, 3372, 3373, 3376, 3377, 3379, 3382, 3384, 3386, 3387, 3390, 3391, 3392, 3395, 3396, 3398, 3399, 3400, 3401, 3402, 3403, 3404, 3405, 3406, 3407, 3409, 3410, 3411, 3412, 3414, 3415, 3417, 3418, 3419, 3420, 3421, 3422, 3426, 3427, 3429, 3430, 3431, 3432, 3434, 3436, 3438, 3440, 3442, 3443, 3444, 3445, 3446, 3450, 3451, 3452, 36221, 3455, 3458, 3459, 3460, 3461, 3462, 3463, 3465, 3466, 3469, 3470, 3471, 3472, 3473, 3478, 3480, 3481, 36252, 3485, 3486, 3487, 3490, 3493, 3494, 3495, 3498, 3499, 3500, 3501, 3504, 3505, 3507, 3508, 3510, 3511, 3512, 3514, 3516, 3518, 3519, 3520, 3524, 3527, 3528, 3529, 3530, 3531, 3533, 3536, 3537, 3538, 3540, 3542, 3544, 3546, 3547, 3549, 3550, 3551, 3552, 3554, 3556, 3558, 3559, 3560, 3561, 3562, 3564, 3568, 3570, 3571, 3572, 3573, 3574, 3575, 3576, 3577, 3578, 3579, 3584, 3585, 3586, 3588, 3589, 3590, 3591, 3595, 3601, 3603, 3604, 3605, 3608, 3610, 3611, 3612, 3615, 3616, 3620, 3623, 3624, 3625, 3626, 3628, 3629, 3630, 3632, 3634, 3635, 3636, 3638, 3640, 98417, 3643, 3644, 3646, 3648, 3649, 3651, 3652, 3653, 3654, 3655, 3656, 3658, 3659, 3662, 3663, 3664, 3665, 3669, 3672, 3674, 3676, 3677, 3679, 3681, 3684, 3685, 3687, 3688, 3689, 3690, 3694, 3695, 3696, 3698, 3700, 3701, 3702, 3703, 3704, 3705, 3706, 3710, 3711, 3713, 3715, 3717, 3718, 3720, 3721, 3723, 3724, 3726, 3727, 3728, 3729, 3730, 3732, 3733, 3735, 3736, 3737, 3738, 3739, 3740, 3743, 3745, 3748, 3750, 3751, 3752, 3754, 3760, 3761, 3762, 3764, 3765, 3766, 3767, 3769, 3770, 3771, 3773, 3774, 3776, 3777, 3778, 3779, 3780, 3782, 3786, 3792, 3794, 3795, 3796, 3797, 3798, 3800, 3803, 3805, 3806, 3810, 3812, 3813, 3814, 3815, 3816, 3817, 3818, 3819, 3820, 3821, 3823, 3824, 3825, 102127, 3827, 3829, 3831, 3832, 3834, 3837, 3839, 3840, 3841, 3842, 3843, 3844, 3845, 3846, 3848, 3849, 3850, 3851, 3854, 3856, 3857, 3858, 3859, 3863, 3864, 3867, 3868, 3869, 3870, 3872, 3873, 3874, 3875, 3876, 3881, 3884, 3885, 3886, 3889, 3895, 3897, 3899, 3902, 3904, 3905, 3908, 3910, 3911, 3913, 3914, 3915, 3917, 3918, 3919, 36686, 3921, 3923, 3924, 3926, 3927, 3929, 3931, 3933, 3935, 3936, 3939, 3940, 3941, 3943, 3944, 3945, 3947, 3948, 3949, 3950, 3951, 3953, 3954, 3957, 3959, 3962, 3967, 3969, 3970, 3972, 3973, 3975, 3977, 3981, 3982, 3984, 3986, 3988, 3990, 3992, 3993, 3994, 3995, 3998, 3999, 4000, 4003, 4004, 4005, 4006, 4007, 4012, 4014, 4015, 4016, 4017, 4020, 4022, 4023, 4024, 4025, 4028, 4030, 4031, 4038, 4039, 4040, 4041, 4043, 4044, 4047, 4048, 4053, 4054, 4056, 4060, 4062, 4063, 4064, 4066, 4068, 4069, 4071, 4073, 4079, 4082, 4083, 4089, 4091, 4094, 4099, 4101, 4103, 4104, 4105, 4108, 4111, 4112, 4116, 4117, 4118, 4119, 4121, 4123, 4124, 4126, 4127, 4129, 4130, 4132, 4133, 4135, 4136, 4140, 4143, 4145, 4146, 4147, 4148, 4149, 4151, 4152, 4153, 4158, 4162, 36935, 4168, 4170, 4173, 4174, 4176, 4177, 4178, 4182, 4185, 4186, 4189, 4190, 4194, 4196, 4198, 4200, 4210, 4211, 4213, 4216, 4227, 4229, 4230, 4231, 4233, 4235, 4236, 4239, 4240, 4243, 4247, 4248, 4253, 4254, 4256, 4259, 4260, 4262, 4263, 4265, 4269, 4274, 4276, 4278, 4279, 4280, 4286, 4287, 4291, 4293, 4295, 4297, 4298, 4300, 4301, 4305, 4306, 4312, 4314, 4315, 4317, 4319, 4320, 4321, 4323, 4324, 4328, 4329, 4331, 4332, 4333, 4335, 4336, 4339, 4341, 4343, 4344, 4348, 4353, 4354, 4357, 4358, 4359, 37127, 4365, 4366, 4367, 4372, 4373, 4374, 4380, 4381, 4382, 4383, 4385, 4386, 4387, 4388, 4389, 4391, 4392, 4393, 4394, 4395, 4396, 4397, 4399, 4401, 4402, 4404, 4406, 37176, 4409, 4411, 4412, 4414, 4415, 4416, 4418, 4420, 4424, 4425, 4428, 4430, 4432, 4436, 4439, 4440, 4441, 4442, 4443, 4447, 4448, 4450, 4451, 4453, 4455, 4457, 4459, 4460, 4461, 4463, 4464, 4465, 4466, 4471, 4475, 4477, 4480, 4487, 4488, 4490, 4492, 4493, 4495, 4497, 4500, 4503, 4504, 4508, 4515, 4517, 4519, 4520, 4522, 4527, 4531, 4533, 4536, 4537, 4539, 4542, 4543, 4544, 4545, 4547, 4554, 4557, 4558, 4561, 4562, 4564, 4565, 4567, 4570, 4572, 4574, 4575, 4576, 4577, 4578, 4579, 4580, 4581, 4582, 4588, 4589, 4590, 4591, 4592, 4593, 4594, 4596, 4597, 4599, 4602, 4605, 4606, 4608, 4610, 37378, 4612, 4613, 4617, 4619, 4629, 4634, 4636, 4638, 4642, 4644, 4645, 4646, 4647, 4649, 4654, 4655, 4656, 4657, 4659, 4660, 4661, 4664, 4675, 4676, 4680, 4683, 4684, 4687, 4688, 4692, 4693, 4694, 4695, 4696, 4697, 4700, 4708, 4709, 4711, 4712, 4713, 4714, 4717, 4718, 4719, 4720, 4721, 4723, 4725, 4726, 4728, 4733, 4736, 4738, 4741, 4744, 4745, 4749, 4751, 4752, 4758, 4760, 4761, 4763, 4764, 4765, 4769, 4770, 4771, 4772, 4775, 4777, 4778, 4782, 4785, 4786, 4787, 4788, 4789, 4790, 4792, 4793, 4795, 4800, 4803, 4805, 4807, 4808, 4809, 4816, 4819, 4824, 4826, 4829, 4831, 4833, 4835, 4837, 4841, 4842, 4843, 4844, 4845, 4847, 4848, 4850, 4852, 4853, 4855, 4856, 4859, 4860, 4861, 4867, 4869, 4872, 4873, 4874, 4877, 4879, 4885, 4886, 4887, 4888, 4889, 4894, 4896, 4900, 4902, 4903, 4904, 4906, 4908, 4909, 4910, 4912, 4914, 4917, 4920, 4922, 4923, 4924, 4925, 4929, 4930, 4932, 4937, 4943, 4945, 4948, 4951, 4953, 4954, 4958, 4959, 4960, 4961, 4962, 4963, 4965, 4967, 4968, 4969, 4971, 4974, 4976, 4978, 4979, 4982, 4984, 4985, 4986, 4987, 4990, 4991, 4994, 4996, 5000, 5003, 5004, 5005, 5007, 5008, 5009, 5010, 5012, 5016, 5021, 5024, 5028, 5037, 5038, 5039, 5041, 5045, 5047, 5048, 5049, 5057, 5058, 5059, 5060, 5061, 5063, 5065, 5068, 5073, 5074, 5075, 5076, 5078, 5082, 5083, 5084, 5086, 5087, 5089, 5091, 5092, 5094, 5102, 5106, 5108, 5110, 5112, 5114, 5115, 5116, 5118, 5119, 5122, 5124, 5126, 5127, 5129, 5130, 5131, 5132, 5133, 5137, 5142, 5145, 5151, 5152, 5156, 5157, 5163, 5164, 5167, 5169, 5171, 5177, 5181, 5187, 5188, 5191, 5193, 5195, 5196, 5204, 5205, 5206, 5207, 5214, 5215, 5219, 5220, 5222, 5223, 5231, 5235, 5236, 5238, 5239, 5244, 5248, 5249, 5250, 5251, 5252, 5253, 5260, 5261, 5262, 5265, 5266, 5267, 5270, 5271, 5275, 5276, 5282, 5284, 5287, 5289, 5291, 5293, 5296, 5301, 5303, 5304, 5306, 5310, 5312, 5313, 5314, 5315, 5317, 5320, 5326, 5329, 5331, 5334, 5340, 5341, 5343, 5345, 5347, 5350, 5354, 5355, 5359, 5361, 5365, 5367, 5372, 5380, 5381, 5389, 5393, 5396, 5397, 5399, 5401, 5403, 5414, 5417, 5418, 5420, 5423, 5427, 5431, 5432, 5436, 5437, 5441, 5442, 5443, 5445, 5447, 5450, 5452, 5455, 5461, 5462, 5464, 5467, 5473, 5474, 5475, 5482, 5483, 5486, 5491, 5495, 5496, 5498, 5505, 5506, 38279, 5511, 5514, 5517, 5521, 5533, 5535, 5539, 5542, 5547, 5548, 5549, 5550, 5551, 5553, 5558, 5560, 5561, 5562, 5563, 5564, 5567, 5569, 5574, 5581, 5583, 5584, 5600, 5601, 5603, 5607, 5608, 5610, 5613, 5618, 5619, 5626, 5631, 5632, 5639, 5641, 5643, 71188, 5665, 5666, 5670, 5673, 5674, 5679, 5680, 5681, 5689, 5691, 5694, 5695, 5698, 5699, 5701, 5704, 5705, 5706, 5709, 5711, 5715, 5717, 5722, 5728, 5731, 5733, 5737, 5739, 5741, 5742, 5745, 5746, 5749, 5754, 5757, 5758, 5763, 5766, 5768, 5769, 5774, 5776, 5780, 5781, 5784, 5787, 5788, 5789, 5792, 5794, 5795, 5797, 5798, 5802, 5803, 5805, 5806, 5809, 5810, 5811, 5816, 5828, 5829, 5833, 5836, 5838, 5845, 5848, 5850, 5854, 5861, 5862, 5865, 5871, 5872, 5873, 5874, 5878, 5883, 5885, 5887, 5902, 5903, 5904, 5907, 5909, 5910, 5916, 5918, 5926, 5927, 5934, 5935, 5936, 5942, 5943, 5944, 5945, 5946, 5949, 5953, 5956, 5957, 5958, 5964, 5966, 5969, 5972, 5973, 5976, 5978, 1189, 5988, 5990, 5993, 5996, 5997, 5999, 6000, 6004, 6005, 6008, 6012, 6014, 6016, 6027, 6030, 6036, 6042, 6043, 6046, 6053, 6056, 6059, 6060, 6077, 6080, 6086, 6089, 6095, 6101, 6106, 6107, 6108, 6112, 6114, 6116, 6127, 6132, 6138, 6144, 6150, 6153, 6157, 6158, 6162, 6164, 6170, 6171, 6172, 6174, 6178, 6181, 6182, 6187, 6188, 6191, 6199, 6200, 6203, 6205, 6212, 6215, 6217, 6236, 6237, 6242, 6246, 6248, 6251, 6253, 6258, 6264, 6269, 6271, 6274, 6279, 6280, 6281, 6284, 6285, 6286, 6288, 6290, 6316, 6322, 6324, 6325, 39098, 6332, 6333, 6337, 6343, 6346, 6350, 6352, 6359, 6362, 6368, 6376, 6383, 6384, 6385, 6388, 6392, 6393, 6400, 6402, 6403, 6404, 6410, 6411, 6413, 6419, 6422, 6424, 6427, 6429, 6432, 6438, 6447, 6449, 6463, 6468, 6475, 6481, 6483, 6485, 6486, 6490, 6491, 6492, 6493, 6495, 6503, 6507, 6512, 6513, 6519, 6525, 6526, 6529, 6533, 6535, 6538, 6542, 6551, 6554, 6557, 6562, 6563, 6567, 6570, 6571, 6572, 6573, 6574, 6586, 6590, 6596, 6610, 6613, 39385, 6619, 6627, 6637, 6641, 6649, 6651, 6657, 6659, 6662, 6671, 6673, 6677, 6683, 6684, 6687, 6690, 6691, 6695, 6699, 6700, 6703, 6704, 6706, 6707, 6710, 6711, 6718, 6728, 6737, 6739, 6742, 6743, 6745, 6746, 6748, 6753, 6754, 6762, 6763, 6766, 6767, 6770, 6771, 6781, 6784, 6791, 6797, 6798, 6807, 6808, 6809, 6812, 6815, 6817, 6822, 6825, 6831, 6835, 6837, 6839, 6840, 6843, 6844, 6850, 6851, 6857, 6873, 6878, 6879, 6880, 6882, 6888, 6889, 6900, 6904, 6909, 6915, 6922, 6933, 6945, 6947, 6958, 6961, 6963, 6964, 6968, 6969, 6971, 6979, 6980, 6981, 6982, 6983, 6991, 6993, 6994, 6997, 7003, 7005, 7007, 7010, 7019, 7020, 7028, 7032, 7038, 7041, 7048, 7049, 7050, 7051, 7063, 7066, 7073, 7084, 7089, 7098, 7100, 7102, 7103, 7104, 7105, 7107, 7108, 7111, 7114, 7119, 7132, 7134, 7135, 7138, 7154, 7159, 7162, 7171, 7179, 7180, 7190, 7192, 7195, 7197, 7203, 7208, 7218, 7222, 7225, 7242, 7249, 7252, 7254, 7255, 7263, 7279, 7289, 7290, 7296, 7303, 7313, 7317, 7331, 7336, 7338, 7343, 7345, 7351, 7353, 7357, 7365, 7369, 7378, 7384, 7386, 7387, 7396, 7400, 7408, 7419, 7426, 7429, 7433, 7441, 7443, 7444, 7449, 7458, 7459, 7464, 7468, 7469, 7475, 7485, 7487, 7503, 7506, 7513, 7518, 7522, 7529, 7530, 7531, 7541, 7546, 7547, 7554, 7558, 7560, 7567, 7578, 7595, 7602, 7604, 7608, 7612, 7613, 7620, 7621, 7622, 7623, 7628, 7631, 7633, 7635, 7641, 7649, 7668, 7673, 7685, 7696, 7699, 7704, 7707, 7708, 7711, 7717, 7724, 7735, 7741, 7742, 7743, 7744, 7747, 7752, 7766, 7773, 7780, 7781, 7785, 7788, 7791, 7800, 7802, 7803, 7813, 7816, 7818, 7822, 7825, 7838, 7848, 7863, 7870, 7876, 7879, 7881, 7895, 7900, 7907, 7918, 7928, 7929, 7935, 7944, 7945, 7957, 7962, 7968, 7973, 7974, 7982, 7984, 7985, 7990, 8000, 8004, 8014, 8015, 8016, 8017, 8023, 8025, 8029, 8032, 8037, 8038, 8040, 8043, 8044, 8047, 8066, 8077, 8079, 8089, 8093, 8094, 8097, 8101, 8103, 8104, 8106, 8112, 8118, 8119, 8121, 8131, 8135, 8136, 8138, 8139, 8141, 8142, 8148, 8152, 8163, 8165, 8167, 8180, 8195, 8205, 8218, 8224, 8226, 8229, 8230, 8238, 8259, 8262, 8265, 8266, 8277, 8278, 8279, 8295, 8300, 8303, 8304, 8309, 8311, 8312, 8332, 8334, 8339, 8351, 8366, 8381, 8399, 8402, 8408, 8413, 8422, 8434, 8436, 8444, 8449, 8460, 8463, 8465, 41242, 8480, 8486, 8489, 8491, 8494, 8509, 8514, 8535, 8536, 8538, 8545, 8548, 8553, 8554, 8556, 8563, 8564, 8583, 8585, 8600, 8603, 8619, 8623, 8626, 8627, 8629, 8637, 8647, 8648, 8649, 8654, 8666, 8669, 8689, 8692, 8725, 8729, 8749, 8750, 8758, 8781, 8785, 8821, 8826, 8844, 8859, 41630, 8863, 8866, 8873, 8876, 8883, 8892, 8897, 8899, 8902, 8903, 8918, 8929, 8947, 8950, 8953, 8957, 8963, 8969, 8973, 8979, 8982, 8990, 9001, 9002, 9009, 9047, 9049, 9064, 9072, 9077, 9083, 9102, 9131, 9135, 9139, 9143, 9146, 9149, 9154, 41923, 9160, 9173, 9202, 9207, 9216, 9221, 9228, 9261, 9262, 9269, 42045, 9277, 9299, 9301, 9304, 9305, 9306, 9314, 9317, 9319, 9324, 9329, 9336, 9339, 9346, 9347, 9366, 9367, 9374, 9407, 9421, 9444, 9447, 9449, 9480, 9506, 1892, 9531, 9541, 9579, 9585, 9601, 9608, 9609, 9610, 9618, 9622, 9629, 9630, 9634, 9645, 9664, 9670, 9676, 9678, 9680, 9683, 9698, 9710, 9714, 9720, 9750, 9756, 9774, 9804, 9827, 9851, 9864, 9881, 9883, 9895, 9898, 9902, 9911, 9916, 9935, 9962, 9965, 9994, 9997, 10005, 10021, 10031, 10041, 10045, 10052, 10054, 10065, 10072, 10077, 10086, 10088, 10112, 10114, 10122, 10133, 10142, 10150, 10152, 10171, 10177, 10180, 10185, 10191, 10200, 10215, 10218, 10250, 10252, 10253, 10269, 10273, 10281, 10287, 43074, 10346, 10347, 10350, 10354, 10357, 10373, 10374, 10378, 10386, 10394, 10395, 10406, 10438, 10443, 10451, 10469, 10500, 10532, 10536, 10541, 10558, 10583, 10596, 10613, 10621, 10628, 10639, 10653, 10655, 10667, 10685, 10697, 10735, 10757, 10758, 10768, 10772, 10773, 10776, 10834, 10861, 10884, 10888, 10889, 10890, 10905, 10907, 10910, 10924, 10925, 10943, 10950, 10971, 10995, 11008, 11066, 11093, 11103, 11126, 11174, 11177, 11219, 11222, 11240, 11246, 11254, 11262, 11278, 11281, 11287, 11303, 11305, 11310, 11350, 44128, 44134, 11371, 11385, 11386, 11387, 11391, 11431, 11462, 11494, 11512, 11524, 11532, 11555, 11563, 11591, 11639, 11650, 11655, 11675, 11686, 11752, 11754, 11757, 11766, 11767, 11797, 11821, 11835, 11839, 11854, 11862, 11887, 11891, 11904, 11968, 11971, 11998, 12018, 12026, 12039, 12048, 12061, 12067, 12114, 12130, 12132, 12159, 12177, 12198, 12212, 12223, 12226, 12256, 12264, 12270, 12322, 12356, 12389, 12392, 12401, 12409, 12437, 12438, 12495, 12519, 12531, 12539, 12569, 12584, 12607, 12618, 12634, 12675, 12686, 12704, 12705, 12731, 12737, 12766, 12767, 12855, 12857, 12926, 12928, 12939, 12956, 12972, 12980, 13014, 13015, 45789, 13021, 13044, 13054, 13094, 13099, 13107, 13118, 13156, 13160, 13164, 13165, 13186, 13189, 13204, 13229, 13238, 13297, 13315, 13338, 13342, 13354, 13408, 13410, 13450, 13460, 13489, 13546, 13565, 13578, 13620, 13654, 13658, 13669, 13683, 13711, 13718, 13763, 13774, 13818, 13834, 13836, 13849, 13851, 13853, 13874, 13887, 13901, 13930, 13931, 14004, 14054, 14058, 14093, 14107, 14144, 14148, 14170, 14190, 14204, 14215, 14220, 14232, 14282, 14344, 14355, 14387, 14412, 14440, 14462, 14522, 14530, 14611, 14646, 14657, 14679, 14850, 14889, 14922, 14930, 14968, 15030, 15035, 15062, 15120, 15161, 15169, 15187, 15261, 15265, 15298, 15302, 15311, 15341, 15423, 15437, 15445, 15449, 15459, 15474, 15485, 15515, 15520, 15561, 81204, 15787, 15834, 15841, 15904, 16119, 16125, 16178, 16236, 16264, 16353, 16358, 16377, 16397, 16430, 16432, 16486, 16489, 16517, 16563, 16649, 16727, 16786, 16869, 16873, 16874, 16922, 16935, 16957, 16992, 17008, 17023, 17056, 17092, 17118, 17206, 17332, 17335, 17410, 17418, 17432, 17441, 17455, 17458, 17555, 17609, 17655, 17672, 17739, 17747, 17769, 17875, 17924, 17946, 17964, 18016, 18111, 18254, 18268, 18508, 18558, 51439, 18777, 18931, 18967, 19102, 19213, 19313, 19317, 19343, 19348, 19358, 19391, 19447, 19690, 52527, 19796, 52587, 19833, 19985, 20011, 20138, 20179, 20187, 20261, 20422, 20451, 20453, 20479, 20527, 20580, 20585, 20600, 20723, 20727, 20772, 20794, 20798, 20806, 20928, 20932, 21024, 21088, 21446, 21510, 21522, 21614, 21854, 21963, 22086, 22125, 22171, 22196, 22341, 22452, 22520, 22546, 22557, 22569, 22815, 22856, 22867, 23047, 23076, 23421, 23494, 23495, 23552, 23663, 23876, 23878, 23917, 23919, 24025, 24277, 24312, 24450, 24498, 24556, 24598, 57435, -8019, 24780, 25204, 25290, 25856, -6847, 25947, 58932, 26172, 26233, 26254, 26306, 26394, 26452, 26575, 26721, 26831, 59649, 26965, 27446, 27624, 27696, 28318, 28433, -4057, 29080, 29184, 29207, 29230, 29340, 29397, 29484, -3058, -2827, 29941, -2712, -2604, -2282, -2122, -2082, -1980, -1965, -1944, -1884, -1882, -1854, -1818, -1781, -1737, -1730, -1668, -1661, -1636, -1629, -1621, -1601, -1598, -1586, -1545, -1531, -1493, -1490, -1459, -1455, -1451, -1415, -1414, -1400, -1386, -1361, -1336, -1329, -1322, -1317, -1313, 31472, -1270, -1246, -1224, -1217, -1212, -1206, -1176, -1164, -1161, -1157, -1139, 31630, -1122, -1112, -1105, -1099, -1091, -1089, -1083, -1080, -1076, -1053, -1041, -1038, -1034, -1014, -1011, -1006, -1001, -998, -997, -995, -994, -988, -985, -983, -982, -980, -978, -976, -974, -970, -969, -967, -966, -962, -961, -954, -948, -947, -946, -942, -940, -938, -934, -932, -930, -910, 31868, -898, -895, -892, -890, -888, -887, -886, -880, -876, -874, -872, -870, -869, -868, -865, -864, -861, -853, -852, -849, -848, -847, -839, -834, -832, -824, -817, -816, -813, -812, -811, -810, -808, -806, -805, -803, -799, -797, -796, -790, -786, -780, -779, -777, -770, -769, -768, -767, -762, -759, -755, -754, -750, -749, -747, -745, -744, -741, -738, -736, -735, -731, -728, -723, -718, -717, -714, -710, -709, -708, -706, -705, -703, -701, -697, -692, -689, -688, -685, -684, -682, -681, -679, -677, -676, -675, -672, -671, -670, -667, -666, -665, -664, -663, -650, -648, -646, -644, -643, -642, -639, -637, -636, -635, -634, -633, -632, -631, -627, -626, -624, -621, -618, -617, -616, -613, -612, -609, -608, -607, -606, -605, -603, -601, -600, -597, -596, -594, -593, -591, -588, -584, -582, -581, -580, -579, -578, -577, -575, -571, -569, -566, -565, -564, -563, -560, -559, -558, -557, -556, -555, -554, -553, -552, -551, -550, -548, -547, -546, -545, -542, -540, -538, -537, -535, -534, -533, -531, -530, -529, -528, -526, -525, -523, -522, -521, -518, -517, -516, -515, -513, -509, -508, -507, -504, -503, -502, -500, -499, -498, -497, -496, -495, -493, -491, -490, -489, -488, -487, -485, -483, -482, -481, -480, -479, -478, -477, -476, -475, -473, -472, -471, -470, -469, -468, -466, -465, -464, -463, -462, -461, -460, -459, -458, -457, -456, -455, -454, -453, -452, -451, -450, -449, -448, -447, -446, -444, -443, -441, -440, -438, -437, -435, -433, -432, -430, -429, -428, -427, -426, -424, -423, -422, -421, -420, -418, -417, -416, -414, -413, -412, -411, -410, -409, -408, -407, -406, -405, -404, -403, -402, -401, -400, -399, -398, -397, -396, -395, -394, -393, -392, -391, -390, -388, -386, -385, -384, -383, -382, -381, -380, -379, -378, -376, -375, -374, -372, -371, -370, -369, -368, -367, -366, -365, -363, -362, -361, -360, -359, -357, -356, -355, -354, -353, -352, -350, -349, -348, -347, -346, -345, -344, -343, -342, -341, -340, -339, -338, -337, -336, -334, -333, -332, -331, -330, -329, -328, -327, -326, -325, -324, -323, -321, -320, -319, -318, -317, -315, -314, -313, -312, -311, -310, -309, -308, -307, -306, -305, 32464, -303, -302, -301, -300, -299, -298, -297, -296, -295, -294, -293, -292, -291, -290, -289, -288, -287, -286, -285, -284, -283, -282, -281, -280, -278, -277, -276, -275, -274, -273, -272, -271, -269, -268, -267, -266, -264, -263, -262, -261, -260, -259, -258, -257, -256, -255, -254, -253, -252, -251, -250, -249, -248, -247, -246, -245, -244, -243, -242, -241, -240, -239, -238, -237, -236, -235, -234, -233, -232, -231, -230, -229, -228, -227, -226, -225, -224, -223, -222, -221, -220, -219, -218, -217, -216, -215, -214, -213, -212, -211, -210, -209, -208, -207, -206, -205, -204, -203, -202, -201, -200, -199, -198, -197, -196, -195, -194, -193, -192, -191, -190, -189, -188, -187, -186, -185, -184, -183, -182, -181, -180, -179, -178, -177, -176, -175, -174, -173, -172, -170, -169, -168, -167, -166, -165, -164, -163, -162, -161, -160, -159, -158, -157, -156, -155, -154, -153, -152, -151, -150, -149, -148, -147, -146, -145, -144, -143, -142, -141, -139, -138, -137, -136, -135, -134, -133, -132, -131, -130, -129, -128, -127, -126, -125, -124, -123, -122, -121, -120, -119, -118, -117, -116, -115, -114, -113, -112, -111, -110, -109, -108, -107, -106, -105, -104, -103, -102, -101, -100, -99, -98, -97, -96, -95, -94, -93, -92, -91, -90, -89, -88, -87, -86, -85, -84, -83, -82, -81, -80, -79, -78, -77, -76, -75, -74, -73, -72, -71, -70, -69, -68, -67, -66, -65, -64, -63, -62, -61, -60, -59, -58, -57, -56, -55, -54, -53, -52, -51, -50, -49, -48, -47, -46, -45, -44, -43, -42, -41, -40, -39, -38, -37, -36, -35, -34, -33, -32, -31, -30, -29, -28, -27, -26, -25, -24, -23, -22, -21, -20, -19, -18, -17, -16, -15, -14, -13, -12, -11, -10, -9, -8, -7, -6, -5, -4, -3, -2, -1}\n",
      " \n",
      "---------------------------------------------------------\n",
      "housing : \n",
      "{'no', 'yes'}\n",
      " \n",
      "---------------------------------------------------------\n",
      "loan : \n",
      "{'no', 'yes'}\n",
      " \n",
      "---------------------------------------------------------\n",
      "contact : \n",
      "{'telephone', 'cellular'}\n",
      " \n",
      "---------------------------------------------------------\n",
      "day : \n",
      "{1, 2, 3, 4, 5, 6, 7, 8, 9, 10, 11, 12, 13, 14, 15, 16, 17, 18, 19, 20, 21, 22, 23, 24, 25, 26, 27, 28, 29, 30, 31}\n",
      " \n",
      "---------------------------------------------------------\n",
      "month : \n",
      "{'apr', 'jul', 'may', 'mar', 'dec', 'jan', 'jun', 'nov', 'oct', 'sep', 'aug', 'feb'}\n",
      " \n",
      "---------------------------------------------------------\n",
      "duration : \n",
      "{0, 1, 2, 4, 5, 6, 7, 8, 9, 10, 11, 12, 13, 14, 15, 16, 17, 18, 19, 20, 21, 22, 23, 24, 25, 26, 27, 28, 29, 30, 31, 32, 33, 34, 35, 36, 37, 38, 39, 40, 41, 42, 43, 44, 45, 46, 47, 48, 49, 50, 51, 52, 53, 54, 55, 56, 57, 58, 59, 60, 61, 62, 63, 64, 65, 66, 67, 68, 69, 70, 71, 72, 73, 74, 75, 76, 77, 78, 79, 80, 81, 82, 83, 84, 85, 86, 87, 88, 89, 90, 91, 92, 93, 94, 95, 96, 97, 98, 99, 100, 101, 102, 103, 104, 105, 106, 107, 108, 109, 110, 111, 112, 113, 114, 115, 116, 117, 118, 119, 120, 121, 122, 123, 124, 125, 126, 127, 128, 129, 130, 131, 132, 133, 134, 135, 136, 137, 138, 139, 140, 141, 142, 143, 144, 145, 146, 147, 148, 149, 150, 151, 152, 153, 154, 155, 156, 157, 158, 159, 160, 161, 162, 163, 164, 165, 166, 167, 168, 169, 170, 171, 172, 173, 174, 175, 176, 177, 178, 179, 180, 181, 182, 183, 184, 185, 186, 187, 188, 189, 190, 191, 192, 193, 194, 195, 196, 197, 198, 199, 200, 201, 202, 203, 204, 205, 206, 207, 208, 209, 210, 211, 212, 213, 214, 215, 216, 217, 218, 219, 220, 221, 222, 223, 224, 225, 226, 227, 228, 229, 230, 231, 232, 233, 234, 235, 236, 237, 238, 239, 240, 241, 242, 243, 244, 245, 246, 247, 248, 249, 250, 251, 252, 253, 254, 255, 256, 257, 258, 259, 260, 261, 262, 263, 264, 265, 266, 267, 268, 269, 270, 271, 272, 273, 274, 275, 276, 277, 278, 279, 280, 281, 282, 283, 284, 285, 286, 287, 288, 289, 290, 291, 292, 293, 294, 295, 296, 297, 298, 299, 300, 301, 302, 303, 304, 305, 306, 307, 308, 309, 310, 311, 312, 313, 314, 315, 316, 317, 318, 319, 320, 321, 322, 323, 324, 325, 326, 327, 328, 329, 330, 331, 332, 333, 334, 335, 336, 337, 338, 339, 340, 341, 342, 343, 344, 345, 346, 347, 348, 349, 350, 351, 352, 353, 354, 355, 356, 357, 358, 359, 360, 361, 362, 363, 364, 365, 366, 367, 368, 369, 370, 371, 372, 373, 374, 375, 376, 377, 378, 379, 380, 381, 382, 383, 384, 385, 386, 387, 388, 389, 390, 391, 392, 393, 394, 395, 396, 397, 398, 399, 400, 401, 402, 403, 404, 405, 406, 407, 408, 409, 410, 411, 412, 413, 414, 415, 416, 417, 418, 419, 420, 421, 422, 423, 424, 425, 426, 427, 428, 429, 430, 431, 432, 433, 434, 435, 436, 437, 438, 439, 440, 441, 442, 443, 444, 445, 446, 447, 448, 449, 450, 451, 452, 453, 454, 455, 456, 457, 458, 459, 460, 461, 462, 463, 464, 465, 466, 467, 468, 469, 470, 471, 472, 473, 474, 475, 476, 477, 478, 479, 480, 481, 482, 483, 484, 485, 486, 487, 488, 489, 490, 491, 492, 493, 494, 495, 496, 497, 498, 499, 500, 501, 502, 503, 504, 505, 506, 507, 508, 509, 510, 511, 512, 513, 514, 515, 516, 517, 518, 519, 520, 521, 522, 523, 524, 525, 526, 527, 528, 529, 530, 531, 532, 533, 534, 535, 536, 537, 538, 539, 540, 541, 542, 543, 544, 545, 546, 547, 548, 549, 550, 551, 552, 553, 554, 555, 556, 557, 558, 559, 560, 561, 562, 563, 564, 565, 566, 567, 568, 569, 570, 571, 572, 573, 574, 575, 576, 577, 578, 579, 580, 581, 582, 583, 584, 585, 586, 587, 588, 589, 590, 591, 592, 593, 594, 595, 596, 597, 598, 599, 600, 601, 602, 603, 604, 605, 606, 607, 608, 609, 610, 611, 612, 613, 614, 615, 616, 617, 618, 619, 620, 621, 622, 623, 624, 625, 626, 627, 628, 629, 630, 631, 632, 633, 634, 635, 636, 637, 638, 639, 640, 641, 642, 643, 644, 645, 646, 647, 648, 649, 650, 651, 652, 653, 654, 655, 656, 657, 658, 659, 660, 661, 662, 663, 664, 665, 666, 667, 668, 669, 670, 671, 672, 673, 674, 675, 676, 677, 678, 679, 680, 681, 682, 683, 684, 685, 686, 687, 688, 689, 690, 691, 692, 693, 694, 695, 696, 697, 698, 699, 700, 701, 702, 703, 704, 705, 706, 707, 708, 709, 710, 711, 712, 713, 714, 715, 716, 717, 718, 719, 720, 721, 722, 723, 724, 725, 726, 727, 728, 729, 730, 731, 732, 733, 734, 735, 736, 737, 738, 739, 740, 741, 742, 743, 744, 745, 746, 747, 748, 749, 750, 751, 752, 753, 754, 755, 756, 757, 758, 759, 760, 761, 762, 763, 764, 765, 766, 767, 768, 769, 770, 771, 772, 773, 774, 775, 776, 777, 778, 779, 780, 781, 782, 783, 784, 785, 786, 787, 788, 789, 790, 791, 792, 793, 794, 795, 796, 797, 798, 799, 800, 801, 802, 803, 804, 805, 806, 807, 808, 809, 810, 811, 812, 813, 814, 815, 816, 817, 818, 819, 820, 821, 822, 823, 824, 825, 826, 827, 828, 829, 830, 831, 832, 833, 834, 835, 836, 837, 838, 839, 840, 841, 843, 844, 845, 846, 847, 848, 849, 850, 851, 852, 853, 854, 855, 856, 857, 858, 859, 860, 861, 862, 863, 864, 865, 866, 867, 868, 869, 870, 871, 872, 873, 874, 875, 876, 877, 878, 879, 880, 881, 882, 883, 884, 885, 886, 888, 889, 890, 891, 892, 893, 894, 895, 896, 897, 898, 899, 901, 902, 903, 904, 905, 906, 907, 908, 909, 910, 911, 912, 913, 914, 915, 916, 917, 918, 919, 920, 921, 922, 923, 924, 925, 926, 927, 928, 929, 930, 931, 933, 934, 935, 936, 937, 938, 939, 940, 941, 942, 943, 944, 945, 946, 947, 948, 949, 950, 951, 952, 953, 954, 955, 956, 957, 958, 959, 960, 961, 962, 963, 965, 967, 968, 969, 970, 971, 972, 973, 974, 975, 976, 977, 978, 979, 980, 981, 982, 983, 984, 985, 986, 988, 989, 990, 991, 992, 993, 994, 996, 997, 998, 1000, 1001, 1002, 1003, 1005, 1006, 1007, 1008, 1009, 1010, 1011, 1012, 1013, 1014, 1015, 1017, 1018, 1019, 1020, 1022, 1024, 1025, 1026, 1027, 1028, 1029, 1030, 1031, 1032, 1033, 1034, 1035, 1036, 1037, 1038, 1039, 1040, 1042, 1044, 1046, 1047, 1048, 1049, 1051, 1052, 1055, 1056, 1057, 1058, 1059, 1060, 1061, 1062, 1063, 1064, 1065, 1067, 1068, 1070, 1073, 1074, 1075, 1076, 1077, 1078, 1079, 1080, 1081, 1082, 1083, 1084, 1086, 1087, 1089, 1090, 1091, 1092, 1093, 1094, 1095, 1096, 1097, 1099, 1100, 1101, 1102, 1103, 1104, 1105, 1106, 1107, 1108, 1109, 1110, 1111, 1112, 1113, 1114, 1117, 1118, 1119, 1120, 1121, 1122, 1123, 1124, 1126, 1127, 1129, 1130, 1131, 1133, 1134, 1135, 1136, 1138, 1139, 1140, 1141, 1142, 1143, 1144, 1145, 1148, 1149, 1150, 1151, 1152, 1153, 1154, 1156, 1158, 1160, 1161, 1164, 1165, 1166, 1169, 1171, 1173, 1174, 1175, 1176, 1178, 1179, 1180, 1181, 1182, 1183, 1184, 1185, 1186, 1187, 1190, 1191, 1192, 1193, 1195, 1196, 1199, 1200, 1201, 1202, 1203, 1204, 1205, 1206, 1207, 1208, 1209, 1210, 1211, 1212, 1213, 1217, 1220, 1221, 1222, 1223, 1225, 1226, 1227, 1231, 1232, 1233, 1237, 1238, 1239, 1240, 1241, 1242, 1243, 1244, 1246, 1248, 1249, 1250, 1254, 1256, 1258, 1259, 1261, 1262, 1265, 1268, 1269, 1271, 1272, 1275, 1277, 1279, 1282, 1283, 1284, 1286, 1287, 1288, 1290, 1293, 1294, 1296, 1297, 1298, 1303, 1306, 1307, 1309, 1311, 1313, 1314, 1319, 1321, 1326, 1327, 1329, 1330, 1331, 1332, 1334, 1336, 1337, 1339, 1340, 1341, 1342, 1344, 1346, 1347, 1352, 1353, 1357, 1359, 1360, 1361, 1363, 1364, 1365, 1366, 1368, 1369, 1370, 1372, 1373, 1374, 1377, 1380, 1381, 1386, 1387, 1388, 1389, 1390, 1391, 1393, 1397, 1399, 1404, 1405, 1407, 1408, 1410, 1412, 1416, 1417, 1420, 1422, 1423, 1424, 1425, 1426, 1431, 1432, 1434, 1435, 1437, 1439, 1441, 1447, 1448, 1449, 1451, 1452, 1456, 1460, 1461, 1462, 1463, 1464, 1467, 1468, 1471, 1472, 1473, 1476, 1484, 1486, 1488, 1489, 1490, 1491, 1492, 1499, 1502, 1503, 1504, 1512, 1514, 1516, 1528, 1529, 1531, 1532, 1536, 1540, 1541, 1543, 1545, 1548, 1550, 1551, 1554, 1555, 1556, 1559, 1567, 1569, 1571, 1573, 1576, 1579, 1580, 1584, 1594, 1598, 1600, 1602, 1603, 1606, 1608, 1613, 1616, 1628, 1635, 1642, 1649, 1650, 1656, 1658, 1661, 1662, 1665, 1669, 1687, 1691, 1697, 1702, 1707, 1710, 1720, 1721, 1723, 1735, 1739, 1740, 1745, 1767, 1776, 1789, 1790, 1792, 1804, 1805, 1806, 1809, 1816, 1817, 1820, 1823, 1833, 1834, 1835, 1837, 1842, 1855, 1859, 1869, 1871, 1877, 1880, 1914, 1916, 1917, 1925, 1934, 1946, 1957, 1960, 1962, 1966, 1970, 1971, 1972, 1973, 1975, 1978, 2015, 2016, 2027, 2029, 2053, 2055, 2062, 2078, 2129, 2150, 2184, 2187, 2191, 2201, 2219, 2256, 2301, 2330, 2372, 2420, 2453, 2516, 2692, 2770, 2775, 2870, 3025, 3076, 3102, 3253, 3284, 3322, 3422, 4918}\n",
      " \n",
      "---------------------------------------------------------\n",
      "campaign : \n",
      "{1, 2, 3, 4, 5, 6, 7, 8, 9, 10, 11, 12, 13, 14, 15, 16, 17, 18, 19, 20, 21, 22, 23, 24, 25, 26, 27, 28, 29, 30, 31, 32, 33, 34, 35, 36, 38, 39, 43, 44, 50}\n",
      " \n",
      "---------------------------------------------------------\n",
      "pdays : \n",
      "{1, 2, 3, 4, 5, 6, 7, 8, 9, 10, 12, 13, 14, 15, 17, 18, 19, 20, 21, 22, 24, 25, 26, 27, 28, 29, 30, 31, 32, 33, 34, 35, 36, 37, 38, 39, 40, 41, 42, 43, 44, 45, 46, 47, 48, 49, 50, 51, 52, 53, 54, 55, 56, 57, 58, 59, 60, 61, 62, 63, 64, 65, 66, 67, 68, 69, 70, 71, 72, 73, 74, 75, 76, 77, 78, 79, 80, 81, 82, 83, 84, 85, 86, 87, 88, 89, 90, 91, 92, 93, 94, 95, 96, 97, 98, 99, 100, 101, 102, 103, 104, 105, 106, 107, 108, 109, 110, 111, 112, 113, 114, 115, 116, 117, 118, 119, 120, 121, 122, 123, 124, 125, 126, 127, 128, 129, 130, 131, 132, 133, 134, 135, 136, 137, 138, 139, 140, 141, 142, 143, 144, 145, 146, 147, 148, 149, 150, 151, 152, 153, 154, 155, 156, 157, 158, 159, 160, 161, 162, 163, 164, 165, 166, 167, 168, 169, 170, 171, 172, 173, 174, 175, 176, 177, 178, 179, 180, 181, 182, 183, 184, 185, 186, 187, 188, 189, 190, 191, 192, 193, 194, 195, 196, 197, 198, 199, 200, 201, 202, 203, 204, 205, 206, 207, 208, 209, 210, 211, 212, 213, 214, 215, 216, 217, 218, 219, 220, 221, 222, 223, 224, 225, 226, 227, 228, 229, 230, 231, 232, 233, 234, 235, 236, 237, 238, 239, 240, 241, 242, 243, 244, 245, 246, 247, 248, 249, 250, 251, 252, 253, 254, 255, 256, 257, 258, 259, 260, 261, 262, 263, 264, 265, 266, 267, 268, 269, 270, 271, 272, 273, 274, 275, 276, 277, 278, 279, 280, 281, 282, 283, 284, 285, 286, 287, 288, 289, 290, 291, 292, 293, 294, 295, 296, 297, 298, 299, 300, 301, 302, 303, 304, 305, 306, 307, 308, 309, 310, 311, 312, 313, 314, 315, 316, 317, 318, 319, 320, 321, 322, 323, 324, 325, 326, 327, 328, 329, 330, 331, 332, 333, 334, 335, 336, 337, 338, 339, 340, 341, 342, 343, 344, 345, 346, 347, 348, 349, 350, 351, 352, 353, 354, 355, 356, 357, 358, 359, 360, 361, 362, 363, 364, 365, 366, 367, 368, 369, 370, 371, 372, 373, 374, 375, 376, 377, 378, 379, 380, 381, 382, 383, 384, 385, 386, 387, 388, 389, 390, 391, 392, 393, 394, 395, 396, 397, 398, 399, 401, 403, 405, 407, 409, 410, 412, 413, 414, 415, 416, 419, 420, 421, 422, 424, 425, 426, 427, 428, 430, 431, 432, 433, 434, 435, 436, 437, 439, 440, 442, 444, 445, 446, 449, 450, 452, 454, 455, 456, 457, 458, 459, 460, 461, 462, 463, 464, 465, 466, 467, 469, 470, 472, 474, 475, 476, 477, 478, 479, 480, 481, 484, 485, 486, 489, 490, 491, 492, 493, 495, 500, 503, 504, 508, 511, 515, 518, 520, 521, 528, 529, 530, 532, 535, 536, 541, 543, 544, 547, 550, 551, 553, 555, 558, 561, 562, 578, 579, 585, 586, 587, 589, 595, 603, 616, 626, 633, 648, 655, 667, 674, 690, 717, 728, 749, 756, 760, 761, 769, 774, 776, 779, 784, 792, 804, 805, 826, 828, 831, 842, 854, 871, -1}\n",
      " \n",
      "---------------------------------------------------------\n",
      "previous : \n",
      "{0, 1, 2, 3, 4, 5, 6, 7, 8, 9, 10, 11, 12, 13, 14, 15, 16, 17, 18, 275, 20, 19, 22, 23, 24, 25, 26, 27, 21, 29, 30, 28, 32, 35, 37, 38, 40, 51, 55, 58}\n",
      " \n",
      "---------------------------------------------------------\n",
      "y : \n",
      "{'no', 'yes'}\n",
      " \n",
      "---------------------------------------------------------\n"
     ]
    }
   ],
   "source": [
    "# data yang unik dari setiap kolom\n",
    "for col in df.columns:\n",
    "    print(col,': ')\n",
    "    print(set(df[col].unique()))\n",
    "    print(\" \")\n",
    "    print(\"---------------------------------------------------------\")"
   ]
  },
  {
   "cell_type": "markdown",
   "id": "d0617df0",
   "metadata": {},
   "source": [
    "## outlier"
   ]
  },
  {
   "cell_type": "code",
   "execution_count": 71,
   "id": "6ca07323",
   "metadata": {},
   "outputs": [
    {
     "data": {
      "text/html": [
       "<div>\n",
       "<style scoped>\n",
       "    .dataframe tbody tr th:only-of-type {\n",
       "        vertical-align: middle;\n",
       "    }\n",
       "\n",
       "    .dataframe tbody tr th {\n",
       "        vertical-align: top;\n",
       "    }\n",
       "\n",
       "    .dataframe thead th {\n",
       "        text-align: right;\n",
       "    }\n",
       "</style>\n",
       "<table border=\"1\" class=\"dataframe\">\n",
       "  <thead>\n",
       "    <tr style=\"text-align: right;\">\n",
       "      <th></th>\n",
       "      <th>age</th>\n",
       "      <th>balance</th>\n",
       "      <th>day</th>\n",
       "      <th>duration</th>\n",
       "      <th>campaign</th>\n",
       "      <th>pdays</th>\n",
       "      <th>previous</th>\n",
       "    </tr>\n",
       "  </thead>\n",
       "  <tbody>\n",
       "    <tr>\n",
       "      <th>count</th>\n",
       "      <td>30907.000000</td>\n",
       "      <td>30907.000000</td>\n",
       "      <td>30907.000000</td>\n",
       "      <td>30907.000000</td>\n",
       "      <td>30907.000000</td>\n",
       "      <td>30907.000000</td>\n",
       "      <td>30907.000000</td>\n",
       "    </tr>\n",
       "    <tr>\n",
       "      <th>mean</th>\n",
       "      <td>40.918918</td>\n",
       "      <td>1425.760701</td>\n",
       "      <td>15.967257</td>\n",
       "      <td>260.485003</td>\n",
       "      <td>2.751318</td>\n",
       "      <td>55.944835</td>\n",
       "      <td>0.808490</td>\n",
       "    </tr>\n",
       "    <tr>\n",
       "      <th>std</th>\n",
       "      <td>10.922583</td>\n",
       "      <td>3190.967030</td>\n",
       "      <td>8.226736</td>\n",
       "      <td>257.783963</td>\n",
       "      <td>2.954412</td>\n",
       "      <td>112.726930</td>\n",
       "      <td>2.706169</td>\n",
       "    </tr>\n",
       "    <tr>\n",
       "      <th>min</th>\n",
       "      <td>18.000000</td>\n",
       "      <td>-8019.000000</td>\n",
       "      <td>1.000000</td>\n",
       "      <td>0.000000</td>\n",
       "      <td>1.000000</td>\n",
       "      <td>-1.000000</td>\n",
       "      <td>0.000000</td>\n",
       "    </tr>\n",
       "    <tr>\n",
       "      <th>25%</th>\n",
       "      <td>32.000000</td>\n",
       "      <td>80.000000</td>\n",
       "      <td>9.000000</td>\n",
       "      <td>104.000000</td>\n",
       "      <td>1.000000</td>\n",
       "      <td>-1.000000</td>\n",
       "      <td>0.000000</td>\n",
       "    </tr>\n",
       "    <tr>\n",
       "      <th>50%</th>\n",
       "      <td>39.000000</td>\n",
       "      <td>473.000000</td>\n",
       "      <td>16.000000</td>\n",
       "      <td>181.000000</td>\n",
       "      <td>2.000000</td>\n",
       "      <td>-1.000000</td>\n",
       "      <td>0.000000</td>\n",
       "    </tr>\n",
       "    <tr>\n",
       "      <th>75%</th>\n",
       "      <td>48.000000</td>\n",
       "      <td>1502.500000</td>\n",
       "      <td>21.000000</td>\n",
       "      <td>322.000000</td>\n",
       "      <td>3.000000</td>\n",
       "      <td>10.000000</td>\n",
       "      <td>1.000000</td>\n",
       "    </tr>\n",
       "    <tr>\n",
       "      <th>max</th>\n",
       "      <td>95.000000</td>\n",
       "      <td>102127.000000</td>\n",
       "      <td>31.000000</td>\n",
       "      <td>4918.000000</td>\n",
       "      <td>50.000000</td>\n",
       "      <td>871.000000</td>\n",
       "      <td>275.000000</td>\n",
       "    </tr>\n",
       "  </tbody>\n",
       "</table>\n",
       "</div>"
      ],
      "text/plain": [
       "                age        balance           day      duration      campaign  \\\n",
       "count  30907.000000   30907.000000  30907.000000  30907.000000  30907.000000   \n",
       "mean      40.918918    1425.760701     15.967257    260.485003      2.751318   \n",
       "std       10.922583    3190.967030      8.226736    257.783963      2.954412   \n",
       "min       18.000000   -8019.000000      1.000000      0.000000      1.000000   \n",
       "25%       32.000000      80.000000      9.000000    104.000000      1.000000   \n",
       "50%       39.000000     473.000000     16.000000    181.000000      2.000000   \n",
       "75%       48.000000    1502.500000     21.000000    322.000000      3.000000   \n",
       "max       95.000000  102127.000000     31.000000   4918.000000     50.000000   \n",
       "\n",
       "              pdays      previous  \n",
       "count  30907.000000  30907.000000  \n",
       "mean      55.944835      0.808490  \n",
       "std      112.726930      2.706169  \n",
       "min       -1.000000      0.000000  \n",
       "25%       -1.000000      0.000000  \n",
       "50%       -1.000000      0.000000  \n",
       "75%       10.000000      1.000000  \n",
       "max      871.000000    275.000000  "
      ]
     },
     "execution_count": 71,
     "metadata": {},
     "output_type": "execute_result"
    }
   ],
   "source": [
    "# statistik data sederhana\n",
    "df.describe()"
   ]
  },
  {
   "cell_type": "code",
   "execution_count": 72,
   "id": "28b2ce9b",
   "metadata": {},
   "outputs": [
    {
     "data": {
      "text/plain": [
       "Text(0.5, 1.0, '')"
      ]
     },
     "execution_count": 72,
     "metadata": {},
     "output_type": "execute_result"
    },
    {
     "data": {
      "image/png": "[encoded data removed]",
      "text/plain": [
       "<Figure size 1080x720 with 7 Axes>"
      ]
     },
     "metadata": {
      "needs_background": "light"
     },
     "output_type": "display_data"
    }
   ],
   "source": [
    "# mengecek outlier pada setiap data\n",
    "plt.figure(figsize=(15,10))\n",
    "\n",
    "plt.subplot(3, 3, 1)\n",
    "fig = df.boxplot(column='age')\n",
    "fig.set_title('')\n",
    "\n",
    "plt.subplot(3,3, 2)\n",
    "fig = df.boxplot(column='balance')\n",
    "fig.set_title('')\n",
    "\n",
    "plt.subplot(3, 3, 3)\n",
    "fig = df.boxplot(column='day')\n",
    "fig.set_title('')\n",
    "\n",
    "plt.subplot(3, 3, 4)\n",
    "fig = df.boxplot(column='duration')\n",
    "fig.set_title('')\n",
    "\n",
    "plt.subplot(3, 3, 5)\n",
    "fig = df.boxplot(column='pdays')\n",
    "fig.set_title('')\n",
    "\n",
    "plt.subplot(3, 3, 6)\n",
    "fig = df.boxplot(column='previous')\n",
    "fig.set_title('')\n",
    "\n",
    "plt.subplot(3, 3, 7)\n",
    "fig = df.boxplot(column='campaign')\n",
    "fig.set_title('')"
   ]
  },
  {
   "cell_type": "markdown",
   "id": "5404bd27",
   "metadata": {},
   "source": [
    "- diketahui bahwa kolom age, balance, duration, pdays, previous dan campaign memiliki outliers dengan jumlah yang sangat banyak"
   ]
  },
  {
   "cell_type": "code",
   "execution_count": 73,
   "id": "e8fdf0b1",
   "metadata": {},
   "outputs": [],
   "source": [
    "# menghapus data outlier\n",
    "def remove_outlier(data):\n",
    "    data = data.sort_values()\n",
    "    Q1=data.quantile(0.3)\n",
    "    Q3=data.quantile(0.7)\n",
    "    \n",
    "    iqr = Q3 - Q1\n",
    "    \n",
    "    IQR = Q3 - Q1\n",
    "    upper = data > (Q3+1.5*IQR)\n",
    "     # Below Lower bound\n",
    "    lower = data < (Q1-1.5*IQR)\n",
    "    return data.index[upper]"
   ]
  },
  {
   "cell_type": "code",
   "execution_count": 74,
   "id": "746f1300",
   "metadata": {},
   "outputs": [],
   "source": [
    "df.drop(remove_outlier(df['age']), inplace=True)\n",
    "df.drop(remove_outlier(df['balance']), inplace=True)\n",
    "df.drop(remove_outlier(df['duration']), inplace=True)\n",
    "df.drop(remove_outlier(df['pdays']), inplace=True)\n",
    "df.drop(remove_outlier(df['previous']), inplace=True)\n",
    "df.drop(remove_outlier(df['campaign']), inplace=True)"
   ]
  },
  {
   "cell_type": "markdown",
   "id": "6d11cd31",
   "metadata": {},
   "source": [
    "Mengecek kembali apakah ada outlier"
   ]
  },
  {
   "cell_type": "code",
   "execution_count": 75,
   "id": "cbd745ff",
   "metadata": {},
   "outputs": [
    {
     "data": {
      "text/plain": [
       "Text(0.5, 1.0, '')"
      ]
     },
     "execution_count": 75,
     "metadata": {},
     "output_type": "execute_result"
    },
    {
     "data": {
      "image/png": "[encoded data removed]",
      "text/plain": [
       "<Figure size 1080x720 with 7 Axes>"
      ]
     },
     "metadata": {
      "needs_background": "light"
     },
     "output_type": "display_data"
    }
   ],
   "source": [
    "#recheck outlier\n",
    "plt.figure(figsize=(15,10))\n",
    "\n",
    "plt.subplot(3, 3, 1)\n",
    "fig = df.boxplot(column='age')\n",
    "fig.set_title('')\n",
    "\n",
    "plt.subplot(3,3, 2)\n",
    "fig = df.boxplot(column='balance')\n",
    "fig.set_title('')\n",
    "\n",
    "plt.subplot(3, 3, 3)\n",
    "fig = df.boxplot(column='day')\n",
    "fig.set_title('')\n",
    "\n",
    "plt.subplot(3, 3, 4)\n",
    "fig = df.boxplot(column='duration')\n",
    "fig.set_title('')\n",
    "\n",
    "plt.subplot(3, 3, 5)\n",
    "fig = df.boxplot(column='pdays')\n",
    "fig.set_title('')\n",
    "\n",
    "plt.subplot(3, 3, 6)\n",
    "fig = df.boxplot(column='previous')\n",
    "fig.set_title('')\n",
    "\n",
    "plt.subplot(3, 3, 7)\n",
    "fig = df.boxplot(column='campaign')\n",
    "fig.set_title('')"
   ]
  },
  {
   "cell_type": "markdown",
   "id": "89797655",
   "metadata": {},
   "source": [
    "## Visualisasi"
   ]
  },
  {
   "cell_type": "code",
   "execution_count": 78,
   "id": "c6fbda6a",
   "metadata": {},
   "outputs": [
    {
     "data": {
      "text/html": [
       "<div>\n",
       "<style scoped>\n",
       "    .dataframe tbody tr th:only-of-type {\n",
       "        vertical-align: middle;\n",
       "    }\n",
       "\n",
       "    .dataframe tbody tr th {\n",
       "        vertical-align: top;\n",
       "    }\n",
       "\n",
       "    .dataframe thead th {\n",
       "        text-align: right;\n",
       "    }\n",
       "</style>\n",
       "<table border=\"1\" class=\"dataframe\">\n",
       "  <thead>\n",
       "    <tr style=\"text-align: right;\">\n",
       "      <th></th>\n",
       "      <th>age</th>\n",
       "      <th>job</th>\n",
       "      <th>marital</th>\n",
       "      <th>education</th>\n",
       "      <th>default</th>\n",
       "      <th>balance</th>\n",
       "      <th>housing</th>\n",
       "      <th>loan</th>\n",
       "      <th>contact</th>\n",
       "      <th>day</th>\n",
       "      <th>month</th>\n",
       "      <th>duration</th>\n",
       "      <th>campaign</th>\n",
       "      <th>pdays</th>\n",
       "      <th>previous</th>\n",
       "      <th>y</th>\n",
       "    </tr>\n",
       "  </thead>\n",
       "  <tbody>\n",
       "    <tr>\n",
       "      <th>12657</th>\n",
       "      <td>27</td>\n",
       "      <td>management</td>\n",
       "      <td>single</td>\n",
       "      <td>secondary</td>\n",
       "      <td>no</td>\n",
       "      <td>35</td>\n",
       "      <td>no</td>\n",
       "      <td>no</td>\n",
       "      <td>cellular</td>\n",
       "      <td>4</td>\n",
       "      <td>jul</td>\n",
       "      <td>255</td>\n",
       "      <td>1</td>\n",
       "      <td>-1</td>\n",
       "      <td>0</td>\n",
       "      <td>no</td>\n",
       "    </tr>\n",
       "    <tr>\n",
       "      <th>12658</th>\n",
       "      <td>54</td>\n",
       "      <td>blue-collar</td>\n",
       "      <td>married</td>\n",
       "      <td>primary</td>\n",
       "      <td>no</td>\n",
       "      <td>466</td>\n",
       "      <td>no</td>\n",
       "      <td>no</td>\n",
       "      <td>cellular</td>\n",
       "      <td>4</td>\n",
       "      <td>jul</td>\n",
       "      <td>297</td>\n",
       "      <td>1</td>\n",
       "      <td>-1</td>\n",
       "      <td>0</td>\n",
       "      <td>no</td>\n",
       "    </tr>\n",
       "    <tr>\n",
       "      <th>12660</th>\n",
       "      <td>31</td>\n",
       "      <td>technician</td>\n",
       "      <td>single</td>\n",
       "      <td>secondary</td>\n",
       "      <td>no</td>\n",
       "      <td>19</td>\n",
       "      <td>no</td>\n",
       "      <td>no</td>\n",
       "      <td>telephone</td>\n",
       "      <td>4</td>\n",
       "      <td>jul</td>\n",
       "      <td>65</td>\n",
       "      <td>2</td>\n",
       "      <td>-1</td>\n",
       "      <td>0</td>\n",
       "      <td>no</td>\n",
       "    </tr>\n",
       "    <tr>\n",
       "      <th>12661</th>\n",
       "      <td>27</td>\n",
       "      <td>technician</td>\n",
       "      <td>single</td>\n",
       "      <td>secondary</td>\n",
       "      <td>no</td>\n",
       "      <td>126</td>\n",
       "      <td>yes</td>\n",
       "      <td>yes</td>\n",
       "      <td>cellular</td>\n",
       "      <td>4</td>\n",
       "      <td>jul</td>\n",
       "      <td>436</td>\n",
       "      <td>4</td>\n",
       "      <td>-1</td>\n",
       "      <td>0</td>\n",
       "      <td>no</td>\n",
       "    </tr>\n",
       "    <tr>\n",
       "      <th>12663</th>\n",
       "      <td>50</td>\n",
       "      <td>blue-collar</td>\n",
       "      <td>married</td>\n",
       "      <td>secondary</td>\n",
       "      <td>no</td>\n",
       "      <td>1329</td>\n",
       "      <td>yes</td>\n",
       "      <td>yes</td>\n",
       "      <td>telephone</td>\n",
       "      <td>4</td>\n",
       "      <td>jul</td>\n",
       "      <td>141</td>\n",
       "      <td>2</td>\n",
       "      <td>-1</td>\n",
       "      <td>0</td>\n",
       "      <td>no</td>\n",
       "    </tr>\n",
       "  </tbody>\n",
       "</table>\n",
       "</div>"
      ],
      "text/plain": [
       "       age          job  marital  education default  balance housing loan  \\\n",
       "12657   27   management   single  secondary      no       35      no   no   \n",
       "12658   54  blue-collar  married    primary      no      466      no   no   \n",
       "12660   31   technician   single  secondary      no       19      no   no   \n",
       "12661   27   technician   single  secondary      no      126     yes  yes   \n",
       "12663   50  blue-collar  married  secondary      no     1329     yes  yes   \n",
       "\n",
       "         contact  day month  duration  campaign  pdays  previous   y  \n",
       "12657   cellular    4   jul       255         1     -1         0  no  \n",
       "12658   cellular    4   jul       297         1     -1         0  no  \n",
       "12660  telephone    4   jul        65         2     -1         0  no  \n",
       "12661   cellular    4   jul       436         4     -1         0  no  \n",
       "12663  telephone    4   jul       141         2     -1         0  no  "
      ]
     },
     "execution_count": 78,
     "metadata": {},
     "output_type": "execute_result"
    }
   ],
   "source": [
    "#mengetahui beberapa data teratas\n",
    "df.head()"
   ]
  },
  {
   "cell_type": "code",
   "execution_count": 81,
   "id": "be266fd3",
   "metadata": {},
   "outputs": [
    {
     "data": {
      "image/png": "[encoded data removed]",
      "text/plain": [
       "<Figure size 720x432 with 1 Axes>"
      ]
     },
     "metadata": {
      "needs_background": "light"
     },
     "output_type": "display_data"
    }
   ],
   "source": [
    "plt.figure(figsize=(10, 6))\n",
    " \n",
    "plt.title('Perbandingan client subscribed dan tidak subcribed trem desposit')\n",
    "sns.countplot(x ='y', data = df')\n",
    "\n",
    "plt.show()"
   ]
  },
  {
   "cell_type": "code",
   "execution_count": 82,
   "id": "a5df74ad",
   "metadata": {},
   "outputs": [
    {
     "data": {
      "image/png": "[encoded data removed]",
      "text/plain": [
       "<Figure size 1080x432 with 1 Axes>"
      ]
     },
     "metadata": {
      "needs_background": "light"
     },
     "output_type": "display_data"
    }
   ],
   "source": [
    "plt.figure(figsize=(15, 6))\n",
    "plt.title('Perbandingan client subscribed dan tidak subcribed trem desposit berdasarkan job')\n",
    "ax = sns.countplot(x = df['job'], hue=df[\"y\"])\n",
    "plt.show()"
   ]
  },
  {
   "cell_type": "code",
   "execution_count": 83,
   "id": "91494a10",
   "metadata": {},
   "outputs": [
    {
     "data": {
      "image/png": "[encoded data removed]",
      "text/plain": [
       "<Figure size 1080x432 with 1 Axes>"
      ]
     },
     "metadata": {
      "needs_background": "light"
     },
     "output_type": "display_data"
    }
   ],
   "source": [
    "plt.figure(figsize=(15, 6))\n",
    "plt.title('Perbandingan client subscribed dan tidak subcribed trem desposit berdasarkan education')\n",
    "ax = sns.countplot(x = df['education'], hue=df[\"y\"])\n",
    "plt.show()"
   ]
  },
  {
   "cell_type": "code",
   "execution_count": 84,
   "id": "eff2e5f1",
   "metadata": {},
   "outputs": [
    {
     "data": {
      "image/png": "[encoded data removed]",
      "text/plain": [
       "<Figure size 1080x432 with 1 Axes>"
      ]
     },
     "metadata": {
      "needs_background": "light"
     },
     "output_type": "display_data"
    }
   ],
   "source": [
    "plt.figure(figsize=(15, 6))\n",
    "plt.title('Perbandingan client subscribed dan tidak subcribed trem desposit berdasarkan marital')\n",
    "ax = sns.countplot(x = df['marital'], hue=df[\"y\"])\n",
    "plt.show()"
   ]
  },
  {
   "cell_type": "markdown",
   "id": "18b8fe12",
   "metadata": {},
   "source": [
    "- Diketahui bahwa lebih banya customer yang tidak berlangganan daripada yang berlangganan pada produk deposit "
   ]
  },
  {
   "cell_type": "markdown",
   "id": "17cf1a59",
   "metadata": {},
   "source": [
    "## preprocessing data for classification model"
   ]
  },
  {
   "cell_type": "markdown",
   "id": "d9aa4372",
   "metadata": {},
   "source": [
    "## encoding"
   ]
  },
  {
   "cell_type": "markdown",
   "id": "cf2290aa",
   "metadata": {},
   "source": [
    "Data kategorikal yang sering digunakan adalah Ordinal dan Nominal. \n",
    "\n",
    "- Data nominal\n",
    "    - Pada data Nominal dapat menggunakan One Hot Enconding. One Hot Encoding bisa dilakukan dengan 2 cara yaitu melalui Library Scikit-Learn atau dengan method Get Dummies dari pandas.\n",
    "    - Data nominal  merupakan tipe data yang paling sederhana dimana nilai yang diberikan kepada item (record) hanya berupa label atau sekadar penamaan saja, tidak dapat diurut dan tidak dapat diukur. \n",
    "- Data Ordinal\n",
    "    - Pada data Ordinal dapat ditreatment menggunakan method Replace dari Pandas atau menggunakan Sklearn Label Encoder.\n",
    "    - Data ordinal merupakan data kategori yang dapat diurutkan dari yang paling rendah sampai yang paling tinggi,"
   ]
  },
  {
   "cell_type": "code",
   "execution_count": 86,
   "id": "d0c7db4c",
   "metadata": {},
   "outputs": [
    {
     "name": "stdout",
     "output_type": "stream",
     "text": [
      "<class 'pandas.core.frame.DataFrame'>\n",
      "Int64Index: 15801 entries, 12657 to 45209\n",
      "Data columns (total 16 columns):\n",
      " #   Column     Non-Null Count  Dtype   \n",
      "---  ------     --------------  -----   \n",
      " 0   age        15801 non-null  int64   \n",
      " 1   job        15801 non-null  category\n",
      " 2   marital    15801 non-null  category\n",
      " 3   education  15801 non-null  category\n",
      " 4   default    15801 non-null  category\n",
      " 5   balance    15801 non-null  int64   \n",
      " 6   housing    15801 non-null  category\n",
      " 7   loan       15801 non-null  category\n",
      " 8   contact    15801 non-null  category\n",
      " 9   day        15801 non-null  int64   \n",
      " 10  month      15801 non-null  category\n",
      " 11  duration   15801 non-null  int64   \n",
      " 12  campaign   15801 non-null  int64   \n",
      " 13  pdays      15801 non-null  int64   \n",
      " 14  previous   15801 non-null  int64   \n",
      " 15  y          15801 non-null  category\n",
      "dtypes: category(9), int64(7)\n",
      "memory usage: 1.1 MB\n"
     ]
    }
   ],
   "source": [
    "df.info()"
   ]
  },
  {
   "cell_type": "code",
   "execution_count": 88,
   "id": "56a266e2",
   "metadata": {},
   "outputs": [
    {
     "name": "stdout",
     "output_type": "stream",
     "text": [
      "numc : ['age', 'balance', 'day', 'duration', 'campaign', 'pdays', 'previous']\n",
      "catc :  ['job', 'marital', 'education', 'default', 'housing', 'loan', 'contact', 'month', 'y']\n"
     ]
    }
   ],
   "source": [
    "numc = list(df.select_dtypes(include=['int64']).columns.values)\n",
    "catc = list(df.select_dtypes(include=['category']).columns.values)\n",
    "print(\"numc :\", numc)\n",
    "print(\"catc : \", catc)"
   ]
  },
  {
   "cell_type": "code",
   "execution_count": 89,
   "id": "1db9580d",
   "metadata": {},
   "outputs": [],
   "source": [
    "nom = ['job','marital','default','contact']\n",
    "ord = ['education','housing','loan','month','y']"
   ]
  },
  {
   "cell_type": "code",
   "execution_count": 91,
   "id": "270d1f77",
   "metadata": {},
   "outputs": [],
   "source": [
    "# Menerapkan **One-Hot Encoding** yaitu teknik yang merubah setiap nilai di dalam kolom menjadi kolom baru dan \n",
    "# mengisinya dengan nilai biner yaitu 0 dan 1. Menggunakan dummies values di Pandas dengan menggunakan fungsi get_dummies() \n",
    "df = pd.get_dummies(data=df,columns=['job','marital','default','contact'])"
   ]
  },
  {
   "cell_type": "code",
   "execution_count": 92,
   "id": "326d1765",
   "metadata": {},
   "outputs": [],
   "source": [
    "# Menerapkan **Label encoding** mengubah setiap nilai dalam kolom menjadi angka yang berurutan. \n",
    "# Dapat menggunakan Python Pandas untuk melakukan label encoding \n",
    "# menggunakan library sci-kit LabelEncoder dan lakukan proses fit_transform() dengan kolom yang ingin dirubah\n",
    "from sklearn.preprocessing import LabelEncoder\n",
    "encoder = LabelEncoder()\n",
    "\n",
    "for ord_col in ord:\n",
    "    df[ord_col] = encoder.fit_transform(df[ord_col])"
   ]
  },
  {
   "cell_type": "code",
   "execution_count": 93,
   "id": "35071d87",
   "metadata": {},
   "outputs": [
    {
     "data": {
      "text/html": [
       "<div>\n",
       "<style scoped>\n",
       "    .dataframe tbody tr th:only-of-type {\n",
       "        vertical-align: middle;\n",
       "    }\n",
       "\n",
       "    .dataframe tbody tr th {\n",
       "        vertical-align: top;\n",
       "    }\n",
       "\n",
       "    .dataframe thead th {\n",
       "        text-align: right;\n",
       "    }\n",
       "</style>\n",
       "<table border=\"1\" class=\"dataframe\">\n",
       "  <thead>\n",
       "    <tr style=\"text-align: right;\">\n",
       "      <th></th>\n",
       "      <th>age</th>\n",
       "      <th>education</th>\n",
       "      <th>balance</th>\n",
       "      <th>housing</th>\n",
       "      <th>loan</th>\n",
       "      <th>day</th>\n",
       "      <th>month</th>\n",
       "      <th>duration</th>\n",
       "      <th>campaign</th>\n",
       "      <th>pdays</th>\n",
       "      <th>...</th>\n",
       "      <th>job_student</th>\n",
       "      <th>job_technician</th>\n",
       "      <th>job_unemployed</th>\n",
       "      <th>marital_divorced</th>\n",
       "      <th>marital_married</th>\n",
       "      <th>marital_single</th>\n",
       "      <th>default_no</th>\n",
       "      <th>default_yes</th>\n",
       "      <th>contact_cellular</th>\n",
       "      <th>contact_telephone</th>\n",
       "    </tr>\n",
       "  </thead>\n",
       "  <tbody>\n",
       "    <tr>\n",
       "      <th>12657</th>\n",
       "      <td>27</td>\n",
       "      <td>1</td>\n",
       "      <td>35</td>\n",
       "      <td>0</td>\n",
       "      <td>0</td>\n",
       "      <td>4</td>\n",
       "      <td>5</td>\n",
       "      <td>255</td>\n",
       "      <td>1</td>\n",
       "      <td>-1</td>\n",
       "      <td>...</td>\n",
       "      <td>0</td>\n",
       "      <td>0</td>\n",
       "      <td>0</td>\n",
       "      <td>0</td>\n",
       "      <td>0</td>\n",
       "      <td>1</td>\n",
       "      <td>1</td>\n",
       "      <td>0</td>\n",
       "      <td>1</td>\n",
       "      <td>0</td>\n",
       "    </tr>\n",
       "    <tr>\n",
       "      <th>12658</th>\n",
       "      <td>54</td>\n",
       "      <td>0</td>\n",
       "      <td>466</td>\n",
       "      <td>0</td>\n",
       "      <td>0</td>\n",
       "      <td>4</td>\n",
       "      <td>5</td>\n",
       "      <td>297</td>\n",
       "      <td>1</td>\n",
       "      <td>-1</td>\n",
       "      <td>...</td>\n",
       "      <td>0</td>\n",
       "      <td>0</td>\n",
       "      <td>0</td>\n",
       "      <td>0</td>\n",
       "      <td>1</td>\n",
       "      <td>0</td>\n",
       "      <td>1</td>\n",
       "      <td>0</td>\n",
       "      <td>1</td>\n",
       "      <td>0</td>\n",
       "    </tr>\n",
       "    <tr>\n",
       "      <th>12660</th>\n",
       "      <td>31</td>\n",
       "      <td>1</td>\n",
       "      <td>19</td>\n",
       "      <td>0</td>\n",
       "      <td>0</td>\n",
       "      <td>4</td>\n",
       "      <td>5</td>\n",
       "      <td>65</td>\n",
       "      <td>2</td>\n",
       "      <td>-1</td>\n",
       "      <td>...</td>\n",
       "      <td>0</td>\n",
       "      <td>1</td>\n",
       "      <td>0</td>\n",
       "      <td>0</td>\n",
       "      <td>0</td>\n",
       "      <td>1</td>\n",
       "      <td>1</td>\n",
       "      <td>0</td>\n",
       "      <td>0</td>\n",
       "      <td>1</td>\n",
       "    </tr>\n",
       "    <tr>\n",
       "      <th>12661</th>\n",
       "      <td>27</td>\n",
       "      <td>1</td>\n",
       "      <td>126</td>\n",
       "      <td>1</td>\n",
       "      <td>1</td>\n",
       "      <td>4</td>\n",
       "      <td>5</td>\n",
       "      <td>436</td>\n",
       "      <td>4</td>\n",
       "      <td>-1</td>\n",
       "      <td>...</td>\n",
       "      <td>0</td>\n",
       "      <td>1</td>\n",
       "      <td>0</td>\n",
       "      <td>0</td>\n",
       "      <td>0</td>\n",
       "      <td>1</td>\n",
       "      <td>1</td>\n",
       "      <td>0</td>\n",
       "      <td>1</td>\n",
       "      <td>0</td>\n",
       "    </tr>\n",
       "    <tr>\n",
       "      <th>12663</th>\n",
       "      <td>50</td>\n",
       "      <td>1</td>\n",
       "      <td>1329</td>\n",
       "      <td>1</td>\n",
       "      <td>1</td>\n",
       "      <td>4</td>\n",
       "      <td>5</td>\n",
       "      <td>141</td>\n",
       "      <td>2</td>\n",
       "      <td>-1</td>\n",
       "      <td>...</td>\n",
       "      <td>0</td>\n",
       "      <td>0</td>\n",
       "      <td>0</td>\n",
       "      <td>0</td>\n",
       "      <td>1</td>\n",
       "      <td>0</td>\n",
       "      <td>1</td>\n",
       "      <td>0</td>\n",
       "      <td>0</td>\n",
       "      <td>1</td>\n",
       "    </tr>\n",
       "    <tr>\n",
       "      <th>...</th>\n",
       "      <td>...</td>\n",
       "      <td>...</td>\n",
       "      <td>...</td>\n",
       "      <td>...</td>\n",
       "      <td>...</td>\n",
       "      <td>...</td>\n",
       "      <td>...</td>\n",
       "      <td>...</td>\n",
       "      <td>...</td>\n",
       "      <td>...</td>\n",
       "      <td>...</td>\n",
       "      <td>...</td>\n",
       "      <td>...</td>\n",
       "      <td>...</td>\n",
       "      <td>...</td>\n",
       "      <td>...</td>\n",
       "      <td>...</td>\n",
       "      <td>...</td>\n",
       "      <td>...</td>\n",
       "      <td>...</td>\n",
       "      <td>...</td>\n",
       "    </tr>\n",
       "    <tr>\n",
       "      <th>45198</th>\n",
       "      <td>37</td>\n",
       "      <td>2</td>\n",
       "      <td>1428</td>\n",
       "      <td>0</td>\n",
       "      <td>0</td>\n",
       "      <td>16</td>\n",
       "      <td>9</td>\n",
       "      <td>333</td>\n",
       "      <td>2</td>\n",
       "      <td>-1</td>\n",
       "      <td>...</td>\n",
       "      <td>0</td>\n",
       "      <td>0</td>\n",
       "      <td>0</td>\n",
       "      <td>0</td>\n",
       "      <td>1</td>\n",
       "      <td>0</td>\n",
       "      <td>1</td>\n",
       "      <td>0</td>\n",
       "      <td>1</td>\n",
       "      <td>0</td>\n",
       "    </tr>\n",
       "    <tr>\n",
       "      <th>45202</th>\n",
       "      <td>34</td>\n",
       "      <td>1</td>\n",
       "      <td>557</td>\n",
       "      <td>0</td>\n",
       "      <td>0</td>\n",
       "      <td>17</td>\n",
       "      <td>9</td>\n",
       "      <td>224</td>\n",
       "      <td>1</td>\n",
       "      <td>-1</td>\n",
       "      <td>...</td>\n",
       "      <td>0</td>\n",
       "      <td>0</td>\n",
       "      <td>0</td>\n",
       "      <td>0</td>\n",
       "      <td>0</td>\n",
       "      <td>1</td>\n",
       "      <td>1</td>\n",
       "      <td>0</td>\n",
       "      <td>1</td>\n",
       "      <td>0</td>\n",
       "    </tr>\n",
       "    <tr>\n",
       "      <th>45203</th>\n",
       "      <td>23</td>\n",
       "      <td>2</td>\n",
       "      <td>113</td>\n",
       "      <td>0</td>\n",
       "      <td>0</td>\n",
       "      <td>17</td>\n",
       "      <td>9</td>\n",
       "      <td>266</td>\n",
       "      <td>1</td>\n",
       "      <td>-1</td>\n",
       "      <td>...</td>\n",
       "      <td>1</td>\n",
       "      <td>0</td>\n",
       "      <td>0</td>\n",
       "      <td>0</td>\n",
       "      <td>0</td>\n",
       "      <td>1</td>\n",
       "      <td>1</td>\n",
       "      <td>0</td>\n",
       "      <td>1</td>\n",
       "      <td>0</td>\n",
       "    </tr>\n",
       "    <tr>\n",
       "      <th>45205</th>\n",
       "      <td>25</td>\n",
       "      <td>1</td>\n",
       "      <td>505</td>\n",
       "      <td>0</td>\n",
       "      <td>1</td>\n",
       "      <td>17</td>\n",
       "      <td>9</td>\n",
       "      <td>386</td>\n",
       "      <td>2</td>\n",
       "      <td>-1</td>\n",
       "      <td>...</td>\n",
       "      <td>0</td>\n",
       "      <td>1</td>\n",
       "      <td>0</td>\n",
       "      <td>0</td>\n",
       "      <td>0</td>\n",
       "      <td>1</td>\n",
       "      <td>1</td>\n",
       "      <td>0</td>\n",
       "      <td>1</td>\n",
       "      <td>0</td>\n",
       "    </tr>\n",
       "    <tr>\n",
       "      <th>45209</th>\n",
       "      <td>57</td>\n",
       "      <td>1</td>\n",
       "      <td>668</td>\n",
       "      <td>0</td>\n",
       "      <td>0</td>\n",
       "      <td>17</td>\n",
       "      <td>9</td>\n",
       "      <td>508</td>\n",
       "      <td>4</td>\n",
       "      <td>-1</td>\n",
       "      <td>...</td>\n",
       "      <td>0</td>\n",
       "      <td>0</td>\n",
       "      <td>0</td>\n",
       "      <td>0</td>\n",
       "      <td>1</td>\n",
       "      <td>0</td>\n",
       "      <td>1</td>\n",
       "      <td>0</td>\n",
       "      <td>0</td>\n",
       "      <td>1</td>\n",
       "    </tr>\n",
       "  </tbody>\n",
       "</table>\n",
       "<p>15801 rows × 30 columns</p>\n",
       "</div>"
      ],
      "text/plain": [
       "       age  education  balance  housing  loan  day  month  duration  campaign  \\\n",
       "12657   27          1       35        0     0    4      5       255         1   \n",
       "12658   54          0      466        0     0    4      5       297         1   \n",
       "12660   31          1       19        0     0    4      5        65         2   \n",
       "12661   27          1      126        1     1    4      5       436         4   \n",
       "12663   50          1     1329        1     1    4      5       141         2   \n",
       "...    ...        ...      ...      ...   ...  ...    ...       ...       ...   \n",
       "45198   37          2     1428        0     0   16      9       333         2   \n",
       "45202   34          1      557        0     0   17      9       224         1   \n",
       "45203   23          2      113        0     0   17      9       266         1   \n",
       "45205   25          1      505        0     1   17      9       386         2   \n",
       "45209   57          1      668        0     0   17      9       508         4   \n",
       "\n",
       "       pdays  ...  job_student  job_technician  job_unemployed  \\\n",
       "12657     -1  ...            0               0               0   \n",
       "12658     -1  ...            0               0               0   \n",
       "12660     -1  ...            0               1               0   \n",
       "12661     -1  ...            0               1               0   \n",
       "12663     -1  ...            0               0               0   \n",
       "...      ...  ...          ...             ...             ...   \n",
       "45198     -1  ...            0               0               0   \n",
       "45202     -1  ...            0               0               0   \n",
       "45203     -1  ...            1               0               0   \n",
       "45205     -1  ...            0               1               0   \n",
       "45209     -1  ...            0               0               0   \n",
       "\n",
       "       marital_divorced  marital_married  marital_single  default_no  \\\n",
       "12657                 0                0               1           1   \n",
       "12658                 0                1               0           1   \n",
       "12660                 0                0               1           1   \n",
       "12661                 0                0               1           1   \n",
       "12663                 0                1               0           1   \n",
       "...                 ...              ...             ...         ...   \n",
       "45198                 0                1               0           1   \n",
       "45202                 0                0               1           1   \n",
       "45203                 0                0               1           1   \n",
       "45205                 0                0               1           1   \n",
       "45209                 0                1               0           1   \n",
       "\n",
       "       default_yes  contact_cellular  contact_telephone  \n",
       "12657            0                 1                  0  \n",
       "12658            0                 1                  0  \n",
       "12660            0                 0                  1  \n",
       "12661            0                 1                  0  \n",
       "12663            0                 0                  1  \n",
       "...            ...               ...                ...  \n",
       "45198            0                 1                  0  \n",
       "45202            0                 1                  0  \n",
       "45203            0                 1                  0  \n",
       "45205            0                 1                  0  \n",
       "45209            0                 0                  1  \n",
       "\n",
       "[15801 rows x 30 columns]"
      ]
     },
     "execution_count": 93,
     "metadata": {},
     "output_type": "execute_result"
    }
   ],
   "source": [
    "df"
   ]
  },
  {
   "cell_type": "code",
   "execution_count": 94,
   "id": "e1e26f21",
   "metadata": {},
   "outputs": [
    {
     "data": {
      "text/plain": [
       "Index(['age', 'education', 'balance', 'housing', 'loan', 'day', 'month',\n",
       "       'duration', 'campaign', 'pdays', 'previous', 'y', 'job_admin.',\n",
       "       'job_blue-collar', 'job_entrepreneur', 'job_housemaid',\n",
       "       'job_management', 'job_retired', 'job_self-employed', 'job_services',\n",
       "       'job_student', 'job_technician', 'job_unemployed', 'marital_divorced',\n",
       "       'marital_married', 'marital_single', 'default_no', 'default_yes',\n",
       "       'contact_cellular', 'contact_telephone'],\n",
       "      dtype='object')"
      ]
     },
     "execution_count": 94,
     "metadata": {},
     "output_type": "execute_result"
    }
   ],
   "source": [
    "df.columns"
   ]
  },
  {
   "cell_type": "markdown",
   "id": "2ff85031",
   "metadata": {},
   "source": [
    "## feature dan target"
   ]
  },
  {
   "cell_type": "code",
   "execution_count": 95,
   "id": "d31a7da1",
   "metadata": {},
   "outputs": [
    {
     "data": {
      "text/html": [
       "<div>\n",
       "<style scoped>\n",
       "    .dataframe tbody tr th:only-of-type {\n",
       "        vertical-align: middle;\n",
       "    }\n",
       "\n",
       "    .dataframe tbody tr th {\n",
       "        vertical-align: top;\n",
       "    }\n",
       "\n",
       "    .dataframe thead th {\n",
       "        text-align: right;\n",
       "    }\n",
       "</style>\n",
       "<table border=\"1\" class=\"dataframe\">\n",
       "  <thead>\n",
       "    <tr style=\"text-align: right;\">\n",
       "      <th></th>\n",
       "      <th>age</th>\n",
       "      <th>education</th>\n",
       "      <th>balance</th>\n",
       "      <th>housing</th>\n",
       "      <th>loan</th>\n",
       "      <th>day</th>\n",
       "      <th>month</th>\n",
       "      <th>duration</th>\n",
       "      <th>campaign</th>\n",
       "      <th>pdays</th>\n",
       "      <th>...</th>\n",
       "      <th>job_student</th>\n",
       "      <th>job_technician</th>\n",
       "      <th>job_unemployed</th>\n",
       "      <th>marital_divorced</th>\n",
       "      <th>marital_married</th>\n",
       "      <th>marital_single</th>\n",
       "      <th>default_no</th>\n",
       "      <th>default_yes</th>\n",
       "      <th>contact_cellular</th>\n",
       "      <th>contact_telephone</th>\n",
       "    </tr>\n",
       "  </thead>\n",
       "  <tbody>\n",
       "    <tr>\n",
       "      <th>12657</th>\n",
       "      <td>27</td>\n",
       "      <td>1</td>\n",
       "      <td>35</td>\n",
       "      <td>0</td>\n",
       "      <td>0</td>\n",
       "      <td>4</td>\n",
       "      <td>5</td>\n",
       "      <td>255</td>\n",
       "      <td>1</td>\n",
       "      <td>-1</td>\n",
       "      <td>...</td>\n",
       "      <td>0</td>\n",
       "      <td>0</td>\n",
       "      <td>0</td>\n",
       "      <td>0</td>\n",
       "      <td>0</td>\n",
       "      <td>1</td>\n",
       "      <td>1</td>\n",
       "      <td>0</td>\n",
       "      <td>1</td>\n",
       "      <td>0</td>\n",
       "    </tr>\n",
       "    <tr>\n",
       "      <th>12658</th>\n",
       "      <td>54</td>\n",
       "      <td>0</td>\n",
       "      <td>466</td>\n",
       "      <td>0</td>\n",
       "      <td>0</td>\n",
       "      <td>4</td>\n",
       "      <td>5</td>\n",
       "      <td>297</td>\n",
       "      <td>1</td>\n",
       "      <td>-1</td>\n",
       "      <td>...</td>\n",
       "      <td>0</td>\n",
       "      <td>0</td>\n",
       "      <td>0</td>\n",
       "      <td>0</td>\n",
       "      <td>1</td>\n",
       "      <td>0</td>\n",
       "      <td>1</td>\n",
       "      <td>0</td>\n",
       "      <td>1</td>\n",
       "      <td>0</td>\n",
       "    </tr>\n",
       "    <tr>\n",
       "      <th>12660</th>\n",
       "      <td>31</td>\n",
       "      <td>1</td>\n",
       "      <td>19</td>\n",
       "      <td>0</td>\n",
       "      <td>0</td>\n",
       "      <td>4</td>\n",
       "      <td>5</td>\n",
       "      <td>65</td>\n",
       "      <td>2</td>\n",
       "      <td>-1</td>\n",
       "      <td>...</td>\n",
       "      <td>0</td>\n",
       "      <td>1</td>\n",
       "      <td>0</td>\n",
       "      <td>0</td>\n",
       "      <td>0</td>\n",
       "      <td>1</td>\n",
       "      <td>1</td>\n",
       "      <td>0</td>\n",
       "      <td>0</td>\n",
       "      <td>1</td>\n",
       "    </tr>\n",
       "    <tr>\n",
       "      <th>12661</th>\n",
       "      <td>27</td>\n",
       "      <td>1</td>\n",
       "      <td>126</td>\n",
       "      <td>1</td>\n",
       "      <td>1</td>\n",
       "      <td>4</td>\n",
       "      <td>5</td>\n",
       "      <td>436</td>\n",
       "      <td>4</td>\n",
       "      <td>-1</td>\n",
       "      <td>...</td>\n",
       "      <td>0</td>\n",
       "      <td>1</td>\n",
       "      <td>0</td>\n",
       "      <td>0</td>\n",
       "      <td>0</td>\n",
       "      <td>1</td>\n",
       "      <td>1</td>\n",
       "      <td>0</td>\n",
       "      <td>1</td>\n",
       "      <td>0</td>\n",
       "    </tr>\n",
       "    <tr>\n",
       "      <th>12663</th>\n",
       "      <td>50</td>\n",
       "      <td>1</td>\n",
       "      <td>1329</td>\n",
       "      <td>1</td>\n",
       "      <td>1</td>\n",
       "      <td>4</td>\n",
       "      <td>5</td>\n",
       "      <td>141</td>\n",
       "      <td>2</td>\n",
       "      <td>-1</td>\n",
       "      <td>...</td>\n",
       "      <td>0</td>\n",
       "      <td>0</td>\n",
       "      <td>0</td>\n",
       "      <td>0</td>\n",
       "      <td>1</td>\n",
       "      <td>0</td>\n",
       "      <td>1</td>\n",
       "      <td>0</td>\n",
       "      <td>0</td>\n",
       "      <td>1</td>\n",
       "    </tr>\n",
       "    <tr>\n",
       "      <th>...</th>\n",
       "      <td>...</td>\n",
       "      <td>...</td>\n",
       "      <td>...</td>\n",
       "      <td>...</td>\n",
       "      <td>...</td>\n",
       "      <td>...</td>\n",
       "      <td>...</td>\n",
       "      <td>...</td>\n",
       "      <td>...</td>\n",
       "      <td>...</td>\n",
       "      <td>...</td>\n",
       "      <td>...</td>\n",
       "      <td>...</td>\n",
       "      <td>...</td>\n",
       "      <td>...</td>\n",
       "      <td>...</td>\n",
       "      <td>...</td>\n",
       "      <td>...</td>\n",
       "      <td>...</td>\n",
       "      <td>...</td>\n",
       "      <td>...</td>\n",
       "    </tr>\n",
       "    <tr>\n",
       "      <th>45198</th>\n",
       "      <td>37</td>\n",
       "      <td>2</td>\n",
       "      <td>1428</td>\n",
       "      <td>0</td>\n",
       "      <td>0</td>\n",
       "      <td>16</td>\n",
       "      <td>9</td>\n",
       "      <td>333</td>\n",
       "      <td>2</td>\n",
       "      <td>-1</td>\n",
       "      <td>...</td>\n",
       "      <td>0</td>\n",
       "      <td>0</td>\n",
       "      <td>0</td>\n",
       "      <td>0</td>\n",
       "      <td>1</td>\n",
       "      <td>0</td>\n",
       "      <td>1</td>\n",
       "      <td>0</td>\n",
       "      <td>1</td>\n",
       "      <td>0</td>\n",
       "    </tr>\n",
       "    <tr>\n",
       "      <th>45202</th>\n",
       "      <td>34</td>\n",
       "      <td>1</td>\n",
       "      <td>557</td>\n",
       "      <td>0</td>\n",
       "      <td>0</td>\n",
       "      <td>17</td>\n",
       "      <td>9</td>\n",
       "      <td>224</td>\n",
       "      <td>1</td>\n",
       "      <td>-1</td>\n",
       "      <td>...</td>\n",
       "      <td>0</td>\n",
       "      <td>0</td>\n",
       "      <td>0</td>\n",
       "      <td>0</td>\n",
       "      <td>0</td>\n",
       "      <td>1</td>\n",
       "      <td>1</td>\n",
       "      <td>0</td>\n",
       "      <td>1</td>\n",
       "      <td>0</td>\n",
       "    </tr>\n",
       "    <tr>\n",
       "      <th>45203</th>\n",
       "      <td>23</td>\n",
       "      <td>2</td>\n",
       "      <td>113</td>\n",
       "      <td>0</td>\n",
       "      <td>0</td>\n",
       "      <td>17</td>\n",
       "      <td>9</td>\n",
       "      <td>266</td>\n",
       "      <td>1</td>\n",
       "      <td>-1</td>\n",
       "      <td>...</td>\n",
       "      <td>1</td>\n",
       "      <td>0</td>\n",
       "      <td>0</td>\n",
       "      <td>0</td>\n",
       "      <td>0</td>\n",
       "      <td>1</td>\n",
       "      <td>1</td>\n",
       "      <td>0</td>\n",
       "      <td>1</td>\n",
       "      <td>0</td>\n",
       "    </tr>\n",
       "    <tr>\n",
       "      <th>45205</th>\n",
       "      <td>25</td>\n",
       "      <td>1</td>\n",
       "      <td>505</td>\n",
       "      <td>0</td>\n",
       "      <td>1</td>\n",
       "      <td>17</td>\n",
       "      <td>9</td>\n",
       "      <td>386</td>\n",
       "      <td>2</td>\n",
       "      <td>-1</td>\n",
       "      <td>...</td>\n",
       "      <td>0</td>\n",
       "      <td>1</td>\n",
       "      <td>0</td>\n",
       "      <td>0</td>\n",
       "      <td>0</td>\n",
       "      <td>1</td>\n",
       "      <td>1</td>\n",
       "      <td>0</td>\n",
       "      <td>1</td>\n",
       "      <td>0</td>\n",
       "    </tr>\n",
       "    <tr>\n",
       "      <th>45209</th>\n",
       "      <td>57</td>\n",
       "      <td>1</td>\n",
       "      <td>668</td>\n",
       "      <td>0</td>\n",
       "      <td>0</td>\n",
       "      <td>17</td>\n",
       "      <td>9</td>\n",
       "      <td>508</td>\n",
       "      <td>4</td>\n",
       "      <td>-1</td>\n",
       "      <td>...</td>\n",
       "      <td>0</td>\n",
       "      <td>0</td>\n",
       "      <td>0</td>\n",
       "      <td>0</td>\n",
       "      <td>1</td>\n",
       "      <td>0</td>\n",
       "      <td>1</td>\n",
       "      <td>0</td>\n",
       "      <td>0</td>\n",
       "      <td>1</td>\n",
       "    </tr>\n",
       "  </tbody>\n",
       "</table>\n",
       "<p>15801 rows × 29 columns</p>\n",
       "</div>"
      ],
      "text/plain": [
       "       age  education  balance  housing  loan  day  month  duration  campaign  \\\n",
       "12657   27          1       35        0     0    4      5       255         1   \n",
       "12658   54          0      466        0     0    4      5       297         1   \n",
       "12660   31          1       19        0     0    4      5        65         2   \n",
       "12661   27          1      126        1     1    4      5       436         4   \n",
       "12663   50          1     1329        1     1    4      5       141         2   \n",
       "...    ...        ...      ...      ...   ...  ...    ...       ...       ...   \n",
       "45198   37          2     1428        0     0   16      9       333         2   \n",
       "45202   34          1      557        0     0   17      9       224         1   \n",
       "45203   23          2      113        0     0   17      9       266         1   \n",
       "45205   25          1      505        0     1   17      9       386         2   \n",
       "45209   57          1      668        0     0   17      9       508         4   \n",
       "\n",
       "       pdays  ...  job_student  job_technician  job_unemployed  \\\n",
       "12657     -1  ...            0               0               0   \n",
       "12658     -1  ...            0               0               0   \n",
       "12660     -1  ...            0               1               0   \n",
       "12661     -1  ...            0               1               0   \n",
       "12663     -1  ...            0               0               0   \n",
       "...      ...  ...          ...             ...             ...   \n",
       "45198     -1  ...            0               0               0   \n",
       "45202     -1  ...            0               0               0   \n",
       "45203     -1  ...            1               0               0   \n",
       "45205     -1  ...            0               1               0   \n",
       "45209     -1  ...            0               0               0   \n",
       "\n",
       "       marital_divorced  marital_married  marital_single  default_no  \\\n",
       "12657                 0                0               1           1   \n",
       "12658                 0                1               0           1   \n",
       "12660                 0                0               1           1   \n",
       "12661                 0                0               1           1   \n",
       "12663                 0                1               0           1   \n",
       "...                 ...              ...             ...         ...   \n",
       "45198                 0                1               0           1   \n",
       "45202                 0                0               1           1   \n",
       "45203                 0                0               1           1   \n",
       "45205                 0                0               1           1   \n",
       "45209                 0                1               0           1   \n",
       "\n",
       "       default_yes  contact_cellular  contact_telephone  \n",
       "12657            0                 1                  0  \n",
       "12658            0                 1                  0  \n",
       "12660            0                 0                  1  \n",
       "12661            0                 1                  0  \n",
       "12663            0                 0                  1  \n",
       "...            ...               ...                ...  \n",
       "45198            0                 1                  0  \n",
       "45202            0                 1                  0  \n",
       "45203            0                 1                  0  \n",
       "45205            0                 1                  0  \n",
       "45209            0                 0                  1  \n",
       "\n",
       "[15801 rows x 29 columns]"
      ]
     },
     "execution_count": 95,
     "metadata": {},
     "output_type": "execute_result"
    }
   ],
   "source": [
    "# Seperating Features and Target\n",
    "## select feataures\n",
    "features = df.drop('y', axis=1)\n",
    "features"
   ]
  },
  {
   "cell_type": "code",
   "execution_count": 96,
   "id": "a8d068fb",
   "metadata": {},
   "outputs": [
    {
     "data": {
      "text/plain": [
       "12657    0\n",
       "12658    0\n",
       "12660    0\n",
       "12661    0\n",
       "12663    0\n",
       "        ..\n",
       "45198    0\n",
       "45202    1\n",
       "45203    1\n",
       "45205    1\n",
       "45209    0\n",
       "Name: y, Length: 15801, dtype: int64"
      ]
     },
     "execution_count": 96,
     "metadata": {},
     "output_type": "execute_result"
    }
   ],
   "source": [
    "# select target\n",
    "target = df['y']\n",
    "target"
   ]
  },
  {
   "cell_type": "markdown",
   "id": "04eb24e3",
   "metadata": {},
   "source": [
    "## split data"
   ]
  },
  {
   "cell_type": "code",
   "execution_count": 97,
   "id": "e20d27a0",
   "metadata": {},
   "outputs": [
    {
     "name": "stdout",
     "output_type": "stream",
     "text": [
      "Number transactions X_train dataset:  (11060, 29)\n",
      "Number transactions X_test dataset :  (4741, 29)\n",
      " \n",
      "Number transactions y_train dataset:  (11060,)\n",
      "Number transactions y_test dataset :  (4741,)\n"
     ]
    }
   ],
   "source": [
    "# Split dataset into training set and test set\n",
    "\n",
    "from sklearn.model_selection import train_test_split\n",
    "\n",
    "## split data\n",
    "X_train, X_test, y_train, y_test = train_test_split(features, target, test_size = 0.3, random_state= 1)\n",
    "\n",
    "# describes info about train and test set\n",
    "print(\"Number transactions X_train dataset: \", X_train.shape)\n",
    "print(\"Number transactions X_test dataset : \", X_test.shape)\n",
    "print(\" \")\n",
    "print(\"Number transactions y_train dataset: \", y_train.shape)\n",
    "print(\"Number transactions y_test dataset : \", y_test.shape)"
   ]
  },
  {
   "cell_type": "markdown",
   "id": "5e26db6d",
   "metadata": {},
   "source": [
    "## imbalance data"
   ]
  },
  {
   "cell_type": "code",
   "execution_count": 98,
   "id": "7cd8c4f8",
   "metadata": {},
   "outputs": [
    {
     "data": {
      "text/plain": [
       "0    14772\n",
       "1     1029\n",
       "Name: y, dtype: int64"
      ]
     },
     "execution_count": 98,
     "metadata": {},
     "output_type": "execute_result"
    }
   ],
   "source": [
    "# menghandle imbalance data dengan SMOTE (Sintetis Minoritas Sampling Teknik)\n",
    "df['y'].value_counts()"
   ]
  },
  {
   "cell_type": "code",
   "execution_count": 99,
   "id": "c81729dd",
   "metadata": {},
   "outputs": [
    {
     "data": {
      "text/plain": [
       "Counter({0: 10335, 1: 725})"
      ]
     },
     "execution_count": 99,
     "metadata": {},
     "output_type": "execute_result"
    }
   ],
   "source": [
    "from collections import Counter\n",
    "Counter(y_train)"
   ]
  },
  {
   "cell_type": "code",
   "execution_count": 100,
   "id": "0cf3f5e2",
   "metadata": {},
   "outputs": [],
   "source": [
    "from imblearn.over_sampling import SMOTE\n",
    "sm = SMOTE(random_state = 2)\n",
    "X_train_smote, y_train_smote = sm.fit_resample(X_train,y_train)"
   ]
  },
  {
   "cell_type": "code",
   "execution_count": 101,
   "id": "093d98e0",
   "metadata": {},
   "outputs": [
    {
     "data": {
      "text/plain": [
       "Counter({0: 10335, 1: 10335})"
      ]
     },
     "execution_count": 101,
     "metadata": {},
     "output_type": "execute_result"
    }
   ],
   "source": [
    "Counter(y_train_smote)"
   ]
  },
  {
   "cell_type": "markdown",
   "id": "dedc920b",
   "metadata": {},
   "source": [
    "## scaler"
   ]
  },
  {
   "cell_type": "code",
   "execution_count": 102,
   "id": "9f93a129",
   "metadata": {},
   "outputs": [],
   "source": [
    "# Standardizing the data\n",
    "from sklearn.preprocessing import StandardScaler\n",
    "\n",
    "scaler = StandardScaler()\n",
    "X_train = scaler.fit_transform(X_train) # scaling X_train\n",
    "X_train_smote = scaler.fit_transform(X_train_smote) # scaling over_X_train\n",
    "\n",
    "X_test = scaler.transform(X_test)"
   ]
  },
  {
   "cell_type": "markdown",
   "id": "902a0c23",
   "metadata": {},
   "source": [
    "## logitsic regression"
   ]
  },
  {
   "cell_type": "code",
   "execution_count": 103,
   "id": "2da6a21a",
   "metadata": {},
   "outputs": [
    {
     "name": "stdout",
     "output_type": "stream",
     "text": [
      "Accuracy Score: 0.9352457287492091\n",
      "              precision    recall  f1-score   support\n",
      "\n",
      "           0       0.94      1.00      0.97      4437\n",
      "           1       0.20      0.00      0.01       304\n",
      "\n",
      "    accuracy                           0.94      4741\n",
      "   macro avg       0.57      0.50      0.49      4741\n",
      "weighted avg       0.89      0.94      0.90      4741\n",
      "\n"
     ]
    }
   ],
   "source": [
    "# Logistic regression\n",
    "LogR = LogisticRegression(solver='lbfgs')\n",
    "LogR.fit(X_train, y_train)\n",
    "\n",
    "pred1 = LogR.predict(X_test)\n",
    "\n",
    "print(\"Accuracy Score:\", accuracy_score(y_test, pred1))\n",
    "print(classification_report(y_test, pred1))"
   ]
  },
  {
   "cell_type": "code",
   "execution_count": 104,
   "id": "ad11bf2d",
   "metadata": {},
   "outputs": [
    {
     "data": {
      "image/png": "[encoded data removed]",
      "text/plain": [
       "<Figure size 432x288 with 2 Axes>"
      ]
     },
     "metadata": {
      "needs_background": "light"
     },
     "output_type": "display_data"
    }
   ],
   "source": [
    "cm = confusion_matrix(y_test, pred1)\n",
    "\n",
    "group_counts = [\"{0:0.0f}\".format(value) for value in\n",
    "                cm.flatten()]\n",
    "group_percentages = [\"{0:.2%}\".format(value) for value in\n",
    "                     cm.flatten()/np.sum(cm)]\n",
    "\n",
    "labels = [f\"{v1}\\n{v2}\" for v1, v2, in\n",
    "          zip(group_counts,group_percentages)]\n",
    "labels = np.asarray(labels).reshape(2,2)\n",
    "\n",
    "ax = sns.heatmap(cm, annot=labels, fmt='', cmap='Blues')\n",
    "ax.set_title('Confusion Matrix \\n');\n",
    "\n",
    "ax.xaxis.set_ticklabels(['Predicted 0s', 'Predicted 1s'])\n",
    "ax.yaxis.set_ticklabels(['Actual 0s', 'Actual 1s'])\n",
    "\n",
    "\n",
    "plt.show()"
   ]
  },
  {
   "cell_type": "code",
   "execution_count": 105,
   "id": "cd2523aa",
   "metadata": {},
   "outputs": [
    {
     "name": "stdout",
     "output_type": "stream",
     "text": [
      "Accuracy Score: 0.92723054207973\n",
      "              precision    recall  f1-score   support\n",
      "\n",
      "           0       0.94      0.98      0.96      4437\n",
      "           1       0.34      0.14      0.20       304\n",
      "\n",
      "    accuracy                           0.93      4741\n",
      "   macro avg       0.64      0.56      0.58      4741\n",
      "weighted avg       0.90      0.93      0.91      4741\n",
      "\n"
     ]
    }
   ],
   "source": [
    "# Logistic Regression dengan SMOTE\n",
    "LogR = LogisticRegression(solver='lbfgs')\n",
    "LogR.fit(X_train_smote, y_train_smote)\n",
    "\n",
    "pred11 = LogR.predict(X_test)\n",
    "\n",
    "print(\"Accuracy Score:\", accuracy_score(y_test, pred11))\n",
    "print(classification_report(y_test, pred11))"
   ]
  },
  {
   "cell_type": "code",
   "execution_count": 106,
   "id": "d508a4a0",
   "metadata": {},
   "outputs": [
    {
     "data": {
      "image/png": "[encoded data removed]",
      "text/plain": [
       "<Figure size 432x288 with 2 Axes>"
      ]
     },
     "metadata": {
      "needs_background": "light"
     },
     "output_type": "display_data"
    }
   ],
   "source": [
    "cm = confusion_matrix(y_test, pred11)\n",
    "\n",
    "group_counts = [\"{0:0.0f}\".format(value) for value in\n",
    "                cm.flatten()]\n",
    "group_percentages = [\"{0:.2%}\".format(value) for value in\n",
    "                     cm.flatten()/np.sum(cm)]\n",
    "\n",
    "labels = [f\"{v1}\\n{v2}\" for v1, v2, in\n",
    "          zip(group_counts,group_percentages)]\n",
    "labels = np.asarray(labels).reshape(2,2)\n",
    "\n",
    "ax = sns.heatmap(cm, annot=labels, fmt='', cmap='Blues')\n",
    "ax.set_title('Confusion Matrix \\n');\n",
    "\n",
    "ax.xaxis.set_ticklabels(['Predicted 0s', 'Predicted 1s'])\n",
    "ax.yaxis.set_ticklabels(['Actual 0s', 'Actual 1s'])\n",
    "\n",
    "plt.show()"
   ]
  },
  {
   "cell_type": "markdown",
   "id": "da6bfd82",
   "metadata": {},
   "source": [
    "## decision tree"
   ]
  },
  {
   "cell_type": "code",
   "execution_count": 107,
   "id": "5439241f",
   "metadata": {},
   "outputs": [
    {
     "name": "stdout",
     "output_type": "stream",
     "text": [
      "Accuracy Score: 0.9213246150601139\n",
      "              precision    recall  f1-score   support\n",
      "\n",
      "           0       0.95      0.96      0.96      4437\n",
      "           1       0.36      0.30      0.33       304\n",
      "\n",
      "    accuracy                           0.92      4741\n",
      "   macro avg       0.66      0.63      0.64      4741\n",
      "weighted avg       0.91      0.92      0.92      4741\n",
      "\n"
     ]
    }
   ],
   "source": [
    "# Decision Tree\n",
    "dtree = DecisionTreeClassifier(criterion='entropy')\n",
    "dtree.fit(X_train, y_train)\n",
    "\n",
    "pred2 = dtree.predict(X_test)\n",
    "\n",
    "print(\"Accuracy Score:\", accuracy_score(y_test, pred2 ))\n",
    "print(classification_report(y_test, pred2 ))"
   ]
  },
  {
   "cell_type": "code",
   "execution_count": 108,
   "id": "7420bcd2",
   "metadata": {},
   "outputs": [
    {
     "data": {
      "image/png": "[encoded data removed]",
      "text/plain": [
       "<Figure size 432x288 with 2 Axes>"
      ]
     },
     "metadata": {
      "needs_background": "light"
     },
     "output_type": "display_data"
    }
   ],
   "source": [
    "cm = confusion_matrix(y_test, pred2)\n",
    "\n",
    "group_counts = [\"{0:0.0f}\".format(value) for value in\n",
    "                cm.flatten()]\n",
    "group_percentages = [\"{0:.2%}\".format(value) for value in\n",
    "                     cm.flatten()/np.sum(cm)]\n",
    "\n",
    "labels = [f\"{v1}\\n{v2}\" for v1, v2, in\n",
    "          zip(group_counts,group_percentages)]\n",
    "labels = np.asarray(labels).reshape(2,2)\n",
    "\n",
    "ax = sns.heatmap(cm, annot=labels, fmt='', cmap='Blues')\n",
    "ax.set_title('Confusion Matrix \\n');\n",
    "\n",
    "ax.xaxis.set_ticklabels(['Predicted 0s', 'Predicted 1s'])\n",
    "ax.yaxis.set_ticklabels(['Actual 0s', 'Actual 1s'])\n",
    "\n",
    "plt.show()"
   ]
  },
  {
   "cell_type": "code",
   "execution_count": 109,
   "id": "d7c0dbbe",
   "metadata": {},
   "outputs": [
    {
     "name": "stdout",
     "output_type": "stream",
     "text": [
      "Accuracy Score: 0.8890529424172116\n",
      "              precision    recall  f1-score   support\n",
      "\n",
      "           0       0.95      0.93      0.94      4437\n",
      "           1       0.22      0.30      0.25       304\n",
      "\n",
      "    accuracy                           0.89      4741\n",
      "   macro avg       0.59      0.61      0.60      4741\n",
      "weighted avg       0.90      0.89      0.90      4741\n",
      "\n"
     ]
    }
   ],
   "source": [
    "# decision Tree Smote\n",
    "dtree = DecisionTreeClassifier(criterion='entropy')\n",
    "dtree.fit(X_train_smote, y_train_smote)\n",
    "\n",
    "pred22  = dtree.predict(X_test)\n",
    "\n",
    "print(\"Accuracy Score:\", accuracy_score(y_test, pred22 ))\n",
    "print(classification_report(y_test, pred22 ))"
   ]
  },
  {
   "cell_type": "code",
   "execution_count": 110,
   "id": "c02b6bc7",
   "metadata": {},
   "outputs": [
    {
     "data": {
      "image/png": "[encoded data removed]",
      "text/plain": [
       "<Figure size 432x288 with 2 Axes>"
      ]
     },
     "metadata": {
      "needs_background": "light"
     },
     "output_type": "display_data"
    }
   ],
   "source": [
    "cm = confusion_matrix(y_test, pred22)\n",
    "\n",
    "group_counts = [\"{0:0.0f}\".format(value) for value in\n",
    "                cm.flatten()]\n",
    "group_percentages = [\"{0:.2%}\".format(value) for value in\n",
    "                     cm.flatten()/np.sum(cm)]\n",
    "\n",
    "labels = [f\"{v1}\\n{v2}\" for v1, v2, in\n",
    "          zip(group_counts,group_percentages)]\n",
    "labels = np.asarray(labels).reshape(2,2)\n",
    "\n",
    "ax = sns.heatmap(cm, annot=labels, fmt='', cmap='Blues')\n",
    "ax.set_title('Confusion Matrix \\n');\n",
    "\n",
    "ax.xaxis.set_ticklabels(['Predicted 0s', 'Predicted 1s'])\n",
    "ax.yaxis.set_ticklabels(['Actual 0s', 'Actual 1s'])\n",
    "\n",
    "plt.show()"
   ]
  },
  {
   "cell_type": "markdown",
   "id": "8181ae51",
   "metadata": {},
   "source": [
    "## random forest classifier"
   ]
  },
  {
   "cell_type": "code",
   "execution_count": 111,
   "id": "0218a51a",
   "metadata": {},
   "outputs": [
    {
     "name": "stdout",
     "output_type": "stream",
     "text": [
      "Accuracy Score: 0.9373549883990719\n",
      "              precision    recall  f1-score   support\n",
      "\n",
      "           0       0.94      1.00      0.97      4437\n",
      "           1       0.60      0.07      0.12       304\n",
      "\n",
      "    accuracy                           0.94      4741\n",
      "   macro avg       0.77      0.53      0.55      4741\n",
      "weighted avg       0.92      0.94      0.91      4741\n",
      "\n"
     ]
    }
   ],
   "source": [
    "# random forest\n",
    "random_forest = RandomForestClassifier(n_estimators=100)\n",
    "random_forest.fit(X_train, y_train)\n",
    "\n",
    "pred3  = random_forest.predict(X_test)\n",
    "\n",
    "print(\"Accuracy Score:\", accuracy_score(y_test, pred3  ))\n",
    "print(classification_report(y_test, pred3  ))"
   ]
  },
  {
   "cell_type": "code",
   "execution_count": 112,
   "id": "e1634f24",
   "metadata": {},
   "outputs": [
    {
     "data": {
      "image/png": "[encoded data removed]",
      "text/plain": [
       "<Figure size 432x288 with 2 Axes>"
      ]
     },
     "metadata": {
      "needs_background": "light"
     },
     "output_type": "display_data"
    }
   ],
   "source": [
    "cm = confusion_matrix(y_test, pred3)\n",
    "\n",
    "group_counts = [\"{0:0.0f}\".format(value) for value in\n",
    "                cm.flatten()]\n",
    "group_percentages = [\"{0:.2%}\".format(value) for value in\n",
    "                     cm.flatten()/np.sum(cm)]\n",
    "\n",
    "labels = [f\"{v1}\\n{v2}\" for v1, v2, in\n",
    "          zip(group_counts,group_percentages)]\n",
    "labels = np.asarray(labels).reshape(2,2)\n",
    "\n",
    "ax = sns.heatmap(cm, annot=labels, fmt='', cmap='Blues')\n",
    "ax.set_title('Confusion Matrix \\n');\n",
    "\n",
    "ax.xaxis.set_ticklabels(['Predicted 0s', 'Predicted 1s'])\n",
    "ax.yaxis.set_ticklabels(['Actual 0s', 'Actual 1s'])\n",
    "\n",
    "plt.show()"
   ]
  },
  {
   "cell_type": "code",
   "execution_count": 113,
   "id": "600a1bef",
   "metadata": {},
   "outputs": [
    {
     "name": "stdout",
     "output_type": "stream",
     "text": [
      "Accuracy Score: 0.9339801729592913\n",
      "              precision    recall  f1-score   support\n",
      "\n",
      "           0       0.95      0.99      0.97      4437\n",
      "           1       0.46      0.17      0.25       304\n",
      "\n",
      "    accuracy                           0.93      4741\n",
      "   macro avg       0.70      0.58      0.61      4741\n",
      "weighted avg       0.91      0.93      0.92      4741\n",
      "\n"
     ]
    }
   ],
   "source": [
    "# Random Forest Smote\n",
    "random_forest = RandomForestClassifier(n_estimators=100)\n",
    "random_forest.fit(X_train_smote, y_train_smote)\n",
    "\n",
    "pred33   = random_forest.predict(X_test)\n",
    "\n",
    "print(\"Accuracy Score:\", accuracy_score(y_test, pred33))\n",
    "print(classification_report(y_test, pred33))"
   ]
  },
  {
   "cell_type": "code",
   "execution_count": 114,
   "id": "e7018e43",
   "metadata": {},
   "outputs": [
    {
     "data": {
      "image/png": "[encoded data removed]",
      "text/plain": [
       "<Figure size 432x288 with 2 Axes>"
      ]
     },
     "metadata": {
      "needs_background": "light"
     },
     "output_type": "display_data"
    }
   ],
   "source": [
    "cm = confusion_matrix(y_test, pred33)\n",
    "\n",
    "group_counts = [\"{0:0.0f}\".format(value) for value in\n",
    "                cm.flatten()]\n",
    "group_percentages = [\"{0:.2%}\".format(value) for value in\n",
    "                     cm.flatten()/np.sum(cm)]\n",
    "\n",
    "labels = [f\"{v1}\\n{v2}\" for v1, v2, in\n",
    "          zip(group_counts,group_percentages)]\n",
    "labels = np.asarray(labels).reshape(2,2)\n",
    "\n",
    "ax = sns.heatmap(cm, annot=labels, fmt='', cmap='Blues')\n",
    "ax.set_title('Confusion Matrix \\n');\n",
    "\n",
    "ax.xaxis.set_ticklabels(['Predicted 0s', 'Predicted 1s'])\n",
    "ax.yaxis.set_ticklabels(['Actual 0s', 'Actual 1s'])\n",
    "\n",
    "plt.show()"
   ]
  },
  {
   "cell_type": "markdown",
   "id": "c54e2457",
   "metadata": {},
   "source": [
    "## naive bayes"
   ]
  },
  {
   "cell_type": "code",
   "execution_count": 115,
   "id": "8e5180da",
   "metadata": {},
   "outputs": [
    {
     "name": "stdout",
     "output_type": "stream",
     "text": [
      "Accuracy Score   : 0.8475005273149124\n",
      "              precision    recall  f1-score   support\n",
      "\n",
      "           0       0.95      0.88      0.92      4437\n",
      "           1       0.17      0.35      0.23       304\n",
      "\n",
      "    accuracy                           0.85      4741\n",
      "   macro avg       0.56      0.62      0.57      4741\n",
      "weighted avg       0.90      0.85      0.87      4741\n",
      "\n"
     ]
    }
   ],
   "source": [
    "# naive bayes\n",
    "from sklearn.naive_bayes import GaussianNB\n",
    "\n",
    "nb_model = GaussianNB()\n",
    "nb_model.fit(X_train, y_train)\n",
    "\n",
    "pred4 = nb_model.predict(X_test)\n",
    "\n",
    "print(\"Accuracy Score   :\", accuracy_score(y_test, pred4 ))\n",
    "print(classification_report(y_test, pred4 ))"
   ]
  },
  {
   "cell_type": "code",
   "execution_count": 116,
   "id": "ba1e573f",
   "metadata": {},
   "outputs": [
    {
     "data": {
      "image/png": "[encoded data removed]",
      "text/plain": [
       "<Figure size 432x288 with 2 Axes>"
      ]
     },
     "metadata": {
      "needs_background": "light"
     },
     "output_type": "display_data"
    }
   ],
   "source": [
    "cm = confusion_matrix(y_test, pred4)\n",
    "\n",
    "group_counts = [\"{0:0.0f}\".format(value) for value in\n",
    "                cm.flatten()]\n",
    "group_percentages = [\"{0:.2%}\".format(value) for value in\n",
    "                     cm.flatten()/np.sum(cm)]\n",
    "\n",
    "labels = [f\"{v1}\\n{v2}\" for v1, v2, in\n",
    "          zip(group_counts,group_percentages)]\n",
    "labels = np.asarray(labels).reshape(2,2)\n",
    "\n",
    "ax = sns.heatmap(cm, annot=labels, fmt='', cmap='Blues')\n",
    "ax.set_title('Confusion Matrix \\n');\n",
    "\n",
    "ax.xaxis.set_ticklabels(['Predicted 0s', 'Predicted 1s'])\n",
    "ax.yaxis.set_ticklabels(['Actual 0s', 'Actual 1s'])\n",
    "\n",
    "plt.show()"
   ]
  },
  {
   "cell_type": "code",
   "execution_count": 119,
   "id": "0aeaafe4",
   "metadata": {},
   "outputs": [
    {
     "name": "stdout",
     "output_type": "stream",
     "text": [
      "Accuracy Score   : 0.7158827251634676\n",
      "              precision    recall  f1-score   support\n",
      "\n",
      "           0       0.94      0.74      0.83      4437\n",
      "           1       0.08      0.35      0.13       304\n",
      "\n",
      "    accuracy                           0.72      4741\n",
      "   macro avg       0.51      0.54      0.48      4741\n",
      "weighted avg       0.89      0.72      0.79      4741\n",
      "\n"
     ]
    }
   ],
   "source": [
    "# naive bayes smote\n",
    "from sklearn.naive_bayes import GaussianNB\n",
    "\n",
    "nb_model = GaussianNB()\n",
    "nb_model.fit(X_train_smote, y_train_smote)\n",
    "\n",
    "pred44  = nb_model.predict(X_test)\n",
    "\n",
    "print(\"Accuracy Score   :\", accuracy_score(y_test, pred44))\n",
    "print(classification_report(y_test, pred44))"
   ]
  },
  {
   "cell_type": "code",
   "execution_count": 120,
   "id": "a798e048",
   "metadata": {},
   "outputs": [
    {
     "data": {
      "image/png": "[encoded data removed]",
      "text/plain": [
       "<Figure size 432x288 with 2 Axes>"
      ]
     },
     "metadata": {
      "needs_background": "light"
     },
     "output_type": "display_data"
    }
   ],
   "source": [
    "cm = confusion_matrix(y_test, pred44)\n",
    "\n",
    "group_counts = [\"{0:0.0f}\".format(value) for value in\n",
    "                cm.flatten()]\n",
    "group_percentages = [\"{0:.2%}\".format(value) for value in\n",
    "                     cm.flatten()/np.sum(cm)]\n",
    "\n",
    "labels = [f\"{v1}\\n{v2}\" for v1, v2, in\n",
    "          zip(group_counts,group_percentages)]\n",
    "labels = np.asarray(labels).reshape(2,2)\n",
    "\n",
    "ax = sns.heatmap(cm, annot=labels, fmt='', cmap='Blues')\n",
    "ax.set_title('Confusion Matrix \\n');\n",
    "\n",
    "ax.xaxis.set_ticklabels(['Predicted 0s', 'Predicted 1s'])\n",
    "ax.yaxis.set_ticklabels(['Actual 0s', 'Actual 1s'])\n",
    "\n",
    "plt.show()"
   ]
  },
  {
   "cell_type": "markdown",
   "id": "efd2aa1a",
   "metadata": {},
   "source": [
    "## knearest neighbors classifier"
   ]
  },
  {
   "cell_type": "code",
   "execution_count": 121,
   "id": "4c4b9291",
   "metadata": {},
   "outputs": [
    {
     "name": "stdout",
     "output_type": "stream",
     "text": [
      "Accuracy Score   : 0.9335583210293187\n",
      "              precision    recall  f1-score   support\n",
      "\n",
      "           0       0.94      1.00      0.97      4437\n",
      "           1       0.31      0.03      0.05       304\n",
      "\n",
      "    accuracy                           0.93      4741\n",
      "   macro avg       0.62      0.51      0.51      4741\n",
      "weighted avg       0.90      0.93      0.91      4741\n",
      "\n"
     ]
    }
   ],
   "source": [
    "# knearest neighbors Classifier\n",
    "from sklearn.neighbors import KNeighborsClassifier\n",
    "\n",
    "knn = KNeighborsClassifier(n_neighbors=5)\n",
    "knn.fit(X_train, y_train)\n",
    "\n",
    "pred5 = knn.predict(X_test)\n",
    "\n",
    "print(\"Accuracy Score   :\", accuracy_score(y_test, pred5))\n",
    "print(classification_report(y_test, pred5))"
   ]
  },
  {
   "cell_type": "code",
   "execution_count": 122,
   "id": "4cebfdce",
   "metadata": {},
   "outputs": [
    {
     "data": {
      "image/png": "[encoded data removed]",
      "text/plain": [
       "<Figure size 432x288 with 2 Axes>"
      ]
     },
     "metadata": {
      "needs_background": "light"
     },
     "output_type": "display_data"
    }
   ],
   "source": [
    "cm = confusion_matrix(y_test, pred5)\n",
    "\n",
    "group_counts = [\"{0:0.0f}\".format(value) for value in\n",
    "                cm.flatten()]\n",
    "group_percentages = [\"{0:.2%}\".format(value) for value in\n",
    "                     cm.flatten()/np.sum(cm)]\n",
    "\n",
    "labels = [f\"{v1}\\n{v2}\" for v1, v2, in\n",
    "          zip(group_counts,group_percentages)]\n",
    "labels = np.asarray(labels).reshape(2,2)\n",
    "\n",
    "ax = sns.heatmap(cm, annot=labels, fmt='', cmap='Blues')\n",
    "ax.set_title('Confusion Matrix \\n');\n",
    "\n",
    "ax.xaxis.set_ticklabels(['Predicted 0s', 'Predicted 1s'])\n",
    "ax.yaxis.set_ticklabels(['Actual 0s', 'Actual 1s'])\n",
    "\n",
    "plt.show()"
   ]
  },
  {
   "cell_type": "code",
   "execution_count": 123,
   "id": "aaa3ea36",
   "metadata": {},
   "outputs": [
    {
     "name": "stdout",
     "output_type": "stream",
     "text": [
      "Accuracy Score   : 0.9107783168107995\n",
      "              precision    recall  f1-score   support\n",
      "\n",
      "           0       0.94      0.96      0.95      4437\n",
      "           1       0.21      0.14      0.17       304\n",
      "\n",
      "    accuracy                           0.91      4741\n",
      "   macro avg       0.58      0.55      0.56      4741\n",
      "weighted avg       0.90      0.91      0.90      4741\n",
      "\n"
     ]
    }
   ],
   "source": [
    "# knearest neighbors Classifier smote\n",
    "from sklearn.neighbors import KNeighborsClassifier\n",
    "\n",
    "knn = KNeighborsClassifier(n_neighbors=5)\n",
    "knn.fit(X_train_smote, y_train_smote)\n",
    "\n",
    "pred55 = knn.predict(X_test)\n",
    "\n",
    "print(\"Accuracy Score   :\", accuracy_score(y_test, pred55))\n",
    "print(classification_report(y_test, pred55))"
   ]
  },
  {
   "cell_type": "code",
   "execution_count": 124,
   "id": "e5fd1d80",
   "metadata": {},
   "outputs": [
    {
     "data": {
      "image/png": "[encoded data removed]",
      "text/plain": [
       "<Figure size 432x288 with 2 Axes>"
      ]
     },
     "metadata": {
      "needs_background": "light"
     },
     "output_type": "display_data"
    }
   ],
   "source": [
    "cm = confusion_matrix(y_test, pred55)\n",
    "\n",
    "group_counts = [\"{0:0.0f}\".format(value) for value in\n",
    "                cm.flatten()]\n",
    "group_percentages = [\"{0:.2%}\".format(value) for value in\n",
    "                     cm.flatten()/np.sum(cm)]\n",
    "\n",
    "labels = [f\"{v1}\\n{v2}\" for v1, v2, in\n",
    "          zip(group_counts,group_percentages)]\n",
    "labels = np.asarray(labels).reshape(2,2)\n",
    "\n",
    "ax = sns.heatmap(cm, annot=labels, fmt='', cmap='Blues')\n",
    "ax.set_title('Confusion Matrix \\n');\n",
    "\n",
    "ax.xaxis.set_ticklabels(['Predicted 0s', 'Predicted 1s'])\n",
    "ax.yaxis.set_ticklabels(['Actual 0s', 'Actual 1s'])\n",
    "\n",
    "plt.show()"
   ]
  },
  {
   "cell_type": "markdown",
   "id": "dea91e73",
   "metadata": {},
   "source": [
    "## support vector machine (SVM)"
   ]
  },
  {
   "cell_type": "code",
   "execution_count": 125,
   "id": "494e173f",
   "metadata": {},
   "outputs": [
    {
     "name": "stdout",
     "output_type": "stream",
     "text": [
      "Accuracy Score   : 0.9358785066441679\n",
      "              precision    recall  f1-score   support\n",
      "\n",
      "           0       0.94      1.00      0.97      4437\n",
      "           1       0.00      0.00      0.00       304\n",
      "\n",
      "    accuracy                           0.94      4741\n",
      "   macro avg       0.47      0.50      0.48      4741\n",
      "weighted avg       0.88      0.94      0.90      4741\n",
      "\n"
     ]
    },
    {
     "name": "stderr",
     "output_type": "stream",
     "text": [
      "/home/jefl5/.local/lib/python3.8/site-packages/sklearn/metrics/_classification.py:1318: UndefinedMetricWarning: Precision and F-score are ill-defined and being set to 0.0 in labels with no predicted samples. Use `zero_division` parameter to control this behavior.\n",
      "  _warn_prf(average, modifier, msg_start, len(result))\n",
      "/home/jefl5/.local/lib/python3.8/site-packages/sklearn/metrics/_classification.py:1318: UndefinedMetricWarning: Precision and F-score are ill-defined and being set to 0.0 in labels with no predicted samples. Use `zero_division` parameter to control this behavior.\n",
      "  _warn_prf(average, modifier, msg_start, len(result))\n",
      "/home/jefl5/.local/lib/python3.8/site-packages/sklearn/metrics/_classification.py:1318: UndefinedMetricWarning: Precision and F-score are ill-defined and being set to 0.0 in labels with no predicted samples. Use `zero_division` parameter to control this behavior.\n",
      "  _warn_prf(average, modifier, msg_start, len(result))\n"
     ]
    }
   ],
   "source": [
    "# Support Vector Machine (SVM)\n",
    "from sklearn import svm\n",
    "svm_model = svm.SVC()\n",
    "svm_model.fit(X_train, y_train)\n",
    "\n",
    "pred6 = svm_model.predict(X_test)\n",
    "\n",
    "print(\"Accuracy Score   :\", accuracy_score(y_test, pred6))\n",
    "print(classification_report(y_test, pred6))"
   ]
  },
  {
   "cell_type": "code",
   "execution_count": 126,
   "id": "ead864d0",
   "metadata": {},
   "outputs": [
    {
     "data": {
      "image/png": "[encoded data removed]",
      "text/plain": [
       "<Figure size 432x288 with 2 Axes>"
      ]
     },
     "metadata": {
      "needs_background": "light"
     },
     "output_type": "display_data"
    }
   ],
   "source": [
    "cm = confusion_matrix(y_test, pred6)\n",
    "\n",
    "group_counts = [\"{0:0.0f}\".format(value) for value in\n",
    "                cm.flatten()]\n",
    "group_percentages = [\"{0:.2%}\".format(value) for value in\n",
    "                     cm.flatten()/np.sum(cm)]\n",
    "\n",
    "labels = [f\"{v1}\\n{v2}\" for v1, v2, in\n",
    "          zip(group_counts,group_percentages)]\n",
    "labels = np.asarray(labels).reshape(2,2)\n",
    "\n",
    "ax = sns.heatmap(cm, annot=labels, fmt='', cmap='Blues')\n",
    "ax.set_title('Confusion Matrix \\n');\n",
    "\n",
    "ax.xaxis.set_ticklabels(['Predicted 0s', 'Predicted 1s'])\n",
    "ax.yaxis.set_ticklabels(['Actual 0s', 'Actual 1s'])\n",
    "\n",
    "## Display the visualization of the Confusion Matrix.\n",
    "plt.show()"
   ]
  },
  {
   "cell_type": "markdown",
   "id": "62db5442",
   "metadata": {},
   "source": [
    "### Support Vector Machine (SVM) Smote"
   ]
  },
  {
   "cell_type": "code",
   "execution_count": 127,
   "id": "02f04ad5",
   "metadata": {},
   "outputs": [
    {
     "name": "stdout",
     "output_type": "stream",
     "text": [
      "Accuracy Score   : 0.9316599873444421\n",
      "              precision    recall  f1-score   support\n",
      "\n",
      "           0       0.94      0.99      0.96      4437\n",
      "           1       0.35      0.08      0.12       304\n",
      "\n",
      "    accuracy                           0.93      4741\n",
      "   macro avg       0.64      0.53      0.54      4741\n",
      "weighted avg       0.90      0.93      0.91      4741\n",
      "\n"
     ]
    }
   ],
   "source": [
    "#  Support Vector Machine (SVM) smote\n",
    "from sklearn import svm\n",
    "svm_model = svm.SVC()\n",
    "svm_model.fit(X_train_smote, y_train_smote)\n",
    "\n",
    "pred66 = svm_model.predict(X_test)\n",
    "\n",
    "print(\"Accuracy Score   :\", accuracy_score(y_test, pred66))\n",
    "print(classification_report(y_test, pred66))\n"
   ]
  },
  {
   "cell_type": "code",
   "execution_count": 128,
   "id": "f4db9549",
   "metadata": {},
   "outputs": [
    {
     "data": {
      "image/png": "[encoded data removed]",
      "text/plain": [
       "<Figure size 432x288 with 2 Axes>"
      ]
     },
     "metadata": {
      "needs_background": "light"
     },
     "output_type": "display_data"
    }
   ],
   "source": [
    "cmap = confusion_matrix(y_test, pred66)\n",
    "\n",
    "group_counts = [\"{0:0.0f}\".format(value) for value in\n",
    "                cm.flatten()]\n",
    "group_percentages = [\"{0:.2%}\".format(value) for value in\n",
    "                     cm.flatten()/np.sum(cm)]\n",
    "\n",
    "labels = [f\"{v1}\\n{v2}\" for v1, v2, in\n",
    "          zip(group_counts,group_percentages)]\n",
    "labels = np.asarray(labels).reshape(2,2)\n",
    "\n",
    "ax = sns.heatmap(cm, annot=labels, fmt='', cmap='Blues')\n",
    "ax.set_title('Confusion Matrix \\n');\n",
    "\n",
    "ax.xaxis.set_ticklabels(['Predicted 0s', 'Predicted 1s'])\n",
    "ax.yaxis.set_ticklabels(['Actual 0s', 'Actual 1s'])\n",
    "\n",
    "## Display the visualization of the Confusion Matrix.\n",
    "plt.show()"
   ]
  },
  {
   "cell_type": "markdown",
   "id": "f45d3083",
   "metadata": {},
   "source": [
    "## conclusion"
   ]
  },
  {
   "cell_type": "code",
   "execution_count": 129,
   "id": "4fef8f6c",
   "metadata": {},
   "outputs": [
    {
     "name": "stdout",
     "output_type": "stream",
     "text": [
      "Accuracy Score Model Algoritma\n",
      "Logistic Regression : 0.9352457287492091\n",
      "Decision Tree       : 0.9213246150601139\n",
      "Random Forest       : 0.9373549883990719\n",
      "Niabe Bayes         : 0.8475005273149124\n",
      "KNN                 : 0.9335583210293187\n",
      "SVM                 : 0.9358785066441679\n",
      "\n",
      "Accuracy Score Model Algoritma Setelah smooth\n",
      "Logistic Regression : 0.92723054207973\n",
      "Decision Tree       : 0.8890529424172116\n",
      "Random Forest       : 0.9339801729592913\n",
      "Niabe Bayes         : 0.7158827251634676\n",
      "KNN                 : 0.9107783168107995\n",
      "SVM                 : 0.9316599873444421\n"
     ]
    }
   ],
   "source": [
    "print('Accuracy Score Model Algoritma')\n",
    "print(\"Logistic Regression :\", accuracy_score(y_test, pred1))\n",
    "print(\"Decision Tree       :\", accuracy_score(y_test, pred2))\n",
    "print(\"Random Forest       :\", accuracy_score(y_test, pred3))\n",
    "print(\"Niabe Bayes         :\", accuracy_score(y_test, pred4))\n",
    "print(\"KNN                 :\", accuracy_score(y_test, pred5))\n",
    "print(\"SVM                 :\", accuracy_score(y_test, pred6))\n",
    "\n",
    "\n",
    "\n",
    "print('\\nAccuracy Score Model Algoritma Setelah smooth')\n",
    "print(\"Logistic Regression :\", accuracy_score(y_test, pred11))\n",
    "print(\"Decision Tree       :\", accuracy_score(y_test, pred22))\n",
    "print(\"Random Forest       :\", accuracy_score(y_test, pred33))\n",
    "print(\"Niabe Bayes         :\", accuracy_score(y_test, pred44))\n",
    "print(\"KNN                 :\", accuracy_score(y_test, pred55))\n",
    "print(\"SVM                 :\", accuracy_score(y_test, pred66))"
   ]
  },
  {
   "cell_type": "markdown",
   "id": "cc9e0009",
   "metadata": {},
   "source": [
    "Dari hasil accuracy score diaatas terlihat bahwa Random Forest memiliki nilai paling tinggi diantara yang lain."
   ]
  }
 ],
 "metadata": {
  "kernelspec": {
   "display_name": "Python 3 (ipykernel)",
   "language": "python",
   "name": "python3"
  },
  "language_info": {
   "codemirror_mode": {
    "name": "ipython",
    "version": 3
   },
   "file_extension": ".py",
   "mimetype": "text/x-python",
   "name": "python",
   "nbconvert_exporter": "python",
   "pygments_lexer": "ipython3",
   "version": "3.8.10"
  }
 },
 "nbformat": 4,
 "nbformat_minor": 5
}
