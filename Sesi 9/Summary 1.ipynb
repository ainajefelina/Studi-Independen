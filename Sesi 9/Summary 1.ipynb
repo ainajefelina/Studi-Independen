{
 "cells": [
  {
   "cell_type": "markdown",
   "source": [
    "# Pendahuluan"
   ],
   "metadata": {}
  },
  {
   "cell_type": "markdown",
   "source": [
    "## Statistik deskriptif\n",
    "- meringkas dan mengatur data sehingga dapat dengan mudah dipahami\n",
    "- berbeda dengan statistik inferensial (karena mendeskripsikan data, tanpa membuat kesimpulan dari sampel untuk ke seluruh populasi)\n",
    "- mendeskripsikan data secara umum, dan tidak dikembangkan berdasarkan teori probabilitas\n",
    "- berfungsi untuk memahami data dan bagian penting dari Machine Learning\n",
    "- Machine Learning membuat prediksi\n",
    "- Sehingga descriptive statistics membantu kita lebih memahami apa yang diceritakan oleh data kita, yang akan menghasilkan model dan pemahaman machine learning yang lebih baik secara keseluruhan"
   ],
   "metadata": {}
  },
  {
   "cell_type": "markdown",
   "source": [
    "## Tipe dari Statistika Deskriptif\n",
    "- 1. Measure of central tendency\n",
    "- 2. Measure of variability (spread/ penyebaran)"
   ],
   "metadata": {}
  },
  {
   "cell_type": "markdown",
   "source": [
    "## Populasi dan Sampel\n",
    "-  Populasi\n",
    "    - sekumpulan dari semua elemen yang kita amati\n",
    "    - sangat banyak, sehingga tidak sesuai untuk collecting dan analyzing data\n",
    "    - beberapa kesimpulan dari populasi dibuat dengan memilih dan memeriksa subkumpulan populasi (sampel) dari populasi\n",
    "- Sampel\n",
    "    - subset/sekumpulan populasi\n",
    "    - sampel harus mempertahankan fitur statistik esensial dari populasi sehingga diperoleh hasil yang mewakili dengan sangat benar\n",
    "    - dari sampel dapat menarik kesimpulan dari populasi"
   ],
   "metadata": {}
  },
  {
   "cell_type": "markdown",
   "source": [
    "## Outliers atau Pencilan\n",
    "- titik data yang berada secara signifikan dari sebagian besar data yang diambil dari sampel atau populasi\n",
    "- beberapa penyebab pencilan yang dapat membantu kita yaitu :\n",
    "    - nvariasi alami dalam data\n",
    "    - perubahan perilaku sistem yang diamati\n",
    "    - kesalahan dalam pengumpulan data (penyebab utama yang bisa disebabkan oleh salah perhitungan, kontaminasi data, kesalahan manusia)\n",
    "- tisak ada definisi matematis, jadi mengandalkan pengalaman, pengetahuan dan common sense"
   ],
   "metadata": {}
  },
  {
   "cell_type": "markdown",
   "source": [
    "## Measure of Central Tendency\n",
    "- ada satu bilangan yang paling baik untuk meringkas seluruh rangkaian pengukuran\n",
    "- ada sebuah bilangan merupakan central dari himpunan tersebut\n",
    "- menentukan kecenderungan nilai data kita untuk mengelompokan menjadi mean, mode, atau median"
   ],
   "metadata": {}
  },
  {
   "cell_type": "markdown",
   "source": [
    "### Mean atau Rata - rata\n",
    "- central tendency dari data diantara angka yang tersebar\n",
    "- memperkirakan nilai seluruh kumpulan data\n",
    "- sangat dipengaruhi oleh outliers\n",
    "- dianggap ukuran tendensi sentral yang paling andal untuk membuat asumsi tentang suatu populasi dari satu sampel\n",
    "- rata - rata = jumlah semua nilai dibagi banyaknya nilai"
   ],
   "metadata": {}
  },
  {
   "cell_type": "markdown",
   "source": [
    "### Median  atau P2\n",
    "- nilai yang membagi data dalam jumlah yang sama diantara sisi kanan dan kirinya saat data ditata secara berurutan\n",
    "- median tidak banyak dipengaruhi oleh outliers dan skewed\n",
    "- median hanya menampilkan nilai tengah dan tidak dipengaruhi oleh semua titik data\n",
    "- sehingga lebih cocok untuk melaporkan data\n",
    "    - nilai tengah (jika jumlah dara ganjil)\n",
    "    - rata2 dari 2 nilai tengah (jika jumlah data genap)\n",
    "- kadang median ada juga yang merupakan mean"
   ],
   "metadata": {}
  },
  {
   "cell_type": "markdown",
   "source": [
    "### Mode\n",
    "- nilai yang sering muncul dari kumpulan data\n",
    "- frekuensinya tinggi\n",
    "- data tidak memiliki mode jika tidak ada data yang diulang\n",
    "- satu-satunya tendensi sentral yang digunakan untuk variabel kategori karena data tidak dapat dihitung\n",
    "- variabel kategori ditampilkan sebagai angka dan presentasi\n",
    "- polimodal = jika terdapat beberapa nilai muncul pada waktu yang sama lebih dari nilai lainnya"
   ],
   "metadata": {}
  },
  {
   "cell_type": "markdown",
   "source": [
    "## Measure of Spread / Dispersion\n",
    "- mengukur seberapa bagus mean dalam mempresentasikan sebuah kumpulan data (How far away from the center)"
   ],
   "metadata": {}
  },
  {
   "cell_type": "markdown",
   "source": [
    "### Standar Deviasi\n",
    "- pengukuran jarak antara setiap nilai dan rata-ratanya\n",
    "- menunjukan bagaimana dat disebarkan/ seberapa tersebar data dari mean.\n",
    "- SD yang rendah menunjukan bahwa data cemderimh mendekati rata - rata\n",
    "- SD yang tinggi bahwa data tersebar di nilai yang luas\n",
    "- SD populasi dan sampel berbeda dimana kita harus memilihnya\n"
   ],
   "metadata": {}
  },
  {
   "cell_type": "markdown",
   "source": [
    "### Mean Absolute Deviation\n",
    "- rata-rata perbedaan absolut antara setiap nilai dalam satu set nilai dan rata-rata semua nilai dari set itu"
   ],
   "metadata": {}
  },
  {
   "cell_type": "markdown",
   "source": [
    "### Variasi\n",
    "- kuadrat SD\n",
    "- mencari selisih antara setiap titik data dan mean, mengkuadrat, menjumlahkan dan mengambil rata-rata dari angka itu"
   ],
   "metadata": {}
  },
  {
   "cell_type": "markdown",
   "source": [
    "### Range\n",
    "- perbedaan antara nilai terendah dan tertinggi"
   ],
   "metadata": {}
  },
  {
   "cell_type": "markdown",
   "source": [
    "### Presentil\n",
    "- me-representasikan posisi suatu nilai dalam kumpulan data\n",
    "- dihitung dengan nilai yang paling kecil dan menaik\n",
    "- Jika k merupakan presentil ke-n karena n% dari total suku kurang dari k"
   ],
   "metadata": {}
  },
  {
   "cell_type": "markdown",
   "source": [
    "### Kuartil\n",
    "- nilai yang membagi data menjadi beberapa kuarter dengan data yang diurutkan dalam urutan ascending/ menaik\n",
    "- ada tiga kuartil\n",
    "    - Q1 = 25%P\n",
    "    - Q2 = 50%P\n",
    "    - Q3 = 75%P\n",
    "    - Q3-Q1 = range interquartile"
   ],
   "metadata": {}
  },
  {
   "cell_type": "markdown",
   "source": [
    "###  Skewness"
   ],
   "metadata": {}
  },
  {
   "cell_type": "markdown",
   "source": [
    "- ukuran asimetri distribusi probabilikas dari real-valued random variabel tentang meannya\n",
    "- bisa positif (distribusinya positvely skewed), negatif (distribusinya negatively skewed), dan undefined (tidak ada kemiringan atau nol)\n",
    "- menghitung:\n",
    "    - Mode skewness ((Mean-Mode)/SD)\n",
    "    - Median skewness ((Mean-Median)/SD)\n",
    "- koefisien (membandingkan distribusi samoel dengan distribusi nor,al. Semakin besar maka akan semakin besar perbedaan distribusi dan distribusi normal)"
   ],
   "metadata": {}
  },
  {
   "cell_type": "markdown",
   "source": [
    "### Kurtosis\n",
    "- ukuran apakah data bersifat heavy-tailed (banyak outlier) atau tidak (light outlier) terhadap distribusi normal\n",
    "- ada 3 tipe:\n",
    "    - mesokurtik = distribusi normal = 0\n",
    "    - leptokurtik = lebih besar dari mesokurtik (ekornya tebal dan berat) / lebih memuncak\n",
    "    - platykurtik = lebih rendah dari mesokurtik (ekornya tipis)/ kurang memuncak"
   ],
   "metadata": {}
  },
  {
   "cell_type": "markdown",
   "source": [
    "### Korelasi\n",
    "- menunjukan seberapa kuat variabel terkait\n",
    "- nilainya -1 sampai +1, semakin mendekati +-1 maka hubungan kedua variabel kuat\n",
    "- jika mendekati 0 maka tidak ada hubungan antar variabel\n",
    "- negatif (semakin besar variabel maka nilainya makin kecil)\n",
    "- positif (makin besar variabel, nilainya makin besar)"
   ],
   "metadata": {}
  },
  {
   "cell_type": "markdown",
   "source": [
    "## Python Statistic Libraries\n",
    "- Python's statistik:\n",
    "    - untuk deskriptif statistik\n",
    "    - dataset tidak besar\n",
    "    - jika tidak bisa mengimpor data lain\n",
    "- NumPy:\n",
    "    - untuk komputasi numerikal\n",
    "    - optimal untuk bekerja dengan single-muli dimensional array\n",
    "    - libraries memiliki banyak yang biasa untuk analisis statistika\n",
    "- SciPy:\n",
    "     - untuk komputasi numerikal\n",
    "     - berdasarkan NumPy\n",
    "     - untuk statistika analisis\n",
    "- Pandas:\n",
    "    - untuk komputasi numerikal\n",
    "    - berdasarkan NumPy\n",
    "    - mengendel label excel dengan 1D series dan object di 2D data dengan objek DataFrame\n",
    "Matplotlib :\n",
    "    - data visualisasi\n",
    "    - kombinasi yang baik dengan NumPy, SciPy, dan Pandas"
   ],
   "metadata": {}
  },
  {
   "cell_type": "markdown",
   "source": [
    "# Python"
   ],
   "metadata": {}
  },
  {
   "cell_type": "markdown",
   "source": [
    "## persiapan"
   ],
   "metadata": {}
  },
  {
   "cell_type": "code",
   "execution_count": 1,
   "source": [
    "# import libraries\n",
    "import math\n",
    "import statistics\n",
    "import numpy as np\n",
    "import scipy.stats\n",
    "import pandas as pd"
   ],
   "outputs": [],
   "metadata": {}
  },
  {
   "cell_type": "code",
   "execution_count": 2,
   "source": [
    "# data untuk dikerjakan\n",
    "# data hampir sama dengan salah satu data ada yang berisi nilai nan\n",
    "# nan = not a number\n",
    "x = [8.0, 1, 2.5, 4, 28.0]\n",
    "x_with_nan = [8.0, 1, 2.5, math.nan, 4, 28.0]\n",
    "print(x)\n",
    "print(x_with_nan)"
   ],
   "outputs": [
    {
     "output_type": "stream",
     "name": "stdout",
     "text": [
      "[8.0, 1, 2.5, 4, 28.0]\n",
      "[8.0, 1, 2.5, nan, 4, 28.0]\n"
     ]
    }
   ],
   "metadata": {}
  },
  {
   "cell_type": "code",
   "execution_count": 3,
   "source": [
    "# membuat objek np.ndarray dan pd.Series\n",
    "y, y_with_nan = np.array(x), np.array(x_with_nan)\n",
    "z, z_with_nan = pd.Series(x), pd.Series(x_with_nan)\n",
    "print(y)\n",
    "print(z)\n",
    "print(y_with_nan)\n",
    "print(z_with_nan)"
   ],
   "outputs": [
    {
     "output_type": "stream",
     "name": "stdout",
     "text": [
      "[ 8.   1.   2.5  4.  28. ]\n",
      "0     8.0\n",
      "1     1.0\n",
      "2     2.5\n",
      "3     4.0\n",
      "4    28.0\n",
      "dtype: float64\n",
      "[ 8.   1.   2.5  nan  4.  28. ]\n",
      "0     8.0\n",
      "1     1.0\n",
      "2     2.5\n",
      "3     NaN\n",
      "4     4.0\n",
      "5    28.0\n",
      "dtype: float64\n"
     ]
    }
   ],
   "metadata": {}
  },
  {
   "cell_type": "markdown",
   "source": [
    "## Measures of Central Tendency \n",
    "- menunjukan nilai tengah atau pusat dari kumpulan data"
   ],
   "metadata": {}
  },
  {
   "cell_type": "markdown",
   "source": [
    "### Mean\n",
    "- sample mean = sample aritmatika mean = average = rata - rata aritmatika dari semua item dalam kumpullan data\n",
    "- secara metematis adalah adalah jumlah dari semua elemen dibagi banyaknya elemen"
   ],
   "metadata": {}
  },
  {
   "cell_type": "code",
   "execution_count": 4,
   "source": [
    "# pure python\n",
    "men_ = sum(x)/len(x)\n",
    "print(men_)"
   ],
   "outputs": [
    {
     "output_type": "stream",
     "name": "stdout",
     "text": [
      "8.7\n"
     ]
    }
   ],
   "metadata": {}
  },
  {
   "cell_type": "code",
   "execution_count": 5,
   "source": [
    "# statistics built-in\n",
    "men_ = statistics.mean(x)\n",
    "print(men_)\n",
    "men_ = statistics.mean(x_with_nan)\n",
    "print(men_)"
   ],
   "outputs": [
    {
     "output_type": "stream",
     "name": "stdout",
     "text": [
      "8.7\n",
      "nan\n"
     ]
    }
   ],
   "metadata": {}
  },
  {
   "cell_type": "code",
   "execution_count": 6,
   "source": [
    "# dengan numpy dalam sebuah fungsi\n",
    "men_=np.mean(y)\n",
    "print(men_)\n",
    "#  metode lain\n",
    "men_= y.mean()\n",
    "print(men_)"
   ],
   "outputs": [
    {
     "output_type": "stream",
     "name": "stdout",
     "text": [
      "8.7\n",
      "8.7\n"
     ]
    }
   ],
   "metadata": {}
  },
  {
   "cell_type": "code",
   "execution_count": 7,
   "source": [
    "# jika ada nilai nan\n",
    "print(np.mean(y_with_nan))\n",
    "print(y_with_nan.mean())"
   ],
   "outputs": [
    {
     "output_type": "stream",
     "name": "stdout",
     "text": [
      "nan\n",
      "nan\n"
     ]
    }
   ],
   "metadata": {}
  },
  {
   "cell_type": "code",
   "execution_count": 8,
   "source": [
    "# mengabaikan nilai nan dengan np.nanmean\n",
    "np.nanmean(y_with_nan)"
   ],
   "outputs": [
    {
     "output_type": "execute_result",
     "data": {
      "text/plain": [
       "8.7"
      ]
     },
     "metadata": {},
     "execution_count": 8
    }
   ],
   "metadata": {}
  },
  {
   "cell_type": "code",
   "execution_count": 9,
   "source": [
    "# pada pd.Series\n",
    "z.mean()"
   ],
   "outputs": [
    {
     "output_type": "execute_result",
     "data": {
      "text/plain": [
       "8.7"
      ]
     },
     "metadata": {},
     "execution_count": 9
    }
   ],
   "metadata": {}
  },
  {
   "cell_type": "code",
   "execution_count": 10,
   "source": [
    "#pandas mengabaikan nilai nan secara default\n",
    "z_with_nan.mean()"
   ],
   "outputs": [
    {
     "output_type": "execute_result",
     "data": {
      "text/plain": [
       "8.7"
      ]
     },
     "metadata": {},
     "execution_count": 10
    }
   ],
   "metadata": {}
  },
  {
   "cell_type": "markdown",
   "source": [
    "### Weighted mean\n",
    "- weighted aritmatika mean = weighted average = generalisasi dari rata - rata aritmatika yang memungkinkan kita untuk menentuka kontribusi relatif dari setiap titik data ke hasil\n",
    "- bobot Wi untuk setiap untuk setiap data Xi dari dataset X adalah jumlah item di X.  Maka kita mengalikan setiap titik data dengan bobot yang sesuai, menjumlahkannya, dan membagi semua data yang diperoleh\n",
    "- Weighted mean berguna saat kita membutuhkan rata - rata kumpulan data yang berisi item yang muncul dengan frekuensi relatif tertentu, atau kita dapat menghitung rata - rata dari setiap set"
   ],
   "metadata": {}
  },
  {
   "cell_type": "code",
   "execution_count": 12,
   "source": [
    "# weighted mean dalam python pure dengan menggabungkan sum() dengan range() atau zip()\n",
    "x= [8.0, 1, 2.5, 4, 28.0]\n",
    "w=[0.1, 0.2, 0.3, 0.25, 0.15]\n",
    "wmean= sum(w[i]* x[i] for i in range(len(x)))/sum(w)\n",
    "print(wmean)\n",
    "\n",
    "wmean=sum(x_* w_ for (x_, w_) in zip(x,w))/sum(w)\n",
    "print(wmean)"
   ],
   "outputs": [
    {
     "output_type": "stream",
     "name": "stdout",
     "text": [
      "6.95\n",
      "6.95\n"
     ]
    }
   ],
   "metadata": {}
  },
  {
   "cell_type": "code",
   "execution_count": 13,
   "source": [
    "# kumpulan data yang besar dapt menggunakan NumPy\n",
    "y, z, w = np.array(x), pd.Series(x),np.array(w)\n",
    "wmean = np.average(y, weights=w)\n",
    "print(wmean)\n",
    "wmean = np.average(x, weights=w)\n",
    "print(wmean)"
   ],
   "outputs": [
    {
     "output_type": "stream",
     "name": "stdout",
     "text": [
      "6.95\n",
      "6.95\n"
     ]
    }
   ],
   "metadata": {}
  },
  {
   "cell_type": "code",
   "execution_count": 14,
   "source": [
    "y"
   ],
   "outputs": [
    {
     "output_type": "execute_result",
     "data": {
      "text/plain": [
       "array([ 8. ,  1. ,  2.5,  4. , 28. ])"
      ]
     },
     "metadata": {},
     "execution_count": 14
    }
   ],
   "metadata": {}
  },
  {
   "cell_type": "code",
   "execution_count": 15,
   "source": [
    "z"
   ],
   "outputs": [
    {
     "output_type": "execute_result",
     "data": {
      "text/plain": [
       "0     8.0\n",
       "1     1.0\n",
       "2     2.5\n",
       "3     4.0\n",
       "4    28.0\n",
       "dtype: float64"
      ]
     },
     "metadata": {},
     "execution_count": 15
    }
   ],
   "metadata": {}
  },
  {
   "cell_type": "code",
   "execution_count": 16,
   "source": [
    "w"
   ],
   "outputs": [
    {
     "output_type": "execute_result",
     "data": {
      "text/plain": [
       "array([0.1 , 0.2 , 0.3 , 0.25, 0.15])"
      ]
     },
     "metadata": {},
     "execution_count": 16
    }
   ],
   "metadata": {}
  },
  {
   "cell_type": "code",
   "execution_count": 17,
   "source": [
    "# element-wise product w*y dengan np.sum() atau .sum():\n",
    "(w*y).sum()/w.sum()"
   ],
   "outputs": [
    {
     "output_type": "execute_result",
     "data": {
      "text/plain": [
       "6.95"
      ]
     },
     "metadata": {},
     "execution_count": 17
    }
   ],
   "metadata": {}
  },
  {
   "cell_type": "markdown",
   "source": [
    "### Harmonic mean\n",
    "- reciprocal (1/value) dari mean dari semua item dalam data set\n",
    "- matematis ditulis = n/jumlah (1/Xi)\n",
    "- contoh :\n",
    "    - kita berpergian sejauh 10 km pada kecepatan 60 km/jam. lainnya 10 km pada 20 km/jam. Berapa kecepatan rata - rata kita?\n",
    "    - 2/(1/60+1/20)= 2/(4/60)=2*60/4=30 km/h\n"
   ],
   "metadata": {}
  },
  {
   "cell_type": "code",
   "execution_count": 18,
   "source": [
    "x"
   ],
   "outputs": [
    {
     "output_type": "execute_result",
     "data": {
      "text/plain": [
       "[8.0, 1, 2.5, 4, 28.0]"
      ]
     },
     "metadata": {},
     "execution_count": 18
    }
   ],
   "metadata": {}
  },
  {
   "cell_type": "code",
   "execution_count": 21,
   "source": [
    "# dengan pure python\n",
    "hmean= len(x)/sum(1/item for item in x)\n",
    "hmean\n",
    "#hasilnya sangat berbeda dengan mean aritmatika"
   ],
   "outputs": [
    {
     "output_type": "execute_result",
     "data": {
      "text/plain": [
       "2.7613412228796843"
      ]
     },
     "metadata": {},
     "execution_count": 21
    }
   ],
   "metadata": {}
  },
  {
   "cell_type": "code",
   "execution_count": 22,
   "source": [
    "# metode lain\n",
    "hmean=statistics.harmonic_mean(x)\n",
    "hmean"
   ],
   "outputs": [
    {
     "output_type": "execute_result",
     "data": {
      "text/plain": [
       "2.7613412228796843"
      ]
     },
     "metadata": {},
     "execution_count": 22
    }
   ],
   "metadata": {}
  },
  {
   "cell_type": "code",
   "execution_count": 23,
   "source": [
    "scipy.stats.hmean(y)"
   ],
   "outputs": [
    {
     "output_type": "execute_result",
     "data": {
      "text/plain": [
       "2.7613412228796843"
      ]
     },
     "metadata": {},
     "execution_count": 23
    }
   ],
   "metadata": {}
  },
  {
   "cell_type": "code",
   "execution_count": 24,
   "source": [
    "scipy.stats.hmean(z)"
   ],
   "outputs": [
    {
     "output_type": "execute_result",
     "data": {
      "text/plain": [
       "2.7613412228796843"
      ]
     },
     "metadata": {},
     "execution_count": 24
    }
   ],
   "metadata": {}
  },
  {
   "cell_type": "markdown",
   "source": [
    "### Geometric mean\n",
    "- akar ke-n dari hasil kali semua n elemen xi dalam dataset\n",
    "- contoh Geometric mean dari 2 dan 18:\n",
    "    - 2x18 = 36, sqrt(36)=6\n",
    "- contoh lagi, ada kamera zoom 200 nilai 8, zoom 250 nilai 6:\n",
    "    - jika ditambah dan dirata2 biasa maka ulasan yang angkanya sangat kecil dan tidak memberikan efek apapun\n",
    "    - jadi kita dapat menggunakan geometric mean"
   ],
   "metadata": {}
  },
  {
   "cell_type": "code",
   "execution_count": 25,
   "source": [
    "# pure Python\n",
    "gmean = 1\n",
    "for item in x:\n",
    "    gmean*= item\n",
    "gmean**=1/len(x)\n",
    "gmean"
   ],
   "outputs": [
    {
     "output_type": "execute_result",
     "data": {
      "text/plain": [
       "4.677885674856041"
      ]
     },
     "metadata": {},
     "execution_count": 25
    }
   ],
   "metadata": {}
  },
  {
   "cell_type": "code",
   "execution_count": 26,
   "source": [
    "scipy.stats.gmean(y)"
   ],
   "outputs": [
    {
     "output_type": "execute_result",
     "data": {
      "text/plain": [
       "4.67788567485604"
      ]
     },
     "metadata": {},
     "execution_count": 26
    }
   ],
   "metadata": {}
  },
  {
   "cell_type": "code",
   "execution_count": 28,
   "source": [
    "scipy.stats.gmean(z)"
   ],
   "outputs": [
    {
     "output_type": "execute_result",
     "data": {
      "text/plain": [
       "4.67788567485604"
      ]
     },
     "metadata": {},
     "execution_count": 28
    }
   ],
   "metadata": {}
  },
  {
   "cell_type": "markdown",
   "source": [
    "### Median\n",
    "- elemen tengah dari data yang diurutkan\n",
    "- tidak dipengaruhi nilai outliers\n",
    "- pada elemen ganjil = hanya ada satu nilai tengah dan berperilaku sebagai median\n",
    "- pada elemen genap = ada dua nilai tengah:\n",
    "    - median_low(): mengembalikan nilai tengah yang lebih rendah\n",
    "    - median_high() : mengembalikan nilai tengah yang lebih tinggi"
   ],
   "metadata": {}
  },
  {
   "cell_type": "code",
   "execution_count": 30,
   "source": [
    "x"
   ],
   "outputs": [
    {
     "output_type": "execute_result",
     "data": {
      "text/plain": [
       "[8.0, 1, 2.5, 4, 28.0]"
      ]
     },
     "metadata": {},
     "execution_count": 30
    }
   ],
   "metadata": {}
  },
  {
   "cell_type": "code",
   "execution_count": 29,
   "source": [
    "# pure python\n",
    "n = len(x)\n",
    "if n % 2:\n",
    "    median_ = sorted(x)[round(0.5*(n-1))]\n",
    "else:\n",
    "    x_ord, index= sorted(x), round(0.5*n)\n",
    "    median_ = 0.5* (x_ord[index-1]+ x_ord[index])\n",
    "median_"
   ],
   "outputs": [
    {
     "output_type": "execute_result",
     "data": {
      "text/plain": [
       "4"
      ]
     },
     "metadata": {},
     "execution_count": 29
    }
   ],
   "metadata": {}
  },
  {
   "cell_type": "code",
   "execution_count": 32,
   "source": [
    "statistics.median(x)"
   ],
   "outputs": [
    {
     "output_type": "execute_result",
     "data": {
      "text/plain": [
       "4"
      ]
     },
     "metadata": {},
     "execution_count": 32
    }
   ],
   "metadata": {}
  },
  {
   "cell_type": "code",
   "execution_count": 31,
   "source": [
    "x[:-1]"
   ],
   "outputs": [
    {
     "output_type": "execute_result",
     "data": {
      "text/plain": [
       "[8.0, 1, 2.5, 4]"
      ]
     },
     "metadata": {},
     "execution_count": 31
    }
   ],
   "metadata": {}
  },
  {
   "cell_type": "code",
   "execution_count": 33,
   "source": [
    "statistics.median_low(x[:-1])"
   ],
   "outputs": [
    {
     "output_type": "execute_result",
     "data": {
      "text/plain": [
       "2.5"
      ]
     },
     "metadata": {},
     "execution_count": 33
    }
   ],
   "metadata": {}
  },
  {
   "cell_type": "code",
   "execution_count": 34,
   "source": [
    "statistics.median_high(x[:-1])"
   ],
   "outputs": [
    {
     "output_type": "execute_result",
     "data": {
      "text/plain": [
       "4"
      ]
     },
     "metadata": {},
     "execution_count": 34
    }
   ],
   "metadata": {}
  },
  {
   "cell_type": "code",
   "execution_count": 36,
   "source": [
    "# statistics puthon tidak mengembalikan nan ketika ada nilai nan diantara titik data\n",
    "print(x_with_nan)\n",
    "print(statistics.median(x_with_nan))\n",
    "print(statistics.median_high(x_with_nan))\n",
    "print(statistics.median_low(x_with_nan))"
   ],
   "outputs": [
    {
     "output_type": "stream",
     "name": "stdout",
     "text": [
      "[8.0, 1, 2.5, nan, 4, 28.0]\n",
      "6.0\n",
      "8.0\n",
      "4\n"
     ]
    }
   ],
   "metadata": {}
  },
  {
   "cell_type": "code",
   "execution_count": 39,
   "source": [
    "# median dengan NumPy\n",
    "print(y)\n",
    "print(np.median(y))\n",
    "print(np.median(y[:-1]))"
   ],
   "outputs": [
    {
     "output_type": "stream",
     "name": "stdout",
     "text": [
      "[ 8.   1.   2.5  4.  28. ]\n",
      "4.0\n",
      "3.25\n"
     ]
    }
   ],
   "metadata": {}
  },
  {
   "cell_type": "markdown",
   "source": [
    "### Mode\n",
    "- nilai dalam kumpulan data yang paling sering muncul\n",
    "- multimodal = tidak ada satu pun nilai yang sama dan memiliki beberapa nilai modal"
   ],
   "metadata": {}
  },
  {
   "cell_type": "code",
   "execution_count": 40,
   "source": [
    "u = [2, 3, 2, 8, 12]\n",
    "v = [12, 15, 12, 15, 21, 15, 12]"
   ],
   "outputs": [],
   "metadata": {}
  },
  {
   "cell_type": "code",
   "execution_count": 44,
   "source": [
    "#python pure\n",
    "print(max((u.count(item), item) for item in set (u))[1])\n",
    "# statistics\n",
    "print(statistics.mode(u))\n",
    "#scipy.stats\n",
    "print(scipy.stats.mode(u))\n",
    "print(scipy.stats.mode(v))"
   ],
   "outputs": [
    {
     "output_type": "stream",
     "name": "stdout",
     "text": [
      "2\n",
      "2\n",
      "ModeResult(mode=array([2]), count=array([2]))\n",
      "ModeResult(mode=array([12]), count=array([3]))\n"
     ]
    }
   ],
   "metadata": {}
  },
  {
   "cell_type": "code",
   "execution_count": 45,
   "source": [
    "u, v, w = pd.Series(u), pd.Series(v), pd.Series([2,2, math.nan])"
   ],
   "outputs": [],
   "metadata": {}
  },
  {
   "cell_type": "code",
   "execution_count": 46,
   "source": [
    "u"
   ],
   "outputs": [
    {
     "output_type": "execute_result",
     "data": {
      "text/plain": [
       "0     2\n",
       "1     3\n",
       "2     2\n",
       "3     8\n",
       "4    12\n",
       "dtype: int64"
      ]
     },
     "metadata": {},
     "execution_count": 46
    }
   ],
   "metadata": {}
  },
  {
   "cell_type": "code",
   "execution_count": 47,
   "source": [
    "v"
   ],
   "outputs": [
    {
     "output_type": "execute_result",
     "data": {
      "text/plain": [
       "0    12\n",
       "1    15\n",
       "2    12\n",
       "3    15\n",
       "4    21\n",
       "5    15\n",
       "6    12\n",
       "dtype: int64"
      ]
     },
     "metadata": {},
     "execution_count": 47
    }
   ],
   "metadata": {}
  },
  {
   "cell_type": "code",
   "execution_count": 48,
   "source": [
    "w"
   ],
   "outputs": [
    {
     "output_type": "execute_result",
     "data": {
      "text/plain": [
       "0    2.0\n",
       "1    2.0\n",
       "2    NaN\n",
       "dtype: float64"
      ]
     },
     "metadata": {},
     "execution_count": 48
    }
   ],
   "metadata": {}
  },
  {
   "cell_type": "code",
   "execution_count": 50,
   "source": [
    "# dengan pandas\n",
    "print(u.mode())\n",
    "print(v.mode())\n",
    "print(w.mode())\n"
   ],
   "outputs": [
    {
     "output_type": "stream",
     "name": "stdout",
     "text": [
      "0    2\n",
      "dtype: int64\n",
      "0    12\n",
      "1    15\n",
      "dtype: int64\n",
      "0    2.0\n",
      "dtype: float64\n"
     ]
    }
   ],
   "metadata": {}
  },
  {
   "cell_type": "markdown",
   "source": [
    "## Measures of Variability\n",
    "- ukuran variabilitas yang mengukur penyebaran titik data"
   ],
   "metadata": {}
  },
  {
   "cell_type": "markdown",
   "source": [
    "### Variasi"
   ],
   "metadata": {}
  },
  {
   "cell_type": "code",
   "execution_count": null,
   "source": [],
   "outputs": [],
   "metadata": {}
  }
 ],
 "metadata": {
  "orig_nbformat": 4,
  "language_info": {
   "name": "python",
   "version": "3.8.10",
   "mimetype": "text/x-python",
   "codemirror_mode": {
    "name": "ipython",
    "version": 3
   },
   "pygments_lexer": "ipython3",
   "nbconvert_exporter": "python",
   "file_extension": ".py"
  },
  "kernelspec": {
   "name": "python3",
   "display_name": "Python 3.8.10 64-bit"
  },
  "interpreter": {
   "hash": "31f2aee4e71d21fbe5cf8b01ff0e069b9275f58929596ceb00d14d90e3e16cd6"
  }
 },
 "nbformat": 4,
 "nbformat_minor": 2
}