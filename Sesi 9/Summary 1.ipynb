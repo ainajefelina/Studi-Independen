{
 "cells": [
  {
   "cell_type": "markdown",
   "source": [
    "# Pendahuluan"
   ],
   "metadata": {}
  },
  {
   "cell_type": "markdown",
   "source": [
    "## Statistik deskriptif\n",
    "- meringkas dan mengatur data sehingga dapat dengan mudah dipahami\n",
    "- berbeda dengan statistik inferensial (karena mendeskripsikan data, tanpa membuat kesimpulan dari sampel untuk ke seluruh populasi)\n",
    "- mendeskripsikan data secara umum, dan tidak dikembangkan berdasarkan teori probabilitas\n",
    "- berfungsi untuk memahami data dan bagian penting dari Machine Learning\n",
    "- Machine Learning membuat prediksi\n",
    "- Sehingga descriptive statistics membantu kita lebih memahami apa yang diceritakan oleh data kita, yang akan menghasilkan model dan pemahaman machine learning yang lebih baik secara keseluruhan"
   ],
   "metadata": {}
  },
  {
   "cell_type": "markdown",
   "source": [
    "## Tipe dari Statistika Deskriptif\n",
    "- 1. Measure of central tendency\n",
    "- 2. Measure of variability (spread/ penyebaran)"
   ],
   "metadata": {}
  },
  {
   "cell_type": "markdown",
   "source": [
    "## Populasi dan Sampel\n",
    "-  Populasi\n",
    "    - sekumpulan dari semua elemen yang kita amati\n",
    "    - sangat banyak, sehingga tidak sesuai untuk collecting dan analyzing data\n",
    "    - beberapa kesimpulan dari populasi dibuat dengan memilih dan memeriksa subkumpulan populasi (sampel) dari populasi\n",
    "- Sampel\n",
    "    - subset/sekumpulan populasi\n",
    "    - sampel harus mempertahankan fitur statistik esensial dari populasi sehingga diperoleh hasil yang mewakili dengan sangat benar\n",
    "    - dari sampel dapat menarik kesimpulan dari populasi"
   ],
   "metadata": {}
  },
  {
   "cell_type": "markdown",
   "source": [
    "## Outliers atau Pencilan\n",
    "- titik data yang berada secara signifikan dari sebagian besar data yang diambil dari sampel atau populasi\n",
    "- beberapa penyebab pencilan yang dapat membantu kita yaitu :\n",
    "    - nvariasi alami dalam data\n",
    "    - perubahan perilaku sistem yang diamati\n",
    "    - kesalahan dalam pengumpulan data (penyebab utama yang bisa disebabkan oleh salah perhitungan, kontaminasi data, kesalahan manusia)\n",
    "- tisak ada definisi matematis, jadi mengandalkan pengalaman, pengetahuan dan common sense"
   ],
   "metadata": {}
  },
  {
   "cell_type": "markdown",
   "source": [
    "## Measure of Central Tendency\n",
    "- ada satu bilangan yang paling baik untuk meringkas seluruh rangkaian pengukuran\n",
    "- ada sebuah bilangan merupakan central dari himpunan tersebut\n",
    "- menentukan kecenderungan nilai data kita untuk mengelompokan menjadi mean, mode, atau median"
   ],
   "metadata": {}
  },
  {
   "cell_type": "markdown",
   "source": [
    "### Mean atau Rata - rata\n",
    "- central tendency dari data diantara angka yang tersebar\n",
    "- memperkirakan nilai seluruh kumpulan data\n",
    "- sangat dipengaruhi oleh outliers\n",
    "- dianggap ukuran tendensi sentral yang paling andal untuk membuat asumsi tentang suatu populasi dari satu sampel\n",
    "- rata - rata = jumlah semua nilai dibagi banyaknya nilai"
   ],
   "metadata": {}
  },
  {
   "cell_type": "markdown",
   "source": [
    "### Median  atau P2\n",
    "- nilai yang membagi data dalam jumlah yang sama diantara sisi kanan dan kirinya saat data ditata secara berurutan\n",
    "- median tidak banyak dipengaruhi oleh outliers dan skewed\n",
    "- median hanya menampilkan nilai tengah dan tidak dipengaruhi oleh semua titik data\n",
    "- sehingga lebih cocok untuk melaporkan data\n",
    "    - nilai tengah (jika jumlah dara ganjil)\n",
    "    - rata2 dari 2 nilai tengah (jika jumlah data genap)\n",
    "- kadang median ada juga yang merupakan mean"
   ],
   "metadata": {}
  },
  {
   "cell_type": "markdown",
   "source": [
    "### Mode\n",
    "- nilai yang sering muncul dari kumpulan data\n",
    "- frekuensinya tinggi\n",
    "- data tidak memiliki mode jika tidak ada data yang diulang\n",
    "- satu-satunya tendensi sentral yang digunakan untuk variabel kategori karena data tidak dapat dihitung\n",
    "- variabel kategori ditampilkan sebagai angka dan presentasi\n",
    "- polimodal = jika terdapat beberapa nilai muncul pada waktu yang sama lebih dari nilai lainnya"
   ],
   "metadata": {}
  },
  {
   "cell_type": "markdown",
   "source": [
    "## Measure of Spread / Dispersion\n",
    "- mengukur seberapa bagus mean dalam mempresentasikan sebuah kumpulan data (How far away from the center)"
   ],
   "metadata": {}
  },
  {
   "cell_type": "markdown",
   "source": [
    "### Standar Deviasi\n",
    "- pengukuran jarak antara setiap nilai dan rata-ratanya\n",
    "- menunjukan bagaimana dat disebarkan/ seberapa tersebar data dari mean.\n",
    "- SD yang rendah menunjukan bahwa data cemderimh mendekati rata - rata\n",
    "- SD yang tinggi bahwa data tersebar di nilai yang luas\n",
    "- SD populasi dan sampel berbeda dimana kita harus memilihnya\n"
   ],
   "metadata": {}
  },
  {
   "cell_type": "markdown",
   "source": [
    "### Mean Absolute Deviation\n",
    "- rata-rata perbedaan absolut antara setiap nilai dalam satu set nilai dan rata-rata semua nilai dari set itu"
   ],
   "metadata": {}
  },
  {
   "cell_type": "markdown",
   "source": [
    "### Variasi\n",
    "- kuadrat SD\n",
    "- mencari selisih antara setiap titik data dan mean, mengkuadrat, menjumlahkan dan mengambil rata-rata dari angka itu"
   ],
   "metadata": {}
  },
  {
   "cell_type": "markdown",
   "source": [
    "### Range\n",
    "- perbedaan antara nilai terendah dan tertinggi"
   ],
   "metadata": {}
  },
  {
   "cell_type": "markdown",
   "source": [
    "### Presentil\n",
    "- me-representasikan posisi suatu nilai dalam kumpulan data\n",
    "- dihitung dengan nilai yang paling kecil dan menaik\n",
    "- Jika k merupakan presentil ke-n karena n% dari total suku kurang dari k"
   ],
   "metadata": {}
  },
  {
   "cell_type": "markdown",
   "source": [
    "### Kuartil\n",
    "- nilai yang membagi data menjadi beberapa kuarter dengan data yang diurutkan dalam urutan ascending/ menaik\n",
    "- ada tiga kuartil\n",
    "    - Q1 = 25%P\n",
    "    - Q2 = 50%P\n",
    "    - Q3 = 75%P\n",
    "    - Q3-Q1 = range interquartile"
   ],
   "metadata": {}
  },
  {
   "cell_type": "markdown",
   "source": [
    "###  Skewness"
   ],
   "metadata": {}
  },
  {
   "cell_type": "markdown",
   "source": [
    "- ukuran asimetri distribusi probabilikas dari real-valued random variabel tentang meannya\n",
    "- bisa positif (distribusinya positvely skewed), negatif (distribusinya negatively skewed), dan undefined (tidak ada kemiringan atau nol)\n",
    "- menghitung:\n",
    "    - Mode skewness ((Mean-Mode)/SD)\n",
    "    - Median skewness ((Mean-Median)/SD)\n",
    "- koefisien (membandingkan distribusi samoel dengan distribusi nor,al. Semakin besar maka akan semakin besar perbedaan distribusi dan distribusi normal)"
   ],
   "metadata": {}
  },
  {
   "cell_type": "markdown",
   "source": [
    "### Kurtosis\n",
    "- ukuran apakah data bersifat heavy-tailed (banyak outlier) atau tidak (light outlier) terhadap distribusi normal\n",
    "- ada 3 tipe:\n",
    "    - mesokurtik = distribusi normal = 0\n",
    "    - leptokurtik = lebih besar dari mesokurtik (ekornya tebal dan berat) / lebih memuncak\n",
    "    - platykurtik = lebih rendah dari mesokurtik (ekornya tipis)/ kurang memuncak"
   ],
   "metadata": {}
  },
  {
   "cell_type": "markdown",
   "source": [
    "### Korelasi\n",
    "- menunjukan seberapa kuat variabel terkait\n",
    "- nilainya -1 sampai +1, semakin mendekati +-1 maka hubungan kedua variabel kuat\n",
    "- jika mendekati 0 maka tidak ada hubungan antar variabel\n",
    "- negatif (semakin besar variabel maka nilainya makin kecil)\n",
    "- positif (makin besar variabel, nilainya makin besar)"
   ],
   "metadata": {}
  },
  {
   "cell_type": "markdown",
   "source": [
    "## Python Statistic Libraries\n",
    "- Python's statistik:\n",
    "    - untuk deskriptif statistik\n",
    "    - dataset tidak besar\n",
    "    - jika tidak bisa mengimpor data lain\n",
    "- NumPy:\n",
    "    - untuk komputasi numerikal\n",
    "    - optimal untuk bekerja dengan single-muli dimensional array\n",
    "    - libraries memiliki banyak yang biasa untuk analisis statistika\n",
    "- SciPy:\n",
    "     - untuk komputasi numerikal\n",
    "     - berdasarkan NumPy\n",
    "     - untuk statistika analisis\n",
    "- Pandas:\n",
    "    - untuk komputasi numerikal\n",
    "    - berdasarkan NumPy\n",
    "    - mengendel label excel dengan 1D series dan object di 2D data dengan objek DataFrame\n",
    "Matplotlib :\n",
    "    - data visualisasi\n",
    "    - kombinasi yang baik dengan NumPy, SciPy, dan Pandas"
   ],
   "metadata": {}
  },
  {
   "cell_type": "markdown",
   "source": [
    "# Python"
   ],
   "metadata": {}
  },
  {
   "cell_type": "markdown",
   "source": [
    "## persiapan"
   ],
   "metadata": {}
  },
  {
   "cell_type": "code",
   "execution_count": 1,
   "source": [
    "# import libraries\n",
    "import math\n",
    "import statistics\n",
    "import numpy as np\n",
    "import scipy.stats\n",
    "import pandas as pd"
   ],
   "outputs": [],
   "metadata": {}
  },
  {
   "cell_type": "code",
   "execution_count": 2,
   "source": [
    "# data untuk dikerjakan\n",
    "# data hampir sama dengan salah satu data ada yang berisi nilai nan\n",
    "# nan = not a number\n",
    "x = [8.0, 1, 2.5, 4, 28.0]\n",
    "x_with_nan = [8.0, 1, 2.5, math.nan, 4, 28.0]\n",
    "print(x)\n",
    "print(x_with_nan)"
   ],
   "outputs": [
    {
     "output_type": "stream",
     "name": "stdout",
     "text": [
      "[8.0, 1, 2.5, 4, 28.0]\n",
      "[8.0, 1, 2.5, nan, 4, 28.0]\n"
     ]
    }
   ],
   "metadata": {}
  },
  {
   "cell_type": "code",
   "execution_count": 3,
   "source": [
    "# membuat objek np.ndarray dan pd.Series\n",
    "y, y_with_nan = np.array(x), np.array(x_with_nan)\n",
    "z, z_with_nan = pd.Series(x), pd.Series(x_with_nan)\n",
    "print(y)\n",
    "print(z)\n",
    "print(y_with_nan)\n",
    "print(z_with_nan)"
   ],
   "outputs": [
    {
     "output_type": "stream",
     "name": "stdout",
     "text": [
      "[ 8.   1.   2.5  4.  28. ]\n",
      "0     8.0\n",
      "1     1.0\n",
      "2     2.5\n",
      "3     4.0\n",
      "4    28.0\n",
      "dtype: float64\n",
      "[ 8.   1.   2.5  nan  4.  28. ]\n",
      "0     8.0\n",
      "1     1.0\n",
      "2     2.5\n",
      "3     NaN\n",
      "4     4.0\n",
      "5    28.0\n",
      "dtype: float64\n"
     ]
    }
   ],
   "metadata": {}
  },
  {
   "cell_type": "markdown",
   "source": [
    "## Measures of Central Tendency \n",
    "- menunjukan nilai tengah atau pusat dari kumpulan data"
   ],
   "metadata": {}
  },
  {
   "cell_type": "markdown",
   "source": [
    "### Mean\n",
    "- sample mean = sample aritmatika mean = average = rata - rata aritmatika dari semua item dalam kumpullan data\n",
    "- secara metematis adalah adalah jumlah dari semua elemen dibagi banyaknya elemen"
   ],
   "metadata": {}
  },
  {
   "cell_type": "code",
   "execution_count": 4,
   "source": [
    "# pure python\n",
    "men_ = sum(x)/len(x)\n",
    "print(men_)"
   ],
   "outputs": [
    {
     "output_type": "stream",
     "name": "stdout",
     "text": [
      "8.7\n"
     ]
    }
   ],
   "metadata": {}
  },
  {
   "cell_type": "code",
   "execution_count": 5,
   "source": [
    "# statistics built-in\n",
    "men_ = statistics.mean(x)\n",
    "print(men_)\n",
    "men_ = statistics.mean(x_with_nan)\n",
    "print(men_)"
   ],
   "outputs": [
    {
     "output_type": "stream",
     "name": "stdout",
     "text": [
      "8.7\n",
      "nan\n"
     ]
    }
   ],
   "metadata": {}
  },
  {
   "cell_type": "code",
   "execution_count": 6,
   "source": [
    "# dengan numpy dalam sebuah fungsi\n",
    "men_=np.mean(y)\n",
    "print(men_)\n",
    "#  metode lain\n",
    "men_= y.mean()\n",
    "print(men_)"
   ],
   "outputs": [
    {
     "output_type": "stream",
     "name": "stdout",
     "text": [
      "8.7\n",
      "8.7\n"
     ]
    }
   ],
   "metadata": {}
  },
  {
   "cell_type": "code",
   "execution_count": 7,
   "source": [
    "# jika ada nilai nan\n",
    "print(np.mean(y_with_nan))\n",
    "print(y_with_nan.mean())"
   ],
   "outputs": [
    {
     "output_type": "stream",
     "name": "stdout",
     "text": [
      "nan\n",
      "nan\n"
     ]
    }
   ],
   "metadata": {}
  },
  {
   "cell_type": "code",
   "execution_count": 8,
   "source": [
    "# mengabaikan nilai nan dengan np.nanmean\n",
    "np.nanmean(y_with_nan)"
   ],
   "outputs": [
    {
     "output_type": "execute_result",
     "data": {
      "text/plain": [
       "8.7"
      ]
     },
     "metadata": {},
     "execution_count": 8
    }
   ],
   "metadata": {}
  },
  {
   "cell_type": "code",
   "execution_count": 9,
   "source": [
    "# pada pd.Series\n",
    "z.mean()"
   ],
   "outputs": [
    {
     "output_type": "execute_result",
     "data": {
      "text/plain": [
       "8.7"
      ]
     },
     "metadata": {},
     "execution_count": 9
    }
   ],
   "metadata": {}
  },
  {
   "cell_type": "code",
   "execution_count": 10,
   "source": [
    "#pandas mengabaikan nilai nan secara default\n",
    "z_with_nan.mean()"
   ],
   "outputs": [
    {
     "output_type": "execute_result",
     "data": {
      "text/plain": [
       "8.7"
      ]
     },
     "metadata": {},
     "execution_count": 10
    }
   ],
   "metadata": {}
  },
  {
   "cell_type": "markdown",
   "source": [
    "### Weighted mean\n",
    "- weighted aritmatika mean = weighted average = generalisasi dari rata - rata aritmatika yang memungkinkan kita untuk menentuka kontribusi relatif dari setiap titik data ke hasil\n",
    "- bobot Wi untuk setiap untuk setiap data Xi dari dataset X adalah jumlah item di X.  Maka kita mengalikan setiap titik data dengan bobot yang sesuai, menjumlahkannya, dan membagi semua data yang diperoleh\n",
    "- Weighted mean berguna saat kita membutuhkan rata - rata kumpulan data yang berisi item yang muncul dengan frekuensi relatif tertentu, atau kita dapat menghitung rata - rata dari setiap set"
   ],
   "metadata": {}
  },
  {
   "cell_type": "code",
   "execution_count": 11,
   "source": [
    "# weighted mean dalam python pure dengan menggabungkan sum() dengan range() atau zip()\n",
    "x= [8.0, 1, 2.5, 4, 28.0]\n",
    "w=[0.1, 0.2, 0.3, 0.25, 0.15]\n",
    "wmean= sum(w[i]* x[i] for i in range(len(x)))/sum(w)\n",
    "print(wmean)\n",
    "\n",
    "wmean=sum(x_* w_ for (x_, w_) in zip(x,w))/sum(w)\n",
    "print(wmean)"
   ],
   "outputs": [
    {
     "output_type": "stream",
     "name": "stdout",
     "text": [
      "6.95\n",
      "6.95\n"
     ]
    }
   ],
   "metadata": {}
  },
  {
   "cell_type": "code",
   "execution_count": 12,
   "source": [
    "# kumpulan data yang besar dapt menggunakan NumPy\n",
    "y, z, w = np.array(x), pd.Series(x),np.array(w)\n",
    "wmean = np.average(y, weights=w)\n",
    "print(wmean)\n",
    "wmean = np.average(x, weights=w)\n",
    "print(wmean)"
   ],
   "outputs": [
    {
     "output_type": "stream",
     "name": "stdout",
     "text": [
      "6.95\n",
      "6.95\n"
     ]
    }
   ],
   "metadata": {}
  },
  {
   "cell_type": "code",
   "execution_count": 13,
   "source": [
    "y"
   ],
   "outputs": [
    {
     "output_type": "execute_result",
     "data": {
      "text/plain": [
       "array([ 8. ,  1. ,  2.5,  4. , 28. ])"
      ]
     },
     "metadata": {},
     "execution_count": 13
    }
   ],
   "metadata": {}
  },
  {
   "cell_type": "code",
   "execution_count": 14,
   "source": [
    "z"
   ],
   "outputs": [
    {
     "output_type": "execute_result",
     "data": {
      "text/plain": [
       "0     8.0\n",
       "1     1.0\n",
       "2     2.5\n",
       "3     4.0\n",
       "4    28.0\n",
       "dtype: float64"
      ]
     },
     "metadata": {},
     "execution_count": 14
    }
   ],
   "metadata": {}
  },
  {
   "cell_type": "code",
   "execution_count": 15,
   "source": [
    "w"
   ],
   "outputs": [
    {
     "output_type": "execute_result",
     "data": {
      "text/plain": [
       "array([0.1 , 0.2 , 0.3 , 0.25, 0.15])"
      ]
     },
     "metadata": {},
     "execution_count": 15
    }
   ],
   "metadata": {}
  },
  {
   "cell_type": "code",
   "execution_count": 16,
   "source": [
    "# element-wise product w*y dengan np.sum() atau .sum():\n",
    "(w*y).sum()/w.sum()"
   ],
   "outputs": [
    {
     "output_type": "execute_result",
     "data": {
      "text/plain": [
       "6.95"
      ]
     },
     "metadata": {},
     "execution_count": 16
    }
   ],
   "metadata": {}
  },
  {
   "cell_type": "markdown",
   "source": [
    "### Harmonic mean\n",
    "- reciprocal (1/value) dari mean dari semua item dalam data set\n",
    "- matematis ditulis = n/jumlah (1/Xi)\n",
    "- contoh :\n",
    "    - kita berpergian sejauh 10 km pada kecepatan 60 km/jam. lainnya 10 km pada 20 km/jam. Berapa kecepatan rata - rata kita?\n",
    "    - 2/(1/60+1/20)= 2/(4/60)=2*60/4=30 km/h\n"
   ],
   "metadata": {}
  },
  {
   "cell_type": "code",
   "execution_count": 17,
   "source": [
    "x"
   ],
   "outputs": [
    {
     "output_type": "execute_result",
     "data": {
      "text/plain": [
       "[8.0, 1, 2.5, 4, 28.0]"
      ]
     },
     "metadata": {},
     "execution_count": 17
    }
   ],
   "metadata": {}
  },
  {
   "cell_type": "code",
   "execution_count": 18,
   "source": [
    "# dengan pure python\n",
    "hmean= len(x)/sum(1/item for item in x)\n",
    "hmean\n",
    "#hasilnya sangat berbeda dengan mean aritmatika"
   ],
   "outputs": [
    {
     "output_type": "execute_result",
     "data": {
      "text/plain": [
       "2.7613412228796843"
      ]
     },
     "metadata": {},
     "execution_count": 18
    }
   ],
   "metadata": {}
  },
  {
   "cell_type": "code",
   "execution_count": 19,
   "source": [
    "# metode lain\n",
    "hmean=statistics.harmonic_mean(x)\n",
    "hmean"
   ],
   "outputs": [
    {
     "output_type": "execute_result",
     "data": {
      "text/plain": [
       "2.7613412228796843"
      ]
     },
     "metadata": {},
     "execution_count": 19
    }
   ],
   "metadata": {}
  },
  {
   "cell_type": "code",
   "execution_count": 20,
   "source": [
    "scipy.stats.hmean(y)"
   ],
   "outputs": [
    {
     "output_type": "execute_result",
     "data": {
      "text/plain": [
       "2.7613412228796843"
      ]
     },
     "metadata": {},
     "execution_count": 20
    }
   ],
   "metadata": {}
  },
  {
   "cell_type": "code",
   "execution_count": 21,
   "source": [
    "scipy.stats.hmean(z)"
   ],
   "outputs": [
    {
     "output_type": "execute_result",
     "data": {
      "text/plain": [
       "2.7613412228796843"
      ]
     },
     "metadata": {},
     "execution_count": 21
    }
   ],
   "metadata": {}
  },
  {
   "cell_type": "markdown",
   "source": [
    "### Geometric mean\n",
    "- akar ke-n dari hasil kali semua n elemen xi dalam dataset\n",
    "- contoh Geometric mean dari 2 dan 18:\n",
    "    - 2x18 = 36, sqrt(36)=6\n",
    "- contoh lagi, ada kamera zoom 200 nilai 8, zoom 250 nilai 6:\n",
    "    - jika ditambah dan dirata2 biasa maka ulasan yang angkanya sangat kecil dan tidak memberikan efek apapun\n",
    "    - jadi kita dapat menggunakan geometric mean"
   ],
   "metadata": {}
  },
  {
   "cell_type": "code",
   "execution_count": 22,
   "source": [
    "# pure Python\n",
    "gmean = 1\n",
    "for item in x:\n",
    "    gmean*= item\n",
    "gmean**=1/len(x)\n",
    "gmean"
   ],
   "outputs": [
    {
     "output_type": "execute_result",
     "data": {
      "text/plain": [
       "4.677885674856041"
      ]
     },
     "metadata": {},
     "execution_count": 22
    }
   ],
   "metadata": {}
  },
  {
   "cell_type": "code",
   "execution_count": 23,
   "source": [
    "scipy.stats.gmean(y)"
   ],
   "outputs": [
    {
     "output_type": "execute_result",
     "data": {
      "text/plain": [
       "4.67788567485604"
      ]
     },
     "metadata": {},
     "execution_count": 23
    }
   ],
   "metadata": {}
  },
  {
   "cell_type": "code",
   "execution_count": 24,
   "source": [
    "scipy.stats.gmean(z)"
   ],
   "outputs": [
    {
     "output_type": "execute_result",
     "data": {
      "text/plain": [
       "4.67788567485604"
      ]
     },
     "metadata": {},
     "execution_count": 24
    }
   ],
   "metadata": {}
  },
  {
   "cell_type": "markdown",
   "source": [
    "### Median\n",
    "- elemen tengah dari data yang diurutkan\n",
    "- tidak dipengaruhi nilai outliers\n",
    "- pada elemen ganjil = hanya ada satu nilai tengah dan berperilaku sebagai median\n",
    "- pada elemen genap = ada dua nilai tengah:\n",
    "    - median_low(): mengembalikan nilai tengah yang lebih rendah\n",
    "    - median_high() : mengembalikan nilai tengah yang lebih tinggi"
   ],
   "metadata": {}
  },
  {
   "cell_type": "code",
   "execution_count": 25,
   "source": [
    "x"
   ],
   "outputs": [
    {
     "output_type": "execute_result",
     "data": {
      "text/plain": [
       "[8.0, 1, 2.5, 4, 28.0]"
      ]
     },
     "metadata": {},
     "execution_count": 25
    }
   ],
   "metadata": {}
  },
  {
   "cell_type": "code",
   "execution_count": 26,
   "source": [
    "# pure python\n",
    "n = len(x)\n",
    "if n % 2:\n",
    "    median_ = sorted(x)[round(0.5*(n-1))]\n",
    "else:\n",
    "    x_ord, index= sorted(x), round(0.5*n)\n",
    "    median_ = 0.5* (x_ord[index-1]+ x_ord[index])\n",
    "median_"
   ],
   "outputs": [
    {
     "output_type": "execute_result",
     "data": {
      "text/plain": [
       "4"
      ]
     },
     "metadata": {},
     "execution_count": 26
    }
   ],
   "metadata": {}
  },
  {
   "cell_type": "code",
   "execution_count": 27,
   "source": [
    "statistics.median(x)"
   ],
   "outputs": [
    {
     "output_type": "execute_result",
     "data": {
      "text/plain": [
       "4"
      ]
     },
     "metadata": {},
     "execution_count": 27
    }
   ],
   "metadata": {}
  },
  {
   "cell_type": "code",
   "execution_count": 28,
   "source": [
    "x[:-1]"
   ],
   "outputs": [
    {
     "output_type": "execute_result",
     "data": {
      "text/plain": [
       "[8.0, 1, 2.5, 4]"
      ]
     },
     "metadata": {},
     "execution_count": 28
    }
   ],
   "metadata": {}
  },
  {
   "cell_type": "code",
   "execution_count": 29,
   "source": [
    "statistics.median_low(x[:-1])"
   ],
   "outputs": [
    {
     "output_type": "execute_result",
     "data": {
      "text/plain": [
       "2.5"
      ]
     },
     "metadata": {},
     "execution_count": 29
    }
   ],
   "metadata": {}
  },
  {
   "cell_type": "code",
   "execution_count": 30,
   "source": [
    "statistics.median_high(x[:-1])"
   ],
   "outputs": [
    {
     "output_type": "execute_result",
     "data": {
      "text/plain": [
       "4"
      ]
     },
     "metadata": {},
     "execution_count": 30
    }
   ],
   "metadata": {}
  },
  {
   "cell_type": "code",
   "execution_count": 31,
   "source": [
    "# statistics puthon tidak mengembalikan nan ketika ada nilai nan diantara titik data\n",
    "print(x_with_nan)\n",
    "print(statistics.median(x_with_nan))\n",
    "print(statistics.median_high(x_with_nan))\n",
    "print(statistics.median_low(x_with_nan))"
   ],
   "outputs": [
    {
     "output_type": "stream",
     "name": "stdout",
     "text": [
      "[8.0, 1, 2.5, nan, 4, 28.0]\n",
      "6.0\n",
      "8.0\n",
      "4\n"
     ]
    }
   ],
   "metadata": {}
  },
  {
   "cell_type": "code",
   "execution_count": 32,
   "source": [
    "# median dengan NumPy\n",
    "print(y)\n",
    "print(np.median(y))\n",
    "print(np.median(y[:-1]))"
   ],
   "outputs": [
    {
     "output_type": "stream",
     "name": "stdout",
     "text": [
      "[ 8.   1.   2.5  4.  28. ]\n",
      "4.0\n",
      "3.25\n"
     ]
    }
   ],
   "metadata": {}
  },
  {
   "cell_type": "markdown",
   "source": [
    "### Mode\n",
    "- nilai dalam kumpulan data yang paling sering muncul\n",
    "- multimodal = tidak ada satu pun nilai yang sama dan memiliki beberapa nilai modal"
   ],
   "metadata": {}
  },
  {
   "cell_type": "code",
   "execution_count": 33,
   "source": [
    "u = [2, 3, 2, 8, 12]\n",
    "v = [12, 15, 12, 15, 21, 15, 12]"
   ],
   "outputs": [],
   "metadata": {}
  },
  {
   "cell_type": "code",
   "execution_count": 34,
   "source": [
    "#python pure\n",
    "print(max((u.count(item), item) for item in set (u))[1])\n",
    "# statistics\n",
    "print(statistics.mode(u))\n",
    "#scipy.stats\n",
    "print(scipy.stats.mode(u))\n",
    "print(scipy.stats.mode(v))"
   ],
   "outputs": [
    {
     "output_type": "stream",
     "name": "stdout",
     "text": [
      "2\n",
      "2\n",
      "ModeResult(mode=array([2]), count=array([2]))\n",
      "ModeResult(mode=array([12]), count=array([3]))\n"
     ]
    }
   ],
   "metadata": {}
  },
  {
   "cell_type": "code",
   "execution_count": 35,
   "source": [
    "u, v, w = pd.Series(u), pd.Series(v), pd.Series([2,2, math.nan])"
   ],
   "outputs": [],
   "metadata": {}
  },
  {
   "cell_type": "code",
   "execution_count": 36,
   "source": [
    "u"
   ],
   "outputs": [
    {
     "output_type": "execute_result",
     "data": {
      "text/plain": [
       "0     2\n",
       "1     3\n",
       "2     2\n",
       "3     8\n",
       "4    12\n",
       "dtype: int64"
      ]
     },
     "metadata": {},
     "execution_count": 36
    }
   ],
   "metadata": {}
  },
  {
   "cell_type": "code",
   "execution_count": 37,
   "source": [
    "v"
   ],
   "outputs": [
    {
     "output_type": "execute_result",
     "data": {
      "text/plain": [
       "0    12\n",
       "1    15\n",
       "2    12\n",
       "3    15\n",
       "4    21\n",
       "5    15\n",
       "6    12\n",
       "dtype: int64"
      ]
     },
     "metadata": {},
     "execution_count": 37
    }
   ],
   "metadata": {}
  },
  {
   "cell_type": "code",
   "execution_count": 38,
   "source": [
    "w"
   ],
   "outputs": [
    {
     "output_type": "execute_result",
     "data": {
      "text/plain": [
       "0    2.0\n",
       "1    2.0\n",
       "2    NaN\n",
       "dtype: float64"
      ]
     },
     "metadata": {},
     "execution_count": 38
    }
   ],
   "metadata": {}
  },
  {
   "cell_type": "code",
   "execution_count": 39,
   "source": [
    "# dengan pandas\n",
    "print(u.mode())\n",
    "print(v.mode())\n",
    "print(w.mode())\n"
   ],
   "outputs": [
    {
     "output_type": "stream",
     "name": "stdout",
     "text": [
      "0    2\n",
      "dtype: int64\n",
      "0    12\n",
      "1    15\n",
      "dtype: int64\n",
      "0    2.0\n",
      "dtype: float64\n"
     ]
    }
   ],
   "metadata": {}
  },
  {
   "cell_type": "markdown",
   "source": [
    "## Measures of Variability\n",
    "- ukuran variabilitas yang mengukur penyebaran titik data"
   ],
   "metadata": {}
  },
  {
   "cell_type": "markdown",
   "source": [
    "### Variasi\n",
    "- mengukur penyebaran data\n",
    "- menunjukan secara numerik seberapa jauh titik data dari mean\n",
    "- suatu data mungkin memiliki median dan mean yang sama tetapi merka memiliki data yang berbeda secara signifikan oleh karena itu meassures of variability dibutuhkan "
   ],
   "metadata": {}
  },
  {
   "cell_type": "code",
   "execution_count": 40,
   "source": [
    "# python pure\n",
    "n = len(x)\n",
    "mean_ = sum(x)/n\n",
    "var_= sum((item- mean_)**2 for item in x)/ (n-1)\n",
    "var_"
   ],
   "outputs": [
    {
     "output_type": "execute_result",
     "data": {
      "text/plain": [
       "123.19999999999999"
      ]
     },
     "metadata": {},
     "execution_count": 40
    }
   ],
   "metadata": {}
  },
  {
   "cell_type": "code",
   "execution_count": 41,
   "source": [
    "#statistics\n",
    "print(statistics.variance(x))\n",
    "#NumPy\n",
    "print(np.var(y, ddof=1))\n",
    "print(y.var(ddof=1))\n",
    "#ddof=1 menyetel degress of freedom ke 1\n",
    "# berarti banyaknya pengamatan bebas dari total pengamatan n. "
   ],
   "outputs": [
    {
     "output_type": "stream",
     "name": "stdout",
     "text": [
      "123.2\n",
      "123.19999999999999\n",
      "123.19999999999999\n"
     ]
    }
   ],
   "metadata": {}
  },
  {
   "cell_type": "markdown",
   "source": [
    "contoh ddof \n",
    "- misal ada 10 data dan ada estimasi data yang kita inginkan\n",
    "- maka, 9 angka bebas dan 1 angka harus memenuhi nilai estimasi\n",
    "- artinya 1 derajat kebebasan itu hilang \n",
    "- maka derajat kehilangannya menjadi n-1 = 10-1 = 9"
   ],
   "metadata": {}
  },
  {
   "cell_type": "markdown",
   "source": [
    "var()\n",
    "- memiliki ddof, tetapi default = 1, jadi dapat menghilangkannya\n",
    "- untuk nilai nan dapat digunakan parameter opsional skipna"
   ],
   "metadata": {}
  },
  {
   "cell_type": "markdown",
   "source": [
    "varian populasi\n",
    "- (n-1) diganti dengan n (di pure python)\n",
    "- statistics.pvariance() untuk statistik\n",
    "- parameter ddof=0 untuk NumPy / Pandas. NumPy default ddof=0"
   ],
   "metadata": {}
  },
  {
   "cell_type": "markdown",
   "source": [
    "### Standard Deviation\n",
    "- sampel SD untuk mengukur penyebaran data\n",
    "- akar dari varians"
   ],
   "metadata": {}
  },
  {
   "cell_type": "code",
   "execution_count": 42,
   "source": [
    "# di pure python dapat dihitung dengan mengetahui nilai variasi\n",
    "std_ = var_**0.5\n",
    "std_"
   ],
   "outputs": [
    {
     "output_type": "execute_result",
     "data": {
      "text/plain": [
       "11.099549540409285"
      ]
     },
     "metadata": {},
     "execution_count": 42
    }
   ],
   "metadata": {}
  },
  {
   "cell_type": "code",
   "execution_count": 43,
   "source": [
    "# statistics\n",
    "std_=statistics.stdev(x)\n",
    "std_"
   ],
   "outputs": [
    {
     "output_type": "execute_result",
     "data": {
      "text/plain": [
       "11.099549540409287"
      ]
     },
     "metadata": {},
     "execution_count": 43
    }
   ],
   "metadata": {}
  },
  {
   "cell_type": "code",
   "execution_count": 44,
   "source": [
    "std_=statistics.stdev(x, mean_)\n",
    "std_"
   ],
   "outputs": [
    {
     "output_type": "execute_result",
     "data": {
      "text/plain": [
       "11.099549540409287"
      ]
     },
     "metadata": {},
     "execution_count": 44
    }
   ],
   "metadata": {}
  },
  {
   "cell_type": "code",
   "execution_count": 45,
   "source": [
    "# numpy\n",
    "print(np.std(y, ddof=1))\n",
    "print(y.std(ddof=1))\n",
    "print(z.std(ddof=1))\n",
    "#ddof = 1 dan tidak bisa menghilangkannya\n",
    "# skipna untuk memperlakukan nilai nan secara berbeda"
   ],
   "outputs": [
    {
     "output_type": "stream",
     "name": "stdout",
     "text": [
      "11.099549540409285\n",
      "11.099549540409285\n",
      "11.099549540409285\n"
     ]
    }
   ],
   "metadata": {}
  },
  {
   "cell_type": "markdown",
   "source": [
    "### Skewness\n",
    "- mengukur nilai asimetri suatu sampel data\n",
    "- negatif = ada ekor dominan di sisi kiri\n",
    "- positif = dominan disisi kanan\n",
    "- mendekati 0 (+- 0,5) dianggap simetris"
   ],
   "metadata": {}
  },
  {
   "cell_type": "code",
   "execution_count": 46,
   "source": [
    "#skewness dengan pure python ditentukan dengan mengetahui ukuran data. mean_, sdt\n",
    "x = [8.0, 1, 2.5, 4, 28.0]\n",
    "n = len(x)\n",
    "mean_ = sum(x)/n\n",
    "var_ = sum((item-mean_)**2 for item in x)/(n-1)\n",
    "std_ = var_**0.5\n",
    "skew_ = (sum((item - mean_)**3 for item in x)*n/ ((n-1)*(n-2)*std_**3))\n",
    "skew_\n",
    "# skew positif menunjukan x punya right-side tail"
   ],
   "outputs": [
    {
     "output_type": "execute_result",
     "data": {
      "text/plain": [
       "1.9470432273905929"
      ]
     },
     "metadata": {},
     "execution_count": 46
    }
   ],
   "metadata": {}
  },
  {
   "cell_type": "code",
   "execution_count": 47,
   "source": [
    "scipy.stats.skew(x, bias=False)"
   ],
   "outputs": [
    {
     "output_type": "execute_result",
     "data": {
      "text/plain": [
       "1.9470432273905927"
      ]
     },
     "metadata": {},
     "execution_count": 47
    }
   ],
   "metadata": {}
  },
  {
   "cell_type": "code",
   "execution_count": 48,
   "source": [
    "scipy.stats.skew(y_with_nan, bias=False)\n",
    "#nilai nan perlu dikontrol dengan nan_policy ('propagate', 'raise', 'omit')"
   ],
   "outputs": [
    {
     "output_type": "execute_result",
     "data": {
      "text/plain": [
       "nan"
      ]
     },
     "metadata": {},
     "execution_count": 48
    }
   ],
   "metadata": {}
  },
  {
   "cell_type": "code",
   "execution_count": 49,
   "source": [
    "z, z_with_nan = pd.Series(x), pd.Series(x_with_nan)\n",
    "print(z.skew())\n",
    "print(z_with_nan.skew())"
   ],
   "outputs": [
    {
     "output_type": "stream",
     "name": "stdout",
     "text": [
      "1.9470432273905924\n",
      "1.9470432273905924\n"
     ]
    }
   ],
   "metadata": {}
  },
  {
   "cell_type": "markdown",
   "source": [
    "### Precentiles dan Quantile\n",
    "- elemen dalam kumpulan data sehingga p% elemen dalam kumpulan data kurang dari atau sama dengan nilai tersebut\n",
    "- (100-p)% elemen lebih besar atau sama dengan nilai tersebut\n",
    "- tiap dataset mempunyai quartile, yang merupakan presentil yang membagi dataset menjadi empat bagian:\n",
    "    - q1 = p-25 = 25% item terkecil\n",
    "    - q2 = p-50 = 25% item diantara q1 dan q2, 25% lainnua diantara q2 dan q3\n",
    "    - q3 = p-75 = 25% item terbesaar dari sisa kumpulan data"
   ],
   "metadata": {}
  },
  {
   "cell_type": "code",
   "execution_count": 50,
   "source": [
    "x = [-5.0, -1.1, 0.1, 2.0, 8.0, 12.8, 21.0, 25.8, 41.0]\n",
    "print(statistics.quantiles(x, n=2))\n",
    "print(statistics.quantiles(x, n=4, method='inclusive'))\n",
    "# 8.0 = median dari x\n",
    "# 0.1 dan 21.0 sampel presentil ke-25 dan ke-75\n",
    "# n = jumlah presentil probabilitas sama yang dihasilkan\n",
    "# method = cara menghitungnya"
   ],
   "outputs": [
    {
     "output_type": "stream",
     "name": "stdout",
     "text": [
      "[8.0]\n",
      "[0.1, 8.0, 21.0]\n"
     ]
    }
   ],
   "metadata": {}
  },
  {
   "cell_type": "code",
   "execution_count": 51,
   "source": [
    "y=np.array(x)\n",
    "print(np.percentile(y, 5))\n",
    "print(np.percentile(y, 95))"
   ],
   "outputs": [
    {
     "output_type": "stream",
     "name": "stdout",
     "text": [
      "-3.44\n",
      "34.919999999999995\n"
     ]
    }
   ],
   "metadata": {}
  },
  {
   "cell_type": "code",
   "execution_count": 52,
   "source": [
    "#precentile membutuhkan argumen dataset dan nilai presntil\n",
    "#dataset dapat berupa array NumPy, list, tuplr\n",
    "# precentile berupa urutan data diantara 0 - 100\n",
    "print(np.percentile(y, [25, 50, 75]))\n",
    "print(np.median(y))"
   ],
   "outputs": [
    {
     "output_type": "stream",
     "name": "stdout",
     "text": [
      "[ 0.1  8.  21. ]\n",
      "8.0\n"
     ]
    }
   ],
   "metadata": {}
  },
  {
   "cell_type": "code",
   "execution_count": 53,
   "source": [
    "y_with_nan= np.insert(y, 2, np.nan)\n",
    "print(y_with_nan)"
   ],
   "outputs": [
    {
     "output_type": "stream",
     "name": "stdout",
     "text": [
      "[-5.  -1.1  nan  0.1  2.   8.  12.8 21.  25.8 41. ]\n"
     ]
    }
   ],
   "metadata": {}
  },
  {
   "cell_type": "code",
   "execution_count": 54,
   "source": [
    "# untuk menghindari nilai nan dapat menggunakan np.nanpercentile\n",
    "print(np.nanpercentile(y_with_nan, [25, 50, 75]))"
   ],
   "outputs": [
    {
     "output_type": "stream",
     "name": "stdout",
     "text": [
      "[ 0.1  8.  21. ]\n"
     ]
    }
   ],
   "metadata": {}
  },
  {
   "cell_type": "code",
   "execution_count": 55,
   "source": [
    "#quantile dengan nilai 0-1\n",
    "print(np.quantile(y, 0.05))\n",
    "print(np.quantile(y, 0.95))\n"
   ],
   "outputs": [
    {
     "output_type": "stream",
     "name": "stdout",
     "text": [
      "-3.44\n",
      "34.919999999999995\n"
     ]
    }
   ],
   "metadata": {}
  },
  {
   "cell_type": "code",
   "execution_count": 56,
   "source": [
    "np.quantile(y, [0.25, 0.5, 0.75])"
   ],
   "outputs": [
    {
     "output_type": "execute_result",
     "data": {
      "text/plain": [
       "array([ 0.1,  8. , 21. ])"
      ]
     },
     "metadata": {},
     "execution_count": 56
    }
   ],
   "metadata": {}
  },
  {
   "cell_type": "code",
   "execution_count": 57,
   "source": [
    "print(np.nanquantile(y_with_nan, [0.25, 0.5, 0.75]))"
   ],
   "outputs": [
    {
     "output_type": "stream",
     "name": "stdout",
     "text": [
      "[ 0.1  8.  21. ]\n"
     ]
    }
   ],
   "metadata": {}
  },
  {
   "cell_type": "code",
   "execution_count": 58,
   "source": [
    "# pd.Series juga memiliki method .quantile()\n",
    "z, z_with_nan = pd.Series(y), pd.Series(y_with_nan)\n",
    "print(z.quantile(0.05))\n",
    "print(z.quantile(0.95))"
   ],
   "outputs": [
    {
     "output_type": "stream",
     "name": "stdout",
     "text": [
      "-3.44\n",
      "34.919999999999995\n"
     ]
    }
   ],
   "metadata": {}
  },
  {
   "cell_type": "code",
   "execution_count": 59,
   "source": [
    "z.quantile([0.25, 0.5, 0.75])"
   ],
   "outputs": [
    {
     "output_type": "execute_result",
     "data": {
      "text/plain": [
       "0.25     0.1\n",
       "0.50     8.0\n",
       "0.75    21.0\n",
       "dtype: float64"
      ]
     },
     "metadata": {},
     "execution_count": 59
    }
   ],
   "metadata": {}
  },
  {
   "cell_type": "code",
   "execution_count": 60,
   "source": [
    "z_with_nan.quantile([0.25, 0.5, 0.75])"
   ],
   "outputs": [
    {
     "output_type": "execute_result",
     "data": {
      "text/plain": [
       "0.25     0.1\n",
       "0.50     8.0\n",
       "0.75    21.0\n",
       "dtype: float64"
      ]
     },
     "metadata": {},
     "execution_count": 60
    }
   ],
   "metadata": {}
  },
  {
   "cell_type": "markdown",
   "source": [
    "### Ranges\n",
    "- perbedaan antara elemen maksimum dan minimum dalam kumpulan data"
   ],
   "metadata": {}
  },
  {
   "cell_type": "code",
   "execution_count": 61,
   "source": [
    "print(np.ptp(y))\n",
    "print(np.ptp(z))\n",
    "print(np.ptp(y_with_nan))\n",
    "print(np.ptp(z_with_nan))"
   ],
   "outputs": [
    {
     "output_type": "stream",
     "name": "stdout",
     "text": [
      "46.0\n",
      "46.0\n",
      "nan\n",
      "nan\n"
     ]
    }
   ],
   "metadata": {}
  },
  {
   "cell_type": "code",
   "execution_count": 62,
   "source": [
    "#interquartile range\n",
    "quantiles = np.quantile(y, [0.25, 0.75])\n",
    "quantiles[1] - quantiles[0]"
   ],
   "outputs": [
    {
     "output_type": "execute_result",
     "data": {
      "text/plain": [
       "20.9"
      ]
     },
     "metadata": {},
     "execution_count": 62
    }
   ],
   "metadata": {}
  },
  {
   "cell_type": "code",
   "execution_count": 63,
   "source": [
    "quantiles= z.quantile([0.25, 0.75])\n",
    "quantiles[0.75]-quantiles[0.25]"
   ],
   "outputs": [
    {
     "output_type": "execute_result",
     "data": {
      "text/plain": [
       "20.9"
      ]
     },
     "metadata": {},
     "execution_count": 63
    }
   ],
   "metadata": {}
  },
  {
   "cell_type": "markdown",
   "source": [
    "## Ringkasan dari Deskriptif Statistik\n",
    "- fungsi yang mendapatkan deskriptif statistik dengan cepat dengan satu panggilan fungsi atau merhod"
   ],
   "metadata": {}
  },
  {
   "cell_type": "markdown",
   "source": [
    "### deskripsi"
   ],
   "metadata": {}
  },
  {
   "cell_type": "markdown",
   "source": [
    "describe(), menampilkan :\n",
    "- nobs: jumlah pengamatan atau elemen dalam kumpulan data Anda\n",
    "- minmax: tuple dengan nilai minimum dan maksimum dari kumpulan data Anda\n",
    "- mean: rata-rata set data Anda\n",
    "- varians: varians set data Anda\n",
    "- skewness: kemiringan dataset Anda\n",
    "- kurtosis: kurtosis dari kumpulan data Anda"
   ],
   "metadata": {}
  },
  {
   "cell_type": "code",
   "execution_count": 64,
   "source": [
    "#argumen 1 = dataset (bisa array NumPy, list, tuple, dataframe, dll)\n",
    "# ddof=1 penting untuk menghitung varians\n",
    "# bias=False untuk memaksa mengoreksi skewness dan kurtosis untuk statistical bias\n",
    "result_ = scipy.stats.describe(y, ddof=1, bias=False)\n",
    "result_"
   ],
   "outputs": [
    {
     "output_type": "execute_result",
     "data": {
      "text/plain": [
       "DescribeResult(nobs=9, minmax=(-5.0, 41.0), mean=11.622222222222222, variance=228.75194444444446, skewness=0.9249043136685094, kurtosis=0.14770623629658886)"
      ]
     },
     "metadata": {},
     "execution_count": 64
    }
   ],
   "metadata": {}
  },
  {
   "cell_type": "code",
   "execution_count": 65,
   "source": [
    "# dapat dengan dot notation\n",
    "print(result_.nobs)\n",
    "print(result_.minmax[0])\n",
    "print(result_.minmax[1])\n",
    "print(result_.mean)\n",
    "print(result_.variance)\n",
    "print(result_.skewness)\n",
    "print(result_.kurtosis)"
   ],
   "outputs": [
    {
     "output_type": "stream",
     "name": "stdout",
     "text": [
      "9\n",
      "-5.0\n",
      "41.0\n",
      "11.622222222222222\n",
      "228.75194444444446\n",
      "0.9249043136685094\n",
      "0.14770623629658886\n"
     ]
    }
   ],
   "metadata": {}
  },
  {
   "cell_type": "markdown",
   "source": [
    "pandas:\n",
    "- count : elemen dalam dataset\n",
    "- mean : rata-rata\n",
    "- std : standar deviasi\n",
    "- min and max: nilai minimum dan maximum\n",
    "- 25, 50, 75% : quartile dataset"
   ],
   "metadata": {}
  },
  {
   "cell_type": "code",
   "execution_count": 66,
   "source": [
    "#pandas juga memiliki fungsi serupa\n",
    "z.describe()"
   ],
   "outputs": [
    {
     "output_type": "execute_result",
     "data": {
      "text/plain": [
       "count     9.000000\n",
       "mean     11.622222\n",
       "std      15.124548\n",
       "min      -5.000000\n",
       "25%       0.100000\n",
       "50%       8.000000\n",
       "75%      21.000000\n",
       "max      41.000000\n",
       "dtype: float64"
      ]
     },
     "metadata": {},
     "execution_count": 66
    }
   ],
   "metadata": {}
  },
  {
   "cell_type": "markdown",
   "source": [
    "### Pengukuran dari Korelasi diantara pasangan Data\n",
    "- perlu memeriksa hubungan antara elemen yang sesuai dari dua variabel dalam kumpulan data\n",
    "- jenis korelasi:\n",
    "    - positif : ketika x makin besar maka nilainya makin besar\n",
    "    - negatif : ketika x makin besar maka nilainya makin kecil\n",
    "    - weak/ tidak ada korelasi : tidak ada hubungan"
   ],
   "metadata": {}
  },
  {
   "cell_type": "code",
   "execution_count": null,
   "source": [],
   "outputs": [],
   "metadata": {}
  },
  {
   "cell_type": "code",
   "execution_count": 67,
   "source": [
    "x= list(range(-10,11))\n",
    "y = [0, 2, 2, 2, 2, 3, 3, 6, 7, 4, 7, 6, 6, 9, 4, 5, 5, 10, 11, 12, 14]\n",
    "\n",
    "x_, y_ =  np.array(x), np.array(y)\n",
    "x__, y__ = pd.Series(x_), pd.Series(y_)"
   ],
   "outputs": [],
   "metadata": {}
  },
  {
   "cell_type": "markdown",
   "source": [
    "### Kovariasi \n",
    "- ukuran yang mengukur kekuatan dan arah hubungan antara sepasang variabel\n",
    "- mengukur kekuatan dan arah hubungan antara sepasang variabel:\n",
    "    - positif : Hubungan yang lebih kuat sesuai dengan nilai kovarians yang lebih tinggi hubungan yang kuat \n",
    "    - negatif :Hubungan yang lebih kuat sesuai dengan nilai kovarians yang lebih rendah (atau lebih tinggi)\n",
    "    - weak : kovarians mendekati nol\n"
   ],
   "metadata": {}
  },
  {
   "cell_type": "code",
   "execution_count": 68,
   "source": [
    "# Python pure\n",
    "n = len(x)\n",
    "mean_x, mean_y = sum(x)/n, sum(y)/n\n",
    "cov_xy = (sum((x[k]- mean_x)*(y[k]- mean_y) for k in range (n))/(n-1))\n",
    "cov_xy"
   ],
   "outputs": [
    {
     "output_type": "execute_result",
     "data": {
      "text/plain": [
       "19.95"
      ]
     },
     "metadata": {},
     "execution_count": 68
    }
   ],
   "metadata": {}
  },
  {
   "cell_type": "code",
   "execution_count": 69,
   "source": [
    "# dengan NumPy\n",
    "cov_matrix = np.cov(x_, y_)\n",
    "cov_matrix"
   ],
   "outputs": [
    {
     "output_type": "execute_result",
     "data": {
      "text/plain": [
       "array([[38.5       , 19.95      ],\n",
       "       [19.95      , 13.91428571]])"
      ]
     },
     "metadata": {},
     "execution_count": 69
    }
   ],
   "metadata": {}
  },
  {
   "cell_type": "code",
   "execution_count": 70,
   "source": [
    "print(x_.var(ddof=1))\n",
    "print(y_.var(ddof=1))"
   ],
   "outputs": [
    {
     "output_type": "stream",
     "name": "stdout",
     "text": [
      "38.5\n",
      "13.914285714285711\n"
     ]
    }
   ],
   "metadata": {}
  },
  {
   "cell_type": "markdown",
   "source": [
    "varians dari x dan y sama dengan cov_matrix[0,0] dan cov_matrix[1,1]"
   ],
   "metadata": {}
  },
  {
   "cell_type": "code",
   "execution_count": 71,
   "source": [
    "cov_xy=cov_matrix[0,1]\n",
    "cov_xy"
   ],
   "outputs": [
    {
     "output_type": "execute_result",
     "data": {
      "text/plain": [
       "19.95"
      ]
     },
     "metadata": {},
     "execution_count": 71
    }
   ],
   "metadata": {}
  },
  {
   "cell_type": "code",
   "execution_count": 72,
   "source": [
    "cov_xy=cov_matrix[1,0]\n",
    "cov_xy"
   ],
   "outputs": [
    {
     "output_type": "execute_result",
     "data": {
      "text/plain": [
       "19.95"
      ]
     },
     "metadata": {},
     "execution_count": 72
    }
   ],
   "metadata": {}
  },
  {
   "cell_type": "code",
   "execution_count": 73,
   "source": [
    "# pandas\n",
    "cov_xy = x__.cov(y__)\n",
    "cov_xy"
   ],
   "outputs": [
    {
     "output_type": "execute_result",
     "data": {
      "text/plain": [
       "19.95"
      ]
     },
     "metadata": {},
     "execution_count": 73
    }
   ],
   "metadata": {}
  },
  {
   "cell_type": "code",
   "execution_count": 74,
   "source": [
    "cov_xy=y__.cov(x__)\n",
    "cov_xy"
   ],
   "outputs": [
    {
     "output_type": "execute_result",
     "data": {
      "text/plain": [
       "19.95"
      ]
     },
     "metadata": {},
     "execution_count": 74
    }
   ],
   "metadata": {}
  },
  {
   "cell_type": "markdown",
   "source": [
    "### Koefisien korelasi\n",
    "- disebut juga pearson product-moment correlation coefficient\n",
    "- dilambangkan dengan simbol r\n",
    "- koefisien adalah ukuran lain dari korelasi antar data\n",
    "- r>0 , korelasi positif\n",
    "- r<0 , negatif korelasi\n",
    "- r = 1, nilai  maksimum yang mungkin dari r, r=1 linear dengan variabel\n",
    "- r = -1, nilai minimum yang mungkin dari r, dan merupakan hubungan linear negatif\n",
    "- r = 0, hubungan antar variabel rendah"
   ],
   "metadata": {}
  },
  {
   "cell_type": "code",
   "execution_count": 75,
   "source": [
    "# pure python\n",
    "var_x= sum((item - mean_x)**2 for item in x)/(n-1)\n",
    "var_y= sum((item - mean_y)**2 for item in y)/(n-1)\n",
    "std_x, std_y = var_x**0.5, var_y**0.5\n",
    "r=cov_xy/(std_x*std_y)\n",
    "r"
   ],
   "outputs": [
    {
     "output_type": "execute_result",
     "data": {
      "text/plain": [
       "0.861950005631606"
      ]
     },
     "metadata": {},
     "execution_count": 75
    }
   ],
   "metadata": {}
  },
  {
   "cell_type": "code",
   "execution_count": 76,
   "source": [
    "#scipy.stats\n",
    "r, p = scipy.stats.pearsonr(x_, y_)\n",
    "print(r)\n",
    "print(p)"
   ],
   "outputs": [
    {
     "output_type": "stream",
     "name": "stdout",
     "text": [
      "0.8619500056316061\n",
      "5.122760847201135e-07\n"
     ]
    }
   ],
   "metadata": {}
  },
  {
   "cell_type": "code",
   "execution_count": 77,
   "source": [
    "# np.correcoef\n",
    "corr_matrix = np.corrcoef(x_, y_)\n",
    "corr_matrix "
   ],
   "outputs": [
    {
     "output_type": "execute_result",
     "data": {
      "text/plain": [
       "array([[1.        , 0.86195001],\n",
       "       [0.86195001, 1.        ]])"
      ]
     },
     "metadata": {},
     "execution_count": 77
    }
   ],
   "metadata": {}
  },
  {
   "cell_type": "code",
   "execution_count": 78,
   "source": [
    "print(scipy.stats.linregress(x_, y_))"
   ],
   "outputs": [
    {
     "output_type": "stream",
     "name": "stdout",
     "text": [
      "LinregressResult(slope=0.5181818181818181, intercept=5.714285714285714, rvalue=0.861950005631606, pvalue=5.122760847201164e-07, stderr=0.06992387660074979, intercept_stderr=0.4234100995002589)\n"
     ]
    }
   ],
   "metadata": {}
  },
  {
   "cell_type": "code",
   "execution_count": 79,
   "source": [
    "print(scipy.stats.linregress(x_, y_).rvalue)"
   ],
   "outputs": [
    {
     "output_type": "stream",
     "name": "stdout",
     "text": [
      "0.861950005631606\n"
     ]
    }
   ],
   "metadata": {}
  },
  {
   "cell_type": "markdown",
   "source": [
    "# 2D Data"
   ],
   "metadata": {}
  },
  {
   "cell_type": "markdown",
   "source": [
    "- diperoleh dari:\n",
    "    - database tabel\n",
    "    - CSV files\n",
    "    - excel\n",
    "    - calc\n",
    "    - google spreadsheets"
   ],
   "metadata": {}
  },
  {
   "cell_type": "markdown",
   "source": [
    "## Axes"
   ],
   "metadata": {}
  },
  {
   "cell_type": "code",
   "execution_count": 80,
   "source": [
    "a = np.array([[1, 1, 1],\n",
    "                        [2, 3, 2],\n",
    "                        [4, 9, 2],\n",
    "                        [8, 27, 4], \n",
    "                        [16, 1, 1]])\n",
    "a"
   ],
   "outputs": [
    {
     "output_type": "execute_result",
     "data": {
      "text/plain": [
       "array([[ 1,  1,  1],\n",
       "       [ 2,  3,  2],\n",
       "       [ 4,  9,  2],\n",
       "       [ 8, 27,  4],\n",
       "       [16,  1,  1]])"
      ]
     },
     "metadata": {},
     "execution_count": 80
    }
   ],
   "metadata": {}
  },
  {
   "cell_type": "code",
   "execution_count": 81,
   "source": [
    "# kumpulan data 2D diolah dalam bentuk data 1D\n",
    "print(np.mean(a))\n",
    "print(a.mean())\n",
    "print(np.median(a))\n",
    "print(a.var(ddof=1))"
   ],
   "outputs": [
    {
     "output_type": "stream",
     "name": "stdout",
     "text": [
      "5.466666666666667\n",
      "5.466666666666667\n",
      "2.0\n",
      "52.83809523809524\n"
     ]
    }
   ],
   "metadata": {}
  },
  {
   "cell_type": "code",
   "execution_count": 82,
   "source": [
    "#ingin mengolah dengan bentuk 2D\n",
    "# axis = None () | mengatakan untuk menghitung statistik di semua data dalam array. \n",
    "# Contoh di atas bekerja seperti ini. Perilaku ini sering menjadi default di NumPy.\n",
    "# axis = 0 | Mengatakan untuk menghitung statistik di semua baris, yaitu, untuk setiap kolom larik.\n",
    "# Perilaku ini sering menjadi default untuk fungsi statistik SciPy.\n",
    "# axis = 1 | mengatakan untuk menghitung statistik di semua kolom, yaitu, untuk setiap baris array"
   ],
   "outputs": [],
   "metadata": {}
  },
  {
   "cell_type": "code",
   "execution_count": 83,
   "source": [
    "np.mean(a, axis=0)\n",
    "# pada tiap kolom"
   ],
   "outputs": [
    {
     "output_type": "execute_result",
     "data": {
      "text/plain": [
       "array([6.2, 8.2, 2. ])"
      ]
     },
     "metadata": {},
     "execution_count": 83
    }
   ],
   "metadata": {}
  },
  {
   "cell_type": "code",
   "execution_count": 84,
   "source": [
    "a.mean(axis=0)"
   ],
   "outputs": [
    {
     "output_type": "execute_result",
     "data": {
      "text/plain": [
       "array([6.2, 8.2, 2. ])"
      ]
     },
     "metadata": {},
     "execution_count": 84
    }
   ],
   "metadata": {}
  },
  {
   "cell_type": "code",
   "execution_count": 85,
   "source": [
    "np.mean(a, axis=1)\n",
    "#pada tiap baris"
   ],
   "outputs": [
    {
     "output_type": "execute_result",
     "data": {
      "text/plain": [
       "array([ 1.        ,  2.33333333,  5.        , 13.        ,  6.        ])"
      ]
     },
     "metadata": {},
     "execution_count": 85
    }
   ],
   "metadata": {}
  },
  {
   "cell_type": "code",
   "execution_count": 86,
   "source": [
    "a.mean(axis=1)"
   ],
   "outputs": [
    {
     "output_type": "execute_result",
     "data": {
      "text/plain": [
       "array([ 1.        ,  2.33333333,  5.        , 13.        ,  6.        ])"
      ]
     },
     "metadata": {},
     "execution_count": 86
    }
   ],
   "metadata": {}
  },
  {
   "cell_type": "code",
   "execution_count": 87,
   "source": [
    "# parameter axis juga berlaku untuk fungsi lainnya\n",
    "np.median(a, axis=0)"
   ],
   "outputs": [
    {
     "output_type": "execute_result",
     "data": {
      "text/plain": [
       "array([4., 3., 2.])"
      ]
     },
     "metadata": {},
     "execution_count": 87
    }
   ],
   "metadata": {}
  },
  {
   "cell_type": "code",
   "execution_count": 88,
   "source": [
    "np.median(a, axis=1)"
   ],
   "outputs": [
    {
     "output_type": "execute_result",
     "data": {
      "text/plain": [
       "array([1., 2., 4., 8., 1.])"
      ]
     },
     "metadata": {},
     "execution_count": 88
    }
   ],
   "metadata": {}
  },
  {
   "cell_type": "code",
   "execution_count": 89,
   "source": [
    "a.var(axis=0, ddof=1)"
   ],
   "outputs": [
    {
     "output_type": "execute_result",
     "data": {
      "text/plain": [
       "array([ 37.2, 121.2,   1.5])"
      ]
     },
     "metadata": {},
     "execution_count": 89
    }
   ],
   "metadata": {}
  },
  {
   "cell_type": "code",
   "execution_count": 90,
   "source": [
    "a.var(axis=1, ddof=1)"
   ],
   "outputs": [
    {
     "output_type": "execute_result",
     "data": {
      "text/plain": [
       "array([  0.        ,   0.33333333,  13.        , 151.        ,\n",
       "        75.        ])"
      ]
     },
     "metadata": {},
     "execution_count": 90
    }
   ],
   "metadata": {}
  },
  {
   "cell_type": "code",
   "execution_count": 91,
   "source": [
    "#scipy.stats akan default axis=0\n",
    "scipy.stats.gmean(a)"
   ],
   "outputs": [
    {
     "output_type": "execute_result",
     "data": {
      "text/plain": [
       "array([4.        , 3.73719282, 1.74110113])"
      ]
     },
     "metadata": {},
     "execution_count": 91
    }
   ],
   "metadata": {}
  },
  {
   "cell_type": "code",
   "execution_count": 92,
   "source": [
    "scipy.stats.gmean(a, axis=1)"
   ],
   "outputs": [
    {
     "output_type": "execute_result",
     "data": {
      "text/plain": [
       "array([1.        , 2.28942849, 4.16016765, 9.52440631, 2.5198421 ])"
      ]
     },
     "metadata": {},
     "execution_count": 92
    }
   ],
   "metadata": {}
  },
  {
   "cell_type": "code",
   "execution_count": 93,
   "source": [
    "scipy.stats.gmean(a, axis=None)"
   ],
   "outputs": [
    {
     "output_type": "execute_result",
     "data": {
      "text/plain": [
       "2.963533433637246"
      ]
     },
     "metadata": {},
     "execution_count": 93
    }
   ],
   "metadata": {}
  },
  {
   "cell_type": "code",
   "execution_count": 94,
   "source": [
    "scipy.stats.describe(a, axis=None, ddof=1, bias=False)"
   ],
   "outputs": [
    {
     "output_type": "execute_result",
     "data": {
      "text/plain": [
       "DescribeResult(nobs=15, minmax=(1, 27), mean=5.466666666666667, variance=52.83809523809524, skewness=2.2792882923344338, kurtosis=5.282983959732569)"
      ]
     },
     "metadata": {},
     "execution_count": 94
    }
   ],
   "metadata": {}
  },
  {
   "cell_type": "code",
   "execution_count": 95,
   "source": [
    "scipy.stats.describe(a, ddof=1, bias=False) #default axis = 1"
   ],
   "outputs": [
    {
     "output_type": "execute_result",
     "data": {
      "text/plain": [
       "DescribeResult(nobs=5, minmax=(array([1, 1, 1]), array([16, 27,  4])), mean=array([6.2, 8.2, 2. ]), variance=array([ 37.2, 121.2,   1.5]), skewness=array([1.32531471, 1.79809454, 1.36082763]), kurtosis=array([1.30376344, 3.14969121, 2.        ]))"
      ]
     },
     "metadata": {},
     "execution_count": 95
    }
   ],
   "metadata": {}
  },
  {
   "cell_type": "code",
   "execution_count": 96,
   "source": [
    "scipy.stats.describe(a, ddof=1, axis=0, bias=False) #default axis = 1"
   ],
   "outputs": [
    {
     "output_type": "execute_result",
     "data": {
      "text/plain": [
       "DescribeResult(nobs=5, minmax=(array([1, 1, 1]), array([16, 27,  4])), mean=array([6.2, 8.2, 2. ]), variance=array([ 37.2, 121.2,   1.5]), skewness=array([1.32531471, 1.79809454, 1.36082763]), kurtosis=array([1.30376344, 3.14969121, 2.        ]))"
      ]
     },
     "metadata": {},
     "execution_count": 96
    }
   ],
   "metadata": {}
  },
  {
   "cell_type": "markdown",
   "source": [
    "## DataFrames\n",
    "- fundamental Pandas"
   ],
   "metadata": {}
  },
  {
   "cell_type": "code",
   "execution_count": 97,
   "source": [
    "row_names = ['first', 'second', 'third', 'fourth', 'fifth']\n",
    "col_names = ['A', 'B', 'C']\n",
    "df = pd.DataFrame(a, index=row_names, columns=col_names)\n",
    "df"
   ],
   "outputs": [
    {
     "output_type": "execute_result",
     "data": {
      "text/html": [
       "<div>\n",
       "<style scoped>\n",
       "    .dataframe tbody tr th:only-of-type {\n",
       "        vertical-align: middle;\n",
       "    }\n",
       "\n",
       "    .dataframe tbody tr th {\n",
       "        vertical-align: top;\n",
       "    }\n",
       "\n",
       "    .dataframe thead th {\n",
       "        text-align: right;\n",
       "    }\n",
       "</style>\n",
       "<table border=\"1\" class=\"dataframe\">\n",
       "  <thead>\n",
       "    <tr style=\"text-align: right;\">\n",
       "      <th></th>\n",
       "      <th>A</th>\n",
       "      <th>B</th>\n",
       "      <th>C</th>\n",
       "    </tr>\n",
       "  </thead>\n",
       "  <tbody>\n",
       "    <tr>\n",
       "      <th>first</th>\n",
       "      <td>1</td>\n",
       "      <td>1</td>\n",
       "      <td>1</td>\n",
       "    </tr>\n",
       "    <tr>\n",
       "      <th>second</th>\n",
       "      <td>2</td>\n",
       "      <td>3</td>\n",
       "      <td>2</td>\n",
       "    </tr>\n",
       "    <tr>\n",
       "      <th>third</th>\n",
       "      <td>4</td>\n",
       "      <td>9</td>\n",
       "      <td>2</td>\n",
       "    </tr>\n",
       "    <tr>\n",
       "      <th>fourth</th>\n",
       "      <td>8</td>\n",
       "      <td>27</td>\n",
       "      <td>4</td>\n",
       "    </tr>\n",
       "    <tr>\n",
       "      <th>fifth</th>\n",
       "      <td>16</td>\n",
       "      <td>1</td>\n",
       "      <td>1</td>\n",
       "    </tr>\n",
       "  </tbody>\n",
       "</table>\n",
       "</div>"
      ],
      "text/plain": [
       "         A   B  C\n",
       "first    1   1  1\n",
       "second   2   3  2\n",
       "third    4   9  2\n",
       "fourth   8  27  4\n",
       "fifth   16   1  1"
      ]
     },
     "metadata": {},
     "execution_count": 97
    }
   ],
   "metadata": {}
  },
  {
   "cell_type": "code",
   "execution_count": 98,
   "source": [
    "df.mean()"
   ],
   "outputs": [
    {
     "output_type": "execute_result",
     "data": {
      "text/plain": [
       "A    6.2\n",
       "B    8.2\n",
       "C    2.0\n",
       "dtype: float64"
      ]
     },
     "metadata": {},
     "execution_count": 98
    }
   ],
   "metadata": {}
  },
  {
   "cell_type": "code",
   "execution_count": 99,
   "source": [
    "df.var()"
   ],
   "outputs": [
    {
     "output_type": "execute_result",
     "data": {
      "text/plain": [
       "A     37.2\n",
       "B    121.2\n",
       "C      1.5\n",
       "dtype: float64"
      ]
     },
     "metadata": {},
     "execution_count": 99
    }
   ],
   "metadata": {}
  },
  {
   "cell_type": "code",
   "execution_count": 100,
   "source": [
    "df.mean(axis=1)"
   ],
   "outputs": [
    {
     "output_type": "execute_result",
     "data": {
      "text/plain": [
       "first      1.000000\n",
       "second     2.333333\n",
       "third      5.000000\n",
       "fourth    13.000000\n",
       "fifth      6.000000\n",
       "dtype: float64"
      ]
     },
     "metadata": {},
     "execution_count": 100
    }
   ],
   "metadata": {}
  },
  {
   "cell_type": "code",
   "execution_count": 101,
   "source": [
    "df.var(axis=1)"
   ],
   "outputs": [
    {
     "output_type": "execute_result",
     "data": {
      "text/plain": [
       "first       0.000000\n",
       "second      0.333333\n",
       "third      13.000000\n",
       "fourth    151.000000\n",
       "fifth      75.000000\n",
       "dtype: float64"
      ]
     },
     "metadata": {},
     "execution_count": 101
    }
   ],
   "metadata": {}
  },
  {
   "cell_type": "code",
   "execution_count": 102,
   "source": [
    "# mengisolasi stiap kolom\n",
    "df['A']"
   ],
   "outputs": [
    {
     "output_type": "execute_result",
     "data": {
      "text/plain": [
       "first      1\n",
       "second     2\n",
       "third      4\n",
       "fourth     8\n",
       "fifth     16\n",
       "Name: A, dtype: int64"
      ]
     },
     "metadata": {},
     "execution_count": 102
    }
   ],
   "metadata": {}
  },
  {
   "cell_type": "code",
   "execution_count": 103,
   "source": [
    "print(df['A'].mean())\n",
    "print(df['A'].var())"
   ],
   "outputs": [
    {
     "output_type": "stream",
     "name": "stdout",
     "text": [
      "6.2\n",
      "37.20000000000001\n"
     ]
    }
   ],
   "metadata": {}
  },
  {
   "cell_type": "code",
   "execution_count": 104,
   "source": [
    "df.values"
   ],
   "outputs": [
    {
     "output_type": "execute_result",
     "data": {
      "text/plain": [
       "array([[ 1,  1,  1],\n",
       "       [ 2,  3,  2],\n",
       "       [ 4,  9,  2],\n",
       "       [ 8, 27,  4],\n",
       "       [16,  1,  1]])"
      ]
     },
     "metadata": {},
     "execution_count": 104
    }
   ],
   "metadata": {}
  },
  {
   "cell_type": "code",
   "execution_count": 105,
   "source": [
    "df.to_numpy()"
   ],
   "outputs": [
    {
     "output_type": "execute_result",
     "data": {
      "text/plain": [
       "array([[ 1,  1,  1],\n",
       "       [ 2,  3,  2],\n",
       "       [ 4,  9,  2],\n",
       "       [ 8, 27,  4],\n",
       "       [16,  1,  1]])"
      ]
     },
     "metadata": {},
     "execution_count": 105
    }
   ],
   "metadata": {}
  },
  {
   "cell_type": "code",
   "execution_count": 106,
   "source": [
    "df.describe()"
   ],
   "outputs": [
    {
     "output_type": "execute_result",
     "data": {
      "text/html": [
       "<div>\n",
       "<style scoped>\n",
       "    .dataframe tbody tr th:only-of-type {\n",
       "        vertical-align: middle;\n",
       "    }\n",
       "\n",
       "    .dataframe tbody tr th {\n",
       "        vertical-align: top;\n",
       "    }\n",
       "\n",
       "    .dataframe thead th {\n",
       "        text-align: right;\n",
       "    }\n",
       "</style>\n",
       "<table border=\"1\" class=\"dataframe\">\n",
       "  <thead>\n",
       "    <tr style=\"text-align: right;\">\n",
       "      <th></th>\n",
       "      <th>A</th>\n",
       "      <th>B</th>\n",
       "      <th>C</th>\n",
       "    </tr>\n",
       "  </thead>\n",
       "  <tbody>\n",
       "    <tr>\n",
       "      <th>count</th>\n",
       "      <td>5.00000</td>\n",
       "      <td>5.000000</td>\n",
       "      <td>5.000000</td>\n",
       "    </tr>\n",
       "    <tr>\n",
       "      <th>mean</th>\n",
       "      <td>6.20000</td>\n",
       "      <td>8.200000</td>\n",
       "      <td>2.000000</td>\n",
       "    </tr>\n",
       "    <tr>\n",
       "      <th>std</th>\n",
       "      <td>6.09918</td>\n",
       "      <td>11.009087</td>\n",
       "      <td>1.224745</td>\n",
       "    </tr>\n",
       "    <tr>\n",
       "      <th>min</th>\n",
       "      <td>1.00000</td>\n",
       "      <td>1.000000</td>\n",
       "      <td>1.000000</td>\n",
       "    </tr>\n",
       "    <tr>\n",
       "      <th>25%</th>\n",
       "      <td>2.00000</td>\n",
       "      <td>1.000000</td>\n",
       "      <td>1.000000</td>\n",
       "    </tr>\n",
       "    <tr>\n",
       "      <th>50%</th>\n",
       "      <td>4.00000</td>\n",
       "      <td>3.000000</td>\n",
       "      <td>2.000000</td>\n",
       "    </tr>\n",
       "    <tr>\n",
       "      <th>75%</th>\n",
       "      <td>8.00000</td>\n",
       "      <td>9.000000</td>\n",
       "      <td>2.000000</td>\n",
       "    </tr>\n",
       "    <tr>\n",
       "      <th>max</th>\n",
       "      <td>16.00000</td>\n",
       "      <td>27.000000</td>\n",
       "      <td>4.000000</td>\n",
       "    </tr>\n",
       "  </tbody>\n",
       "</table>\n",
       "</div>"
      ],
      "text/plain": [
       "              A          B         C\n",
       "count   5.00000   5.000000  5.000000\n",
       "mean    6.20000   8.200000  2.000000\n",
       "std     6.09918  11.009087  1.224745\n",
       "min     1.00000   1.000000  1.000000\n",
       "25%     2.00000   1.000000  1.000000\n",
       "50%     4.00000   3.000000  2.000000\n",
       "75%     8.00000   9.000000  2.000000\n",
       "max    16.00000  27.000000  4.000000"
      ]
     },
     "metadata": {},
     "execution_count": 106
    }
   ],
   "metadata": {}
  },
  {
   "cell_type": "code",
   "execution_count": 107,
   "source": [
    "# mengakses setiap summary pada setiap item\n",
    "#[baris],[kolom]\n",
    "df.describe().at['mean', 'A']"
   ],
   "outputs": [
    {
     "output_type": "execute_result",
     "data": {
      "text/plain": [
       "6.2"
      ]
     },
     "metadata": {},
     "execution_count": 107
    }
   ],
   "metadata": {}
  },
  {
   "cell_type": "markdown",
   "source": [
    "# Visualisasi Data"
   ],
   "metadata": {}
  },
  {
   "cell_type": "markdown",
   "source": [
    "## Box plot"
   ],
   "metadata": {}
  },
  {
   "cell_type": "code",
   "execution_count": 108,
   "source": [
    "np.random.seed(seed=0)\n",
    "x = np.random.randn(1000)\n",
    "y = np.random.randn(100)\n",
    "z = np.random.randn(10)"
   ],
   "outputs": [],
   "metadata": {}
  },
  {
   "cell_type": "code",
   "execution_count": 109,
   "source": [
    "import matplotlib.pyplot as plt\n",
    "plt.style.use('ggplot')"
   ],
   "outputs": [],
   "metadata": {}
  },
  {
   "cell_type": "code",
   "execution_count": 110,
   "source": [
    "fig, ax = plt.subplots()\n",
    "ax.boxplot((x, y, z), vert=False, showmeans=True, meanline=True,\n",
    "                                labels=('x','y','z'), patch_artist=True, \n",
    "                                medianprops={'lw':2, 'color':'purple'},\n",
    "                                meanprops={'lw':2, 'color':'red'})\n",
    "plt.show()"
   ],
   "outputs": [
    {
     "output_type": "display_data",
     "data": {
      "image/png": "[encoded data removed]",
      "text/plain": [
       "<Figure size 432x288 with 1 Axes>"
      ]
     },
     "metadata": {}
    }
   ],
   "metadata": {}
  },
  {
   "cell_type": "markdown",
   "source": [
    "## Histogram"
   ],
   "metadata": {}
  },
  {
   "cell_type": "code",
   "execution_count": 111,
   "source": [
    "hist, bin_edges = np.histogram(x, bins=10)\n",
    "hist"
   ],
   "outputs": [
    {
     "output_type": "execute_result",
     "data": {
      "text/plain": [
       "array([  9,  20,  70, 146, 217, 239, 160,  86,  38,  15])"
      ]
     },
     "metadata": {},
     "execution_count": 111
    }
   ],
   "metadata": {}
  },
  {
   "cell_type": "code",
   "execution_count": 112,
   "source": [
    "bin_edges"
   ],
   "outputs": [
    {
     "output_type": "execute_result",
     "data": {
      "text/plain": [
       "array([-3.04614305, -2.46559324, -1.88504342, -1.3044936 , -0.72394379,\n",
       "       -0.14339397,  0.43715585,  1.01770566,  1.59825548,  2.1788053 ,\n",
       "        2.75935511])"
      ]
     },
     "metadata": {},
     "execution_count": 112
    }
   ],
   "metadata": {}
  },
  {
   "cell_type": "code",
   "execution_count": 113,
   "source": [
    "# kumulatif False\n",
    "fig, ax = plt.subplots()\n",
    "ax.hist(x, bin_edges, cumulative=False)\n",
    "ax.set_xlabel('x')\n",
    "ax.set_ylabel('frequency')\n",
    "plt.show()"
   ],
   "outputs": [
    {
     "output_type": "display_data",
     "data": {
      "image/png": "[encoded data removed]",
      "text/plain": [
       "<Figure size 432x288 with 1 Axes>"
      ]
     },
     "metadata": {}
    }
   ],
   "metadata": {}
  },
  {
   "cell_type": "code",
   "execution_count": 114,
   "source": [
    "# kumulatif true\n",
    "fig, ax = plt.subplots()\n",
    "ax.hist(x, bin_edges, cumulative=True)\n",
    "ax.set_xlabel('x')\n",
    "ax.set_ylabel('frequency')\n",
    "plt.show()"
   ],
   "outputs": [
    {
     "output_type": "display_data",
     "data": {
      "image/png": "[encoded data removed]",
      "text/plain": [
       "<Figure size 432x288 with 1 Axes>"
      ]
     },
     "metadata": {}
    }
   ],
   "metadata": {}
  },
  {
   "cell_type": "markdown",
   "source": [
    "## pie charts"
   ],
   "metadata": {}
  },
  {
   "cell_type": "code",
   "execution_count": 115,
   "source": [
    "x, y, z = 128, 256, 1024"
   ],
   "outputs": [],
   "metadata": {}
  },
  {
   "cell_type": "code",
   "execution_count": 116,
   "source": [
    "fig, ax = plt.subplots()\n",
    "ax.pie((x, y, z), labels=('x', 'y', 'z'), autopct='%1.1f%%')\n",
    "plt.show()"
   ],
   "outputs": [
    {
     "output_type": "display_data",
     "data": {
      "image/png": "[encoded data removed]",
      "text/plain": [
       "<Figure size 432x288 with 1 Axes>"
      ]
     },
     "metadata": {}
    }
   ],
   "metadata": {}
  },
  {
   "cell_type": "markdown",
   "source": [
    "## Bar Charts"
   ],
   "metadata": {}
  },
  {
   "cell_type": "code",
   "execution_count": 117,
   "source": [
    "x = np.arange(21)\n",
    "y = np.random.randint(21, size=21)\n",
    "err = np.random.randn(21)"
   ],
   "outputs": [],
   "metadata": {}
  },
  {
   "cell_type": "code",
   "execution_count": 118,
   "source": [
    "x"
   ],
   "outputs": [
    {
     "output_type": "execute_result",
     "data": {
      "text/plain": [
       "array([ 0,  1,  2,  3,  4,  5,  6,  7,  8,  9, 10, 11, 12, 13, 14, 15, 16,\n",
       "       17, 18, 19, 20])"
      ]
     },
     "metadata": {},
     "execution_count": 118
    }
   ],
   "metadata": {}
  },
  {
   "cell_type": "code",
   "execution_count": 119,
   "source": [
    "y"
   ],
   "outputs": [
    {
     "output_type": "execute_result",
     "data": {
      "text/plain": [
       "array([ 3, 16, 11, 18, 15,  3,  4,  7,  3, 11, 15, 13, 15,  1, 11,  5,  4,\n",
       "        0,  5, 11, 13])"
      ]
     },
     "metadata": {},
     "execution_count": 119
    }
   ],
   "metadata": {}
  },
  {
   "cell_type": "code",
   "execution_count": 120,
   "source": [
    "err"
   ],
   "outputs": [
    {
     "output_type": "execute_result",
     "data": {
      "text/plain": [
       "array([-0.80656479,  2.01621342, -0.30215182,  0.67375184,  1.66826442,\n",
       "       -2.9163849 ,  0.43166367, -0.72905029,  0.11509943,  0.3143407 ,\n",
       "        0.03632548,  0.53540839, -0.50008969,  1.20285171, -1.25813641,\n",
       "       -1.51082149, -1.23405636,  1.38609134, -0.29442511, -1.50657565,\n",
       "       -0.46735128])"
      ]
     },
     "metadata": {},
     "execution_count": 120
    }
   ],
   "metadata": {}
  },
  {
   "cell_type": "code",
   "execution_count": 121,
   "source": [
    "fig, ax = plt.subplots()\n",
    "ax.bar(x, y, yerr=err)\n",
    "ax.set_ylabel('y')\n",
    "ax.set_xlabel('x')\n",
    "plt.show()"
   ],
   "outputs": [
    {
     "output_type": "display_data",
     "data": {
      "image/png": "[encoded data removed]",
      "text/plain": [
       "<Figure size 432x288 with 1 Axes>"
      ]
     },
     "metadata": {}
    }
   ],
   "metadata": {}
  },
  {
   "cell_type": "markdown",
   "source": [
    "## Scatter plot"
   ],
   "metadata": {}
  },
  {
   "cell_type": "code",
   "execution_count": 122,
   "source": [
    "x = np.arange(21)\n",
    "y= 5+2*x+2*np.random.randn(21)\n",
    "slope, intercept, r, *___ = scipy.stats.linregress(x,y)\n",
    "line= f'Regression line: y={intercept:.2f}+{slope:.2f}x, r={r:.2f}'"
   ],
   "outputs": [],
   "metadata": {}
  },
  {
   "cell_type": "code",
   "execution_count": 123,
   "source": [
    "fig, ax = plt.subplots()\n",
    "ax.plot(x, y, lw=0, marker='s', label='Data points')\n",
    "ax.plot(x, intercept+slope*x, label=line)\n",
    "ax.set_xlabel('x')\n",
    "ax.set_ylabel('y')\n",
    "ax.legend(facecolor='white')\n",
    "plt.show()"
   ],
   "outputs": [
    {
     "output_type": "display_data",
     "data": {
      "image/png": "[encoded data removed]",
      "text/plain": [
       "<Figure size 432x288 with 1 Axes>"
      ]
     },
     "metadata": {}
    }
   ],
   "metadata": {}
  },
  {
   "cell_type": "markdown",
   "source": [
    "## Heatmaps"
   ],
   "metadata": {}
  },
  {
   "cell_type": "code",
   "execution_count": 124,
   "source": [
    "matrix=np.cov(x,y).round(decimals=2)\n",
    "fig, ax = plt.subplots()\n",
    "ax.imshow(matrix)\n",
    "ax.grid(False)\n",
    "ax.xaxis.set(ticks=(0,1), ticklabels=('x', 'y'))\n",
    "ax.yaxis.set(ticks=(0,1), ticklabels= ('x', 'y'))\n",
    "ax.set_ylim(1.5, -0.5)\n",
    "for i in range (2):\n",
    "    for j in range (2):\n",
    "        ax.text(j, i, matrix[i, j], ha='center', va='center', color='w')\n",
    "plt.show()"
   ],
   "outputs": [
    {
     "output_type": "display_data",
     "data": {
      "image/png": "[encoded data removed]",
      "text/plain": [
       "<Figure size 432x288 with 1 Axes>"
      ]
     },
     "metadata": {}
    }
   ],
   "metadata": {}
  },
  {
   "cell_type": "code",
   "execution_count": 125,
   "source": [
    "# yang kuning merupakan nilai yang paling besar\n",
    "# ungu merupakan nilai yang paling kecil\n",
    "# biru merupakan nilai antara"
   ],
   "outputs": [],
   "metadata": {}
  },
  {
   "cell_type": "code",
   "execution_count": 126,
   "source": [
    "x"
   ],
   "outputs": [
    {
     "output_type": "execute_result",
     "data": {
      "text/plain": [
       "array([ 0,  1,  2,  3,  4,  5,  6,  7,  8,  9, 10, 11, 12, 13, 14, 15, 16,\n",
       "       17, 18, 19, 20])"
      ]
     },
     "metadata": {},
     "execution_count": 126
    }
   ],
   "metadata": {}
  },
  {
   "cell_type": "code",
   "execution_count": 127,
   "source": [
    "y"
   ],
   "outputs": [
    {
     "output_type": "execute_result",
     "data": {
      "text/plain": [
       "array([ 6.13232555,  8.55733376,  8.97805203, 13.15176913, 14.20708745,\n",
       "       15.73613486, 17.07812916, 17.91229004, 21.21219138, 22.18710032,\n",
       "       22.42183093, 29.76501729, 30.02979532, 34.28144896, 31.64226534,\n",
       "       33.68873413, 39.07998467, 39.29693138, 43.02243391, 44.69029265,\n",
       "       46.5094767 ])"
      ]
     },
     "metadata": {},
     "execution_count": 127
    }
   ],
   "metadata": {}
  },
  {
   "cell_type": "code",
   "execution_count": 130,
   "source": [
    "matrix = np.corrcoef(x, y).round(decimals=2)\n",
    "fig, ax = plt.subplots()\n",
    "ax.imshow(matrix)\n",
    "ax.grid(False)\n",
    "ax.xaxis.set(ticks=(0,1), ticklabels=('x', 'y'))\n",
    "ax.yaxis.set(ticks=(0,1), ticklabels=('x', 'y'))\n",
    "ax.set_ylim(1.5, -0.5)\n",
    "for i in range (2):\n",
    "    for j in range (2):\n",
    "        ax.text(j, i, matrix[i, j], ha='center', va='center', color='w')\n",
    "plt.show()"
   ],
   "outputs": [
    {
     "output_type": "display_data",
     "data": {
      "image/png": "[encoded data removed]",
      "text/plain": [
       "<Figure size 432x288 with 1 Axes>"
      ]
     },
     "metadata": {}
    }
   ],
   "metadata": {}
  }
 ],
 "metadata": {
  "orig_nbformat": 4,
  "language_info": {
   "name": "python",
   "version": "3.8.10",
   "mimetype": "text/x-python",
   "codemirror_mode": {
    "name": "ipython",
    "version": 3
   },
   "pygments_lexer": "ipython3",
   "nbconvert_exporter": "python",
   "file_extension": ".py"
  },
  "kernelspec": {
   "name": "python3",
   "display_name": "Python 3.8.10 64-bit"
  },
  "interpreter": {
   "hash": "31f2aee4e71d21fbe5cf8b01ff0e069b9275f58929596ceb00d14d90e3e16cd6"
  }
 },
 "nbformat": 4,
 "nbformat_minor": 2
}