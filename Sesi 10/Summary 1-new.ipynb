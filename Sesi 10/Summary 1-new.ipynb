{
 "cells": [
  {
   "cell_type": "markdown",
   "id": "ce4c1b55",
   "metadata": {},
   "source": [
    "# Inferential Statistics"
   ]
  },
  {
   "cell_type": "markdown",
   "metadata": {},
   "source": [
    "## Teori"
   ]
  },
  {
   "cell_type": "markdown",
   "metadata": {},
   "source": [
    "### urgensi inferential statistics"
   ]
  },
  {
   "cell_type": "markdown",
   "metadata": {},
   "source": [
    "Teori \n",
    "- mengambil data sebagai sampel dari populasi yang lebih besar untuk mengambil kesimpulan dari data suatu populasi tersebut\n",
    "- sehingga dengan inferential statistics dapat menarik kesimpulan dari suatu sampel dan dapat digenerelasikan untuk populasi yang lebih besar\n",
    "- dengan demikian untuk mempresentasikan populasi dengan tepat dibutuhkan pengambilan nilai sampel yang representatif terhadap populasi\n",
    "- pengambilan sampel secara acak adalah salah satu metode untuk memungkinkan kita untuk sampel yang dapat mewakili populasi \n",
    "- karena tidak mungkin mengambil data dari seluruh populasi maka mengambil sampel dapat meminimalisir kerja, sehingga akan terdapat beberapa perbedaan dari nilai populasi sehingga dibutuhkan interval kepercayaan\n",
    "---\n",
    "Contoh 1\n",
    "- saat pemilu\n",
    "- ada 2 pilihan\n",
    "- mengambil sampel yang representatif\n",
    "- tujuannya untuk mengambil data beberapa sempel yang representatif dari populasi yang lebih besar untuk menentukan kecondongannya\n",
    "- tidak 100% akurat tetapi dapat mempresentasikan dari populasi tersebut\n",
    "- tujuan : membuat kesimpulan dari populasi\n",
    "- menyimpulkan apakah sampel dapat mempresentasikan populasi\n",
    "---\n",
    "Contoh 2\n",
    "- inigin mengetahui berapa rata - rata anak - anak melihat televisi per harinya\n",
    "- dikotamu diketahui menonton tv 1 jam per hari, bagaimana menemukan data untuk seluruh anak - anak di suatu negara?\n",
    "- ada 2 cara :\n",
    "    - 1. mengumpulkan semua data dari setiap anak\n",
    "    - 2. menggunakan data untuk menghitung rata- rata keseluruhan\n",
    "- metode 1 dibutuhkan banyak waktu, tenaga, ribet, sehingga dibutuhkan usaha dan sumber daya yang besar untuk menyelesaikan tugas\n",
    "- metode 2 lebih sederhana dan mudah. Tetapi kita tidak dapat menyamakan rata - rata yang kita peroleh dari data yang terbatas untuk seluruh sampel. karena ada beberapa faktor yang akan mempengaruhi data yang ada, seperti disuatu kotak anak-anak lebih suka olahraga sehingga tidak menonton tv dan nilai rata - ratanya berbeda. \n",
    "- hal ini dapat dihitung dengan inferential statistics\n",
    "---\n",
    "keuntungan\n",
    "- membuat kesimpulan tentang populasi dari sampel\n",
    "- menyimpulkan apakah sampel beberda dari nilai populasi seperti pada contoh 2\n",
    "- jika menambahkan atau menghapus beberapa fitur dari model akan menolong untuk memperbaiki hal tersebut\n",
    "- jika satu model sangat berbeda dengan lainnya\n",
    "- tes hipotesis"
   ]
  },
  {
   "cell_type": "markdown",
   "metadata": {},
   "source": [
    "### kemungkinan distribusi"
   ]
  },
  {
   "cell_type": "markdown",
   "metadata": {},
   "source": [
    "#### probability distribusi"
   ]
  },
  {
   "cell_type": "markdown",
   "metadata": {},
   "source": [
    "- merupakan fungsi dari teori dan statistik probabilitas yang memberikan seberapa besar kemungkinan hasil yang berbeda dalam sebuah eksperimen\n",
    "- dimana akan menggambarkan seberapa besar kemungkinan hasil yang berbeda dalam sebuah eksperimen\n",
    "- dengan menggambarkan peristiwa dalam hal probabilitasnya dari seluruh kemungkinan hasil\n",
    "---\n",
    "contoh 1\n",
    "- koin memiliki bagian kepala dan bagian ekor dimana setiap bagian akan memiliki probabilitas 0,5\n",
    "- koin tersebut memiliki dua kelas probabilitas\n",
    "- dua kelas dari distribusi tersebut adalah discrete dan continuous\n",
    "- pertama diwakili oleh oleh 'probability mass function' dan terakhir diwakili oleh 'probability density function'\n",
    "---"
   ]
  },
  {
   "cell_type": "markdown",
   "metadata": {},
   "source": [
    "#### random variable"
   ]
  },
  {
   "cell_type": "markdown",
   "metadata": {},
   "source": [
    "- adalah kemungkinan nilainya merupakan hasil numerik dari fenomena acak\n",
    "- ada 2 jenis : \n",
    "    - diskrit\n",
    "    - kontinyu\n",
    "---"
   ]
  },
  {
   "cell_type": "markdown",
   "metadata": {},
   "source": [
    "#### discrite random variable atau probability function atau probability mass function"
   ]
  },
  {
   "cell_type": "markdown",
   "metadata": {},
   "source": [
    "- adalah variabel yang hanya mengambil sejumlah nilai yang berbeda yang dapat dihitung dan dapat dikuantifikasi\n",
    "- contoh = dapat menentukan variabel acak x sebagai angka yang muncul saat kita melempar dadu yang adil\n",
    "- X dapat memuat nilai 1, 2 , 3, 4, 5, 6. Nilai ini disebut diskrit\n",
    "----\n",
    "- probabilitas distribusi dari diskrit random variabel adalah daftar probabilitas terkait dengan masing - masing kemungkinan nilainya\n",
    "- disebut juga probability function / mass function\n",
    "---\n",
    "- secara matematis\n",
    "- variabel acak = X\n",
    "- nilai probabilitas X=xi\n",
    "- probabilitas P(X=xi)=pi\n",
    "- secara matematis ditulis:\n",
    "    - 0< pi< 1 untuk setiap i\n",
    "    - p1+p2+...+pk = 1\n",
    "---\n",
    "- contoh distribusi\n",
    "    - bernoulli\n",
    "    - binomial\n",
    "    - poisson\n",
    "    - dll"
   ]
  },
  {
   "cell_type": "markdown",
   "metadata": {},
   "source": [
    "#### continuous random variable atau probability density function"
   ]
  },
  {
   "cell_type": "markdown",
   "metadata": {},
   "source": [
    "- sering disebut probability density functions yaitu fungsi yang menggunakan nilai kontinu.\n",
    "- variabel yang mengambul jumlah kemungkinan nilai yang tak terbatas\n",
    "- contohnya = vatiabel acak X sebagai tinggi siswa dikelas\n",
    "---\n",
    "- probabilitas mengamati nilai tunggal = 0 karena jumlah nilai yang diasumsikan oleh variabel acak tidak terbatas.\n",
    "- contohnya\n",
    "    - variabel acak X dapat mengambil semua nilai selama interval merupakan bilangan real\n",
    "    - probabilitas bahwa X berada dalam himpunan hasil A, P, (A)\n",
    "    - artinya area diatas A dan dibawah kurva\n",
    "    - kurva yang menunjukan fungsi p(x) memenuhi aturan berikut:\n",
    "        - 1. nilai kurva tidak memiliki nilai negatif (p(x)>0, for all x)\n",
    "        - 2. area total dibawah kurva = 1\n",
    "---\n",
    "- kuva ini dikenal sebagai density curve\n",
    "- contohnya = \n",
    "    - normal, \n",
    "    - exponensial, \n",
    "    - beta distribusi"
   ]
  },
  {
   "cell_type": "markdown",
   "metadata": {},
   "source": [
    "#### cumulative distribution function"
   ]
  },
  {
   "cell_type": "markdown",
   "metadata": {},
   "source": [
    "- jenis distribusi lain yang sering muncul di literatur yang perlu diketahui\n",
    "- didefinisikan bahwa semua variabel acak (diskrit dan kontinu) memiliki nilai cumulative distribution function\n",
    "- fungsi yang memberikan probabilitas variabel acak X kurang dari atau sama dengan x untuk setiap nilai x.\n",
    "---\n",
    "- pada variabel diskrit fungsi ini ditemukan dengan menjumlahkan nilai probabilitas"
   ]
  },
  {
   "cell_type": "markdown",
   "metadata": {},
   "source": [
    "## Aplikasi di Python"
   ]
  },
  {
   "cell_type": "code",
<<<<<<< HEAD:Sesi 10/Summary 1-new.ipynb
   "execution_count": 1,
=======
   "execution_count": 13,
>>>>>>> parent of fe7868a (sip):Sesi 10/Summary 1.ipynb
   "id": "1ea08697",
   "metadata": {},
   "outputs": [],
   "source": [
    "# import library\n",
    "\n",
    "#for inline plots in jupyter\n",
    "%matplotlib inline \n",
    "import matplotlib.pyplot as plt # import matplotlib\n",
    "from IPython.display import Math, Latex #for latex equations\n",
    "from IPython.core.display import Image # for displaying images\n",
    "import seaborn as sns # import seaborn\n",
    "sns.set(color_codes=True) #settings for seaborn plotting style\n",
    "sns.set(rc={'figure.figsize': (5,5)}) #settings for seaborn plot size\n",
    "import numpy as np # import numpy\n",
    "import pandas as pd #import pandas"
   ]
  },
  {
   "cell_type": "markdown",
   "metadata": {},
   "source": [
    "### Uniform Distribution"
   ]
  },
  {
   "cell_type": "markdown",
   "metadata": {},
   "source": [
    "- merupakan distribusi yang paling sederhana dan berguna\n",
    "- probabilitas distribusinya adalah=\n",
    "    - f(x) = 1/(b-a), untuk a<= x <= b\n",
    "    - f(x) = 0, untuk x < a atau x > b\n",
    "- hal ini menunjukan setiap interval angka dengan lebar sama akan memiliki probabilitas sama untuk diamati\n",
    "- kurvnya adalah persegi panjang dengan tinggi konstan dan 0 di nilai lain\n",
    "- nilai dibawah kurva harus sama dengan 1, panjang interval menentukan tinggi kurva"
   ]
  },
  {
   "cell_type": "code",
<<<<<<< HEAD:Sesi 10/Summary 1-new.ipynb
   "execution_count": 2,
=======
   "execution_count": 5,
>>>>>>> parent of fe7868a (sip):Sesi 10/Summary 1.ipynb
   "metadata": {},
   "outputs": [],
   "source": [
    "#import library\n",
    "from scipy.stats import uniform"
   ]
  },
  {
   "cell_type": "code",
<<<<<<< HEAD:Sesi 10/Summary 1-new.ipynb
   "execution_count": 3,
=======
   "execution_count": 7,
>>>>>>> parent of fe7868a (sip):Sesi 10/Summary 1.ipynb
   "metadata": {},
   "outputs": [],
   "source": [
    "#angka random dari uniform distribution\n",
    "n=10000\n",
    "start = 10\n",
    "width = 20\n",
    "data_uniform = uniform.rvs(size=n, loc=start, scale=width)\n",
    "# loc dan scale = menghasilkan uniform continuous variabel antara interval\n",
    "# size = jumlah variasi acak"
   ]
  },
  {
   "cell_type": "code",
<<<<<<< HEAD:Sesi 10/Summary 1-new.ipynb
   "execution_count": 4,
=======
   "execution_count": 7,
>>>>>>> parent of fe7868a (sip):Sesi 10/Summary 1.ipynb
   "metadata": {},
   "outputs": [
    {
     "data": {
      "text/plain": [
       "10000"
      ]
     },
<<<<<<< HEAD:Sesi 10/Summary 1-new.ipynb
     "execution_count": 4,
=======
     "execution_count": 7,
>>>>>>> parent of fe7868a (sip):Sesi 10/Summary 1.ipynb
     "metadata": {},
     "output_type": "execute_result"
    }
   ],
   "source": [
    "len(data_uniform)"
   ]
  },
  {
   "cell_type": "code",
<<<<<<< HEAD:Sesi 10/Summary 1-new.ipynb
   "execution_count": 5,
=======
   "execution_count": 15,
>>>>>>> parent of fe7868a (sip):Sesi 10/Summary 1.ipynb
   "metadata": {},
   "outputs": [
    {
     "data": {
      "text/plain": [
<<<<<<< HEAD:Sesi 10/Summary 1-new.ipynb
       "29.998338522443163"
      ]
     },
     "execution_count": 5,
=======
       "29.999818099664893"
      ]
     },
     "execution_count": 15,
>>>>>>> parent of fe7868a (sip):Sesi 10/Summary 1.ipynb
     "metadata": {},
     "output_type": "execute_result"
    }
   ],
   "source": [
    "np.max(data_uniform)"
   ]
  },
  {
   "cell_type": "code",
<<<<<<< HEAD:Sesi 10/Summary 1-new.ipynb
   "execution_count": 6,
=======
   "execution_count": 16,
>>>>>>> parent of fe7868a (sip):Sesi 10/Summary 1.ipynb
   "metadata": {},
   "outputs": [
    {
     "data": {
      "text/plain": [
<<<<<<< HEAD:Sesi 10/Summary 1-new.ipynb
       "10.000420154548092"
      ]
     },
     "execution_count": 6,
=======
       "10.004076162829003"
      ]
     },
     "execution_count": 16,
>>>>>>> parent of fe7868a (sip):Sesi 10/Summary 1.ipynb
     "metadata": {},
     "output_type": "execute_result"
    }
   ],
   "source": [
    "np.min(data_uniform)"
   ]
  },
  {
   "cell_type": "code",
<<<<<<< HEAD:Sesi 10/Summary 1-new.ipynb
   "execution_count": 7,
=======
   "execution_count": 17,
>>>>>>> parent of fe7868a (sip):Sesi 10/Summary 1.ipynb
   "metadata": {},
   "outputs": [
    {
     "data": {
      "text/plain": [
<<<<<<< HEAD:Sesi 10/Summary 1-new.ipynb
       "20.028226167480252"
      ]
     },
     "execution_count": 7,
=======
       "20.057314838296822"
      ]
     },
     "execution_count": 17,
>>>>>>> parent of fe7868a (sip):Sesi 10/Summary 1.ipynb
     "metadata": {},
     "output_type": "execute_result"
    }
   ],
   "source": [
    "np.mean(data_uniform)"
   ]
  },
  {
   "cell_type": "markdown",
   "metadata": {},
   "source": [
    "- dengan displot seaborn dapat memplot histogram distribusi \n",
    "- menggunakan banyak argumen untuk menyesuaikan plot\n",
    "- bins = dapat menentukan jumlah bins di histogram\n",
    "- color= menentukan warna histogram\n",
    "- kde = menentukan density plot option\n",
    "- hist_kws = juga menentukan density plot dengan lw\n",
    "- xlabel dan ylabel = untuk menyetel label"
   ]
  },
  {
   "cell_type": "code",
<<<<<<< HEAD:Sesi 10/Summary 1-new.ipynb
   "execution_count": 8,
=======
   "execution_count": 18,
>>>>>>> parent of fe7868a (sip):Sesi 10/Summary 1.ipynb
   "metadata": {},
   "outputs": [
    {
     "name": "stderr",
     "output_type": "stream",
     "text": [
      "/home/jefl5/.local/lib/python3.8/site-packages/seaborn/distributions.py:2619: FutureWarning: `distplot` is a deprecated function and will be removed in a future version. Please adapt your code to use either `displot` (a figure-level function with similar flexibility) or `histplot` (an axes-level function for histograms).\n",
      "  warnings.warn(msg, FutureWarning)\n"
     ]
    },
    {
     "data": {
      "text/plain": [
       "[Text(0.5, 0, 'Uniform Distribution'), Text(0, 0.5, 'frequency')]"
      ]
     },
<<<<<<< HEAD:Sesi 10/Summary 1-new.ipynb
     "execution_count": 8,
=======
     "execution_count": 18,
>>>>>>> parent of fe7868a (sip):Sesi 10/Summary 1.ipynb
     "metadata": {},
     "output_type": "execute_result"
    },
    {
     "data": {
<<<<<<< HEAD:Sesi 10/Summary 1-new.ipynb
      "image/png": "iVBORw0KGgoAAAANSUhEUgAAAVgAAAFCCAYAAAC0IcW9AAAAOXRFWHRTb2Z0d2FyZQBNYXRwbG90bGliIHZlcnNpb24zLjQuMywgaHR0cHM6Ly9tYXRwbG90bGliLm9yZy/MnkTPAAAACXBIWXMAAAsTAAALEwEAmpwYAAA3SklEQVR4nO3de3hU9ZnA8e85Zy65XyYkYSIBRASjguB1sYgVAuGx0UQr4lKxqytURfHp6q7ZtnJTW7H7VFsLq11XLauubqpViSlSpLaALYWiqI0XrgbIldzvM3PO2T8mMxrDZQKZ+/t5Hh+ZzMnMe5I5b97znt/vdxTTNE2EEEIMOzXcAQghRKySBCuEEEEiCVYIIYJEEqwQQgSJJFghhAgSSbBCCBEkkmCFECJILOEOIJRaWrowjMgc9puVlUJTU2e4wzhtsh+RIxb2ASJ7P1RVITMz+bjPx1WCNQwzYhMsENGxDYXsR+SIhX2A6N0PaREIIUSQSIIVQoggiasWgRCRJjs79bRfo7GxYxgiEcEgFawQQgSJJFghhAgSSbBCCBEkkmCFECJIJMEKIUSQSIIVQoggkWFaQgyRDK0SgZIKVgghgkQSrBBCBIkkWCGECBJJsEIIESSSYIUQIkhkFIGIGXJ1X0QaqWCFECJIJMEKIUSQSIIVQoggkR6sEF/x1T7ucPR0RXwLWQV74MAB5s+fT1FREfPnz+fgwYODttF1nZUrV1JYWMjs2bMpLy8f8HxlZSXXXHMNxcXFXHPNNRw9ejRE0QshxNCFrIJdvnw5CxYsoKSkhDfeeINly5axbt26AdusX7+e6upqNm7cSGtrK6WlpUybNo1Ro0bx0Ucf8ctf/pJf//rXZGdn09HRgc1mC1X4QggxZCGpYJuamqiqqqK4uBiA4uJiqqqqaG5uHrBdZWUl8+bNQ1VVHA4HhYWFbNiwAYDnn3+e2267jezsbABSU1Ox2+2hCF8IIU5JSBJsbW0tubm5aJoGgKZp5OTkUFtbO2i7vLw8/2On00ldXR0A+/bt49ChQ3znO9/huuuuY+3atZhmdN4rXQgRH6LmIpeu63z22Wc899xzuFwubr/9dvLy8igtLQ34NbKyUoIX4DCIlYsqsbIfwTScP6MTvVas/C6idT9CkmCdTif19fXouo6maei6TkNDA06nc9B2NTU1TJ48GRhY0ebl5TF37lxsNhs2m41Zs2bx4YcfDinBNjV1YhiRWfVmZ6fGxCyicO5HNB2Evp9RMGefyWcq+FRVOWHhFpIWQVZWFgUFBVRUVABQUVFBQUEBDodjwHZz586lvLwcwzBobm5m06ZNFBUVAd6+7datWzFNE7fbzV/+8hfOOeecUIQvhBCnJGQtghUrVlBWVsbatWtJS0tj9erVACxatIilS5cyadIkSkpK2L17N3PmzAFgyZIl5OfnA/Ctb32Ljz/+mKuvvhpVVZk+fTo33HBDqMIPC5lbLwIRaItAPguhp5hxdKUo2loE0ZhgpUUQmOFsEQz1PaNNNLcIouYil4hd0fiHRIhAyFoEQggRJFLBiqAJ5elvNLUHIPriFadGKlghhAgSqWCFiCPBrJylDz6YVLBCCBEkUsHGuKFWLFKFxK5o7omf6PUi+TMrFawQQgSJJFghhAgSSbBCCBEk0oMVAxyv1xXJfS4hIpVUsEIIESSSYIUQIkgkwQohRJBID1YIMSxkfYXBpIIVQoggkQQrhBBBIglWCCGCRHqwIiBD6a9JL04IL6lghRAiSCTBCiFEkEiCFUKIIJEebASR3qUQsUUqWCGECBJJsEIIESTSIhBiGLkNky63QZfHAEBTFOyaQrpNRVWUMEcnQk0SbBhIrzU29OoGRzo9HO5y09DjoaFHp8NtHHNbVQGHXWNkkoWxqVbGpFpJtWohjliEmiRYIQLU6TY43OnmUJebQ51uGnp0wNtny0rQGJ1iJStBI8WqkmRRURXwGCa9uklzn87RXp19bS4+bu4DIMuuMTbNyrhUG6NTrVhVqXBjjSRYETV0w6TdbdDm0nHpJqqioCmQYlVJt2nYtOFLUKZp0uYyqO50+5NqS5+3OrWqkJdkZfpIO6NSLOQlWQN+b9M0qe/R+aLDxcEON7uP9vK3xl40BfJTrJyZamVsqo2cRA1FWgpRTzFN0wx3EKHS1NSJYYR/d6VFELimXg+ft7rY1+7iSJeHE/32kiwKWQkaIxIs3v/bNX9FebJkpZsmTb26N5l2ujnU5aGz/3Q/QVMYlWIlP9lCfoqV3CQL2jAlP7dhcrjTzf52Fwc63Bzt1Qe85+j+/3ISNenhHkc4b2ekqgpZWSnHfV4qWBFxTNPki043f23oYX+7G4CcRI1LcxLJStBIt6nYNRUTE48BHW6Dtj6dFpdOU69OVUsfffqXqdiuehOvL9n6zsR7PCZdHoOWPu/3+b4l1ar6k2l+ipURCcGrJq2qwplpNs5MswHQ7tKp7nRT3Z/o97a5vPugKYxKtngTbqqV3ESLJNwoIBVsGEgFe3wNPR42He6iutNNkkXhouxEJjvspNoCvyBkmiZdHpOjvR6aer3J82ivTlOvh26P6a+CEzSFZKtKmlUlJ9FCTqLGGclW0m0nr3hDpaM/4R7q9FDd6aa5z1vh2lSFsalWznPYOSvNhiWO+7eRXMGGLMEeOHCAsrIyWltbycjIYPXq1YwdO3bANrqu8/DDD7NlyxYURWHx4sXMmzcPgCeffJKXXnqJnJwcAC688EKWL18+pBgkwUauPt3gjzXdvH+0lwRN4QpnEpOzEoKSOHwf+UhJokPR6fb2has73Oxp66PLY2LXFM7JsDE5K4G8JEtU7tfpiOQEG7IWwfLly1mwYAElJSW88cYbLFu2jHXr1g3YZv369VRXV7Nx40ZaW1spLS1l2rRpjBo1CoDS0lIeeOCBUIUsQuRQp5uKLzpocxlclJ3AFSOTSLAEbw5MNCegFKvKuZl2zs20M8dM5osONx8391HV0sfupj5yEzUuzE7k3Ey7jEqIACGZydXU1ERVVRXFxcUAFBcXU1VVRXNz84DtKisrmTdvHqqq4nA4KCwsZMOGDaEIUYSBxzDZfKSLF/e0oQA3n53O7FEpQU2usURVvP3ba8amcs/5WRTlJ6Ob8LvqTtZ83My7R7pod+nhDjOuhaSCra2tJTc3F03z9tE0TSMnJ4fa2locDseA7fLy8vyPnU4ndXV1/sdvvfUWW7duJTs7m3vuuYepU6cOKY4TlfIitOq6PVR80cHRXp2pIxK4Ki95WIdZxRubpjB1RCJTshKo7nTzt8Zetjf08NeGHs7JtHNJdgLOZGu4wwyKSG65Rc0ogptuuok77rgDq9XKtm3buOuuu6isrCQzMzPg15AebPh5DJP36rr5c30PyVaVG89KY1z/FXRx+hRFYUyqjTGpNlr7dP7W2MPuJm8LYVSyhYtzEpmQboupEQhx34N1Op3U19ej6zqapqHrOg0NDTidzkHb1dTUMHnyZGBgRZudne3f7hvf+AZOp5M9e/Zw6aWXhmIXopJpmnR6DHo8JqoCKRY1rKfftV1u3qru5GivzvkOO4VnJEs7IIgy7BqzRqUw3ZnEh0197Gzs4fUDHaTbVO/ojCw7CZr8/IMpJAk2KyuLgoICKioqKCkpoaKigoKCggHtAYC5c+dSXl7OnDlzaG1tZdOmTbz44osA1NfXk5ubC8Ann3zCkSNHOPPMM0MRftTpcOv8tb6HT1tdg+bGp1pVshM0RqdaOTNEM4Z6dYP36nrY0dBDilXlhnFpjE+XqjVU7JrKJTmJXJSdwJ42Fzsaeth8pIuttd1MzLBxbqadManWmKpqI0XIhmnt27ePsrIy2tvbSUtLY/Xq1YwbN45FixaxdOlSJk2ahK7rrFq1im3btgGwaNEi5s+fD8ADDzzA3//+d1RVxWq1snTpUq688sohxRAPLYLPWvuo/KITl2Fydrp3jnuKRcUwod2t09ijU9/j8c8YSrYojE21MT7dxpmp1mGtKHXTZPfRXrbWddPtMbkgy85VZyRL1RQBarvd7Grs5fNWF32Gd6hX/ldmjTnsGqkBzICLBJHcIpCJBmEQrAT79+Ze1n/RiTPJwrVjU8m0H39wfqfb4ED/9MwD7S56dBMF73z48ek2xqfZcCSc2mpPvR6D3U297GzspcNtkJ9iYdYZKYxMipqWf9zwGCb72l3sb3dR3fnlegvgHWJk15Sv/Kf6/51uU8m0e6cl54Z53QRJsBEilhPs4U43L+1t44xkC/PPSh/SAH3DNKnt9rC3zcXeNheN/dVtpl1lfJqNsak2cpMspFiPXXn6FkY51OnmszYXB9pd6CaMTrFyWU4i49KsUVEJCW97qalXp6VPp91l0Kd7VwPr073/dhkmvR6TDrfhnxGXaFEoyLBzcXbiKf9RPh2SYCNErCZYj2Hy7KeteEyT2yZmnPZpfpvLu6ze3nYXX3S4/XP0kywKqf1L8VlVBZdh4tJNmvp0/9z/NKvK2Rk2JjkSpGKNYR7DpM2l+/8w72lzYZgwJQxD7iTBRohYTbBba7vZWtcdlCFPLt2krsdDfbeHxh4PXR6Dbo+JxzCxqgo2TSHTrpGTqOFMsob9dFGER5fb4L36bv7W2EuGTeXGs9JDVs1Kgo0QsZhge3WD//y4hTGpVq4flzZsryvEqTjU6ea1A+0ALBifTnZi8M9iIjnByuXcKPd+Yy99hsnlI5PCHYoQ5KdYWXh2BhoK5fva/WvqxitJsFFMN012NvZwZqpV+p0iYjgSNG44K40e3WD9wQ7i6CR5EEmwUWx/u4suj8mF2QnhDkWIAUYmWZh5RjJfdLp5/2hvuMMJG0mwUezj5j6SLIrM5RcRaUpWAmNTrfyxtpseT3y2CiTBRqlej8HeNhfnZtqH7f5QQgwnRVGYeUYyfbrJn+t7wh1OWEiCjVJ7+wfzn5tpD3coQhxXTqKF8x12/tbYQ1ccXvCSBBul9rW5SLYoOOXilohwl+cmoZvEZS9WEmwU0k2T/R1uxqXZZFC/iHiOBI1xqVY+ONqLHgHj0ENJEmwUOtLpoU83Zck/ETUuyk6k02Pwef9tyOOFJNgodKDDhQqMTY3NW4CI2HNmmnfZzKqWvnCHElKSYKPQoU43I5Ms2GVdVRElVEXhnEwb+9td9MbRkC05QqOM2zCp6faQnyLVq4gu52ba0U34LI7aBJJgo0xNlxvDRBKsiDrOJAsZNpXPW+OnTSAJNsoc6vQAMCpZhmeJ6KIoCmel2/iiw40nTkYTSIKNMoe73OQkanI3VhGVxqXa8JhQ3ekOdyghIUdpFDH7b+1yRrK0B0R0Gp1qxaJ4FyqKB5Jgo0hLn/e+SLI0oYhWVlVhdIqV/e1SwYoIU9vt/VCODMEq8UIEy5hUK819elwsxi0JNorUdXuwKDAiMfR37hRiuPhGwByOgz6sJNgoUtvtISfRIssTiqiWm2TBqsKhrthPsHKuGUKnc7NDwzSp7/EwOUvuXiCim6Yo5CVZOSQVrIgUrX0GbsO7vqYQ0S4/xUpDjx7z02YlwUaJhl7vBIMc6b+KGOCbKFPb7QlzJMElCTZKNPZ4P4gjEqSCFdHPN9SwThKsiASNPTqZdhWrKhe4RPRLsKhk2lWpYEVkaOz1kC3Vq4ghIxMtUsGK8HMbJi19BtnSfxUxZGSShXa3EdM3Q5QEGwWO9l/gypYRBCKGOJO8Ew5iuYoNWYI9cOAA8+fPp6ioiPnz53Pw4MFB2+i6zsqVKyksLGT27NmUl5cP2mb//v1ccMEFrF69OgRRR4ajPToA2QlSwYrYkZvk/TzX9UiCPW3Lly9nwYIFvP322yxYsIBly5YN2mb9+vVUV1ezceNGXnnlFZ588kkOHz7sf17XdZYvX05hYWGowo4IzX06KpBhlwQrYoddU0m3qf4RMrEoJAm2qamJqqoqiouLASguLqaqqorm5uYB21VWVjJv3jxUVcXhcFBYWMiGDRv8z//qV7/im9/8JmPHjg1F2BGjqVcn067JFFkRc3ISLTT26uEOI2gCauotWbKE6667jiuvvBKrdehrkdbW1pKbm4umeSswTdPIycmhtrYWh8MxYLu8vDz/Y6fTSV1dHQCffvopW7duZd26daxdu3bIMQBkZaWc0veFW3OfjkPaAyIGZSdo7G1z4TFMLKc4BPF0pqAHW0AJ9uKLL2bNmjX88Ic/ZO7cuZSUlHDhhRcGOzY/t9vNgw8+yE9+8hN/kj4VTU2dGGG8VcWpfBAM06S5T2d8mi0IEQkRXtmJFky8Z2m5p7jOcWNjx/AGNQSqqpywcAtoj2699VZuvfVW9uzZw5tvvsl9992H1Wrl2muv5dprr2X06NEn/H6n00l9fT26rqNpGrqu09DQgNPpHLRdTU0NkydPBr6saBsbG6murmbx4sUAtLe3Y5omnZ2dPPTQQ4HsQtRqcxkYJlLBipjkG3rY2Os55QQbyYbUgz377LO57777+OlPf0pCQgJr1qzhuuuu45/+6Z/49NNPj/t9WVlZFBQUUFFRAUBFRQUFBQUD2gMAc+fOpby8HMMwaG5uZtOmTRQVFZGXl8f27dvZvHkzmzdv5rvf/S433nhjzCdX8P5lB8iSBCtikMOuoSnQ0BObfdiA/2Ts37+fN998k4qKCqxWKyUlJZSUlOBwOHjppZe466672Lx583G/f8WKFZSVlbF27VrS0tL8w6wWLVrE0qVLmTRpEiUlJezevZs5c+YA3t5vfn7+ae5idGvqHwPrkBEEIgapisKIBI2jMTqSQDFN86RNyeuvv54jR45w9dVXU1paygUXXDBom5kzZ54wwUaCaOzB/q66gz1tLpZOygpCREKE3/qDHRzucnPneY6Tb3wMUd+DXbx4MTNnzsRmO/6FlkhPrtGqpc8gU6pXEcMcCRp/b+nDbZgxt5hRQD3YlJQUjhw5MuBr+/fvZ9u2bUEJSnyptU8nwyYJVsSurP4CojkGx8MGlGBXrVpFcnLygK8lJyezatWqoAQlvDyGSbtbKlgR23wjZJr74jTBNjU1kZOTM+BrOTk5NDY2BiUo4dXq8n7gMu2yJo+IXb4LuE3xWsHm5+fz5z//ecDXtm/fzqhRo4ISlPBq6fMlWKlgReyyqAoZNtU/YiaWBHSR6+677+aee+7hhhtuID8/n0OHDvHaa6/x4x//ONjxxbXWPu86mbLIi4h1WQkaTfHaIigsLOTZZ5+lu7ubP/7xj3R3d/PMM8/E3apWodbSp2PXFBK12LqyKsTXOewazb06AYwajSoBTzSYPHmyfwqrCI2WPp1Mm4Yiq2iJGJdp1/CY0Ok2SI2hUTMBJViXy8Vvf/tbPvnkE7q7uwc899hjjwUlMOG9yJUrdzEQccB3naHFFYcJtqysjE8//ZSrrrqKESNGBDsmAZimSZvLYGJ67HzYhDge33WG1j6d0SlDXxI1UgWUYLds2cI777xDWlpasOMR/Trd3lW00mwyREvEvjSbioI3wcaSgI5ep9OJy+UKdiziK9pc3hEE6TF0uiTE8WiKQppNpdUVW3eYDaiCLS0t5a677uKWW24hK2vgoiPTpk0LSmDxrq1/kkG6TDIQcSLDpsVcBRtQgn3hhRcA+NnPfjbg64qi8M477wx/VEIqWBF3Mu0an7X1hTuMYRVQgpWVskKvzaWTZFFibnUhIY4nw67S4zHp0w3sWmycuQW8F263m507d1JZWQlAd3f3oCFbYvi0uQypXkVc8a0a55vBGAsCqmA/++wz7rzzTmw2G/X19Vx99dXs2LGD3/72tzzxxBNBDjE+tbsMchIlwYr44R+q5Tr1GyBGmoAq2BUrVrB06VI2bNiAxeLd8UsuuYS//e1vQQ0uXnnHwOpSwYq4ktF/QTeWLnQFlGD37t1LSUkJgH/aZlJSEn19sdWQjhRdHhPdhHQZAyviSIKmkqApMTVUK6Aj+IwzzuDjjz8e8LUPP/zwpLfrFqfGP0RLKlgRZzLtmn+ZzlgQUKPj3nvv5Xvf+x433XQTbrebp59+mpdffjkubpsdDm39TX6ZxSXiTYZNpbY7dtaFDegIvuqqq3jmmWdobm7mkksu4ciRIzz55JNMnz492PHFJalgRbzKsGu0uQyMGFm2MOBLdeeeey4rVqwIYijCp81lkGhRsMk6sCLOZNg1TLyjaGJhofmAEuzPf/7z4z537733DlswwktGEIh4lWH7ciRB3CTYurq6AY8bGxvZsWOH3NEgSNpcBtkyBlbEoS/XhdUZG95QhkVACfYnP/nJoK/96U9/4q233hr2gOKdaZq0u3TGp9vCHYoQIZdiVdGU2JnNdcqXqadPn86mTZuGMxYBdHtMPDIGVsQptX/ZwnZXbAzVCqiCPXTo0IDHPT09VFRU4HQ6gxJUPJMRBCLepVk1/2py0S6gBDt79mwURfHf8TExMZGCggIeffTRoAYXj75cplAqWBGf0mwqBzrc4Q5jWASUYD/99NNgxyH6+U6NZJKBiFdpNpVOt4FumGhRvlynHMURpt1tYFeVmFkPU4ih8rXHOtzR3yYIqIK98sor/Yu8nMi77757uvHEvXaXQapUryKO+c7e2lzRPxY2oAR7yy238Prrr7Nw4ULy8vKoqanhhRdeoLS0lPPPPz+gNzpw4ABlZWW0traSkZHB6tWrGTt27IBtdF3n4YcfZsuWLSiKwuLFi5k3bx4Ar776Ks8//zyqqmIYBvPmzeOWW24Z2t5GgXaXTppVEqyIX74Ktj0GLnQFlGB/+9vf8t///d/k5ub6vzZjxgxuv/12brvttoDeaPny5SxYsICSkhLeeOMNli1bxrp16wZss379eqqrq9m4cSOtra2UlpYybdo0Ro0aRVFREddffz2KotDZ2ck111zDpZdeyjnnnDOE3Y18HW6DkTGy2LAQpyLV6qtgoz/BBlQqNTQ0kJSUNOBrSUlJ1NfXB/QmTU1NVFVVUVxcDEBxcTFVVVU0NzcP2K6yspJ58+ahqioOh4PCwkI2bNgAQEpKir9N0dvbi9vtDqhtEU08hkm3xyRNhmiJOGZRFZItCu3u6B8LG1CpNHPmTO68807uvPNORo4cSW1tLU8//TQzZ84M6E1qa2vJzc1F07yJQ9M0cnJyqK2txeFwDNguLy/P/9jpdA6YpvvOO+/ws5/9jOrqau677z4mTpwY0Pv7ZGWlDGn7UPM19aVFIOJduk0LuEWQnZ0a5GhOXUAJduXKlTz55JMsX76choYGcnJymDt3LnfffXew4xtg1qxZzJo1i5qaGpYsWcKMGTMYN25cwN/f1NSJYYRvGbSTfRB8Q7TkIpeId2k2lYaewCrYxsaOIEdzfKqqnLBwCyjB2u127r//fu6///5TCsLpdFJfX4+u62iahq7rNDQ0DJoJ5nQ6qampYfLkycDgitYnLy+PSZMm8e677w4pwUY631/sNKu0CER8S7Np7G1zYZpmVLcCAy6Vtm3bxg9+8APuuOMOAD766CP+/Oc/B/S9WVlZFBQUUFFRAUBFRQUFBQUD2gMAc+fOpby8HMMwaG5uZtOmTRQVFQGwb98+/3bNzc1s376dCRMmBBp+VPC1CKSCFfEuzabiMb1rc0SzgCrY//mf/2HdunXMmzePt99+G4CEhAQeeeQRpk2bFtAbrVixgrKyMtauXUtaWhqrV68GYNGiRSxdupRJkyZRUlLC7t27mTNnDgBLliwhPz8fgFdeeYVt27ZhsVgwTZObb7455u6o0N6/0LY1ymevCHG6fFPF2106yVF8TUIxzZPfm6GwsJDnn3+eUaNGcckll7Bjxw50Xefyyy9n+/btoYhzWER6D7Z8XxudboNbz8kMUURCRKb6bg/PfdZK6ZmpnJNhP+G2kdyDDehPQ1dXl79f6uuHeDwerFbrMIQofLyzuKT/KsSXFWx0j4UNKMFecskl/OpXvxrwtXXr1nHZZZcFJah41e42ZIiWEIBdU7CpStSvCxtQD/ZHP/oRd9xxB+Xl5XR1dVFUVERycjJPP/10sOOLG326QZ9uyipaQuA9U06zqVE/m+ukCdYwDPbt28dLL73E559/zpEjR3A6nUyePBlVlWQwXDr6P0ipUsEKAXjbBDFfwaqqyl133cX777/P5MmT/WNUxfBq983ikh6sEID3WKjp8oQ7jNMScA/2gw8+CHIo8U0qWCEGSrOq9OgmLj16x8IG1IPNy8tj0aJFzJo1i5EjRw6YWXHvvfcGLbh44lvYQiYZCOHlux7R7tYZoUXnCnPHPZpfeOEF/787OjooLCxEURTq6+upq6vz/yeGR7vLIMWiokXxtEAhhpOvXdYRxRe6jvtn4fHHH+fmm28G4A9/+AO7du0KWVDxqMMtdzIQ4qvSYmAs7HETbH5+Po8++ijjx4/H4/Hw6quvcqxJXzfccENQA4wX7S6D7ES5wCWET6pVRQHaonhd2BNWsM888wxvvfUWHo+H119/fdA2iqJIgh0GpmnS4dYZlyYz44TwURWFFKsamxXsmWeeySOPPALAd7/7XX7961+HLKh406ubuA0ZoiXE16XZ1KjuwQbU9JPkGlxfrgMrPVghvirNqkb1rWPkiI4Avg+QTJMVYqC0/lvHBLDoX0SSIzoC+CcZSIIVYoA0m4oexQtvyxEdAdrdBiqQbJFfhxBflfaVhbejkRzREaDDZZBiU1FlkoEQA/juT+dbqyPaSIKNAO1uXS5wCXEM0T7ZQI7qCNDuMmSIlhDHkKApWFVpEYhT5J1kIHcyEOJYFEUhzapJi0Ccmi6PiWHKCAIhjifNFr2zueSoDjPfqY+MgRXi2NKi+M4GclSHme/UJ9UqPVghjiXVqtHlMfEY0TcWVhJsmPkmGaRLBSvEMfnO7jqisA8rR3WYtbt0LIr3aqkQYrBonmwgCTbMOtzeIVqKTDIQ4pjS+4cwRuOFLkmwYdbuMuRGh0KcgO/4iMahWnJkh1m725ARBEKcgEVVSLIo0iIQQ6ObJp1yLy4hTsq3bGG0kSM7jDr7T3nSZYiWECfkXXhbEqwYgnZZB1aIgPhuHRNtC2+H7Mg+cOAA8+fPp6ioiPnz53Pw4MFB2+i6zsqVKyksLGT27NmUl5f7n1uzZg3f+ta3uOaaa7j++uvZsmVLqEIPmg65VYwQAUmzabgMkz49uhLscW96ONyWL1/OggULKCkp4Y033mDZsmWsW7duwDbr16+nurqajRs30traSmlpKdOmTWPUqFFMnjyZ2267jcTERD799FNuvvlmtm7dSkJCQqh2Ydj5bhUjFawQJ+YrQtpcBglRtDB9SCJtamqiqqqK4uJiAIqLi6mqqqK5uXnAdpWVlcybNw9VVXE4HBQWFrJhwwYArrjiChITEwGYOHEipmnS2toaivCDpt1lYNcU7Fr0fGCECAf/ZIMouwFiSI7s2tpacnNz0TTvxRxN08jJyaG2tnbQdnl5ef7HTqeTurq6Qa/3+uuvM3r0aEaOHBncwIOsXZYpFCIgvvWSo+0W3iFrEQyXv/71r/z85z/n2WefHfL3ZmWlBCGiU9fh0mUMrBABSLYoqMqxZ3NlZ6eGIaLAhCTBOp1O6uvr0XUdTdPQdZ2GhgacTueg7Wpqapg8eTIwuKJ9//33+dd//VfWrl3LuHHjhhxHU1MnRhhX5Pn6B6HdbeBMsoYpGiGih3fh7WMP1Wps7AhDRF6qqpywcAtJ+ZSVlUVBQQEVFRUAVFRUUFBQgMPhGLDd3LlzKS8vxzAMmpub2bRpE0VFRQB8+OGHfP/73+cXv/gF5513XijCDiq3YdLjMaWCFSJA3skG0dWDDVmLYMWKFZSVlbF27VrS0tJYvXo1AIsWLWLp0qVMmjSJkpISdu/ezZw5cwBYsmQJ+fn5AKxcuZLe3l6WLVvmf83HHnuMiRMnhmoXhpWvlyTrEAgRmDSbSnWHO9xhDIliRtvI3dMQSS2Cgx0uXt7bzj+OT2NMqi1sMQkRLf5U08Wf63v41ylZA25xH/ctAjGYr1kvd5MVIjBpNg2TL6eYRwNJsGHS4ZYWgRBD8eXC25JgxUm0u3SSLAoWVRbaFiIQvjHjkmDFSXW4DNJkFS0hApYahbO5JMGGSZsstC3EkNg1FbumSAUrTsw0Tdr6dLmTrBBDlGZVJcGKE+vymHhMyLBLi0CIoUizqdIiECfW1j8bJV2GaAkxJOlRdusYSbBh0NbXf6sYaREIMSRpNpVe3cQVJQtvyxEeBq1SwQpxSvy38I6SNQkkwYZBW/8YWJsmY2CFGApfUdIWJW0CSbBh0NpnkCHVqxBDltl/YbhVKlhxPG0uGaIlxKlIsihYVWjtkwQrjsEwTdrdBukyREuIIVMUhQybRou0CMSxdLgNDBNpEQhxitLtGm1SwYpjkSFaQpyeTJtKq0snGpaylqM8xHzNeZnFJcSpybBruA3o9kiCFV/jm8Ul68AKcWp87bWWKGgTyFEeYm0ug1SrKuvACnGKMuzetBUNQ7UkwYZYq6yiJcRp8U02aO2L/JEEcqSHWJvLkP6rEKfBoiqkWlWpYMVAHsOkw21IBSvEacqwq1Ex2UCO9BDyLbMmi7wIcXoybBqtUTDZQBJsCPlGEMgkAyFOT4Zdo9Nt4DYie6iWJNgQ8g0r8V0FFUKcmoz+NltbhPdh5UgPoZY+HYsiY2CFOF2+C8WRPpJAjvQQau7TybRrKIqMgRXidPjabJE+kkASbAi19Bn+9SyFEKcuWpYtlAQbIoZp0urScSRIghXidPmXLZQEKwA6dTBMpIIVYphk2jVapAcrANr7V/5xSIIVYlhkJWi09ukYEbxsoSTYEGmTBCvEsHLYNQy+LF4iUcgS7IEDB5g/fz5FRUXMnz+fgwcPDtpG13VWrlxJYWEhs2fPpry83P/c1q1buf766zn//PNZvXp1qMIeNu0eE5uqkGSREQRCDIes/usZbZJgYfny5SxYsIC3336bBQsWsGzZskHbrF+/nurqajZu3Mgrr7zCk08+yeHDhwHIz8/nkUce4Z//+Z9DFfKwanUbZCXIEC0hhovvbDDuE2xTUxNVVVUUFxcDUFxcTFVVFc3NzQO2q6ysZN68eaiqisPhoLCwkA0bNgAwZswYCgoKsFgsoQh52LW6Tf9fXCHE6UuwqCRbFNrccZ5ga2tryc3NRdO8CUbTNHJycqitrR20XV5env+x0+mkrq4uFCEGlcsw6TZghCRYIYaVI0GL6Ao2OsvBU5SVlRKW9z3S5QZcUsEKMcyy7BY+69HJzk4NdyjHFJIE63Q6qa+vR9d1NE1D13UaGhpwOp2DtqupqWHy5MnA4Ir2dDU1dWKEYfWdg13ewdAjEuLq75kQQedI0OjRTarr2knUQn99Q1WVExZuIWkRZGVlUVBQQEVFBQAVFRUUFBTgcDgGbDd37lzKy8sxDIPm5mY2bdpEUVFRKEIMqla3iYbcqluI4Zbdf1bYEqF92JAd8StWrOCFF16gqKiIF154gZUrVwKwaNEiPvroIwBKSkoYNWoUc+bM4cYbb2TJkiXk5+cDsHPnTmbMmMFzzz3Hyy+/zIwZM9iyZUuowj8tLR6TdKuCKiMIhBhW2Ynes8IWd2TO6FJMM4KnQQyzcLUIXqntI8emcuM5jpNvLIQImGmaPPFhE2MTVaZnWkP+/hHRIohnfYZJpw4Oq1SvQgw3RVFwWBWa471FEK98v3hJsEIER6ZFodVtEokn45Jgg6y5/8ZsWXKBS4igyLSquE3vinWRRo76IGt2mySokCg/aSGCIrP/7LA5Ai90yWEfZE1uE4dVkTUIhAgSh1VBAZpc0iKIK4ZpetcgkJscChE0VlUh3aJwNAIvdMmRH0StHhMducAlRLCNsCkcdUmLIK409p+yZNskwQoRTCOsCj0GdOmRVcVKgg2iBpeBXYU0WWRbiKAa0T9KpynCqlhJsEHU6DLJlgtcQgSd70JXY4Rd6JIEGyRuw3uBK1vGvwoRdFZVIdOq0CAVbHw46jIxkf6rEKGSa1NodJkRdZdZSbBBUt//l1QqWCFCI9fundEVSesSyNEfJLV9Bg6rQkIYFgEWIh6N7C9m6voip00gCTYIdNOkvs/EaZcfrxChkmxRSNGgPoIudEkGCIIGl3eCgdMu1asQoZRrV6nrMyJmZS1JsEFQ22ugACOlghUipEbZVXoN7xogkUAyQBAc6TPIsirYValghQilMxK8Ke1wb2T0YSXBDrMe3aTBZTJa1icUIuQSNYURVkUSbKyq7v/Fjk6QH60Q4XBGgkqDy6QvDPff+zrJAsPsix6DFE1W0BIiXMYkqph4j8VwkwQ7jPoMk5peg9GJmqw/IESYjLAqpGqwrzv895CRBDuMDnQb6MD4JPmxChEuiqIwLkmjts+kJ8zLF0omGEafd+lkWrxNdiFE+IxL8rYJwl3FSoIdJs1ug0a3yYRkVdoDQoSZw6qSY1Oo6tTDOulAEuww+ahDx6LA+CQt3KEIIYDzUjQ6dDgUxiFbkmCHQYfHZF+3wcRkTRZ3ESJCjE1USdLgw47wVbGSYIfBrnYPCjApVapXISKFqihMSbVQ7zL949NDHkNY3jWG1PYa7O02mJSqkSzVqxARZWKySrpFYUebjicMVawk2NPQZ5hsbfWQosEUqV6FiDiqojAtw0Kbx2RHW+hHFEiCPUWGafLHZg8dHpMrHVYssrCLEBHpjASV81I0qjp19nSFNslaQvpuMcJjmvyhycOhXoPLMyyyLKEQEe6SdI0Wt8GWFg8AZyeH5owzZJnhwIEDzJ8/n6KiIubPn8/BgwcHbaPrOitXrqSwsJDZs2dTXl4e0HOhVNdn8Hq9m+peg2kZFgpSpDUgRKTTFIXCLCsj7Qp/avGwpdkdklleIatgly9fzoIFCygpKeGNN95g2bJlrFu3bsA269evp7q6mo0bN9La2kppaSnTpk1j1KhRJ3wumEzTpFOHmj6DvV06dS6TJA3mjrD6154UQkQ+q6owd4SVnW06H3fq7O9xcVaSSn6CSq5NDcoQy5BkiKamJqqqqiguLgaguLiYqqoqmpubB2xXWVnJvHnzUFUVh8NBYWEhGzZsOOlzgVJVJeD//t5l8PtmD28c9fB2s4ePugxUVWFGlpX5Tjv5SdqQXk+VHq0QQTGUY9CiqfyDw8qNeTbOS7XQ4IEdHQYVTR5+d9TN9nYdlKG95omEpIKtra0lNzcXTfOeTmuaRk5ODrW1tTgcjgHb5eXl+R87nU7q6upO+lygMjOTA972m1lDemkhRJhkZaUM/XuAM3OHP5avk3NcIYQIkpAkWKfTSX19PbruHSKh6zoNDQ04nc5B29XU1Pgf19bWMnLkyJM+J4QQkSgkCTYrK4uCggIqKioAqKiooKCgYEB7AGDu3LmUl5djGAbNzc1s2rSJoqKikz4nhBCRSDFDtArCvn37KCsro729nbS0NFavXs24ceNYtGgRS5cuZdKkSei6zqpVq9i2bRsAixYtYv78+QAnfE4IISJRyBKsEELEG7nIJYQQQSIJVgghgkQSrBBCBIkkWCGECBJZTSvEVq9ezdtvv82RI0dYv349EyZMALyL4ZSVldHa2kpGRgarV69m7Nix4Q32BI63HzNnzsRms2G32wG4//77ueKKK8IZ6nG1tLTwb//2b1RXV2Oz2RgzZgyrVq3C4XDwwQcfsGzZMvr6+jjjjDP46U9/SlZWZE7vO9F+TJw4kQkTJqCq3lrqscceY+LEiWGO+PjuuusuDh8+jKqqJCUl8eCDD1JQUBB1x4efKUJqx44dZk1NjXnVVVeZn332mf/rCxcuNF9//XXTNE3z9ddfNxcuXBiuEANyvP34+uNI1tLSYv7lL3/xP3700UfNf//3fzd1XTcLCwvNHTt2mKZpmmvWrDHLysrCFeZJHW8/TNM0J0yYYHZ2doYrtCFrb2/3//v3v/+9WVpaappm9B0fPtIiCLGLL7540Ay2QBfDiSTH2o9ok5GRwWWXXeZ/PGXKFGpqavj444+x2+1cfPHFANx0001DXlgolI63H9EoNTXV/+/Ozk4URYnK48NHWgQRINDFcKLF/fffj2maXHTRRfzLv/wLaWlp4Q7ppAzD4H//93+ZOXPmoIWFHA4HhmH4T08j2Vf3w2fhwoXous6MGTO45557sNlsYYzw5H74wx+ybds2TNPkmWeeierjQypYMaxefPFF3nzzTV599VVM02TVqlXhDikgDz30EElJSdx8883hDuW0fH0/3n33XV577TVefPFF9u7dy5o1a8Ic4ck98sgjvPvuu3z/+9/nscceC3c4p0USbAQIdDGcaOCL2WazsWDBAnbt2hXmiE5u9erVfPHFFzzxxBOoqjpoYaHm5mZUVY346vXr+wFf/j5SUlKYN29eVPw+fEpLS9m+fTsjR46M2uNDEmwECHQxnEjX3d1NR0cH4L0TRGVlJQUFBWGO6sR+9rOf8fHHH7NmzRr/qfP5559Pb28vO3fuBODll19m7ty54QzzpI61H21tbfT29gLg8Xh4++23I/r30dXVRW1trf/x5s2bSU9Pj+rjQ9YiCLGHH36YjRs3cvToUTIzM8nIyOCtt9467mI4kepY+/HUU09xzz33oOs6hmFw1lln8aMf/YicnJxwh3tMe/bsobi4mLFjx5KQkADAqFGjWLNmDbt27WL58uUDhmmNGDEizBEf2/H24/bbb2fZsmUoioLH42Hq1Kn84Ac/IDk58IXnQ+no0aPcdddd9PT0oKoq6enpPPDAA5x33nlRd3z4SIIVQoggkRaBEEIEiSRYIYQIEkmwQggRJJJghRAiSCTBCiFEkEiCFSGxbNmyAbOIXnrpJS6//HKmTp1KS0tLGCM7tpqaGqZOneof3H66vrr/27dvZ8aMGcPyugA7d+6UG4BGqvCtMyOiyYQJE8yDBw8O+NovfvEL87777hvya7lcLnPSpEnmJ598MlzhDcmrr75qnnPOOeaUKVPMKVOmmFdddZVZVlZm7t+//5Re66abbhrS9/zlL38xr7jiiiG/l8+xfhciMkkFK0KuqamJvr4+xo8fP+TvNU0TwzBOO4YpU6bw/vvvs3PnTp5//nnsdjvXX389n3/++Wm/9tcNVxUsoo8kWDEsfKe9zz77LNOmTWP69Om8+uqr/ufLysp4/PHHOXDggH/a6SWXXMItt9wCwK5du/j2t7/NRRddxLe//e0Bc+YXLlzI448/zk033cQFF1zAoUOHmDhxIi+++CJz5sxh6tSpPPHEE1RXV3PTTTdx4YUXcu+99+JyuU4at6ZpjB49mhUrVnDppZfyy1/+EoDDhw8zceJEPB4PAK+99hqzZs1i6tSpzJw5kzfffJN9+/axfPlyPvjgA6ZOnepf3rCsrIzly5ezaNEipkyZwvbt2/37/1VPPfUUl112mf/1vrq/5eXl/sevvfYa//iP/wjAd77zHQBKSkqYOnUqlZWVg1oO+/btY+HChVx88cV861vf4p133hnwe1i5ciWLFy9m6tSpzJs3j+rq6pP+nMSpkQQrhs3Ro0fp6OjgT3/6E4888girVq2ira1twDZnnnmmf075jh07WLduHa2trXzve99j4cKFbN++nVtvvZXvfe97A3qzb7zxBg899BC7du3yLyW4detWXnvtNf7v//6PZ555hgcffJCf/vSn/PGPf2TPnj289dZbQ4p/9uzZ/vUHvqq7u5uHH36Y//qv/+L999/n5ZdfpqCggLPOOouVK1cOqIZ9KioquOOOO9i1axcXXXTRMX9WLS0tbNmyhUcffZRly5axf//+k8b44osv+n8e77//PldfffWA591uN3fccQff+MY3eO+99/jRj37E/fffP+C1Kysrufvuu9mxYwejR48elPjF8JEEK4aNxWJhyZIlWK1WrrzySpKSkjhw4MBJv+/dd99lzJgxlJaWYrFYKC4uZty4cfzhD3/wb3Pddddx9tlnY7FYsFqtANx+++2kpKRw9tlnM2HCBL7xjW+Qn59PamoqM2bMoKqqakjx5+TkDPqD4KOqKnv27KG3t5ecnBzOPvvsE77WrFmzuOiii1BV1X/7nK+79957sdlsXHrppVx55ZX87ne/G1K8x7J79266u7tZvHgxNpuNadOmcdVVVw34Y1NYWMjkyZOxWCxce+21fPLJJ6f9vuLYJMGKgGia5j9d9vF4PP5kB96V9S2WL9dwT0xMpLu7+6Sv3dDQMGCBa4C8vDzq6+v9j4+1NN1XF1+x2+2DHgfy3l9VX19Penr6oK8nJSXx+OOP8/LLLzN9+nQWL17Mvn37TvhaJ1tKLy0tjaSkJP/jvLw8GhoahhTvsTQ0NDBy5Ej/coW+1/7qz/KrP6eEhIQh/5xE4CTBioA4nU4OHz484GuHDx8elBhPRU5OzqBbnPhWsfdRFOW03+dkNm3a5O+jft0VV1zBc889x9atWxk3bhwPPvjgacXV3t4+ILHV1tb6Vx1LTEykp6fH/9zRo0cDft2cnBzq6uoGXAj8+s9ShI4kWBGQq6++mv/8z//0H7zvvfcemzdvHpbxl1deeSUHDx5k/fr1eDweKisr2bt3L9/85jdPP/CT0HWdQ4cO8dBDD/HXv/6VJUuWDNrm6NGjbNq0ie7ubmw2G0lJSf4KMSsri/r6+oAuqH3dk08+icvlYufOnbz77rv+i38FBQX8/ve/p6enhy+++ILf/OY3A75vxIgRHDp06JivOXnyZBISEnjmmWdwu91s376dzZs3D+rVitCQe3KJgCxZsoSf//znLFiwgLa2NkaPHs1//Md/+G/XfToyMzN56qmn+PGPf8yKFSsYM2YMTz31VFAXVPZd+TdNk8zMTC699FJ+85vfcNZZZw3a1jAMnn/+eR544AEURaGgoIAVK1YA8A//8A+MHz+e6dOnoygK27dvD+j9R4wYQVpaGldccQWJiYmsWLHC/97f/e53+eijj7j88suZOHEi11xzDe+9957/e++++27Kysro7e1l1apVA24nbrPZeOqpp1i5ciVPP/00ubm5PPbYY8fcLxF8sh6sEEIEibQIhBAiSCTBCiFEkEiCFUKIIJEEK4QQQSIJVgghgkQSrBBCBIkkWCGECBJJsEIIESSSYIUQIkj+H21B4COnGQscAAAAAElFTkSuQmCC",
=======
      "image/png": "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",
>>>>>>> parent of fe7868a (sip):Sesi 10/Summary 1.ipynb
      "text/plain": [
       "<Figure size 360x360 with 1 Axes>"
      ]
     },
     "metadata": {},
     "output_type": "display_data"
    }
   ],
   "source": [
    "ax = sns.distplot(data_uniform,\n",
    "                                bins=100,\n",
    "                                kde=True, \n",
    "                                color='skyblue',\n",
    "                                hist_kws={'lw': 15, 'alpha':1})\n",
    "ax.set(xlabel='Uniform Distribution', ylabel='frequency')"
   ]
  },
  {
   "cell_type": "code",
<<<<<<< HEAD:Sesi 10/Summary 1-new.ipynb
   "execution_count": 9,
=======
   "execution_count": 19,
>>>>>>> parent of fe7868a (sip):Sesi 10/Summary 1.ipynb
   "metadata": {},
   "outputs": [
    {
     "name": "stderr",
     "output_type": "stream",
     "text": [
      "/home/jefl5/.local/lib/python3.8/site-packages/seaborn/distributions.py:2619: FutureWarning: `distplot` is a deprecated function and will be removed in a future version. Please adapt your code to use either `displot` (a figure-level function with similar flexibility) or `histplot` (an axes-level function for histograms).\n",
      "  warnings.warn(msg, FutureWarning)\n"
     ]
    },
    {
     "data": {
      "text/plain": [
       "[Text(0.5, 0, 'Uniform Distribution'), Text(0, 0.5, 'frequency')]"
      ]
     },
<<<<<<< HEAD:Sesi 10/Summary 1-new.ipynb
     "execution_count": 9,
=======
     "execution_count": 19,
>>>>>>> parent of fe7868a (sip):Sesi 10/Summary 1.ipynb
     "metadata": {},
     "output_type": "execute_result"
    },
    {
     "data": {
<<<<<<< HEAD:Sesi 10/Summary 1-new.ipynb
      "image/png": "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",
=======
      "image/png": "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",
>>>>>>> parent of fe7868a (sip):Sesi 10/Summary 1.ipynb
      "text/plain": [
       "<Figure size 360x360 with 1 Axes>"
      ]
     },
     "metadata": {},
     "output_type": "display_data"
    }
   ],
   "source": [
    "ax = sns.distplot(data_uniform,\n",
    "                                bins=100,\n",
    "                                kde=True, \n",
    "                                color='skyblue')\n",
    "ax.set(xlabel='Uniform Distribution', ylabel='frequency') #jangan lupa membuat axis pada setiap label"
   ]
  },
  {
   "cell_type": "markdown",
   "metadata": {},
   "source": [
    "### Normal Distribution"
   ]
  },
  {
   "cell_type": "markdown",
   "metadata": {},
   "source": [
    "- dikenal gaussian distribution\n",
    "- sering ditemukan di Data Science atau pada topik inferensi statistik\n",
    "- berbentuk lonceng , dengan mean (µ) dan SD (σ)\n",
    "- kepadatan kurva simetris berpusat disekitar meannya dengan penyebaran ditentukan oleh SD\n",
    "- hal ini menunjukan bahwa kejadian atau data berada disekitar nilai rata - rata\n",
    "---\n",
    "- pada kurva berbentuk lonceng dapat menunjukan bahwa 68% kurva berada pada nilai µ+1SD, 95% nilai µ+2SD\n",
    "- distribusi dengan mean=0 dan SD=   disebut sebagai standard normal distribution"
   ]
  },
  {
   "cell_type": "code",
<<<<<<< HEAD:Sesi 10/Summary 1-new.ipynb
   "execution_count": 10,
=======
   "execution_count": 20,
>>>>>>> parent of fe7868a (sip):Sesi 10/Summary 1.ipynb
   "metadata": {},
   "outputs": [],
   "source": [
    "from scipy.stats import norm"
   ]
  },
  {
   "cell_type": "markdown",
   "metadata": {},
   "source": [
    "- menggunakan scipy.stats dengan norm.rvs()\n",
    "- loc = rata2 distribusi\n",
    "- scale = sesuai dengan SD\n",
    "- size = jumlah variasi acak"
   ]
  },
  {
   "cell_type": "code",
<<<<<<< HEAD:Sesi 10/Summary 1-new.ipynb
   "execution_count": 11,
=======
   "execution_count": 29,
>>>>>>> parent of fe7868a (sip):Sesi 10/Summary 1.ipynb
   "metadata": {},
   "outputs": [],
   "source": [
    "data_normal= norm.rvs(size=10000, loc=0, scale=1)"
   ]
  },
  {
   "cell_type": "code",
<<<<<<< HEAD:Sesi 10/Summary 1-new.ipynb
   "execution_count": 12,
=======
   "execution_count": 30,
>>>>>>> parent of fe7868a (sip):Sesi 10/Summary 1.ipynb
   "metadata": {},
   "outputs": [
    {
     "data": {
      "text/plain": [
<<<<<<< HEAD:Sesi 10/Summary 1-new.ipynb
       "-0.0069819590574698226"
      ]
     },
     "execution_count": 12,
=======
       "-0.004840940702773836"
      ]
     },
     "execution_count": 30,
>>>>>>> parent of fe7868a (sip):Sesi 10/Summary 1.ipynb
     "metadata": {},
     "output_type": "execute_result"
    }
   ],
   "source": [
    "np.mean(data_normal)"
   ]
  },
  {
   "cell_type": "code",
<<<<<<< HEAD:Sesi 10/Summary 1-new.ipynb
   "execution_count": 13,
=======
   "execution_count": 31,
>>>>>>> parent of fe7868a (sip):Sesi 10/Summary 1.ipynb
   "metadata": {},
   "outputs": [
    {
     "data": {
      "text/plain": [
<<<<<<< HEAD:Sesi 10/Summary 1-new.ipynb
       "0.9830642431687583"
      ]
     },
     "execution_count": 13,
=======
       "0.992683642704807"
      ]
     },
     "execution_count": 31,
>>>>>>> parent of fe7868a (sip):Sesi 10/Summary 1.ipynb
     "metadata": {},
     "output_type": "execute_result"
    }
   ],
   "source": [
    "np.std(data_normal)"
   ]
  },
  {
   "cell_type": "code",
<<<<<<< HEAD:Sesi 10/Summary 1-new.ipynb
   "execution_count": 14,
=======
   "execution_count": 32,
>>>>>>> parent of fe7868a (sip):Sesi 10/Summary 1.ipynb
   "metadata": {},
   "outputs": [
    {
     "name": "stderr",
     "output_type": "stream",
     "text": [
      "/home/jefl5/.local/lib/python3.8/site-packages/seaborn/distributions.py:2619: FutureWarning: `distplot` is a deprecated function and will be removed in a future version. Please adapt your code to use either `displot` (a figure-level function with similar flexibility) or `histplot` (an axes-level function for histograms).\n",
      "  warnings.warn(msg, FutureWarning)\n"
     ]
    },
    {
     "data": {
      "text/plain": [
       "[Text(0.5, 0, 'Normal Distribution'), Text(0, 0.5, 'Frequency')]"
      ]
     },
<<<<<<< HEAD:Sesi 10/Summary 1-new.ipynb
     "execution_count": 14,
=======
     "execution_count": 32,
>>>>>>> parent of fe7868a (sip):Sesi 10/Summary 1.ipynb
     "metadata": {},
     "output_type": "execute_result"
    },
    {
     "data": {
<<<<<<< HEAD:Sesi 10/Summary 1-new.ipynb
      "image/png": "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",
=======
      "image/png": "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",
>>>>>>> parent of fe7868a (sip):Sesi 10/Summary 1.ipynb
      "text/plain": [
       "<Figure size 360x360 with 1 Axes>"
      ]
     },
     "metadata": {},
     "output_type": "display_data"
    }
   ],
   "source": [
    "ax= sns.distplot(data_normal,\n",
    "                            bins = 100,\n",
    "                            kde=True, \n",
    "                            color='skyblue',\n",
    "                            hist_kws={'lw':15, 'alpha':1})\n",
    "ax.set(xlabel= 'Normal Distribution', ylabel= 'Frequency')"
   ]
  },
  {
   "cell_type": "markdown",
   "metadata": {},
   "source": [
    "#### Gamma Distribution"
   ]
  },
  {
   "cell_type": "markdown",
   "metadata": {},
   "source": [
    "- merupakan two-parameter family dari continuous probability distributions \n",
    "- diperlukan dua parameter agar distribusinya condong  (skew)\n",
    "- digunakan seperti exponential, chi-squared, erlang distribution\n",
    "- bentuknya tidak normal , terdapat skewness\n",
    "- sebelah kanan disebut tail , semakin panjang ke kanan maka semkin kecil"
   ]
  },
  {
   "cell_type": "markdown",
   "metadata": {},
   "source": [
    "- dibuat dengan gamma.rvs() \n",
    "- a = shape\n",
    "    - a = bilangan bulat akan menjadi distribusi eksponensial\n",
    "- loc = menggeser disytibusi\n",
    "- scale\n",
    "- size = menentukan variasi acak dalam distribusi"
   ]
  },
  {
   "cell_type": "code",
<<<<<<< HEAD:Sesi 10/Summary 1-new.ipynb
   "execution_count": 15,
=======
   "execution_count": 40,
>>>>>>> parent of fe7868a (sip):Sesi 10/Summary 1.ipynb
   "metadata": {},
   "outputs": [],
   "source": [
    "from scipy.stats import gamma"
   ]
  },
  {
   "cell_type": "code",
<<<<<<< HEAD:Sesi 10/Summary 1-new.ipynb
   "execution_count": 16,
=======
   "execution_count": 41,
>>>>>>> parent of fe7868a (sip):Sesi 10/Summary 1.ipynb
   "metadata": {},
   "outputs": [],
   "source": [
    "data_gamma = gamma.rvs(a=20, size=10000, scale=1)"
   ]
  },
  {
   "cell_type": "code",
<<<<<<< HEAD:Sesi 10/Summary 1-new.ipynb
   "execution_count": 17,
=======
   "execution_count": 42,
>>>>>>> parent of fe7868a (sip):Sesi 10/Summary 1.ipynb
   "metadata": {},
   "outputs": [
    {
     "data": {
      "text/plain": [
<<<<<<< HEAD:Sesi 10/Summary 1-new.ipynb
       "19.964276601529804"
      ]
     },
     "execution_count": 17,
=======
       "20.05117154522671"
      ]
     },
     "execution_count": 42,
>>>>>>> parent of fe7868a (sip):Sesi 10/Summary 1.ipynb
     "metadata": {},
     "output_type": "execute_result"
    }
   ],
   "source": [
    "np.mean(data_gamma)"
   ]
  },
  {
   "cell_type": "code",
<<<<<<< HEAD:Sesi 10/Summary 1-new.ipynb
   "execution_count": 18,
=======
   "execution_count": 43,
>>>>>>> parent of fe7868a (sip):Sesi 10/Summary 1.ipynb
   "metadata": {},
   "outputs": [
    {
     "name": "stderr",
     "output_type": "stream",
     "text": [
      "/home/jefl5/.local/lib/python3.8/site-packages/seaborn/distributions.py:2619: FutureWarning: `distplot` is a deprecated function and will be removed in a future version. Please adapt your code to use either `displot` (a figure-level function with similar flexibility) or `histplot` (an axes-level function for histograms).\n",
      "  warnings.warn(msg, FutureWarning)\n"
     ]
    },
    {
     "data": {
      "text/plain": [
       "[Text(0.5, 0, 'Normal Distribution'), Text(0, 0.5, 'Frequency')]"
      ]
     },
<<<<<<< HEAD:Sesi 10/Summary 1-new.ipynb
     "execution_count": 18,
=======
     "execution_count": 43,
>>>>>>> parent of fe7868a (sip):Sesi 10/Summary 1.ipynb
     "metadata": {},
     "output_type": "execute_result"
    },
    {
     "data": {
<<<<<<< HEAD:Sesi 10/Summary 1-new.ipynb
      "image/png": "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",
=======
      "image/png": "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",
>>>>>>> parent of fe7868a (sip):Sesi 10/Summary 1.ipynb
      "text/plain": [
       "<Figure size 360x360 with 1 Axes>"
      ]
     },
     "metadata": {},
     "output_type": "display_data"
    }
   ],
   "source": [
    "ax= sns.distplot(data_gamma,\n",
    "                            bins = 100,\n",
    "                            kde=True, \n",
    "                            color='skyblue',\n",
    "                            hist_kws={'lw':15, 'alpha':1})\n",
    "ax.set(xlabel= 'Normal Distribution', ylabel= 'Frequency')"
   ]
  },
  {
   "cell_type": "code",
<<<<<<< HEAD:Sesi 10/Summary 1-new.ipynb
   "execution_count": 19,
=======
   "execution_count": 52,
>>>>>>> parent of fe7868a (sip):Sesi 10/Summary 1.ipynb
   "metadata": {},
   "outputs": [],
   "source": [
    "data_gamma = gamma.rvs(a=5, size=10000)"
   ]
  },
  {
   "cell_type": "code",
<<<<<<< HEAD:Sesi 10/Summary 1-new.ipynb
   "execution_count": 20,
=======
   "execution_count": 53,
>>>>>>> parent of fe7868a (sip):Sesi 10/Summary 1.ipynb
   "metadata": {},
   "outputs": [
    {
     "data": {
      "text/plain": [
<<<<<<< HEAD:Sesi 10/Summary 1-new.ipynb
       "array([6.9630082 , 2.6837513 , 3.12329834, ..., 2.49165521, 6.83009803,\n",
       "       7.37746248])"
      ]
     },
     "execution_count": 20,
=======
       "array([5.5880816 , 4.08982558, 7.28239157, ..., 6.30152413, 7.00506137,\n",
       "       5.17339603])"
      ]
     },
     "execution_count": 53,
>>>>>>> parent of fe7868a (sip):Sesi 10/Summary 1.ipynb
     "metadata": {},
     "output_type": "execute_result"
    }
   ],
   "source": [
    "data_gamma"
   ]
  },
  {
   "cell_type": "code",
<<<<<<< HEAD:Sesi 10/Summary 1-new.ipynb
   "execution_count": 21,
=======
   "execution_count": 54,
>>>>>>> parent of fe7868a (sip):Sesi 10/Summary 1.ipynb
   "metadata": {},
   "outputs": [
    {
     "data": {
      "text/plain": [
<<<<<<< HEAD:Sesi 10/Summary 1-new.ipynb
       "4.989867155725325"
      ]
     },
     "execution_count": 21,
=======
       "4.975258384409573"
      ]
     },
     "execution_count": 54,
>>>>>>> parent of fe7868a (sip):Sesi 10/Summary 1.ipynb
     "metadata": {},
     "output_type": "execute_result"
    }
   ],
   "source": [
    "np.mean(data_gamma)"
   ]
  },
  {
   "cell_type": "code",
<<<<<<< HEAD:Sesi 10/Summary 1-new.ipynb
   "execution_count": 22,
=======
   "execution_count": 55,
>>>>>>> parent of fe7868a (sip):Sesi 10/Summary 1.ipynb
   "metadata": {},
   "outputs": [
    {
     "name": "stderr",
     "output_type": "stream",
     "text": [
      "/home/jefl5/.local/lib/python3.8/site-packages/seaborn/distributions.py:2619: FutureWarning: `distplot` is a deprecated function and will be removed in a future version. Please adapt your code to use either `displot` (a figure-level function with similar flexibility) or `histplot` (an axes-level function for histograms).\n",
      "  warnings.warn(msg, FutureWarning)\n"
     ]
    },
    {
     "data": {
      "text/plain": [
       "[Text(0.5, 0, 'Normal Distribution'), Text(0, 0.5, 'Frequency')]"
      ]
     },
<<<<<<< HEAD:Sesi 10/Summary 1-new.ipynb
     "execution_count": 22,
=======
     "execution_count": 55,
>>>>>>> parent of fe7868a (sip):Sesi 10/Summary 1.ipynb
     "metadata": {},
     "output_type": "execute_result"
    },
    {
     "data": {
<<<<<<< HEAD:Sesi 10/Summary 1-new.ipynb
      "image/png": "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",
=======
      "image/png": "iVBORw0KGgoAAAANSUhEUgAAAV8AAAFCCAYAAABW/d7EAAAAOXRFWHRTb2Z0d2FyZQBNYXRwbG90bGliIHZlcnNpb24zLjQuMywgaHR0cHM6Ly9tYXRwbG90bGliLm9yZy/MnkTPAAAACXBIWXMAAAsTAAALEwEAmpwYAAA/10lEQVR4nO3deXhU9b348fc5s2WyL0zChLC6YCpQcatUsVXZrKGh+nChKLVVca1UubXkevsDRLne0BYXlNo+bg+3tLfFKkuIlNKigvvCVUsAARMCySSBJJM9mZkz5/dHyEiEJBOYfT6v5+EhM+fM4TsnZz5853O+389X0XVdRwghREip4W6AEELEIwm+QggRBhJ8hRAiDCT4CiFEGEjwFUKIMJDgK4QQYSDBVwghwsAY7gZEisbGNrzewA15zspKpr6+NWDHi2ZyLr4i56JbPJwHVVXIyEjqc7sE3xO8Xj2gwbfnmKKbnIuvyLnoFu/nQdIOQggRBhJ8hRAiDCTtIACw2VLO+hjHjrUEoCVCxAfp+QohRBhI8BVCiDCQ4CuEEGEgwVcIIcJAgq8QQoSBBF8hhAgDCb5CCBEGEnyFECIMJPgKIUQYSPAVQogwkOArhBBhIMFXCCHCQIKvEEKEgVQ1EwFzuspoUulMiNOT4BvnAlFKUggxeJJ2EEKIMAhZ8C0vL2fOnDlMnz6dOXPmUFFRcco+zz77LDfccAMzZ87kxhtvZOfOnb5tHR0dPPDAA0ydOpUZM2awY8cOv7YJIUQkClnaYenSpcybN4/CwkI2btzIkiVLWLt2ba99JkyYwG233YbVamXfvn3ccsst7Nq1i4SEBF544QWSk5P5+9//TkVFBTfffDPbtm0jKSmp321CCBGJQtLzra+vp6ysjIKCAgAKCgooKyujoaGh136TJ0/GarUCMHbsWHRdx+l0AvD6668zZ84cAEaNGsW4ceN46623BtwmhBCRKCQ9X4fDQU5ODgaDAQCDwUB2djYOh4PMzMzTvmbDhg2MGDGCoUOHAlBdXc2wYcN82+12OzU1NQNu81dWVvKg9veH3Mz66hzIufiKnItu8X4eInK0wwcffMBTTz3Fiy++GLJ/s76+Fa9XD9jxbLaUqBhmFewPwLFjLVFzLkJBzkW3eDgPqqr026kLSdrBbrdTW1uLpmkAaJpGXV0ddrv9lH13797NQw89xLPPPsuYMWN8z+fm5lJVVeV77HA4fL3i/raJ8Dq55xvvPR0hThaS4JuVlUV+fj4lJSUAlJSUkJ+ff0rK4bPPPuPBBx/k6aef5sILL+y1bcaMGfz5z38GoKKigs8//5zJkycPuE0IISKRout64L5r9+PQoUMUFRXR3NxMamoqxcXFjBkzhgULFrBw4ULGjx/PTTfdRFVVFTk5Ob7XrVy5krFjx9Le3k5RURF79+5FVVUeeughpkyZAtDvNn9J2iE0ouGcBFO0XBfBFg/nYaC0Q8iCb6ST4Bta0XBugiFarotgi4fzEBE5XxE75P9qIQIjIkc7iMji9upsO9LKwWYXCnDxECtX5Fgxqkq4myZE1JLgK/rl9ur86UAT1e0exmVa6PB42VXTzpFWNzeOScFiOLMvTyenO2L966cQpyPBV/Tr7Zp2qts9zBqVwgUZFgA+r++ktLKV18pb+LdzUlEV6QELMVgSfOPIYG+uHevw8H5tB+MzLb7ACzA+KwEv8HplK29Ut3PtMKmhIcRgyQ030ad3atoxqcppg+s3sxK4eEgCH9R18GWzKwytEyK6SfAVp+Xs0tjndHHRkASsxtNfJtcMS2JIgoHSw610erwhbqEQ0U2Crzitj451oACX2hL63MekKhSMTKHN4+UtR3voGidEDJDgK07h8er8q6GL89PNpJoN/e47NNHIxbYEPjneSU27J0QtFCL6SfAVpzjQ5KJT0/lmVt+93pNdbU/EalB4s7otyC0TInZI8BWn+Ly+k1STysgUk1/7WwwqV+RYKW9xU9nqDnLrhIgNEnxFL+1uL+Utbi7MtAxq/O7FNivJRpV3ayT3K4Q/JPiKXvY3daED+SeN6/WHSVWYaEugvMVNfafkfoUYiARf0cu+RheZFgO2hP5vtJ3ORVkJGBT4+FhnEFomRGyR4Ct82txeKlvdXJBhRjmDKcNJJpUL0i38q6ELdwDLcwoRiyT4Cp/9zhMph/TBpRxONj7Tgsurc6hJZr0J0R8JvsJnn9NFVoKBIWeQcugxIsVEslFlT2NXAFsmROyR4CsAaO1JOaSfWcqhh6oo5GeY+bLZJVOOheiHVDWLYYOpYvaFs7unesFZpBx65GdY+PBYJ4eaXVyY6d9EDSHijfR8BdA9qy3DomKznv3/x/ZEI0lGhYOS9xWiTxJ8BV1ad8rh3FRzQI6nKArnppn5stmNJqMehDgtCb6CihY3mg7npgUm+EL3sbq8OkdkurEQpxWynG95eTlFRUU4nU7S09MpLi5m1KhRvfbZtWsXq1at4osvvmD+/PksXrzYt+0Xv/gF+/fv9z3ev38/zz77LNdddx2rV6/mj3/8I9nZ2QBcfPHFLF26NCTvK9KcyVLwB5tcWAwKecn+1XLwx6gUMwYFDjW7GBWgHrUQsSRkwXfp0qXMmzePwsJCNm7cyJIlS1i7dm2vfYYPH86KFSvYunUrLlfvfOHKlSt9P+/bt49bb72VyZMn+56bNWtWr2At/KPrOoeaXZyTasYQwLXYTKrC8GQTFS3S8xXidEKSdqivr6esrIyCggIACgoKKCsro6Ghodd+I0eOJD8/H6Ox//8TXnnlFWbOnInZLD2qs1Xd7qHdo3NOauB6vT1Gp5g41qnR4tYCfmwhol1Ier4Oh4OcnBwMhu7B+waDgezsbBwOB5mZmYM6lsvlYvPmzbz88su9nt+yZQu7du3CZrNx//33M3HixEEdNysreVD7++NMUgChdrDJhQKcE4TUwKgUM9BORbOb8Vl9T9yIhvMUSPH2fvsS7+ch6sb5bt++ndzcXPLz833PzZ07l7vvvhuTycTbb7/NvffeS2lpKRkZGX4ft76+FW8A78zbbCkcO9YSsOMN5t8djINNLvKSjST0sU7b2ci2GkgyKpS3uBnfT2H2cJyncAnXdRFp4uE8qKrSb6cuJGkHu91ObW0tmtb99VPTNOrq6rDb7YM+1l//+lduuummXs/ZbDZMpu6vzVdeeSV2u50DBw6cfcNjXItL41inFrAhZl+nKAqjUsxUtLjQdRlyJsTJQhJ8s7KyyM/Pp6SkBICSkhLy8/MHnXKoqanh448/ZubMmb2er62t9f28d+9eqqqqGD169Nk3PMb13AzrTg8Ex+hUE+0endqOvvO+NltK3H8FFfEnZGmHZcuWUVRUxJo1a0hNTaW4uBiABQsWsHDhQsaPH89HH33EokWLaG1tRdd1tmzZwooVK3yjGl577TWuueYa0tLSeh171apV7NmzB1VVMZlMrFy5EpvNFqq3FrUOt7qxGhWyrWdeSGcgPYG9osXF0MSoy3IJETSKLt8HgfjL+eq6zpo9jQxLMjJrdGpQ2/TC3kYSjSo/PC+t3/1iPQcI8ZHr9Ec8nIeIyPmKyNPQpdHi9gY15dBjdKqZo21uXJr8Py9EDwm+cepIa/c6ayMCOKutL2NSTGg6MtVYiJNI8I1TR9vcJBoVMizBvwTykk0YFShvkSpnQvSQ4Bunjra6yUsynVXhdH8ZZaqxEKeQ4BuHWt1enC5vQAvpDGR0qpnjnRrNLplqLARE4Qw3cfaOnsi95iWF7tc/OqU70Fe0uJnQx1Tj/kZqxPqdcRF/pOcbh6ra3BgVyAnAqhX+GpJgINmoUt4seV8hQIJvXHK0e8hJNGJQg5/v7aEoCqNSu/O+MrRcCAm+ccer69R2eLCHYbbZ6BQTHVr/U42FiBcSfONMfaeG20tYpvr2TOj4UlIPQkjwjTeO9u7JFeHo+SaZVHITjew/sUy9EPFMgm+cqWn3YFYVMi3BK6bTn7HpZmo7NJxdknoQ8U2Cb5zpvtlmCMnkitO5IMMCwL5B9n6l7KSINRJ844hX1znW4WFoCIeYfV2a2YA90ci+Rsn7ivgmwTeONHZpeHTIDmPwBbgg3UxNh0dSDyKuSfCNI3UnhnjZwhx8x6Z3px7kxpuIZxJ840hdhweV7tlm4ZRuMTDUamSfU1IPIn5J8I0jdR0eshIMGEM4s60vF2SYcbRL6kHELwm+ceRYhxb2fG+P/BOjHvY0SupBxCcJvnGi0+Ol2e3FFsTFMgcjzWwgL8lIWUOX1HoQcUmCb5w41nniZltCZPR8AcZlJlDfpUmtBxGXJPjGifoTwXdIhPR8oXvImUGBPQ2d4W6KECEXsuBbXl7OnDlzmD59OnPmzKGiouKUfXbt2sWNN97IuHHjKC4u7rVt9erVTJo0icLCQgoLC3nkkUd82zo6OnjggQeYOnUqM2bMYMeOHcF+O1HneKcHkwqppsj5/zbBqDIm1UxZYxdeP1MPMtNNxIqQfQddunQp8+bNo7CwkI0bN7JkyRLWrl3ba5/hw4ezYsUKtm7dist16jCkWbNmsXjx4lOef+GFF0hOTubvf/87FRUV3HzzzWzbto2kpKSgvZ9I4W8gOt6pkZVgDNu04r5cmGnhQJOLwy1uRqcGfxl7ISJFSLpB9fX1lJWVUVBQAEBBQQFlZWU0NDT02m/kyJHk5+djNA7u/4TXX3+dOXPmADBq1CjGjRvHW2+9FZjGx4j6Ti3s43tP59xUMxaDQpmMehBxJiQ9X4fDQU5ODgZD94ffYDCQnZ2Nw+EgMzPT7+Ns2bKFXbt2YbPZuP/++5k4cSIA1dXVDBs2zLef3W6npqZmUG3Mykoe1P7+iJSvx50eLy1ub0QGX6OqcG6qmQNNLjRdx+BnzzxSzu2ZiOa2B1K8n4fIufU9gLlz53L33XdjMpl4++23uffeeyktLSUjIyMgx6+vb8XrDdyQJ5stJSSLPvpzAdefmMgwJIJGOpxsbLqZPY1dVA4i9RCtC2qG6rqIdPFwHlRV6bdTF5K0g91up7a2Fk3rDgKaplFXV4fdbvf7GDabDZOpewXcK6+8ErvdzoEDBwDIzc2lqqrKt6/D4WDo0KEBfAfR7fiJkQ5ZEdjzhe5l5U0q7JfpxiKOhCT4ZmVlkZ+fT0lJCQAlJSXk5+cPKuVQW1vr+3nv3r1UVVUxevRoAGbMmMGf//xnACoqKvj888+ZPHlyAN9BdGvs1DAokGaOnJEOJzOpCuekmjnQJBMuRPwI2ffQZcuWUVRUxJo1a0hNTfUNJVuwYAELFy5k/PjxfPTRRyxatIjW1lZ0XWfLli2sWLGCyZMns2rVKvbs2YOqqphMJlauXInNZgPg9ttvp6ioiKlTp6KqKsuXLyc5OfA53GjV0KWRbjGgRthIh5Odm2Zmn9NFbYcWlvXlhAg1RZeuBhDbOd/n9zaSYTFw05jUoLfnTLW5vaz+VwOT7YlcOTRxwP2jNV8YD7lOf8TDeYiInK8IH13XaezSyAjTmm3+SjKp2BONHGqSvK+IDxJ8Y1yz24umE7YFMwdjTKqJ6nYPHR5vuJsiRNBJ8I1xjSdGOmRYIv9XPebEMLPDLe4wt0SI4Iv8T6Q4Kw0nxvhmRugws5MNTTRiUuFwqwRfEfsk+Ma4hi4NkwrJxsj/VRsUheHJJiql5yviQOR/IsVZ6bnZFmkFdfoyMtlEfZdGq1vyviK2SfCNcQ1dWlTcbOsxMqU77yu9XxHrJPjGME3XcXZ5oyr4ZlsNmFWFo20SfEVsk+Abw5q6vOgQ8WN8T6YqCrlJRgm+IuZJ8I1h0TTS4WS5SUaOdWi4NJl8KWKXBN8Y5gu+UdTzBchLMqED1e19935lOSER7ST4xrDGLo0Eg4I1CoaZnSz3RGGd6jZPmFsiRPBE16dSDEpDZ3SNdOiRYFQZkmCgSvK+IoZJ8I1h0VBQpy+5SUaq2jxS31fELAm+Mcrj1Wl2e6M2+A5LMtGp6b68tRCxxu/gu337djweycFFi2ZX9wyxSF29YiDDkrrzvlWS9xUxyu9P5tNPP81VV13F8uXL+fTTT4PZJhEATa7uHmN6lPZ8sywGLAZF8r4iZvkdfDdt2sTLL7+MxWLh/vvvZ/r06axZs4ajR48Gs33iDDlPBN9o7fkqisKwRKP0fEXMGtQn84ILLmDx4sW8+eabLF26lK1btzJ16lRuvvlmNm3ahNcrxVAiRZPLi6pAsik6gy9AbpKJ450anZpcVyL2DHqlwsrKSjZt2sSmTZtQFIWFCxdit9tZt24d27Zt45lnnglGO8UgNXVppJnViF40cyC5J/K+Ne0eRp0ouCNErPA7+K5bt46NGzdy+PBhrr/+elauXMlFF13k2z59+nS+/e1vB6ON4gw4XV7SzNGZ7+1hPzHZwtEmwVfEHr+D71tvvcVPfvITrrvuOszmUz8IVquV1atX9/n68vJyioqKcDqdpKenU1xczKhRo3rts2vXLlatWsUXX3zB/PnzWbx4sW/bs88+S2lpqW/p+AcffJDJkycDUFRUxDvvvENGRgYAM2bM4J577vH3rcWkJpfGeWnRHbCsRpUMi0p1e99535OnGMf6argitvgdfJ9++mlf4OvhdrvRdd0XjK+66qo+X7906VLmzZtHYWEhGzduZMmSJaxdu7bXPsOHD2fFihVs3boVl6v3KrYTJkzgtttuw2q1sm/fPm655RZ27dpFQkICAHfeeSe33HKLv28nprk0nXaPTnqU93wB7IkmKmVZIRGD/L4bc9ttt7Fnz55ez+3Zs4fbb799wNfW19dTVlZGQUEBAAUFBZSVldHQ0NBrv5EjR5Kfn4/ReOr/CZMnT8ZqtQIwduxYdF3H6XT62/y40uQb6RD9wTc30Uir20uLSyZbiNjid/Ddv38/3/zmN3s9N2HCBPbt2zfgax0OBzk5ORgM3cHAYDCQnZ2Nw+EYZHO7bdiwgREjRjB06FDfcy+99BIzZ87k3nvv5dChQ2d03GjSX1Wvpp4JFlGwYvFA7CduuvWXehAiGvmddkhNTeX48ePYbDbfc8ePH/f1RkPlgw8+4KmnnuLFF1/0Pffggw9is9lQVZUNGzZwxx13sH37dl+w90dWVnLA2xqukoex1PPNsRpRAUe7h7Hpln73jZYSk9HSzmCL9/Pgd/CdNm0a//7v/84vf/lLhg8fTmVlJf/93//N9ddfP+Br7XY7tbW1aJqGwWBA0zTq6uqw2+2Dauzu3bt56KGHWLNmDWPGjPE9n5OT4/t51qxZPP7449TU1DBs2DC/j11f34rXG7giLjZbSlBvAPV34Ta5vBgVSDJG7zCzHkZVIdtqxOHHZItouOEW7OsiWsTDeVBVpd9Ond/fSx988EHOOeccZs+ezcUXX8ycOXMYPXo0ixYtGvC1WVlZ5OfnU1JSAkBJSQn5+flkZmb6+8/z2Wef8eCDD/L0009z4YUX9tpWW1vr+3nnzp2oqtorIMcbZ5dGWhStWDwQe5IRR7tUOBOxRdEHeUXruk5jYyMZGRmD+nAfOnSIoqIimpubSU1Npbi4mDFjxrBgwQIWLlzI+PHj+eijj1i0aBGtra3ouk5KSgorVqxg8uTJ3HTTTVRVVfUKqitXrmTs2LH8+Mc/pr6+HkVRSE5O5he/+EWvMcj+iKWe70v7GkkyqfzbOWlB+/dD6bP6TkorW7kjP50hCX1/WYuGnlQ89Pj8EQ/nYaCe76CCb0tLC+Xl5bS1tfV6ftKkSWfewggRS8H3yc/q+UaGhWnDA5/HDofjHR6e3+fkhhHJjM9K6HO/aPgwx0PQ8Uc8nIeBgq/fOd9XX32V5cuXk5iY6BtbC90FUP7xj3+cXStFwHRqXjo1PWoL6pxOZkL3cvKOdg/js8LdGiECw+/g+8QTT/DUU0/xne98J5jtEWepqaunjm/0j3TooSoKQxONAw436/k2EOs9KhEb/O4eaZrW7ww2ERmivY5vX3KTjNR1ePAEMDUkRDj5HXwXLFjAb3/7WykbGeGcUb6CRV/siUa8OtR2yGQLERv8Tju8/PLLHD9+nOeff5709PRe2954440AN0ucqSaXhllVSDDExjCzHrknVTgblmQaYG8hIp/fwfdXv/pVMNshAqSpy0uaWY2ZMb49UswGkk0qDplmLGKE38H38ssvD2Y7RIA0ubonWMQie6KR6napcCZig9+JQZfLxRNPPMF1113HJZdcAnTX3/3DH/4QtMaJwdF1HadLIz3G8r09chONNHZ56fDIfQcR/fz+lP7Xf/0XX3zxBb/+9a99X2nPO+88/vSnPwWtcWJwOjQdtze2hpmdzH7SskL96a/imxCRwu+0w/bt29m2bRuJiYmoanfMzsnJ6VVXQQTXQAGlqSu6VyweyNDEr8pLjk6N7lU6hPD7U2oymdC03gWtGxoaThn5IMKnZ5hZrI3x7ZFgUMmyGPyqcCZEpPM7+M6YMYPFixdz5MgRAOrq6li+fDk33HBD0BonBuerOr6x2fOFngpnbqlwJqLeoEpK5uXl8f3vf5/m5mamT59OdnY29913XzDbJwahyeUlwaBgMcRu8M1NNNLm0X2rdQgRrfzO+ZrNZh5++GEefvhhGhoaBl1SUgSfs0uLiUUz+5N7YoJFVZs7ZtMrIj74HXx70g09Ti4rOXz48MC1SJyxJpcXmzW2A1K2tbvC2dE2Dxf6X4tfiIjjd/CdOnUqiqL0yrX19Hz37t0b+JaJQdF1nSaXxrlpsT0KQFUUcpOMHJXl5EWU8zv4fn2V4mPHjvHMM89w6aWXBrxRYvBaPV40nZidYHGyvCQTu2ra6dK8MZ3fFrHtjK9cm83Gf/7nf7Jq1apAtkecoVis49uXvJ7l5GXImYhiZ9Vt+PLLL+no6AhUW8RZ8A0zs8R+T9CeZEQBjrZJ6kFEL7/TDvPmzes1uqGjo4ODBw/KULMI0eSKn56vxaCSbTVwtFV6viJ6+R18Z8+e3eux1WrlggsuYNSoUYFukzgDTpdGklHBpMbH8L9hSSY+b+jEq+uoMuRRRCG/g+8PfvCDYLZDnKXuOr6x3+vtkZds4pPjndR1aL6aD0JEE7+v2qeeesqv/X72s5+d9vny8nKKiopwOp2kp6dTXFx8Sq95165drFq1ii+++IL58+ezePFi3zZN03jsscfYuXMniqJw5513+nrj/W2LF00uzTcBIR703HQ72uaW4Cuikt9X7eHDh9m2bRvjxo1j2LBhVFdX8/nnnzNt2jQsFsuAr1+6dCnz5s2jsLCQjRs3smTJEtauXdtrn+HDh7NixQq2bt2Ky+XqtW3z5s1UVlaybds2nE4ns2bNYtKkSeTl5fW7LR54dZ1ml5f8jNi/2dYj1Wwg1aRytNXNpTZruJsjxKD5HXx1Xec3v/kN06dP9z23bds2tm7dyuOPP97va+vr6ykrK+Oll14CoKCggEcffZSGhgYyM7+apjRy5Eigu3zl14NvaWkps2fPRlVVMjMzmTJlClu3buWOO+7od1s8aHF78RIfN9tONjzZRHmLC13XTzvVXZaSF5HM7+D71ltv8etf/7rXc9deey3/8R//MeBrHQ4HOTk5GAzdwcFgMJCdnY3D4egVfAc6Rm5uru+x3W6npqZmwG3+yspKHtT+/ghVQe+eMb7xMMHiZCNSTOxp7KK+U2OIte9LOdIKq0dae8Il3s+D38F35MiRrFu3jh/96Ee+5/70pz8xYsSIoDQs1OrrW/F6A1em0GZLCXiPq6+L1ekb4xtfPd+Ryd057spWd7/BN5J6vsG4LqJRPJwHVVX67dT5HXwfe+wxfvrTn/L888/7VrAwGo2sXr16wNfa7XZqa2vRNA2DwYCmadTV1WG32/3957Hb7VRXVzNhwgSgd2+3v22xYMAVLE4E31RTfPV808wqqSaVw61uLpa8r4gyfgffb3zjG/ztb3/j008/pa6uDpvNxkUXXYTJNPAd9qysLPLz8ykpKaGwsJCSkhLy8/P9TjlAdzH39evXM23aNJxOJ9u3b2fdunUDbosHTS4vqSYVQ5yM8e2hKAojUkwcau477ytEpDrjMTqXXXYZ7e3tuN1uEhMTB9x/2bJlFBUVsWbNGlJTUykuLgZgwYIFLFy4kPHjx/PRRx+xaNEiWltb0XWdLVu2sGLFCiZPnkxhYSGffvop06ZNA+C+++7zlbLsb1s8cHZppMZZvrfHiGQT/2ro4ninhq2P1MPpvjnE+ldeEfkU3c/1WPbv388999yD2WymtraW3bt38+abb/Laa6/x5JNPBrmZwRfJOd+B0g7P/quBkSkmCkbG3w0MZ5fGc2WNTM1L4pJBpB7CFXzjIdfpj3g4DwPlfP3uLi1btoyFCxeydetWjMbuHsZll13Gxx9/fPatFGdM8+q0uL0xvW5bf9ItBlLNKodbpMiOiC5+f2IPHjxIYWEh8FUR9cTERLq6uoLTMuGXZnf8FNTpy8hkE0daZVFNEV38Dr7Dhg3jX//6V6/nPvvss5gZahatnF3dIx1ife22/oxINtGh6dR1aOFuihB+8/uG289+9jPuuusu5s6di9vt5ne/+x3/+7//y6OPPhrM9okB+EpJxkEd376MSukecVPR4iJH6jyIKOH3J/aaa67h+eefp6Ghgcsuu4yqqipWr17NVVddFcz2iQE0uTRUICXOxvieLMVsYEiCgXLJ+4oo4lc3QdM0pk+fTmlpKcuWLQtyk8Rg9Awzi/eatqNTuktMur163NQ0FtHNr+6SwWDAYDDIzbUI1OSKrzq+fRmdakbT4YisaiyihN/fVX/0ox/xwAMP8MEHH1BZWcmRI0d8f0T4NLm0uM739hiebMKgQHmza+CdhYgAA6Ydjh07hs1m891Ye+edd3oN6VEUhb179wavhaJPbq9Om0eP65EOPUyqcqLEpPR8RXQYsMvUU79337597Nu3j2uvvdb38759+yTwhpFvxeI4nWDxdaNTTBzv1Gh2yZAzEfkG/NR+feD6hx9+GLTGiMHpqeMrOd9uo1PNAFRI71dEgQGD79crRcksosjR0/NNj7M6vn2xJRhIMiqS9xVRYcCcr6ZpvPfee76g+/XHAJMmTQpeC0WfnC4vBgWSjDK0Cro7CmNSzXzR5ELTdQxxPvxORLYBg29WVhYPP/yw73F6enqvx4qi8I9//CM4rRP9anJppJkNUsf2JOemmfm8oYujrW5GppjD3Rwh+jRg8P3nP/8ZinaIM9DU5Y27ddsGMjrFjEGBA00uCb4iosknN4o5XVrcrds2ELNBYVSKiYNNLrk/ISKaBN8o1aV56dR0GWZ2GuemmXG6vNR3ypAzEbmkBFSU8lUzk2Fmpzgn1Qy0caDJ1eeqxrK0kAg36TZFqa/q+Mqv8OtSzQZyrAYOypAzEcHkkxvBbLaUPtdv+6qOr/R8T+e8NAtVbR7aTqz04Y/+zrcQgSbBN0o1uTRMKlgNMszsdM5N6x7pcLBJer8iMknwjVJOl5d0GePbpxyrgXSzyj6nlEEVkSlkN9zKy8spKirC6XSSnp5OcXExo0aN6rWPpmk89thj7Ny5E0VRuPPOO5k9ezYAv/jFL9i/f79v3/379/Pss89y3XXXsXr1av74xz+SnZ0NwMUXX8zSpUtD9dbCoulEEXVxeoqicEG6hffrOujweLEa5VyJyBKy4Lt06VLmzZtHYWEhGzduZMmSJaxdu7bXPps3b6ayspJt27bhdDqZNWsWkyZNIi8vj5UrV/r227dvH7feeiuTJ0/2PTdr1iwWL14cqrcTVrqu0+TyMuLE2mXi9C7IsPBeXQdfNLn4ZlZCuJsjRC8h6Q7U19dTVlZGQUEBAAUFBZSVldHQ0NBrv9LSUmbPno2qqmRmZjJlyhS2bt16yvFeeeUVZs6cidkcnzOYOjw6Lq/U8R1IjtVAmlllX6OkHkTkCUnP1+FwkJOTg8HQHSwMBgPZ2dk4HA4yMzN77Zebm+t7bLfbqamp6XUsl8vF5s2befnll3s9v2XLFnbt2oXNZuP+++9n4sSJg2pjVlbyIN/VwIJ159x5oppZhox06JeiKOSnW/hgkKmHYI94kBEV3eL9PETdJIvt27eTm5tLfn6+77m5c+dy9913YzKZePvtt7n33nspLS0lIyPD7+PW17fi9QZuOqrNlnLWg/b7ujgbZYyv384k9RDMyRaBuC5iQTycB1VV+u3UheTTa7fbqa2tRdO6g4amadTV1WG320/Zr7q62vfY4XAwdOjQXvv89a9/5aabbur1nM1mw2Tqzn9eeeWV2O12Dhw4EIy3EhGcMsbXbz2ph/2SehARJiTBNysri/z8fEpKSgAoKSkhPz+/V8oBYMaMGaxfvx6v10tDQwPbt2/3LWMEUFNTw8cff8zMmTN7va62ttb38969e6mqqmL06NFBfEfh5ezSSDaqskS6H3pGPVS0uOnw+D/hQohgC1naYdmyZRQVFbFmzRpSU1MpLi4GYMGCBSxcuJDx48dTWFjIp59+yrRp0wC47777GD58uO8Yr732Gtdccw1paWm9jr1q1Sr27NmDqqqYTCZWrlyJzWYL1VsLOadLI11WLPbbBRlm3q/r4ECTiwky6kFECEWXuntAdOV81/yrgeHJJmaOiu8bFv7SdZ3nyhrJshj4t3PTBtxfcr7BFw/nISJyviJwPF6dZrdXer6DIKkHEYnkExxlmk/cbJMxvoOTn2HBC+x3Sq0HERkk+EYZ3zAzGekwKDlWA5kWA3saO8PdFCEACb5RRyZYnBlFUbgw08KRVg/Nrv5XuJDSkiIUJPhGGWeXhlGWiz8j38iwALBXxvyKCCDBN8o4XV7SLVJK8kxkWAzkJhrZI8FXRAAJvlHG2aXJopln4RsZFuo6NI53eMLdFBHn5FMcRXpKScrNtjN3QYYFBSiT3q8IMwm+UURKSZ69ZJPKqBQTexq7kPlFIpwk+EaRnpEOMsHi7Hwjw0KTy0t1u6QeRPjIpzgC9TXU6atSktLzPRvnp5sxKrCnof/Ugww5E8EkwTeKNHadmN0mOd+zYjGonJtmZp+zCy2A9TyEGAwJvlGksUsj1SSlJANhfGYC7R6dA7K0vAgTCb5RpKFLk5ltATI61USqWWX3cZluLMJDgm+U0HWdhi6NzAQJvoGgKgoXZSVwuNXty6ULEUpRt4ZbvOrw6HRpuvR8A2h8loWdjnb+73gn1wxL6nO//m66xXpNWhE80vONEg0nemeZEnwDJsVk4Lw0M581dOKRG28ixCT4RoieYU199bIk+AbHRUMS6PDofCF1fkWISfCNEo1dGgqQJhMsAmp0iokMi8r7de0y402ElHySo0RDV/eimQapZhZQiqJwRU4itR0a5S3ucDdHxBEJvlGioVOTlEOQjMuwkGpSeaemPdxNEXFEgm8U0HUdp0vG+AaLQVW4PMfK0TYPR1ql9ytCI2TBt7y8nDlz5jB9+nTmzJlDRUXFKftomsYjjzzClClTmDp1KuvXr/dtW716NZMmTaKwsJDCwkIeeeQR37aOjg4eeOABpk6dyowZM9ixY0co3lLItLi9uL1ysy2YvpmVQKJR4V3p/YoQCdk436VLlzJv3jwKCwvZuHEjS5YsYe3atb322bx5M5WVlWzbtg2n08msWbOYNGkSeXl5AMyaNYvFixefcuwXXniB5ORk/v73v1NRUcHNN9/Mtm3bSErqe+xmNGmUkQ5BZ1IVLrNZedPRTlWbm2FJJr9ed7rRKTL2V/gjJD3f+vp6ysrKKCgoAKCgoICysjIaGhp67VdaWsrs2bNRVZXMzEymTJnC1q1bBzz+66+/zpw5cwAYNWoU48aN46233gr8GwmTnmFmGTK7LagusVlJNCq8VS29XxF8Ien5OhwOcnJyMBi6g4fBYCA7OxuHw0FmZmav/XJzc32P7XY7NTU1vsdbtmxh165d2Gw27r//fiZOnAhAdXU1w4YN6/N1/sjKSj6j99afQJUjbOjsXjQz1SQp+mAyGxS+nZPI9qo2KlpcjEoxn9FxBvq9S5nKbvF+HqJmevHcuXO5++67MZlMvP3229x7772UlpaSkZERkOPX17fiDeAsJ5stZVBfP/u7EBu7vGTIopkhcdGQBD6o6+DN6nZGnm86o3Pe3+99sNdFrIqH86CqSr+dupB0pex2O7W1tWha99dnTdOoq6vDbrefsl91dbXvscPhYOjQoQDYbDZMpu483JVXXondbufAgQMA5ObmUlVVddrXxQKpZhY6RlXhSnsijnaPlJsUQRWS4JuVlUV+fj4lJSUAlJSUkJ+f3yvlADBjxgzWr1+P1+uloaGB7du3M336dABqa2t9++3du5eqqipGjx7te92f//xnACoqKvj888+ZPHlyKN5a0GleHadUMwup8ZkWMi0G3nK045VZbyJIQpZ2WLZsGUVFRaxZs4bU1FSKi4sBWLBgAQsXLmT8+PEUFhby6aefMm3aNADuu+8+hg8fDsCqVavYs2cPqqpiMplYuXIlNpsNgNtvv52ioiKmTp2KqqosX76c5OTA53DDoaFLwwsMkeAbMqqicLU9kQ0VLZQ1djEuMyHcTRIxSNFlQjsQuTnfvY1dbKxo4cdj0xmaGDUp+qin6zov73fSpeksyM/AMIjVQyTnO7B4OA8RkfMVZ+54pwcFyJKeb0gpisLV9iScLi+fNchqFyLwJPhGuOOd3QV1ZN220BuTaiIvycjbjg7cUu9XBJgE3wh3vENjSIKkG8Khp/fb6vHyWb30fkVgSfCNYB5v97ptcrMtfIYnG8lLMvJ+bQea3B4RASTBN4I1dGnoyEiHcOqp99vs9lLW0BXu5ogYIsE3zPpbOuh4Z/ekFJtV0g7hdE6qCVuCgfdqO2S1CxEwEnwj2PGO7pEOUs0svBRF4dtDE6nv0vhCZr2JAJHgG8GOd3ZPKzbKSIewG5tuJsOi8m6N9H5FYEjwjWDHO+VmW6RQFYUrshOp6fBQIWu9iQCQ4BuhPF6dxi6NIVYJvpHiwkwLySaVd2s7wt0UEQMk+Eao+s7ukQ42GeMbMYyqwuXZVipb3VS1Se9XnB0JvhHqeKcHkGFmkeairASsBoV3a/ru/fY3gkWIHhJ8I9SxTg0VGekQacwGhUtsVg42u6jr8IS7OSKKSfANk4F6R7XtHoZYDYOqpiVC4xJbAmZV4b0Bcr/SAxb9keAbgXRdp7bDQ45MrohIVqPKRUMS2NvY5VtZWojBkk93BGr1eGn36BJ8I9jl2VY+PtbBLkc7M0cNbsFMWW5egPR8I1Jte3dvKkeKp0esZJPKpTYrexq7qGmX3K8YPAm+Eaj2xI2cbBnjG9EmDbViNSpsP9oqs97EoEnwjUC17R4yLCoWg/x6IlmCQeW7uUkcbfPwmVQ8E4Mkn+4IVCM326LGhEwLw5ON/LOqjSaX3HwT/pPgG2Ha3F6aXV5yk0zhborwg6IofG9ECroOG8tb0GS5IeGnkAXf8vJy5syZw/Tp05kzZw4VFRWn7KNpGo888ghTpkxh6tSprF+/3rft2Wef5YYbbmDmzJnceOON7Ny507etqKiIq6++msLCQgoLC/ntb38bircUFNXt3dNWc+VmW9TIsBj43ohkqts9vFHdFu7miCgRsk/40qVLmTdvHoWFhWzcuJElS5awdu3aXvts3ryZyspKtm3bhtPpZNasWUyaNIm8vDwmTJjAbbfdhtVqZd++fdxyyy3s2rWLhIQEAO68805uueWWUL2doHG0ddfwlZEO0eWCDAuXtLn58FgneckmxqZbwt0kEeFC0vOtr6+nrKyMgoICAAoKCigrK6OhoaHXfqWlpcyePRtVVcnMzGTKlCls3boVgMmTJ2O1WgEYO3Ysuq7jdDpD0fyQqm73kG01yGrFUeia3CTsiUZKDrfI1GMxoJAEX4fDQU5ODgZD99Apg8FAdnY2DofjlP1yc3N9j+12OzU1Naccb8OGDYwYMYKhQ4f6nnvppZeYOXMm9957L4cOHQrSOwkuXddxtHuwJ0q+NxoZVYUbx6SQYFB55VAzbW5vuJskIljUfbf94IMPeOqpp3jxxRd9zz344IPYbDZUVWXDhg3ccccdbN++3Rfs/ZGVlRzwtg52Xv/xTo0uTSc3Kep+LeKEFJOBm8ak8ocvnLxa3swPz03zayWSeKwBEY/v+WQh+ZTb7XZqa2vRNA2DwYCmadTV1WG320/Zr7q6mgkTJgCn9oR3797NQw89xJo1axgzZozv+ZycHN/Ps2bN4vHHH6empoZhw4b53cb6+la8AbxTbbOl9Dtl9HQX3tETNWKHJ0vPN5oNTTRSMDKFDRUtbD3Syg0jklGUwaeRYnnK8UCfj1igqkq/nbqQpB2ysrLIz8+npKQEgJKSEvLz88nMzOy134wZM1i/fj1er5eGhga2b9/O9OnTAfjss8948MEHefrpp7nwwgt7va62ttb3886dO1FVtVdAjhZHWj0kG1XSzTICMNpdkGHhqqGJ/Kuhiw+PdYa7OSIChez77bJlyygqKmLNmjWkpqZSXFwMwIIFC1i4cCHjx4+nsLCQTz/9lGnTpgFw3333MXz4cAAeeeQROjs7WbJkie+YK1euZOzYsSxevJj6+noURSE5OZnf/va3GI3R9dVd13WOtLoZnmw8o16SiDxXDrVS1+Hhjao2chON5Mk3GnESRZdJ6UD40w7OLo3nyhqZmpfEJTZrwNohwqvT4+Xl/U40HX4yNp1Ek//famL5a7mkHWSGW8SobJV8byxKMKr8YHQq7R4vmw634JW+jjhBgm+EKG92kWRUsMmabTEnJ9HItLxkKlrcvNPP2m8ivkRXYjRG6bpORYubc9LMku+NUROyLBxpc7Orpp1hSUZGp5oHfI0/Q7Fi/at7LJPgGwIDfYhqOjx0aDqjUyTlEKsURWFaXjK17R42HW7hJ2PTSTXLt5x4JmmHCFDe3J3vHZUycG9IRC+zQWHW6BQ0L2ysaEGT/G9ck+AbAQ42uRiaaCRpEHfCRXTKSjBy/Yhkqto8/LOqTVbAiGPyaQ+zFpdGdbuH89Ok1xsv8jMsXGpL4ONjnbwzwPLzA5Hl6aOX5HyDyJ8PxRdNLgDOT5fgG0+uG5ZEh0dnp6Mdl6bz3dxEudkaZyT4htkXThdZFgNDEuRXEU8UReGGkcmYDQrv13VQ2+HhhhHJpMhNuLghn/gwanFpVLa6mZQjM9rikaooTMtLIttq4J9Vbbywz8m04cnkpw9+yGF/37JkOFpkkuAbRnsau9CB8VkJ4W6KCBNFUZg4xMrIZDObD7ewqaKFT5NNTM1LYkiAFlGV8cKRSW64hYmu63ze0EVekpEMi3zVjHeZCQbmn5/G1Lwkajo8vLjPyT+OttKlSUH2WCU93yDwp6dR1eahvlPj+uGBL+IuopOqKFxis5KfbuFNRxsfHuukrLGL7+YmMS7TIjfkYowE3zD58FgHCQaF/AxZaFH0lmhSuX5EChcNSeDvR9rYUtnK/9V3MjUvmaFBWlj1bIarScrizEjaIQycXRpfOF1cNCQBs0F6M+L07Ikm5p+fxvdGJNPYpfHyfidbK1vp8EgqIhZIzzcM3qvtQFHg4iFyo030T1EUJmQlcH66mV2Odj4+kYq42JbAZTZrRMyKPLnXLL1g/0nwDbHGLo3P6ju5aEiCFFYRfkswqEzJS+airATermnn/doOPqrrYGy6hfGZFkakmFAjICcss+38J8E3xN6sbsOgwreHJoa7KSIKDbEaKRydyuROjQ+PdVDW2MWexi6STSrnpZk5N9XMyBSTXysmh1u8D4GTZYROCOQyQn1dVAebXLzyZTOT7YlcKcFXBIDHq3OgycU+ZxdfNrtwe8GsKoxONXFemplzUs1YjeFPTZwNl8uD2Wz0/X265wazT1tbF+3trqC3e6BlhKTnGyLtbi9/O9LKkAQDV2TLjDYRGEa1e8RMfoYFj1fncIubA00uDja52O90oQB5yUbOS7NwXpo5JGPKdV33a1ic09lOaqoVNQp66cEgwTcEvLrOxooW2j1ebhqTjiFOLzYRXEZV4Zw0M+ekmdF1nZp2DweaXBxocvHPqjb+WdXGkAQD56WZsSUYSTGrJBlVVAUUpXvok6IoqAoYFLAYunvMHq/udxpD07w0N3eQmmrFYOi/x+12a3R2uklMjM+iUhJ8g0zTdTZXtHC41c33RgRvnKYQJ1MUBXuSCXuSiatzk3B2ab5A/F5tB/4k2BKNChlmAwYVJuUkkpdswjRAEHY62/F6dZzO9n6/cvfoyXr621uOJSGLBOXl5RQVFeF0OklPT6e4uJhRo0b12kfTNB577DF27tyJoijceeedzJ49+6y2hVOLS2Pz4VYqW91cOyyJCVLDQYRJusXAZdlWLsu24tJ0ml0azW4v7R4vug5e6P5b19Hp7u3Wdmjsd3bh1aGytRkFGJFsYnSqiVEpZnKshlMCZs99k8HeP/F4vJhM8TX6J2TBd+nSpcybN4/CwkI2btzIkiVLWLt2ba99Nm/eTGVlJdu2bcPpdDJr1iwmTZpEXl7eGW8LNV3XOd7p4fP6Lj453l0o+4YRyVI8R0QMs0FhiNXIkAFuPWz4shlNh2GJBqraNXSg3ePljep2oJ0Eg0JWgoF0s4EUs4pFVXB1aLR7dFo0nW8luDCpCmZVwWQ48beqYFA4JWjH433/kATf+vp6ysrKeOmllwAoKCjg0UcfpaGhgczMTN9+paWlzJ49G1VVyczMZMqUKWzdupU77rjjjLf5azBJf0enl0aP7ustaDp0enU6vDotbp3OY80AjM+08K3sRNKkcI6IQolGhTSzSorJQJq5Ozjenp9Bm9vL0TY3jjY3TS4vzi6NqnY3X4+fpZWtfR7bqIAOWA0eLMZODHTnrFWFE39OCtJeL0aDiq7rGBQVFNC9XgwGFa/Wvc3r1U/83f28Ang1L4pBRdO8qKqKR+ve5nZ7cHt0X+pFOfmP8tXPKL23JRkUhicofqdHBoopIQm+DoeDnJwcDIbuIGQwGMjOzsbhcPQKvg6Hg9zcXN9ju91OTU3NWW3zV0ZGkt/7Zg3qyEJEp2kjTj9kMsmkMjbdwth0qUtyNqJ7AKAQQkSpkARfu91ObW0tmqYB3TfI6urqsNvtp+xXXV3te+xwOBg6dOhZbRNCiEgUkuCblZVFfn4+JSUlAJSUlJCfn98r5QAwY8YM1q9fj9frpaGhge3btzN9+vSz2iaEEJEoZNOLDx06RFFREc3NzaSmplJcXMyYMWNYsGABCxcuZPz48WiaxvLly3n77bcBWLBgAXPmzAE4421CCBGJpLaDEEKEgdxwE0KIMJDgK4QQYSDBVwghwkCCrxBChIGU2AowfwoIxYtrr70Ws9mMxdI9E+rnP/85kydPDnOrQqO4uJi//e1vVFVVsXnzZs4//3wgPq+Pvs5FPF8fAOgioObPn69v2LBB13Vd37Bhgz5//vwwtyh8rrnmGn3//v3hbkZYfPjhh3p1dfUp5yAer4++zkU8Xx+6ruuSdgigngJCBQUFQHcBobKyMhoaGsLcMhFql1566SkzOOP1+jjduRCSdggofwsIxZOf//zn6LrOJZdcwqJFi0hNTQ13k8JGro9TxfP1IT1fETTr1q1j06ZN/PWvf0XXdZYvXx7uJokIEu/XhwTfAPK3gFC86HnfZrOZefPm8cknn4S5ReEl10dv8X59SPANIH8LCMWD9vZ2WlpagO5VCkpLS8nPzw9zq8JLro+vyPUhtR0Crq8CQvHmyJEj3H///Wiahtfr5ZxzzuGXv/wl2dnZ4W5aSDz22GNs27aN48ePk5GRQXp6Olu2bInL6+N05+K5556L6+sDJPgKIURYSNpBCCHCQIKvEEKEgQRfIYQIAwm+QggRBhJ8hRAiDCT4irgxf/581q9ff8av/+ijjwK6MOsdd9zBa6+9BsCrr77KD3/4w4Ade9OmTdx2220BO54IPAm+ImCuvfZaJk2aRHt7u++59evXM3/+/DC2yj+rV6/mwgsvZOLEiUycOJHp06ezfPly6urqfPtceuml/O1vf/PrWD//+c8H3O/555/nBz/4wVm1G+Do0aOMHTsWj8fje+773/8+L7744lkfWwSPBF8RUF6vl7Vr1571cXRdx+v1BqBF/rv++uvZvXs3H3zwAc888wzHjx/nxhtv7BWAAyEc701EHgm+IqBuv/12XnzxRZqbm0+7/ZNPPuGmm27ikksu4aabbuo1n3/+/Pk88cQTzJ07l29+85scOXKEsWPHsm7dOqZNm8bEiRN58sknqaysZO7cuVx88cX87Gc/w+VyAdDU1MRdd93FFVdcwWWXXcZdd91FTU3NoN+DyWTivPPO44knniAzM5OXXnoJgPfff5+rr77at9/vf/97Jk+e7Ospv/vuu7z11lv87ne/4/XXX2fixIl8//vf7/O9fT0N0lNc5pJLLmHGjBm8++67vm3XXnst77zzju/xyb3rW265BYDLLruMiRMnsnv37lPSGAOd9yeffJK5c+cyceJEbrvttpgvcxkJJPiKgBo3bhyXX345L7zwwinbnE4nd911F/Pnz+f999/nJz/5CXfddReNjY2+fTZu3Mijjz7KJ598Qm5uLgC7du3i1Vdf5S9/+QvPP/88/+///T9+9atf8eabb3LgwAG2bNkCdPe6b7zxRnbs2MGOHTuwWCxnVSnLYDBw3XXX8dFHH52y7csvv2TdunW88sor7N69mxdeeIFhw4Zx9dVXc9ddd/l60Zs2ber3vZ3ss88+Y8SIEbz33nssXLiQn/70pzidzgHb+Yc//AGADz/8kN27dzNx4sRe2/057yUlJTz++OO8++67uN1uSVmEgARfEXALFy7kD3/4wym9pzfeeIORI0cya9YsjEYjBQUFjBkzhh07dvj2+cEPfsB5552H0WjEZDIB3TemkpOTOe+88zj//PO58sorGT58OCkpKVx99dWUlZUBkJGRwfTp07FarSQnJ3PPPffw4YcfntV7yc7Opqmp6ZTnDQYDLpeLQ4cO4Xa7ycvLY8SIEf0e63Tv7WSZmZnceuutmEwmvve97zF69GjeeOONs2o/+Hfeb7zxRkaPHk1CQgIzZsxg7969Z/3viv5JMXURcOeffz7f/e53+f3vf88555zje76uru6UHl9ubi61tbW+x6crrzhkyBDfzxaL5ZTHx48fB6Cjo4PHH3+cnTt3+gJmW1sbmqb5CpgPVm1tLWlpaac8P3LkSB5++GFWr17NwYMHueqqqygqKiInJ6fPYw1UOjInJwdFUXyPc3NzA5Jv9ue822w2389Wq7XXTVMRHNLzFUGxcOFC/vKXv/T6gGdnZ1NdXd1rv57VHXqcHHwG68UXX6S8vJy//OUvfPLJJ6xbtw7ozqWeCa/Xy44dO7j00ktPu33mzJn86U9/YseOHSiKwq9//Wug7/cw0Hurra3t1VaHw+Gr8mW1Wuno6PBtO3bsmN/H9ee8i9CT4CuCYuTIkXzve9/jf/7nf3zPfec736GiooLNmzfj8XgoLS3l4MGDfPe73w3Iv9nW1obFYiE1NRWn08kzzzxzRsfxeDwcOnSIRYsWcfz4cX784x+fss+XX37Ju+++i8vl8q3Aq6rdH6esrCyqqqoGPaKhoaGBtWvX4na7ef311zl06BDf+c53ALjgggsoLS3F7Xbz+eef9xrylpmZiaqqHDly5LTHDfZ5F2dGgq8Imvvuu6/X19eMjAyee+45XnrpJb71rW/x/PPP89xzzwWsmPitt95KV1cXV1xxBXPmzBn0MuQ9IxQuvfRS7rnnHtLT03n11VdP20N0uVz85je/4Vvf+hZXXXUVDQ0NLFq0CIAZM2YA8K1vfWtQ43gnTJjA4cOHueKKK3jyySd5+umnycjIAOCBBx6gsrKSyy+/nNWrVzNz5kzf66xWK3fffTc//OEPufTSS/m///u/XscN9nkXZ0bq+QohRBhIz1cIIcJAgq8QQoSBBF8hhAgDCb5CCBEGEnyFECIMJPgKIUQYSPAVQogwkOArhBBhIMFXCCHC4P8DbWc40DDppW0AAAAASUVORK5CYII=",
>>>>>>> parent of fe7868a (sip):Sesi 10/Summary 1.ipynb
      "text/plain": [
       "<Figure size 360x360 with 1 Axes>"
      ]
     },
     "metadata": {},
     "output_type": "display_data"
    }
   ],
   "source": [
    "ax= sns.distplot(data_gamma,\n",
    "                            bins = 100,\n",
    "                            kde=True, \n",
    "                            color='skyblue',\n",
    "                            hist_kws={'lw':15, 'alpha':1})\n",
    "ax.set(xlabel= 'Normal Distribution', ylabel= 'Frequency')"
   ]
  },
  {
   "cell_type": "markdown",
   "metadata": {},
   "source": [
    "# Exponential Distribution"
   ]
  },
  {
   "cell_type": "markdown",
   "metadata": {},
   "source": [
    "- menggambarkan waktu antara peristiwa dalam poisson point process\n",
    "- proses dimana peristiwa terjadi terus menerus dan independen pada tingkat rata - rata yang konstan"
   ]
  },
  {
   "cell_type": "code",
<<<<<<< HEAD:Sesi 10/Summary 1-new.ipynb
   "execution_count": 23,
=======
   "execution_count": 57,
>>>>>>> parent of fe7868a (sip):Sesi 10/Summary 1.ipynb
   "metadata": {},
   "outputs": [],
   "source": [
    "from scipy.stats import expon\n",
    "data_expon = expon.rvs(scale=4, loc=0, size=1000)"
   ]
  },
  {
   "cell_type": "code",
<<<<<<< HEAD:Sesi 10/Summary 1-new.ipynb
   "execution_count": 24,
=======
   "execution_count": 58,
>>>>>>> parent of fe7868a (sip):Sesi 10/Summary 1.ipynb
   "metadata": {},
   "outputs": [
    {
     "data": {
      "text/plain": [
<<<<<<< HEAD:Sesi 10/Summary 1-new.ipynb
       "4.221576044480429"
      ]
     },
     "execution_count": 24,
=======
       "3.8887724854158234"
      ]
     },
     "execution_count": 58,
>>>>>>> parent of fe7868a (sip):Sesi 10/Summary 1.ipynb
     "metadata": {},
     "output_type": "execute_result"
    }
   ],
   "source": [
    "np.mean(data_expon)"
   ]
  },
  {
   "cell_type": "code",
<<<<<<< HEAD:Sesi 10/Summary 1-new.ipynb
   "execution_count": 25,
=======
   "execution_count": 59,
>>>>>>> parent of fe7868a (sip):Sesi 10/Summary 1.ipynb
   "metadata": {},
   "outputs": [
    {
     "name": "stderr",
     "output_type": "stream",
     "text": [
      "/home/jefl5/.local/lib/python3.8/site-packages/seaborn/distributions.py:2619: FutureWarning: `distplot` is a deprecated function and will be removed in a future version. Please adapt your code to use either `displot` (a figure-level function with similar flexibility) or `histplot` (an axes-level function for histograms).\n",
      "  warnings.warn(msg, FutureWarning)\n"
     ]
    },
    {
     "data": {
      "text/plain": [
       "[Text(0.5, 0, 'Exponential Distribution'), Text(0, 0.5, 'Frequency')]"
      ]
     },
<<<<<<< HEAD:Sesi 10/Summary 1-new.ipynb
     "execution_count": 25,
=======
     "execution_count": 59,
>>>>>>> parent of fe7868a (sip):Sesi 10/Summary 1.ipynb
     "metadata": {},
     "output_type": "execute_result"
    },
    {
     "data": {
<<<<<<< HEAD:Sesi 10/Summary 1-new.ipynb
      "image/png": "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",
=======
      "image/png": "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",
>>>>>>> parent of fe7868a (sip):Sesi 10/Summary 1.ipynb
      "text/plain": [
       "<Figure size 360x360 with 1 Axes>"
      ]
     },
     "metadata": {},
     "output_type": "display_data"
    }
   ],
   "source": [
    "ax= sns.distplot(data_expon,\n",
    "                            bins = 100,\n",
    "                            kde=True, \n",
    "                            color='skyblue',\n",
    "                            hist_kws={'lw':15, 'alpha':1})\n",
    "ax.set(xlabel= 'Exponential Distribution', ylabel= 'Frequency')"
   ]
  },
  {
   "cell_type": "code",
<<<<<<< HEAD:Sesi 10/Summary 1-new.ipynb
   "execution_count": 26,
=======
   "execution_count": 60,
>>>>>>> parent of fe7868a (sip):Sesi 10/Summary 1.ipynb
   "metadata": {},
   "outputs": [],
   "source": [
    "from scipy.stats import expon\n",
    "data_expon = expon.rvs(scale=1, loc=0, size=1000)"
   ]
  },
  {
   "cell_type": "code",
<<<<<<< HEAD:Sesi 10/Summary 1-new.ipynb
   "execution_count": 27,
=======
   "execution_count": 61,
>>>>>>> parent of fe7868a (sip):Sesi 10/Summary 1.ipynb
   "metadata": {},
   "outputs": [
    {
     "data": {
      "text/plain": [
<<<<<<< HEAD:Sesi 10/Summary 1-new.ipynb
       "1.0234070414326615"
      ]
     },
     "execution_count": 27,
=======
       "0.995574079755665"
      ]
     },
     "execution_count": 61,
>>>>>>> parent of fe7868a (sip):Sesi 10/Summary 1.ipynb
     "metadata": {},
     "output_type": "execute_result"
    }
   ],
   "source": [
    "np.mean(data_expon)"
   ]
  },
  {
   "cell_type": "code",
<<<<<<< HEAD:Sesi 10/Summary 1-new.ipynb
   "execution_count": 28,
=======
   "execution_count": 62,
>>>>>>> parent of fe7868a (sip):Sesi 10/Summary 1.ipynb
   "metadata": {},
   "outputs": [
    {
     "name": "stderr",
     "output_type": "stream",
     "text": [
      "/home/jefl5/.local/lib/python3.8/site-packages/seaborn/distributions.py:2619: FutureWarning: `distplot` is a deprecated function and will be removed in a future version. Please adapt your code to use either `displot` (a figure-level function with similar flexibility) or `histplot` (an axes-level function for histograms).\n",
      "  warnings.warn(msg, FutureWarning)\n"
     ]
    },
    {
     "data": {
      "text/plain": [
       "[Text(0.5, 0, 'Exponential Distribution'), Text(0, 0.5, 'Frequency')]"
      ]
     },
<<<<<<< HEAD:Sesi 10/Summary 1-new.ipynb
     "execution_count": 28,
=======
     "execution_count": 62,
>>>>>>> parent of fe7868a (sip):Sesi 10/Summary 1.ipynb
     "metadata": {},
     "output_type": "execute_result"
    },
    {
     "data": {
<<<<<<< HEAD:Sesi 10/Summary 1-new.ipynb
      "image/png": "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",
=======
      "image/png": "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",
>>>>>>> parent of fe7868a (sip):Sesi 10/Summary 1.ipynb
      "text/plain": [
       "<Figure size 360x360 with 1 Axes>"
      ]
     },
     "metadata": {},
     "output_type": "display_data"
    }
   ],
   "source": [
    "ax= sns.distplot(data_expon,\n",
    "                            bins = 100,\n",
    "                            kde=True, \n",
    "                            color='skyblue',\n",
    "                            hist_kws={'lw':15, 'alpha':1})\n",
    "ax.set(xlabel= 'Exponential Distribution', ylabel= 'Frequency')"
   ]
  },
  {
   "cell_type": "markdown",
   "metadata": {},
   "source": [
    "----"
   ]
  },
  {
   "cell_type": "markdown",
   "metadata": {},
   "source": [
<<<<<<< HEAD:Sesi 10/Summary 1-new.ipynb
    "#### Poisson Distribution"
   ]
  },
  {
   "cell_type": "markdown",
   "metadata": {},
   "source": [
    "- untuk memodelkan berapa kali suatu peristiwa terjadi dalam interval waktu (pengunjung dalam suatu web dalam interval waktu tertentu dapat dianggap sebagai proses poisson)\n",
    "- dijelaskan bahwa tingkat mean peristiwa terjadi.\n",
    "- peristiwa dapat terjadi n kali dalam satu interval, jumlah rata - rata kejadian dalam interval disebut lamda (λ) atau tingkat peristiwa terjadi atau rate parameter"
   ]
  },
  {
   "cell_type": "code",
   "execution_count": 29,
   "metadata": {},
   "outputs": [],
   "source": [
    "from scipy.stats import poisson\n",
    "data_poisson = poisson.rvs(mu=7, size= 10000)"
   ]
  },
  {
   "cell_type": "code",
   "execution_count": 30,
   "metadata": {},
   "outputs": [
    {
     "name": "stderr",
     "output_type": "stream",
     "text": [
      "/home/jefl5/.local/lib/python3.8/site-packages/seaborn/distributions.py:2619: FutureWarning: `distplot` is a deprecated function and will be removed in a future version. Please adapt your code to use either `displot` (a figure-level function with similar flexibility) or `histplot` (an axes-level function for histograms).\n",
      "  warnings.warn(msg, FutureWarning)\n"
     ]
    },
    {
     "data": {
      "text/plain": [
       "[Text(0.5, 0, 'Poisson Distribution'), Text(0, 0.5, 'Frequency')]"
      ]
     },
     "execution_count": 30,
     "metadata": {},
     "output_type": "execute_result"
    },
    {
     "data": {
      "image/png": "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",
      "text/plain": [
       "<Figure size 360x360 with 1 Axes>"
      ]
     },
     "metadata": {},
     "output_type": "display_data"
    }
   ],
   "source": [
    "ax= sns.distplot(data_poisson,\n",
    "                            bins = 100,\n",
    "                            kde=False, \n",
    "                            color='skyblue',\n",
    "                            hist_kws={'lw':15, 'alpha':1})\n",
    "ax.set(xlabel= 'Poisson Distribution', ylabel= 'Frequency')"
=======
    "# Poisson Distribution\n",
    "- untuk memodelkan berapa jali suatu peristiwa terjadi dalam interval waktu (pengunjung dalam suatu web dalam waktu tertentu)\n",
    "- rata - rata kejadian (λ) atau tingkat peristiwa terjadi"
>>>>>>> parent of fe7868a (sip):Sesi 10/Summary 1.ipynb
   ]
  },
  {
   "cell_type": "code",
<<<<<<< HEAD:Sesi 10/Summary 1-new.ipynb
   "execution_count": 31,
=======
   "execution_count": 36,
>>>>>>> parent of fe7868a (sip):Sesi 10/Summary 1.ipynb
   "metadata": {},
   "outputs": [],
   "source": [
    "from scipy.stats import poisson\n",
    "data_poisson = poisson.rvs(mu=3, size= 10000)"
   ]
  },
  {
   "cell_type": "code",
<<<<<<< HEAD:Sesi 10/Summary 1-new.ipynb
   "execution_count": 32,
=======
   "execution_count": 37,
>>>>>>> parent of fe7868a (sip):Sesi 10/Summary 1.ipynb
   "metadata": {},
   "outputs": [
    {
     "data": {
      "text/plain": [
<<<<<<< HEAD:Sesi 10/Summary 1-new.ipynb
       "3.001"
      ]
     },
     "execution_count": 32,
=======
       "2.9889"
      ]
     },
     "execution_count": 37,
>>>>>>> parent of fe7868a (sip):Sesi 10/Summary 1.ipynb
     "metadata": {},
     "output_type": "execute_result"
    }
   ],
   "source": [
    "np.mean(data_poisson)"
   ]
  },
  {
   "cell_type": "code",
<<<<<<< HEAD:Sesi 10/Summary 1-new.ipynb
   "execution_count": 33,
=======
   "execution_count": 39,
>>>>>>> parent of fe7868a (sip):Sesi 10/Summary 1.ipynb
   "metadata": {},
   "outputs": [
    {
     "name": "stderr",
     "output_type": "stream",
     "text": [
      "/home/jefl5/.local/lib/python3.8/site-packages/seaborn/distributions.py:2619: FutureWarning: `distplot` is a deprecated function and will be removed in a future version. Please adapt your code to use either `displot` (a figure-level function with similar flexibility) or `histplot` (an axes-level function for histograms).\n",
      "  warnings.warn(msg, FutureWarning)\n"
     ]
    },
    {
     "data": {
      "text/plain": [
       "[Text(0.5, 0, 'Exponential Distribution'), Text(0, 0.5, 'Frequency')]"
      ]
     },
<<<<<<< HEAD:Sesi 10/Summary 1-new.ipynb
     "execution_count": 33,
=======
     "execution_count": 39,
>>>>>>> parent of fe7868a (sip):Sesi 10/Summary 1.ipynb
     "metadata": {},
     "output_type": "execute_result"
    },
    {
     "data": {
<<<<<<< HEAD:Sesi 10/Summary 1-new.ipynb
      "image/png": "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",
=======
      "image/png": "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",
>>>>>>> parent of fe7868a (sip):Sesi 10/Summary 1.ipynb
      "text/plain": [
       "<Figure size 360x360 with 1 Axes>"
      ]
     },
     "metadata": {},
     "output_type": "display_data"
    }
   ],
   "source": [
    "ax= sns.distplot(data_poisson,\n",
    "                            bins = 100,\n",
    "                            kde=False, \n",
    "                            color='skyblue',\n",
    "                            hist_kws={'lw':15, 'alpha':1})\n",
    "ax.set(xlabel= 'Exponential Distribution', ylabel= 'Frequency')"
   ]
  },
  {
   "cell_type": "code",
<<<<<<< HEAD:Sesi 10/Summary 1-new.ipynb
   "execution_count": 34,
=======
   "execution_count": 40,
>>>>>>> parent of fe7868a (sip):Sesi 10/Summary 1.ipynb
   "metadata": {},
   "outputs": [
    {
     "name": "stderr",
     "output_type": "stream",
     "text": [
      "/home/jefl5/.local/lib/python3.8/site-packages/seaborn/distributions.py:2619: FutureWarning: `distplot` is a deprecated function and will be removed in a future version. Please adapt your code to use either `displot` (a figure-level function with similar flexibility) or `histplot` (an axes-level function for histograms).\n",
      "  warnings.warn(msg, FutureWarning)\n"
     ]
    },
    {
     "data": {
      "text/plain": [
       "[Text(0.5, 0, 'Exponential Distribution'), Text(0, 0.5, 'Frequency')]"
      ]
     },
<<<<<<< HEAD:Sesi 10/Summary 1-new.ipynb
     "execution_count": 34,
=======
     "execution_count": 40,
>>>>>>> parent of fe7868a (sip):Sesi 10/Summary 1.ipynb
     "metadata": {},
     "output_type": "execute_result"
    },
    {
     "data": {
<<<<<<< HEAD:Sesi 10/Summary 1-new.ipynb
      "image/png": "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",
=======
      "image/png": "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",
>>>>>>> parent of fe7868a (sip):Sesi 10/Summary 1.ipynb
      "text/plain": [
       "<Figure size 360x360 with 1 Axes>"
      ]
     },
     "metadata": {},
     "output_type": "display_data"
    }
   ],
   "source": [
    "ax= sns.distplot(data_poisson,\n",
    "                            bins = 100,\n",
    "                            kde=True, \n",
    "                            color='skyblue',\n",
    "                            hist_kws={'lw':15, 'alpha':1})\n",
    "ax.set(xlabel= 'Exponential Distribution', ylabel= 'Frequency')"
   ]
  },
  {
   "cell_type": "markdown",
   "metadata": {},
   "source": [
    "# Binomial Distribution\n",
    "-  hanya ada 2 hasil yang mungkin (sukses / gagal, benar/salah, menang/kalah) dan dimana probabilitas keberhasilan dan kegagalan sama untuk semua percobaan\n",
    "- tergantung pada jumlah total percobaan (n) dan probabilitasnya (p)"
   ]
  },
  {
   "cell_type": "code",
<<<<<<< HEAD:Sesi 10/Summary 1-new.ipynb
   "execution_count": 35,
=======
   "execution_count": 41,
>>>>>>> parent of fe7868a (sip):Sesi 10/Summary 1.ipynb
   "metadata": {},
   "outputs": [],
   "source": [
    "from scipy.stats import binom\n",
    "data_binom = binom.rvs (n=10, p=0.8, size=10000)"
   ]
  },
  {
   "cell_type": "code",
<<<<<<< HEAD:Sesi 10/Summary 1-new.ipynb
   "execution_count": 36,
=======
   "execution_count": 47,
>>>>>>> parent of fe7868a (sip):Sesi 10/Summary 1.ipynb
   "metadata": {},
   "outputs": [
    {
     "data": {
      "text/plain": [
       "[Text(0.5, 0, 'Binomial Distribution'), Text(0, 0.5, 'Frequency')]"
      ]
     },
<<<<<<< HEAD:Sesi 10/Summary 1-new.ipynb
     "execution_count": 36,
=======
     "execution_count": 47,
>>>>>>> parent of fe7868a (sip):Sesi 10/Summary 1.ipynb
     "metadata": {},
     "output_type": "execute_result"
    },
    {
     "data": {
<<<<<<< HEAD:Sesi 10/Summary 1-new.ipynb
      "image/png": "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",
=======
      "image/png": "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",
>>>>>>> parent of fe7868a (sip):Sesi 10/Summary 1.ipynb
      "text/plain": [
       "<Figure size 360x360 with 1 Axes>"
      ]
     },
     "metadata": {},
     "output_type": "display_data"
    }
   ],
   "source": [
    "ax= sns.distplot(data_binom,\n",
    "                            kde=False, \n",
    "                            color='skyblue',\n",
    "                            hist_kws={'lw':15, 'alpha':1})\n",
    "ax.set(xlabel= 'Binomial Distribution', ylabel= 'Frequency')"
   ]
  },
  {
   "cell_type": "code",
<<<<<<< HEAD:Sesi 10/Summary 1-new.ipynb
   "execution_count": 37,
=======
   "execution_count": 44,
>>>>>>> parent of fe7868a (sip):Sesi 10/Summary 1.ipynb
   "metadata": {},
   "outputs": [],
   "source": [
    "# probabilitas untuk sukses lebih dari 0,5"
   ]
  },
  {
   "cell_type": "markdown",
   "metadata": {},
   "source": [
    "# Bernoulli Distribution\n",
    "- hanya ada 2 kemungkinan (1=berhasil, 0=gagal)"
   ]
  },
  {
   "cell_type": "code",
<<<<<<< HEAD:Sesi 10/Summary 1-new.ipynb
   "execution_count": 38,
=======
   "execution_count": 45,
>>>>>>> parent of fe7868a (sip):Sesi 10/Summary 1.ipynb
   "metadata": {},
   "outputs": [],
   "source": [
    "from scipy.stats import bernoulli\n",
    "data_bern=bernoulli.rvs(size= 10000, p =0.6)"
   ]
  },
  {
   "cell_type": "code",
<<<<<<< HEAD:Sesi 10/Summary 1-new.ipynb
   "execution_count": 39,
=======
   "execution_count": 46,
>>>>>>> parent of fe7868a (sip):Sesi 10/Summary 1.ipynb
   "metadata": {},
   "outputs": [
    {
     "name": "stderr",
     "output_type": "stream",
     "text": [
      "/home/jefl5/.local/lib/python3.8/site-packages/seaborn/distributions.py:2619: FutureWarning: `distplot` is a deprecated function and will be removed in a future version. Please adapt your code to use either `displot` (a figure-level function with similar flexibility) or `histplot` (an axes-level function for histograms).\n",
      "  warnings.warn(msg, FutureWarning)\n"
     ]
    },
    {
     "data": {
      "text/plain": [
       "[Text(0.5, 0, 'Bernoulli Distribution'), Text(0, 0.5, 'Frequency')]"
      ]
     },
<<<<<<< HEAD:Sesi 10/Summary 1-new.ipynb
     "execution_count": 39,
=======
     "execution_count": 46,
>>>>>>> parent of fe7868a (sip):Sesi 10/Summary 1.ipynb
     "metadata": {},
     "output_type": "execute_result"
    },
    {
     "data": {
<<<<<<< HEAD:Sesi 10/Summary 1-new.ipynb
      "image/png": "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",
=======
      "image/png": "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",
>>>>>>> parent of fe7868a (sip):Sesi 10/Summary 1.ipynb
      "text/plain": [
       "<Figure size 360x360 with 1 Axes>"
      ]
     },
     "metadata": {},
     "output_type": "display_data"
    }
   ],
   "source": [
    "ax= sns.distplot(data_bern,\n",
    "                            kde=False, \n",
    "                            color='skyblue',\n",
    "                            hist_kws={'lw':15, 'alpha':1})\n",
    "ax.set(xlabel= 'Bernoulli Distribution', ylabel= 'Frequency')"
   ]
  },
  {
   "cell_type": "markdown",
   "metadata": {},
   "source": [
    "# Interval Kepercayaan\n",
    "- seberapa yakin kita bahwa data statistik kita dari sampel telah mewakili populasi atau tidak"
   ]
  },
  {
   "cell_type": "markdown",
   "metadata": {},
   "source": [
    "# Heart Disease"
   ]
  },
  {
   "cell_type": "code",
<<<<<<< HEAD:Sesi 10/Summary 1-new.ipynb
   "execution_count": 40,
=======
   "execution_count": 48,
>>>>>>> parent of fe7868a (sip):Sesi 10/Summary 1.ipynb
   "metadata": {},
   "outputs": [],
   "source": [
    "import pandas as pd\n",
    "import numpy as np"
   ]
  },
  {
   "cell_type": "code",
<<<<<<< HEAD:Sesi 10/Summary 1-new.ipynb
   "execution_count": 41,
=======
   "execution_count": 49,
>>>>>>> parent of fe7868a (sip):Sesi 10/Summary 1.ipynb
   "metadata": {},
   "outputs": [
    {
     "data": {
      "text/html": [
       "<div>\n",
       "<style scoped>\n",
       "    .dataframe tbody tr th:only-of-type {\n",
       "        vertical-align: middle;\n",
       "    }\n",
       "\n",
       "    .dataframe tbody tr th {\n",
       "        vertical-align: top;\n",
       "    }\n",
       "\n",
       "    .dataframe thead th {\n",
       "        text-align: right;\n",
       "    }\n",
       "</style>\n",
       "<table border=\"1\" class=\"dataframe\">\n",
       "  <thead>\n",
       "    <tr style=\"text-align: right;\">\n",
       "      <th></th>\n",
       "      <th>age</th>\n",
       "      <th>sex</th>\n",
       "      <th>cp</th>\n",
       "      <th>trestbps</th>\n",
       "      <th>chol</th>\n",
       "      <th>fbs</th>\n",
       "      <th>restecg</th>\n",
       "      <th>thalach</th>\n",
       "      <th>exang</th>\n",
       "      <th>oldpeak</th>\n",
       "      <th>slope</th>\n",
       "      <th>ca</th>\n",
       "      <th>thal</th>\n",
       "      <th>target</th>\n",
       "    </tr>\n",
       "  </thead>\n",
       "  <tbody>\n",
       "    <tr>\n",
       "      <th>0</th>\n",
       "      <td>52</td>\n",
       "      <td>1</td>\n",
       "      <td>0</td>\n",
       "      <td>125</td>\n",
       "      <td>212</td>\n",
       "      <td>0</td>\n",
       "      <td>1</td>\n",
       "      <td>168</td>\n",
       "      <td>0</td>\n",
       "      <td>1.0</td>\n",
       "      <td>2</td>\n",
       "      <td>2</td>\n",
       "      <td>3</td>\n",
       "      <td>0</td>\n",
       "    </tr>\n",
       "    <tr>\n",
       "      <th>1</th>\n",
       "      <td>53</td>\n",
       "      <td>1</td>\n",
       "      <td>0</td>\n",
       "      <td>140</td>\n",
       "      <td>203</td>\n",
       "      <td>1</td>\n",
       "      <td>0</td>\n",
       "      <td>155</td>\n",
       "      <td>1</td>\n",
       "      <td>3.1</td>\n",
       "      <td>0</td>\n",
       "      <td>0</td>\n",
       "      <td>3</td>\n",
       "      <td>0</td>\n",
       "    </tr>\n",
       "    <tr>\n",
       "      <th>2</th>\n",
       "      <td>70</td>\n",
       "      <td>1</td>\n",
       "      <td>0</td>\n",
       "      <td>145</td>\n",
       "      <td>174</td>\n",
       "      <td>0</td>\n",
       "      <td>1</td>\n",
       "      <td>125</td>\n",
       "      <td>1</td>\n",
       "      <td>2.6</td>\n",
       "      <td>0</td>\n",
       "      <td>0</td>\n",
       "      <td>3</td>\n",
       "      <td>0</td>\n",
       "    </tr>\n",
       "    <tr>\n",
       "      <th>3</th>\n",
       "      <td>61</td>\n",
       "      <td>1</td>\n",
       "      <td>0</td>\n",
       "      <td>148</td>\n",
       "      <td>203</td>\n",
       "      <td>0</td>\n",
       "      <td>1</td>\n",
       "      <td>161</td>\n",
       "      <td>0</td>\n",
       "      <td>0.0</td>\n",
       "      <td>2</td>\n",
       "      <td>1</td>\n",
       "      <td>3</td>\n",
       "      <td>0</td>\n",
       "    </tr>\n",
       "    <tr>\n",
       "      <th>4</th>\n",
       "      <td>62</td>\n",
       "      <td>0</td>\n",
       "      <td>0</td>\n",
       "      <td>138</td>\n",
       "      <td>294</td>\n",
       "      <td>1</td>\n",
       "      <td>1</td>\n",
       "      <td>106</td>\n",
       "      <td>0</td>\n",
       "      <td>1.9</td>\n",
       "      <td>1</td>\n",
       "      <td>3</td>\n",
       "      <td>2</td>\n",
       "      <td>0</td>\n",
       "    </tr>\n",
       "    <tr>\n",
       "      <th>...</th>\n",
       "      <td>...</td>\n",
       "      <td>...</td>\n",
       "      <td>...</td>\n",
       "      <td>...</td>\n",
       "      <td>...</td>\n",
       "      <td>...</td>\n",
       "      <td>...</td>\n",
       "      <td>...</td>\n",
       "      <td>...</td>\n",
       "      <td>...</td>\n",
       "      <td>...</td>\n",
       "      <td>...</td>\n",
       "      <td>...</td>\n",
       "      <td>...</td>\n",
       "    </tr>\n",
       "    <tr>\n",
       "      <th>1020</th>\n",
       "      <td>59</td>\n",
       "      <td>1</td>\n",
       "      <td>1</td>\n",
       "      <td>140</td>\n",
       "      <td>221</td>\n",
       "      <td>0</td>\n",
       "      <td>1</td>\n",
       "      <td>164</td>\n",
       "      <td>1</td>\n",
       "      <td>0.0</td>\n",
       "      <td>2</td>\n",
       "      <td>0</td>\n",
       "      <td>2</td>\n",
       "      <td>1</td>\n",
       "    </tr>\n",
       "    <tr>\n",
       "      <th>1021</th>\n",
       "      <td>60</td>\n",
       "      <td>1</td>\n",
       "      <td>0</td>\n",
       "      <td>125</td>\n",
       "      <td>258</td>\n",
       "      <td>0</td>\n",
       "      <td>0</td>\n",
       "      <td>141</td>\n",
       "      <td>1</td>\n",
       "      <td>2.8</td>\n",
       "      <td>1</td>\n",
       "      <td>1</td>\n",
       "      <td>3</td>\n",
       "      <td>0</td>\n",
       "    </tr>\n",
       "    <tr>\n",
       "      <th>1022</th>\n",
       "      <td>47</td>\n",
       "      <td>1</td>\n",
       "      <td>0</td>\n",
       "      <td>110</td>\n",
       "      <td>275</td>\n",
       "      <td>0</td>\n",
       "      <td>0</td>\n",
       "      <td>118</td>\n",
       "      <td>1</td>\n",
       "      <td>1.0</td>\n",
       "      <td>1</td>\n",
       "      <td>1</td>\n",
       "      <td>2</td>\n",
       "      <td>0</td>\n",
       "    </tr>\n",
       "    <tr>\n",
       "      <th>1023</th>\n",
       "      <td>50</td>\n",
       "      <td>0</td>\n",
       "      <td>0</td>\n",
       "      <td>110</td>\n",
       "      <td>254</td>\n",
       "      <td>0</td>\n",
       "      <td>0</td>\n",
       "      <td>159</td>\n",
       "      <td>0</td>\n",
       "      <td>0.0</td>\n",
       "      <td>2</td>\n",
       "      <td>0</td>\n",
       "      <td>2</td>\n",
       "      <td>1</td>\n",
       "    </tr>\n",
       "    <tr>\n",
       "      <th>1024</th>\n",
       "      <td>54</td>\n",
       "      <td>1</td>\n",
       "      <td>0</td>\n",
       "      <td>120</td>\n",
       "      <td>188</td>\n",
       "      <td>0</td>\n",
       "      <td>1</td>\n",
       "      <td>113</td>\n",
       "      <td>0</td>\n",
       "      <td>1.4</td>\n",
       "      <td>1</td>\n",
       "      <td>1</td>\n",
       "      <td>3</td>\n",
       "      <td>0</td>\n",
       "    </tr>\n",
       "  </tbody>\n",
       "</table>\n",
       "<p>1025 rows × 14 columns</p>\n",
       "</div>"
      ],
      "text/plain": [
       "      age  sex  cp  trestbps  chol  fbs  restecg  thalach  exang  oldpeak  \\\n",
       "0      52    1   0       125   212    0        1      168      0      1.0   \n",
       "1      53    1   0       140   203    1        0      155      1      3.1   \n",
       "2      70    1   0       145   174    0        1      125      1      2.6   \n",
       "3      61    1   0       148   203    0        1      161      0      0.0   \n",
       "4      62    0   0       138   294    1        1      106      0      1.9   \n",
       "...   ...  ...  ..       ...   ...  ...      ...      ...    ...      ...   \n",
       "1020   59    1   1       140   221    0        1      164      1      0.0   \n",
       "1021   60    1   0       125   258    0        0      141      1      2.8   \n",
       "1022   47    1   0       110   275    0        0      118      1      1.0   \n",
       "1023   50    0   0       110   254    0        0      159      0      0.0   \n",
       "1024   54    1   0       120   188    0        1      113      0      1.4   \n",
       "\n",
       "      slope  ca  thal  target  \n",
       "0         2   2     3       0  \n",
       "1         0   0     3       0  \n",
       "2         0   0     3       0  \n",
       "3         2   1     3       0  \n",
       "4         1   3     2       0  \n",
       "...     ...  ..   ...     ...  \n",
       "1020      2   0     2       1  \n",
       "1021      1   1     3       0  \n",
       "1022      1   1     2       0  \n",
       "1023      2   0     2       1  \n",
       "1024      1   1     3       0  \n",
       "\n",
       "[1025 rows x 14 columns]"
      ]
     },
<<<<<<< HEAD:Sesi 10/Summary 1-new.ipynb
     "execution_count": 41,
=======
     "execution_count": 49,
>>>>>>> parent of fe7868a (sip):Sesi 10/Summary 1.ipynb
     "metadata": {},
     "output_type": "execute_result"
    }
   ],
   "source": [
    "df = pd.read_csv('heart.csv')\n",
    "df"
   ]
  },
  {
   "cell_type": "code",
<<<<<<< HEAD:Sesi 10/Summary 1-new.ipynb
   "execution_count": 42,
=======
   "execution_count": 52,
>>>>>>> parent of fe7868a (sip):Sesi 10/Summary 1.ipynb
   "metadata": {},
   "outputs": [],
   "source": [
    "df['Sex1']=df.sex.replace({1:'Male', 0:'Female'})"
   ]
  },
  {
   "cell_type": "code",
<<<<<<< HEAD:Sesi 10/Summary 1-new.ipynb
   "execution_count": 43,
=======
   "execution_count": 53,
>>>>>>> parent of fe7868a (sip):Sesi 10/Summary 1.ipynb
   "metadata": {},
   "outputs": [],
   "source": [
    "# hanya membutuhkan kolom 'target' dan 'Sex1' yang kita buat\n",
    "dx= df[['target', 'Sex1']].dropna()"
   ]
  },
  {
   "cell_type": "code",
<<<<<<< HEAD:Sesi 10/Summary 1-new.ipynb
   "execution_count": 44,
=======
   "execution_count": 54,
>>>>>>> parent of fe7868a (sip):Sesi 10/Summary 1.ipynb
   "metadata": {},
   "outputs": [
    {
     "data": {
      "text/html": [
       "<div>\n",
       "<style scoped>\n",
       "    .dataframe tbody tr th:only-of-type {\n",
       "        vertical-align: middle;\n",
       "    }\n",
       "\n",
       "    .dataframe tbody tr th {\n",
       "        vertical-align: top;\n",
       "    }\n",
       "\n",
       "    .dataframe thead th {\n",
       "        text-align: right;\n",
       "    }\n",
       "</style>\n",
       "<table border=\"1\" class=\"dataframe\">\n",
       "  <thead>\n",
       "    <tr style=\"text-align: right;\">\n",
       "      <th>Sex1</th>\n",
       "      <th>Female</th>\n",
       "      <th>Male</th>\n",
       "    </tr>\n",
       "    <tr>\n",
       "      <th>target</th>\n",
       "      <th></th>\n",
       "      <th></th>\n",
       "    </tr>\n",
       "  </thead>\n",
       "  <tbody>\n",
       "    <tr>\n",
       "      <th>0</th>\n",
       "      <td>86</td>\n",
       "      <td>413</td>\n",
       "    </tr>\n",
       "    <tr>\n",
       "      <th>1</th>\n",
<<<<<<< HEAD:Sesi 10/Summary 1-new.ipynb
       "      <td>0</td>\n",
       "      <td>Male</td>\n",
       "    </tr>\n",
       "    <tr>\n",
       "      <th>2</th>\n",
       "      <td>0</td>\n",
       "      <td>Male</td>\n",
       "    </tr>\n",
       "    <tr>\n",
       "      <th>3</th>\n",
       "      <td>0</td>\n",
       "      <td>Male</td>\n",
       "    </tr>\n",
       "    <tr>\n",
       "      <th>4</th>\n",
       "      <td>0</td>\n",
       "      <td>Female</td>\n",
       "    </tr>\n",
       "    <tr>\n",
       "      <th>...</th>\n",
       "      <td>...</td>\n",
       "      <td>...</td>\n",
       "    </tr>\n",
       "    <tr>\n",
       "      <th>1020</th>\n",
       "      <td>1</td>\n",
       "      <td>Male</td>\n",
       "    </tr>\n",
       "    <tr>\n",
       "      <th>1021</th>\n",
       "      <td>0</td>\n",
       "      <td>Male</td>\n",
       "    </tr>\n",
       "    <tr>\n",
       "      <th>1022</th>\n",
       "      <td>0</td>\n",
       "      <td>Male</td>\n",
       "    </tr>\n",
       "    <tr>\n",
       "      <th>1023</th>\n",
       "      <td>1</td>\n",
       "      <td>Female</td>\n",
       "    </tr>\n",
       "    <tr>\n",
       "      <th>1024</th>\n",
       "      <td>0</td>\n",
       "      <td>Male</td>\n",
       "    </tr>\n",
       "  </tbody>\n",
       "</table>\n",
       "<p>1025 rows × 2 columns</p>\n",
       "</div>"
      ],
      "text/plain": [
       "      target    Sex1\n",
       "0          0    Male\n",
       "1          0    Male\n",
       "2          0    Male\n",
       "3          0    Male\n",
       "4          0  Female\n",
       "...      ...     ...\n",
       "1020       1    Male\n",
       "1021       0    Male\n",
       "1022       0    Male\n",
       "1023       1  Female\n",
       "1024       0    Male\n",
       "\n",
       "[1025 rows x 2 columns]"
      ]
     },
     "execution_count": 44,
     "metadata": {},
     "output_type": "execute_result"
    }
   ],
   "source": [
    "dx"
   ]
  },
  {
   "cell_type": "code",
   "execution_count": 45,
   "metadata": {},
   "outputs": [
    {
     "data": {
      "text/html": [
       "<div>\n",
       "<style scoped>\n",
       "    .dataframe tbody tr th:only-of-type {\n",
       "        vertical-align: middle;\n",
       "    }\n",
       "\n",
       "    .dataframe tbody tr th {\n",
       "        vertical-align: top;\n",
       "    }\n",
       "\n",
       "    .dataframe thead th {\n",
       "        text-align: right;\n",
       "    }\n",
       "</style>\n",
       "<table border=\"1\" class=\"dataframe\">\n",
       "  <thead>\n",
       "    <tr style=\"text-align: right;\">\n",
       "      <th>Sex1</th>\n",
       "      <th>Female</th>\n",
       "      <th>Male</th>\n",
       "    </tr>\n",
       "    <tr>\n",
       "      <th>target</th>\n",
       "      <th></th>\n",
       "      <th></th>\n",
       "    </tr>\n",
       "  </thead>\n",
       "  <tbody>\n",
       "    <tr>\n",
       "      <th>0</th>\n",
       "      <td>86</td>\n",
       "      <td>413</td>\n",
       "    </tr>\n",
       "    <tr>\n",
       "      <th>1</th>\n",
=======
>>>>>>> parent of fe7868a (sip):Sesi 10/Summary 1.ipynb
       "      <td>226</td>\n",
       "      <td>300</td>\n",
       "    </tr>\n",
       "  </tbody>\n",
       "</table>\n",
       "</div>"
      ],
      "text/plain": [
       "Sex1    Female  Male\n",
       "target              \n",
       "0           86   413\n",
       "1          226   300"
      ]
     },
<<<<<<< HEAD:Sesi 10/Summary 1-new.ipynb
     "execution_count": 45,
=======
     "execution_count": 54,
>>>>>>> parent of fe7868a (sip):Sesi 10/Summary 1.ipynb
     "metadata": {},
     "output_type": "execute_result"
    }
   ],
   "source": [
    "# membutuhkan jumlah wanita yang memiliki penyakit jantung\n",
    "pd.crosstab(dx.target, dx.Sex1)"
   ]
  },
  {
   "cell_type": "code",
<<<<<<< HEAD:Sesi 10/Summary 1-new.ipynb
   "execution_count": 46,
=======
   "execution_count": 55,
>>>>>>> parent of fe7868a (sip):Sesi 10/Summary 1.ipynb
   "metadata": {},
   "outputs": [
    {
     "data": {
      "text/plain": [
       "0.7243589743589743"
      ]
     },
<<<<<<< HEAD:Sesi 10/Summary 1-new.ipynb
     "execution_count": 46,
=======
     "execution_count": 55,
>>>>>>> parent of fe7868a (sip):Sesi 10/Summary 1.ipynb
     "metadata": {},
     "output_type": "execute_result"
    }
   ],
   "source": [
    "#proporsi wanita yang memiliki penyakit jantung\n",
    "p_fm = 226/(86+226)\n",
    "p_fm"
   ]
  },
  {
   "cell_type": "code",
<<<<<<< HEAD:Sesi 10/Summary 1-new.ipynb
   "execution_count": 47,
=======
   "execution_count": 56,
>>>>>>> parent of fe7868a (sip):Sesi 10/Summary 1.ipynb
   "metadata": {},
   "outputs": [],
   "source": [
    "#jumlah populasi wanita\n",
    "n = 86+226"
   ]
  },
  {
   "cell_type": "code",
<<<<<<< HEAD:Sesi 10/Summary 1-new.ipynb
   "execution_count": 48,
=======
   "execution_count": 57,
>>>>>>> parent of fe7868a (sip):Sesi 10/Summary 1.ipynb
   "metadata": {},
   "outputs": [
    {
     "data": {
      "text/plain": [
       "0.02529714756803247"
      ]
     },
<<<<<<< HEAD:Sesi 10/Summary 1-new.ipynb
     "execution_count": 48,
=======
     "execution_count": 57,
>>>>>>> parent of fe7868a (sip):Sesi 10/Summary 1.ipynb
     "metadata": {},
     "output_type": "execute_result"
    }
   ],
   "source": [
    "#standart eror\n",
    "se_fm = np.sqrt(p_fm*(1-p_fm)/n)\n",
    "se_fm"
   ]
  },
  {
   "cell_type": "code",
<<<<<<< HEAD:Sesi 10/Summary 1-new.ipynb
   "execution_count": 49,
=======
   "execution_count": 58,
>>>>>>> parent of fe7868a (sip):Sesi 10/Summary 1.ipynb
   "metadata": {},
   "outputs": [
    {
     "data": {
      "text/plain": [
       "(0.6747765651256307, 0.773941383592318)"
      ]
     },
<<<<<<< HEAD:Sesi 10/Summary 1-new.ipynb
     "execution_count": 49,
=======
     "execution_count": 58,
>>>>>>> parent of fe7868a (sip):Sesi 10/Summary 1.ipynb
     "metadata": {},
     "output_type": "execute_result"
    }
   ],
   "source": [
    "#dengan confidence interval =95% maka z_score = 1.96\n",
    "z_score= 1.96\n",
    "lcb= p_fm-z_score*se_fm #batas bawah\n",
    "ucb=p_fm+z_score*se_fm #batas atas\n",
    "lcb, ucb\n",
    "\n",
    "#0.67 - 0.77 maka 95% yakin bahwa 67%-77% wanita di populasi memiliki penyakit jantung"
   ]
  },
  {
   "cell_type": "code",
<<<<<<< HEAD:Sesi 10/Summary 1-new.ipynb
   "execution_count": 50,
=======
   "execution_count": 60,
>>>>>>> parent of fe7868a (sip):Sesi 10/Summary 1.ipynb
   "metadata": {},
   "outputs": [
    {
     "data": {
      "text/plain": [
       "(0.6411313588601475, 0.8075865898578012)"
      ]
     },
<<<<<<< HEAD:Sesi 10/Summary 1-new.ipynb
     "execution_count": 50,
=======
     "execution_count": 60,
>>>>>>> parent of fe7868a (sip):Sesi 10/Summary 1.ipynb
     "metadata": {},
     "output_type": "execute_result"
    }
   ],
   "source": [
    "z_score= 3.29\n",
    "lcb= p_fm-z_score*se_fm #batas bawah\n",
    "ucb=p_fm+z_score*se_fm #batas atas\n",
    "lcb, ucb\n",
    "# CI intervalnya terlalu besar jika z_score 99%"
   ]
  },
  {
   "cell_type": "code",
<<<<<<< HEAD:Sesi 10/Summary 1-new.ipynb
   "execution_count": 51,
=======
   "execution_count": 62,
>>>>>>> parent of fe7868a (sip):Sesi 10/Summary 1.ipynb
   "metadata": {},
   "outputs": [
    {
     "data": {
      "text/plain": [
       "(0.6747774762140357, 0.773940472503913)"
      ]
     },
<<<<<<< HEAD:Sesi 10/Summary 1-new.ipynb
     "execution_count": 51,
=======
     "execution_count": 62,
>>>>>>> parent of fe7868a (sip):Sesi 10/Summary 1.ipynb
     "metadata": {},
     "output_type": "execute_result"
    }
   ],
   "source": [
    "#cara simpel brow\n",
    "import statsmodels.api as sm\n",
    "sm.stats.proportion_confint(n*p_fm,n)"
   ]
  },
  {
   "cell_type": "markdown",
   "metadata": {},
   "source": [
    "# menghitung interval kepercayaan dari mean"
   ]
  },
  {
   "cell_type": "code",
<<<<<<< HEAD:Sesi 10/Summary 1-new.ipynb
   "execution_count": 52,
=======
   "execution_count": 63,
>>>>>>> parent of fe7868a (sip):Sesi 10/Summary 1.ipynb
   "metadata": {},
   "outputs": [
    {
     "data": {
      "text/html": [
       "<div>\n",
       "<style scoped>\n",
       "    .dataframe tbody tr th:only-of-type {\n",
       "        vertical-align: middle;\n",
       "    }\n",
       "\n",
       "    .dataframe tbody tr th {\n",
       "        vertical-align: top;\n",
       "    }\n",
       "\n",
       "    .dataframe thead tr th {\n",
       "        text-align: left;\n",
       "    }\n",
       "\n",
       "    .dataframe thead tr:last-of-type th {\n",
       "        text-align: right;\n",
       "    }\n",
       "</style>\n",
       "<table border=\"1\" class=\"dataframe\">\n",
       "  <thead>\n",
       "    <tr>\n",
       "      <th></th>\n",
       "      <th colspan=\"3\" halign=\"left\">chol</th>\n",
       "    </tr>\n",
       "    <tr>\n",
       "      <th></th>\n",
       "      <th>mean</th>\n",
       "      <th>std</th>\n",
       "      <th>size</th>\n",
       "    </tr>\n",
       "    <tr>\n",
       "      <th>Sex1</th>\n",
       "      <th></th>\n",
       "      <th></th>\n",
       "      <th></th>\n",
       "    </tr>\n",
       "  </thead>\n",
       "  <tbody>\n",
       "    <tr>\n",
       "      <th>Female</th>\n",
       "      <td>261.455128</td>\n",
       "      <td>64.466781</td>\n",
       "      <td>312</td>\n",
       "    </tr>\n",
       "    <tr>\n",
       "      <th>Male</th>\n",
       "      <td>239.237027</td>\n",
       "      <td>43.155535</td>\n",
       "      <td>713</td>\n",
       "    </tr>\n",
       "  </tbody>\n",
       "</table>\n",
       "</div>"
      ],
      "text/plain": [
       "              chol                \n",
       "              mean        std size\n",
       "Sex1                              \n",
       "Female  261.455128  64.466781  312\n",
       "Male    239.237027  43.155535  713"
      ]
     },
<<<<<<< HEAD:Sesi 10/Summary 1-new.ipynb
     "execution_count": 52,
=======
     "execution_count": 63,
>>>>>>> parent of fe7868a (sip):Sesi 10/Summary 1.ipynb
     "metadata": {},
     "output_type": "execute_result"
    }
   ],
   "source": [
    "#mendapatkan mean, sd, population size dan populasi pria serta wanita\n",
    "df.groupby('Sex1').agg({'chol':[np.mean, np.std, np.size]})"
   ]
  },
  {
   "cell_type": "code",
<<<<<<< HEAD:Sesi 10/Summary 1-new.ipynb
   "execution_count": 53,
=======
   "execution_count": 75,
>>>>>>> parent of fe7868a (sip):Sesi 10/Summary 1.ipynb
   "metadata": {},
   "outputs": [],
   "source": [
    "mean_fe=261.45\n",
    "sd = 64.4\n",
    "n = 312\n",
    "z = 1.96"
   ]
  },
  {
   "cell_type": "code",
<<<<<<< HEAD:Sesi 10/Summary 1-new.ipynb
   "execution_count": 54,
=======
   "execution_count": 66,
>>>>>>> parent of fe7868a (sip):Sesi 10/Summary 1.ipynb
   "metadata": {},
   "outputs": [
    {
     "data": {
      "text/plain": [
       "3.6459320499455985"
      ]
     },
<<<<<<< HEAD:Sesi 10/Summary 1-new.ipynb
     "execution_count": 54,
=======
     "execution_count": 66,
>>>>>>> parent of fe7868a (sip):Sesi 10/Summary 1.ipynb
     "metadata": {},
     "output_type": "execute_result"
    }
   ],
   "source": [
    "se = sd/np.sqrt(n)\n",
    "se"
   ]
  },
  {
   "cell_type": "code",
<<<<<<< HEAD:Sesi 10/Summary 1-new.ipynb
   "execution_count": 55,
=======
   "execution_count": 77,
>>>>>>> parent of fe7868a (sip):Sesi 10/Summary 1.ipynb
   "metadata": {},
   "outputs": [
    {
     "data": {
      "text/plain": [
       "(254.3039731821066, 268.59602681789335)"
      ]
     },
<<<<<<< HEAD:Sesi 10/Summary 1-new.ipynb
     "execution_count": 55,
=======
     "execution_count": 77,
>>>>>>> parent of fe7868a (sip):Sesi 10/Summary 1.ipynb
     "metadata": {},
     "output_type": "execute_result"
    }
   ],
   "source": [
    "lcb= mean_fe-z*se #batas bawah\n",
    "ucb=mean_fe+z*se #batas atas\n",
    "lcb, ucb"
   ]
<<<<<<< HEAD:Sesi 10/Summary 1-new.ipynb
  },
  {
   "cell_type": "markdown",
   "metadata": {},
   "source": [
    "#### contoh lain dari CI"
   ]
  },
  {
   "cell_type": "markdown",
   "metadata": {},
   "source": [
    "##### preparasi"
   ]
  },
  {
   "cell_type": "code",
   "execution_count": 56,
   "metadata": {},
   "outputs": [],
   "source": [
    "import pandas as pd\n",
    "import seaborn as sns\n",
    "import scipy.stats as stats\n",
    "import numpy as np\n",
    "import random\n",
    "import warnings\n",
    "import matplotlib.pyplot as plt\n",
    "%matplotlib inline\n",
    "\n",
    "sns.set(rc={'figure.figsize': (13,7.5)})\n",
    "sns.set_context('talk')"
   ]
  },
  {
   "cell_type": "code",
   "execution_count": 57,
   "metadata": {},
   "outputs": [
    {
     "data": {
      "text/html": [
       "<div>\n",
       "<style scoped>\n",
       "    .dataframe tbody tr th:only-of-type {\n",
       "        vertical-align: middle;\n",
       "    }\n",
       "\n",
       "    .dataframe tbody tr th {\n",
       "        vertical-align: top;\n",
       "    }\n",
       "\n",
       "    .dataframe thead th {\n",
       "        text-align: right;\n",
       "    }\n",
       "</style>\n",
       "<table border=\"1\" class=\"dataframe\">\n",
       "  <thead>\n",
       "    <tr style=\"text-align: right;\">\n",
       "      <th></th>\n",
       "      <th>us_people_mass_pounds</th>\n",
       "    </tr>\n",
       "  </thead>\n",
       "  <tbody>\n",
       "    <tr>\n",
       "      <th>0</th>\n",
       "      <td>192.921140</td>\n",
       "    </tr>\n",
       "    <tr>\n",
       "      <th>1</th>\n",
       "      <td>177.681657</td>\n",
       "    </tr>\n",
       "    <tr>\n",
       "      <th>2</th>\n",
       "      <td>196.544525</td>\n",
       "    </tr>\n",
       "    <tr>\n",
       "      <th>3</th>\n",
       "      <td>217.552717</td>\n",
       "    </tr>\n",
       "    <tr>\n",
       "      <th>4</th>\n",
       "      <td>175.380319</td>\n",
       "    </tr>\n",
       "    <tr>\n",
       "      <th>...</th>\n",
       "      <td>...</td>\n",
       "    </tr>\n",
       "    <tr>\n",
       "      <th>12495</th>\n",
       "      <td>120.060669</td>\n",
       "    </tr>\n",
       "    <tr>\n",
       "      <th>12496</th>\n",
       "      <td>152.223744</td>\n",
       "    </tr>\n",
       "    <tr>\n",
       "      <th>12497</th>\n",
       "      <td>148.408843</td>\n",
       "    </tr>\n",
       "    <tr>\n",
       "      <th>12498</th>\n",
       "      <td>127.938558</td>\n",
       "    </tr>\n",
       "    <tr>\n",
       "      <th>12499</th>\n",
       "      <td>106.530316</td>\n",
       "    </tr>\n",
       "  </tbody>\n",
       "</table>\n",
       "<p>12500 rows × 1 columns</p>\n",
       "</div>"
      ],
      "text/plain": [
       "       us_people_mass_pounds\n",
       "0                 192.921140\n",
       "1                 177.681657\n",
       "2                 196.544525\n",
       "3                 217.552717\n",
       "4                 175.380319\n",
       "...                      ...\n",
       "12495             120.060669\n",
       "12496             152.223744\n",
       "12497             148.408843\n",
       "12498             127.938558\n",
       "12499             106.530316\n",
       "\n",
       "[12500 rows x 1 columns]"
      ]
     },
     "execution_count": 57,
     "metadata": {},
     "output_type": "execute_result"
    }
   ],
   "source": [
    "# membuat dua distribusi normal dengan modul numpy random untuk pria dan wanita\n",
    "# menggabungkan dua array dan assign ke kolom\n",
    "np.random.seed(42)\n",
    "normal_distribution_us_male_mass_pounds = np.random.normal(loc=181, scale=24, size= 6000)\n",
    "normal_distribution_us_female_mass_pounds = np.random.normal(loc=132, scale=22, size= 6500)\n",
    "all_mass_values = np.concatenate((normal_distribution_us_male_mass_pounds, normal_distribution_us_female_mass_pounds), axis =0)\n",
    "df_ppl_mass = pd.DataFrame(data={'us_people_mass_pounds': all_mass_values})\n",
    "df_ppl_mass"
   ]
  },
  {
   "cell_type": "markdown",
   "metadata": {},
   "source": [
    "##### VIEW DISTRIBUTION DARI BERAT MASYARAKAT US"
   ]
  },
  {
   "cell_type": "code",
   "execution_count": 58,
   "metadata": {},
   "outputs": [
    {
     "name": "stderr",
     "output_type": "stream",
     "text": [
      "/home/jefl5/.local/lib/python3.8/site-packages/seaborn/distributions.py:2619: FutureWarning: `distplot` is a deprecated function and will be removed in a future version. Please adapt your code to use either `displot` (a figure-level function with similar flexibility) or `histplot` (an axes-level function for histograms).\n",
      "  warnings.warn(msg, FutureWarning)\n"
     ]
    },
    {
     "data": {
      "text/plain": [
       "Text(0.5, 1.015, 'Distribution of Mass od People in U.S')"
      ]
     },
     "execution_count": 58,
     "metadata": {},
     "output_type": "execute_result"
    },
    {
     "data": {
      "image/png": "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",
      "text/plain": [
       "<Figure size 936x540 with 1 Axes>"
      ]
     },
     "metadata": {},
     "output_type": "display_data"
    }
   ],
   "source": [
    "sns.distplot(df_ppl_mass['us_people_mass_pounds'], color='darkslategrey')\n",
    "plt.xlabel('mass [pounds', labelpad=14)\n",
    "plt.ylabel('probability of occurence', labelpad=14)\n",
    "plt.title('Distribution of Mass od People in U.S', y=1.015, fontsize=20)"
   ]
  },
  {
   "cell_type": "code",
   "execution_count": 59,
   "metadata": {},
   "outputs": [],
   "source": [
    "#distribusi sulit untuk dikarakterisasi\n",
    "#puncaknya sekitar 140 pons dan bukan merupakan distribusi normal \n",
    "# karena tidak simetri di nilai pusat"
   ]
  },
  {
   "cell_type": "code",
   "execution_count": 60,
   "metadata": {},
   "outputs": [
    {
     "data": {
      "text/plain": [
       "155.42328059423372"
      ]
     },
     "execution_count": 60,
     "metadata": {},
     "output_type": "execute_result"
    }
   ],
   "source": [
    "#menghitung rata - rata populasi\n",
    "pop_mean_mass = np.mean(df_ppl_mass['us_people_mass_pounds'])\n",
    "pop_mean_mass"
   ]
  },
  {
   "cell_type": "code",
   "execution_count": 61,
   "metadata": {},
   "outputs": [
    {
     "data": {
      "text/plain": [
       "33.58519088395858"
      ]
     },
     "execution_count": 61,
     "metadata": {},
     "output_type": "execute_result"
    }
   ],
   "source": [
    "#menghitung standar deviasi dari populasi\n",
    "pop_std_dev_mass = df_ppl_mass['us_people_mass_pounds'].std()\n",
    "pop_std_dev_mass"
   ]
  },
  {
   "cell_type": "code",
   "execution_count": 62,
   "metadata": {},
   "outputs": [],
   "source": [
    "#mengambil 25 nilai secara acak dari 300 sampel. \n",
    "#setiap sampel akan dihitung rata - ratanya\n",
    "#dan disimpan dalam list sample_means"
   ]
  },
  {
   "cell_type": "code",
   "execution_count": 63,
   "metadata": {},
   "outputs": [],
   "source": [
    "sample_means= []\n",
    "n=25\n",
    "for sample in range (0, 300):\n",
    "    sample_values = np.random.choice(a=df_ppl_mass['us_people_mass_pounds'], size = n)\n",
    "    sample_mean = np.mean(sample_values)\n",
    "    sample_means.append(sample_mean)"
   ]
  },
  {
   "cell_type": "code",
   "execution_count": 64,
   "metadata": {},
   "outputs": [
    {
     "data": {
      "text/plain": [
       "[152.35584985425828,\n",
       " 163.80123733357277,\n",
       " 151.9525590369234,\n",
       " 162.78712648974727,\n",
       " 165.06412049777543,\n",
       " 159.6484207192931,\n",
       " 147.41134120623008,\n",
       " 161.51909781978588,\n",
       " 152.87520628677777,\n",
       " 171.91019849141284,\n",
       " 148.37734430336067,\n",
       " 158.86030838662475,\n",
       " 161.48460294918655,\n",
       " 155.54760339560113,\n",
       " 157.10981541273696,\n",
       " 149.11134996222847,\n",
       " 152.37225849083654,\n",
       " 155.56720357222636,\n",
       " 151.9599212304467,\n",
       " 165.33386047399378,\n",
       " 155.49440070713064,\n",
       " 148.09006279252316,\n",
       " 150.94722820436434,\n",
       " 161.89641449070317,\n",
       " 152.17924867375555,\n",
       " 153.29681304286726,\n",
       " 168.34230894780515,\n",
       " 150.1596131822321,\n",
       " 148.08790733015783,\n",
       " 152.0707118184942,\n",
       " 151.46361937331528,\n",
       " 157.5792473547189,\n",
       " 152.50268745864958,\n",
       " 158.1914704310815,\n",
       " 146.75117833343856,\n",
       " 157.0241233901806,\n",
       " 156.13865920211546,\n",
       " 152.58624877823505,\n",
       " 168.809689653409,\n",
       " 155.3272971405736,\n",
       " 152.89371414452356,\n",
       " 142.96704958963252,\n",
       " 163.55533971384514,\n",
       " 154.87270377355918,\n",
       " 168.90344674104483,\n",
       " 156.10632652940293,\n",
       " 153.59945185861577,\n",
       " 149.95977840663403,\n",
       " 158.81057798800947,\n",
       " 155.49486368211777,\n",
       " 147.56387724723143,\n",
       " 147.80492033281874,\n",
       " 162.644912726937,\n",
       " 158.17556043825493,\n",
       " 166.0769694473989,\n",
       " 145.02969516948033,\n",
       " 155.01433022619815,\n",
       " 147.3553281297785,\n",
       " 152.7894129032927,\n",
       " 156.29309592735999,\n",
       " 148.3056529694206,\n",
       " 151.30386379363983,\n",
       " 146.11000462871868,\n",
       " 148.98460771430672,\n",
       " 153.3774358100979,\n",
       " 165.00649730790997,\n",
       " 153.8015791797312,\n",
       " 155.76096440785898,\n",
       " 144.1887288395867,\n",
       " 149.3390490296397,\n",
       " 163.39730489846932,\n",
       " 164.64587931306076,\n",
       " 157.99209078181337,\n",
       " 152.34770779061088,\n",
       " 157.00491826134083,\n",
       " 152.48545695932341,\n",
       " 150.48247016160786,\n",
       " 148.57120654082192,\n",
       " 154.03974696804553,\n",
       " 156.41226939119923,\n",
       " 162.22173837252828,\n",
       " 161.03109284449494,\n",
       " 152.47459212697262,\n",
       " 157.13316679069197,\n",
       " 150.4481646873015,\n",
       " 151.19999466886136,\n",
       " 164.504401577184,\n",
       " 154.84046523250512,\n",
       " 149.0354972397781,\n",
       " 167.88796600612753,\n",
       " 150.99888927634777,\n",
       " 155.1546483553365,\n",
       " 155.11991801289614,\n",
       " 148.07449667359043,\n",
       " 150.42097177525258,\n",
       " 150.26936204654513,\n",
       " 146.68013841659695,\n",
       " 148.47757748472569,\n",
       " 159.19947452667427,\n",
       " 155.79005236747219,\n",
       " 134.20212214707152,\n",
       " 156.87714990757055,\n",
       " 156.24530290572332,\n",
       " 145.1949183146982,\n",
       " 145.0060517307547,\n",
       " 157.21372557916544,\n",
       " 150.9266314484514,\n",
       " 155.9565748748448,\n",
       " 160.71231867980953,\n",
       " 151.66533735252338,\n",
       " 151.54613556817495,\n",
       " 154.31223756268696,\n",
       " 158.14339303150865,\n",
       " 160.0447330225635,\n",
       " 148.7707114266873,\n",
       " 152.50094554062787,\n",
       " 140.84701337011631,\n",
       " 167.23824789787483,\n",
       " 156.26128316719272,\n",
       " 158.24616451399126,\n",
       " 153.0825936305704,\n",
       " 146.13618454264144,\n",
       " 151.72044320424956,\n",
       " 161.3294403915526,\n",
       " 152.70947515996974,\n",
       " 146.60424294662508,\n",
       " 155.80011501209034,\n",
       " 163.3226712208003,\n",
       " 151.0354468197906,\n",
       " 155.3254286381105,\n",
       " 151.3032846076169,\n",
       " 151.4172662554184,\n",
       " 147.65998565601274,\n",
       " 167.15573173693198,\n",
       " 157.96039334374737,\n",
       " 153.01255745092945,\n",
       " 142.7140923027217,\n",
       " 160.08388024750758,\n",
       " 154.25539078171659,\n",
       " 157.13115955681516,\n",
       " 160.6275497291148,\n",
       " 159.14627759361417,\n",
       " 158.9502869820142,\n",
       " 140.04738100345503,\n",
       " 159.6977163684216,\n",
       " 155.81168760472715,\n",
       " 153.80044670967519,\n",
       " 156.24052400352917,\n",
       " 156.79649771793953,\n",
       " 157.56086472353172,\n",
       " 158.349184190035,\n",
       " 158.32942985761653,\n",
       " 160.58389662356095,\n",
       " 145.13695537642735,\n",
       " 137.09191957903136,\n",
       " 150.15320242775346,\n",
       " 143.1895063547056,\n",
       " 158.7421421982279,\n",
       " 158.9471874383063,\n",
       " 157.04210474761828,\n",
       " 151.22104948875548,\n",
       " 138.4662631231379,\n",
       " 160.0185366642237,\n",
       " 149.92997650476767,\n",
       " 149.41398613928078,\n",
       " 158.62324392218713,\n",
       " 142.98776708220336,\n",
       " 161.85917131186062,\n",
       " 156.86844412882226,\n",
       " 153.0167535623984,\n",
       " 167.11669186019125,\n",
       " 145.2235381363767,\n",
       " 147.87266386600788,\n",
       " 139.11882012413275,\n",
       " 154.86391184471842,\n",
       " 156.49813255854343,\n",
       " 163.89949307424038,\n",
       " 155.05015529805777,\n",
       " 152.2458041173227,\n",
       " 165.25584803195466,\n",
       " 165.52471377259545,\n",
       " 154.7746654863795,\n",
       " 151.00425037812704,\n",
       " 158.42843051610438,\n",
       " 153.21231103796597,\n",
       " 145.47742033080732,\n",
       " 145.8967562225101,\n",
       " 162.1309545455551,\n",
       " 145.50618090577052,\n",
       " 155.18812148162422,\n",
       " 157.21617587909645,\n",
       " 149.82817483526222,\n",
       " 169.46449245984778,\n",
       " 164.82126522677586,\n",
       " 158.70961708588757,\n",
       " 163.26645554526726,\n",
       " 160.40460753160644,\n",
       " 160.8945741021308,\n",
       " 155.99848890056563,\n",
       " 154.8730025802791,\n",
       " 154.56040469713983,\n",
       " 149.53397377135508,\n",
       " 153.62001366091033,\n",
       " 158.96702190142392,\n",
       " 147.20367967105287,\n",
       " 162.13424171157212,\n",
       " 154.68245412230016,\n",
       " 160.4667701756698,\n",
       " 147.22888465698318,\n",
       " 151.95119807367212,\n",
       " 154.49769721771003,\n",
       " 155.8127739134939,\n",
       " 150.1652098684956,\n",
       " 163.647898490603,\n",
       " 156.84150043837656,\n",
       " 155.99192955878368,\n",
       " 161.35694360000204,\n",
       " 163.55348068186555,\n",
       " 155.3904903637463,\n",
       " 163.8392107622162,\n",
       " 153.06919681623785,\n",
       " 150.49369330417784,\n",
       " 161.9570445467471,\n",
       " 159.29090978998497,\n",
       " 155.54070262290597,\n",
       " 155.27622506557572,\n",
       " 152.80338816408167,\n",
       " 161.6766076869111,\n",
       " 155.1786200807793,\n",
       " 145.76524412032492,\n",
       " 150.90742256954576,\n",
       " 149.67506836271343,\n",
       " 172.60415066393347,\n",
       " 162.2514161910033,\n",
       " 156.7313833189117,\n",
       " 143.2053233114136,\n",
       " 150.79639152959,\n",
       " 146.30215801559166,\n",
       " 147.7371479470869,\n",
       " 147.9535405136584,\n",
       " 163.05698226069467,\n",
       " 149.99976015668506,\n",
       " 150.34241309519763,\n",
       " 166.7696510307483,\n",
       " 153.3309479321811,\n",
       " 163.35516667080213,\n",
       " 151.30551136886007,\n",
       " 143.07126144314566,\n",
       " 152.59527144548613,\n",
       " 159.36470494455324,\n",
       " 147.64028606104628,\n",
       " 157.39155285754876,\n",
       " 164.7288853066793,\n",
       " 156.9731982057795,\n",
       " 159.52502881173032,\n",
       " 158.34146351180473,\n",
       " 147.70443504937427,\n",
       " 168.37652753237774,\n",
       " 160.81713986632448,\n",
       " 150.0032208832932,\n",
       " 144.54908362382338,\n",
       " 152.66924952231744,\n",
       " 145.46780696541734,\n",
       " 161.5026996441027,\n",
       " 157.29624219858965,\n",
       " 152.13924147962945,\n",
       " 150.44673356891653,\n",
       " 149.71528882870308,\n",
       " 160.6901125497329,\n",
       " 164.90995762185025,\n",
       " 148.7591550107131,\n",
       " 157.57103990120558,\n",
       " 153.2846187496574,\n",
       " 152.90499612008648,\n",
       " 165.6576816089383,\n",
       " 174.1506787385927,\n",
       " 155.38600819452628,\n",
       " 157.40015706765342,\n",
       " 144.02912639853218,\n",
       " 147.97234368828623,\n",
       " 161.17051815484757,\n",
       " 164.7385394107931,\n",
       " 159.0121991653139,\n",
       " 162.98581140366005,\n",
       " 147.6695129992915,\n",
       " 158.0475876692586,\n",
       " 169.2121825877284,\n",
       " 170.13157024190318,\n",
       " 155.6149712441924,\n",
       " 158.30785381377777,\n",
       " 154.99188136825057,\n",
       " 157.71847145866965,\n",
       " 158.7249626774171,\n",
       " 155.51441330899263,\n",
       " 157.8611049274975,\n",
       " 148.75958016301385,\n",
       " 157.2728345876606,\n",
       " 161.98400391926452,\n",
       " 164.03885214438938,\n",
       " 159.13489059719439]"
      ]
     },
     "execution_count": 64,
     "metadata": {},
     "output_type": "execute_result"
    }
   ],
   "source": [
    "sample_means"
   ]
  },
  {
   "cell_type": "code",
   "execution_count": 65,
   "metadata": {},
   "outputs": [
    {
     "name": "stderr",
     "output_type": "stream",
     "text": [
      "/home/jefl5/.local/lib/python3.8/site-packages/seaborn/distributions.py:2619: FutureWarning: `distplot` is a deprecated function and will be removed in a future version. Please adapt your code to use either `displot` (a figure-level function with similar flexibility) or `histplot` (an axes-level function for histograms).\n",
      "  warnings.warn(msg, FutureWarning)\n"
     ]
    },
    {
     "data": {
      "image/png": "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",
      "text/plain": [
       "<Figure size 936x540 with 1 Axes>"
      ]
     },
     "metadata": {},
     "output_type": "display_data"
    }
   ],
   "source": [
    "sns.distplot(sample_means, color='darkslategrey')\n",
    "plt.title(\"Distribution of Sample Means ($n=25$) of People's Mass in Pounds\", y=1.015, fontsize=20, color='darkslategrey')\n",
    "plt.xlabel('Sample mean mass [pounds]', labelpad=14)\n",
    "plt.ylabel('Frequency of occurence', labelpad=14);"
   ]
  },
  {
   "cell_type": "code",
   "execution_count": 66,
   "metadata": {},
   "outputs": [],
   "source": [
    "#distribusi terlihat normal\n",
    "#kurva cukup simetris di sekitar nilai tengah\n",
    "#nilai tengah setara dengan median\n",
    "#berdasarkan central limit theorem\n",
    "#apabila sampel dengan jumlah yang cukup dengan ukuran yang memadai akan menghasilkan distribusi means yang normal"
   ]
  },
  {
   "cell_type": "markdown",
   "metadata": {},
   "source": [
    "##### penjelasan distribusi sampling (n=25) secara ringkasan statistik"
   ]
  },
  {
   "cell_type": "code",
   "execution_count": 67,
   "metadata": {},
   "outputs": [],
   "source": [
    "#cerita bagaimana sample dapat divisualisasikan seperi data sebelumnya adalah sebagai berikt"
   ]
  },
  {
   "cell_type": "code",
   "execution_count": 68,
   "metadata": {},
   "outputs": [
    {
     "data": {
      "text/plain": [
       "155.3008268518431"
      ]
     },
     "execution_count": 68,
     "metadata": {},
     "output_type": "execute_result"
    }
   ],
   "source": [
    "#menghitung median dari sample means\n",
    "median_of_sample_median = np.median(sample_means)\n",
    "median_of_sample_median"
   ]
  },
  {
   "cell_type": "code",
   "execution_count": 69,
   "metadata": {},
   "outputs": [
    {
     "data": {
      "text/plain": [
       "155.12418330193915"
      ]
     },
     "execution_count": 69,
     "metadata": {},
     "output_type": "execute_result"
    }
   ],
   "source": [
    "#menghitunng means dari sample means\n",
    "mean_of_sample_means = np.mean(sample_means)\n",
    "mean_of_sample_means"
   ]
  },
  {
   "cell_type": "code",
   "execution_count": 70,
   "metadata": {},
   "outputs": [
    {
     "data": {
      "text/plain": [
       "155.42328059423372"
      ]
     },
     "execution_count": 70,
     "metadata": {},
     "output_type": "execute_result"
    }
   ],
   "source": [
    "pop_mean_mass"
   ]
  },
  {
   "cell_type": "code",
   "execution_count": 71,
   "metadata": {},
   "outputs": [],
   "source": [
    "# nilai means dari sample of means sama (mirip) dengan populasi dari mean\n",
    "#hal itu terjadi berdasarkan central limit theorem\n",
    "#dan akan selalu terjadu"
   ]
  },
  {
   "cell_type": "code",
   "execution_count": 72,
   "metadata": {},
   "outputs": [
    {
     "data": {
      "text/plain": [
       "6.734407481483423"
      ]
     },
     "execution_count": 72,
     "metadata": {},
     "output_type": "execute_result"
    }
   ],
   "source": [
    "#menghitung SD dari sample means\n",
    "std_dev_of_sample_means = np.std(sample_means)\n",
    "std_dev_of_sample_means"
   ]
  },
  {
   "cell_type": "markdown",
   "metadata": {},
   "source": [
    "##### persamaan untuk SD dari distribusi sampling"
   ]
  },
  {
   "cell_type": "code",
   "execution_count": 73,
   "metadata": {},
   "outputs": [
    {
     "data": {
      "text/plain": [
       "6.717038176791716"
      ]
     },
     "execution_count": 73,
     "metadata": {},
     "output_type": "execute_result"
    }
   ],
   "source": [
    "standard_error = pop_std_dev_mass/np.sqrt(n)\n",
    "standard_error"
   ]
  },
  {
   "cell_type": "code",
   "execution_count": 74,
   "metadata": {},
   "outputs": [
    {
     "data": {
      "text/plain": [
       "6.734407481483423"
      ]
     },
     "execution_count": 74,
     "metadata": {},
     "output_type": "execute_result"
    }
   ],
   "source": [
    "std_dev_of_sample_means"
   ]
  },
  {
   "cell_type": "code",
   "execution_count": 75,
   "metadata": {},
   "outputs": [],
   "source": [
    "#niai SD sama dengan yang dihitung sebelumnya std"
   ]
  },
  {
   "cell_type": "markdown",
   "metadata": {},
   "source": [
    "##### critical z-scores"
   ]
  },
  {
   "cell_type": "markdown",
   "metadata": {},
   "source": [
    "- 95% nilai akan berada dalam 2 SD dari mean.\n",
    "- menghitung z-score yang tepat yang mengikat 95% data\n",
    "- pada setiap ujung (kepala atau ekor) harus 2,5% atau 0,025 dari total area under the curve dari sampling distribution"
   ]
  },
  {
   "cell_type": "markdown",
   "metadata": {},
   "source": [
    "- z-core yang digunakan yaitu 1,96 untuk menghitung ekor 0,02"
   ]
  },
  {
   "cell_type": "code",
   "execution_count": 76,
   "metadata": {},
   "outputs": [
    {
     "data": {
      "text/plain": [
       "0.024997895148220484"
      ]
     },
     "execution_count": 76,
     "metadata": {},
     "output_type": "execute_result"
    }
   ],
   "source": [
    "tail = 1-stats.norm.cdf(1.96)\n",
    "tail"
   ]
  },
  {
   "cell_type": "code",
   "execution_count": 77,
   "metadata": {},
   "outputs": [
    {
     "data": {
      "text/plain": [
       "0.950004209703559"
      ]
     },
     "execution_count": 77,
     "metadata": {},
     "output_type": "execute_result"
    }
   ],
   "source": [
    "#menghitung apakah area di bawah kurva antara skor kritis-z adalah sekitar 0,95\n",
    "1-(tail*2)"
   ]
  },
  {
   "cell_type": "code",
   "execution_count": 78,
   "metadata": {},
   "outputs": [],
   "source": [
    "#menghitung batas yang tepat untuk area dimana 95% mean sampel berada dari mean populasi"
   ]
  },
  {
   "cell_type": "code",
   "execution_count": 79,
   "metadata": {},
   "outputs": [
    {
     "data": {
      "text/plain": [
       "141.95878847542738"
      ]
     },
     "execution_count": 79,
     "metadata": {},
     "output_type": "execute_result"
    }
   ],
   "source": [
    "lower_95_perc_bound = mean_of_sample_means-1.96*standard_error\n",
    "lower_95_perc_bound"
   ]
  },
  {
   "cell_type": "code",
   "execution_count": 80,
   "metadata": {},
   "outputs": [
    {
     "data": {
      "text/plain": [
       "168.28957812845093"
      ]
     },
     "execution_count": 80,
     "metadata": {},
     "output_type": "execute_result"
    }
   ],
   "source": [
    "upper_95_perc_bound = mean_of_sample_means + 1.96*standard_error\n",
    "upper_95_perc_bound"
   ]
  },
  {
   "cell_type": "code",
   "execution_count": 81,
   "metadata": {},
   "outputs": [
    {
     "data": {
      "image/png": "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",
      "text/plain": [
       "<Figure size 936x540 with 1 Axes>"
      ]
     },
     "metadata": {},
     "output_type": "display_data"
    }
   ],
   "source": [
    "kde = stats.gaussian_kde(sample_means)\n",
    "pos = np.linspace(np.min(sample_means), np.max(sample_means), 10000)\n",
    "plt.plot(pos, kde(pos), color='teal')\n",
    "shade= np.linspace(lower_95_perc_bound, upper_95_perc_bound, 300)\n",
    "plt.fill_between(shade, kde(shade), alpha=0.45, color='teal')\n",
    "plt.text(x=154, \n",
    "                y=.01, \n",
    "                horizontalalignment='center', \n",
    "                fontsize=17, \n",
    "                s='95% of sample means fal within\\nthis shaded area of plus or minus\\n1.96 z-scores from the mean',\n",
    "                bbox=dict(facecolor='whitesmoke', boxstyle='round, pad =0.1'))\n",
    "plt.title(\"Distribusi of sample means ($n=25$) of people's Mass in Pounds\",y=1.015, fontsize=20 )\n",
    "plt.xlabel('sample mean mass [pounds]', labelpad =14)\n",
    "plt.ylabel('frequency of occurence', labelpad=14);"
   ]
  },
  {
   "cell_type": "markdown",
   "metadata": {},
   "source": [
    "### Hypothesis Testing"
   ]
  },
  {
   "cell_type": "markdown",
   "metadata": {},
   "source": [
    "#### teori"
   ]
  },
  {
   "cell_type": "markdown",
   "metadata": {},
   "source": [
    "- hipotesis adalah jawaban sementara terhadap masalah yang sifatnya masih belum tentu atau praduga\n",
    "- hal ini karena masih harus dibuktikan kebenarannya\n",
    "- hipotesis harus dapat diuji\n",
    "- dapat berupa dengan eksperimen ataupun observasi.\n",
    "- adapun contoh - contoh hipotesis:\n",
    "    - obat baru yang menurut Anda mungkin berhasil\n",
    "    - cara mengajar yang menurut Anda mungkin lebih baik\n",
    "    - kemungkinan lokasi spesies baru\n",
    "    - cara yang lebih adil untuk mengelola tes standar\n",
    "----\n",
    "- hipotesis diajukan dalam bentuk pertanyaan\n",
    "- pertanyaan hipotesis yang baik harus:\n",
    "    - terdapat pernyataan 'if' dan 'then'\n",
    "    - terdapat variabel terikat dan tidak terikat\n",
    "    - dapat diuji dengan percobaan, survei atau metode saintifik\n",
    "    - berdasarkan informasi dari penelitian sebelumnya\n",
    "    - memiliki kriteria\n",
    "---\n",
    "- HIPOTESIS TESTING dalam statistik adalah suatu cara untuk menguji hasil survei dan melihat apakah memiliki hasil yang signifikan\n",
    "-menguji apakah hasil kita terjadi secara kebetulan atau tidak\n",
    "- jika terjadi secara tidak kebetulan maka dapat diulang dan begitupula sebaliknya\n",
    "---\n",
    "- NULL HIOTESIS - merupakan fakta yang dapat diterima\n",
    "- harus mengetahui null hipotesis \n",
    "- gambarkan null hipotesis\n",
    "- hipotesis nol dinyatakan\n",
    "- pilih tes yang dibutuhkan\n",
    "- baik mendukung atau tidak pada null hipotesis\n",
    "---\n"
   ]
  },
  {
   "cell_type": "markdown",
   "metadata": {},
   "source": [
    "#### contoh dasar"
   ]
  },
  {
   "cell_type": "markdown",
   "metadata": {},
   "source": [
    "- Jika pasien melakukan transplantasi 2 kali seminggu bukan 3x maka pemulihannya akan lebih lama. Waktu pemulihan rata - rata sekitar 8.2 minggu\n",
    "- maka H1 rata- rata sembuh >8.2 - hipotesis nul H0 rata-rata < 8.2"
   ]
  },
  {
   "cell_type": "markdown",
   "metadata": {},
   "source": [
    "#### statistical test interpretation"
   ]
  },
  {
   "cell_type": "markdown",
   "metadata": {},
   "source": [
    "##### teori"
   ]
  },
  {
   "cell_type": "markdown",
   "metadata": {},
   "source": [
    "- hasil uji hipotesis statistik harus diinterpretasikan supaya dapat membuat klaim\n",
    "- terdapat 2 bentuk umum:\n",
    "    - p-value\n",
    "    - critical values"
   ]
  },
  {
   "cell_type": "markdown",
   "metadata": {},
   "source": [
    "##### interpretation p-value"
   ]
  },
  {
   "cell_type": "markdown",
   "metadata": {},
   "source": [
    "- untuk mengukur hasil tes apakah reject atau gagal atau reject the null hipotesis\n",
    "- membandingkan p-value dengan nilai ambang yang dipilih yang sebelumnya disebut sebagai significance level\n",
    "- significance level = greek lower case letter - alpha\n",
    "- umumnya digunakan 0,05 atau 5%\n",
    "- alpha yang lebih kecil maka interpretasi yang lebih kuat dari null hypotesis\n",
    "- p-vallue dibandingkan dengan alpha-velue yang dipilih\n",
    "- hasil signifikan secara statistik adalah saat p-value lebih rendah dari alpha, maka default hipothesis dapat ditolak"
   ]
  },
  {
   "cell_type": "markdown",
   "metadata": {},
   "source": [
    "#### perhitungan studi kasus"
   ]
  },
  {
   "cell_type": "code",
   "execution_count": 82,
   "metadata": {},
   "outputs": [],
   "source": [
    "import statsmodels.api as sm\n",
    "import numpy as np\n",
    "import matplotlib.pyplot as plt\n",
    "import pandas as pd"
   ]
  },
  {
   "cell_type": "markdown",
   "metadata": {},
   "source": [
    "##### ONE POPULATION PROPORTION"
   ]
  },
  {
   "cell_type": "markdown",
   "metadata": {},
   "source": [
    "- Research Question : pada tahun sebelumya 52% orangtua percaya bahwa elektronik dan media sosial adalah penyebab kurang tidur remaja mereka, apakah saat ini semakin banyak orang tua karena hal tersebut?\n",
    "- Populasi: orang tua yang memiliki 25 remaja (13-18 tahun)\n",
    "- Parameter of Interest : p\n",
    "- Null Hypothesis:  p=0.52\n",
    "- Alternative Hypothesis : p>0.52\n",
    "- Data : 1018 orang yang disurvei, 56% percaya hal tersebut"
   ]
  },
  {
   "cell_type": "markdown",
   "metadata": {},
   "source": [
    "----\n",
    "menggunakan proporsi zeta tes dari statsmodels"
   ]
  },
  {
   "cell_type": "code",
   "execution_count": 83,
   "metadata": {},
   "outputs": [],
   "source": [
    "n = 1018\n",
    "pnull = .52\n",
    "phat = .56"
   ]
  },
  {
   "cell_type": "code",
   "execution_count": 84,
   "metadata": {},
   "outputs": [
    {
     "data": {
      "text/plain": [
       "(2.571067795759113, 0.005069273865860533)"
      ]
     },
     "execution_count": 84,
     "metadata": {},
     "output_type": "execute_result"
    }
   ],
   "source": [
    "sm.stats.proportions_ztest(phat*n, n, pnull, alternative='larger')"
   ]
  },
  {
   "cell_type": "markdown",
   "metadata": {},
   "source": [
    "---\n",
    "kesimpulan tes hipotesis"
   ]
  },
  {
   "cell_type": "markdown",
   "metadata": {},
   "source": [
    "- karena nilai p value dibandingkan z test kecil, kita dapat menolak null hipotesis yang menyatakan bahwa orangtua yang percaya tetap sama yaitu sebesar 52%\n",
    "- maka ada kemungkinan bahwa besar proporsinya lebih dari 52%"
   ]
  },
  {
   "cell_type": "markdown",
   "metadata": {},
   "source": [
    "##### difference in population means"
   ]
  },
  {
   "cell_type": "markdown",
   "metadata": {},
   "source": [
    "- Research Question : memperbandingkan data NHANES, apakah pria memiliki Body Mass Index rata - rata yaleng lebih tingggi secara signifikan daripada wanita?\n",
    "- Population : Orang dewasa berdasarkan data NHANES\n",
    "- parameter of interest : rata21 - rata22, Body mass index\n",
    "- null hipotesis: rata21 = rata22\n",
    "- alternative hipotesis: rata21 =/ rata22\n",
    "- data: 2976 females, rata21 = 29,94, sd1=7.75, \n",
    "- data: 2759 male, rata22 = 28.78, sd2 = 6.25\n",
    "- data rata21-rata22 = 1.16"
   ]
  },
  {
   "cell_type": "code",
   "execution_count": 85,
   "metadata": {},
   "outputs": [
    {
     "data": {
      "text/html": [
       "<div>\n",
       "<style scoped>\n",
       "    .dataframe tbody tr th:only-of-type {\n",
       "        vertical-align: middle;\n",
       "    }\n",
       "\n",
       "    .dataframe tbody tr th {\n",
       "        vertical-align: top;\n",
       "    }\n",
       "\n",
       "    .dataframe thead th {\n",
       "        text-align: right;\n",
       "    }\n",
       "</style>\n",
       "<table border=\"1\" class=\"dataframe\">\n",
       "  <thead>\n",
       "    <tr style=\"text-align: right;\">\n",
       "      <th></th>\n",
       "      <th>SEQN</th>\n",
       "      <th>ALQ101</th>\n",
       "      <th>ALQ110</th>\n",
       "      <th>ALQ130</th>\n",
       "      <th>SMQ020</th>\n",
       "      <th>RIAGENDR</th>\n",
       "      <th>RIDAGEYR</th>\n",
       "      <th>RIDRETH1</th>\n",
       "      <th>DMDCITZN</th>\n",
       "      <th>DMDEDUC2</th>\n",
       "      <th>...</th>\n",
       "      <th>BPXSY2</th>\n",
       "      <th>BPXDI2</th>\n",
       "      <th>BMXWT</th>\n",
       "      <th>BMXHT</th>\n",
       "      <th>BMXBMI</th>\n",
       "      <th>BMXLEG</th>\n",
       "      <th>BMXARML</th>\n",
       "      <th>BMXARMC</th>\n",
       "      <th>BMXWAIST</th>\n",
       "      <th>HIQ210</th>\n",
       "    </tr>\n",
       "  </thead>\n",
       "  <tbody>\n",
       "    <tr>\n",
       "      <th>0</th>\n",
       "      <td>83732</td>\n",
       "      <td>1.0</td>\n",
       "      <td>NaN</td>\n",
       "      <td>1.0</td>\n",
       "      <td>1</td>\n",
       "      <td>1</td>\n",
       "      <td>62</td>\n",
       "      <td>3</td>\n",
       "      <td>1.0</td>\n",
       "      <td>5.0</td>\n",
       "      <td>...</td>\n",
       "      <td>124.0</td>\n",
       "      <td>64.0</td>\n",
       "      <td>94.8</td>\n",
       "      <td>184.5</td>\n",
       "      <td>27.8</td>\n",
       "      <td>43.3</td>\n",
       "      <td>43.6</td>\n",
       "      <td>35.9</td>\n",
       "      <td>101.1</td>\n",
       "      <td>2.0</td>\n",
       "    </tr>\n",
       "    <tr>\n",
       "      <th>1</th>\n",
       "      <td>83733</td>\n",
       "      <td>1.0</td>\n",
       "      <td>NaN</td>\n",
       "      <td>6.0</td>\n",
       "      <td>1</td>\n",
       "      <td>1</td>\n",
       "      <td>53</td>\n",
       "      <td>3</td>\n",
       "      <td>2.0</td>\n",
       "      <td>3.0</td>\n",
       "      <td>...</td>\n",
       "      <td>140.0</td>\n",
       "      <td>88.0</td>\n",
       "      <td>90.4</td>\n",
       "      <td>171.4</td>\n",
       "      <td>30.8</td>\n",
       "      <td>38.0</td>\n",
       "      <td>40.0</td>\n",
       "      <td>33.2</td>\n",
       "      <td>107.9</td>\n",
       "      <td>NaN</td>\n",
       "    </tr>\n",
       "    <tr>\n",
       "      <th>2</th>\n",
       "      <td>83734</td>\n",
       "      <td>1.0</td>\n",
       "      <td>NaN</td>\n",
       "      <td>NaN</td>\n",
       "      <td>1</td>\n",
       "      <td>1</td>\n",
       "      <td>78</td>\n",
       "      <td>3</td>\n",
       "      <td>1.0</td>\n",
       "      <td>3.0</td>\n",
       "      <td>...</td>\n",
       "      <td>132.0</td>\n",
       "      <td>44.0</td>\n",
       "      <td>83.4</td>\n",
       "      <td>170.1</td>\n",
       "      <td>28.8</td>\n",
       "      <td>35.6</td>\n",
       "      <td>37.0</td>\n",
       "      <td>31.0</td>\n",
       "      <td>116.5</td>\n",
       "      <td>2.0</td>\n",
       "    </tr>\n",
       "    <tr>\n",
       "      <th>3</th>\n",
       "      <td>83735</td>\n",
       "      <td>2.0</td>\n",
       "      <td>1.0</td>\n",
       "      <td>1.0</td>\n",
       "      <td>2</td>\n",
       "      <td>2</td>\n",
       "      <td>56</td>\n",
       "      <td>3</td>\n",
       "      <td>1.0</td>\n",
       "      <td>5.0</td>\n",
       "      <td>...</td>\n",
       "      <td>134.0</td>\n",
       "      <td>68.0</td>\n",
       "      <td>109.8</td>\n",
       "      <td>160.9</td>\n",
       "      <td>42.4</td>\n",
       "      <td>38.5</td>\n",
       "      <td>37.7</td>\n",
       "      <td>38.3</td>\n",
       "      <td>110.1</td>\n",
       "      <td>2.0</td>\n",
       "    </tr>\n",
       "    <tr>\n",
       "      <th>4</th>\n",
       "      <td>83736</td>\n",
       "      <td>2.0</td>\n",
       "      <td>1.0</td>\n",
       "      <td>1.0</td>\n",
       "      <td>2</td>\n",
       "      <td>2</td>\n",
       "      <td>42</td>\n",
       "      <td>4</td>\n",
       "      <td>1.0</td>\n",
       "      <td>4.0</td>\n",
       "      <td>...</td>\n",
       "      <td>114.0</td>\n",
       "      <td>54.0</td>\n",
       "      <td>55.2</td>\n",
       "      <td>164.9</td>\n",
       "      <td>20.3</td>\n",
       "      <td>37.4</td>\n",
       "      <td>36.0</td>\n",
       "      <td>27.2</td>\n",
       "      <td>80.4</td>\n",
       "      <td>2.0</td>\n",
       "    </tr>\n",
       "  </tbody>\n",
       "</table>\n",
       "<p>5 rows × 28 columns</p>\n",
       "</div>"
      ],
      "text/plain": [
       "    SEQN  ALQ101  ALQ110  ALQ130  SMQ020  RIAGENDR  RIDAGEYR  RIDRETH1  \\\n",
       "0  83732     1.0     NaN     1.0       1         1        62         3   \n",
       "1  83733     1.0     NaN     6.0       1         1        53         3   \n",
       "2  83734     1.0     NaN     NaN       1         1        78         3   \n",
       "3  83735     2.0     1.0     1.0       2         2        56         3   \n",
       "4  83736     2.0     1.0     1.0       2         2        42         4   \n",
       "\n",
       "   DMDCITZN  DMDEDUC2  ...  BPXSY2  BPXDI2  BMXWT  BMXHT  BMXBMI  BMXLEG  \\\n",
       "0       1.0       5.0  ...   124.0    64.0   94.8  184.5    27.8    43.3   \n",
       "1       2.0       3.0  ...   140.0    88.0   90.4  171.4    30.8    38.0   \n",
       "2       1.0       3.0  ...   132.0    44.0   83.4  170.1    28.8    35.6   \n",
       "3       1.0       5.0  ...   134.0    68.0  109.8  160.9    42.4    38.5   \n",
       "4       1.0       4.0  ...   114.0    54.0   55.2  164.9    20.3    37.4   \n",
       "\n",
       "   BMXARML  BMXARMC  BMXWAIST  HIQ210  \n",
       "0     43.6     35.9     101.1     2.0  \n",
       "1     40.0     33.2     107.9     NaN  \n",
       "2     37.0     31.0     116.5     2.0  \n",
       "3     37.7     38.3     110.1     2.0  \n",
       "4     36.0     27.2      80.4     2.0  \n",
       "\n",
       "[5 rows x 28 columns]"
      ]
     },
     "execution_count": 85,
     "metadata": {},
     "output_type": "execute_result"
    }
   ],
   "source": [
    "url='https://raw.githubusercontent.com/kshedden/statswpy/master/NHANES/merged/nhanes_2015_2016.csv'\n",
    "da = pd.read_csv(url)\n",
    "da.head()"
   ]
  },
  {
   "cell_type": "code",
   "execution_count": 86,
   "metadata": {},
   "outputs": [],
   "source": [
    "females=da[da['RIAGENDR']==2]\n",
    "male = da[da['RIAGENDR']==1]"
   ]
  },
  {
   "cell_type": "code",
   "execution_count": 87,
   "metadata": {},
   "outputs": [
    {
     "data": {
      "text/html": [
       "<div>\n",
       "<style scoped>\n",
       "    .dataframe tbody tr th:only-of-type {\n",
       "        vertical-align: middle;\n",
       "    }\n",
       "\n",
       "    .dataframe tbody tr th {\n",
       "        vertical-align: top;\n",
       "    }\n",
       "\n",
       "    .dataframe thead th {\n",
       "        text-align: right;\n",
       "    }\n",
       "</style>\n",
       "<table border=\"1\" class=\"dataframe\">\n",
       "  <thead>\n",
       "    <tr style=\"text-align: right;\">\n",
       "      <th></th>\n",
       "      <th>SEQN</th>\n",
       "      <th>ALQ101</th>\n",
       "      <th>ALQ110</th>\n",
       "      <th>ALQ130</th>\n",
       "      <th>SMQ020</th>\n",
       "      <th>RIAGENDR</th>\n",
       "      <th>RIDAGEYR</th>\n",
       "      <th>RIDRETH1</th>\n",
       "      <th>DMDCITZN</th>\n",
       "      <th>DMDEDUC2</th>\n",
       "      <th>...</th>\n",
       "      <th>BPXSY2</th>\n",
       "      <th>BPXDI2</th>\n",
       "      <th>BMXWT</th>\n",
       "      <th>BMXHT</th>\n",
       "      <th>BMXBMI</th>\n",
       "      <th>BMXLEG</th>\n",
       "      <th>BMXARML</th>\n",
       "      <th>BMXARMC</th>\n",
       "      <th>BMXWAIST</th>\n",
       "      <th>HIQ210</th>\n",
       "    </tr>\n",
       "  </thead>\n",
       "  <tbody>\n",
       "    <tr>\n",
       "      <th>3</th>\n",
       "      <td>83735</td>\n",
       "      <td>2.0</td>\n",
       "      <td>1.0</td>\n",
       "      <td>1.0</td>\n",
       "      <td>2</td>\n",
       "      <td>2</td>\n",
       "      <td>56</td>\n",
       "      <td>3</td>\n",
       "      <td>1.0</td>\n",
       "      <td>5.0</td>\n",
       "      <td>...</td>\n",
       "      <td>134.0</td>\n",
       "      <td>68.0</td>\n",
       "      <td>109.8</td>\n",
       "      <td>160.9</td>\n",
       "      <td>42.4</td>\n",
       "      <td>38.5</td>\n",
       "      <td>37.7</td>\n",
       "      <td>38.3</td>\n",
       "      <td>110.1</td>\n",
       "      <td>2.0</td>\n",
       "    </tr>\n",
       "    <tr>\n",
       "      <th>4</th>\n",
       "      <td>83736</td>\n",
       "      <td>2.0</td>\n",
       "      <td>1.0</td>\n",
       "      <td>1.0</td>\n",
       "      <td>2</td>\n",
       "      <td>2</td>\n",
       "      <td>42</td>\n",
       "      <td>4</td>\n",
       "      <td>1.0</td>\n",
       "      <td>4.0</td>\n",
       "      <td>...</td>\n",
       "      <td>114.0</td>\n",
       "      <td>54.0</td>\n",
       "      <td>55.2</td>\n",
       "      <td>164.9</td>\n",
       "      <td>20.3</td>\n",
       "      <td>37.4</td>\n",
       "      <td>36.0</td>\n",
       "      <td>27.2</td>\n",
       "      <td>80.4</td>\n",
       "      <td>2.0</td>\n",
       "    </tr>\n",
       "    <tr>\n",
       "      <th>5</th>\n",
       "      <td>83737</td>\n",
       "      <td>2.0</td>\n",
       "      <td>2.0</td>\n",
       "      <td>NaN</td>\n",
       "      <td>2</td>\n",
       "      <td>2</td>\n",
       "      <td>72</td>\n",
       "      <td>1</td>\n",
       "      <td>2.0</td>\n",
       "      <td>2.0</td>\n",
       "      <td>...</td>\n",
       "      <td>122.0</td>\n",
       "      <td>58.0</td>\n",
       "      <td>64.4</td>\n",
       "      <td>150.0</td>\n",
       "      <td>28.6</td>\n",
       "      <td>34.4</td>\n",
       "      <td>33.5</td>\n",
       "      <td>31.4</td>\n",
       "      <td>92.9</td>\n",
       "      <td>NaN</td>\n",
       "    </tr>\n",
       "    <tr>\n",
       "      <th>7</th>\n",
       "      <td>83742</td>\n",
       "      <td>1.0</td>\n",
       "      <td>NaN</td>\n",
       "      <td>1.0</td>\n",
       "      <td>2</td>\n",
       "      <td>2</td>\n",
       "      <td>32</td>\n",
       "      <td>1</td>\n",
       "      <td>2.0</td>\n",
       "      <td>4.0</td>\n",
       "      <td>...</td>\n",
       "      <td>114.0</td>\n",
       "      <td>70.0</td>\n",
       "      <td>64.5</td>\n",
       "      <td>151.3</td>\n",
       "      <td>28.2</td>\n",
       "      <td>34.1</td>\n",
       "      <td>33.1</td>\n",
       "      <td>31.5</td>\n",
       "      <td>93.3</td>\n",
       "      <td>2.0</td>\n",
       "    </tr>\n",
       "    <tr>\n",
       "      <th>12</th>\n",
       "      <td>83752</td>\n",
       "      <td>1.0</td>\n",
       "      <td>NaN</td>\n",
       "      <td>2.0</td>\n",
       "      <td>1</td>\n",
       "      <td>2</td>\n",
       "      <td>30</td>\n",
       "      <td>2</td>\n",
       "      <td>1.0</td>\n",
       "      <td>4.0</td>\n",
       "      <td>...</td>\n",
       "      <td>104.0</td>\n",
       "      <td>50.0</td>\n",
       "      <td>71.2</td>\n",
       "      <td>163.6</td>\n",
       "      <td>26.6</td>\n",
       "      <td>37.3</td>\n",
       "      <td>35.7</td>\n",
       "      <td>31.0</td>\n",
       "      <td>90.7</td>\n",
       "      <td>2.0</td>\n",
       "    </tr>\n",
       "    <tr>\n",
       "      <th>...</th>\n",
       "      <td>...</td>\n",
       "      <td>...</td>\n",
       "      <td>...</td>\n",
       "      <td>...</td>\n",
       "      <td>...</td>\n",
       "      <td>...</td>\n",
       "      <td>...</td>\n",
       "      <td>...</td>\n",
       "      <td>...</td>\n",
       "      <td>...</td>\n",
       "      <td>...</td>\n",
       "      <td>...</td>\n",
       "      <td>...</td>\n",
       "      <td>...</td>\n",
       "      <td>...</td>\n",
       "      <td>...</td>\n",
       "      <td>...</td>\n",
       "      <td>...</td>\n",
       "      <td>...</td>\n",
       "      <td>...</td>\n",
       "      <td>...</td>\n",
       "    </tr>\n",
       "    <tr>\n",
       "      <th>5724</th>\n",
       "      <td>93682</td>\n",
       "      <td>NaN</td>\n",
       "      <td>NaN</td>\n",
       "      <td>NaN</td>\n",
       "      <td>2</td>\n",
       "      <td>2</td>\n",
       "      <td>41</td>\n",
       "      <td>5</td>\n",
       "      <td>1.0</td>\n",
       "      <td>5.0</td>\n",
       "      <td>...</td>\n",
       "      <td>122.0</td>\n",
       "      <td>84.0</td>\n",
       "      <td>58.2</td>\n",
       "      <td>166.9</td>\n",
       "      <td>20.9</td>\n",
       "      <td>37.1</td>\n",
       "      <td>35.3</td>\n",
       "      <td>26.9</td>\n",
       "      <td>80.8</td>\n",
       "      <td>2.0</td>\n",
       "    </tr>\n",
       "    <tr>\n",
       "      <th>5727</th>\n",
       "      <td>93689</td>\n",
       "      <td>2.0</td>\n",
       "      <td>1.0</td>\n",
       "      <td>NaN</td>\n",
       "      <td>2</td>\n",
       "      <td>2</td>\n",
       "      <td>69</td>\n",
       "      <td>1</td>\n",
       "      <td>1.0</td>\n",
       "      <td>1.0</td>\n",
       "      <td>...</td>\n",
       "      <td>166.0</td>\n",
       "      <td>64.0</td>\n",
       "      <td>64.8</td>\n",
       "      <td>151.9</td>\n",
       "      <td>28.1</td>\n",
       "      <td>32.2</td>\n",
       "      <td>32.6</td>\n",
       "      <td>28.7</td>\n",
       "      <td>101.1</td>\n",
       "      <td>2.0</td>\n",
       "    </tr>\n",
       "    <tr>\n",
       "      <th>5730</th>\n",
       "      <td>93695</td>\n",
       "      <td>2.0</td>\n",
       "      <td>2.0</td>\n",
       "      <td>NaN</td>\n",
       "      <td>1</td>\n",
       "      <td>2</td>\n",
       "      <td>76</td>\n",
       "      <td>3</td>\n",
       "      <td>1.0</td>\n",
       "      <td>3.0</td>\n",
       "      <td>...</td>\n",
       "      <td>112.0</td>\n",
       "      <td>46.0</td>\n",
       "      <td>59.1</td>\n",
       "      <td>165.8</td>\n",
       "      <td>21.5</td>\n",
       "      <td>38.2</td>\n",
       "      <td>37.0</td>\n",
       "      <td>29.5</td>\n",
       "      <td>95.0</td>\n",
       "      <td>2.0</td>\n",
       "    </tr>\n",
       "    <tr>\n",
       "      <th>5732</th>\n",
       "      <td>93697</td>\n",
       "      <td>1.0</td>\n",
       "      <td>NaN</td>\n",
       "      <td>1.0</td>\n",
       "      <td>1</td>\n",
       "      <td>2</td>\n",
       "      <td>80</td>\n",
       "      <td>3</td>\n",
       "      <td>1.0</td>\n",
       "      <td>4.0</td>\n",
       "      <td>...</td>\n",
       "      <td>146.0</td>\n",
       "      <td>58.0</td>\n",
       "      <td>71.7</td>\n",
       "      <td>152.2</td>\n",
       "      <td>31.0</td>\n",
       "      <td>31.3</td>\n",
       "      <td>37.5</td>\n",
       "      <td>28.8</td>\n",
       "      <td>NaN</td>\n",
       "      <td>2.0</td>\n",
       "    </tr>\n",
       "    <tr>\n",
       "      <th>5734</th>\n",
       "      <td>93702</td>\n",
       "      <td>1.0</td>\n",
       "      <td>NaN</td>\n",
       "      <td>2.0</td>\n",
       "      <td>2</td>\n",
       "      <td>2</td>\n",
       "      <td>24</td>\n",
       "      <td>3</td>\n",
       "      <td>1.0</td>\n",
       "      <td>5.0</td>\n",
       "      <td>...</td>\n",
       "      <td>114.0</td>\n",
       "      <td>68.0</td>\n",
       "      <td>58.3</td>\n",
       "      <td>165.0</td>\n",
       "      <td>21.4</td>\n",
       "      <td>38.2</td>\n",
       "      <td>33.5</td>\n",
       "      <td>26.2</td>\n",
       "      <td>72.5</td>\n",
       "      <td>2.0</td>\n",
       "    </tr>\n",
       "  </tbody>\n",
       "</table>\n",
       "<p>2976 rows × 28 columns</p>\n",
       "</div>"
      ],
      "text/plain": [
       "       SEQN  ALQ101  ALQ110  ALQ130  SMQ020  RIAGENDR  RIDAGEYR  RIDRETH1  \\\n",
       "3     83735     2.0     1.0     1.0       2         2        56         3   \n",
       "4     83736     2.0     1.0     1.0       2         2        42         4   \n",
       "5     83737     2.0     2.0     NaN       2         2        72         1   \n",
       "7     83742     1.0     NaN     1.0       2         2        32         1   \n",
       "12    83752     1.0     NaN     2.0       1         2        30         2   \n",
       "...     ...     ...     ...     ...     ...       ...       ...       ...   \n",
       "5724  93682     NaN     NaN     NaN       2         2        41         5   \n",
       "5727  93689     2.0     1.0     NaN       2         2        69         1   \n",
       "5730  93695     2.0     2.0     NaN       1         2        76         3   \n",
       "5732  93697     1.0     NaN     1.0       1         2        80         3   \n",
       "5734  93702     1.0     NaN     2.0       2         2        24         3   \n",
       "\n",
       "      DMDCITZN  DMDEDUC2  ...  BPXSY2  BPXDI2  BMXWT  BMXHT  BMXBMI  BMXLEG  \\\n",
       "3          1.0       5.0  ...   134.0    68.0  109.8  160.9    42.4    38.5   \n",
       "4          1.0       4.0  ...   114.0    54.0   55.2  164.9    20.3    37.4   \n",
       "5          2.0       2.0  ...   122.0    58.0   64.4  150.0    28.6    34.4   \n",
       "7          2.0       4.0  ...   114.0    70.0   64.5  151.3    28.2    34.1   \n",
       "12         1.0       4.0  ...   104.0    50.0   71.2  163.6    26.6    37.3   \n",
       "...        ...       ...  ...     ...     ...    ...    ...     ...     ...   \n",
       "5724       1.0       5.0  ...   122.0    84.0   58.2  166.9    20.9    37.1   \n",
       "5727       1.0       1.0  ...   166.0    64.0   64.8  151.9    28.1    32.2   \n",
       "5730       1.0       3.0  ...   112.0    46.0   59.1  165.8    21.5    38.2   \n",
       "5732       1.0       4.0  ...   146.0    58.0   71.7  152.2    31.0    31.3   \n",
       "5734       1.0       5.0  ...   114.0    68.0   58.3  165.0    21.4    38.2   \n",
       "\n",
       "      BMXARML  BMXARMC  BMXWAIST  HIQ210  \n",
       "3        37.7     38.3     110.1     2.0  \n",
       "4        36.0     27.2      80.4     2.0  \n",
       "5        33.5     31.4      92.9     NaN  \n",
       "7        33.1     31.5      93.3     2.0  \n",
       "12       35.7     31.0      90.7     2.0  \n",
       "...       ...      ...       ...     ...  \n",
       "5724     35.3     26.9      80.8     2.0  \n",
       "5727     32.6     28.7     101.1     2.0  \n",
       "5730     37.0     29.5      95.0     2.0  \n",
       "5732     37.5     28.8       NaN     2.0  \n",
       "5734     33.5     26.2      72.5     2.0  \n",
       "\n",
       "[2976 rows x 28 columns]"
      ]
     },
     "execution_count": 87,
     "metadata": {},
     "output_type": "execute_result"
    }
   ],
   "source": [
    "females"
   ]
  },
  {
   "cell_type": "code",
   "execution_count": 88,
   "metadata": {},
   "outputs": [
    {
     "data": {
      "text/plain": [
       "(2976, 29.93994565217392, 7.753318809545674)"
      ]
     },
     "execution_count": 88,
     "metadata": {},
     "output_type": "execute_result"
    }
   ],
   "source": [
    "n1 = len(females)\n",
    "mu1 = females['BMXBMI'].mean()\n",
    "sd1 = females['BMXBMI'].std()\n",
    "(n1, mu1, sd1)"
   ]
  },
  {
   "cell_type": "code",
   "execution_count": 89,
   "metadata": {},
   "outputs": [
    {
     "data": {
      "text/plain": [
       "(2759, 28.778072111846942, 6.2525676168014614)"
      ]
     },
     "execution_count": 89,
     "metadata": {},
     "output_type": "execute_result"
    }
   ],
   "source": [
    "n2 = len(male)\n",
    "mu2 = male['BMXBMI'].mean()\n",
    "sd2 = male['BMXBMI'].std()\n",
    "(n2, mu2, sd2)"
   ]
  },
  {
   "cell_type": "code",
   "execution_count": 90,
   "metadata": {},
   "outputs": [
    {
     "data": {
      "text/plain": [
       "(6.1755933531383205, 6.591544431126401e-10)"
      ]
     },
     "execution_count": 90,
     "metadata": {},
     "output_type": "execute_result"
    }
   ],
   "source": [
    "sm.stats.ztest(females['BMXBMI'].dropna(), male['BMXBMI'].dropna(), alternative='two-sided')"
   ]
  },
  {
   "cell_type": "markdown",
   "metadata": {},
   "source": [
    "----\n",
    "kesimpulan\n",
    "- karena p-value sangat kecil kita dapat menolak hipotesis bahwa rata-rata laki-laki sama dengan perempuan\n",
    "- kita menggunakan alternative ='two-sided' dalam z-test karena berguna untuk memeriksa ketidaksamaan"
   ]
  },
  {
   "cell_type": "code",
   "execution_count": 91,
   "metadata": {},
   "outputs": [
    {
     "data": {
      "text/plain": [
       "<function matplotlib.pyplot.show(close=None, block=None)>"
      ]
     },
     "execution_count": 91,
     "metadata": {},
     "output_type": "execute_result"
    },
    {
     "data": {
      "image/png": "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",
      "text/plain": [
       "<Figure size 504x288 with 1 Axes>"
      ]
     },
     "metadata": {},
     "output_type": "display_data"
    },
    {
     "data": {
      "image/png": "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",
      "text/plain": [
       "<Figure size 504x288 with 1 Axes>"
      ]
     },
     "metadata": {},
     "output_type": "display_data"
    }
   ],
   "source": [
    "plt.figure(figsize=(7,4))\n",
    "plt.title('Female BMI histogram', fontsize=16)\n",
    "plt.hist(females['BMXBMI'].dropna(),edgecolor='k', color='pink', bins=25)\n",
    "plt.show\n",
    "\n",
    "plt.figure(figsize=(7,4))\n",
    "plt.title('Male BMI histogram', fontsize=16)\n",
    "plt.hist(male['BMXBMI'].dropna(),edgecolor='k', color='blue', bins=25)\n",
    "plt.show"
   ]
  },
  {
   "cell_type": "markdown",
   "metadata": {},
   "source": [
    "##### Hypotesis Testing for One Proportion"
   ]
  },
  {
   "cell_type": "code",
   "execution_count": 92,
   "metadata": {},
   "outputs": [
    {
     "data": {
      "text/html": [
       "<div>\n",
       "<style scoped>\n",
       "    .dataframe tbody tr th:only-of-type {\n",
       "        vertical-align: middle;\n",
       "    }\n",
       "\n",
       "    .dataframe tbody tr th {\n",
       "        vertical-align: top;\n",
       "    }\n",
       "\n",
       "    .dataframe thead th {\n",
       "        text-align: right;\n",
       "    }\n",
       "</style>\n",
       "<table border=\"1\" class=\"dataframe\">\n",
       "  <thead>\n",
       "    <tr style=\"text-align: right;\">\n",
       "      <th></th>\n",
       "      <th>age</th>\n",
       "      <th>sex</th>\n",
       "      <th>cp</th>\n",
       "      <th>trestbps</th>\n",
       "      <th>chol</th>\n",
       "      <th>fbs</th>\n",
       "      <th>restecg</th>\n",
       "      <th>thalach</th>\n",
       "      <th>exang</th>\n",
       "      <th>oldpeak</th>\n",
       "      <th>slope</th>\n",
       "      <th>ca</th>\n",
       "      <th>thal</th>\n",
       "      <th>target</th>\n",
       "    </tr>\n",
       "  </thead>\n",
       "  <tbody>\n",
       "    <tr>\n",
       "      <th>0</th>\n",
       "      <td>52</td>\n",
       "      <td>1</td>\n",
       "      <td>0</td>\n",
       "      <td>125</td>\n",
       "      <td>212</td>\n",
       "      <td>0</td>\n",
       "      <td>1</td>\n",
       "      <td>168</td>\n",
       "      <td>0</td>\n",
       "      <td>1.0</td>\n",
       "      <td>2</td>\n",
       "      <td>2</td>\n",
       "      <td>3</td>\n",
       "      <td>0</td>\n",
       "    </tr>\n",
       "    <tr>\n",
       "      <th>1</th>\n",
       "      <td>53</td>\n",
       "      <td>1</td>\n",
       "      <td>0</td>\n",
       "      <td>140</td>\n",
       "      <td>203</td>\n",
       "      <td>1</td>\n",
       "      <td>0</td>\n",
       "      <td>155</td>\n",
       "      <td>1</td>\n",
       "      <td>3.1</td>\n",
       "      <td>0</td>\n",
       "      <td>0</td>\n",
       "      <td>3</td>\n",
       "      <td>0</td>\n",
       "    </tr>\n",
       "    <tr>\n",
       "      <th>2</th>\n",
       "      <td>70</td>\n",
       "      <td>1</td>\n",
       "      <td>0</td>\n",
       "      <td>145</td>\n",
       "      <td>174</td>\n",
       "      <td>0</td>\n",
       "      <td>1</td>\n",
       "      <td>125</td>\n",
       "      <td>1</td>\n",
       "      <td>2.6</td>\n",
       "      <td>0</td>\n",
       "      <td>0</td>\n",
       "      <td>3</td>\n",
       "      <td>0</td>\n",
       "    </tr>\n",
       "    <tr>\n",
       "      <th>3</th>\n",
       "      <td>61</td>\n",
       "      <td>1</td>\n",
       "      <td>0</td>\n",
       "      <td>148</td>\n",
       "      <td>203</td>\n",
       "      <td>0</td>\n",
       "      <td>1</td>\n",
       "      <td>161</td>\n",
       "      <td>0</td>\n",
       "      <td>0.0</td>\n",
       "      <td>2</td>\n",
       "      <td>1</td>\n",
       "      <td>3</td>\n",
       "      <td>0</td>\n",
       "    </tr>\n",
       "    <tr>\n",
       "      <th>4</th>\n",
       "      <td>62</td>\n",
       "      <td>0</td>\n",
       "      <td>0</td>\n",
       "      <td>138</td>\n",
       "      <td>294</td>\n",
       "      <td>1</td>\n",
       "      <td>1</td>\n",
       "      <td>106</td>\n",
       "      <td>0</td>\n",
       "      <td>1.9</td>\n",
       "      <td>1</td>\n",
       "      <td>3</td>\n",
       "      <td>2</td>\n",
       "      <td>0</td>\n",
       "    </tr>\n",
       "    <tr>\n",
       "      <th>...</th>\n",
       "      <td>...</td>\n",
       "      <td>...</td>\n",
       "      <td>...</td>\n",
       "      <td>...</td>\n",
       "      <td>...</td>\n",
       "      <td>...</td>\n",
       "      <td>...</td>\n",
       "      <td>...</td>\n",
       "      <td>...</td>\n",
       "      <td>...</td>\n",
       "      <td>...</td>\n",
       "      <td>...</td>\n",
       "      <td>...</td>\n",
       "      <td>...</td>\n",
       "    </tr>\n",
       "    <tr>\n",
       "      <th>1020</th>\n",
       "      <td>59</td>\n",
       "      <td>1</td>\n",
       "      <td>1</td>\n",
       "      <td>140</td>\n",
       "      <td>221</td>\n",
       "      <td>0</td>\n",
       "      <td>1</td>\n",
       "      <td>164</td>\n",
       "      <td>1</td>\n",
       "      <td>0.0</td>\n",
       "      <td>2</td>\n",
       "      <td>0</td>\n",
       "      <td>2</td>\n",
       "      <td>1</td>\n",
       "    </tr>\n",
       "    <tr>\n",
       "      <th>1021</th>\n",
       "      <td>60</td>\n",
       "      <td>1</td>\n",
       "      <td>0</td>\n",
       "      <td>125</td>\n",
       "      <td>258</td>\n",
       "      <td>0</td>\n",
       "      <td>0</td>\n",
       "      <td>141</td>\n",
       "      <td>1</td>\n",
       "      <td>2.8</td>\n",
       "      <td>1</td>\n",
       "      <td>1</td>\n",
       "      <td>3</td>\n",
       "      <td>0</td>\n",
       "    </tr>\n",
       "    <tr>\n",
       "      <th>1022</th>\n",
       "      <td>47</td>\n",
       "      <td>1</td>\n",
       "      <td>0</td>\n",
       "      <td>110</td>\n",
       "      <td>275</td>\n",
       "      <td>0</td>\n",
       "      <td>0</td>\n",
       "      <td>118</td>\n",
       "      <td>1</td>\n",
       "      <td>1.0</td>\n",
       "      <td>1</td>\n",
       "      <td>1</td>\n",
       "      <td>2</td>\n",
       "      <td>0</td>\n",
       "    </tr>\n",
       "    <tr>\n",
       "      <th>1023</th>\n",
       "      <td>50</td>\n",
       "      <td>0</td>\n",
       "      <td>0</td>\n",
       "      <td>110</td>\n",
       "      <td>254</td>\n",
       "      <td>0</td>\n",
       "      <td>0</td>\n",
       "      <td>159</td>\n",
       "      <td>0</td>\n",
       "      <td>0.0</td>\n",
       "      <td>2</td>\n",
       "      <td>0</td>\n",
       "      <td>2</td>\n",
       "      <td>1</td>\n",
       "    </tr>\n",
       "    <tr>\n",
       "      <th>1024</th>\n",
       "      <td>54</td>\n",
       "      <td>1</td>\n",
       "      <td>0</td>\n",
       "      <td>120</td>\n",
       "      <td>188</td>\n",
       "      <td>0</td>\n",
       "      <td>1</td>\n",
       "      <td>113</td>\n",
       "      <td>0</td>\n",
       "      <td>1.4</td>\n",
       "      <td>1</td>\n",
       "      <td>1</td>\n",
       "      <td>3</td>\n",
       "      <td>0</td>\n",
       "    </tr>\n",
       "  </tbody>\n",
       "</table>\n",
       "<p>1025 rows × 14 columns</p>\n",
       "</div>"
      ],
      "text/plain": [
       "      age  sex  cp  trestbps  chol  fbs  restecg  thalach  exang  oldpeak  \\\n",
       "0      52    1   0       125   212    0        1      168      0      1.0   \n",
       "1      53    1   0       140   203    1        0      155      1      3.1   \n",
       "2      70    1   0       145   174    0        1      125      1      2.6   \n",
       "3      61    1   0       148   203    0        1      161      0      0.0   \n",
       "4      62    0   0       138   294    1        1      106      0      1.9   \n",
       "...   ...  ...  ..       ...   ...  ...      ...      ...    ...      ...   \n",
       "1020   59    1   1       140   221    0        1      164      1      0.0   \n",
       "1021   60    1   0       125   258    0        0      141      1      2.8   \n",
       "1022   47    1   0       110   275    0        0      118      1      1.0   \n",
       "1023   50    0   0       110   254    0        0      159      0      0.0   \n",
       "1024   54    1   0       120   188    0        1      113      0      1.4   \n",
       "\n",
       "      slope  ca  thal  target  \n",
       "0         2   2     3       0  \n",
       "1         0   0     3       0  \n",
       "2         0   0     3       0  \n",
       "3         2   1     3       0  \n",
       "4         1   3     2       0  \n",
       "...     ...  ..   ...     ...  \n",
       "1020      2   0     2       1  \n",
       "1021      1   1     3       0  \n",
       "1022      1   1     2       0  \n",
       "1023      2   0     2       1  \n",
       "1024      1   1     3       0  \n",
       "\n",
       "[1025 rows x 14 columns]"
      ]
     },
     "execution_count": 92,
     "metadata": {},
     "output_type": "execute_result"
    }
   ],
   "source": [
    "import pandas as pd\n",
    "import numpy as np\n",
    "import statsmodels.api as sm\n",
    "import scipy.stats.distributions as dist\n",
    "df = pd.read_csv('Heart.csv')\n",
    "df"
   ]
  },
  {
   "cell_type": "markdown",
   "metadata": {},
   "source": [
    "- Research Question: 'target' pada kolom terakhir di dalam data yang menunjukan apakah menderita penyakit jantung atau tidak. Proporsi penduduk irlandia yang menderita penyakit jantung adalah 42%. Apakah lebih banyak orang yang menderita penyakit jantung di AS?\n",
    "-  STEP 1 = menentukan null hipotesis dan alternative hipotesis\n",
    "- null hypothesis:\n",
    "    - Ho: p0=0.42 #null hypothesis\n",
    "    - Ha: p> .42 #alternative hypothesis\n",
    "- STEP 2 = diasumsikan dataset diatas adalah sample representativ dari populasi di US. Sehingga kita dapat menghitung 'population proportion of the US yang mempunyai penyakit jantung\n",
    "- STEP 3 = menghitung tes statistik\n",
    "- STEP 4 = menghitung p-value atau z-score\n",
    "- STEP 5 = mebuat kesimpulan dari p-value\n",
    "    - mempertimbangkan signifikansi level alpha adalah 5% atau 0.05.\n",
    "    - tingkat signifikansi kurang dari samadengan 5% berarti memiliki kemungkinan bahwa 95% hasilnya tidak acak\n",
    "    - karena pvalue lebih rendah dari signifikasi level maka kita dapat menolak null hipotesis"
   ]
  },
  {
   "cell_type": "code",
   "execution_count": 93,
   "metadata": {},
   "outputs": [
    {
     "data": {
      "text/html": [
       "<div>\n",
       "<style scoped>\n",
       "    .dataframe tbody tr th:only-of-type {\n",
       "        vertical-align: middle;\n",
       "    }\n",
       "\n",
       "    .dataframe tbody tr th {\n",
       "        vertical-align: top;\n",
       "    }\n",
       "\n",
       "    .dataframe thead th {\n",
       "        text-align: right;\n",
       "    }\n",
       "</style>\n",
       "<table border=\"1\" class=\"dataframe\">\n",
       "  <thead>\n",
       "    <tr style=\"text-align: right;\">\n",
       "      <th></th>\n",
       "      <th>age</th>\n",
       "      <th>sex</th>\n",
       "      <th>cp</th>\n",
       "      <th>trestbps</th>\n",
       "      <th>chol</th>\n",
       "      <th>fbs</th>\n",
       "      <th>restecg</th>\n",
       "      <th>thalach</th>\n",
       "      <th>exang</th>\n",
       "      <th>oldpeak</th>\n",
       "      <th>slope</th>\n",
       "      <th>ca</th>\n",
       "      <th>thal</th>\n",
       "      <th>target</th>\n",
       "    </tr>\n",
       "  </thead>\n",
       "  <tbody>\n",
       "    <tr>\n",
       "      <th>0</th>\n",
       "      <td>52</td>\n",
       "      <td>1</td>\n",
       "      <td>0</td>\n",
       "      <td>125</td>\n",
       "      <td>212</td>\n",
       "      <td>0</td>\n",
       "      <td>1</td>\n",
       "      <td>168</td>\n",
       "      <td>0</td>\n",
       "      <td>1.0</td>\n",
       "      <td>2</td>\n",
       "      <td>2</td>\n",
       "      <td>3</td>\n",
       "      <td>0</td>\n",
       "    </tr>\n",
       "    <tr>\n",
       "      <th>1</th>\n",
       "      <td>53</td>\n",
       "      <td>1</td>\n",
       "      <td>0</td>\n",
       "      <td>140</td>\n",
       "      <td>203</td>\n",
       "      <td>1</td>\n",
       "      <td>0</td>\n",
       "      <td>155</td>\n",
       "      <td>1</td>\n",
       "      <td>3.1</td>\n",
       "      <td>0</td>\n",
       "      <td>0</td>\n",
       "      <td>3</td>\n",
       "      <td>0</td>\n",
       "    </tr>\n",
       "    <tr>\n",
       "      <th>2</th>\n",
       "      <td>70</td>\n",
       "      <td>1</td>\n",
       "      <td>0</td>\n",
       "      <td>145</td>\n",
       "      <td>174</td>\n",
       "      <td>0</td>\n",
       "      <td>1</td>\n",
       "      <td>125</td>\n",
       "      <td>1</td>\n",
       "      <td>2.6</td>\n",
       "      <td>0</td>\n",
       "      <td>0</td>\n",
       "      <td>3</td>\n",
       "      <td>0</td>\n",
       "    </tr>\n",
       "    <tr>\n",
       "      <th>3</th>\n",
       "      <td>61</td>\n",
       "      <td>1</td>\n",
       "      <td>0</td>\n",
       "      <td>148</td>\n",
       "      <td>203</td>\n",
       "      <td>0</td>\n",
       "      <td>1</td>\n",
       "      <td>161</td>\n",
       "      <td>0</td>\n",
       "      <td>0.0</td>\n",
       "      <td>2</td>\n",
       "      <td>1</td>\n",
       "      <td>3</td>\n",
       "      <td>0</td>\n",
       "    </tr>\n",
       "    <tr>\n",
       "      <th>4</th>\n",
       "      <td>62</td>\n",
       "      <td>0</td>\n",
       "      <td>0</td>\n",
       "      <td>138</td>\n",
       "      <td>294</td>\n",
       "      <td>1</td>\n",
       "      <td>1</td>\n",
       "      <td>106</td>\n",
       "      <td>0</td>\n",
       "      <td>1.9</td>\n",
       "      <td>1</td>\n",
       "      <td>3</td>\n",
       "      <td>2</td>\n",
       "      <td>0</td>\n",
       "    </tr>\n",
       "  </tbody>\n",
       "</table>\n",
       "</div>"
      ],
      "text/plain": [
       "   age  sex  cp  trestbps  chol  fbs  restecg  thalach  exang  oldpeak  slope  \\\n",
       "0   52    1   0       125   212    0        1      168      0      1.0      2   \n",
       "1   53    1   0       140   203    1        0      155      1      3.1      0   \n",
       "2   70    1   0       145   174    0        1      125      1      2.6      0   \n",
       "3   61    1   0       148   203    0        1      161      0      0.0      2   \n",
       "4   62    0   0       138   294    1        1      106      0      1.9      1   \n",
       "\n",
       "   ca  thal  target  \n",
       "0   2     3       0  \n",
       "1   0     3       0  \n",
       "2   0     3       0  \n",
       "3   1     3       0  \n",
       "4   3     2       0  "
      ]
     },
     "execution_count": 93,
     "metadata": {},
     "output_type": "execute_result"
    }
   ],
   "source": [
    "df.head()"
   ]
  },
  {
   "cell_type": "code",
   "execution_count": 94,
   "metadata": {},
   "outputs": [
    {
     "data": {
      "text/plain": [
       "526"
      ]
     },
     "execution_count": 94,
     "metadata": {},
     "output_type": "execute_result"
    }
   ],
   "source": [
    "sakit= df[df['target']==1]\n",
    "len(sakit)"
   ]
  },
  {
   "cell_type": "code",
   "execution_count": 95,
   "metadata": {},
   "outputs": [
    {
     "data": {
      "text/plain": [
       "0.5131707317073171"
      ]
     },
     "execution_count": 95,
     "metadata": {},
     "output_type": "execute_result"
    }
   ],
   "source": [
    "#step 2\n",
    "p_us=len(sakit)/len(df)\n",
    "p_us"
   ]
  },
  {
   "cell_type": "code",
   "execution_count": 96,
   "metadata": {},
   "outputs": [],
   "source": [
    "#yang sakit sebanyak 51%, melebihi nilai null hypotesis yang sebesar 42%"
   ]
  },
  {
   "cell_type": "code",
   "execution_count": 97,
   "metadata": {},
   "outputs": [
    {
     "data": {
      "text/plain": [
       "0.015416177755376521"
      ]
     },
     "execution_count": 97,
     "metadata": {},
     "output_type": "execute_result"
    }
   ],
   "source": [
    "se = np.sqrt(0.42*(1-0.42)/len(df))\n",
    "se"
   ]
  },
  {
   "cell_type": "code",
   "execution_count": 98,
   "metadata": {},
   "outputs": [
    {
     "data": {
      "text/plain": [
       "0.5131707317073171"
      ]
     },
     "execution_count": 98,
     "metadata": {},
     "output_type": "execute_result"
    }
   ],
   "source": [
    "#step 3\n",
    "#estimasi terbaik\n",
    "be=p_us\n",
    "be"
   ]
  },
  {
   "cell_type": "code",
   "execution_count": 99,
   "metadata": {},
   "outputs": [
    {
     "data": {
      "text/plain": [
       "6.04369858636477"
      ]
     },
     "execution_count": 99,
     "metadata": {},
     "output_type": "execute_result"
    }
   ],
   "source": [
    "\n",
    "#estimasi hipotesis\n",
    "he=0.42\n",
    "test_stat = (be-he)/se\n",
    "test_stat"
   ]
  },
  {
   "cell_type": "code",
   "execution_count": 100,
   "metadata": {},
   "outputs": [
    {
     "data": {
      "text/plain": [
       "1.5062078087269162e-09"
      ]
     },
     "execution_count": 100,
     "metadata": {},
     "output_type": "execute_result"
    }
   ],
   "source": [
    "#step 4 menghitung p-value\n",
    "pvalue= 2*dist.norm.cdf(-np.abs(test_stat))\n",
    "pvalue"
   ]
  },
  {
   "cell_type": "code",
   "execution_count": 101,
   "metadata": {},
   "outputs": [],
   "source": [
    "#step 5 mengambil kesimpulan\n",
    "#berdasarkan nilai p value kita mengetahui bahwa hasil dari pvalue kurang dari 0,05\n",
    "#maka terdapat kemungkinan sebesar 95% bahwa hasilnya tidak acak\n",
    "#dengan demikian kita dapat menolak null hypotesis.\n",
    "#artinya terdapat perbedaan yang signifikan dalam proporsi penduduk yang menderita penyakit jantung di irlandia dan di US"
   ]
  },
  {
   "cell_type": "markdown",
   "metadata": {},
   "source": [
    "## Cheat Sheet"
   ]
  },
  {
   "cell_type": "markdown",
   "metadata": {},
   "source": [
    "### Normality Test"
   ]
  },
  {
   "cell_type": "markdown",
   "metadata": {},
   "source": [
    "- mengecek apakah list statistical test apakah memiliki distribusi Gaussian\n",
    "- Asumsi : Pengamatan pada setiap sampel bersifat independen dan terdistribusi identik (iid).\n",
    "- Interpretasi :\n",
    "    - H0: sampel memiliki distribusi Gaussian.\n",
    "    - H1 : sampel tidak berdistribusi Gaussian.\n"
   ]
  },
  {
   "cell_type": "markdown",
   "metadata": {},
   "source": [
    "#### Shapiro-Wilk Test"
   ]
  },
  {
   "cell_type": "code",
   "execution_count": 102,
   "metadata": {},
   "outputs": [
    {
     "name": "stdout",
     "output_type": "stream",
     "text": [
      "stat=0.895, p=0.193\n",
      "Probably Gaussian\n"
     ]
    }
   ],
   "source": [
    "# Example of the Shapiro-Wilk Normality Test\n",
    "\n",
    "from scipy.stats import shapiro\n",
    "data = [0.873, 2.817, 0.121, -0.945, -0.055, -1.436, 0.360, -1.478, -1.637, -1.869]\n",
    "stat, p = shapiro(data)\n",
    "print('stat=%.3f, p=%.3f' % (stat, p))\n",
    "if p > 0.05:\n",
    "    print('Probably Gaussian')\n",
    "else:\n",
    "    print('Probably not Gaussian')"
   ]
  },
  {
   "cell_type": "markdown",
   "metadata": {},
   "source": [
    "#### D’Agostino’s K^2 Test"
   ]
  },
  {
   "cell_type": "code",
   "execution_count": 103,
   "metadata": {},
   "outputs": [
    {
     "name": "stdout",
     "output_type": "stream",
     "text": [
      "stat=3.392, p=0.183\n",
      "Probably Gaussian\n"
     ]
    },
    {
     "name": "stderr",
     "output_type": "stream",
     "text": [
      "/home/jefl5/.local/lib/python3.8/site-packages/scipy/stats/stats.py:1541: UserWarning: kurtosistest only valid for n>=20 ... continuing anyway, n=10\n",
      "  warnings.warn(\"kurtosistest only valid for n>=20 ... continuing \"\n"
     ]
    }
   ],
   "source": [
    "# Example of the D'Agostino's K^2 Normality Test\n",
    "from scipy.stats import normaltest\n",
    "data = [0.873, 2.817, 0.121, -0.945, -0.055, -1.436, 0.360, -1.478, -1.637, -1.869]\n",
    "stat, p = normaltest(data)\n",
    "print('stat=%.3f, p=%.3f' % (stat, p))\n",
    "if p > 0.05:\n",
    "    print('Probably Gaussian')\n",
    "else:\n",
    "    print('Probably not Gaussian')"
   ]
  },
  {
   "cell_type": "markdown",
   "metadata": {},
   "source": [
    "#### Anderson-Darling Test"
   ]
  },
  {
   "cell_type": "code",
   "execution_count": 104,
   "metadata": {},
   "outputs": [
    {
     "name": "stdout",
     "output_type": "stream",
     "text": [
      "stat=0.424\n",
      "Probably Gaussian at the 15.0% level\n",
      "Probably Gaussian at the 10.0% level\n",
      "Probably Gaussian at the 5.0% level\n",
      "Probably Gaussian at the 2.5% level\n",
      "Probably Gaussian at the 1.0% level\n"
     ]
    }
   ],
   "source": [
    "# Example of the Anderson-Darling Normality Test\n",
    "from scipy.stats import anderson\n",
    "data = [0.873, 2.817, 0.121, -0.945, -0.055, -1.436, 0.360, -1.478, -1.637, -1.869]\n",
    "result = anderson(data)\n",
    "print('stat=%.3f' % (result.statistic))\n",
    "for i in range(len(result.critical_values)):\n",
    "    sl, cv = result.significance_level[i], result.critical_values[i]\n",
    "    if result.statistic < cv:\n",
    "        print('Probably Gaussian at the %.1f%% level' % (sl))\n",
    "    else:\n",
    "        print('Probably not Gaussian at the %.1f%% level' % (sl))"
   ]
  },
  {
   "cell_type": "markdown",
   "metadata": {},
   "source": [
    "### Correlation test"
   ]
  },
  {
   "cell_type": "markdown",
   "metadata": {},
   "source": [
    "- Uji Korelasi : Bagian ini berisi daftar uji statistik yang dapat Anda gunakan untuk memeriksa apakah dua sampel terkait.\n",
    "- Koefisien Korelasi Pearson: Menguji apakah dua sampel memiliki hubungan linier.\n",
    "- Asumsi : \n",
    "    - Pengamatan pada setiap sampel bersifat independen dan terdistribusi identik (iid).\n",
    "    - Pengamatan pada setiap sampel berdistribusi normal.\n",
    "    - Pengamatan pada setiap sampel memiliki varians yang sama.\n",
    "- Interpretasi:\n",
    "    - H0 : kedua sampel saling bebas.\n",
    "    - H1: ada ketergantungan antar sampel."
   ]
  },
  {
   "cell_type": "code",
   "execution_count": 105,
   "metadata": {},
   "outputs": [
    {
     "name": "stdout",
     "output_type": "stream",
     "text": [
      "stat=0.688, p=0.028\n",
      "Probably dependent\n"
     ]
    }
   ],
   "source": [
    "# Example of the Pearson's Correlation test\n",
    "from scipy.stats import pearsonr\n",
    "data1 = [0.873, 2.817, 0.121, -0.945, -0.055, -1.436, 0.360, -1.478, -1.637, -1.869]\n",
    "data2 = [0.353, 3.517, 0.125, -7.545, -0.555, -1.536, 3.350, -1.578, -3.537, -1.579]\n",
    "stat, p = pearsonr(data1, data2)\n",
    "print('stat=%.3f, p=%.3f' % (stat, p))\n",
    "if p > 0.05:\n",
    "    print('Probably independent')\n",
    "else:\n",
    "    print('Probably dependent')"
   ]
  },
  {
   "cell_type": "markdown",
   "metadata": {},
   "source": [
    "### Spearman's Rank Correlation"
   ]
  },
  {
   "cell_type": "markdown",
   "metadata": {},
   "source": [
    "- Menguji apakah dua sampel memiliki hubungan monoton.\n",
    "- Asumsi : \n",
    "    - Pengamatan pada setiap sampel bersifat independen dan terdistribusi identik (iid). \n",
    "    - Pengamatan di setiap sampel dapat diurutkan.\n",
    "- Interpretasi:\n",
    "    - H0 : kedua sampel saling bebas.\n",
    "    - H1: ada ketergantungan antar sampel."
   ]
  },
  {
   "cell_type": "code",
   "execution_count": 106,
   "metadata": {},
   "outputs": [
    {
     "name": "stdout",
     "output_type": "stream",
     "text": [
      "stat=0.855, p=0.002\n",
      "Probably dependent\n"
     ]
    }
   ],
   "source": [
    "# Example of the Spearman's Rank Correlation Test\n",
    "from scipy.stats import spearmanr\n",
    "data1 = [0.873, 2.817, 0.121, -0.945, -0.055, -1.436, 0.360, -1.478, -1.637, -1.869]\n",
    "data2 = [0.353, 3.517, 0.125, -7.545, -0.555, -1.536, 3.350, -1.578, -3.537, -1.579]\n",
    "stat, p = spearmanr(data1, data2)\n",
    "print('stat=%.3f, p=%.3f' % (stat, p))\n",
    "if p > 0.05:\n",
    "    print('Probably independent')\n",
    "else:\n",
    "    print('Probably dependent')"
   ]
=======
>>>>>>> parent of fe7868a (sip):Sesi 10/Summary 1.ipynb
  }
 ],
 "metadata": {
  "interpreter": {
   "hash": "916dbcbb3f70747c44a77c7bcd40155683ae19c65e1c03b4aa3499c5328201f1"
  },
  "kernelspec": {
   "display_name": "Python 3.8.10 64-bit",
   "name": "python3"
  },
  "language_info": {
   "codemirror_mode": {
    "name": "ipython",
    "version": 3
   },
   "file_extension": ".py",
   "mimetype": "text/x-python",
   "name": "python",
   "nbconvert_exporter": "python",
   "pygments_lexer": "ipython3",
   "version": "3.8.10"
  }
 },
 "nbformat": 4,
 "nbformat_minor": 5
}
