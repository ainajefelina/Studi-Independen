{
 "cells": [
  {
   "cell_type": "markdown",
   "id": "aa052953",
   "metadata": {},
   "source": [
    "# Kode Jupyter"
   ]
  },
  {
   "cell_type": "markdown",
   "id": "d552f4df",
   "metadata": {},
   "source": [
    "## Simple Syntax"
   ]
  },
  {
   "cell_type": "code",
   "execution_count": 6,
   "id": "8644690d",
   "metadata": {},
   "outputs": [
    {
     "name": "stdout",
     "output_type": "stream",
     "text": [
      "Hallo Kode!\n"
     ]
    }
   ],
   "source": [
    "# sederhana\n",
    "print('Hallo Kode!')"
   ]
  },
  {
   "cell_type": "code",
   "execution_count": 3,
   "id": "83389e86",
   "metadata": {},
   "outputs": [
    {
     "name": "stdout",
     "output_type": "stream",
     "text": [
      "1\n",
      "2\n",
      "3\n",
      "4\n",
      "5\n",
      "6\n",
      "7\n",
      "8\n",
      "9\n",
      "10\n"
     ]
    }
   ],
   "source": [
    "# looping\n",
    "i = 1 \n",
    "while(i<=10):\n",
    "    print(i)\n",
    "    i=i+1"
   ]
  },
  {
   "cell_type": "markdown",
   "id": "450355d7",
   "metadata": {},
   "source": [
    "## Using Library"
   ]
  },
  {
   "cell_type": "code",
   "execution_count": 7,
   "id": "7e53f8bd",
   "metadata": {},
   "outputs": [],
   "source": [
    "# import library\n",
    "import pandas as pd\n",
    "import numpy as np"
   ]
  },
  {
   "cell_type": "code",
   "execution_count": 12,
   "id": "f984c499",
   "metadata": {},
   "outputs": [
    {
     "data": {
      "text/html": [
       "<div>\n",
       "<style scoped>\n",
       "    .dataframe tbody tr th:only-of-type {\n",
       "        vertical-align: middle;\n",
       "    }\n",
       "\n",
       "    .dataframe tbody tr th {\n",
       "        vertical-align: top;\n",
       "    }\n",
       "\n",
       "    .dataframe thead th {\n",
       "        text-align: right;\n",
       "    }\n",
       "</style>\n",
       "<table border=\"1\" class=\"dataframe\">\n",
       "  <thead>\n",
       "    <tr style=\"text-align: right;\">\n",
       "      <th></th>\n",
       "      <th>A</th>\n",
       "      <th>B</th>\n",
       "      <th>C</th>\n",
       "    </tr>\n",
       "  </thead>\n",
       "  <tbody>\n",
       "    <tr>\n",
       "      <th>0</th>\n",
       "      <td>1</td>\n",
       "      <td>2</td>\n",
       "      <td>3</td>\n",
       "    </tr>\n",
       "    <tr>\n",
       "      <th>1</th>\n",
       "      <td>4</td>\n",
       "      <td>5</td>\n",
       "      <td>6</td>\n",
       "    </tr>\n",
       "  </tbody>\n",
       "</table>\n",
       "</div>"
      ],
      "text/plain": [
       "   A  B  C\n",
       "0  1  2  3\n",
       "1  4  5  6"
      ]
     },
     "execution_count": 12,
     "metadata": {},
     "output_type": "execute_result"
    }
   ],
   "source": [
    "# menampilkan tabel\n",
    "data = pd.DataFrame(data= np.array([[1,2,3],[4,5,6]],dtype=int), columns=['A','B','C'])\n",
    "data"
   ]
  },
  {
   "cell_type": "markdown",
   "id": "8396f1f3",
   "metadata": {},
   "source": [
    "## Using LaTex"
   ]
  },
  {
   "cell_type": "code",
   "execution_count": 29,
   "id": "c9f6af86",
   "metadata": {},
   "outputs": [],
   "source": [
    "from IPython.display import display, Math, Latex"
   ]
  },
  {
   "cell_type": "markdown",
   "id": "2418ff98",
   "metadata": {},
   "source": [
    "- dengan markdown\n",
    "- $ c = \\sqrt{a^2 + b^2} $"
   ]
  },
  {
   "cell_type": "code",
   "execution_count": 33,
   "id": "ebc64967",
   "metadata": {},
   "outputs": [
    {
     "data": {
      "text/latex": [
       "$\\displaystyle c = \\sqrt{a^2 + b^2}$"
      ],
      "text/plain": [
       "<IPython.core.display.Math object>"
      ]
     },
     "metadata": {},
     "output_type": "display_data"
    }
   ],
   "source": [
    "# tanpa markdown\n",
    "display(Math(r'c = \\sqrt{a^2 + b^2}'))"
   ]
  },
  {
   "cell_type": "markdown",
   "id": "96d794b0",
   "metadata": {},
   "source": [
    "## Eksekusi Shell Commands"
   ]
  },
  {
   "cell_type": "code",
   "execution_count": 35,
   "id": "aca348d4",
   "metadata": {},
   "outputs": [
    {
     "name": "stdout",
     "output_type": "stream",
     "text": [
      "'Kode Jupyter.ipynb'\n",
      "/mnt/d/Studi Independen/Self Paced 1\n",
      "Halo Kode\n"
     ]
    }
   ],
   "source": [
    "! ls\n",
    "! pwd\n",
    "! echo 'Halo Kode' "
   ]
  },
  {
   "cell_type": "markdown",
   "id": "a8858f07",
   "metadata": {},
   "source": [
    "### Pass value to and from shell"
   ]
  },
  {
   "cell_type": "code",
   "execution_count": 36,
   "id": "31144635",
   "metadata": {},
   "outputs": [
    {
     "name": "stdout",
     "output_type": "stream",
     "text": [
      "['Kode Jupyter.ipynb']\n"
     ]
    }
   ],
   "source": [
    "files = !ls\n",
    "print(files)"
   ]
  },
  {
   "cell_type": "markdown",
   "id": "70701465",
   "metadata": {},
   "source": [
    "## Widget"
   ]
  },
  {
   "cell_type": "code",
   "execution_count": 1,
   "id": "519c623b",
   "metadata": {},
   "outputs": [],
   "source": [
    "from  ipywidgets import interact\n",
    "import ipywidgets as widgets"
   ]
  },
  {
   "cell_type": "markdown",
   "id": "d5c65e54",
   "metadata": {},
   "source": [
    "### basic slider"
   ]
  },
  {
   "cell_type": "code",
   "execution_count": 2,
   "id": "3cf4da56",
   "metadata": {},
   "outputs": [
    {
     "data": {
      "application/vnd.jupyter.widget-view+json": {
       "model_id": "b24fed61d6224172950cbd08d2bf41cc",
       "version_major": 2,
       "version_minor": 0
      },
      "text/plain": [
       "interactive(children=(IntSlider(value=10, description='x', max=30, min=-10), Output()), _dom_classes=('widget-…"
      ]
     },
     "metadata": {},
     "output_type": "display_data"
    },
    {
     "data": {
      "text/plain": [
       "<function __main__.f(x)>"
      ]
     },
     "execution_count": 2,
     "metadata": {},
     "output_type": "execute_result"
    }
   ],
   "source": [
    "def f(x):\n",
    "    return x\n",
    "interact(f, x=10,)\n",
    "     "
   ]
  },
  {
   "cell_type": "markdown",
   "id": "f35fee71",
   "metadata": {},
   "source": [
    "### Checkbox"
   ]
  },
  {
   "cell_type": "code",
   "execution_count": 3,
   "id": "0777ad14",
   "metadata": {},
   "outputs": [
    {
     "data": {
      "application/vnd.jupyter.widget-view+json": {
       "model_id": "eb129cb42fa4463ea94aba7bfcf3d50a",
       "version_major": 2,
       "version_minor": 0
      },
      "text/plain": [
       "interactive(children=(Checkbox(value=True, description='x'), Output()), _dom_classes=('widget-interact',))"
      ]
     },
     "metadata": {},
     "output_type": "display_data"
    },
    {
     "data": {
      "text/plain": [
       "<function __main__.f(x)>"
      ]
     },
     "execution_count": 3,
     "metadata": {},
     "output_type": "execute_result"
    }
   ],
   "source": [
    "interact(f, x=True)"
   ]
  },
  {
   "cell_type": "markdown",
   "id": "555fd373",
   "metadata": {},
   "source": [
    " ### Textbox"
   ]
  },
  {
   "cell_type": "code",
   "execution_count": 4,
   "id": "a7a77090",
   "metadata": {},
   "outputs": [
    {
     "data": {
      "application/vnd.jupyter.widget-view+json": {
       "model_id": "10e5c1cd1cc346e88a32f2605b3f1d2b",
       "version_major": 2,
       "version_minor": 0
      },
      "text/plain": [
       "interactive(children=(Text(value='Hi Kode!', description='x'), Output()), _dom_classes=('widget-interact',))"
      ]
     },
     "metadata": {},
     "output_type": "display_data"
    },
    {
     "data": {
      "text/plain": [
       "<function __main__.f(x)>"
      ]
     },
     "execution_count": 4,
     "metadata": {},
     "output_type": "execute_result"
    }
   ],
   "source": [
    "interact(f, x='Hi Kode!')"
   ]
  },
  {
   "cell_type": "markdown",
   "id": "2351a176",
   "metadata": {},
   "source": [
    "### Play and Slider"
   ]
  },
  {
   "cell_type": "code",
   "execution_count": 10,
   "id": "9f8feec6",
   "metadata": {},
   "outputs": [
    {
     "data": {
      "application/vnd.jupyter.widget-view+json": {
       "model_id": "fc3cd2f1108d4c70b2165d15250ed08f",
       "version_major": 2,
       "version_minor": 0
      },
      "text/plain": [
       "HBox(children=(Play(value=7, description='Push Play'), IntSlider(value=0)))"
      ]
     },
     "metadata": {},
     "output_type": "display_data"
    }
   ],
   "source": [
    "play=widgets.Play(\n",
    "    value=7,\n",
    "    min=0,\n",
    "    max=100,\n",
    "    step=1,\n",
    "    description='Push Play', \n",
    "    disabled=False)\n",
    "slider = widgets.IntSlider()\n",
    "widgets.jslink((play, 'value'), (slider, 'value'))\n",
    "widgets.HBox((play, slider))\n"
   ]
  },
  {
   "cell_type": "markdown",
   "id": "abf59000",
   "metadata": {},
   "source": [
    "### Date Picker"
   ]
  },
  {
   "cell_type": "code",
   "execution_count": 12,
   "id": "cbddc3d2",
   "metadata": {},
   "outputs": [
    {
     "data": {
      "application/vnd.jupyter.widget-view+json": {
       "model_id": "4dff536cd7634da6aba56bc7cf1d9b72",
       "version_major": 2,
       "version_minor": 0
      },
      "text/plain": [
       "DatePicker(value=None, description='Pilih Tanggal')"
      ]
     },
     "metadata": {},
     "output_type": "display_data"
    }
   ],
   "source": [
    "widgets.DatePicker(\n",
    "    description='Pilih Tanggal',\n",
    "    disabled=False)"
   ]
  },
  {
   "cell_type": "markdown",
   "id": "681620a2",
   "metadata": {},
   "source": [
    "### Tab "
   ]
  },
  {
   "cell_type": "code",
   "execution_count": 13,
   "id": "dcea0861",
   "metadata": {},
   "outputs": [
    {
     "data": {
      "application/vnd.jupyter.widget-view+json": {
       "model_id": "b3c49a52fd434b9faf881f78c0d0cf6c",
       "version_major": 2,
       "version_minor": 0
      },
      "text/plain": [
       "Tab(children=(Text(value='', description='K0'), Text(value='', description='K1'), Text(value='', description='…"
      ]
     },
     "metadata": {},
     "output_type": "display_data"
    }
   ],
   "source": [
    "tab_contents = ['K0','K1','K2','K3','K4']\n",
    "children =[widgets.Text(description=name) for name in tab_contents]\n",
    "tab = widgets.Tab()\n",
    "tab.children=children\n",
    "for i in range(len(children)):\n",
    "    tab.set_title(i, str(i))\n",
    "tab"
   ]
  },
  {
   "cell_type": "code",
   "execution_count": null,
   "id": "dd01731a",
   "metadata": {},
   "outputs": [],
   "source": []
  }
 ],
 "metadata": {
  "kernelspec": {
   "display_name": "Python 3 (ipykernel)",
   "language": "python",
   "name": "python3"
  },
  "language_info": {
   "codemirror_mode": {
    "name": "ipython",
    "version": 3
   },
   "file_extension": ".py",
   "mimetype": "text/x-python",
   "name": "python",
   "nbconvert_exporter": "python",
   "pygments_lexer": "ipython3",
   "version": "3.8.10"
  },
  "toc": {
   "base_numbering": 1,
   "nav_menu": {},
   "number_sections": true,
   "sideBar": true,
   "skip_h1_title": false,
   "title_cell": "Table of Contents",
   "title_sidebar": "Contents",
   "toc_cell": false,
   "toc_position": {},
   "toc_section_display": true,
   "toc_window_display": false
  }
 },
 "nbformat": 4,
 "nbformat_minor": 5
}
