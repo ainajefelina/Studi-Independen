{
 "cells": [
  {
   "cell_type": "markdown",
   "metadata": {},
   "source": [
    "# Naive Bayes Classifier"
   ]
  },
  {
   "cell_type": "markdown",
   "metadata": {},
   "source": [
    "## Intro\n",
    "- merupakan teknik klasifikasi statistik berdasarkan Bayes Theorem\n",
    "- Salah satu jenis suervised learning algoritma yang paling sederhana \n",
    "- merupakan algoritma yang cepat, akurat, dan handal, dan memiliki akurasi dan kecepatan tinggi pada saat digunakan pada kumpulan data yang besar\n",
    "- metode ini mengaasumsikan bahwa efek fitur tertentu dalam kelas tidak bergantung pada fitur lainnya.\n",
    "    - misalnya pada permohonan pinjaman akan diloloskan atau tidak tergantung pada pendapatannya, pinjaman sebelumnya dan riwayat transaksi, usia, dan lokasi. meskipun saling tergantung, fitur ini dianggap terpisah yang dapat menyederhanakan komputasi dan disebut sebagai naive\n",
    "\n",
    "## Cara kerja\n",
    "- studi kasus\n",
    "    - suatu kondisi cuaca dan keputusan untuk bermain olahraga, jadi kita perlu menghitung kemungkinan untuk bermain olahraga, perlu mengklasifikasikan apakah pemain akan bermain atau tidak berdasarkan kondisi cuaca\n",
    "        - Langkah 1: menghitung probabilitas sebelumnya untuk label kelas yang diberikan\n",
    "        - Langkah 2: menemukan probabilitas Kemungkinan dengan setiap atribut untuk setiap kelas\n",
    "        - Langkah 3: Masukkan nilai ini ke dalam Rumus Bayes dan hitung probabilitas posterior.\n",
    "        - Langkah 4: Lihat kelas mana yang memiliki probabilitas lebih tinggi, mengingat input milik kelas probabilitas yang lebih tinggi.\n",
    "        "
   ]
  },
  {
   "cell_type": "markdown",
   "metadata": {},
   "source": [
    "## Naive Bayes Classifier Building in Scikit-learn"
   ]
  },
  {
   "cell_type": "code",
   "execution_count": null,
   "metadata": {},
   "outputs": [],
   "source": [
    "# menuliskan fitur dan variabel label\n",
    "weather=['Sunny','Sunny','Overcast','Rainy','Rainy','Rainy','Overcast','Sunny','Sunny', 'Rainy','Sunny','Overcast','Overcast','Rainy']\n",
    "\n",
    "temp=['Hot','Hot','Hot','Mild','Cool','Cool','Cool','Mild','Cool','Mild','Mild','Mild','Hot','Mild']\n",
    "\n",
    "play=['No','No','Yes','Yes','Yes','No','Yes','No','Yes','Yes','Yes','Yes','Yes','No']"
   ]
  },
  {
   "cell_type": "code",
   "execution_count": null,
   "metadata": {},
   "outputs": [],
   "source": [
    "# Encoding Features (mengubah string menjadi angka)\n",
    "\n",
    "# import labelenconder\n",
    "from sklearn import preprocessing\n",
    "\n",
    "#membuat labelenconder\n",
    "le = preprocessing.LabelEncoder()\n",
    "\n",
    "#mengkonversi label string ke angka\n",
    "weather_encoded = le.fit_transform(weather)\n",
    "temp_enconded = le.fit_transform(temp)\n",
    "label = le.fit_transform(play)\n",
    "\n",
    "print(weather_encoded)\n",
    "print(temp_enconded)\n",
    "print(label)\n",
    "\n",
    "# mengkombinasi weather dan temperatur dalam single listof tuples\n",
    "features = list(zip(weather_encoded, temp_enconded))\n",
    "features\n",
    "\n",
    "\n"
   ]
  },
  {
   "cell_type": "code",
   "execution_count": null,
   "metadata": {},
   "outputs": [],
   "source": [
    "# mulai memprediksi\n",
    "\n",
    "#import gaussian naive bayes model\n",
    "from sklearn.naive_bayes import GaussianNB\n",
    "\n",
    "# membuat klasifikasi Gausian\n",
    "model = GaussianNB()\n",
    "\n",
    "#train the model using the training sets\n",
    "model.fit(features, label)\n",
    "\n",
    "# output prediksi\n",
    "predicted = model.predict([[0, 2]]) # 0 = overcast , 2 = mild\n",
    "print('Predicted Value :', predicted)\n"
   ]
  },
  {
   "cell_type": "markdown",
   "metadata": {},
   "source": [
    "- 1 : Yes, maka prediknya bermain"
   ]
  },
  {
   "cell_type": "markdown",
   "metadata": {},
   "source": [
    "## Naive Bayes with Multiple Labels"
   ]
  },
  {
   "cell_type": "markdown",
   "metadata": {},
   "source": [
    "- dikenal sebagai multinominal naive bayes\n",
    "- contoh : klasifikasi artikel berita bertema teknologi, hiburan, politik, atau olahraga"
   ]
  },
  {
   "cell_type": "code",
   "execution_count": null,
   "metadata": {},
   "outputs": [],
   "source": [
    "## Loading Data\n",
    "\n",
    "# import scikit-learn dataset library\n",
    "from sklearn import datasets\n",
    "\n",
    "# load dataset\n",
    "wine = datasets.load_wine()\n",
    "\n",
    "#print nama dari 13 fitur\n",
    "print('Features : ', wine.feature_names)\n",
    "\n",
    "#print label (kategori kelas dari wine)\n",
    "print('labes : ', wine.target_names)\n",
    "\n",
    "#shape\n",
    "print('data feature shape : ', wine.data.shape)"
   ]
  },
  {
   "cell_type": "code",
   "execution_count": null,
   "metadata": {},
   "outputs": [],
   "source": [
    "wine.data[0:5]"
   ]
  },
  {
   "cell_type": "code",
   "execution_count": null,
   "metadata": {},
   "outputs": [],
   "source": [
    "wine.target"
   ]
  },
  {
   "cell_type": "code",
   "execution_count": null,
   "metadata": {},
   "outputs": [],
   "source": [
    "# import train_test_split_function\n",
    "from sklearn.model_selection import train_test_split\n",
    "\n",
    "#split dataset into training set and test set\n",
    "X_train, X_test, y_train, y_test = train_test_split(wine.data, wine.target, test_size =0.3, random_state=109)"
   ]
  },
  {
   "cell_type": "code",
   "execution_count": null,
   "metadata": {},
   "outputs": [],
   "source": [
    "# import gaussian naive bayes model\n",
    "from sklearn.naive_bayes import GaussianNB\n",
    "\n",
    "#Membuat klasifikasi gaussian\n",
    "gnb = GaussianNB()\n",
    "\n",
    "# menguji model menggunakan set training\n",
    "gnb.fit(X_train, y_train)\n",
    "\n",
    "# memprediksi respon untuk dataset\n",
    "y_pred = gnb.predict(X_test)"
   ]
  },
  {
   "cell_type": "code",
   "execution_count": null,
   "metadata": {},
   "outputs": [],
   "source": [
    "# import metrics modul untuk perhitungan akurasi\n",
    "\n",
    "from sklearn import metrics\n",
    "\n",
    "#model akurasi, seberaa seing prediksi benar ?\n",
    "print('Akkurasi :', metrics.accuracy_score(y_test, y_pred) )"
   ]
  },
  {
   "cell_type": "markdown",
   "metadata": {},
   "source": [
    "# Decision Tree Classifier"
   ]
  },
  {
   "cell_type": "markdown",
   "metadata": {},
   "source": [
    "## intro\n",
    "- flowchart seperti struktur ranting pohon\n",
    "    - internal node mewakili feature atau atribut, \n",
    "    - cabang ranting atau branch mewakili decision rule\n",
    "    - setiap leaf node mewakili outcome\n",
    "    - node paling atas dalam pohon keputusan dikenal sebagai root node.\n",
    "        - root node belajar untuk mempartisi berdasarkan nilai atribut, secara rekrusif\n",
    "- flowchart membantu untuk mengambil keputusan,\n",
    "- visualisasinya seperti diagram flowchart yang mudah meniru pemikiran tingkat manusia, sehingga decision tree mudah dipahami dan diinterpretasikan\n",
    "\n",
    "## How does it work?\n",
    "- memilih atribut terbaik menggunakan ASM (Attribute Selection Measures) untuk membagi catatan (split the records)\n",
    "- membuat atribut sebuah decision node dan breaks daaset menjadi subset yang lebih kecil\n",
    "- memulai pembuatan pohon atau tree decision dengan mengulang proses ini secara rekrusif untuk setiap anak hingga salah satu merupakan kondisi yang cocok dengan kondisi berikut:\n",
    "    - semua tuple memiliki nilai atribut yang sama\n",
    "    - tidak ada lagi atribut yang tersisa\n",
    "    - tidak ada lagi contoh"
   ]
  },
  {
   "cell_type": "code",
   "execution_count": null,
   "metadata": {},
   "outputs": [],
   "source": [
    "## Decision tree classifier building in scikit-learn\n",
    "\n",
    "# Load Libraries\n",
    "import pandas as pd\n",
    "\n",
    "# Import Decision Tree Classifier\n",
    "from sklearn.tree import DecisionTreeClassifier\n",
    "\n",
    "# import train_test_split function\n",
    "from sklearn.model_selection import train_test_split\n",
    "\n",
    "# import scikit-learn metrics module for accurancy calculation\n",
    "from sklearn import metrics"
   ]
  },
  {
   "cell_type": "code",
   "execution_count": null,
   "metadata": {},
   "outputs": [],
   "source": [
    "col_names = ['pregnant', 'glucose', 'bp', 'skin', 'insulin', 'bmi', 'pedigree', 'age', 'label']\n",
    "\n",
    "# load dataset\n",
    "pima = pd.read_csv(\"https://raw.githubusercontent.com/ardhiraka/PFDS_sources/master/diabetes.csv\", header=None, names=col_names)"
   ]
  },
  {
   "cell_type": "code",
   "execution_count": null,
   "metadata": {},
   "outputs": [],
   "source": [
    "pima.head()"
   ]
  },
  {
   "cell_type": "code",
   "execution_count": null,
   "metadata": {},
   "outputs": [],
   "source": [
    "## Feature Selection\n",
    "### perlu membagi kolom yang diberikan menjadi dua jenis variabel (dependen dan independen)\n",
    "\n",
    "# memperoleh info\n",
    "pima.info()"
   ]
  },
  {
   "cell_type": "code",
   "execution_count": null,
   "metadata": {},
   "outputs": [],
   "source": [
    "numer =['pregnant', 'insulin', 'bmi', 'age', 'glucose', 'bp', 'pedigree', 'label']\n",
    "for col in numer:\n",
    "    pima[col] = pd.to_numeric(pima[col], errors='coerce')\n",
    "\n",
    "pima.dropna(inplace=True)"
   ]
  },
  {
   "cell_type": "code",
   "execution_count": null,
   "metadata": {},
   "outputs": [],
   "source": [
    "pima.head()"
   ]
  },
  {
   "cell_type": "code",
   "execution_count": null,
   "metadata": {},
   "outputs": [],
   "source": [
    "# split dataset in features and target variabel\n",
    "feature_cols =['pregnant', 'insulin', 'bmi', 'age', 'glucose', 'bp', 'pedigree']\n",
    "X= pima[feature_cols] # fitur\n",
    "y= pima.label #target\n",
    "\n",
    "# split dataset info training set dan set test\n",
    "X_train, X_test, y_train, y_test = train_test_split(X, y, test_size= 0.3, random_state=1)\n",
    "\n",
    "# membuat decision tree classifier object\n",
    "clf = DecisionTreeClassifier()\n",
    "\n",
    "# mrnguji decision tree classifier\n",
    "clf = clf.fit(X_train, y_train)\n",
    "\n",
    "# memprediksi respon dari dataset tes\n",
    "y_pred = clf.predict(X_test)\n",
    "\n",
    "# Model akurasi, seberapa sering akurasi benar?\n",
    "print(\"Accuracy:\",metrics.accuracy_score(y_test, y_pred))"
   ]
  },
  {
   "cell_type": "code",
   "execution_count": null,
   "metadata": {},
   "outputs": [],
   "source": []
  }
 ],
 "metadata": {
  "interpreter": {
   "hash": "916dbcbb3f70747c44a77c7bcd40155683ae19c65e1c03b4aa3499c5328201f1"
  },
  "kernelspec": {
   "display_name": "Python 3.8.10 64-bit",
   "name": "python3"
  },
  "language_info": {
   "codemirror_mode": {
    "name": "ipython",
    "version": 3
   },
   "file_extension": ".py",
   "mimetype": "text/x-python",
   "name": "python",
   "nbconvert_exporter": "python",
   "pygments_lexer": "ipython3",
   "version": "3.8.10"
  },
  "orig_nbformat": 4
 },
 "nbformat": 4,
 "nbformat_minor": 2
}
