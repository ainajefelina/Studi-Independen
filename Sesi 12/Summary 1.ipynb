{
 "cells": [
  {
   "cell_type": "markdown",
   "metadata": {},
   "source": [
    "# Classification"
   ]
  },
  {
   "cell_type": "markdown",
   "metadata": {},
   "source": [
    "## Introduction\n",
    "- classification merupakan salah satu area penting dalam ML supervised\n",
    "- beberapa metode classification :\n",
    "    - Logistic Regression\n",
    "    - K-NN\n",
    "## Classification\n",
    "- algoritma ML supervised menentukan model berdasarkan hubungan antar data\n",
    "- Classification mencoba memprediksi kelas atau kategori mana dari suatu entitas berdasarkan fitur-fiturnya\n",
    "- Perbedaan klasifikasi dan regresi\n",
    "    - menganalisis karyawan pada beberapa perusahaan dan mencoba membangun ketergantungan pada antar fitur atau variabel. Variabel yang dapat digunakan yaitu tingkat pendidikan, lama waktu bekerja di posisi tersebut, usia, gaji, peluang untuk promosi. \n",
    "    - Kumpulan fitur dari data yang terkait dengan satu karyawan adalah satu observasi\n",
    "    - Fitur atau variabel dapat berupa :\n",
    "        - Variabel independen : input atau prediktor, tidak bergantung pada fitur lain yang menarik (atau setidaknya Anda berasumsi demikian untuk tujuan analisis). (tingkat pendidikan, lama bekerja, usia)\n",
    "        - Variabel dependen, output atau tanggapan, bergantung pada variabel independen. (peluang promosi, gaji) \n",
    "    - dependent variabel dapat membedakan masalah regresi dan klasifikasi. \n",
    "        - masalah regresi = memiliki luaran yang kontinyu dan tidak terbatas (e.g : memperkitakan gaji sebagai fungsi dari pengalaman dan tingkat pendidikan)\n",
    "        - masalah klasifikasi = memiliki luaran diskrit dan terbatas (e.g : memprediksi karyawwan akan dipromosikan atau tidak)\n",
    "- masalah klasifikasi :\n",
    "    - Klasifikasi biner atau binomial: dua kelas untuk dipilih (biasanya 0 dan 1, benar dan salah, atau positif dan negatif)\n",
    "    - Klasifikasi multiclass atau multinomial: tiga atau lebih kelas output untuk dipilih\n",
    "## Waktu dibutuhkan klasifikasi\n",
    "-  klasifikasi dapat diaplikasikan dalam banyak bidang. Seperti algoritma text classification untuk memisahkan email spam dan bukan, komentar negatif dan positif\n",
    "- Image recognition untuk mengklasifikasikan apakah suatu gambar memenuhi kategori tertentu"
   ]
  },
  {
   "cell_type": "markdown",
   "metadata": {},
   "source": [
    "# Logistic Regression Overview"
   ]
  },
  {
   "cell_type": "markdown",
   "metadata": {},
   "source": [
    "## Introduction\n",
    "- Linear Regression berguna untuk memprediksi nilai luaran kontinyu dari linear relationship. nilai luaran berada diantara 0 dan 1. Sehingga output nilai kontinyu yang tidak berada dalam kisaran 0 dan 1 maka tidak berfungsi dengan regresi logistik\n",
    "- Cara kerja logistic regression adalah memprediksi probabilitas sampel kita termasuk dalam satu klasifikasi versus klasifikasi lainnya. \n",
    "- Dapat digunakan untuk klasifikasi multivariabel yang digunakan untuk masalah klasifikasi biner karena beroperasi pada probabilitas. \n",
    "- Nilai keluaran dalam logistic regression adalah klasifikasi bernomor tetapi sebelum klasifikasi diberikan, keluaran yang AKTUAL adalah probabilitas numerik dalam rentang 0 sampai 1. Berdasarkan probabilitas tersebut akan diberikan klasifikasi 1 atau 0. Algoritme pada dasarnya membulatkan nilai untuk memberikan klasifikasi; 0 adalah kelas negatif dan 1 adalah kelas positif.\n",
    "\n",
    "## Tipe dari Logistic Regression\n",
    "- 1. Binary Logistic Regression : Variabel dependen yang hanya memiliki dua kemungkinan hasil / kelas. Contohnya = Laki - laki atau perempuan, benar atau salah\n",
    "- 2. Multinomial Logistic Regression : Variabel dependen yang memiliki 2-3 kelas lebih atau tanpa urutan. Contohnya = Memprediksi kualitas makanan (Good, Great, dan Bad)\n",
    "- 3. Ordinal Logistic Regression : Variabel dependen yang hanya memiliki 2,3 atau lebih kemungkinan hasil dengan urutan tertenty. Contohnya = Bintang 1 - 5\n",
    "\n",
    "## Math Prerequisites\n",
    "- Fungsi Sigmoid: \n",
    "    - fungsi matematika berbentuk 'S'\n",
    "    - nilainya sangat dengan 0 dan 1 pada sebagian besar domainnya\n",
    "    - cocok untuk metode klasifikasi\n",
    "\n",
    "## Problem Formulation\n",
    "- menemukan logistic regression function $p (x)$ sehingga predicted responses $p(x)$ sedekat mungkin dengan nilai actual response y pada setiap pengamatan i = 1, ... , n. \n",
    "- Dalam binary classification problem hanya bisa 0 atau 1, berarti tiap nilai $p(x)$ akan mendekati 0 atau 1, sehingga lebih mudah menggunakan fungsi sigmoid\n",
    "\n",
    "## Methodology\n",
    "- Logistic regression menentukan bobot prediksi terbaik $b_0, b_1,  ..., b_n$ sedemikian rupa sehingga fungsi $p(x)$ akan sedekat mungkin dengan nilai aktual respon $y_i$, $i = 1, ... , n$ dimana n merupakan jumlah data yang diobservasi\n",
    "- proses perhitungan bobot terbaik menggunakan observasi yang tersedia yang disebut model training atau fitting\n",
    "- model terbaik dimaksimalkan dengan log-likelihood function (LLF) untuk semua observasi. \n",
    "\n",
    "## Classification Performance\n",
    "- Binary classification :\n",
    "    - true negative (zeros, dengan benar memprediksi negatif)\n",
    "    - true positives (ones, dengan benar memprediksi positif)\n",
    "    - false negative (zeros, prediksi negatif tidak benar)\n",
    "    - false positif (ones, prediksi positif tidak benar)\n",
    "- dapat mengevaluasi kinerja dengan membandingkan prediksi aktual dan prediksi output serta menghitung prediksi yang benar dan yang salah\n",
    "- indikator akurasi dari klasifikasi yang paling jelas adalah rasio jumlah prediksi yang benar dengan jumlah total prediksi (hasil observasi)\n",
    "- indikator lain dari klasifikasi binary:\n",
    "    - Nilai prediksi positif adalah rasio jumlah positif benar dengan jumlah jumlah positif benar dan positif palsu.\n",
    "    - Nilai prediksi negatif adalah rasio jumlah negatif benar dengan jumlah negatif benar dan negatif palsu.\n",
    "    - Sensitivitas (juga dikenal sebagai recall atau true positive rate) adalah rasio jumlah positif yang sebenarnya dengan jumlah positif yang sebenarnya.\n",
    "    - Spesifisitas (atau tingkat negatif sejati) adalah rasio jumlah negatif benar dengan jumlah negatif sebenarnya.\n",
    "\n",
    "## Single-Variate Logistic Regression\n",
    "- kasus regresi logistic yang paling jelas, hanya ada satu variabel independen. \n",
    "- logistic regresion menemukan $b_0, b_1$ sesuai dengan maximum LLF. untuk menentukan persamaan log yang membentuk kurva sigmoid.\n",
    "- kita tahu pada rentang tertentu dapat menentukan nilai yang diprediksi akan 0 dan 1\n",
    "\n",
    "## Multi-Variate Logistic Regression\n",
    "- memuliki lebih dari satu variabel  input, pada kurva sumbu horixontal dan vertikal mewakili nilai inputnya dan outputnya dihasilkan oleh warna."
   ]
  },
  {
   "cell_type": "markdown",
   "metadata": {},
   "source": [
    "# Logistics Regression in Python"
   ]
  },
  {
   "cell_type": "markdown",
   "metadata": {},
   "source": [
    "## LR Single-variate binary classification"
   ]
  },
  {
   "cell_type": "markdown",
   "metadata": {},
   "source": [
    "### metode 1"
   ]
  },
  {
   "cell_type": "markdown",
   "metadata": {},
   "source": [
    "- Single - variate binary classification problem merupakan jenis masalah klasifikasi yang paling jelas.\n",
    "- Langkah - langkah model klasifikasi:\n",
    "    - iImpor paket, fungsi, dan kelas\n",
    "    - Dapatkan data untuk digunakan dan, jika sesuai, ubahlah\n",
    "    - Buat model klasifikasi dan latih (atau sesuaikan) dengan data yang ada\n",
    "    - Evaluasi model Anda untuk melihat apakah kinerjanya memuaskan"
   ]
  },
  {
   "cell_type": "code",
   "execution_count": 1,
   "metadata": {},
   "outputs": [],
   "source": [
    "# STEP 1 : import packages, functions, and classes\n",
    "import matplotlib.pyplot as plt\n",
    "import numpy as np\n",
    "\n",
    "from sklearn.linear_model import LogisticRegression\n",
    "from sklearn.metrics import classification_report, confusion_matrix"
   ]
  },
  {
   "cell_type": "markdown",
   "metadata": {},
   "source": [
    "harus mengimpor Matplotlib untuk visualisasi dan NumPy untuk operasi arrray"
   ]
  },
  {
   "cell_type": "code",
   "execution_count": 2,
   "metadata": {},
   "outputs": [
    {
     "name": "stdout",
     "output_type": "stream",
     "text": [
      "[[0]\n",
      " [1]\n",
      " [2]\n",
      " [3]\n",
      " [4]\n",
      " [5]\n",
      " [6]\n",
      " [7]\n",
      " [8]\n",
      " [9]] [0 0 0 0 1 1 1 1 1 1]\n"
     ]
    }
   ],
   "source": [
    "# STEP 2 : Get data in practice\n",
    "x = np.arange(10).reshape(-1, 1)\n",
    "y = np.array([0, 0, 0, 0, 1, 1, 1, 1, 1, 1])\n",
    "\n",
    "print(x, y)"
   ]
  },
  {
   "cell_type": "markdown",
   "metadata": {},
   "source": [
    "- input dan output harus berupa array atau objek serupa.  \n",
    "- argumen\n",
    "    - Reshape berguna untuk mengubah dimensi. \n",
    "    - -1 : berguna untuk memperoleh baris yang diperlukan, \n",
    "    -1: untuk mendaptkan satu kolom\n",
    "- x : merupakan array 2D, satu kolom, untuk satu masukan, sebanyak sepuluh baris sesuai dengan nilai y atau pengamatannya\n",
    "- y : berisi nilai nol dan satu yang merupakan metode klasifikasi biner"
   ]
  },
  {
   "cell_type": "code",
   "execution_count": 3,
   "metadata": {},
   "outputs": [],
   "source": [
    "# STEP 3 : Create a Model and Train It\n",
    "\n",
    "model = LogisticRegression(solver= 'liblinear', random_state=0)"
   ]
  },
  {
   "cell_type": "code",
   "execution_count": 4,
   "metadata": {},
   "outputs": [
    {
     "data": {
      "text/plain": [
       "LogisticRegression(random_state=0, solver='liblinear')"
      ]
     },
     "execution_count": 4,
     "metadata": {},
     "output_type": "execute_result"
    }
   ],
   "source": [
    "model.fit(x, y)\n",
    "LogisticRegression(C=1.0, class_weight=None, dual=False, fit_intercept=True,\n",
    "                   intercept_scaling=1, l1_ratio=None, max_iter=100,\n",
    "                   multi_class='auto', n_jobs=None, penalty='l2',\n",
    "                   random_state=0, solver='liblinear', tol=0.0001, verbose=0,\n",
    "                   warm_start=False)"
   ]
  },
  {
   "cell_type": "markdown",
   "metadata": {},
   "source": [
    "### metode 2"
   ]
  },
  {
   "cell_type": "markdown",
   "metadata": {},
   "source": [
    "code lain"
   ]
  },
  {
   "cell_type": "code",
   "execution_count": 5,
   "metadata": {},
   "outputs": [],
   "source": [
    "model = LogisticRegression(solver='liblinear', random_state=0).fit(x, y)"
   ]
  },
  {
   "cell_type": "markdown",
   "metadata": {},
   "source": [
    "- membuat model klasifikasi"
   ]
  },
  {
   "cell_type": "code",
   "execution_count": 6,
   "metadata": {},
   "outputs": [
    {
     "data": {
      "text/plain": [
       "array([0, 1])"
      ]
     },
     "execution_count": 6,
     "metadata": {},
     "output_type": "execute_result"
    }
   ],
   "source": [
    "model.classes_"
   ]
  },
  {
   "cell_type": "markdown",
   "metadata": {},
   "source": [
    "- klas yang ditunjukan merupkan klasifikasi biner dan y bisa menjadi 0 atau 1"
   ]
  },
  {
   "cell_type": "code",
   "execution_count": 7,
   "metadata": {},
   "outputs": [
    {
     "name": "stdout",
     "output_type": "stream",
     "text": [
      "[-1.04608067] [[0.51491375]]\n"
     ]
    }
   ],
   "source": [
    "print(model.intercept_, model.coef_)"
   ]
  },
  {
   "cell_type": "markdown",
   "metadata": {},
   "source": [
    "- intercept = $b_0$ = array 1D\n",
    "- koef = array 2D"
   ]
  },
  {
   "cell_type": "code",
   "execution_count": 8,
   "metadata": {},
   "outputs": [
    {
     "data": {
      "text/plain": [
       "array([[0.74002157, 0.25997843],\n",
       "       [0.62975524, 0.37024476],\n",
       "       [0.5040632 , 0.4959368 ],\n",
       "       [0.37785549, 0.62214451],\n",
       "       [0.26628093, 0.73371907],\n",
       "       [0.17821501, 0.82178499],\n",
       "       [0.11472079, 0.88527921],\n",
       "       [0.07186982, 0.92813018],\n",
       "       [0.04422513, 0.95577487],\n",
       "       [0.02690569, 0.97309431]])"
      ]
     },
     "execution_count": 8,
     "metadata": {},
     "output_type": "execute_result"
    }
   ],
   "source": [
    "# STEP 4 : Mengevaluasi model\n",
    "model.predict_proba(x)"
   ]
  },
  {
   "cell_type": "markdown",
   "metadata": {},
   "source": [
    "- memeriksa perfornabta dengan mengembalikan probabilitas matriks bahwa keluaran yang diprediksi sama dengan 0 atau 1"
   ]
  },
  {
   "cell_type": "code",
   "execution_count": 9,
   "metadata": {},
   "outputs": [
    {
     "data": {
      "text/plain": [
       "array([0, 0, 0, 1, 1, 1, 1, 1, 1, 1])"
      ]
     },
     "execution_count": 9,
     "metadata": {},
     "output_type": "execute_result"
    }
   ],
   "source": [
    "model.predict(x)"
   ]
  },
  {
   "cell_type": "code",
   "execution_count": 10,
   "metadata": {},
   "outputs": [
    {
     "data": {
      "text/plain": [
       "0.9"
      ]
     },
     "execution_count": 10,
     "metadata": {},
     "output_type": "execute_result"
    }
   ],
   "source": [
    "model.score(x,y)"
   ]
  },
  {
   "cell_type": "markdown",
   "metadata": {},
   "source": [
    "- score() mengambil nilai input dan output dan mengembalikan rasio jumlah prediksi yang benar dengan jumlah observasi"
   ]
  },
  {
   "cell_type": "code",
   "execution_count": 11,
   "metadata": {},
   "outputs": [
    {
     "data": {
      "text/plain": [
       "array([[3, 1],\n",
       "       [0, 6]])"
      ]
     },
     "execution_count": 11,
     "metadata": {},
     "output_type": "execute_result"
    }
   ],
   "source": [
    "confusion_matrix(y, model.predict(x))"
   ]
  },
  {
   "cell_type": "markdown",
   "metadata": {},
   "source": [
    "- membuat confusiion matrix dan memberikan prediksi luaran sebagai argumen\n",
    "- confusion matrix menunjukan :\n",
    "    - True negatives in the upper-left position\n",
    "    - False negatives in the lower-left position\n",
    "    - False positives in the upper-right position\n",
    "    - True positives in the lower-right position"
   ]
  },
  {
   "cell_type": "code",
   "execution_count": 12,
   "metadata": {},
   "outputs": [
    {
     "data": {
      "image/png": "[encoded data removed]",
      "text/plain": [
       "<Figure size 576x576 with 1 Axes>"
      ]
     },
     "metadata": {
      "needs_background": "light"
     },
     "output_type": "display_data"
    }
   ],
   "source": [
    "cm = confusion_matrix(y, model.predict(x))\n",
    "\n",
    "fig, ax = plt.subplots(figsize=(8, 8))\n",
    "ax.imshow(cm)\n",
    "ax.grid(False)\n",
    "ax.xaxis.set(ticks=(0, 1), ticklabels=('Predicted 0s', 'Predicted 1s'))\n",
    "ax.yaxis.set(ticks=(0, 1), ticklabels=('Actual 0s', 'Actual 1s'))\n",
    "ax.set_ylim(1.5, -0.5)\n",
    "for i in range(2):\n",
    "    for j in range(2):\n",
    "        ax.text(j, i, cm[i, j], ha='center', va='center', color='red')\n",
    "plt.show()"
   ]
  },
  {
   "cell_type": "markdown",
   "metadata": {},
   "source": [
    "- heatmaps untuk mempresentasikan matriks"
   ]
  },
  {
   "cell_type": "code",
   "execution_count": 13,
   "metadata": {},
   "outputs": [
    {
     "name": "stdout",
     "output_type": "stream",
     "text": [
      "              precision    recall  f1-score   support\n",
      "\n",
      "           0       1.00      0.75      0.86         4\n",
      "           1       0.86      1.00      0.92         6\n",
      "\n",
      "    accuracy                           0.90        10\n",
      "   macro avg       0.93      0.88      0.89        10\n",
      "weighted avg       0.91      0.90      0.90        10\n",
      "\n"
     ]
    }
   ],
   "source": [
    "print(classification_report(y, model.predict(x)))"
   ]
  },
  {
   "cell_type": "markdown",
   "metadata": {},
   "source": [
    "- laporan yang lebih komprehensif tentang klasifikasi"
   ]
  },
  {
   "cell_type": "code",
   "execution_count": 14,
   "metadata": {},
   "outputs": [
    {
     "name": "stdout",
     "output_type": "stream",
     "text": [
      "intercept :  [-3.51335372]\n",
      "koefisien :  [[1.12066084]]\n",
      "prediksi proba x :  [[0.97106534 0.02893466]\n",
      " [0.9162684  0.0837316 ]\n",
      " [0.7810904  0.2189096 ]\n",
      " [0.53777071 0.46222929]\n",
      " [0.27502212 0.72497788]\n",
      " [0.11007743 0.88992257]\n",
      " [0.03876835 0.96123165]\n",
      " [0.01298011 0.98701989]\n",
      " [0.0042697  0.9957303 ]\n",
      " [0.00139621 0.99860379]]\n",
      "prediksi model :  [0 0 0 0 1 1 1 1 1 1]\n"
     ]
    }
   ],
   "source": [
    "# improve the model \n",
    "# dengan mengatur paramter yang berbeda\n",
    "model = LogisticRegression(solver='liblinear', C=10.0, random_state=0)\n",
    "model.fit(x, y)\n",
    "\n",
    "LogisticRegression(C=10.0, class_weight=None, dual=False, fit_intercept=True,\n",
    "                   intercept_scaling=1, l1_ratio=None, max_iter=100,\n",
    "                   multi_class='auto', n_jobs=None, penalty='l2',\n",
    "                   random_state=0, solver='liblinear', tol=0.0001, verbose=0,\n",
    "                   warm_start=False)\n",
    "\n",
    "print('intercept : ', model.intercept_)\n",
    "print('koefisien : ', model.coef_)\n",
    "print('prediksi proba x : ', model.predict_proba(x))\n",
    "print('prediksi model : ', model.predict(x))"
   ]
  },
  {
   "cell_type": "code",
   "execution_count": 15,
   "metadata": {},
   "outputs": [
    {
     "data": {
      "text/plain": [
       "1.0"
      ]
     },
     "execution_count": 15,
     "metadata": {},
     "output_type": "execute_result"
    }
   ],
   "source": [
    "model.score(x, y)"
   ]
  },
  {
   "cell_type": "code",
   "execution_count": 16,
   "metadata": {},
   "outputs": [
    {
     "data": {
      "text/plain": [
       "array([[4, 0],\n",
       "       [0, 6]])"
      ]
     },
     "execution_count": 16,
     "metadata": {},
     "output_type": "execute_result"
    }
   ],
   "source": [
    "confusion_matrix(y, model.predict(x))"
   ]
  },
  {
   "cell_type": "code",
   "execution_count": 17,
   "metadata": {},
   "outputs": [
    {
     "name": "stdout",
     "output_type": "stream",
     "text": [
      "              precision    recall  f1-score   support\n",
      "\n",
      "           0       1.00      1.00      1.00         4\n",
      "           1       1.00      1.00      1.00         6\n",
      "\n",
      "    accuracy                           1.00        10\n",
      "   macro avg       1.00      1.00      1.00        10\n",
      "weighted avg       1.00      1.00      1.00        10\n",
      "\n"
     ]
    }
   ],
   "source": [
    "print(classification_report(y, model.predict(x)))"
   ]
  },
  {
   "cell_type": "code",
   "execution_count": 18,
   "metadata": {},
   "outputs": [
    {
     "data": {
      "image/png": "[encoded data removed]",
      "text/plain": [
       "<Figure size 576x576 with 1 Axes>"
      ]
     },
     "metadata": {
      "needs_background": "light"
     },
     "output_type": "display_data"
    }
   ],
   "source": [
    "cm = confusion_matrix(y, model.predict(x))\n",
    "\n",
    "fig, ax = plt.subplots(figsize=(8, 8))\n",
    "ax.imshow(cm)\n",
    "ax.grid(False)\n",
    "ax.xaxis.set(ticks=(0, 1), ticklabels=('Predicted 0s', 'Predicted 1s'))\n",
    "ax.yaxis.set(ticks=(0, 1), ticklabels=('Actual 0s', 'Actual 1s'))\n",
    "ax.set_ylim(1.5, -0.5)\n",
    "for i in range(2):\n",
    "    for j in range(2):\n",
    "        ax.text(j, i, cm[i, j], ha='center', va='center', color='red')\n",
    "plt.show()"
   ]
  },
  {
   "cell_type": "markdown",
   "metadata": {},
   "source": [
    "## LR handwriting Recognition"
   ]
  },
  {
   "cell_type": "markdown",
   "metadata": {},
   "source": [
    "### introduction\n",
    "- problem klasifikasi real-world, menyelesaikan kumpulan data yang lebih besar dan beberapa fitur dan masalah tambahan\n",
    "- e.g : image recognition  \n",
    "    - menggunakan kumpulan data dengan 1797 observasi\n",
    "    - berupa gambar dari satu digit tulisan tangan\n",
    "    - setiap gambar besarnya 64px, (lebar = 8px, tinggi = 8px)\n",
    "    - input (x) = vektor dengan 64 dimensi atau nilai, menggambarkan satu gambar, masing2 dari 64 nilai mewakili satu piksel gambat. Nilai input merupakan bilangan bulat antara 0 dan 16 tergantung pada shade of gray\n",
    "    - output (y) merupakan bilangan 0 dan 9 yang konsisten dengan digit pada gambar\n",
    "    - terdapat 10 kelas, yang sesuai dengan satu gambar"
   ]
  },
  {
   "cell_type": "code",
   "execution_count": 19,
   "metadata": {},
   "outputs": [],
   "source": [
    "### STEP 1 : Import Packages\n",
    "\n",
    "import matplotlib.pyplot as plt\n",
    "import numpy as np\n",
    "import pandas as pd\n",
    "\n",
    "from sklearn.datasets import load_digits\n",
    "from sklearn.linear_model import LogisticRegression\n",
    "from sklearn.metrics import classification_report, confusion_matrix\n",
    "from sklearn.model_selection import train_test_split\n",
    "from sklearn.preprocessing import StandardScaler"
   ]
  },
  {
   "cell_type": "code",
   "execution_count": 20,
   "metadata": {},
   "outputs": [
    {
     "name": "stdout",
     "output_type": "stream",
     "text": [
      "[[ 0.  0.  5. ...  0.  0.  0.]\n",
      " [ 0.  0.  0. ... 10.  0.  0.]\n",
      " [ 0.  0.  0. ... 16.  9.  0.]\n",
      " ...\n",
      " [ 0.  0.  1. ...  6.  0.  0.]\n",
      " [ 0.  0.  2. ... 12.  0.  0.]\n",
      " [ 0.  0. 10. ... 12.  1.  0.]]\n",
      "[0 1 2 ... 8 9 8]\n"
     ]
    }
   ],
   "source": [
    "### STEP 2 A : GET DATA\n",
    "x, y = load_digits(return_X_y=True)\n",
    "print(x)\n",
    "print(y)"
   ]
  },
  {
   "cell_type": "code",
   "execution_count": 21,
   "metadata": {},
   "outputs": [
    {
     "data": {
      "text/plain": [
       "(1797, 64)"
      ]
     },
     "execution_count": 21,
     "metadata": {},
     "output_type": "execute_result"
    }
   ],
   "source": [
    "x.shape"
   ]
  },
  {
   "cell_type": "code",
   "execution_count": 22,
   "metadata": {},
   "outputs": [
    {
     "data": {
      "text/plain": [
       "(1797,)"
      ]
     },
     "execution_count": 22,
     "metadata": {},
     "output_type": "execute_result"
    }
   ],
   "source": [
    "y.shape"
   ]
  },
  {
   "cell_type": "markdown",
   "metadata": {},
   "source": [
    "- x = multi dimensional array dengan 1797 baris dan 64 kolom\n",
    "- y = one dimensiona; array dengan 1797 baris"
   ]
  },
  {
   "cell_type": "code",
   "execution_count": 23,
   "metadata": {},
   "outputs": [],
   "source": [
    "### STEP 2 B = split data\n",
    "x_train, x_test, y_train, y_test = train_test_split(x, y, test_size=0.2, random_state=0)"
   ]
  },
  {
   "cell_type": "markdown",
   "metadata": {},
   "source": [
    "- x_train: bagian x yang berguna untuk fit ke model \n",
    "- x_test: bagian x untuk evaluasi model\n",
    "- y_train: merupkan respon dari x_train\n",
    "- y_test: hasil respon dari  x_test"
   ]
  },
  {
   "cell_type": "code",
   "execution_count": 24,
   "metadata": {},
   "outputs": [],
   "source": [
    "### STEP 2 C : skala data\n",
    "scaler = StandardScaler()\n",
    "x_train = scaler.fit_transform(x_train)"
   ]
  },
  {
   "cell_type": "markdown",
   "metadata": {},
   "source": [
    "- standarisasi adalah proses untuk mengubah data sehingga mean tiap kolom menjadi sama dengan nol dan SD tiap kolom, sehingga mendapatkan skala yang sama untuk semua kolom\n",
    "- langkah - langkah untuk standarisasi data:\n",
    "    - menghitung nilai rata - rata dan SD pada setia kolom\n",
    "    - substract merupakan hasil rata- rata dari setiap elemen\n",
    "    - Divine : menentukan perbedaan antara corresponding SD\n",
    "- Standardization dapat meningkatkan kinerja algoritma, membantu untuk membandingkan dan interpretasi berat\n",
    "- argumrn .fit_transform() dapat menyesuaikan instance StandardScaler ke array yang diteruskan sebagai argumen, mengubah array, dan mengembalikan array standar yang baru, x_train adalah array input yang sudah di standarisasi"
   ]
  },
  {
   "cell_type": "code",
   "execution_count": 25,
   "metadata": {},
   "outputs": [
    {
     "data": {
      "text/plain": [
       "LogisticRegression(C=0.05, multi_class='ovr', random_state=0,\n",
       "                   solver='liblinear')"
      ]
     },
     "execution_count": 25,
     "metadata": {},
     "output_type": "execute_result"
    }
   ],
   "source": [
    "### STEP 3 : Create a model and Train it\n",
    "model= LogisticRegression(solver='liblinear', C=0.05, multi_class='ovr', random_state=0)\n",
    "model.fit(x_train, y_train)"
   ]
  },
  {
   "cell_type": "code",
   "execution_count": 26,
   "metadata": {},
   "outputs": [
    {
     "data": {
      "text/plain": [
       "LogisticRegression(C=0.05, multi_class='ovr', random_state=0,\n",
       "                   solver='liblinear')"
      ]
     },
     "execution_count": 26,
     "metadata": {},
     "output_type": "execute_result"
    }
   ],
   "source": [
    "LogisticRegression(C=0.05, class_weight=None, dual=False, fit_intercept=True,\n",
    "                   intercept_scaling=1, l1_ratio=None, max_iter=100,\n",
    "                   multi_class='ovr', n_jobs=None, penalty='l2', random_state=0,\n",
    "                   solver='liblinear', tol=0.0001, verbose=0, warm_start=False)"
   ]
  },
  {
   "cell_type": "markdown",
   "metadata": {},
   "source": [
    "- metode mirip dengan sebelumnya, \n",
    "- perbedaan terletak pada subset x_train dan y_train agar sesuai model\n",
    "- kita harus membuat instance Logistic Regression dan memanggil argumen .fit()"
   ]
  },
  {
   "cell_type": "code",
   "execution_count": 27,
   "metadata": {},
   "outputs": [
    {
     "name": "stdout",
     "output_type": "stream",
     "text": [
      "$R^2$ train :  0.964509394572025\n",
      "$R^2$ test :  0.9416666666666667\n"
     ]
    }
   ],
   "source": [
    "### STEP 4 : Evaluasi model\n",
    "x_test = scaler.transform(x_test)\n",
    "y_pred = model.predict(x_test)\n",
    "print ('$R^2$ train : ', model.score(x_train, y_train))\n",
    "print('$R^2$ test : ', model.score(x_test, y_test))"
   ]
  },
  {
   "cell_type": "code",
   "execution_count": 28,
   "metadata": {},
   "outputs": [
    {
     "data": {
      "text/plain": [
       "array([[27,  0,  0,  0,  0,  0,  0,  0,  0,  0],\n",
       "       [ 0, 32,  0,  0,  0,  0,  1,  0,  1,  1],\n",
       "       [ 1,  1, 33,  1,  0,  0,  0,  0,  0,  0],\n",
       "       [ 0,  0,  1, 28,  0,  0,  0,  0,  0,  0],\n",
       "       [ 0,  0,  0,  0, 29,  0,  0,  1,  0,  0],\n",
       "       [ 0,  0,  0,  0,  0, 39,  0,  0,  0,  1],\n",
       "       [ 0,  1,  0,  0,  0,  0, 43,  0,  0,  0],\n",
       "       [ 0,  0,  0,  0,  0,  0,  0, 39,  0,  0],\n",
       "       [ 0,  2,  1,  2,  0,  0,  0,  1, 33,  0],\n",
       "       [ 0,  0,  0,  1,  0,  1,  0,  2,  1, 36]])"
      ]
     },
     "execution_count": 28,
     "metadata": {},
     "output_type": "execute_result"
    }
   ],
   "source": [
    "confusion_matrix(y_test, y_pred)"
   ]
  },
  {
   "cell_type": "code",
   "execution_count": 29,
   "metadata": {},
   "outputs": [
    {
     "data": {
      "image/png": "[encoded data removed]",
      "text/plain": [
       "<Figure size 576x576 with 1 Axes>"
      ]
     },
     "metadata": {
      "needs_background": "light"
     },
     "output_type": "display_data"
    }
   ],
   "source": [
    "cm = confusion_matrix(y_test, y_pred)\n",
    "\n",
    "fig, ax = plt.subplots(figsize=(8, 8))\n",
    "ax.imshow(cm)\n",
    "ax.grid(False)\n",
    "ax.set_xlabel('Predicted outputs', color='black')\n",
    "ax.set_ylabel('Actual outputs', color='black')\n",
    "ax.xaxis.set(ticks=range(10))\n",
    "ax.yaxis.set(ticks=range(10))\n",
    "ax.set_ylim(9.5, -0.5)\n",
    "for i in range(10):\n",
    "    for j in range(10):\n",
    "        ax.text(j, i, cm[i, j], ha='center', va='center', color='white')\n",
    "plt.show()"
   ]
  },
  {
   "cell_type": "markdown",
   "metadata": {},
   "source": [
    "- heatmap yang menggambarkan cinfusion matrix dengan angka dan warna, \n",
    "- warna ungu menunjukan angka kecil (0-2), hijau dan kuning\n",
    "- angka yang besar berada di diagonal utama yang menunjukan jumlah prediksi yang benar dari test\n"
   ]
  },
  {
   "cell_type": "code",
   "execution_count": 30,
   "metadata": {},
   "outputs": [
    {
     "name": "stdout",
     "output_type": "stream",
     "text": [
      "              precision    recall  f1-score   support\n",
      "\n",
      "           0       0.96      1.00      0.98        27\n",
      "           1       0.89      0.91      0.90        35\n",
      "           2       0.94      0.92      0.93        36\n",
      "           3       0.88      0.97      0.92        29\n",
      "           4       1.00      0.97      0.98        30\n",
      "           5       0.97      0.97      0.97        40\n",
      "           6       0.98      0.98      0.98        44\n",
      "           7       0.91      1.00      0.95        39\n",
      "           8       0.94      0.85      0.89        39\n",
      "           9       0.95      0.88      0.91        41\n",
      "\n",
      "    accuracy                           0.94       360\n",
      "   macro avg       0.94      0.94      0.94       360\n",
      "weighted avg       0.94      0.94      0.94       360\n",
      "\n"
     ]
    }
   ],
   "source": [
    "print(classification_report(y_test, y_pred))"
   ]
  },
  {
   "cell_type": "markdown",
   "metadata": {},
   "source": [
    "## algoritma KNN"
   ]
  },
  {
   "cell_type": "markdown",
   "metadata": {},
   "source": [
    "### Introduction\n",
    "- merupakan algoritma non-parametric dan lazy learning algoritma.\n",
    "- non-parametric berarti tidak ada asumsi untuk distribusi data yang mendasarinya atau struktur model ditentukan dari dataset\n",
    "- lazy algoritma berarti tidak memerlukan training data points untuk pembuatan model. Tetapi semua data pelatihan digunakan dalam tahap engujian ini, sehingga masa pelatihan lebih cepat tetapi fasa pengujian lama dan mahal. fasa pengujian mahal maka memerlukan waktu dan memori yang besar untuk memindai dan menyimpan semua titik data\n",
    "\n",
    "### Cara Kerja\n",
    "- K merupakan jumlah berapa banyak tetangga terdekat yang merupakan penentu utama\n",
    "- K merupakan bilangan ganjil jika jumlah kelasnya 2\n",
    "- K = 1 , maka algoritma dikenal sebagai algoritma tetangga terdekat\n",
    "- contoh :\n",
    "    - apabila ada sebuah titik P1 yang perlu diprediksikan\n",
    "    - pertama, kita perlu menemukan satu titik terdekat ke P1\n",
    "    - Kemudian mengklasifikasikan poin berdasarkan suara mayoritas dari tetangga k\n",
    "    - setiap objek akan memberikan suara untuk kelasnya dan kelas dengan suara terbanyak akan diambil sebagai prediksi\n",
    "    - menemukan titik terdekat yang serupa \n",
    "    - dengan menggunakan distance measures seperti Euclidean distance, hamming distance, manhattann distance dannminkowski distance\n",
    "- Langkah - langkah penggunaan KNN:\n",
    "    - menghitung jarak \n",
    "    - mencari tetangga terdekat \n",
    "    - hitung untuk label"
   ]
  },
  {
   "cell_type": "code",
   "execution_count": 31,
   "metadata": {},
   "outputs": [],
   "source": [
    "# Mendefinisikan dataset \n",
    "# membutuhkan atribut kolom sebagai feature dan model\n",
    "\n",
    "# Feature 1\n",
    "weather = ['Sunny', 'Sunny', 'Overcast', 'Rainy', 'Rainy', 'Rainy', 'Overcast', 'Sunny', 'Sunny', 'Rainy', 'Sunny', 'Overcast', 'Overcast', 'Rainy']\n",
    "\n",
    "# Feature 2\n",
    "temp = ['Hot','Hot','Hot','Mild','Cool','Cool','Cool','Mild','Cool','Mild','Mild','Mild','Hot','Mild']\n",
    "\n",
    "# Label atau variabel Target\n",
    "play = ['No', 'No', 'Yes', 'Yes', 'Yes', 'No', 'Yes', 'No', 'Yes', 'Yes', 'Yes', 'Yes', 'Yes', 'No']"
   ]
  },
  {
   "cell_type": "code",
   "execution_count": 32,
   "metadata": {},
   "outputs": [
    {
     "name": "stdout",
     "output_type": "stream",
     "text": [
      "[2 2 0 1 1 1 0 2 2 1 2 0 0 1]\n",
      "[1 1 1 2 0 0 0 2 0 2 2 2 1 2]\n",
      "[0 0 1 1 1 0 1 0 1 1 1 1 1 0]\n"
     ]
    }
   ],
   "source": [
    "#Enconding data columns\n",
    "\n",
    "# import LabelEnconder\n",
    "from sklearn import preprocessing\n",
    "\n",
    "#membuat labelEnconder\n",
    "le = preprocessing.LabelEncoder()\n",
    "\n",
    "#Merubah label string ke angka cuaca\n",
    "weather_enconded = le.fit_transform(weather)\n",
    "print(weather_enconded)\n",
    "\n",
    "#Merubah label string ke angka suhu\n",
    "temp_encoded=le.fit_transform(temp)\n",
    "label=le.fit_transform(play)\n",
    "print(temp_encoded)\n",
    "print(label)"
   ]
  },
  {
   "cell_type": "code",
   "execution_count": 33,
   "metadata": {},
   "outputs": [
    {
     "name": "stdout",
     "output_type": "stream",
     "text": [
      "[(2, 1), (2, 1), (0, 1), (1, 2), (1, 0), (1, 0), (0, 0), (2, 2), (2, 0), (1, 2), (2, 2), (0, 2), (0, 1), (1, 2)]\n"
     ]
    }
   ],
   "source": [
    "# Mengkombinasi fitur\n",
    "features = list(zip(weather_enconded, temp_encoded))\n",
    "print(features)"
   ]
  },
  {
   "cell_type": "code",
   "execution_count": 34,
   "metadata": {},
   "outputs": [
    {
     "name": "stdout",
     "output_type": "stream",
     "text": [
      "[1]\n"
     ]
    }
   ],
   "source": [
    "# membuat model dengan klasifikasi KNN\n",
    "\n",
    "from sklearn.neighbors import KNeighborsClassifier\n",
    "model = KNeighborsClassifier(n_neighbors=3)\n",
    "\n",
    "#train model menggunakan training sets\n",
    "model.fit(features, label)\n",
    "\n",
    "#memprediksi output\n",
    "predicted = model.predict([[0,2]]) #0 = overcast, 2= Mild\n",
    "\n",
    "print(predicted)"
   ]
  },
  {
   "cell_type": "markdown",
   "metadata": {},
   "source": [
    "## KNN with scikit-learn : KNN with Multiple Labels"
   ]
  },
  {
   "cell_type": "code",
   "execution_count": 35,
   "metadata": {},
   "outputs": [],
   "source": [
    "# Loading Data\n",
    "\n",
    "# import scikit-learn dataset library\n",
    "from sklearn import datasets\n",
    "\n",
    "# load datasets\n",
    "wine = datasets.load_wine()"
   ]
  },
  {
   "cell_type": "code",
   "execution_count": 36,
   "metadata": {},
   "outputs": [
    {
     "name": "stdout",
     "output_type": "stream",
     "text": [
      "fitur :  ['alcohol', 'malic_acid', 'ash', 'alcalinity_of_ash', 'magnesium', 'total_phenols', 'flavanoids', 'nonflavanoid_phenols', 'proanthocyanins', 'color_intensity', 'hue', 'od280/od315_of_diluted_wines', 'proline']\n",
      "label spesies :  ['class_0' 'class_1' 'class_2']\n"
     ]
    }
   ],
   "source": [
    "# Exploring data\n",
    "\n",
    "# print fitur\n",
    "print('fitur : ', wine.feature_names)\n",
    "\n",
    "# print spesies label\n",
    "print('label spesies : ', wine.target_names)"
   ]
  },
  {
   "cell_type": "code",
   "execution_count": 37,
   "metadata": {},
   "outputs": [
    {
     "name": "stdout",
     "output_type": "stream",
     "text": [
      "[[1.423e+01 1.710e+00 2.430e+00 1.560e+01 1.270e+02 2.800e+00 3.060e+00\n",
      "  2.800e-01 2.290e+00 5.640e+00 1.040e+00 3.920e+00 1.065e+03]\n",
      " [1.320e+01 1.780e+00 2.140e+00 1.120e+01 1.000e+02 2.650e+00 2.760e+00\n",
      "  2.600e-01 1.280e+00 4.380e+00 1.050e+00 3.400e+00 1.050e+03]\n",
      " [1.316e+01 2.360e+00 2.670e+00 1.860e+01 1.010e+02 2.800e+00 3.240e+00\n",
      "  3.000e-01 2.810e+00 5.680e+00 1.030e+00 3.170e+00 1.185e+03]\n",
      " [1.437e+01 1.950e+00 2.500e+00 1.680e+01 1.130e+02 3.850e+00 3.490e+00\n",
      "  2.400e-01 2.180e+00 7.800e+00 8.600e-01 3.450e+00 1.480e+03]\n",
      " [1.324e+01 2.590e+00 2.870e+00 2.100e+01 1.180e+02 2.800e+00 2.690e+00\n",
      "  3.900e-01 1.820e+00 4.320e+00 1.040e+00 2.930e+00 7.350e+02]]\n"
     ]
    }
   ],
   "source": [
    "# 5 record dari dataset teratas\n",
    "print(wine.data[0:5])"
   ]
  },
  {
   "cell_type": "code",
   "execution_count": 38,
   "metadata": {},
   "outputs": [
    {
     "name": "stdout",
     "output_type": "stream",
     "text": [
      "[0 0 0 0 0 0 0 0 0 0 0 0 0 0 0 0 0 0 0 0 0 0 0 0 0 0 0 0 0 0 0 0 0 0 0 0 0\n",
      " 0 0 0 0 0 0 0 0 0 0 0 0 0 0 0 0 0 0 0 0 0 0 1 1 1 1 1 1 1 1 1 1 1 1 1 1 1\n",
      " 1 1 1 1 1 1 1 1 1 1 1 1 1 1 1 1 1 1 1 1 1 1 1 1 1 1 1 1 1 1 1 1 1 1 1 1 1\n",
      " 1 1 1 1 1 1 1 1 1 1 1 1 1 1 1 1 1 1 1 2 2 2 2 2 2 2 2 2 2 2 2 2 2 2 2 2 2\n",
      " 2 2 2 2 2 2 2 2 2 2 2 2 2 2 2 2 2 2 2 2 2 2 2 2 2 2 2 2 2 2]\n"
     ]
    }
   ],
   "source": [
    "# memeriksa record target\n",
    "print(wine.target)"
   ]
  },
  {
   "cell_type": "code",
   "execution_count": 39,
   "metadata": {},
   "outputs": [
    {
     "name": "stdout",
     "output_type": "stream",
     "text": [
      "(178, 13)\n"
     ]
    }
   ],
   "source": [
    "# print fitur shape\n",
    "print(wine.data.shape)"
   ]
  },
  {
   "cell_type": "code",
   "execution_count": 40,
   "metadata": {},
   "outputs": [
    {
     "name": "stdout",
     "output_type": "stream",
     "text": [
      "(178,)\n"
     ]
    }
   ],
   "source": [
    "# print target atau label shape\n",
    "print(wine.target.shape)"
   ]
  },
  {
   "cell_type": "code",
   "execution_count": 41,
   "metadata": {},
   "outputs": [],
   "source": [
    "# SPLITING DATA\n",
    "\n",
    "# import fungsi train_test_split \n",
    "from sklearn.model_selection import train_test_split\n",
    "\n",
    "#split dataset menjadi set training dan test set\n",
    "X_train, X_test, y_train, y_test = train_test_split(wine.data, wine.target, test_size=0.3)\n",
    "#70% training dan 30% test"
   ]
  },
  {
   "cell_type": "code",
   "execution_count": 42,
   "metadata": {},
   "outputs": [],
   "source": [
    "# Generate model untuk K=5\n",
    "\n",
    "# import knearest neighbors Classifier model\n",
    "from sklearn.neighbors import KNeighborsClassifier\n",
    "\n",
    "# membuat KNN classifier\n",
    "knn = KNeighborsClassifier(n_neighbors=5)\n",
    "\n",
    "# train the model using the trainig sets\n",
    "knn.fit(X_train, y_train)\n",
    "\n",
    "#prediksi respon untuk dataset\n",
    "y_pred = knn.predict(X_test)"
   ]
  },
  {
   "cell_type": "code",
   "execution_count": 43,
   "metadata": {},
   "outputs": [
    {
     "name": "stdout",
     "output_type": "stream",
     "text": [
      "Akurasi :  0.7407407407407407\n"
     ]
    }
   ],
   "source": [
    "# Evaluasi untuk k = 5\n",
    "\n",
    "# import sklearn metriks untuk perhitungan akurasi\n",
    "from sklearn import metrics\n",
    "\n",
    "# model akurasi, seberapa sering klasifikasi benar ?\n",
    "print('Akurasi : ', metrics.accuracy_score(y_test, y_pred))"
   ]
  },
  {
   "cell_type": "markdown",
   "metadata": {},
   "source": [
    "- mendapatkan tingkat klasifikasi sebesar 68%\n",
    "- untuk evaluasi lebih lanjut, dapat membuat model untuk jumlah k yang berbeda"
   ]
  },
  {
   "cell_type": "code",
   "execution_count": 44,
   "metadata": {},
   "outputs": [
    {
     "name": "stdout",
     "output_type": "stream",
     "text": [
      "Accuracy: 0.7037037037037037\n"
     ]
    }
   ],
   "source": [
    "#Import knearest neighbors Classifier model\n",
    "from sklearn.neighbors import KNeighborsClassifier\n",
    "\n",
    "#Create KNN Classifier\n",
    "knn = KNeighborsClassifier(n_neighbors=7)\n",
    "\n",
    "#Train the model using the training sets\n",
    "knn.fit(X_train, y_train)\n",
    "\n",
    "#Predict the response for test dataset\n",
    "y_pred = knn.predict(X_test)\n",
    "\n",
    "#Import scikit-learn metrics module for accuracy calculation\n",
    "from sklearn import metrics\n",
    "\n",
    "# Model Accuracy, how often is the classifier correct?\n",
    "print(\"Accuracy:\",metrics.accuracy_score(y_test, y_pred))"
   ]
  },
  {
   "cell_type": "markdown",
   "metadata": {},
   "source": [
    "- akurasinya lebih tinggi"
   ]
  },
  {
   "cell_type": "code",
   "execution_count": 45,
   "metadata": {},
   "outputs": [],
   "source": [
    "# improve model dan mencari tau nilai k yang optimal\n",
    "\n",
    "error = []\n",
    "\n",
    "#menghitung error nilai K antara  1 hingga 40\n",
    "for i in range (1, 40):\n",
    "    knn = KNeighborsClassifier(n_neighbors=i)\n",
    "    knn.fit(X_train, y_train)\n",
    "    pred_i = knn.predict(X_test)\n",
    "    error.append(np.mean(pred_i != y_test))"
   ]
  },
  {
   "cell_type": "code",
   "execution_count": 46,
   "metadata": {},
   "outputs": [
    {
     "data": {
      "text/plain": [
       "Text(0, 0.5, 'Error mean')"
      ]
     },
     "execution_count": 46,
     "metadata": {},
     "output_type": "execute_result"
    },
    {
     "data": {
      "image/png": "[encoded data removed]",
      "text/plain": [
       "<Figure size 864x432 with 1 Axes>"
      ]
     },
     "metadata": {
      "needs_background": "light"
     },
     "output_type": "display_data"
    }
   ],
   "source": [
    "plt.figure(figsize=(12, 6))  \n",
    "plt.plot(range(1, 40), error, color='red', linestyle='dashed', marker='o',  \n",
    "         markerfacecolor='blue', markersize=10)\n",
    "plt.title('Error Rate K')  \n",
    "plt.xlabel('K')  \n",
    "plt.ylabel('Error mean')"
   ]
  },
  {
   "cell_type": "markdown",
   "metadata": {},
   "source": [
    "- error terkecil pada saat nilainya 6-7 leatas"
   ]
  },
  {
   "cell_type": "code",
   "execution_count": 47,
   "metadata": {},
   "outputs": [
    {
     "name": "stdout",
     "output_type": "stream",
     "text": [
      "Accuracy: 0.7037037037037037\n"
     ]
    }
   ],
   "source": [
    "#Import knearest neighbors Classifier model\n",
    "from sklearn.neighbors import KNeighborsClassifier\n",
    "\n",
    "#Create KNN Classifier\n",
    "knn = KNeighborsClassifier(n_neighbors=7)\n",
    "\n",
    "#Train the model using the training sets\n",
    "knn.fit(X_train, y_train)\n",
    "\n",
    "#Predict the response for test dataset\n",
    "y_pred = knn.predict(X_test)\n",
    "\n",
    "#Import scikit-learn metrics module for accuracy calculation\n",
    "from sklearn import metrics\n",
    "\n",
    "# Model Accuracy, how often is the classifier correct?\n",
    "print(\"Accuracy:\",metrics.accuracy_score(y_test, y_pred))"
   ]
  }
 ],
 "metadata": {
  "interpreter": {
   "hash": "916dbcbb3f70747c44a77c7bcd40155683ae19c65e1c03b4aa3499c5328201f1"
  },
  "kernelspec": {
   "display_name": "Python 3.8.10 64-bit",
   "name": "python3"
  },
  "language_info": {
   "codemirror_mode": {
    "name": "ipython",
    "version": 3
   },
   "file_extension": ".py",
   "mimetype": "text/x-python",
   "name": "python",
   "nbconvert_exporter": "python",
   "pygments_lexer": "ipython3",
   "version": "3.8.10"
  },
  "orig_nbformat": 4
 },
 "nbformat": 4,
 "nbformat_minor": 2
}
