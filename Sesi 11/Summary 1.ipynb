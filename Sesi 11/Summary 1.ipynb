{
 "cells": [
  {
   "cell_type": "markdown",
   "metadata": {},
   "source": [
    "# Regression"
   ]
  },
  {
   "cell_type": "markdown",
   "metadata": {},
   "source": [
    "- regression analysis merupakan salah satu bidang penting untuk statistik dan machine learning\n",
    "- banyak metode, salah satunya linear regression\n",
    "- regression mencari hubungan antar variabel\n",
    "- bentuk lain dari supervised learning\n",
    "- regression menghasilkan angka daripada kelas \n",
    "- berguna untuk memprediksi masalah berbasis angka (harga saham, suhu untuk hari tertentu, probabilitas suatu peristiwa, kenaikan gaji)\n",
    "---\n",
    "- perlu untuk menemukan fungsi yang memetakan beberapa fitur atau variabel ke fitur lain dengan baik\n",
    "- variabel dependen (terikat), output, atau respon merupakan fitur dependen (y)\n",
    "- variabel independen (tidak terikat), input, atau prediktor merupakan fitur independen (x)\n",
    "- regresi memiliki satu variabel dependen yang kontinyu, tidak terbatas, tetapi input dapat berupa kontiyu, diskrit, ataupun kategorikal\n",
    "---\n",
    "- kita memerlukan regresi untuk menjawab apakah dan bagaimana beberapa fenomena dapat mempengaruhi satu dan lainnya atau bagaimana keterkaitannya terkait variabel yang ada\n",
    "- regresi mampu meramalkan respon yang menggunakan kumpulan prediktor baru (konsumsi listrik satu jam ke dean dengan melihat suhu luar ruangan, waktu dan jumlah orang dalam rumah, dll)\n"
   ]
  },
  {
   "cell_type": "markdown",
   "metadata": {},
   "source": [
    "# Linear Regression"
   ]
  },
  {
   "cell_type": "markdown",
   "metadata": {},
   "source": [
    "### pengertian\n",
    "- teknik yang paling banyak digunakan, sederhana, dan kemudahan dalam interpretasi hasil\n",
    "---\n",
    "### problem formulation\n",
    "- dalam suatu regresi linear menerapkan beberapa variabel dependen y dan independen x, dan jumlah prediktor r. sehingga tercipta suatu persamaan regresi yang memuat koefisien regresi dan random error\n",
    "- regresi linear menghitung estimasi dari koefisien regresi dimana fungsi ini akan menangkap hubungan atau ketergantungan antara input dan output yang cukup baik\n",
    "- sehingga dihasilkan respon prediksi yang sedekat mungkin dengan nilai aktualnya dan dapat memprediksikan bobot nilai terbaik dengan residuals terkecil\n",
    "- bobot terbaik dapat diperoleh dengan meminimalkan SSR untuk semua pengamatan  dengan metode pendekatan ordinary least squares\n",
    "---\n",
    "### regression performance\n",
    "- nilai y tergantung pada prediktor x dan ada varian tambahan yang melekat pada output\n",
    "- $R^2$ (koefisien determinasi) menunjukan berapa banyak variasi dalam y yang ketergantungan pada x menggunakan model regresi tertentu.\n",
    "- $R^2$ = 1, SSR = 0 yaitu perfect fit karena nilai prediksi dan respons aktual dan saling cocok satu sama lain"
   ]
  },
  {
   "cell_type": "markdown",
   "metadata": {},
   "source": [
    "# Simple Linear Regression"
   ]
  },
  {
   "cell_type": "markdown",
   "metadata": {},
   "source": [
    "- paling sederhana dengan independen tunggal dimana $x=x$\n",
    "- penerapannya dengan mengumpulkan pasangan s-y tertentu yang akan diobservasi\n",
    "- estimated regression function memiliki persamaan $f(x) = b_0 + xb_1$. dimana kita bertujuan untuk menghitung nilai optimal dari bobot prediksi $b_0$ dan $b_1$ yang meminimalkan SSR dan menentukan estimated regression function. \n",
    "- $b_0$ = intercept dimana x = 0 atau melewaati sumbu y, dan $b_1$ menentukan kemiringan/slope garis yang diperkirakan"
   ]
  },
  {
   "cell_type": "markdown",
   "metadata": {},
   "source": [
    "# Multile Linear Regression"
   ]
  },
  {
   "cell_type": "markdown",
   "metadata": {},
   "source": [
    "# Polynomial Regression"
   ]
  },
  {
   "cell_type": "markdown",
   "metadata": {},
   "source": [
    "# Underfitting and Overfitting"
   ]
  },
  {
   "cell_type": "markdown",
   "metadata": {},
   "source": [
    "## Underfitting \n",
    "- terjadi jika model tidak dapat menangkap dependensi di antara data secara akurat,  biasnaya sebagai konsekuensi dari kesederhanaanya sendiri. Seringkali menghasilkan $R^2$ rendah dengan data yang diketahui dan kemampuan generalisasi yang buruk saat diterapkan  dengan data baru.\n",
    "## Overfitting \n",
    "- terjadi saat model mempeljari dependensi di anatara data dan fluktuasi acak. Dengan kata lain, model mempelajari data yang ada dengan terlalu baik. Model kompleks yang  memiliki banyak fitur, seringkali cenderung overfitting. Ketika diterapkan pada data yang  diketahui menghaislkan $R^2$ yang tinggi. Namun, mereka sering tidak menggenaralisasi dengan  baik dan memiliki lebih rendah secara signifikan R2 saat digunakan dengan data baru"
   ]
  },
  {
   "cell_type": "markdown",
   "metadata": {},
   "source": [
    "# Implementasi dalam Python"
   ]
  },
  {
   "cell_type": "markdown",
   "metadata": {},
   "source": [
    "## Step 1 : import packages and classes"
   ]
  },
  {
   "cell_type": "code",
   "execution_count": 1,
   "metadata": {},
   "outputs": [],
   "source": [
    "import numpy as np\n",
    "import matplotlib.pyplot as plt\n",
    "from sklearn.linear_model import LinearRegression\n",
    "%matplotlib inline"
   ]
  },
  {
   "cell_type": "markdown",
   "metadata": {},
   "source": [
    "sklearn.linear_model.LinearRegression digunakan untuk linear dan polinomial untuk membuat prediksi yang sesuai"
   ]
  },
  {
   "cell_type": "markdown",
   "metadata": {},
   "source": [
    "## Step 2 : Provide data"
   ]
  },
  {
   "cell_type": "code",
   "execution_count": 2,
   "metadata": {},
   "outputs": [],
   "source": [
    "x = np.array([5, 15, 25, 35, 45, 55]).reshape((-1,1))\n",
    "y = np.array([5, 20, 14, 32, 22, 38])"
   ]
  },
  {
   "cell_type": "markdown",
   "metadata": {},
   "source": [
    "perlu dilakukan reshape pada x karena array harus 2 dimensi atau lebih, minimal satu kolom dan baris sebanyak yang diperlukan"
   ]
  },
  {
   "cell_type": "code",
   "execution_count": 4,
   "metadata": {},
   "outputs": [
    {
     "name": "stdout",
     "output_type": "stream",
     "text": [
      "[[ 5]\n",
      " [15]\n",
      " [25]\n",
      " [35]\n",
      " [45]\n",
      " [55]]\n",
      "[ 5 20 14 32 22 38]\n"
     ]
    }
   ],
   "source": [
    "print(x)\n",
    "print(y)"
   ]
  },
  {
   "cell_type": "markdown",
   "metadata": {},
   "source": [
    "- x dengan dimensi (6,1)\n",
    "- y dengan (6, )"
   ]
  },
  {
   "cell_type": "markdown",
   "metadata": {},
   "source": [
    "## Step 3 : Create a model and fit it"
   ]
  },
  {
   "cell_type": "code",
   "execution_count": 7,
   "metadata": {},
   "outputs": [],
   "source": [
    "model = LinearRegression()"
   ]
  },
  {
   "cell_type": "code",
   "execution_count": 8,
   "metadata": {},
   "outputs": [
    {
     "data": {
      "text/plain": [
       "LinearRegression()"
      ]
     },
     "execution_count": 8,
     "metadata": {},
     "output_type": "execute_result"
    }
   ],
   "source": [
    "model.fit(x,y)"
   ]
  },
  {
   "cell_type": "code",
   "execution_count": 9,
   "metadata": {},
   "outputs": [
    {
     "data": {
      "text/plain": [
       "LinearRegression(normalize=False)"
      ]
     },
     "execution_count": 9,
     "metadata": {},
     "output_type": "execute_result"
    }
   ],
   "source": [
    "LinearRegression(copy_X=True, fit_intercept=True, n_jobs=None, normalize=False)"
   ]
  },
  {
   "cell_type": "code",
   "execution_count": 10,
   "metadata": {},
   "outputs": [],
   "source": [
    "model=LinearRegression().fit(x,y)"
   ]
  },
  {
   "cell_type": "code",
   "execution_count": 12,
   "metadata": {},
   "outputs": [
    {
     "name": "stdout",
     "output_type": "stream",
     "text": [
      "coefficient of determination: 0.7158756137479542\n",
      "intercept: 5.633333333333329\n",
      "slope: [0.54]\n"
     ]
    }
   ],
   "source": [
    "r_sq = model.score(x, y)\n",
    "print('coefficient of determination:', r_sq)\n",
    "print('intercept:', model.intercept_)\n",
    "print('slope:', model.coef_)"
   ]
  },
  {
   "cell_type": "code",
   "execution_count": 13,
   "metadata": {},
   "outputs": [
    {
     "name": "stdout",
     "output_type": "stream",
     "text": [
      "intercept: [5.63333333]\n",
      "slope: [[0.54]]\n"
     ]
    }
   ],
   "source": [
    "new_model = LinearRegression().fit(x, y.reshape((-1, 1)))\n",
    "print('intercept:', new_model.intercept_)\n",
    "print('slope:', new_model.coef_)"
   ]
  },
  {
   "cell_type": "code",
   "execution_count": 14,
   "metadata": {},
   "outputs": [
    {
     "name": "stdout",
     "output_type": "stream",
     "text": [
      "predicted response:\n",
      "[ 8.33333333 13.73333333 19.13333333 24.53333333 29.93333333 35.33333333]\n"
     ]
    }
   ],
   "source": [
    "y_pred = model.predict(x)\n",
    "print('predicted response:', y_pred, sep='\\n')"
   ]
  },
  {
   "cell_type": "code",
   "execution_count": 15,
   "metadata": {},
   "outputs": [
    {
     "data": {
      "image/png": "[encoded data removed]",
      "text/plain": [
       "<Figure size 432x288 with 1 Axes>"
      ]
     },
     "metadata": {
      "needs_background": "light"
     },
     "output_type": "display_data"
    }
   ],
   "source": [
    "plt.scatter(x, y, alpha=0.5)\n",
    "plt.plot(x, y_pred)\n",
    "plt.title('Scatter plot x and y')\n",
    "plt.xlabel('x')\n",
    "plt.ylabel('y')\n",
    "plt.show()"
   ]
  },
  {
   "cell_type": "code",
   "execution_count": null,
   "metadata": {},
   "outputs": [],
   "source": []
  }
 ],
 "metadata": {
  "interpreter": {
   "hash": "916dbcbb3f70747c44a77c7bcd40155683ae19c65e1c03b4aa3499c5328201f1"
  },
  "kernelspec": {
   "display_name": "Python 3.8.10 64-bit",
   "name": "python3"
  },
  "language_info": {
   "codemirror_mode": {
    "name": "ipython",
    "version": 3
   },
   "file_extension": ".py",
   "mimetype": "text/x-python",
   "name": "python",
   "nbconvert_exporter": "python",
   "pygments_lexer": "ipython3",
   "version": "3.8.10"
  },
  "orig_nbformat": 4
 },
 "nbformat": 4,
 "nbformat_minor": 2
}
