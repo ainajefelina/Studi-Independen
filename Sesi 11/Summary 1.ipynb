{
 "cells": [
  {
   "cell_type": "markdown",
   "metadata": {},
   "source": [
    "# Introduction to Machine Learning"
   ]
  },
  {
   "cell_type": "markdown",
   "metadata": {},
   "source": [
    "## AI\n",
    "- suatu cara supaya komputer menjadi cerdas secara artifisial sehingga komputer mampu melakukan berbagai tugas yang mirip dengan manusia\n",
    "- komputer dapat belajar berdasarkan data yang dimasukan kedalamnya, kemudian komputer akan membuat keputusan berdasarkan yang dipelajarinya.\n",
    "- dengan AI mampu untuk mengotomasi tugas - tugas yang menurut manusia berlebihan dan terus berulang. dengan mempelajari data maka komuter mampu memprediksi hasil dari sata yang lain\n",
    "## Machine Learning\n",
    "- penerapan dari AI, sehingga komputer mampu untuk belajar dan berkembang dari pengalaman tanpa harus diprogram secara explicit\n",
    "- ML dapat menyelesaikan pekerjaan yang rumit untuk dicoding secara langsung oleh manusia. Dengan menggunakan algoritma dalam ML maka komputer akan mengeksplor data dan mempelajarinya secara otomatis serta mencari sebuah model yang dapat menyelesaikan masalah programer.\n",
    "- Algoritma ML :\n",
    "    - Decision tree\n",
    "    - Naive Bayes.\n",
    "    - Random forest\n",
    "    - Support vector machine\n",
    "    - K-nearest neighbor\n",
    "    - K-means clustering\n",
    "    - Gaussian mixture model,\n",
    "    - Hidden markov model, dkk\n",
    "-  Komputer akan belajar secara otomatis saat kita memasukan data yang memiliki fitur berbeda yang harus dipahami oleh algoritma dan menghasilkan keputusan berdasarkan data yang kita berikan. Algoritma yang mampu mempelajari dan menafsirkan data yang diberikan berarti komputer telah melatih dirinya sendiri. Sehingga kita dapat menempaatkan algoritma kita dalam fase pengujian dan tanpa memprogramnya secara eksplisit. Dengan memasukan titik data pengujian dan akan memberikan beberapa hasil\n",
    "## Terminologi\n",
    "- *Dataset* : satu set contoh data yang berisi beberapa fitur yang penting untuk menyelesakan suatu masalah\n",
    "- *Features* : bagian penting dari data yang akan membantu kita untuk memahami masalah. Fitur ini dimasukan kedalam algoritma ML dan membantu ML untuk belajar\n",
    "- *Model* : representasi (model internal) dari sebuah fenomena yang telah dipelajari oleh algoritma ML. Model adalah keluaran yang dapatkan setelah melatih suatu algoritme. Misalnya, algoritma decision tree akan dilatih dan menghasilkan model model decision tree\n",
    "## Process\n",
    "- *Data COllection* : Mengumpulkan data  yang akan dipelajari oleh algoritma\n",
    "- *Data Preparation* : memformat dan merekayasa data ke dalam format yang optimal. Mengekstrak fitur penting dan melakukan pengurangan dimensi.\n",
    "- *Trainig* : dikenal sebagai tahap pengepasan, di sinilah algoritma Machine Learning benar-benar belajar dengan menunjukkan data yang telah dikumpulkan dan disiapkan\n",
    "- *Evaluation* :  Uji model untuk melihat seberapa baik kinerjanya\n",
    "- *Tuning* : Sempurnakan model untuk memaksimalkan kinerjanya\n",
    "## Pendekatan ML\n",
    "- *Supervised Learning*: teknik pembelajaran yang didalam prosesnya dibimbing atau disupervisi. Berguna untuk memrediksi hasil yang diberikan serangkaian training sampel bersama dengan training labels (classifying data point). Kita memberitahu algoritma pada saat prosesnya data apa yang harus diprediksi.\n",
    "    - permasalahan supervised learning dikelompokan menjadi regression problem dan classification problem\n",
    "    - luarannya dapa berupa kategori atau dikenal sebagai klasifikasi\n",
    "    - luaran berupa real-word scalar dikenal sebagai regression\n",
    "- *Unsupervised Learning* : tidak terdapat label pelatihan untuk sampel pelatihan, sehingga algoritma perlu dirumuskan sehingga dapat menemukan struktur dan pola yang sesuai dalam data, setelah ditemukan pola yang konsisten, setiap titik data yang serupa akan dikelompokan menjadi pada kelompok yang serupa\n",
    "    - pembelajaran ini dapat memodelkan struktur dasat atau distribusi dalam data dengan tujuan untuk mempelajari data dengan lebih jauh lagi, sehingga menyimpulkan fungsi yang akan mendeskripsikan atau menjelaskan data\n",
    "    - tidak ada data yang dibenarkan secara terarah\n",
    "    - permasalahan learning ini dikelompokan menjadi : clustering problems, association problems, dan dimensionality reduction\n",
    "    - cara menemukan struktur yang menarik pada data tidak berlabel : density estimation, clusterring, dimensionality reduction, latent variable models, anomaly detection\n",
    "- *Reinforcement Learning*\n",
    "    - ML yang memiliki agen (e.g robot) yang belajar bagaimana berperilaku di lingkungan dengan mengambil tindakan dan mengukur hasilnya, dan akan mendapatkan poin apabila agen dapat memberikan tanggapan dengan benar (feedback). dengan reword atau poin merupakan kunci dari reinforcement learning\n",
    "## Deep Learning\n",
    "- salah satu kategori ML yang terinspirasi dari artificial neural networks  (ANN) yang terinspirasi dari saraf biologis manusia. ANN merupakan fungsi perkiraan dimana suatu jaringan mempelajari suatu parameter di hidden layers yang saat dikalikan dengan iput layer akan memberikan prediksi yang mendekati dengan output yang sesungguhnya"
   ]
  },
  {
   "cell_type": "markdown",
   "metadata": {},
   "source": [
    "# Regression"
   ]
  },
  {
   "cell_type": "markdown",
   "metadata": {},
   "source": [
    "- regression analysis merupakan salah satu bidang penting untuk statistik dan machine learning yang merupakan salah satu bentuk supervised learning \n",
    "- salah satu jenisnya yaitu linear regression. regression mencari hubungan antar variabel\n",
    "- regression menghasilkan angka daripada kelas. yang berguna untuk memprediksi masalah berbasis angka (harga saham, suhu untuk hari tertentu, probabilitas suatu peristiwa, kenaikan gaji)\n",
    "- salah satu kasusnya kita bisa menentukan gaji yang bergantung pada bebrapa fitur yaitu seperti pengalaman, tingkat pendidikaan, peran, kota tempat bekerja, dll yang berguna sebagai observasi. Dimana beberapa fitur memiliki ketergantungan satu sama lain untuk menghasilkan output yang sesuai.\n",
    "- variabel dependen (terikat), output, atau respon merupakan fitur dependen (y)\n",
    "- variabel independen (tidak terikat), input, atau prediktor merupakan fitur independen (x)\n",
    "- regresi memiliki satu variabel dependen yang kontinyu, tidak terbatas, tetapi input dapat berupa kontiyu, diskrit, ataupun kategorikal\n",
    "- kita memerlukan regresi untuk menjawab apakah dan bagaimana beberapa fenomena dapat mempengaruhi satu dan lainnya atau bagaimana keterkaitannya terkait variabel yang ada\n",
    "- regresi mampu meramalkan respon yang menggunakan kumpulan prediktor baru (konsumsi listrik satu jam ke dean dengan melihat suhu luar ruangan, waktu dan jumlah orang dalam rumah, dll)\n"
   ]
  },
  {
   "cell_type": "markdown",
   "metadata": {},
   "source": [
    "# Linear Regression"
   ]
  },
  {
   "cell_type": "markdown",
   "metadata": {},
   "source": [
    "### pengertian\n",
    "- teknik yang paling banyak digunakan, sederhana, dan kemudahan dalam interpretasi hasil\n",
    "---\n",
    "### problem formulation\n",
    "- dalam suatu regresi linear menerapkan beberapa variabel dependen y dan independen x, dan jumlah prediktor r. sehingga tercipta suatu persamaan regresi yang memuat koefisien regresi dan random error\n",
    "- regresi linear menghitung estimasi dari koefisien regresi dimana fungsi ini akan menangkap hubungan atau ketergantungan antara input dan output yang cukup baik\n",
    "- sehingga dihasilkan respon prediksi yang sedekat mungkin dengan nilai aktualnya dan dapat memprediksikan bobot nilai terbaik dengan residuals terkecil\n",
    "- bobot terbaik dapat diperoleh dengan meminimalkan SSR untuk semua pengamatan  dengan metode pendekatan ordinary least squares\n",
    "---\n",
    "### regression performance\n",
    "- nilai y tergantung pada prediktor x dan ada varian tambahan yang melekat pada output\n",
    "- $R^2$ (koefisien determinasi) menunjukan berapa banyak variasi dalam y yang ketergantungan pada x menggunakan model regresi tertentu.\n",
    "- $R^2$ = 1, SSR = 0 yaitu perfect fit karena nilai prediksi dan respons aktual dan saling cocok satu sama lain"
   ]
  },
  {
   "cell_type": "markdown",
   "metadata": {},
   "source": [
    "## Simple Linear Regression"
   ]
  },
  {
   "cell_type": "markdown",
   "metadata": {},
   "source": [
    "- paling sederhana dengan independen tunggal dimana $x=x$\n",
    "- penerapannya dengan mengumpulkan pasangan $(x-y)$ tertentu yang akan diobservasi\n",
    "- estimated regression function memiliki persamaan $f(x) = b_0 + xb_1$. dimana kita bertujuan untuk menghitung nilai optimal dari bobot prediksi $b_0$ dan $b_1$ yang meminimalkan SSR dan menentukan estimated regression function. \n",
    "- $b_0$ = intercept dimana x = 0 atau melewaati sumbu y, dan $b_1$ menentukan kemiringan/slope garis yang diperkirakan\n",
    "- respon prediksi adalah titik - titik pada garis regresi yang seuai dengan nilai input\n",
    "- residuals dihitung sebagai $y_i - f(x_i)=y_i - b_0 - b_1 x_i$ untuk i = 1, .. , n. Yang merupakan jarak antara nilai prediksi dan nilai aslinya, dengan regresi kita meminimalkan residual sehingga sampel teoritis sama dengan sampel aslinya"
   ]
  },
  {
   "cell_type": "markdown",
   "metadata": {},
   "source": [
    "## Multile Linear Regression"
   ]
  },
  {
   "cell_type": "markdown",
   "metadata": {},
   "source": [
    "- kasus regresi linear dengan dua atau lebih independen variabel\n",
    "- contoh kasus dua independen variabel\n",
    "    - $f(x_1, x_2) = b_0 + b_1 x_1 + b_2 x_2$ . yang mewakili regresi dalam ruang tiga dimensi. sehingga dapat menentukan bobot dari $b_0, b_1, b_2$ sehingga dapat sedekat mungkin dengan nilai aktual dan menghasilkan SSR minimal\n",
    "- contoh kasus lebih dari dua independen variabel $f(x_1, x_..., x_r) = b_0 + b_.. x_... + b_r x_r$ dan ada $r+1$ yang harus ditentukan untuk jumlah masukan sebanyak r"
   ]
  },
  {
   "cell_type": "markdown",
   "metadata": {},
   "source": [
    "## Polynomial Regression"
   ]
  },
  {
   "cell_type": "markdown",
   "metadata": {},
   "source": [
    "- dianggap sebagai kasus umum regresi linear dimana variabel dependence antara output dan input akan menghasilkan fungsi estimasi regresi polinomial\n"
   ]
  },
  {
   "cell_type": "markdown",
   "metadata": {},
   "source": [
    "## Underfitting and Overfitting"
   ]
  },
  {
   "cell_type": "markdown",
   "metadata": {},
   "source": [
    "- parameter yang penting saat penggunaan regresi polinomial terkai pemilihan derajat yang optimal untuk penentuan fungsinya"
   ]
  },
  {
   "cell_type": "markdown",
   "metadata": {},
   "source": [
    "### Underfitting \n",
    "- terjadi jika model tidak dapat menangkap dependensi di antara data secara akurat. Seringkali menghasilkan $R^2$ rendah dengan data yang diketahui dan kemampuan generalisasi yang buruk saat diterapkan  dengan data baru.\n",
    "### Overfitting \n",
    "- terjadi saat model mempeljari dependensi di anatara data dan fluktuasi acak. Dengan kata lain, model mempelajari data yang ada dengan terlalu baik. Model kompleks yang  memiliki banyak fitur, seringkali cenderung overfitting. Ketika diterapkan pada data yang  diketahui menghaislkan $R^2$ yang tinggi. Namun, sering tidak menggenaralisasi dengan  baik dan memiliki lebih rendah secara signifikan $R^2$ saat digunakan dengan data baru"
   ]
  },
  {
   "cell_type": "markdown",
   "metadata": {},
   "source": [
    "# Implementasi dalam Python"
   ]
  },
  {
   "cell_type": "markdown",
   "metadata": {},
   "source": [
    "## Simple linear regression in python"
   ]
  },
  {
   "cell_type": "markdown",
   "metadata": {},
   "source": [
    "### Step 1 : import packages and classes"
   ]
  },
  {
   "cell_type": "code",
   "execution_count": 2,
   "metadata": {},
   "outputs": [],
   "source": [
    "import numpy as np\n",
    "import matplotlib.pyplot as plt\n",
    "from sklearn.linear_model import LinearRegression\n",
    "%matplotlib inline"
   ]
  },
  {
   "cell_type": "markdown",
   "metadata": {},
   "source": [
    "sklearn.linear_model.LinearRegression digunakan untuk regresi linear dan polinomial untuk membuat prediksi yang sesuai"
   ]
  },
  {
   "cell_type": "markdown",
   "metadata": {},
   "source": [
    "### Step 2 : Provide data"
   ]
  },
  {
   "cell_type": "code",
   "execution_count": 3,
   "metadata": {},
   "outputs": [],
   "source": [
    "x = np.array([5, 15, 25, 35, 45, 55]).reshape((-1,1))\n",
    "y = np.array([5, 20, 14, 32, 22, 38])"
   ]
  },
  {
   "cell_type": "markdown",
   "metadata": {},
   "source": [
    "- nilai x (regressor) dan output y (predictor) harus berupa array (#kelas instand dengan numpy.array)\n",
    "- perlu dilakukan reshape pada x karena array harus 2 dimensi atau lebih\n",
    "- minimal satu kolom dan baris sebanyak yang diperlukan yang sesuai dengan argumen (-1,1)"
   ]
  },
  {
   "cell_type": "code",
   "execution_count": 4,
   "metadata": {},
   "outputs": [
    {
     "name": "stdout",
     "output_type": "stream",
     "text": [
      "[[ 5]\n",
      " [15]\n",
      " [25]\n",
      " [35]\n",
      " [45]\n",
      " [55]]\n",
      "[ 5 20 14 32 22 38]\n"
     ]
    }
   ],
   "source": [
    "print(x)\n",
    "print(y)"
   ]
  },
  {
   "cell_type": "markdown",
   "metadata": {},
   "source": [
    "- x dengan dimensi (6,1)\n",
    "- y dengan (6, )"
   ]
  },
  {
   "cell_type": "markdown",
   "metadata": {},
   "source": [
    "### Step 3 : Create a model and fit it"
   ]
  },
  {
   "cell_type": "code",
   "execution_count": 5,
   "metadata": {},
   "outputs": [],
   "source": [
    "model = LinearRegression()"
   ]
  },
  {
   "cell_type": "markdown",
   "metadata": {},
   "source": [
    "- membuat model regresi linear yang sesuai dengan data yang ada\n",
    "- LinearRegression akan membuat klas instan model regresi\n",
    "- parameter tambahan untuk LinearRegression:\n",
    "    - fit_intercept adalah Boolean (Benar secara default) yang memutuskan apakah akan menghitung intersep (Benar) atau menganggapnya sama dengan nol (Salah).\n",
    "    - normalize adalah Boolean (False secara default) yang memutuskan apakah akan menormalkan variabel input (True) atau tidak (False).\n",
    "    - copy_X adalah Boolean (True secara default) yang memutuskan apakah akan menyalin (True) atau menimpa variabel input (False).\n",
    "    - n_jobs adalah bilangan bulat atau None (default) dan mewakili jumlah pekerjaan yang digunakan dalam komputasi paralel. None biasanya berarti satu pekerjaan dan -1 untuk menggunakan semua prosesor."
   ]
  },
  {
   "cell_type": "code",
   "execution_count": 6,
   "metadata": {},
   "outputs": [
    {
     "data": {
      "text/plain": [
       "LinearRegression()"
      ]
     },
     "execution_count": 6,
     "metadata": {},
     "output_type": "execute_result"
    }
   ],
   "source": [
    "model.fit(x,y)"
   ]
  },
  {
   "cell_type": "markdown",
   "metadata": {},
   "source": [
    "- Dengan .fit(),  menghitung nilai optimal dari bobot $b_0 dan b_1$ , menggunakan input dan output yang ada (x dan y) sebagai argumen. Dengan kata lain, .fit() mencocok dengan model. Ini mengembalikan diri, yang merupakan model variabel itu sendiri."
   ]
  },
  {
   "cell_type": "code",
   "execution_count": 7,
   "metadata": {},
   "outputs": [
    {
     "data": {
      "text/plain": [
       "LinearRegression(normalize=False)"
      ]
     },
     "execution_count": 7,
     "metadata": {},
     "output_type": "execute_result"
    }
   ],
   "source": [
    "LinearRegression(copy_X=True, fit_intercept=True, n_jobs=None, normalize=False)"
   ]
  },
  {
   "cell_type": "code",
   "execution_count": 8,
   "metadata": {},
   "outputs": [],
   "source": [
    "model=LinearRegression().fit(x,y)"
   ]
  },
  {
   "cell_type": "markdown",
   "metadata": {},
   "source": [
    "### Step 4 : menampilkan hasil"
   ]
  },
  {
   "cell_type": "markdown",
   "metadata": {},
   "source": [
    "setelah model di fit kan. Kita dapat menampilkan hasil untuk memeriksa apakah model sudah bekerja dengan sesuai"
   ]
  },
  {
   "cell_type": "markdown",
   "metadata": {},
   "source": [
    "- .score() merupakan prefiktor x dan regresor y dan nilai $R^2$\n",
    "- .intercept mewakili koefisien $b_0$, \n",
    "- .coef = $b_1$"
   ]
  },
  {
   "cell_type": "code",
   "execution_count": 9,
   "metadata": {},
   "outputs": [
    {
     "name": "stdout",
     "output_type": "stream",
     "text": [
      "coefficient of determination: 0.7158756137479542\n",
      "intercept: 5.633333333333329\n",
      "slope: [0.54]\n"
     ]
    }
   ],
   "source": [
    "r_sq = model.score(x, y)\n",
    "print('coefficient of determination:', r_sq)\n",
    "print('intercept:', model.intercept_)\n",
    "print('slope:', model.coef_)"
   ]
  },
  {
   "cell_type": "markdown",
   "metadata": {},
   "source": [
    "- dari nilai tersebut kita dapat memprediksikan y = 5,63 saat x =0, dan prediksi y akan naik 0,54 saat x naik satu"
   ]
  },
  {
   "cell_type": "markdown",
   "metadata": {},
   "source": [
    "y sebagai array 2D, dan memiliki hasil yang cerupa"
   ]
  },
  {
   "cell_type": "code",
   "execution_count": 11,
   "metadata": {},
   "outputs": [
    {
     "name": "stdout",
     "output_type": "stream",
     "text": [
      "intercept: [5.63333333]\n",
      "slope: [[0.54]]\n"
     ]
    }
   ],
   "source": [
    "new_model = LinearRegression().fit(x, y.reshape((-1, 1)))\n",
    "print('intercept:', new_model.intercept_)\n",
    "print('slope:', new_model.coef_)"
   ]
  },
  {
   "cell_type": "markdown",
   "metadata": {},
   "source": [
    "### Step 5 : memprediksikan respon"
   ]
  },
  {
   "cell_type": "markdown",
   "metadata": {},
   "source": [
    "- dapat memprediksikan data yang baru atau sudah ada dengan menggunakan .predict()"
   ]
  },
  {
   "cell_type": "code",
   "execution_count": 12,
   "metadata": {},
   "outputs": [
    {
     "name": "stdout",
     "output_type": "stream",
     "text": [
      "predicted response:\n",
      "[ 8.33333333 13.73333333 19.13333333 24.53333333 29.93333333 35.33333333]\n"
     ]
    }
   ],
   "source": [
    "y_pred = model.predict(x)\n",
    "print('predicted response:', y_pred, sep='\\n')"
   ]
  },
  {
   "cell_type": "code",
   "execution_count": 13,
   "metadata": {},
   "outputs": [
    {
     "data": {
      "image/png": "[encoded data removed]",
      "text/plain": [
       "<Figure size 432x288 with 1 Axes>"
      ]
     },
     "metadata": {
      "needs_background": "light"
     },
     "output_type": "display_data"
    }
   ],
   "source": [
    "plt.scatter(x, y, alpha=0.5)\n",
    "plt.plot(x, y_pred)\n",
    "plt.title('Scatter plot x and y')\n",
    "plt.xlabel('x')\n",
    "plt.ylabel('y')\n",
    "plt.show()"
   ]
  },
  {
   "cell_type": "code",
   "execution_count": 16,
   "metadata": {},
   "outputs": [
    {
     "name": "stdout",
     "output_type": "stream",
     "text": [
      "predicted response :\n",
      "[[ 8.33333333]\n",
      " [13.73333333]\n",
      " [19.13333333]\n",
      " [24.53333333]\n",
      " [29.93333333]\n",
      " [35.33333333]]\n"
     ]
    }
   ],
   "source": [
    "y_pred = model.intercept_+ model.coef_*x\n",
    "print('predicted response :', y_pred, sep ='\\n')"
   ]
  },
  {
   "cell_type": "markdown",
   "metadata": {},
   "source": [
    "- menampilkan hasil yang berbeda karena sebelumnya merupakan array 2D\n",
    "---\n",
    "- model regresi sering diaplikasikan untuk forecasts, dapat menggunakan model yang sudah di-fit untuk menghitung output berdasarkan beberapa input baru lainnya"
   ]
  },
  {
   "cell_type": "code",
   "execution_count": 17,
   "metadata": {},
   "outputs": [
    {
     "name": "stdout",
     "output_type": "stream",
     "text": [
      "[[0]\n",
      " [1]\n",
      " [2]\n",
      " [3]\n",
      " [4]]\n",
      "[5.63333333 6.17333333 6.71333333 7.25333333 7.79333333]\n"
     ]
    }
   ],
   "source": [
    "x_new = np.arange(5).reshape((-1, 1))\n",
    "print(x_new)\n",
    "y_new = model.predict(x_new)\n",
    "print(y_new)"
   ]
  },
  {
   "cell_type": "markdown",
   "metadata": {},
   "source": [
    "## Multiple Linear Regression with scikit learn"
   ]
  },
  {
   "cell_type": "markdown",
   "metadata": {},
   "source": [
    "### Step 1 dan 2 = import packages dan provide data"
   ]
  },
  {
   "cell_type": "code",
   "execution_count": 18,
   "metadata": {},
   "outputs": [
    {
     "name": "stdout",
     "output_type": "stream",
     "text": [
      "[[ 0  1]\n",
      " [ 5  1]\n",
      " [15  2]\n",
      " [25  5]\n",
      " [35 11]\n",
      " [45 15]\n",
      " [55 34]\n",
      " [60 35]]\n",
      "[ 4  5 20 14 32 22 38 43]\n"
     ]
    }
   ],
   "source": [
    "import numpy as np\n",
    "from sklearn.linear_model import LinearRegression\n",
    "x = [[0,1], [5,1], [15,2], [25,5], [35,11], [45,15], [55, 34], [60, 35]]\n",
    "y = [4, 5, 20, 14, 32, 22, 38, 43]\n",
    "x, y = np.array(x), np.array(y)\n",
    "print (x)\n",
    "print (y)"
   ]
  },
  {
   "cell_type": "markdown",
   "metadata": {},
   "source": [
    "multiple regresi, nilai x merupakan array 2D dengan dua kolom, y = 1D array, x memiliki 2 kolom"
   ]
  },
  {
   "cell_type": "markdown",
   "metadata": {},
   "source": [
    "### Step 3 = Create a model and fit it"
   ]
  },
  {
   "cell_type": "code",
   "execution_count": 19,
   "metadata": {},
   "outputs": [],
   "source": [
    "model = LinearRegression().fit(x,y)"
   ]
  },
  {
   "cell_type": "markdown",
   "metadata": {},
   "source": [
    "### Step 4 = Get result"
   ]
  },
  {
   "cell_type": "code",
   "execution_count": 21,
   "metadata": {},
   "outputs": [
    {
     "name": "stdout",
     "output_type": "stream",
     "text": [
      "coefficient of determination: 0.8615939258756775\n",
      "intercept: 5.52257927519819\n",
      "slope: [0.44706965 0.25502548]\n"
     ]
    }
   ],
   "source": [
    "r_sq = model.score(x, y)\n",
    "print('coefficient of determination:', r_sq)\n",
    "print('intercept:', model.intercept_)\n",
    "print('slope:', model.coef_)"
   ]
  },
  {
   "cell_type": "markdown",
   "metadata": {},
   "source": [
    "- .score()= mendapatkan nilai $R^2$ \n",
    "- .intercept_ dan .coef_ = nilai estimasi (bias $b_0$ ) dan koefisien regresi (array berisi $b_1, b_2$)"
   ]
  },
  {
   "cell_type": "markdown",
   "metadata": {},
   "source": [
    "### Step 5 = Predict response"
   ]
  },
  {
   "cell_type": "code",
   "execution_count": 22,
   "metadata": {},
   "outputs": [
    {
     "name": "stdout",
     "output_type": "stream",
     "text": [
      "predicted response: \n",
      "[ 5.77760476  8.012953   12.73867497 17.9744479  23.97529728 29.4660957\n",
      " 38.78227633 41.27265006]\n"
     ]
    }
   ],
   "source": [
    "y_pred = model.predict(x)\n",
    "print('predicted response: ', y_pred, sep='\\n')"
   ]
  },
  {
   "cell_type": "code",
   "execution_count": 23,
   "metadata": {},
   "outputs": [
    {
     "name": "stdout",
     "output_type": "stream",
     "text": [
      "predicted response: \n",
      "[ 5.77760476  8.012953   12.73867497 17.9744479  23.97529728 29.4660957\n",
      " 38.78227633 41.27265006]\n"
     ]
    }
   ],
   "source": [
    "y_pred = model.intercept_+np.sum(model.coef_*x, axis=1)\n",
    "print('predicted response: ', y_pred, sep='\\n')"
   ]
  },
  {
   "cell_type": "markdown",
   "metadata": {},
   "source": [
    "nilainya juga sangat mirip dari y_pred dengan 2 metode"
   ]
  },
  {
   "cell_type": "markdown",
   "metadata": {},
   "source": [
    "### Step 6 = aplikasi model ke data baru"
   ]
  },
  {
   "cell_type": "code",
   "execution_count": 25,
   "metadata": {},
   "outputs": [
    {
     "name": "stdout",
     "output_type": "stream",
     "text": [
      "[[0 1]\n",
      " [2 3]\n",
      " [4 5]\n",
      " [6 7]\n",
      " [8 9]]\n",
      "[ 5.77760476  7.18179502  8.58598528  9.99017554 11.3943658 ]\n"
     ]
    }
   ],
   "source": [
    "x_new = np.arange(10).reshape(-1,2)\n",
    "print(x_new)\n",
    "y_new = model.predict(x_new)\n",
    "print(y_new)"
   ]
  },
  {
   "cell_type": "markdown",
   "metadata": {},
   "source": [
    "## Polynomial Regression with Scikit-Learn"
   ]
  },
  {
   "cell_type": "markdown",
   "metadata": {},
   "source": [
    "- mirip dengan linear regression\n",
    "- perlu melakukan 1 langkah tambahan, mengubah input array untuk menyertakan non-linear terrms yaitu $x^2$"
   ]
  },
  {
   "cell_type": "markdown",
   "metadata": {},
   "source": [
    "### STEP 1 : import packages and classes"
   ]
  },
  {
   "cell_type": "code",
   "execution_count": 26,
   "metadata": {},
   "outputs": [],
   "source": [
    "import numpy as np\n",
    "from sklearn.linear_model import LinearRegression\n",
    "from sklearn.preprocessing import PolynomialFeatures"
   ]
  },
  {
   "cell_type": "markdown",
   "metadata": {},
   "source": [
    "## STEP 2"
   ]
  },
  {
   "cell_type": "markdown",
   "metadata": {},
   "source": [
    "### provide data"
   ]
  },
  {
   "cell_type": "code",
   "execution_count": 28,
   "metadata": {},
   "outputs": [
    {
     "name": "stdout",
     "output_type": "stream",
     "text": [
      "[[ 5]\n",
      " [15]\n",
      " [25]\n",
      " [35]\n",
      " [45]\n",
      " [55]]\n",
      "[15 11  2  8 25 32]\n"
     ]
    }
   ],
   "source": [
    "x = np.array([5,15,25,35, 45, 55]).reshape((-1,1))\n",
    "y = np.array([15, 11, 2, 8, 25, 32])\n",
    "print(x)\n",
    "print(y)"
   ]
  },
  {
   "cell_type": "code",
   "execution_count": 29,
   "metadata": {},
   "outputs": [
    {
     "data": {
      "text/plain": [
       "<matplotlib.collections.PathCollection at 0x7f2d814f3f40>"
      ]
     },
     "execution_count": 29,
     "metadata": {},
     "output_type": "execute_result"
    },
    {
     "data": {
      "image/png": "[encoded data removed]",
      "text/plain": [
       "<Figure size 432x288 with 1 Axes>"
      ]
     },
     "metadata": {
      "needs_background": "light"
     },
     "output_type": "display_data"
    }
   ],
   "source": [
    "plt.scatter(x,y, alpha =0.5)"
   ]
  },
  {
   "cell_type": "markdown",
   "metadata": {},
   "source": [
    "### transform input data"
   ]
  },
  {
   "cell_type": "markdown",
   "metadata": {},
   "source": [
    "- merupakan langkah baru yang harus dilakukan untuk menambahkan fitur tambahan $x^2$ saat polynomial regression"
   ]
  },
  {
   "cell_type": "code",
   "execution_count": 30,
   "metadata": {},
   "outputs": [],
   "source": [
    "transformer = PolynomialFeatures(degree=2, include_bias=False)"
   ]
  },
  {
   "cell_type": "markdown",
   "metadata": {},
   "source": []
  },
  {
   "cell_type": "code",
   "execution_count": null,
   "metadata": {},
   "outputs": [],
   "source": []
  }
 ],
 "metadata": {
  "interpreter": {
   "hash": "916dbcbb3f70747c44a77c7bcd40155683ae19c65e1c03b4aa3499c5328201f1"
  },
  "kernelspec": {
   "display_name": "Python 3.8.10 64-bit",
   "name": "python3"
  },
  "language_info": {
   "codemirror_mode": {
    "name": "ipython",
    "version": 3
   },
   "file_extension": ".py",
   "mimetype": "text/x-python",
   "name": "python",
   "nbconvert_exporter": "python",
   "pygments_lexer": "ipython3",
   "version": "3.8.10"
  },
  "orig_nbformat": 4
 },
 "nbformat": 4,
 "nbformat_minor": 2
}
