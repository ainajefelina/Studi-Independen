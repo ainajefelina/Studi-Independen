{
 "cells": [
  {
   "cell_type": "markdown",
   "metadata": {},
   "source": [
    "# Regression"
   ]
  },
  {
   "cell_type": "markdown",
   "metadata": {},
   "source": [
    "- regression analysis merupakan salah satu bidang penting untuk statistik dan machine learning\n",
    "- banyak metode, salah satunya linear regression\n",
    "- regression mencari hubungan antar variabel\n",
    "- bentuk lain dari supervised learning\n",
    "- regression menghasilkan angka daripada kelas \n",
    "- berguna untuk memprediksi masalah berbasis angka (harga saham, suhu untuk hari tertentu, probabilitas suatu peristiwa, kenaikan gaji)\n",
    "- perlu menemukan fungsi yang memetakan beberapa fitur atau variabel ke fitur lain dengan cukup baik\n",
    "\n"
   ]
  },
  {
   "cell_type": "code",
   "execution_count": null,
   "metadata": {},
   "outputs": [],
   "source": []
  }
 ],
 "metadata": {
  "language_info": {
   "name": "python"
  },
  "orig_nbformat": 4
 },
 "nbformat": 4,
 "nbformat_minor": 2
}
