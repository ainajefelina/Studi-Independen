{
 "cells": [
  {
   "cell_type": "code",
   "execution_count": 1,
   "source": [
    "import numpy as np\n",
    "import pandas as pd"
   ],
   "outputs": [],
   "metadata": {}
  },
  {
   "cell_type": "code",
   "execution_count": 2,
   "source": [
    "df = pd.read_csv('https://raw.githubusercontent.com/ardhiraka/PFDS_sources/master/nbaallelo.csv')"
   ],
   "outputs": [],
   "metadata": {}
  },
  {
   "cell_type": "code",
   "execution_count": 3,
   "source": [
    "len(df)"
   ],
   "outputs": [
    {
     "output_type": "execute_result",
     "data": {
      "text/plain": [
       "126314"
      ]
     },
     "metadata": {},
     "execution_count": 3
    }
   ],
   "metadata": {}
  },
  {
   "cell_type": "code",
   "execution_count": 4,
   "source": [
    "df.shape"
   ],
   "outputs": [
    {
     "output_type": "execute_result",
     "data": {
      "text/plain": [
       "(126314, 23)"
      ]
     },
     "metadata": {},
     "execution_count": 4
    }
   ],
   "metadata": {}
  },
  {
   "cell_type": "code",
   "execution_count": 7,
   "source": [
    "df.head()"
   ],
   "outputs": [
    {
     "output_type": "execute_result",
     "data": {
      "text/html": [
       "<div>\n",
       "<style scoped>\n",
       "    .dataframe tbody tr th:only-of-type {\n",
       "        vertical-align: middle;\n",
       "    }\n",
       "\n",
       "    .dataframe tbody tr th {\n",
       "        vertical-align: top;\n",
       "    }\n",
       "\n",
       "    .dataframe thead th {\n",
       "        text-align: right;\n",
       "    }\n",
       "</style>\n",
       "<table border=\"1\" class=\"dataframe\">\n",
       "  <thead>\n",
       "    <tr style=\"text-align: right;\">\n",
       "      <th></th>\n",
       "      <th>gameorder</th>\n",
       "      <th>game_id</th>\n",
       "      <th>lg_id</th>\n",
       "      <th>_iscopy</th>\n",
       "      <th>year_id</th>\n",
       "      <th>date_game</th>\n",
       "      <th>seasongame</th>\n",
       "      <th>is_playoffs</th>\n",
       "      <th>team_id</th>\n",
       "      <th>fran_id</th>\n",
       "      <th>...</th>\n",
       "      <th>win_equiv</th>\n",
       "      <th>opp_id</th>\n",
       "      <th>opp_fran</th>\n",
       "      <th>opp_pts</th>\n",
       "      <th>opp_elo_i</th>\n",
       "      <th>opp_elo_n</th>\n",
       "      <th>game_location</th>\n",
       "      <th>game_result</th>\n",
       "      <th>forecast</th>\n",
       "      <th>notes</th>\n",
       "    </tr>\n",
       "  </thead>\n",
       "  <tbody>\n",
       "    <tr>\n",
       "      <th>0</th>\n",
       "      <td>1</td>\n",
       "      <td>194611010TRH</td>\n",
       "      <td>NBA</td>\n",
       "      <td>0</td>\n",
       "      <td>1947</td>\n",
       "      <td>11/1/1946</td>\n",
       "      <td>1</td>\n",
       "      <td>0</td>\n",
       "      <td>TRH</td>\n",
       "      <td>Huskies</td>\n",
       "      <td>...</td>\n",
       "      <td>40.294830</td>\n",
       "      <td>NYK</td>\n",
       "      <td>Knicks</td>\n",
       "      <td>68</td>\n",
       "      <td>1300.0000</td>\n",
       "      <td>1306.7233</td>\n",
       "      <td>H</td>\n",
       "      <td>L</td>\n",
       "      <td>0.640065</td>\n",
       "      <td>NaN</td>\n",
       "    </tr>\n",
       "    <tr>\n",
       "      <th>1</th>\n",
       "      <td>1</td>\n",
       "      <td>194611010TRH</td>\n",
       "      <td>NBA</td>\n",
       "      <td>1</td>\n",
       "      <td>1947</td>\n",
       "      <td>11/1/1946</td>\n",
       "      <td>1</td>\n",
       "      <td>0</td>\n",
       "      <td>NYK</td>\n",
       "      <td>Knicks</td>\n",
       "      <td>...</td>\n",
       "      <td>41.705170</td>\n",
       "      <td>TRH</td>\n",
       "      <td>Huskies</td>\n",
       "      <td>66</td>\n",
       "      <td>1300.0000</td>\n",
       "      <td>1293.2767</td>\n",
       "      <td>A</td>\n",
       "      <td>W</td>\n",
       "      <td>0.359935</td>\n",
       "      <td>NaN</td>\n",
       "    </tr>\n",
       "    <tr>\n",
       "      <th>2</th>\n",
       "      <td>2</td>\n",
       "      <td>194611020CHS</td>\n",
       "      <td>NBA</td>\n",
       "      <td>0</td>\n",
       "      <td>1947</td>\n",
       "      <td>11/2/1946</td>\n",
       "      <td>1</td>\n",
       "      <td>0</td>\n",
       "      <td>CHS</td>\n",
       "      <td>Stags</td>\n",
       "      <td>...</td>\n",
       "      <td>42.012257</td>\n",
       "      <td>NYK</td>\n",
       "      <td>Knicks</td>\n",
       "      <td>47</td>\n",
       "      <td>1306.7233</td>\n",
       "      <td>1297.0712</td>\n",
       "      <td>H</td>\n",
       "      <td>W</td>\n",
       "      <td>0.631101</td>\n",
       "      <td>NaN</td>\n",
       "    </tr>\n",
       "    <tr>\n",
       "      <th>3</th>\n",
       "      <td>2</td>\n",
       "      <td>194611020CHS</td>\n",
       "      <td>NBA</td>\n",
       "      <td>1</td>\n",
       "      <td>1947</td>\n",
       "      <td>11/2/1946</td>\n",
       "      <td>2</td>\n",
       "      <td>0</td>\n",
       "      <td>NYK</td>\n",
       "      <td>Knicks</td>\n",
       "      <td>...</td>\n",
       "      <td>40.692783</td>\n",
       "      <td>CHS</td>\n",
       "      <td>Stags</td>\n",
       "      <td>63</td>\n",
       "      <td>1300.0000</td>\n",
       "      <td>1309.6521</td>\n",
       "      <td>A</td>\n",
       "      <td>L</td>\n",
       "      <td>0.368899</td>\n",
       "      <td>NaN</td>\n",
       "    </tr>\n",
       "    <tr>\n",
       "      <th>4</th>\n",
       "      <td>3</td>\n",
       "      <td>194611020DTF</td>\n",
       "      <td>NBA</td>\n",
       "      <td>0</td>\n",
       "      <td>1947</td>\n",
       "      <td>11/2/1946</td>\n",
       "      <td>1</td>\n",
       "      <td>0</td>\n",
       "      <td>DTF</td>\n",
       "      <td>Falcons</td>\n",
       "      <td>...</td>\n",
       "      <td>38.864048</td>\n",
       "      <td>WSC</td>\n",
       "      <td>Capitols</td>\n",
       "      <td>50</td>\n",
       "      <td>1300.0000</td>\n",
       "      <td>1320.3811</td>\n",
       "      <td>H</td>\n",
       "      <td>L</td>\n",
       "      <td>0.640065</td>\n",
       "      <td>NaN</td>\n",
       "    </tr>\n",
       "  </tbody>\n",
       "</table>\n",
       "<p>5 rows × 23 columns</p>\n",
       "</div>"
      ],
      "text/plain": [
       "   gameorder       game_id lg_id  _iscopy  year_id  date_game  seasongame  \\\n",
       "0          1  194611010TRH   NBA        0     1947  11/1/1946           1   \n",
       "1          1  194611010TRH   NBA        1     1947  11/1/1946           1   \n",
       "2          2  194611020CHS   NBA        0     1947  11/2/1946           1   \n",
       "3          2  194611020CHS   NBA        1     1947  11/2/1946           2   \n",
       "4          3  194611020DTF   NBA        0     1947  11/2/1946           1   \n",
       "\n",
       "   is_playoffs team_id  fran_id  ...  win_equiv  opp_id  opp_fran  opp_pts  \\\n",
       "0            0     TRH  Huskies  ...  40.294830     NYK    Knicks       68   \n",
       "1            0     NYK   Knicks  ...  41.705170     TRH   Huskies       66   \n",
       "2            0     CHS    Stags  ...  42.012257     NYK    Knicks       47   \n",
       "3            0     NYK   Knicks  ...  40.692783     CHS     Stags       63   \n",
       "4            0     DTF  Falcons  ...  38.864048     WSC  Capitols       50   \n",
       "\n",
       "   opp_elo_i  opp_elo_n  game_location  game_result  forecast notes  \n",
       "0  1300.0000  1306.7233              H            L  0.640065   NaN  \n",
       "1  1300.0000  1293.2767              A            W  0.359935   NaN  \n",
       "2  1306.7233  1297.0712              H            W  0.631101   NaN  \n",
       "3  1300.0000  1309.6521              A            L  0.368899   NaN  \n",
       "4  1300.0000  1320.3811              H            L  0.640065   NaN  \n",
       "\n",
       "[5 rows x 23 columns]"
      ]
     },
     "metadata": {},
     "execution_count": 7
    }
   ],
   "metadata": {}
  },
  {
   "cell_type": "code",
   "execution_count": 8,
   "source": [
    "pd.set_option(\"display.max.columns\", None)"
   ],
   "outputs": [],
   "metadata": {}
  },
  {
   "cell_type": "code",
   "execution_count": 20,
   "source": [
    "pd.set_option(\"display.precision\", 2)"
   ],
   "outputs": [],
   "metadata": {}
  },
  {
   "cell_type": "code",
   "execution_count": 11,
   "source": [
    "df.tail()"
   ],
   "outputs": [
    {
     "output_type": "execute_result",
     "data": {
      "text/html": [
       "<div>\n",
       "<style scoped>\n",
       "    .dataframe tbody tr th:only-of-type {\n",
       "        vertical-align: middle;\n",
       "    }\n",
       "\n",
       "    .dataframe tbody tr th {\n",
       "        vertical-align: top;\n",
       "    }\n",
       "\n",
       "    .dataframe thead th {\n",
       "        text-align: right;\n",
       "    }\n",
       "</style>\n",
       "<table border=\"1\" class=\"dataframe\">\n",
       "  <thead>\n",
       "    <tr style=\"text-align: right;\">\n",
       "      <th></th>\n",
       "      <th>gameorder</th>\n",
       "      <th>game_id</th>\n",
       "      <th>lg_id</th>\n",
       "      <th>_iscopy</th>\n",
       "      <th>year_id</th>\n",
       "      <th>date_game</th>\n",
       "      <th>seasongame</th>\n",
       "      <th>is_playoffs</th>\n",
       "      <th>team_id</th>\n",
       "      <th>fran_id</th>\n",
       "      <th>pts</th>\n",
       "      <th>elo_i</th>\n",
       "      <th>elo_n</th>\n",
       "      <th>win_equiv</th>\n",
       "      <th>opp_id</th>\n",
       "      <th>opp_fran</th>\n",
       "      <th>opp_pts</th>\n",
       "      <th>opp_elo_i</th>\n",
       "      <th>opp_elo_n</th>\n",
       "      <th>game_location</th>\n",
       "      <th>game_result</th>\n",
       "      <th>forecast</th>\n",
       "      <th>notes</th>\n",
       "    </tr>\n",
       "  </thead>\n",
       "  <tbody>\n",
       "    <tr>\n",
       "      <th>126309</th>\n",
       "      <td>63155</td>\n",
       "      <td>201506110CLE</td>\n",
       "      <td>NBA</td>\n",
       "      <td>0</td>\n",
       "      <td>2015</td>\n",
       "      <td>6/11/2015</td>\n",
       "      <td>100</td>\n",
       "      <td>1</td>\n",
       "      <td>CLE</td>\n",
       "      <td>Cavaliers</td>\n",
       "      <td>82</td>\n",
       "      <td>1723.4149</td>\n",
       "      <td>1704.3949</td>\n",
       "      <td>60.309792</td>\n",
       "      <td>GSW</td>\n",
       "      <td>Warriors</td>\n",
       "      <td>103</td>\n",
       "      <td>1790.9591</td>\n",
       "      <td>1809.9791</td>\n",
       "      <td>H</td>\n",
       "      <td>L</td>\n",
       "      <td>0.546572</td>\n",
       "      <td>NaN</td>\n",
       "    </tr>\n",
       "    <tr>\n",
       "      <th>126310</th>\n",
       "      <td>63156</td>\n",
       "      <td>201506140GSW</td>\n",
       "      <td>NBA</td>\n",
       "      <td>0</td>\n",
       "      <td>2015</td>\n",
       "      <td>6/14/2015</td>\n",
       "      <td>102</td>\n",
       "      <td>1</td>\n",
       "      <td>GSW</td>\n",
       "      <td>Warriors</td>\n",
       "      <td>104</td>\n",
       "      <td>1809.9791</td>\n",
       "      <td>1813.6349</td>\n",
       "      <td>68.013329</td>\n",
       "      <td>CLE</td>\n",
       "      <td>Cavaliers</td>\n",
       "      <td>91</td>\n",
       "      <td>1704.3949</td>\n",
       "      <td>1700.7391</td>\n",
       "      <td>H</td>\n",
       "      <td>W</td>\n",
       "      <td>0.765565</td>\n",
       "      <td>NaN</td>\n",
       "    </tr>\n",
       "    <tr>\n",
       "      <th>126311</th>\n",
       "      <td>63156</td>\n",
       "      <td>201506140GSW</td>\n",
       "      <td>NBA</td>\n",
       "      <td>1</td>\n",
       "      <td>2015</td>\n",
       "      <td>6/14/2015</td>\n",
       "      <td>101</td>\n",
       "      <td>1</td>\n",
       "      <td>CLE</td>\n",
       "      <td>Cavaliers</td>\n",
       "      <td>91</td>\n",
       "      <td>1704.3949</td>\n",
       "      <td>1700.7391</td>\n",
       "      <td>60.010067</td>\n",
       "      <td>GSW</td>\n",
       "      <td>Warriors</td>\n",
       "      <td>104</td>\n",
       "      <td>1809.9791</td>\n",
       "      <td>1813.6349</td>\n",
       "      <td>A</td>\n",
       "      <td>L</td>\n",
       "      <td>0.234435</td>\n",
       "      <td>NaN</td>\n",
       "    </tr>\n",
       "    <tr>\n",
       "      <th>126312</th>\n",
       "      <td>63157</td>\n",
       "      <td>201506170CLE</td>\n",
       "      <td>NBA</td>\n",
       "      <td>0</td>\n",
       "      <td>2015</td>\n",
       "      <td>6/16/2015</td>\n",
       "      <td>102</td>\n",
       "      <td>1</td>\n",
       "      <td>CLE</td>\n",
       "      <td>Cavaliers</td>\n",
       "      <td>97</td>\n",
       "      <td>1700.7391</td>\n",
       "      <td>1692.0859</td>\n",
       "      <td>59.290245</td>\n",
       "      <td>GSW</td>\n",
       "      <td>Warriors</td>\n",
       "      <td>105</td>\n",
       "      <td>1813.6349</td>\n",
       "      <td>1822.2881</td>\n",
       "      <td>H</td>\n",
       "      <td>L</td>\n",
       "      <td>0.481450</td>\n",
       "      <td>NaN</td>\n",
       "    </tr>\n",
       "    <tr>\n",
       "      <th>126313</th>\n",
       "      <td>63157</td>\n",
       "      <td>201506170CLE</td>\n",
       "      <td>NBA</td>\n",
       "      <td>1</td>\n",
       "      <td>2015</td>\n",
       "      <td>6/16/2015</td>\n",
       "      <td>103</td>\n",
       "      <td>1</td>\n",
       "      <td>GSW</td>\n",
       "      <td>Warriors</td>\n",
       "      <td>105</td>\n",
       "      <td>1813.6349</td>\n",
       "      <td>1822.2881</td>\n",
       "      <td>68.519516</td>\n",
       "      <td>CLE</td>\n",
       "      <td>Cavaliers</td>\n",
       "      <td>97</td>\n",
       "      <td>1700.7391</td>\n",
       "      <td>1692.0859</td>\n",
       "      <td>A</td>\n",
       "      <td>W</td>\n",
       "      <td>0.518550</td>\n",
       "      <td>NaN</td>\n",
       "    </tr>\n",
       "  </tbody>\n",
       "</table>\n",
       "</div>"
      ],
      "text/plain": [
       "        gameorder       game_id lg_id  _iscopy  year_id  date_game  \\\n",
       "126309      63155  201506110CLE   NBA        0     2015  6/11/2015   \n",
       "126310      63156  201506140GSW   NBA        0     2015  6/14/2015   \n",
       "126311      63156  201506140GSW   NBA        1     2015  6/14/2015   \n",
       "126312      63157  201506170CLE   NBA        0     2015  6/16/2015   \n",
       "126313      63157  201506170CLE   NBA        1     2015  6/16/2015   \n",
       "\n",
       "        seasongame  is_playoffs team_id    fran_id  pts      elo_i      elo_n  \\\n",
       "126309         100            1     CLE  Cavaliers   82  1723.4149  1704.3949   \n",
       "126310         102            1     GSW   Warriors  104  1809.9791  1813.6349   \n",
       "126311         101            1     CLE  Cavaliers   91  1704.3949  1700.7391   \n",
       "126312         102            1     CLE  Cavaliers   97  1700.7391  1692.0859   \n",
       "126313         103            1     GSW   Warriors  105  1813.6349  1822.2881   \n",
       "\n",
       "        win_equiv opp_id   opp_fran  opp_pts  opp_elo_i  opp_elo_n  \\\n",
       "126309  60.309792    GSW   Warriors      103  1790.9591  1809.9791   \n",
       "126310  68.013329    CLE  Cavaliers       91  1704.3949  1700.7391   \n",
       "126311  60.010067    GSW   Warriors      104  1809.9791  1813.6349   \n",
       "126312  59.290245    GSW   Warriors      105  1813.6349  1822.2881   \n",
       "126313  68.519516    CLE  Cavaliers       97  1700.7391  1692.0859   \n",
       "\n",
       "       game_location game_result  forecast notes  \n",
       "126309             H           L  0.546572   NaN  \n",
       "126310             H           W  0.765565   NaN  \n",
       "126311             A           L  0.234435   NaN  \n",
       "126312             H           L  0.481450   NaN  \n",
       "126313             A           W  0.518550   NaN  "
      ]
     },
     "metadata": {},
     "execution_count": 11
    }
   ],
   "metadata": {}
  },
  {
   "cell_type": "code",
   "execution_count": 12,
   "source": [
    "df.tail(3)"
   ],
   "outputs": [
    {
     "output_type": "execute_result",
     "data": {
      "text/html": [
       "<div>\n",
       "<style scoped>\n",
       "    .dataframe tbody tr th:only-of-type {\n",
       "        vertical-align: middle;\n",
       "    }\n",
       "\n",
       "    .dataframe tbody tr th {\n",
       "        vertical-align: top;\n",
       "    }\n",
       "\n",
       "    .dataframe thead th {\n",
       "        text-align: right;\n",
       "    }\n",
       "</style>\n",
       "<table border=\"1\" class=\"dataframe\">\n",
       "  <thead>\n",
       "    <tr style=\"text-align: right;\">\n",
       "      <th></th>\n",
       "      <th>gameorder</th>\n",
       "      <th>game_id</th>\n",
       "      <th>lg_id</th>\n",
       "      <th>_iscopy</th>\n",
       "      <th>year_id</th>\n",
       "      <th>date_game</th>\n",
       "      <th>seasongame</th>\n",
       "      <th>is_playoffs</th>\n",
       "      <th>team_id</th>\n",
       "      <th>fran_id</th>\n",
       "      <th>pts</th>\n",
       "      <th>elo_i</th>\n",
       "      <th>elo_n</th>\n",
       "      <th>win_equiv</th>\n",
       "      <th>opp_id</th>\n",
       "      <th>opp_fran</th>\n",
       "      <th>opp_pts</th>\n",
       "      <th>opp_elo_i</th>\n",
       "      <th>opp_elo_n</th>\n",
       "      <th>game_location</th>\n",
       "      <th>game_result</th>\n",
       "      <th>forecast</th>\n",
       "      <th>notes</th>\n",
       "    </tr>\n",
       "  </thead>\n",
       "  <tbody>\n",
       "    <tr>\n",
       "      <th>126311</th>\n",
       "      <td>63156</td>\n",
       "      <td>201506140GSW</td>\n",
       "      <td>NBA</td>\n",
       "      <td>1</td>\n",
       "      <td>2015</td>\n",
       "      <td>6/14/2015</td>\n",
       "      <td>101</td>\n",
       "      <td>1</td>\n",
       "      <td>CLE</td>\n",
       "      <td>Cavaliers</td>\n",
       "      <td>91</td>\n",
       "      <td>1704.3949</td>\n",
       "      <td>1700.7391</td>\n",
       "      <td>60.010067</td>\n",
       "      <td>GSW</td>\n",
       "      <td>Warriors</td>\n",
       "      <td>104</td>\n",
       "      <td>1809.9791</td>\n",
       "      <td>1813.6349</td>\n",
       "      <td>A</td>\n",
       "      <td>L</td>\n",
       "      <td>0.234435</td>\n",
       "      <td>NaN</td>\n",
       "    </tr>\n",
       "    <tr>\n",
       "      <th>126312</th>\n",
       "      <td>63157</td>\n",
       "      <td>201506170CLE</td>\n",
       "      <td>NBA</td>\n",
       "      <td>0</td>\n",
       "      <td>2015</td>\n",
       "      <td>6/16/2015</td>\n",
       "      <td>102</td>\n",
       "      <td>1</td>\n",
       "      <td>CLE</td>\n",
       "      <td>Cavaliers</td>\n",
       "      <td>97</td>\n",
       "      <td>1700.7391</td>\n",
       "      <td>1692.0859</td>\n",
       "      <td>59.290245</td>\n",
       "      <td>GSW</td>\n",
       "      <td>Warriors</td>\n",
       "      <td>105</td>\n",
       "      <td>1813.6349</td>\n",
       "      <td>1822.2881</td>\n",
       "      <td>H</td>\n",
       "      <td>L</td>\n",
       "      <td>0.481450</td>\n",
       "      <td>NaN</td>\n",
       "    </tr>\n",
       "    <tr>\n",
       "      <th>126313</th>\n",
       "      <td>63157</td>\n",
       "      <td>201506170CLE</td>\n",
       "      <td>NBA</td>\n",
       "      <td>1</td>\n",
       "      <td>2015</td>\n",
       "      <td>6/16/2015</td>\n",
       "      <td>103</td>\n",
       "      <td>1</td>\n",
       "      <td>GSW</td>\n",
       "      <td>Warriors</td>\n",
       "      <td>105</td>\n",
       "      <td>1813.6349</td>\n",
       "      <td>1822.2881</td>\n",
       "      <td>68.519516</td>\n",
       "      <td>CLE</td>\n",
       "      <td>Cavaliers</td>\n",
       "      <td>97</td>\n",
       "      <td>1700.7391</td>\n",
       "      <td>1692.0859</td>\n",
       "      <td>A</td>\n",
       "      <td>W</td>\n",
       "      <td>0.518550</td>\n",
       "      <td>NaN</td>\n",
       "    </tr>\n",
       "  </tbody>\n",
       "</table>\n",
       "</div>"
      ],
      "text/plain": [
       "        gameorder       game_id lg_id  _iscopy  year_id  date_game  \\\n",
       "126311      63156  201506140GSW   NBA        1     2015  6/14/2015   \n",
       "126312      63157  201506170CLE   NBA        0     2015  6/16/2015   \n",
       "126313      63157  201506170CLE   NBA        1     2015  6/16/2015   \n",
       "\n",
       "        seasongame  is_playoffs team_id    fran_id  pts      elo_i      elo_n  \\\n",
       "126311         101            1     CLE  Cavaliers   91  1704.3949  1700.7391   \n",
       "126312         102            1     CLE  Cavaliers   97  1700.7391  1692.0859   \n",
       "126313         103            1     GSW   Warriors  105  1813.6349  1822.2881   \n",
       "\n",
       "        win_equiv opp_id   opp_fran  opp_pts  opp_elo_i  opp_elo_n  \\\n",
       "126311  60.010067    GSW   Warriors      104  1809.9791  1813.6349   \n",
       "126312  59.290245    GSW   Warriors      105  1813.6349  1822.2881   \n",
       "126313  68.519516    CLE  Cavaliers       97  1700.7391  1692.0859   \n",
       "\n",
       "       game_location game_result  forecast notes  \n",
       "126311             A           L  0.234435   NaN  \n",
       "126312             H           L  0.481450   NaN  \n",
       "126313             A           W  0.518550   NaN  "
      ]
     },
     "metadata": {},
     "execution_count": 12
    }
   ],
   "metadata": {}
  },
  {
   "cell_type": "code",
   "execution_count": 13,
   "source": [
    "df.info()"
   ],
   "outputs": [
    {
     "output_type": "stream",
     "name": "stdout",
     "text": [
      "<class 'pandas.core.frame.DataFrame'>\n",
      "RangeIndex: 126314 entries, 0 to 126313\n",
      "Data columns (total 23 columns):\n",
      " #   Column         Non-Null Count   Dtype  \n",
      "---  ------         --------------   -----  \n",
      " 0   gameorder      126314 non-null  int64  \n",
      " 1   game_id        126314 non-null  object \n",
      " 2   lg_id          126314 non-null  object \n",
      " 3   _iscopy        126314 non-null  int64  \n",
      " 4   year_id        126314 non-null  int64  \n",
      " 5   date_game      126314 non-null  object \n",
      " 6   seasongame     126314 non-null  int64  \n",
      " 7   is_playoffs    126314 non-null  int64  \n",
      " 8   team_id        126314 non-null  object \n",
      " 9   fran_id        126314 non-null  object \n",
      " 10  pts            126314 non-null  int64  \n",
      " 11  elo_i          126314 non-null  float64\n",
      " 12  elo_n          126314 non-null  float64\n",
      " 13  win_equiv      126314 non-null  float64\n",
      " 14  opp_id         126314 non-null  object \n",
      " 15  opp_fran       126314 non-null  object \n",
      " 16  opp_pts        126314 non-null  int64  \n",
      " 17  opp_elo_i      126314 non-null  float64\n",
      " 18  opp_elo_n      126314 non-null  float64\n",
      " 19  game_location  126314 non-null  object \n",
      " 20  game_result    126314 non-null  object \n",
      " 21  forecast       126314 non-null  float64\n",
      " 22  notes          5424 non-null    object \n",
      "dtypes: float64(6), int64(7), object(10)\n",
      "memory usage: 22.2+ MB\n"
     ]
    }
   ],
   "metadata": {}
  },
  {
   "cell_type": "code",
   "execution_count": 14,
   "source": [
    "df.describe()"
   ],
   "outputs": [
    {
     "output_type": "execute_result",
     "data": {
      "text/html": [
       "<div>\n",
       "<style scoped>\n",
       "    .dataframe tbody tr th:only-of-type {\n",
       "        vertical-align: middle;\n",
       "    }\n",
       "\n",
       "    .dataframe tbody tr th {\n",
       "        vertical-align: top;\n",
       "    }\n",
       "\n",
       "    .dataframe thead th {\n",
       "        text-align: right;\n",
       "    }\n",
       "</style>\n",
       "<table border=\"1\" class=\"dataframe\">\n",
       "  <thead>\n",
       "    <tr style=\"text-align: right;\">\n",
       "      <th></th>\n",
       "      <th>gameorder</th>\n",
       "      <th>_iscopy</th>\n",
       "      <th>year_id</th>\n",
       "      <th>seasongame</th>\n",
       "      <th>is_playoffs</th>\n",
       "      <th>pts</th>\n",
       "      <th>elo_i</th>\n",
       "      <th>elo_n</th>\n",
       "      <th>win_equiv</th>\n",
       "      <th>opp_pts</th>\n",
       "      <th>opp_elo_i</th>\n",
       "      <th>opp_elo_n</th>\n",
       "      <th>forecast</th>\n",
       "    </tr>\n",
       "  </thead>\n",
       "  <tbody>\n",
       "    <tr>\n",
       "      <th>count</th>\n",
       "      <td>126314.000000</td>\n",
       "      <td>126314.000000</td>\n",
       "      <td>126314.000000</td>\n",
       "      <td>126314.000000</td>\n",
       "      <td>126314.000000</td>\n",
       "      <td>126314.000000</td>\n",
       "      <td>126314.000000</td>\n",
       "      <td>126314.000000</td>\n",
       "      <td>126314.000000</td>\n",
       "      <td>126314.000000</td>\n",
       "      <td>126314.000000</td>\n",
       "      <td>126314.000000</td>\n",
       "      <td>126314.000000</td>\n",
       "    </tr>\n",
       "    <tr>\n",
       "      <th>mean</th>\n",
       "      <td>31579.000000</td>\n",
       "      <td>0.500000</td>\n",
       "      <td>1988.200374</td>\n",
       "      <td>43.533733</td>\n",
       "      <td>0.063857</td>\n",
       "      <td>102.729982</td>\n",
       "      <td>1495.236055</td>\n",
       "      <td>1495.236055</td>\n",
       "      <td>41.707889</td>\n",
       "      <td>102.729982</td>\n",
       "      <td>1495.236055</td>\n",
       "      <td>1495.236055</td>\n",
       "      <td>0.500000</td>\n",
       "    </tr>\n",
       "    <tr>\n",
       "      <th>std</th>\n",
       "      <td>18231.927643</td>\n",
       "      <td>0.500002</td>\n",
       "      <td>17.582309</td>\n",
       "      <td>25.375178</td>\n",
       "      <td>0.244499</td>\n",
       "      <td>14.814845</td>\n",
       "      <td>112.139945</td>\n",
       "      <td>112.461687</td>\n",
       "      <td>10.627332</td>\n",
       "      <td>14.814845</td>\n",
       "      <td>112.139945</td>\n",
       "      <td>112.461687</td>\n",
       "      <td>0.215252</td>\n",
       "    </tr>\n",
       "    <tr>\n",
       "      <th>min</th>\n",
       "      <td>1.000000</td>\n",
       "      <td>0.000000</td>\n",
       "      <td>1947.000000</td>\n",
       "      <td>1.000000</td>\n",
       "      <td>0.000000</td>\n",
       "      <td>0.000000</td>\n",
       "      <td>1091.644500</td>\n",
       "      <td>1085.774400</td>\n",
       "      <td>10.152501</td>\n",
       "      <td>0.000000</td>\n",
       "      <td>1091.644500</td>\n",
       "      <td>1085.774400</td>\n",
       "      <td>0.020447</td>\n",
       "    </tr>\n",
       "    <tr>\n",
       "      <th>25%</th>\n",
       "      <td>15790.000000</td>\n",
       "      <td>0.000000</td>\n",
       "      <td>1975.000000</td>\n",
       "      <td>22.000000</td>\n",
       "      <td>0.000000</td>\n",
       "      <td>93.000000</td>\n",
       "      <td>1417.237975</td>\n",
       "      <td>1416.994900</td>\n",
       "      <td>34.103035</td>\n",
       "      <td>93.000000</td>\n",
       "      <td>1417.237975</td>\n",
       "      <td>1416.994900</td>\n",
       "      <td>0.327989</td>\n",
       "    </tr>\n",
       "    <tr>\n",
       "      <th>50%</th>\n",
       "      <td>31579.000000</td>\n",
       "      <td>0.500000</td>\n",
       "      <td>1990.000000</td>\n",
       "      <td>43.000000</td>\n",
       "      <td>0.000000</td>\n",
       "      <td>103.000000</td>\n",
       "      <td>1500.945550</td>\n",
       "      <td>1500.954400</td>\n",
       "      <td>42.113357</td>\n",
       "      <td>103.000000</td>\n",
       "      <td>1500.945550</td>\n",
       "      <td>1500.954400</td>\n",
       "      <td>0.500000</td>\n",
       "    </tr>\n",
       "    <tr>\n",
       "      <th>75%</th>\n",
       "      <td>47368.000000</td>\n",
       "      <td>1.000000</td>\n",
       "      <td>2003.000000</td>\n",
       "      <td>65.000000</td>\n",
       "      <td>0.000000</td>\n",
       "      <td>112.000000</td>\n",
       "      <td>1576.060000</td>\n",
       "      <td>1576.291625</td>\n",
       "      <td>49.635328</td>\n",
       "      <td>112.000000</td>\n",
       "      <td>1576.060000</td>\n",
       "      <td>1576.291625</td>\n",
       "      <td>0.672011</td>\n",
       "    </tr>\n",
       "    <tr>\n",
       "      <th>max</th>\n",
       "      <td>63157.000000</td>\n",
       "      <td>1.000000</td>\n",
       "      <td>2015.000000</td>\n",
       "      <td>108.000000</td>\n",
       "      <td>1.000000</td>\n",
       "      <td>186.000000</td>\n",
       "      <td>1853.104500</td>\n",
       "      <td>1853.104500</td>\n",
       "      <td>71.112038</td>\n",
       "      <td>186.000000</td>\n",
       "      <td>1853.104500</td>\n",
       "      <td>1853.104500</td>\n",
       "      <td>0.979553</td>\n",
       "    </tr>\n",
       "  </tbody>\n",
       "</table>\n",
       "</div>"
      ],
      "text/plain": [
       "           gameorder        _iscopy        year_id     seasongame  \\\n",
       "count  126314.000000  126314.000000  126314.000000  126314.000000   \n",
       "mean    31579.000000       0.500000    1988.200374      43.533733   \n",
       "std     18231.927643       0.500002      17.582309      25.375178   \n",
       "min         1.000000       0.000000    1947.000000       1.000000   \n",
       "25%     15790.000000       0.000000    1975.000000      22.000000   \n",
       "50%     31579.000000       0.500000    1990.000000      43.000000   \n",
       "75%     47368.000000       1.000000    2003.000000      65.000000   \n",
       "max     63157.000000       1.000000    2015.000000     108.000000   \n",
       "\n",
       "         is_playoffs            pts          elo_i          elo_n  \\\n",
       "count  126314.000000  126314.000000  126314.000000  126314.000000   \n",
       "mean        0.063857     102.729982    1495.236055    1495.236055   \n",
       "std         0.244499      14.814845     112.139945     112.461687   \n",
       "min         0.000000       0.000000    1091.644500    1085.774400   \n",
       "25%         0.000000      93.000000    1417.237975    1416.994900   \n",
       "50%         0.000000     103.000000    1500.945550    1500.954400   \n",
       "75%         0.000000     112.000000    1576.060000    1576.291625   \n",
       "max         1.000000     186.000000    1853.104500    1853.104500   \n",
       "\n",
       "           win_equiv        opp_pts      opp_elo_i      opp_elo_n  \\\n",
       "count  126314.000000  126314.000000  126314.000000  126314.000000   \n",
       "mean       41.707889     102.729982    1495.236055    1495.236055   \n",
       "std        10.627332      14.814845     112.139945     112.461687   \n",
       "min        10.152501       0.000000    1091.644500    1085.774400   \n",
       "25%        34.103035      93.000000    1417.237975    1416.994900   \n",
       "50%        42.113357     103.000000    1500.945550    1500.954400   \n",
       "75%        49.635328     112.000000    1576.060000    1576.291625   \n",
       "max        71.112038     186.000000    1853.104500    1853.104500   \n",
       "\n",
       "            forecast  \n",
       "count  126314.000000  \n",
       "mean        0.500000  \n",
       "std         0.215252  \n",
       "min         0.020447  \n",
       "25%         0.327989  \n",
       "50%         0.500000  \n",
       "75%         0.672011  \n",
       "max         0.979553  "
      ]
     },
     "metadata": {},
     "execution_count": 14
    }
   ],
   "metadata": {}
  },
  {
   "cell_type": "code",
   "execution_count": 15,
   "source": [
    "df[\"team_id\"].value_counts()"
   ],
   "outputs": [
    {
     "output_type": "execute_result",
     "data": {
      "text/plain": [
       "BOS    5997\n",
       "NYK    5769\n",
       "LAL    5078\n",
       "DET    4985\n",
       "PHI    4533\n",
       "       ... \n",
       "INJ      60\n",
       "PIT      60\n",
       "DTF      60\n",
       "TRH      60\n",
       "SDS      11\n",
       "Name: team_id, Length: 104, dtype: int64"
      ]
     },
     "metadata": {},
     "execution_count": 15
    }
   ],
   "metadata": {}
  },
  {
   "cell_type": "code",
   "execution_count": 19,
   "source": [
    "df[\"fran_id\"].value_counts()"
   ],
   "outputs": [
    {
     "output_type": "execute_result",
     "data": {
      "text/plain": [
       "Lakers          6024\n",
       "Celtics         5997\n",
       "Knicks          5769\n",
       "Warriors        5657\n",
       "Pistons         5650\n",
       "Sixers          5644\n",
       "Hawks           5572\n",
       "Kings           5475\n",
       "Wizards         4582\n",
       "Spurs           4309\n",
       "Bulls           4307\n",
       "Pacers          4227\n",
       "Thunder         4178\n",
       "Rockets         4154\n",
       "Nuggets         4120\n",
       "Nets            4106\n",
       "Suns            4080\n",
       "Bucks           4034\n",
       "Trailblazers    3870\n",
       "Cavaliers       3810\n",
       "Clippers        3733\n",
       "Jazz            3555\n",
       "Mavericks       3013\n",
       "Heat            2371\n",
       "Pelicans        2254\n",
       "Magic           2207\n",
       "Timberwolves    2131\n",
       "Grizzlies       1657\n",
       "Raptors         1634\n",
       "Hornets          894\n",
       "Colonels         846\n",
       "Squires          799\n",
       "Spirits          777\n",
       "Stars            756\n",
       "Sounds           697\n",
       "Baltimore        467\n",
       "Floridians       440\n",
       "Condors          430\n",
       "Capitols         291\n",
       "Olympians        282\n",
       "Sails            274\n",
       "Stags            260\n",
       "Bombers          249\n",
       "Steamrollers     168\n",
       "Packers           72\n",
       "Redskins          65\n",
       "Rebels            63\n",
       "Waterloo          62\n",
       "Denver            62\n",
       "Falcons           60\n",
       "Jets              60\n",
       "Ironmen           60\n",
       "Huskies           60\n",
       "Name: fran_id, dtype: int64"
      ]
     },
     "metadata": {},
     "execution_count": 19
    }
   ],
   "metadata": {}
  },
  {
   "cell_type": "code",
   "execution_count": 17,
   "source": [
    "df.loc[df[\"fran_id\"] == \"Lakers\", \"team_id\"].value_counts()"
   ],
   "outputs": [
    {
     "output_type": "execute_result",
     "data": {
      "text/plain": [
       "LAL    5078\n",
       "MNL     946\n",
       "Name: team_id, dtype: int64"
      ]
     },
     "metadata": {},
     "execution_count": 17
    }
   ],
   "metadata": {}
  },
  {
   "cell_type": "code",
   "execution_count": 21,
   "source": [
    "df.loc[df[\"team_id\"] == \"MNL\", \"date_game\"].min()"
   ],
   "outputs": [
    {
     "output_type": "execute_result",
     "data": {
      "text/plain": [
       "'1/1/1949'"
      ]
     },
     "metadata": {},
     "execution_count": 21
    }
   ],
   "metadata": {}
  },
  {
   "cell_type": "code",
   "execution_count": 22,
   "source": [
    "df.loc[df[\"team_id\"] == \"MNL\", \"date_game\"].max()"
   ],
   "outputs": [
    {
     "output_type": "execute_result",
     "data": {
      "text/plain": [
       "'4/9/1959'"
      ]
     },
     "metadata": {},
     "execution_count": 22
    }
   ],
   "metadata": {}
  },
  {
   "cell_type": "code",
   "execution_count": 23,
   "source": [
    "df.loc[df[\"team_id\"] == \"MNL\", \"date_game\"].agg((\"min\", \"max\"))"
   ],
   "outputs": [
    {
     "output_type": "execute_result",
     "data": {
      "text/plain": [
       "min    1/1/1949\n",
       "max    4/9/1959\n",
       "Name: date_game, dtype: object"
      ]
     },
     "metadata": {},
     "execution_count": 23
    }
   ],
   "metadata": {}
  },
  {
   "cell_type": "code",
   "execution_count": 24,
   "source": [
    "df.loc[df[\"team_id\"] == \"BOS\", \"pts\"].sum()"
   ],
   "outputs": [
    {
     "output_type": "execute_result",
     "data": {
      "text/plain": [
       "626484"
      ]
     },
     "metadata": {},
     "execution_count": 24
    }
   ],
   "metadata": {}
  },
  {
   "cell_type": "code",
   "execution_count": 25,
   "source": [
    "revenues = pd.Series([5555, 7000, 1980])"
   ],
   "outputs": [],
   "metadata": {}
  },
  {
   "cell_type": "code",
   "execution_count": 26,
   "source": [
    "revenues"
   ],
   "outputs": [
    {
     "output_type": "execute_result",
     "data": {
      "text/plain": [
       "0    5555\n",
       "1    7000\n",
       "2    1980\n",
       "dtype: int64"
      ]
     },
     "metadata": {},
     "execution_count": 26
    }
   ],
   "metadata": {}
  },
  {
   "cell_type": "code",
   "execution_count": 27,
   "source": [
    "revenues.values"
   ],
   "outputs": [
    {
     "output_type": "execute_result",
     "data": {
      "text/plain": [
       "array([5555, 7000, 1980])"
      ]
     },
     "metadata": {},
     "execution_count": 27
    }
   ],
   "metadata": {}
  },
  {
   "cell_type": "code",
   "execution_count": 28,
   "source": [
    "revenues.index"
   ],
   "outputs": [
    {
     "output_type": "execute_result",
     "data": {
      "text/plain": [
       "RangeIndex(start=0, stop=3, step=1)"
      ]
     },
     "metadata": {},
     "execution_count": 28
    }
   ],
   "metadata": {}
  },
  {
   "cell_type": "code",
   "execution_count": 31,
   "source": [
    "city_revenues = pd.Series(\n",
    "    [4200, 8000, 6500],\n",
    "    index=[\"Amsterdam\", \"Toronto\", \"Tokyo\"]\n",
    ")\n",
    "city_revenues"
   ],
   "outputs": [
    {
     "output_type": "execute_result",
     "data": {
      "text/plain": [
       "Amsterdam    4200\n",
       "Toronto      8000\n",
       "Tokyo        6500\n",
       "dtype: int64"
      ]
     },
     "metadata": {},
     "execution_count": 31
    }
   ],
   "metadata": {}
  },
  {
   "cell_type": "code",
   "execution_count": 32,
   "source": [
    "city_employee_count = pd.Series({\"Amsterdam\": 5, \"Tokyo\": 8})\n",
    "city_employee_count"
   ],
   "outputs": [
    {
     "output_type": "execute_result",
     "data": {
      "text/plain": [
       "Amsterdam    5\n",
       "Tokyo        8\n",
       "dtype: int64"
      ]
     },
     "metadata": {},
     "execution_count": 32
    }
   ],
   "metadata": {}
  },
  {
   "cell_type": "code",
   "execution_count": 33,
   "source": [
    "city_employee_count.keys()"
   ],
   "outputs": [
    {
     "output_type": "execute_result",
     "data": {
      "text/plain": [
       "Index(['Amsterdam', 'Tokyo'], dtype='object')"
      ]
     },
     "metadata": {},
     "execution_count": 33
    }
   ],
   "metadata": {}
  },
  {
   "cell_type": "code",
   "execution_count": 34,
   "source": [
    "\"Tokyo\" in city_employee_count"
   ],
   "outputs": [
    {
     "output_type": "execute_result",
     "data": {
      "text/plain": [
       "True"
      ]
     },
     "metadata": {},
     "execution_count": 34
    }
   ],
   "metadata": {}
  },
  {
   "cell_type": "code",
   "execution_count": 35,
   "source": [
    "\"New York\" in city_employee_count"
   ],
   "outputs": [
    {
     "output_type": "execute_result",
     "data": {
      "text/plain": [
       "False"
      ]
     },
     "metadata": {},
     "execution_count": 35
    }
   ],
   "metadata": {}
  },
  {
   "cell_type": "code",
   "execution_count": 36,
   "source": [
    "city_data = pd.DataFrame({\n",
    "    \"revenue\": city_revenues,\n",
    "    \"employee_count\": city_employee_count\n",
    "})"
   ],
   "outputs": [],
   "metadata": {}
  },
  {
   "cell_type": "code",
   "execution_count": 37,
   "source": [
    "city_data"
   ],
   "outputs": [
    {
     "output_type": "execute_result",
     "data": {
      "text/html": [
       "<div>\n",
       "<style scoped>\n",
       "    .dataframe tbody tr th:only-of-type {\n",
       "        vertical-align: middle;\n",
       "    }\n",
       "\n",
       "    .dataframe tbody tr th {\n",
       "        vertical-align: top;\n",
       "    }\n",
       "\n",
       "    .dataframe thead th {\n",
       "        text-align: right;\n",
       "    }\n",
       "</style>\n",
       "<table border=\"1\" class=\"dataframe\">\n",
       "  <thead>\n",
       "    <tr style=\"text-align: right;\">\n",
       "      <th></th>\n",
       "      <th>revenue</th>\n",
       "      <th>employee_count</th>\n",
       "    </tr>\n",
       "  </thead>\n",
       "  <tbody>\n",
       "    <tr>\n",
       "      <th>Amsterdam</th>\n",
       "      <td>4200</td>\n",
       "      <td>5.0</td>\n",
       "    </tr>\n",
       "    <tr>\n",
       "      <th>Tokyo</th>\n",
       "      <td>6500</td>\n",
       "      <td>8.0</td>\n",
       "    </tr>\n",
       "    <tr>\n",
       "      <th>Toronto</th>\n",
       "      <td>8000</td>\n",
       "      <td>NaN</td>\n",
       "    </tr>\n",
       "  </tbody>\n",
       "</table>\n",
       "</div>"
      ],
      "text/plain": [
       "           revenue  employee_count\n",
       "Amsterdam     4200             5.0\n",
       "Tokyo         6500             8.0\n",
       "Toronto       8000             NaN"
      ]
     },
     "metadata": {},
     "execution_count": 37
    }
   ],
   "metadata": {}
  },
  {
   "cell_type": "code",
   "execution_count": 38,
   "source": [
    "city_data.index"
   ],
   "outputs": [
    {
     "output_type": "execute_result",
     "data": {
      "text/plain": [
       "Index(['Amsterdam', 'Tokyo', 'Toronto'], dtype='object')"
      ]
     },
     "metadata": {},
     "execution_count": 38
    }
   ],
   "metadata": {}
  },
  {
   "cell_type": "code",
   "execution_count": 39,
   "source": [
    "city_data.values"
   ],
   "outputs": [
    {
     "output_type": "execute_result",
     "data": {
      "text/plain": [
       "array([[4.2e+03, 5.0e+00],\n",
       "       [6.5e+03, 8.0e+00],\n",
       "       [8.0e+03,     nan]])"
      ]
     },
     "metadata": {},
     "execution_count": 39
    }
   ],
   "metadata": {}
  },
  {
   "cell_type": "code",
   "execution_count": 40,
   "source": [
    "city_data.axes"
   ],
   "outputs": [
    {
     "output_type": "execute_result",
     "data": {
      "text/plain": [
       "[Index(['Amsterdam', 'Tokyo', 'Toronto'], dtype='object'),\n",
       " Index(['revenue', 'employee_count'], dtype='object')]"
      ]
     },
     "metadata": {},
     "execution_count": 40
    }
   ],
   "metadata": {}
  },
  {
   "cell_type": "code",
   "execution_count": 41,
   "source": [
    "city_data.axes[0]\n"
   ],
   "outputs": [
    {
     "output_type": "execute_result",
     "data": {
      "text/plain": [
       "Index(['Amsterdam', 'Tokyo', 'Toronto'], dtype='object')"
      ]
     },
     "metadata": {},
     "execution_count": 41
    }
   ],
   "metadata": {}
  },
  {
   "cell_type": "code",
   "execution_count": 43,
   "source": [
    "city_data.axes[1]\n"
   ],
   "outputs": [
    {
     "output_type": "execute_result",
     "data": {
      "text/plain": [
       "Index(['revenue', 'employee_count'], dtype='object')"
      ]
     },
     "metadata": {},
     "execution_count": 43
    }
   ],
   "metadata": {}
  },
  {
   "cell_type": "code",
   "execution_count": 44,
   "source": [
    "city_data.keys()\n"
   ],
   "outputs": [
    {
     "output_type": "execute_result",
     "data": {
      "text/plain": [
       "Index(['revenue', 'employee_count'], dtype='object')"
      ]
     },
     "metadata": {},
     "execution_count": 44
    }
   ],
   "metadata": {}
  },
  {
   "cell_type": "code",
   "execution_count": 45,
   "source": [
    "\"Amsterdam\" in city_data"
   ],
   "outputs": [
    {
     "output_type": "execute_result",
     "data": {
      "text/plain": [
       "False"
      ]
     },
     "metadata": {},
     "execution_count": 45
    }
   ],
   "metadata": {}
  },
  {
   "cell_type": "code",
   "execution_count": 46,
   "source": [
    "\"revenue\" in city_data"
   ],
   "outputs": [
    {
     "output_type": "execute_result",
     "data": {
      "text/plain": [
       "True"
      ]
     },
     "metadata": {},
     "execution_count": 46
    }
   ],
   "metadata": {}
  },
  {
   "cell_type": "code",
   "execution_count": 47,
   "source": [
    "df.index"
   ],
   "outputs": [
    {
     "output_type": "execute_result",
     "data": {
      "text/plain": [
       "RangeIndex(start=0, stop=126314, step=1)"
      ]
     },
     "metadata": {},
     "execution_count": 47
    }
   ],
   "metadata": {}
  },
  {
   "cell_type": "code",
   "execution_count": 48,
   "source": [
    "df.axes"
   ],
   "outputs": [
    {
     "output_type": "execute_result",
     "data": {
      "text/plain": [
       "[RangeIndex(start=0, stop=126314, step=1),\n",
       " Index(['gameorder', 'game_id', 'lg_id', '_iscopy', 'year_id', 'date_game',\n",
       "        'seasongame', 'is_playoffs', 'team_id', 'fran_id', 'pts', 'elo_i',\n",
       "        'elo_n', 'win_equiv', 'opp_id', 'opp_fran', 'opp_pts', 'opp_elo_i',\n",
       "        'opp_elo_n', 'game_location', 'game_result', 'forecast', 'notes'],\n",
       "       dtype='object')]"
      ]
     },
     "metadata": {},
     "execution_count": 48
    }
   ],
   "metadata": {}
  },
  {
   "cell_type": "code",
   "execution_count": 49,
   "source": [
    "\"pts\" in df.keys()"
   ],
   "outputs": [
    {
     "output_type": "execute_result",
     "data": {
      "text/plain": [
       "True"
      ]
     },
     "metadata": {},
     "execution_count": 49
    }
   ],
   "metadata": {}
  },
  {
   "cell_type": "code",
   "execution_count": 50,
   "source": [
    "\"points\" in df.keys()"
   ],
   "outputs": [
    {
     "output_type": "execute_result",
     "data": {
      "text/plain": [
       "False"
      ]
     },
     "metadata": {},
     "execution_count": 50
    }
   ],
   "metadata": {}
  },
  {
   "cell_type": "code",
   "execution_count": 51,
   "source": [
    "city_revenues"
   ],
   "outputs": [
    {
     "output_type": "execute_result",
     "data": {
      "text/plain": [
       "Amsterdam    4200\n",
       "Toronto      8000\n",
       "Tokyo        6500\n",
       "dtype: int64"
      ]
     },
     "metadata": {},
     "execution_count": 51
    }
   ],
   "metadata": {}
  },
  {
   "cell_type": "code",
   "execution_count": 52,
   "source": [
    "city_revenues[\"Toronto\"]"
   ],
   "outputs": [
    {
     "output_type": "execute_result",
     "data": {
      "text/plain": [
       "8000"
      ]
     },
     "metadata": {},
     "execution_count": 52
    }
   ],
   "metadata": {}
  },
  {
   "cell_type": "code",
   "execution_count": 53,
   "source": [
    "city_revenues[1]"
   ],
   "outputs": [
    {
     "output_type": "execute_result",
     "data": {
      "text/plain": [
       "8000"
      ]
     },
     "metadata": {},
     "execution_count": 53
    }
   ],
   "metadata": {}
  },
  {
   "cell_type": "code",
   "execution_count": 54,
   "source": [
    "city_revenues[\"Toronto\":]"
   ],
   "outputs": [
    {
     "output_type": "execute_result",
     "data": {
      "text/plain": [
       "Toronto    8000\n",
       "Tokyo      6500\n",
       "dtype: int64"
      ]
     },
     "metadata": {},
     "execution_count": 54
    }
   ],
   "metadata": {}
  },
  {
   "cell_type": "code",
   "execution_count": 55,
   "source": [
    "colors = pd.Series(\n",
    "    [\"red\", \"purple\", \"blue\", \"green\", \"yellow\"],\n",
    "    index=[1, 2, 3, 5, 8]\n",
    ")"
   ],
   "outputs": [],
   "metadata": {}
  },
  {
   "cell_type": "code",
   "execution_count": 56,
   "source": [
    "colors"
   ],
   "outputs": [
    {
     "output_type": "execute_result",
     "data": {
      "text/plain": [
       "1       red\n",
       "2    purple\n",
       "3      blue\n",
       "5     green\n",
       "8    yellow\n",
       "dtype: object"
      ]
     },
     "metadata": {},
     "execution_count": 56
    }
   ],
   "metadata": {}
  },
  {
   "cell_type": "code",
   "execution_count": 57,
   "source": [
    "colors.loc[1]"
   ],
   "outputs": [
    {
     "output_type": "execute_result",
     "data": {
      "text/plain": [
       "'red'"
      ]
     },
     "metadata": {},
     "execution_count": 57
    }
   ],
   "metadata": {}
  },
  {
   "cell_type": "code",
   "execution_count": 58,
   "source": [
    "colors.iloc[1]"
   ],
   "outputs": [
    {
     "output_type": "execute_result",
     "data": {
      "text/plain": [
       "'purple'"
      ]
     },
     "metadata": {},
     "execution_count": 58
    }
   ],
   "metadata": {}
  },
  {
   "cell_type": "code",
   "execution_count": 59,
   "source": [
    "colors.iloc[1:3]"
   ],
   "outputs": [
    {
     "output_type": "execute_result",
     "data": {
      "text/plain": [
       "2    purple\n",
       "3      blue\n",
       "dtype: object"
      ]
     },
     "metadata": {},
     "execution_count": 59
    }
   ],
   "metadata": {}
  },
  {
   "cell_type": "code",
   "execution_count": 60,
   "source": [
    "city_data[\"revenue\"]"
   ],
   "outputs": [
    {
     "output_type": "execute_result",
     "data": {
      "text/plain": [
       "Amsterdam    4200\n",
       "Tokyo        6500\n",
       "Toronto      8000\n",
       "Name: revenue, dtype: int64"
      ]
     },
     "metadata": {},
     "execution_count": 60
    }
   ],
   "metadata": {}
  },
  {
   "cell_type": "code",
   "execution_count": 61,
   "source": [
    "city_data.revenue"
   ],
   "outputs": [
    {
     "output_type": "execute_result",
     "data": {
      "text/plain": [
       "Amsterdam    4200\n",
       "Tokyo        6500\n",
       "Toronto      8000\n",
       "Name: revenue, dtype: int64"
      ]
     },
     "metadata": {},
     "execution_count": 61
    }
   ],
   "metadata": {}
  },
  {
   "cell_type": "code",
   "execution_count": 62,
   "source": [
    "toys = pd.DataFrame([\n",
    "    {\"name\": \"ball\", \"shape\": \"sphere\"},\n",
    "    {\"name\": \"Rubik's cube\", \"shape\": \"cube\"}\n",
    "])"
   ],
   "outputs": [],
   "metadata": {}
  },
  {
   "cell_type": "code",
   "execution_count": 63,
   "source": [
    "toys[\"shape\"]"
   ],
   "outputs": [
    {
     "output_type": "execute_result",
     "data": {
      "text/plain": [
       "0    sphere\n",
       "1      cube\n",
       "Name: shape, dtype: object"
      ]
     },
     "metadata": {},
     "execution_count": 63
    }
   ],
   "metadata": {}
  },
  {
   "cell_type": "code",
   "execution_count": 64,
   "source": [
    "toys.shape"
   ],
   "outputs": [
    {
     "output_type": "execute_result",
     "data": {
      "text/plain": [
       "(2, 2)"
      ]
     },
     "metadata": {},
     "execution_count": 64
    }
   ],
   "metadata": {}
  },
  {
   "cell_type": "code",
   "execution_count": 65,
   "source": [
    "city_data.loc[\"Amsterdam\"]"
   ],
   "outputs": [
    {
     "output_type": "execute_result",
     "data": {
      "text/plain": [
       "revenue           4200.0\n",
       "employee_count       5.0\n",
       "Name: Amsterdam, dtype: float64"
      ]
     },
     "metadata": {},
     "execution_count": 65
    }
   ],
   "metadata": {}
  },
  {
   "cell_type": "code",
   "execution_count": 66,
   "source": [
    "city_data.loc[\"Tokyo\": \"Toronto\"]"
   ],
   "outputs": [
    {
     "output_type": "execute_result",
     "data": {
      "text/html": [
       "<div>\n",
       "<style scoped>\n",
       "    .dataframe tbody tr th:only-of-type {\n",
       "        vertical-align: middle;\n",
       "    }\n",
       "\n",
       "    .dataframe tbody tr th {\n",
       "        vertical-align: top;\n",
       "    }\n",
       "\n",
       "    .dataframe thead th {\n",
       "        text-align: right;\n",
       "    }\n",
       "</style>\n",
       "<table border=\"1\" class=\"dataframe\">\n",
       "  <thead>\n",
       "    <tr style=\"text-align: right;\">\n",
       "      <th></th>\n",
       "      <th>revenue</th>\n",
       "      <th>employee_count</th>\n",
       "    </tr>\n",
       "  </thead>\n",
       "  <tbody>\n",
       "    <tr>\n",
       "      <th>Tokyo</th>\n",
       "      <td>6500</td>\n",
       "      <td>8.0</td>\n",
       "    </tr>\n",
       "    <tr>\n",
       "      <th>Toronto</th>\n",
       "      <td>8000</td>\n",
       "      <td>NaN</td>\n",
       "    </tr>\n",
       "  </tbody>\n",
       "</table>\n",
       "</div>"
      ],
      "text/plain": [
       "         revenue  employee_count\n",
       "Tokyo       6500             8.0\n",
       "Toronto     8000             NaN"
      ]
     },
     "metadata": {},
     "execution_count": 66
    }
   ],
   "metadata": {}
  },
  {
   "cell_type": "code",
   "execution_count": 67,
   "source": [
    "city_data.iloc[1]"
   ],
   "outputs": [
    {
     "output_type": "execute_result",
     "data": {
      "text/plain": [
       "revenue           6500.0\n",
       "employee_count       8.0\n",
       "Name: Tokyo, dtype: float64"
      ]
     },
     "metadata": {},
     "execution_count": 67
    }
   ],
   "metadata": {}
  },
  {
   "cell_type": "code",
   "execution_count": 68,
   "source": [
    "df.iloc[-2]"
   ],
   "outputs": [
    {
     "output_type": "execute_result",
     "data": {
      "text/plain": [
       "gameorder               63157\n",
       "game_id          201506170CLE\n",
       "lg_id                     NBA\n",
       "_iscopy                     0\n",
       "year_id                  2015\n",
       "date_game           6/16/2015\n",
       "seasongame                102\n",
       "is_playoffs                 1\n",
       "team_id                   CLE\n",
       "fran_id             Cavaliers\n",
       "pts                        97\n",
       "elo_i                 1700.74\n",
       "elo_n                 1692.09\n",
       "win_equiv               59.29\n",
       "opp_id                    GSW\n",
       "opp_fran             Warriors\n",
       "opp_pts                   105\n",
       "opp_elo_i             1813.63\n",
       "opp_elo_n             1822.29\n",
       "game_location               H\n",
       "game_result                 L\n",
       "forecast                 0.48\n",
       "notes                     NaN\n",
       "Name: 126312, dtype: object"
      ]
     },
     "metadata": {},
     "execution_count": 68
    }
   ],
   "metadata": {}
  },
  {
   "cell_type": "code",
   "execution_count": 69,
   "source": [
    "city_data.loc[\"Amsterdam\": \"Tokyo\", \"revenue\"]"
   ],
   "outputs": [
    {
     "output_type": "execute_result",
     "data": {
      "text/plain": [
       "Amsterdam    4200\n",
       "Tokyo        6500\n",
       "Name: revenue, dtype: int64"
      ]
     },
     "metadata": {},
     "execution_count": 69
    }
   ],
   "metadata": {}
  },
  {
   "cell_type": "code",
   "execution_count": 71,
   "source": [
    " df.loc[5555:5559, [\"fran_id\", \"opp_fran\", \"pts\", \"opp_pts\"]]"
   ],
   "outputs": [
    {
     "output_type": "execute_result",
     "data": {
      "text/html": [
       "<div>\n",
       "<style scoped>\n",
       "    .dataframe tbody tr th:only-of-type {\n",
       "        vertical-align: middle;\n",
       "    }\n",
       "\n",
       "    .dataframe tbody tr th {\n",
       "        vertical-align: top;\n",
       "    }\n",
       "\n",
       "    .dataframe thead th {\n",
       "        text-align: right;\n",
       "    }\n",
       "</style>\n",
       "<table border=\"1\" class=\"dataframe\">\n",
       "  <thead>\n",
       "    <tr style=\"text-align: right;\">\n",
       "      <th></th>\n",
       "      <th>fran_id</th>\n",
       "      <th>opp_fran</th>\n",
       "      <th>pts</th>\n",
       "      <th>opp_pts</th>\n",
       "    </tr>\n",
       "  </thead>\n",
       "  <tbody>\n",
       "    <tr>\n",
       "      <th>5555</th>\n",
       "      <td>Pistons</td>\n",
       "      <td>Warriors</td>\n",
       "      <td>83</td>\n",
       "      <td>56</td>\n",
       "    </tr>\n",
       "    <tr>\n",
       "      <th>5556</th>\n",
       "      <td>Celtics</td>\n",
       "      <td>Knicks</td>\n",
       "      <td>95</td>\n",
       "      <td>74</td>\n",
       "    </tr>\n",
       "    <tr>\n",
       "      <th>5557</th>\n",
       "      <td>Knicks</td>\n",
       "      <td>Celtics</td>\n",
       "      <td>74</td>\n",
       "      <td>95</td>\n",
       "    </tr>\n",
       "    <tr>\n",
       "      <th>5558</th>\n",
       "      <td>Kings</td>\n",
       "      <td>Sixers</td>\n",
       "      <td>81</td>\n",
       "      <td>86</td>\n",
       "    </tr>\n",
       "    <tr>\n",
       "      <th>5559</th>\n",
       "      <td>Sixers</td>\n",
       "      <td>Kings</td>\n",
       "      <td>86</td>\n",
       "      <td>81</td>\n",
       "    </tr>\n",
       "  </tbody>\n",
       "</table>\n",
       "</div>"
      ],
      "text/plain": [
       "      fran_id  opp_fran  pts  opp_pts\n",
       "5555  Pistons  Warriors   83       56\n",
       "5556  Celtics    Knicks   95       74\n",
       "5557   Knicks   Celtics   74       95\n",
       "5558    Kings    Sixers   81       86\n",
       "5559   Sixers     Kings   86       81"
      ]
     },
     "metadata": {},
     "execution_count": 71
    }
   ],
   "metadata": {}
  },
  {
   "cell_type": "code",
   "execution_count": 72,
   "source": [
    " df.loc[5555:5559]"
   ],
   "outputs": [
    {
     "output_type": "execute_result",
     "data": {
      "text/html": [
       "<div>\n",
       "<style scoped>\n",
       "    .dataframe tbody tr th:only-of-type {\n",
       "        vertical-align: middle;\n",
       "    }\n",
       "\n",
       "    .dataframe tbody tr th {\n",
       "        vertical-align: top;\n",
       "    }\n",
       "\n",
       "    .dataframe thead th {\n",
       "        text-align: right;\n",
       "    }\n",
       "</style>\n",
       "<table border=\"1\" class=\"dataframe\">\n",
       "  <thead>\n",
       "    <tr style=\"text-align: right;\">\n",
       "      <th></th>\n",
       "      <th>gameorder</th>\n",
       "      <th>game_id</th>\n",
       "      <th>lg_id</th>\n",
       "      <th>_iscopy</th>\n",
       "      <th>year_id</th>\n",
       "      <th>date_game</th>\n",
       "      <th>seasongame</th>\n",
       "      <th>is_playoffs</th>\n",
       "      <th>team_id</th>\n",
       "      <th>fran_id</th>\n",
       "      <th>pts</th>\n",
       "      <th>elo_i</th>\n",
       "      <th>elo_n</th>\n",
       "      <th>win_equiv</th>\n",
       "      <th>opp_id</th>\n",
       "      <th>opp_fran</th>\n",
       "      <th>opp_pts</th>\n",
       "      <th>opp_elo_i</th>\n",
       "      <th>opp_elo_n</th>\n",
       "      <th>game_location</th>\n",
       "      <th>game_result</th>\n",
       "      <th>forecast</th>\n",
       "      <th>notes</th>\n",
       "    </tr>\n",
       "  </thead>\n",
       "  <tbody>\n",
       "    <tr>\n",
       "      <th>5555</th>\n",
       "      <td>2778</td>\n",
       "      <td>195312310FTW</td>\n",
       "      <td>NBA</td>\n",
       "      <td>0</td>\n",
       "      <td>1954</td>\n",
       "      <td>12/31/1953</td>\n",
       "      <td>30</td>\n",
       "      <td>0</td>\n",
       "      <td>FTW</td>\n",
       "      <td>Pistons</td>\n",
       "      <td>83</td>\n",
       "      <td>1565.75</td>\n",
       "      <td>1572.41</td>\n",
       "      <td>47.12</td>\n",
       "      <td>PHW</td>\n",
       "      <td>Warriors</td>\n",
       "      <td>56</td>\n",
       "      <td>1421.23</td>\n",
       "      <td>1414.57</td>\n",
       "      <td>H</td>\n",
       "      <td>W</td>\n",
       "      <td>0.80</td>\n",
       "      <td>at Indianapolis IN</td>\n",
       "    </tr>\n",
       "    <tr>\n",
       "      <th>5556</th>\n",
       "      <td>2779</td>\n",
       "      <td>195312310NYK</td>\n",
       "      <td>NBA</td>\n",
       "      <td>1</td>\n",
       "      <td>1954</td>\n",
       "      <td>12/31/1953</td>\n",
       "      <td>33</td>\n",
       "      <td>0</td>\n",
       "      <td>BOS</td>\n",
       "      <td>Celtics</td>\n",
       "      <td>95</td>\n",
       "      <td>1526.33</td>\n",
       "      <td>1553.75</td>\n",
       "      <td>45.19</td>\n",
       "      <td>NYK</td>\n",
       "      <td>Knicks</td>\n",
       "      <td>74</td>\n",
       "      <td>1580.91</td>\n",
       "      <td>1553.50</td>\n",
       "      <td>A</td>\n",
       "      <td>W</td>\n",
       "      <td>0.29</td>\n",
       "      <td>NaN</td>\n",
       "    </tr>\n",
       "    <tr>\n",
       "      <th>5557</th>\n",
       "      <td>2779</td>\n",
       "      <td>195312310NYK</td>\n",
       "      <td>NBA</td>\n",
       "      <td>0</td>\n",
       "      <td>1954</td>\n",
       "      <td>12/31/1953</td>\n",
       "      <td>30</td>\n",
       "      <td>0</td>\n",
       "      <td>NYK</td>\n",
       "      <td>Knicks</td>\n",
       "      <td>74</td>\n",
       "      <td>1580.91</td>\n",
       "      <td>1553.50</td>\n",
       "      <td>45.16</td>\n",
       "      <td>BOS</td>\n",
       "      <td>Celtics</td>\n",
       "      <td>95</td>\n",
       "      <td>1526.33</td>\n",
       "      <td>1553.75</td>\n",
       "      <td>H</td>\n",
       "      <td>L</td>\n",
       "      <td>0.71</td>\n",
       "      <td>NaN</td>\n",
       "    </tr>\n",
       "    <tr>\n",
       "      <th>5558</th>\n",
       "      <td>2780</td>\n",
       "      <td>195312310SYR</td>\n",
       "      <td>NBA</td>\n",
       "      <td>1</td>\n",
       "      <td>1954</td>\n",
       "      <td>12/31/1953</td>\n",
       "      <td>29</td>\n",
       "      <td>0</td>\n",
       "      <td>ROC</td>\n",
       "      <td>Kings</td>\n",
       "      <td>81</td>\n",
       "      <td>1591.52</td>\n",
       "      <td>1586.87</td>\n",
       "      <td>48.59</td>\n",
       "      <td>SYR</td>\n",
       "      <td>Sixers</td>\n",
       "      <td>86</td>\n",
       "      <td>1593.86</td>\n",
       "      <td>1598.50</td>\n",
       "      <td>A</td>\n",
       "      <td>L</td>\n",
       "      <td>0.36</td>\n",
       "      <td>NaN</td>\n",
       "    </tr>\n",
       "    <tr>\n",
       "      <th>5559</th>\n",
       "      <td>2780</td>\n",
       "      <td>195312310SYR</td>\n",
       "      <td>NBA</td>\n",
       "      <td>0</td>\n",
       "      <td>1954</td>\n",
       "      <td>12/31/1953</td>\n",
       "      <td>32</td>\n",
       "      <td>0</td>\n",
       "      <td>SYR</td>\n",
       "      <td>Sixers</td>\n",
       "      <td>86</td>\n",
       "      <td>1593.86</td>\n",
       "      <td>1598.50</td>\n",
       "      <td>49.76</td>\n",
       "      <td>ROC</td>\n",
       "      <td>Kings</td>\n",
       "      <td>81</td>\n",
       "      <td>1591.52</td>\n",
       "      <td>1586.87</td>\n",
       "      <td>H</td>\n",
       "      <td>W</td>\n",
       "      <td>0.64</td>\n",
       "      <td>NaN</td>\n",
       "    </tr>\n",
       "  </tbody>\n",
       "</table>\n",
       "</div>"
      ],
      "text/plain": [
       "      gameorder       game_id lg_id  _iscopy  year_id   date_game  seasongame  \\\n",
       "5555       2778  195312310FTW   NBA        0     1954  12/31/1953          30   \n",
       "5556       2779  195312310NYK   NBA        1     1954  12/31/1953          33   \n",
       "5557       2779  195312310NYK   NBA        0     1954  12/31/1953          30   \n",
       "5558       2780  195312310SYR   NBA        1     1954  12/31/1953          29   \n",
       "5559       2780  195312310SYR   NBA        0     1954  12/31/1953          32   \n",
       "\n",
       "      is_playoffs team_id  fran_id  pts    elo_i    elo_n  win_equiv opp_id  \\\n",
       "5555            0     FTW  Pistons   83  1565.75  1572.41      47.12    PHW   \n",
       "5556            0     BOS  Celtics   95  1526.33  1553.75      45.19    NYK   \n",
       "5557            0     NYK   Knicks   74  1580.91  1553.50      45.16    BOS   \n",
       "5558            0     ROC    Kings   81  1591.52  1586.87      48.59    SYR   \n",
       "5559            0     SYR   Sixers   86  1593.86  1598.50      49.76    ROC   \n",
       "\n",
       "      opp_fran  opp_pts  opp_elo_i  opp_elo_n game_location game_result  \\\n",
       "5555  Warriors       56    1421.23    1414.57             H           W   \n",
       "5556    Knicks       74    1580.91    1553.50             A           W   \n",
       "5557   Celtics       95    1526.33    1553.75             H           L   \n",
       "5558    Sixers       86    1593.86    1598.50             A           L   \n",
       "5559     Kings       81    1591.52    1586.87             H           W   \n",
       "\n",
       "      forecast               notes  \n",
       "5555      0.80  at Indianapolis IN  \n",
       "5556      0.29                 NaN  \n",
       "5557      0.71                 NaN  \n",
       "5558      0.36                 NaN  \n",
       "5559      0.64                 NaN  "
      ]
     },
     "metadata": {},
     "execution_count": 72
    }
   ],
   "metadata": {}
  },
  {
   "cell_type": "code",
   "execution_count": 73,
   "source": [
    "current_decade = df[df[\"year_id\"] > 2010]"
   ],
   "outputs": [],
   "metadata": {}
  },
  {
   "cell_type": "code",
   "execution_count": 74,
   "source": [
    "current_decade.shape"
   ],
   "outputs": [
    {
     "output_type": "execute_result",
     "data": {
      "text/plain": [
       "(12658, 23)"
      ]
     },
     "metadata": {},
     "execution_count": 74
    }
   ],
   "metadata": {}
  },
  {
   "cell_type": "code",
   "execution_count": 75,
   "source": [
    "games_with_notes = df[df[\"notes\"].notnull()]\n",
    "games_with_notes.shape"
   ],
   "outputs": [
    {
     "output_type": "execute_result",
     "data": {
      "text/plain": [
       "(5424, 23)"
      ]
     },
     "metadata": {},
     "execution_count": 75
    }
   ],
   "metadata": {}
  },
  {
   "cell_type": "code",
   "execution_count": 76,
   "source": [
    "ers = df[df[\"fran_id\"].str.endswith(\"ers\")]"
   ],
   "outputs": [],
   "metadata": {}
  },
  {
   "cell_type": "code",
   "execution_count": 77,
   "source": [
    "ers.shape"
   ],
   "outputs": [
    {
     "output_type": "execute_result",
     "data": {
      "text/plain": [
       "(27797, 23)"
      ]
     },
     "metadata": {},
     "execution_count": 77
    }
   ],
   "metadata": {}
  },
  {
   "cell_type": "code",
   "execution_count": 78,
   "source": [
    "df[\n",
    "    (df[\"_iscopy\"] == 0) &\n",
    "    (df[\"pts\"] > 100) &\n",
    "    (df[\"opp_pts\"] > 100) &\n",
    "    (df[\"team_id\"] == \"BLB\")\n",
    "]"
   ],
   "outputs": [
    {
     "output_type": "execute_result",
     "data": {
      "text/html": [
       "<div>\n",
       "<style scoped>\n",
       "    .dataframe tbody tr th:only-of-type {\n",
       "        vertical-align: middle;\n",
       "    }\n",
       "\n",
       "    .dataframe tbody tr th {\n",
       "        vertical-align: top;\n",
       "    }\n",
       "\n",
       "    .dataframe thead th {\n",
       "        text-align: right;\n",
       "    }\n",
       "</style>\n",
       "<table border=\"1\" class=\"dataframe\">\n",
       "  <thead>\n",
       "    <tr style=\"text-align: right;\">\n",
       "      <th></th>\n",
       "      <th>gameorder</th>\n",
       "      <th>game_id</th>\n",
       "      <th>lg_id</th>\n",
       "      <th>_iscopy</th>\n",
       "      <th>year_id</th>\n",
       "      <th>date_game</th>\n",
       "      <th>seasongame</th>\n",
       "      <th>is_playoffs</th>\n",
       "      <th>team_id</th>\n",
       "      <th>fran_id</th>\n",
       "      <th>pts</th>\n",
       "      <th>elo_i</th>\n",
       "      <th>elo_n</th>\n",
       "      <th>win_equiv</th>\n",
       "      <th>opp_id</th>\n",
       "      <th>opp_fran</th>\n",
       "      <th>opp_pts</th>\n",
       "      <th>opp_elo_i</th>\n",
       "      <th>opp_elo_n</th>\n",
       "      <th>game_location</th>\n",
       "      <th>game_result</th>\n",
       "      <th>forecast</th>\n",
       "      <th>notes</th>\n",
       "    </tr>\n",
       "  </thead>\n",
       "  <tbody>\n",
       "    <tr>\n",
       "      <th>1726</th>\n",
       "      <td>864</td>\n",
       "      <td>194902260BLB</td>\n",
       "      <td>NBA</td>\n",
       "      <td>0</td>\n",
       "      <td>1949</td>\n",
       "      <td>2/26/1949</td>\n",
       "      <td>53</td>\n",
       "      <td>0</td>\n",
       "      <td>BLB</td>\n",
       "      <td>Baltimore</td>\n",
       "      <td>114</td>\n",
       "      <td>1421.94</td>\n",
       "      <td>1419.43</td>\n",
       "      <td>38.56</td>\n",
       "      <td>MNL</td>\n",
       "      <td>Lakers</td>\n",
       "      <td>115</td>\n",
       "      <td>1637.99</td>\n",
       "      <td>1640.49</td>\n",
       "      <td>H</td>\n",
       "      <td>L</td>\n",
       "      <td>0.34</td>\n",
       "      <td>NaN</td>\n",
       "    </tr>\n",
       "    <tr>\n",
       "      <th>4890</th>\n",
       "      <td>2446</td>\n",
       "      <td>195301100BLB</td>\n",
       "      <td>NBA</td>\n",
       "      <td>0</td>\n",
       "      <td>1953</td>\n",
       "      <td>1/10/1953</td>\n",
       "      <td>32</td>\n",
       "      <td>0</td>\n",
       "      <td>BLB</td>\n",
       "      <td>Baltimore</td>\n",
       "      <td>126</td>\n",
       "      <td>1328.67</td>\n",
       "      <td>1356.65</td>\n",
       "      <td>25.80</td>\n",
       "      <td>BOS</td>\n",
       "      <td>Celtics</td>\n",
       "      <td>105</td>\n",
       "      <td>1591.14</td>\n",
       "      <td>1563.17</td>\n",
       "      <td>H</td>\n",
       "      <td>W</td>\n",
       "      <td>0.28</td>\n",
       "      <td>NaN</td>\n",
       "    </tr>\n",
       "    <tr>\n",
       "      <th>4909</th>\n",
       "      <td>2455</td>\n",
       "      <td>195301140BLB</td>\n",
       "      <td>NBA</td>\n",
       "      <td>0</td>\n",
       "      <td>1953</td>\n",
       "      <td>1/14/1953</td>\n",
       "      <td>34</td>\n",
       "      <td>0</td>\n",
       "      <td>BLB</td>\n",
       "      <td>Baltimore</td>\n",
       "      <td>104</td>\n",
       "      <td>1349.83</td>\n",
       "      <td>1346.36</td>\n",
       "      <td>24.88</td>\n",
       "      <td>MNL</td>\n",
       "      <td>Lakers</td>\n",
       "      <td>112</td>\n",
       "      <td>1665.44</td>\n",
       "      <td>1668.91</td>\n",
       "      <td>H</td>\n",
       "      <td>L</td>\n",
       "      <td>0.22</td>\n",
       "      <td>NaN</td>\n",
       "    </tr>\n",
       "    <tr>\n",
       "      <th>5208</th>\n",
       "      <td>2605</td>\n",
       "      <td>195303110BLB</td>\n",
       "      <td>NBA</td>\n",
       "      <td>0</td>\n",
       "      <td>1953</td>\n",
       "      <td>3/11/1953</td>\n",
       "      <td>66</td>\n",
       "      <td>0</td>\n",
       "      <td>BLB</td>\n",
       "      <td>Baltimore</td>\n",
       "      <td>107</td>\n",
       "      <td>1284.52</td>\n",
       "      <td>1282.24</td>\n",
       "      <td>19.58</td>\n",
       "      <td>NYK</td>\n",
       "      <td>Knicks</td>\n",
       "      <td>113</td>\n",
       "      <td>1649.15</td>\n",
       "      <td>1651.44</td>\n",
       "      <td>H</td>\n",
       "      <td>L</td>\n",
       "      <td>0.18</td>\n",
       "      <td>at Boston MA</td>\n",
       "    </tr>\n",
       "    <tr>\n",
       "      <th>5825</th>\n",
       "      <td>2913</td>\n",
       "      <td>195402220BLB</td>\n",
       "      <td>NBA</td>\n",
       "      <td>0</td>\n",
       "      <td>1954</td>\n",
       "      <td>2/22/1954</td>\n",
       "      <td>60</td>\n",
       "      <td>0</td>\n",
       "      <td>BLB</td>\n",
       "      <td>Baltimore</td>\n",
       "      <td>110</td>\n",
       "      <td>1303.75</td>\n",
       "      <td>1301.97</td>\n",
       "      <td>20.74</td>\n",
       "      <td>BOS</td>\n",
       "      <td>Celtics</td>\n",
       "      <td>111</td>\n",
       "      <td>1591.49</td>\n",
       "      <td>1593.27</td>\n",
       "      <td>H</td>\n",
       "      <td>L</td>\n",
       "      <td>0.25</td>\n",
       "      <td>at Worcester MA</td>\n",
       "    </tr>\n",
       "  </tbody>\n",
       "</table>\n",
       "</div>"
      ],
      "text/plain": [
       "      gameorder       game_id lg_id  _iscopy  year_id  date_game  seasongame  \\\n",
       "1726        864  194902260BLB   NBA        0     1949  2/26/1949          53   \n",
       "4890       2446  195301100BLB   NBA        0     1953  1/10/1953          32   \n",
       "4909       2455  195301140BLB   NBA        0     1953  1/14/1953          34   \n",
       "5208       2605  195303110BLB   NBA        0     1953  3/11/1953          66   \n",
       "5825       2913  195402220BLB   NBA        0     1954  2/22/1954          60   \n",
       "\n",
       "      is_playoffs team_id    fran_id  pts    elo_i    elo_n  win_equiv opp_id  \\\n",
       "1726            0     BLB  Baltimore  114  1421.94  1419.43      38.56    MNL   \n",
       "4890            0     BLB  Baltimore  126  1328.67  1356.65      25.80    BOS   \n",
       "4909            0     BLB  Baltimore  104  1349.83  1346.36      24.88    MNL   \n",
       "5208            0     BLB  Baltimore  107  1284.52  1282.24      19.58    NYK   \n",
       "5825            0     BLB  Baltimore  110  1303.75  1301.97      20.74    BOS   \n",
       "\n",
       "     opp_fran  opp_pts  opp_elo_i  opp_elo_n game_location game_result  \\\n",
       "1726   Lakers      115    1637.99    1640.49             H           L   \n",
       "4890  Celtics      105    1591.14    1563.17             H           W   \n",
       "4909   Lakers      112    1665.44    1668.91             H           L   \n",
       "5208   Knicks      113    1649.15    1651.44             H           L   \n",
       "5825  Celtics      111    1591.49    1593.27             H           L   \n",
       "\n",
       "      forecast            notes  \n",
       "1726      0.34              NaN  \n",
       "4890      0.28              NaN  \n",
       "4909      0.22              NaN  \n",
       "5208      0.18     at Boston MA  \n",
       "5825      0.25  at Worcester MA  "
      ]
     },
     "metadata": {},
     "execution_count": 78
    }
   ],
   "metadata": {}
  },
  {
   "cell_type": "code",
   "execution_count": 79,
   "source": [
    "df[\n",
    "    (df[\"_iscopy\"] == 0) &\n",
    "    (df[\"team_id\"].str.startswith(\"LA\")) &\n",
    "    (df[\"year_id\"] == 1992) &\n",
    "    (df[\"notes\"].notnull())\n",
    "]"
   ],
   "outputs": [
    {
     "output_type": "execute_result",
     "data": {
      "text/html": [
       "<div>\n",
       "<style scoped>\n",
       "    .dataframe tbody tr th:only-of-type {\n",
       "        vertical-align: middle;\n",
       "    }\n",
       "\n",
       "    .dataframe tbody tr th {\n",
       "        vertical-align: top;\n",
       "    }\n",
       "\n",
       "    .dataframe thead th {\n",
       "        text-align: right;\n",
       "    }\n",
       "</style>\n",
       "<table border=\"1\" class=\"dataframe\">\n",
       "  <thead>\n",
       "    <tr style=\"text-align: right;\">\n",
       "      <th></th>\n",
       "      <th>gameorder</th>\n",
       "      <th>game_id</th>\n",
       "      <th>lg_id</th>\n",
       "      <th>_iscopy</th>\n",
       "      <th>year_id</th>\n",
       "      <th>date_game</th>\n",
       "      <th>seasongame</th>\n",
       "      <th>is_playoffs</th>\n",
       "      <th>team_id</th>\n",
       "      <th>fran_id</th>\n",
       "      <th>pts</th>\n",
       "      <th>elo_i</th>\n",
       "      <th>elo_n</th>\n",
       "      <th>win_equiv</th>\n",
       "      <th>opp_id</th>\n",
       "      <th>opp_fran</th>\n",
       "      <th>opp_pts</th>\n",
       "      <th>opp_elo_i</th>\n",
       "      <th>opp_elo_n</th>\n",
       "      <th>game_location</th>\n",
       "      <th>game_result</th>\n",
       "      <th>forecast</th>\n",
       "      <th>notes</th>\n",
       "    </tr>\n",
       "  </thead>\n",
       "  <tbody>\n",
       "    <tr>\n",
       "      <th>68901</th>\n",
       "      <td>34451</td>\n",
       "      <td>199205030LAC</td>\n",
       "      <td>NBA</td>\n",
       "      <td>0</td>\n",
       "      <td>1992</td>\n",
       "      <td>5/3/1992</td>\n",
       "      <td>86</td>\n",
       "      <td>1</td>\n",
       "      <td>LAC</td>\n",
       "      <td>Clippers</td>\n",
       "      <td>115</td>\n",
       "      <td>1546.90</td>\n",
       "      <td>1556.0</td>\n",
       "      <td>47.89</td>\n",
       "      <td>UTA</td>\n",
       "      <td>Jazz</td>\n",
       "      <td>107</td>\n",
       "      <td>1647.51</td>\n",
       "      <td>1638.41</td>\n",
       "      <td>H</td>\n",
       "      <td>W</td>\n",
       "      <td>0.50</td>\n",
       "      <td>at Anaheim, CA (Anaheim Convention Center)</td>\n",
       "    </tr>\n",
       "    <tr>\n",
       "      <th>68903</th>\n",
       "      <td>34452</td>\n",
       "      <td>199205030LAL</td>\n",
       "      <td>NBA</td>\n",
       "      <td>0</td>\n",
       "      <td>1992</td>\n",
       "      <td>5/3/1992</td>\n",
       "      <td>86</td>\n",
       "      <td>1</td>\n",
       "      <td>LAL</td>\n",
       "      <td>Lakers</td>\n",
       "      <td>76</td>\n",
       "      <td>1489.65</td>\n",
       "      <td>1474.4</td>\n",
       "      <td>39.40</td>\n",
       "      <td>POR</td>\n",
       "      <td>Trailblazers</td>\n",
       "      <td>102</td>\n",
       "      <td>1655.12</td>\n",
       "      <td>1670.37</td>\n",
       "      <td>H</td>\n",
       "      <td>L</td>\n",
       "      <td>0.41</td>\n",
       "      <td>at Las Vegas, NV</td>\n",
       "    </tr>\n",
       "  </tbody>\n",
       "</table>\n",
       "</div>"
      ],
      "text/plain": [
       "       gameorder       game_id lg_id  _iscopy  year_id date_game  seasongame  \\\n",
       "68901      34451  199205030LAC   NBA        0     1992  5/3/1992          86   \n",
       "68903      34452  199205030LAL   NBA        0     1992  5/3/1992          86   \n",
       "\n",
       "       is_playoffs team_id   fran_id  pts    elo_i   elo_n  win_equiv opp_id  \\\n",
       "68901            1     LAC  Clippers  115  1546.90  1556.0      47.89    UTA   \n",
       "68903            1     LAL    Lakers   76  1489.65  1474.4      39.40    POR   \n",
       "\n",
       "           opp_fran  opp_pts  opp_elo_i  opp_elo_n game_location game_result  \\\n",
       "68901          Jazz      107    1647.51    1638.41             H           W   \n",
       "68903  Trailblazers      102    1655.12    1670.37             H           L   \n",
       "\n",
       "       forecast                                       notes  \n",
       "68901      0.50  at Anaheim, CA (Anaheim Convention Center)  \n",
       "68903      0.41                            at Las Vegas, NV  "
      ]
     },
     "metadata": {},
     "execution_count": 79
    }
   ],
   "metadata": {}
  },
  {
   "cell_type": "code",
   "execution_count": 80,
   "source": [
    "city_revenues.sum()"
   ],
   "outputs": [
    {
     "output_type": "execute_result",
     "data": {
      "text/plain": [
       "18700"
      ]
     },
     "metadata": {},
     "execution_count": 80
    }
   ],
   "metadata": {}
  },
  {
   "cell_type": "code",
   "execution_count": 81,
   "source": [
    "city_revenues.max()"
   ],
   "outputs": [
    {
     "output_type": "execute_result",
     "data": {
      "text/plain": [
       "8000"
      ]
     },
     "metadata": {},
     "execution_count": 81
    }
   ],
   "metadata": {}
  },
  {
   "cell_type": "code",
   "execution_count": 82,
   "source": [
    "points = df[\"pts\"]"
   ],
   "outputs": [],
   "metadata": {}
  },
  {
   "cell_type": "code",
   "execution_count": 83,
   "source": [
    "points.sum()"
   ],
   "outputs": [
    {
     "output_type": "execute_result",
     "data": {
      "text/plain": [
       "12976235"
      ]
     },
     "metadata": {},
     "execution_count": 83
    }
   ],
   "metadata": {}
  },
  {
   "cell_type": "code",
   "execution_count": 84,
   "source": [
    "df.groupby(\"fran_id\", sort=False)[\"pts\"].sum()"
   ],
   "outputs": [
    {
     "output_type": "execute_result",
     "data": {
      "text/plain": [
       "fran_id\n",
       "Huskies           3995\n",
       "Knicks          582497\n",
       "Stags            20398\n",
       "Falcons           3797\n",
       "Capitols         22387\n",
       "Celtics         626484\n",
       "Steamrollers     12372\n",
       "Ironmen           3674\n",
       "Bombers          17793\n",
       "Rebels            4474\n",
       "Warriors        591224\n",
       "Baltimore        37219\n",
       "Jets              4482\n",
       "Pistons         572758\n",
       "Lakers          637444\n",
       "Kings           569245\n",
       "Hawks           567261\n",
       "Denver            4818\n",
       "Olympians        22864\n",
       "Redskins          5372\n",
       "Waterloo          4921\n",
       "Packers           6193\n",
       "Sixers          585891\n",
       "Wizards         474809\n",
       "Bulls           437269\n",
       "Thunder         437735\n",
       "Squires          91127\n",
       "Stars            84940\n",
       "Rockets         432504\n",
       "Colonels         94435\n",
       "Pacers          438288\n",
       "Nuggets         445780\n",
       "Spurs           453822\n",
       "Spirits          85874\n",
       "Sounds           75582\n",
       "Floridians       49568\n",
       "Nets            417809\n",
       "Condors          49642\n",
       "Bucks           418326\n",
       "Suns            437486\n",
       "Clippers        380523\n",
       "Cavaliers       380416\n",
       "Trailblazers    402695\n",
       "Sails            30080\n",
       "Jazz            363155\n",
       "Mavericks       309239\n",
       "Pelicans        220794\n",
       "Heat            229103\n",
       "Timberwolves    207693\n",
       "Magic           219436\n",
       "Grizzlies       157683\n",
       "Raptors         158370\n",
       "Hornets          84489\n",
       "Name: pts, dtype: int64"
      ]
     },
     "metadata": {},
     "execution_count": 84
    }
   ],
   "metadata": {}
  },
  {
   "cell_type": "code",
   "execution_count": 85,
   "source": [
    "df[\n",
    "    (df[\"fran_id\"] == \"Spurs\") &\n",
    "    (df[\"year_id\"] > 2010)\n",
    "].groupby([\"year_id\", \"game_result\"])[\"game_id\"].count()"
   ],
   "outputs": [
    {
     "output_type": "execute_result",
     "data": {
      "text/plain": [
       "year_id  game_result\n",
       "2011     L              25\n",
       "         W              63\n",
       "2012     L              20\n",
       "         W              60\n",
       "2013     L              30\n",
       "         W              73\n",
       "2014     L              27\n",
       "         W              78\n",
       "2015     L              31\n",
       "         W              58\n",
       "Name: game_id, dtype: int64"
      ]
     },
     "metadata": {},
     "execution_count": 85
    }
   ],
   "metadata": {}
  },
  {
   "cell_type": "code",
   "execution_count": 86,
   "source": [
    "df[\n",
    "    (df[\"fran_id\"] == \"Warriors\") &\n",
    "    (df[\"year_id\"] == 2015)\n",
    "].groupby([\"is_playoffs\", \"game_result\"])[\"game_id\"].count()"
   ],
   "outputs": [
    {
     "output_type": "execute_result",
     "data": {
      "text/plain": [
       "is_playoffs  game_result\n",
       "0            L              15\n",
       "             W              67\n",
       "1            L               5\n",
       "             W              16\n",
       "Name: game_id, dtype: int64"
      ]
     },
     "metadata": {},
     "execution_count": 86
    }
   ],
   "metadata": {}
  },
  {
   "cell_type": "code",
   "execution_count": 87,
   "source": [
    "nba = df.copy()"
   ],
   "outputs": [],
   "metadata": {}
  },
  {
   "cell_type": "code",
   "execution_count": 88,
   "source": [
    "nba.shape"
   ],
   "outputs": [
    {
     "output_type": "execute_result",
     "data": {
      "text/plain": [
       "(126314, 23)"
      ]
     },
     "metadata": {},
     "execution_count": 88
    }
   ],
   "metadata": {}
  },
  {
   "cell_type": "code",
   "execution_count": 89,
   "source": [
    "nba[\"difference\"] = df.pts - df.opp_pts"
   ],
   "outputs": [],
   "metadata": {}
  },
  {
   "cell_type": "code",
   "execution_count": 90,
   "source": [
    "\n",
    "nba.shape"
   ],
   "outputs": [
    {
     "output_type": "execute_result",
     "data": {
      "text/plain": [
       "(126314, 24)"
      ]
     },
     "metadata": {},
     "execution_count": 90
    }
   ],
   "metadata": {}
  },
  {
   "cell_type": "code",
   "execution_count": 91,
   "source": [
    "nba[\"difference\"].max()"
   ],
   "outputs": [
    {
     "output_type": "execute_result",
     "data": {
      "text/plain": [
       "68"
      ]
     },
     "metadata": {},
     "execution_count": 91
    }
   ],
   "metadata": {}
  },
  {
   "cell_type": "code",
   "execution_count": 92,
   "source": [
    "renamed_nba = nba.rename(\n",
    "    columns={\"game_result\": \"result\", \"game_location\": \"location\"}\n",
    ")\n",
    "\n",
    "renamed_nba.info()"
   ],
   "outputs": [
    {
     "output_type": "stream",
     "name": "stdout",
     "text": [
      "<class 'pandas.core.frame.DataFrame'>\n",
      "RangeIndex: 126314 entries, 0 to 126313\n",
      "Data columns (total 24 columns):\n",
      " #   Column       Non-Null Count   Dtype  \n",
      "---  ------       --------------   -----  \n",
      " 0   gameorder    126314 non-null  int64  \n",
      " 1   game_id      126314 non-null  object \n",
      " 2   lg_id        126314 non-null  object \n",
      " 3   _iscopy      126314 non-null  int64  \n",
      " 4   year_id      126314 non-null  int64  \n",
      " 5   date_game    126314 non-null  object \n",
      " 6   seasongame   126314 non-null  int64  \n",
      " 7   is_playoffs  126314 non-null  int64  \n",
      " 8   team_id      126314 non-null  object \n",
      " 9   fran_id      126314 non-null  object \n",
      " 10  pts          126314 non-null  int64  \n",
      " 11  elo_i        126314 non-null  float64\n",
      " 12  elo_n        126314 non-null  float64\n",
      " 13  win_equiv    126314 non-null  float64\n",
      " 14  opp_id       126314 non-null  object \n",
      " 15  opp_fran     126314 non-null  object \n",
      " 16  opp_pts      126314 non-null  int64  \n",
      " 17  opp_elo_i    126314 non-null  float64\n",
      " 18  opp_elo_n    126314 non-null  float64\n",
      " 19  location     126314 non-null  object \n",
      " 20  result       126314 non-null  object \n",
      " 21  forecast     126314 non-null  float64\n",
      " 22  notes        5424 non-null    object \n",
      " 23  difference   126314 non-null  int64  \n",
      "dtypes: float64(6), int64(8), object(10)\n",
      "memory usage: 23.1+ MB\n"
     ]
    }
   ],
   "metadata": {}
  },
  {
   "cell_type": "code",
   "execution_count": 93,
   "source": [
    "nba.shape"
   ],
   "outputs": [
    {
     "output_type": "execute_result",
     "data": {
      "text/plain": [
       "(126314, 24)"
      ]
     },
     "metadata": {},
     "execution_count": 93
    }
   ],
   "metadata": {}
  },
  {
   "cell_type": "code",
   "execution_count": 94,
   "source": [
    "elo_columns = [\"elo_i\", \"elo_n\", \"opp_elo_i\", \"opp_elo_n\"]"
   ],
   "outputs": [],
   "metadata": {}
  },
  {
   "cell_type": "code",
   "execution_count": 95,
   "source": [
    "nba.drop(elo_columns, inplace=True, axis=1)"
   ],
   "outputs": [],
   "metadata": {}
  },
  {
   "cell_type": "code",
   "execution_count": 96,
   "source": [
    "nba.shape"
   ],
   "outputs": [
    {
     "output_type": "execute_result",
     "data": {
      "text/plain": [
       "(126314, 20)"
      ]
     },
     "metadata": {},
     "execution_count": 96
    }
   ],
   "metadata": {}
  },
  {
   "cell_type": "code",
   "execution_count": 97,
   "source": [
    "nba.info()"
   ],
   "outputs": [
    {
     "output_type": "stream",
     "name": "stdout",
     "text": [
      "<class 'pandas.core.frame.DataFrame'>\n",
      "RangeIndex: 126314 entries, 0 to 126313\n",
      "Data columns (total 20 columns):\n",
      " #   Column         Non-Null Count   Dtype  \n",
      "---  ------         --------------   -----  \n",
      " 0   gameorder      126314 non-null  int64  \n",
      " 1   game_id        126314 non-null  object \n",
      " 2   lg_id          126314 non-null  object \n",
      " 3   _iscopy        126314 non-null  int64  \n",
      " 4   year_id        126314 non-null  int64  \n",
      " 5   date_game      126314 non-null  object \n",
      " 6   seasongame     126314 non-null  int64  \n",
      " 7   is_playoffs    126314 non-null  int64  \n",
      " 8   team_id        126314 non-null  object \n",
      " 9   fran_id        126314 non-null  object \n",
      " 10  pts            126314 non-null  int64  \n",
      " 11  win_equiv      126314 non-null  float64\n",
      " 12  opp_id         126314 non-null  object \n",
      " 13  opp_fran       126314 non-null  object \n",
      " 14  opp_pts        126314 non-null  int64  \n",
      " 15  game_location  126314 non-null  object \n",
      " 16  game_result    126314 non-null  object \n",
      " 17  forecast       126314 non-null  float64\n",
      " 18  notes          5424 non-null    object \n",
      " 19  difference     126314 non-null  int64  \n",
      "dtypes: float64(2), int64(8), object(10)\n",
      "memory usage: 19.3+ MB\n"
     ]
    }
   ],
   "metadata": {}
  },
  {
   "cell_type": "code",
   "execution_count": 98,
   "source": [
    "nba[\"date_game\"] = pd.to_datetime(nba[\"date_game\"])"
   ],
   "outputs": [],
   "metadata": {}
  },
  {
   "cell_type": "code",
   "execution_count": 99,
   "source": [
    "nba[\"game_location\"].nunique()"
   ],
   "outputs": [
    {
     "output_type": "execute_result",
     "data": {
      "text/plain": [
       "3"
      ]
     },
     "metadata": {},
     "execution_count": 99
    }
   ],
   "metadata": {}
  },
  {
   "cell_type": "code",
   "execution_count": 100,
   "source": [
    "nba[\"game_location\"].value_counts()"
   ],
   "outputs": [
    {
     "output_type": "execute_result",
     "data": {
      "text/plain": [
       "H    63138\n",
       "A    63138\n",
       "N       38\n",
       "Name: game_location, dtype: int64"
      ]
     },
     "metadata": {},
     "execution_count": 100
    }
   ],
   "metadata": {}
  },
  {
   "cell_type": "code",
   "execution_count": null,
   "source": [],
   "outputs": [],
   "metadata": {}
  }
 ],
 "metadata": {
  "orig_nbformat": 4,
  "language_info": {
   "name": "python",
   "version": "3.8.10",
   "mimetype": "text/x-python",
   "codemirror_mode": {
    "name": "ipython",
    "version": 3
   },
   "pygments_lexer": "ipython3",
   "nbconvert_exporter": "python",
   "file_extension": ".py"
  },
  "kernelspec": {
   "name": "python3",
   "display_name": "Python 3.8.10 64-bit"
  },
  "interpreter": {
   "hash": "31f2aee4e71d21fbe5cf8b01ff0e069b9275f58929596ceb00d14d90e3e16cd6"
  }
 },
 "nbformat": 4,
 "nbformat_minor": 2
}