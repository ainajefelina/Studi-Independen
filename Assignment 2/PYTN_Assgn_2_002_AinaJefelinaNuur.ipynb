{
 "cells": [
  {
   "cell_type": "markdown",
   "id": "9049b037",
   "metadata": {},
   "source": [
    "# impor library"
   ]
  },
  {
   "cell_type": "code",
   "execution_count": 1,
   "id": "b19e84e1",
   "metadata": {},
   "outputs": [],
   "source": [
    "import pandas as pd \n",
    "import numpy as np\n",
    "import statistics\n",
    "import matplotlib.pyplot as plt\n",
    "import seaborn as sns"
   ]
  },
  {
   "cell_type": "markdown",
   "id": "d08d9c51",
   "metadata": {},
   "source": [
    "# import dataset"
   ]
  },
  {
   "cell_type": "code",
   "execution_count": 2,
   "id": "88d6ce60",
   "metadata": {},
   "outputs": [],
   "source": [
    "#import dataset\n",
    "missing_values = ['n/a', 'na', \"--\", \"?\", \"NA\", 'n-a', 'NaN',' ','-']\n",
    "data = pd.read_csv('nyc-rolling-sales.csv', na_values=missing_values)"
   ]
  },
  {
   "cell_type": "markdown",
   "id": "8a6784eb",
   "metadata": {},
   "source": [
    "# preprocessing"
   ]
  },
  {
   "cell_type": "markdown",
   "id": "6358599a",
   "metadata": {},
   "source": [
    "## membaca data"
   ]
  },
  {
   "cell_type": "code",
   "execution_count": 3,
   "id": "488fbce4",
   "metadata": {},
   "outputs": [
    {
     "data": {
      "text/html": [
       "<div>\n",
       "<style scoped>\n",
       "    .dataframe tbody tr th:only-of-type {\n",
       "        vertical-align: middle;\n",
       "    }\n",
       "\n",
       "    .dataframe tbody tr th {\n",
       "        vertical-align: top;\n",
       "    }\n",
       "\n",
       "    .dataframe thead th {\n",
       "        text-align: right;\n",
       "    }\n",
       "</style>\n",
       "<table border=\"1\" class=\"dataframe\">\n",
       "  <thead>\n",
       "    <tr style=\"text-align: right;\">\n",
       "      <th></th>\n",
       "      <th>Unnamed: 0</th>\n",
       "      <th>BOROUGH</th>\n",
       "      <th>NEIGHBORHOOD</th>\n",
       "      <th>BUILDING CLASS CATEGORY</th>\n",
       "      <th>TAX CLASS AT PRESENT</th>\n",
       "      <th>BLOCK</th>\n",
       "      <th>LOT</th>\n",
       "      <th>EASE-MENT</th>\n",
       "      <th>BUILDING CLASS AT PRESENT</th>\n",
       "      <th>ADDRESS</th>\n",
       "      <th>...</th>\n",
       "      <th>RESIDENTIAL UNITS</th>\n",
       "      <th>COMMERCIAL UNITS</th>\n",
       "      <th>TOTAL UNITS</th>\n",
       "      <th>LAND SQUARE FEET</th>\n",
       "      <th>GROSS SQUARE FEET</th>\n",
       "      <th>YEAR BUILT</th>\n",
       "      <th>TAX CLASS AT TIME OF SALE</th>\n",
       "      <th>BUILDING CLASS AT TIME OF SALE</th>\n",
       "      <th>SALE PRICE</th>\n",
       "      <th>SALE DATE</th>\n",
       "    </tr>\n",
       "  </thead>\n",
       "  <tbody>\n",
       "    <tr>\n",
       "      <th>0</th>\n",
       "      <td>4</td>\n",
       "      <td>1</td>\n",
       "      <td>ALPHABET CITY</td>\n",
       "      <td>07 RENTALS - WALKUP APARTMENTS</td>\n",
       "      <td>2A</td>\n",
       "      <td>392</td>\n",
       "      <td>6</td>\n",
       "      <td>NaN</td>\n",
       "      <td>C2</td>\n",
       "      <td>153 AVENUE B</td>\n",
       "      <td>...</td>\n",
       "      <td>5</td>\n",
       "      <td>0</td>\n",
       "      <td>5</td>\n",
       "      <td>1633</td>\n",
       "      <td>6440</td>\n",
       "      <td>1900</td>\n",
       "      <td>2</td>\n",
       "      <td>C2</td>\n",
       "      <td>6625000</td>\n",
       "      <td>2017-07-19 00:00:00</td>\n",
       "    </tr>\n",
       "    <tr>\n",
       "      <th>1</th>\n",
       "      <td>5</td>\n",
       "      <td>1</td>\n",
       "      <td>ALPHABET CITY</td>\n",
       "      <td>07 RENTALS - WALKUP APARTMENTS</td>\n",
       "      <td>2</td>\n",
       "      <td>399</td>\n",
       "      <td>26</td>\n",
       "      <td>NaN</td>\n",
       "      <td>C7</td>\n",
       "      <td>234 EAST 4TH   STREET</td>\n",
       "      <td>...</td>\n",
       "      <td>28</td>\n",
       "      <td>3</td>\n",
       "      <td>31</td>\n",
       "      <td>4616</td>\n",
       "      <td>18690</td>\n",
       "      <td>1900</td>\n",
       "      <td>2</td>\n",
       "      <td>C7</td>\n",
       "      <td>-</td>\n",
       "      <td>2016-12-14 00:00:00</td>\n",
       "    </tr>\n",
       "  </tbody>\n",
       "</table>\n",
       "<p>2 rows × 22 columns</p>\n",
       "</div>"
      ],
      "text/plain": [
       "   Unnamed: 0  BOROUGH   NEIGHBORHOOD  \\\n",
       "0           4        1  ALPHABET CITY   \n",
       "1           5        1  ALPHABET CITY   \n",
       "\n",
       "                       BUILDING CLASS CATEGORY TAX CLASS AT PRESENT  BLOCK  \\\n",
       "0  07 RENTALS - WALKUP APARTMENTS                                2A    392   \n",
       "1  07 RENTALS - WALKUP APARTMENTS                                 2    399   \n",
       "\n",
       "   LOT  EASE-MENT BUILDING CLASS AT PRESENT                ADDRESS  ...  \\\n",
       "0    6        NaN                        C2           153 AVENUE B  ...   \n",
       "1   26        NaN                        C7  234 EAST 4TH   STREET  ...   \n",
       "\n",
       "  RESIDENTIAL UNITS  COMMERCIAL UNITS  TOTAL UNITS  LAND SQUARE FEET  \\\n",
       "0                 5                 0            5              1633   \n",
       "1                28                 3           31              4616   \n",
       "\n",
       "   GROSS SQUARE FEET YEAR BUILT TAX CLASS AT TIME OF SALE  \\\n",
       "0               6440       1900                         2   \n",
       "1              18690       1900                         2   \n",
       "\n",
       "   BUILDING CLASS AT TIME OF SALE  SALE PRICE            SALE DATE  \n",
       "0                              C2     6625000  2017-07-19 00:00:00  \n",
       "1                              C7         -    2016-12-14 00:00:00  \n",
       "\n",
       "[2 rows x 22 columns]"
      ]
     },
     "execution_count": 3,
     "metadata": {},
     "output_type": "execute_result"
    }
   ],
   "source": [
    "# melihat data\n",
    "data.head(2) "
   ]
  },
  {
   "cell_type": "markdown",
   "id": "f0f693ea",
   "metadata": {},
   "source": [
    "Melihat 5 baris terbawah"
   ]
  },
  {
   "cell_type": "code",
   "execution_count": 4,
   "id": "807a168c",
   "metadata": {},
   "outputs": [
    {
     "data": {
      "text/html": [
       "<div>\n",
       "<style scoped>\n",
       "    .dataframe tbody tr th:only-of-type {\n",
       "        vertical-align: middle;\n",
       "    }\n",
       "\n",
       "    .dataframe tbody tr th {\n",
       "        vertical-align: top;\n",
       "    }\n",
       "\n",
       "    .dataframe thead th {\n",
       "        text-align: right;\n",
       "    }\n",
       "</style>\n",
       "<table border=\"1\" class=\"dataframe\">\n",
       "  <thead>\n",
       "    <tr style=\"text-align: right;\">\n",
       "      <th></th>\n",
       "      <th>Unnamed: 0</th>\n",
       "      <th>BOROUGH</th>\n",
       "      <th>NEIGHBORHOOD</th>\n",
       "      <th>BUILDING CLASS CATEGORY</th>\n",
       "      <th>TAX CLASS AT PRESENT</th>\n",
       "      <th>BLOCK</th>\n",
       "      <th>LOT</th>\n",
       "      <th>EASE-MENT</th>\n",
       "      <th>BUILDING CLASS AT PRESENT</th>\n",
       "      <th>ADDRESS</th>\n",
       "      <th>...</th>\n",
       "      <th>RESIDENTIAL UNITS</th>\n",
       "      <th>COMMERCIAL UNITS</th>\n",
       "      <th>TOTAL UNITS</th>\n",
       "      <th>LAND SQUARE FEET</th>\n",
       "      <th>GROSS SQUARE FEET</th>\n",
       "      <th>YEAR BUILT</th>\n",
       "      <th>TAX CLASS AT TIME OF SALE</th>\n",
       "      <th>BUILDING CLASS AT TIME OF SALE</th>\n",
       "      <th>SALE PRICE</th>\n",
       "      <th>SALE DATE</th>\n",
       "    </tr>\n",
       "  </thead>\n",
       "  <tbody>\n",
       "    <tr>\n",
       "      <th>84546</th>\n",
       "      <td>8412</td>\n",
       "      <td>5</td>\n",
       "      <td>WOODROW</td>\n",
       "      <td>22 STORE BUILDINGS</td>\n",
       "      <td>4</td>\n",
       "      <td>7100</td>\n",
       "      <td>28</td>\n",
       "      <td>NaN</td>\n",
       "      <td>K6</td>\n",
       "      <td>2730 ARTHUR KILL ROAD</td>\n",
       "      <td>...</td>\n",
       "      <td>0</td>\n",
       "      <td>7</td>\n",
       "      <td>7</td>\n",
       "      <td>208033</td>\n",
       "      <td>64117</td>\n",
       "      <td>2001</td>\n",
       "      <td>4</td>\n",
       "      <td>K6</td>\n",
       "      <td>11693337</td>\n",
       "      <td>2016-12-21 00:00:00</td>\n",
       "    </tr>\n",
       "    <tr>\n",
       "      <th>84547</th>\n",
       "      <td>8413</td>\n",
       "      <td>5</td>\n",
       "      <td>WOODROW</td>\n",
       "      <td>35 INDOOR PUBLIC AND CULTURAL FACILITIES</td>\n",
       "      <td>4</td>\n",
       "      <td>7105</td>\n",
       "      <td>679</td>\n",
       "      <td>NaN</td>\n",
       "      <td>P9</td>\n",
       "      <td>155 CLAY PIT ROAD</td>\n",
       "      <td>...</td>\n",
       "      <td>0</td>\n",
       "      <td>1</td>\n",
       "      <td>1</td>\n",
       "      <td>10796</td>\n",
       "      <td>2400</td>\n",
       "      <td>2006</td>\n",
       "      <td>4</td>\n",
       "      <td>P9</td>\n",
       "      <td>69300</td>\n",
       "      <td>2016-10-27 00:00:00</td>\n",
       "    </tr>\n",
       "  </tbody>\n",
       "</table>\n",
       "<p>2 rows × 22 columns</p>\n",
       "</div>"
      ],
      "text/plain": [
       "       Unnamed: 0  BOROUGH NEIGHBORHOOD  \\\n",
       "84546        8412        5      WOODROW   \n",
       "84547        8413        5      WOODROW   \n",
       "\n",
       "                           BUILDING CLASS CATEGORY TAX CLASS AT PRESENT  \\\n",
       "84546  22 STORE BUILDINGS                                             4   \n",
       "84547  35 INDOOR PUBLIC AND CULTURAL FACILITIES                       4   \n",
       "\n",
       "       BLOCK  LOT  EASE-MENT BUILDING CLASS AT PRESENT                ADDRESS  \\\n",
       "84546   7100   28        NaN                        K6  2730 ARTHUR KILL ROAD   \n",
       "84547   7105  679        NaN                        P9      155 CLAY PIT ROAD   \n",
       "\n",
       "       ... RESIDENTIAL UNITS  COMMERCIAL UNITS  TOTAL UNITS  LAND SQUARE FEET  \\\n",
       "84546  ...                 0                 7            7            208033   \n",
       "84547  ...                 0                 1            1             10796   \n",
       "\n",
       "       GROSS SQUARE FEET YEAR BUILT TAX CLASS AT TIME OF SALE  \\\n",
       "84546              64117       2001                         4   \n",
       "84547               2400       2006                         4   \n",
       "\n",
       "       BUILDING CLASS AT TIME OF SALE  SALE PRICE            SALE DATE  \n",
       "84546                              K6    11693337  2016-12-21 00:00:00  \n",
       "84547                              P9       69300  2016-10-27 00:00:00  \n",
       "\n",
       "[2 rows x 22 columns]"
      ]
     },
     "execution_count": 4,
     "metadata": {},
     "output_type": "execute_result"
    }
   ],
   "source": [
    "data.tail(2)"
   ]
  },
  {
   "cell_type": "code",
   "execution_count": 5,
   "id": "9a49d333",
   "metadata": {},
   "outputs": [
    {
     "name": "stdout",
     "output_type": "stream",
     "text": [
      "kolom :  Index(['Unnamed: 0', 'BOROUGH', 'NEIGHBORHOOD', 'BUILDING CLASS CATEGORY',\n",
      "       'TAX CLASS AT PRESENT', 'BLOCK', 'LOT', 'EASE-MENT',\n",
      "       'BUILDING CLASS AT PRESENT', 'ADDRESS', 'APARTMENT NUMBER', 'ZIP CODE',\n",
      "       'RESIDENTIAL UNITS', 'COMMERCIAL UNITS', 'TOTAL UNITS',\n",
      "       'LAND SQUARE FEET', 'GROSS SQUARE FEET', 'YEAR BUILT',\n",
      "       'TAX CLASS AT TIME OF SALE', 'BUILDING CLASS AT TIME OF SALE',\n",
      "       'SALE PRICE', 'SALE DATE'],\n",
      "      dtype='object')\n"
     ]
    }
   ],
   "source": [
    "# nama kolom\n",
    "print(\"kolom : \", data.columns)"
   ]
  },
  {
   "cell_type": "code",
   "execution_count": 6,
   "id": "f1a64ef7",
   "metadata": {},
   "outputs": [
    {
     "name": "stdout",
     "output_type": "stream",
     "text": [
      "(84548, 22)\n"
     ]
    }
   ],
   "source": [
    "# banyaknya data\n",
    "print(data.shape)"
   ]
  },
  {
   "cell_type": "code",
   "execution_count": 7,
   "id": "16102751",
   "metadata": {},
   "outputs": [
    {
     "name": "stdout",
     "output_type": "stream",
     "text": [
      "<class 'pandas.core.frame.DataFrame'>\n",
      "RangeIndex: 84548 entries, 0 to 84547\n",
      "Data columns (total 22 columns):\n",
      " #   Column                          Non-Null Count  Dtype  \n",
      "---  ------                          --------------  -----  \n",
      " 0   Unnamed: 0                      84548 non-null  int64  \n",
      " 1   BOROUGH                         84548 non-null  int64  \n",
      " 2   NEIGHBORHOOD                    84548 non-null  object \n",
      " 3   BUILDING CLASS CATEGORY         84548 non-null  object \n",
      " 4   TAX CLASS AT PRESENT            83810 non-null  object \n",
      " 5   BLOCK                           84548 non-null  int64  \n",
      " 6   LOT                             84548 non-null  int64  \n",
      " 7   EASE-MENT                       0 non-null      float64\n",
      " 8   BUILDING CLASS AT PRESENT       83810 non-null  object \n",
      " 9   ADDRESS                         84548 non-null  object \n",
      " 10  APARTMENT NUMBER                19052 non-null  object \n",
      " 11  ZIP CODE                        84548 non-null  int64  \n",
      " 12  RESIDENTIAL UNITS               84548 non-null  int64  \n",
      " 13  COMMERCIAL UNITS                84548 non-null  int64  \n",
      " 14  TOTAL UNITS                     84548 non-null  int64  \n",
      " 15  LAND SQUARE FEET                84548 non-null  object \n",
      " 16  GROSS SQUARE FEET               84548 non-null  object \n",
      " 17  YEAR BUILT                      84548 non-null  int64  \n",
      " 18  TAX CLASS AT TIME OF SALE       84548 non-null  int64  \n",
      " 19  BUILDING CLASS AT TIME OF SALE  84548 non-null  object \n",
      " 20  SALE PRICE                      84548 non-null  object \n",
      " 21  SALE DATE                       84548 non-null  object \n",
      "dtypes: float64(1), int64(10), object(11)\n",
      "memory usage: 14.2+ MB\n"
     ]
    }
   ],
   "source": [
    "# info dari dataset\n",
    "data.info()"
   ]
  },
  {
   "cell_type": "markdown",
   "id": "c76ff31d",
   "metadata": {},
   "source": [
    "## mengkonversi tipe data"
   ]
  },
  {
   "cell_type": "code",
   "execution_count": 8,
   "id": "fd9643b4",
   "metadata": {},
   "outputs": [
    {
     "name": "stdout",
     "output_type": "stream",
     "text": [
      "(84548, 21)\n"
     ]
    }
   ],
   "source": [
    "# menghapus kolom 'unnamed: o' karena merupakan no data yang dapat digantikan dengan nomor kolom\n",
    "data.drop(columns=['Unnamed: 0'], inplace=True)\n",
    "print(data.shape)"
   ]
  },
  {
   "cell_type": "code",
   "execution_count": 9,
   "id": "223af731",
   "metadata": {},
   "outputs": [],
   "source": [
    "# melabeli nama daerah dengan angka\n",
    "data['BOROUGH'] = data['BOROUGH'].map({1:'Manhattan',2:'Bronx',3:'Brooklyn',4:'Queens',5:'Staten Island'})"
   ]
  },
  {
   "cell_type": "code",
   "execution_count": 10,
   "id": "e22beeaf",
   "metadata": {},
   "outputs": [],
   "source": [
    "#konversi ke datetime pada kolom yang menunjukan date\n",
    "data['SALE DATE']= pd.to_datetime(data['SALE DATE'], errors='coerce')\n",
    "data['SALE YEAR']  = data['SALE DATE'].dt.year\n",
    "data['SALE MONTH'] = data['SALE DATE'].dt.month"
   ]
  },
  {
   "cell_type": "code",
   "execution_count": 11,
   "id": "ef40ab1e",
   "metadata": {},
   "outputs": [],
   "source": [
    "#konversi tipe data ke int\n",
    "numeric = [\"RESIDENTIAL UNITS\",\"COMMERCIAL UNITS\",\"TOTAL UNITS\", \"YEAR BUILT\", \"LAND SQUARE FEET\" , \"GROSS SQUARE FEET\",\"SALE PRICE\" ]\n",
    "\n",
    "for col in numeric: \n",
    "    data[col] = pd.to_numeric(data[col], errors='coerce')"
   ]
  },
  {
   "cell_type": "code",
   "execution_count": 12,
   "id": "61bd8086",
   "metadata": {},
   "outputs": [],
   "source": [
    "#konversi ke data kategorikal\n",
    "categorical = [\"BOROUGH\",\"NEIGHBORHOOD\",'BUILDING CLASS CATEGORY', 'TAX CLASS AT PRESENT', 'BUILDING CLASS AT PRESENT','ZIP CODE', 'BUILDING CLASS AT TIME OF SALE', 'TAX CLASS AT TIME OF SALE']\n",
    "\n",
    "for col in categorical: \n",
    "    data[col] = data[col].astype(\"category\")"
   ]
  },
  {
   "cell_type": "markdown",
   "id": "7e3ffb39",
   "metadata": {},
   "source": [
    "## data yang terduplikat"
   ]
  },
  {
   "cell_type": "code",
   "execution_count": 13,
   "id": "ed24a218",
   "metadata": {},
   "outputs": [
    {
     "data": {
      "text/plain": [
       "True"
      ]
     },
     "execution_count": 13,
     "metadata": {},
     "output_type": "execute_result"
    }
   ],
   "source": [
    "# data yang ada duplicatenya\n",
    "data.duplicated().any()"
   ]
  },
  {
   "cell_type": "code",
   "execution_count": 14,
   "id": "9add00bd",
   "metadata": {},
   "outputs": [
    {
     "data": {
      "text/plain": [
       "765"
      ]
     },
     "execution_count": 14,
     "metadata": {},
     "output_type": "execute_result"
    }
   ],
   "source": [
    "# jumlah data yang ada duplikatnya\n",
    "data.duplicated().sum()"
   ]
  },
  {
   "cell_type": "code",
   "execution_count": 15,
   "id": "aa92e379",
   "metadata": {},
   "outputs": [
    {
     "data": {
      "text/plain": [
       "0"
      ]
     },
     "execution_count": 15,
     "metadata": {},
     "output_type": "execute_result"
    }
   ],
   "source": [
    "# menghapus data yang terduplikat\n",
    "data.drop_duplicates(inplace=True)\n",
    "data.duplicated().sum() # no more duplicates"
   ]
  },
  {
   "cell_type": "markdown",
   "id": "ea0ab8b3",
   "metadata": {},
   "source": [
    "## data yang hilang"
   ]
  },
  {
   "cell_type": "code",
   "execution_count": 16,
   "id": "23d2a522",
   "metadata": {},
   "outputs": [
    {
     "data": {
      "text/plain": [
       "BOROUGH                               0\n",
       "NEIGHBORHOOD                          0\n",
       "BUILDING CLASS CATEGORY               0\n",
       "TAX CLASS AT PRESENT                738\n",
       "BLOCK                                 0\n",
       "LOT                                   0\n",
       "EASE-MENT                         83783\n",
       "BUILDING CLASS AT PRESENT           738\n",
       "ADDRESS                               0\n",
       "APARTMENT NUMBER                  64934\n",
       "ZIP CODE                              0\n",
       "RESIDENTIAL UNITS                     0\n",
       "COMMERCIAL UNITS                      0\n",
       "TOTAL UNITS                           0\n",
       "LAND SQUARE FEET                  26054\n",
       "GROSS SQUARE FEET                 27385\n",
       "YEAR BUILT                            0\n",
       "TAX CLASS AT TIME OF SALE             0\n",
       "BUILDING CLASS AT TIME OF SALE        0\n",
       "SALE PRICE                        14176\n",
       "SALE DATE                             0\n",
       "SALE YEAR                             0\n",
       "SALE MONTH                            0\n",
       "dtype: int64"
      ]
     },
     "execution_count": 16,
     "metadata": {},
     "output_type": "execute_result"
    }
   ],
   "source": [
    "# mengecek data yang hilang\n",
    "data.isnull().sum()"
   ]
  },
  {
   "cell_type": "code",
   "execution_count": 17,
   "id": "9b3abbf7",
   "metadata": {},
   "outputs": [
    {
     "data": {
      "text/plain": [
       "BOROUGH                             0.000000\n",
       "NEIGHBORHOOD                        0.000000\n",
       "BUILDING CLASS CATEGORY             0.000000\n",
       "TAX CLASS AT PRESENT                0.880847\n",
       "BLOCK                               0.000000\n",
       "LOT                                 0.000000\n",
       "EASE-MENT                         100.000000\n",
       "BUILDING CLASS AT PRESENT           0.880847\n",
       "ADDRESS                             0.000000\n",
       "APARTMENT NUMBER                   77.502596\n",
       "ZIP CODE                            0.000000\n",
       "RESIDENTIAL UNITS                   0.000000\n",
       "COMMERCIAL UNITS                    0.000000\n",
       "TOTAL UNITS                         0.000000\n",
       "LAND SQUARE FEET                   31.097001\n",
       "GROSS SQUARE FEET                  32.685628\n",
       "YEAR BUILT                          0.000000\n",
       "TAX CLASS AT TIME OF SALE           0.000000\n",
       "BUILDING CLASS AT TIME OF SALE      0.000000\n",
       "SALE PRICE                         16.919900\n",
       "SALE DATE                           0.000000\n",
       "SALE YEAR                           0.000000\n",
       "SALE MONTH                          0.000000\n",
       "dtype: float64"
      ]
     },
     "execution_count": 17,
     "metadata": {},
     "output_type": "execute_result"
    }
   ],
   "source": [
    "# presentase data yang hilang\n",
    "data.isna().sum() /len(data) *100"
   ]
  },
  {
   "cell_type": "markdown",
   "id": "f42dc637",
   "metadata": {},
   "source": [
    "Diketahui bahwa % data yang hilang sebagai berikut :\n",
    "- EASE-MENT\"   = 99%         \n",
    "- APARTMENT NUMBER = 76% \n",
    "-  LAND SQUARE FEET = 30% \n",
    "- GROSS SQUARE FEET = 32% \n",
    "- SALE PRICE = 16%\n",
    "    - data EASE-MENT dan apartment number memiliki % data hilang yang tinggi yang dapat mengganggu analisis sehingga data dapat dihapus dari dataset"
   ]
  },
  {
   "cell_type": "code",
   "execution_count": 18,
   "id": "1a770cde",
   "metadata": {},
   "outputs": [],
   "source": [
    "# menghapus apartment number dan ease-ment\n",
    "data.drop(columns=['APARTMENT NUMBER','EASE-MENT'], inplace=True)"
   ]
  },
  {
   "cell_type": "code",
   "execution_count": 19,
   "id": "b7ff85f7",
   "metadata": {},
   "outputs": [],
   "source": [
    "# mengisi data yang hilang dengan nilai modus karena merupakan data tipe  kategorikal\n",
    "data['TAX CLASS AT PRESENT'].fillna(data['TAX CLASS AT PRESENT'].mode()[0], inplace=True)\n",
    "data['BUILDING CLASS AT PRESENT'].fillna(data['BUILDING CLASS AT PRESENT'].mode()[0], inplace=True)"
   ]
  },
  {
   "cell_type": "code",
   "execution_count": 20,
   "id": "1c816fb3",
   "metadata": {},
   "outputs": [],
   "source": [
    "# mengisi data yang hilang dengan nilai median karena merupakan data tipe  numerik\n",
    "data['LAND SQUARE FEET'].fillna(data['LAND SQUARE FEET'].median(), inplace=True)\n",
    "data['GROSS SQUARE FEET'].fillna(data['GROSS SQUARE FEET'].median(), inplace=True)"
   ]
  },
  {
   "cell_type": "code",
   "execution_count": 21,
   "id": "58824426",
   "metadata": {},
   "outputs": [],
   "source": [
    "# mengganti nilai 0 dengan nan pada kolom yang tidak relevan berisi 0\n",
    "data['ZIP CODE']=data['ZIP CODE'].replace({0:np.nan})\n",
    "data['YEAR BUILT']=data['YEAR BUILT'].replace({0:np.nan})\n",
    "data['SALE PRICE']=data['SALE PRICE'].replace({0:np.nan})"
   ]
  },
  {
   "cell_type": "code",
   "execution_count": 22,
   "id": "33330656",
   "metadata": {},
   "outputs": [
    {
     "name": "stderr",
     "output_type": "stream",
     "text": [
      "/tmp/ipykernel_15552/3168256933.py:3: SettingWithCopyWarning: \n",
      "A value is trying to be set on a copy of a slice from a DataFrame\n",
      "\n",
      "See the caveats in the documentation: https://pandas.pydata.org/pandas-docs/stable/user_guide/indexing.html#returning-a-view-versus-a-copy\n",
      "  dataa.dropna(inplace=True)\n"
     ]
    },
    {
     "data": {
      "text/plain": [
       "BOROUGH                           0\n",
       "NEIGHBORHOOD                      0\n",
       "BUILDING CLASS CATEGORY           0\n",
       "TAX CLASS AT PRESENT              0\n",
       "BLOCK                             0\n",
       "LOT                               0\n",
       "BUILDING CLASS AT PRESENT         0\n",
       "ADDRESS                           0\n",
       "ZIP CODE                          0\n",
       "RESIDENTIAL UNITS                 0\n",
       "COMMERCIAL UNITS                  0\n",
       "TOTAL UNITS                       0\n",
       "LAND SQUARE FEET                  0\n",
       "GROSS SQUARE FEET                 0\n",
       "YEAR BUILT                        0\n",
       "TAX CLASS AT TIME OF SALE         0\n",
       "BUILDING CLASS AT TIME OF SALE    0\n",
       "SALE PRICE                        0\n",
       "SALE DATE                         0\n",
       "SALE YEAR                         0\n",
       "SALE MONTH                        0\n",
       "dtype: int64"
      ]
     },
     "execution_count": 22,
     "metadata": {},
     "output_type": "execute_result"
    }
   ],
   "source": [
    "# menghapus data yang kosong lainnya\n",
    "dataa = data.dropna()\n",
    "dataa.dropna(inplace=True)\n",
    "dataa.isnull().sum()"
   ]
  },
  {
   "cell_type": "markdown",
   "id": "7f04300c",
   "metadata": {},
   "source": [
    "## deskripsi data setelah cleaning"
   ]
  },
  {
   "cell_type": "code",
   "execution_count": 23,
   "id": "61756b5d",
   "metadata": {},
   "outputs": [
    {
     "data": {
      "text/html": [
       "<div>\n",
       "<style scoped>\n",
       "    .dataframe tbody tr th:only-of-type {\n",
       "        vertical-align: middle;\n",
       "    }\n",
       "\n",
       "    .dataframe tbody tr th {\n",
       "        vertical-align: top;\n",
       "    }\n",
       "\n",
       "    .dataframe thead th {\n",
       "        text-align: right;\n",
       "    }\n",
       "</style>\n",
       "<table border=\"1\" class=\"dataframe\">\n",
       "  <thead>\n",
       "    <tr style=\"text-align: right;\">\n",
       "      <th></th>\n",
       "      <th>BLOCK</th>\n",
       "      <th>LOT</th>\n",
       "      <th>RESIDENTIAL UNITS</th>\n",
       "      <th>COMMERCIAL UNITS</th>\n",
       "      <th>TOTAL UNITS</th>\n",
       "      <th>LAND SQUARE FEET</th>\n",
       "      <th>GROSS SQUARE FEET</th>\n",
       "      <th>YEAR BUILT</th>\n",
       "      <th>SALE PRICE</th>\n",
       "      <th>SALE YEAR</th>\n",
       "      <th>SALE MONTH</th>\n",
       "    </tr>\n",
       "  </thead>\n",
       "  <tbody>\n",
       "    <tr>\n",
       "      <th>count</th>\n",
       "      <td>55256.000000</td>\n",
       "      <td>55256.000000</td>\n",
       "      <td>55256.000000</td>\n",
       "      <td>55256.000000</td>\n",
       "      <td>55256.000000</td>\n",
       "      <td>5.525600e+04</td>\n",
       "      <td>5.525600e+04</td>\n",
       "      <td>55256.000000</td>\n",
       "      <td>5.525600e+04</td>\n",
       "      <td>55256.000000</td>\n",
       "      <td>55256.000000</td>\n",
       "    </tr>\n",
       "    <tr>\n",
       "      <th>mean</th>\n",
       "      <td>4246.103971</td>\n",
       "      <td>326.769256</td>\n",
       "      <td>1.804202</td>\n",
       "      <td>0.165756</td>\n",
       "      <td>1.979713</td>\n",
       "      <td>3.037339e+03</td>\n",
       "      <td>2.930826e+03</td>\n",
       "      <td>1950.736463</td>\n",
       "      <td>1.472227e+06</td>\n",
       "      <td>2016.657250</td>\n",
       "      <td>6.548737</td>\n",
       "    </tr>\n",
       "    <tr>\n",
       "      <th>std</th>\n",
       "      <td>3594.176515</td>\n",
       "      <td>588.377197</td>\n",
       "      <td>14.600577</td>\n",
       "      <td>10.042944</td>\n",
       "      <td>17.831269</td>\n",
       "      <td>2.796504e+04</td>\n",
       "      <td>2.464390e+04</td>\n",
       "      <td>34.337036</td>\n",
       "      <td>1.258866e+07</td>\n",
       "      <td>0.474633</td>\n",
       "      <td>3.448788</td>\n",
       "    </tr>\n",
       "    <tr>\n",
       "      <th>min</th>\n",
       "      <td>1.000000</td>\n",
       "      <td>1.000000</td>\n",
       "      <td>0.000000</td>\n",
       "      <td>0.000000</td>\n",
       "      <td>0.000000</td>\n",
       "      <td>0.000000e+00</td>\n",
       "      <td>0.000000e+00</td>\n",
       "      <td>1111.000000</td>\n",
       "      <td>1.000000e+00</td>\n",
       "      <td>2016.000000</td>\n",
       "      <td>1.000000</td>\n",
       "    </tr>\n",
       "    <tr>\n",
       "      <th>25%</th>\n",
       "      <td>1333.000000</td>\n",
       "      <td>20.000000</td>\n",
       "      <td>0.000000</td>\n",
       "      <td>0.000000</td>\n",
       "      <td>0.000000</td>\n",
       "      <td>2.000000e+03</td>\n",
       "      <td>1.344000e+03</td>\n",
       "      <td>1925.000000</td>\n",
       "      <td>3.720360e+05</td>\n",
       "      <td>2016.000000</td>\n",
       "      <td>4.000000</td>\n",
       "    </tr>\n",
       "    <tr>\n",
       "      <th>50%</th>\n",
       "      <td>3292.000000</td>\n",
       "      <td>47.000000</td>\n",
       "      <td>1.000000</td>\n",
       "      <td>0.000000</td>\n",
       "      <td>1.000000</td>\n",
       "      <td>2.314000e+03</td>\n",
       "      <td>1.680000e+03</td>\n",
       "      <td>1949.000000</td>\n",
       "      <td>6.210000e+05</td>\n",
       "      <td>2017.000000</td>\n",
       "      <td>6.000000</td>\n",
       "    </tr>\n",
       "    <tr>\n",
       "      <th>75%</th>\n",
       "      <td>6255.000000</td>\n",
       "      <td>203.000000</td>\n",
       "      <td>2.000000</td>\n",
       "      <td>0.000000</td>\n",
       "      <td>2.000000</td>\n",
       "      <td>2.523000e+03</td>\n",
       "      <td>1.938000e+03</td>\n",
       "      <td>1970.000000</td>\n",
       "      <td>1.030000e+06</td>\n",
       "      <td>2017.000000</td>\n",
       "      <td>10.000000</td>\n",
       "    </tr>\n",
       "    <tr>\n",
       "      <th>max</th>\n",
       "      <td>16319.000000</td>\n",
       "      <td>9002.000000</td>\n",
       "      <td>1844.000000</td>\n",
       "      <td>2261.000000</td>\n",
       "      <td>2261.000000</td>\n",
       "      <td>4.228300e+06</td>\n",
       "      <td>3.750565e+06</td>\n",
       "      <td>2017.000000</td>\n",
       "      <td>2.210000e+09</td>\n",
       "      <td>2017.000000</td>\n",
       "      <td>12.000000</td>\n",
       "    </tr>\n",
       "  </tbody>\n",
       "</table>\n",
       "</div>"
      ],
      "text/plain": [
       "              BLOCK           LOT  RESIDENTIAL UNITS  COMMERCIAL UNITS  \\\n",
       "count  55256.000000  55256.000000       55256.000000      55256.000000   \n",
       "mean    4246.103971    326.769256           1.804202          0.165756   \n",
       "std     3594.176515    588.377197          14.600577         10.042944   \n",
       "min        1.000000      1.000000           0.000000          0.000000   \n",
       "25%     1333.000000     20.000000           0.000000          0.000000   \n",
       "50%     3292.000000     47.000000           1.000000          0.000000   \n",
       "75%     6255.000000    203.000000           2.000000          0.000000   \n",
       "max    16319.000000   9002.000000        1844.000000       2261.000000   \n",
       "\n",
       "        TOTAL UNITS  LAND SQUARE FEET  GROSS SQUARE FEET    YEAR BUILT  \\\n",
       "count  55256.000000      5.525600e+04       5.525600e+04  55256.000000   \n",
       "mean       1.979713      3.037339e+03       2.930826e+03   1950.736463   \n",
       "std       17.831269      2.796504e+04       2.464390e+04     34.337036   \n",
       "min        0.000000      0.000000e+00       0.000000e+00   1111.000000   \n",
       "25%        0.000000      2.000000e+03       1.344000e+03   1925.000000   \n",
       "50%        1.000000      2.314000e+03       1.680000e+03   1949.000000   \n",
       "75%        2.000000      2.523000e+03       1.938000e+03   1970.000000   \n",
       "max     2261.000000      4.228300e+06       3.750565e+06   2017.000000   \n",
       "\n",
       "         SALE PRICE     SALE YEAR    SALE MONTH  \n",
       "count  5.525600e+04  55256.000000  55256.000000  \n",
       "mean   1.472227e+06   2016.657250      6.548737  \n",
       "std    1.258866e+07      0.474633      3.448788  \n",
       "min    1.000000e+00   2016.000000      1.000000  \n",
       "25%    3.720360e+05   2016.000000      4.000000  \n",
       "50%    6.210000e+05   2017.000000      6.000000  \n",
       "75%    1.030000e+06   2017.000000     10.000000  \n",
       "max    2.210000e+09   2017.000000     12.000000  "
      ]
     },
     "execution_count": 23,
     "metadata": {},
     "output_type": "execute_result"
    }
   ],
   "source": [
    "dataa.describe()"
   ]
  },
  {
   "cell_type": "code",
   "execution_count": 24,
   "id": "52f7aad8",
   "metadata": {},
   "outputs": [
    {
     "name": "stdout",
     "output_type": "stream",
     "text": [
      "<class 'pandas.core.frame.DataFrame'>\n",
      "Int64Index: 55256 entries, 0 to 84547\n",
      "Data columns (total 21 columns):\n",
      " #   Column                          Non-Null Count  Dtype         \n",
      "---  ------                          --------------  -----         \n",
      " 0   BOROUGH                         55256 non-null  category      \n",
      " 1   NEIGHBORHOOD                    55256 non-null  category      \n",
      " 2   BUILDING CLASS CATEGORY         55256 non-null  category      \n",
      " 3   TAX CLASS AT PRESENT            55256 non-null  category      \n",
      " 4   BLOCK                           55256 non-null  int64         \n",
      " 5   LOT                             55256 non-null  int64         \n",
      " 6   BUILDING CLASS AT PRESENT       55256 non-null  category      \n",
      " 7   ADDRESS                         55256 non-null  object        \n",
      " 8   ZIP CODE                        55256 non-null  category      \n",
      " 9   RESIDENTIAL UNITS               55256 non-null  int64         \n",
      " 10  COMMERCIAL UNITS                55256 non-null  int64         \n",
      " 11  TOTAL UNITS                     55256 non-null  int64         \n",
      " 12  LAND SQUARE FEET                55256 non-null  float64       \n",
      " 13  GROSS SQUARE FEET               55256 non-null  float64       \n",
      " 14  YEAR BUILT                      55256 non-null  float64       \n",
      " 15  TAX CLASS AT TIME OF SALE       55256 non-null  category      \n",
      " 16  BUILDING CLASS AT TIME OF SALE  55256 non-null  category      \n",
      " 17  SALE PRICE                      55256 non-null  float64       \n",
      " 18  SALE DATE                       55256 non-null  datetime64[ns]\n",
      " 19  SALE YEAR                       55256 non-null  int64         \n",
      " 20  SALE MONTH                      55256 non-null  int64         \n",
      "dtypes: category(8), datetime64[ns](1), float64(4), int64(7), object(1)\n",
      "memory usage: 6.6+ MB\n"
     ]
    }
   ],
   "source": [
    "dataa.info()"
   ]
  },
  {
   "cell_type": "markdown",
   "id": "977ac5e1",
   "metadata": {},
   "source": [
    "# measure of central tendency"
   ]
  },
  {
   "cell_type": "markdown",
   "id": "8cb5d0fe",
   "metadata": {},
   "source": [
    "## mean"
   ]
  },
  {
   "cell_type": "code",
   "execution_count": 25,
   "id": "1a4174cc",
   "metadata": {},
   "outputs": [
    {
     "name": "stdout",
     "output_type": "stream",
     "text": [
      "Mean Sale Price :  1472227.0172108007\n"
     ]
    }
   ],
   "source": [
    "# mean sale price\n",
    "mean_SP = dataa['SALE PRICE'].mean()\n",
    "print(\"Mean Sale Price : \", mean_SP)"
   ]
  },
  {
   "cell_type": "code",
   "execution_count": 26,
   "id": "0766f977",
   "metadata": {},
   "outputs": [
    {
     "data": {
      "text/plain": [
       "BOROUGH\n",
       "Bronx            8.435075e+05\n",
       "Brooklyn         1.266564e+06\n",
       "Manhattan        3.408388e+06\n",
       "Queens           7.271154e+05\n",
       "Staten Island    5.033410e+05\n",
       "Name: SALE PRICE, dtype: float64"
      ]
     },
     "execution_count": 26,
     "metadata": {},
     "output_type": "execute_result"
    }
   ],
   "source": [
    "# mean sale price setiap borough\n",
    "dataa.groupby(['BOROUGH'])['SALE PRICE'].mean()"
   ]
  },
  {
   "cell_type": "markdown",
   "id": "2a51be48",
   "metadata": {},
   "source": [
    "## median"
   ]
  },
  {
   "cell_type": "code",
   "execution_count": 27,
   "id": "255b6267",
   "metadata": {},
   "outputs": [
    {
     "name": "stdout",
     "output_type": "stream",
     "text": [
      "Median Sale Price :  621000.0\n"
     ]
    }
   ],
   "source": [
    "# median sale price\n",
    "median_SP = dataa['SALE PRICE'].median()\n",
    "print(\"Median Sale Price : \", median_SP)"
   ]
  },
  {
   "cell_type": "code",
   "execution_count": 28,
   "id": "9adabee1",
   "metadata": {},
   "outputs": [
    {
     "data": {
      "text/plain": [
       "BOROUGH\n",
       "Bronx             420000.0\n",
       "Brooklyn          755000.0\n",
       "Manhattan        1115000.0\n",
       "Queens            498000.0\n",
       "Staten Island     465213.0\n",
       "Name: SALE PRICE, dtype: float64"
      ]
     },
     "execution_count": 28,
     "metadata": {},
     "output_type": "execute_result"
    }
   ],
   "source": [
    "# median sale price setiap borough\n",
    "dataa.groupby(['BOROUGH'])['SALE PRICE'].median()"
   ]
  },
  {
   "cell_type": "markdown",
   "id": "abc785f8",
   "metadata": {},
   "source": [
    "## mode"
   ]
  },
  {
   "cell_type": "markdown",
   "id": "ea1c844f",
   "metadata": {},
   "source": [
    "**Mode pada data kategorikal?**"
   ]
  },
  {
   "cell_type": "code",
   "execution_count": 29,
   "id": "d4347d7d",
   "metadata": {},
   "outputs": [
    {
     "name": "stdout",
     "output_type": "stream",
     "text": [
      "Mode Borough                         : Queens\n",
      "Mode Neighborhood                    : FLUSHING-NORTH\n",
      "Mode Building Class Category         : 01 ONE FAMILY DWELLINGS                    \n",
      "Mode Building Class at Present       : D4\n",
      "Mode Tax Class at Time of Sale       : 2\n",
      "Mode Building Class at Time of Sale  : D4\n"
     ]
    }
   ],
   "source": [
    "# mode pada tiap kategorikal\n",
    "\n",
    "mode_borough            = statistics.mode(dataa['BOROUGH'])\n",
    "mode_Neighborhood       = statistics.mode(dataa['NEIGHBORHOOD'])\n",
    "mode_BuildClassCategory = statistics.mode(dataa['BUILDING CLASS CATEGORY'])\n",
    "mode_BuildClassAP       = statistics.mode(dataa['BUILDING CLASS AT PRESENT'])\n",
    "mode_Tax = statistics.mode(dataa['TAX CLASS AT TIME OF SALE'])\n",
    "mode_BD = statistics.mode(dataa['BUILDING CLASS AT TIME OF SALE'])\n",
    "print(\"Mode Borough                         :\" , mode_borough)\n",
    "print(\"Mode Neighborhood                    :\" , mode_Neighborhood)\n",
    "print(\"Mode Building Class Category         :\" , mode_BuildClassCategory )\n",
    "print(\"Mode Building Class at Present       :\" , mode_BuildClassAP )\n",
    "print(\"Mode Tax Class at Time of Sale       :\" , mode_Tax)\n",
    "print(\"Mode Building Class at Time of Sale  :\" , mode_BD)"
   ]
  },
  {
   "cell_type": "markdown",
   "id": "0bb2eb06",
   "metadata": {},
   "source": [
    "# measure of spread"
   ]
  },
  {
   "cell_type": "markdown",
   "id": "733bdbad",
   "metadata": {},
   "source": [
    "## range"
   ]
  },
  {
   "cell_type": "code",
   "execution_count": 30,
   "id": "625857d8",
   "metadata": {},
   "outputs": [
    {
     "name": "stdout",
     "output_type": "stream",
     "text": [
      "Range dari Sale Price :  2209999999.0\n"
     ]
    }
   ],
   "source": [
    "# range pada sale price\n",
    "range_price = np.ptp(dataa['SALE PRICE'])\n",
    "print(\"Range dari Sale Price : \",range_price)"
   ]
  },
  {
   "cell_type": "code",
   "execution_count": 31,
   "id": "dfa1412c",
   "metadata": {},
   "outputs": [
    {
     "name": "stdout",
     "output_type": "stream",
     "text": [
      "Range dari Gross Square Feet :  3750565.0\n"
     ]
    }
   ],
   "source": [
    "# range pada gross square feet\n",
    "range_gsf = np.ptp(dataa['GROSS SQUARE FEET'])\n",
    "print(\"Range dari Gross Square Feet : \",range_gsf)"
   ]
  },
  {
   "cell_type": "code",
   "execution_count": 32,
   "id": "210af9ee",
   "metadata": {},
   "outputs": [
    {
     "name": "stdout",
     "output_type": "stream",
     "text": [
      "Range dari Land Square Feet :  4228300.0\n"
     ]
    }
   ],
   "source": [
    "# range pada land square feet\n",
    "range_lsf = np.ptp(dataa['LAND SQUARE FEET'])\n",
    "print(\"Range dari Land Square Feet : \", range_lsf)"
   ]
  },
  {
   "cell_type": "markdown",
   "id": "e3dff768",
   "metadata": {},
   "source": [
    "## variance"
   ]
  },
  {
   "cell_type": "code",
   "execution_count": 33,
   "id": "fdefe3cb",
   "metadata": {},
   "outputs": [
    {
     "name": "stdout",
     "output_type": "stream",
     "text": [
      "Variance Sale Price        :  158474270306171.75\n",
      "Variance Gross Square Feet :  607321838.1464214\n",
      "Variance Land Square Feet  :  782043194.2824746\n",
      "Variance Residential Units :  213.17684669687011\n",
      "Variance Commercial Units  :  100.86071564636087\n",
      "Variance Total Units       :  317.95414456313915\n"
     ]
    }
   ],
   "source": [
    "# variace pada data numerik\n",
    "v_p = statistics.variance(dataa['SALE PRICE'])\n",
    "v_gsf = statistics.variance(dataa['GROSS SQUARE FEET'])\n",
    "v_lsf = statistics.variance(dataa['LAND SQUARE FEET'])\n",
    "v_ru = statistics.variance(dataa['RESIDENTIAL UNITS'])\n",
    "v_cu = statistics.variance(dataa['COMMERCIAL UNITS'])\n",
    "v_tu = statistics.variance(dataa['TOTAL UNITS'])\n",
    "print(\"Variance Sale Price        : \", v_p)\n",
    "print(\"Variance Gross Square Feet : \", v_gsf)\n",
    "print(\"Variance Land Square Feet  : \", v_lsf)\n",
    "print(\"Variance Residential Units : \", v_ru)\n",
    "print(\"Variance Commercial Units  : \", v_cu)\n",
    "print(\"Variance Total Units       : \", v_tu)"
   ]
  },
  {
   "cell_type": "markdown",
   "id": "b75f4e2e",
   "metadata": {},
   "source": [
    "## standard deviation"
   ]
  },
  {
   "cell_type": "code",
   "execution_count": 34,
   "id": "2103faf6",
   "metadata": {},
   "outputs": [
    {
     "name": "stdout",
     "output_type": "stream",
     "text": [
      "Standar Deviasi Sale Price        :  12588656.413858142\n",
      "Standar Deviasi Gross Square Feet :  24643.900627668936\n",
      "Standar Deviasi Land Square Feet  :  27965.035209748523\n",
      "Standar Deviasi Residential Units :  14.60057693027471\n",
      "Standar Deviasi Commercial Units  :  10.042943574787268\n",
      "Standar Deviasi Total Units       :  17.831268731168265\n"
     ]
    }
   ],
   "source": [
    "std_p   = statistics.stdev(dataa['SALE PRICE'])\n",
    "std_gsf = statistics.stdev(dataa['GROSS SQUARE FEET'])\n",
    "std_lsf = statistics.stdev(dataa['LAND SQUARE FEET'])\n",
    "std_ru  = statistics.stdev(dataa['RESIDENTIAL UNITS'])\n",
    "std_cu  = statistics.stdev(dataa['COMMERCIAL UNITS'])\n",
    "std_tu  = statistics.stdev(dataa['TOTAL UNITS'])\n",
    "print(\"Standar Deviasi Sale Price        : \", std_p)\n",
    "print(\"Standar Deviasi Gross Square Feet : \", std_gsf)\n",
    "print(\"Standar Deviasi Land Square Feet  : \", std_lsf)\n",
    "print(\"Standar Deviasi Residential Units : \", std_ru)\n",
    "print(\"Standar Deviasi Commercial Units  : \", std_cu)\n",
    "print(\"Standar Deviasi Total Units       : \", std_tu)"
   ]
  },
  {
   "cell_type": "markdown",
   "id": "5cc32ee7",
   "metadata": {},
   "source": [
    "# probability distribution"
   ]
  },
  {
   "cell_type": "markdown",
   "id": "fe1addcb",
   "metadata": {},
   "source": [
    "## normal Distribution"
   ]
  },
  {
   "cell_type": "code",
   "execution_count": 35,
   "id": "be710c27",
   "metadata": {},
   "outputs": [
    {
     "name": "stderr",
     "output_type": "stream",
     "text": [
      "/home/jefl5/.local/lib/python3.8/site-packages/seaborn/distributions.py:2619: FutureWarning: `distplot` is a deprecated function and will be removed in a future version. Please adapt your code to use either `displot` (a figure-level function with similar flexibility) or `histplot` (an axes-level function for histograms).\n",
      "  warnings.warn(msg, FutureWarning)\n",
      "/home/jefl5/.local/lib/python3.8/site-packages/seaborn/distributions.py:2103: FutureWarning: The `axis` variable is no longer used and will be removed. Instead, assign variables directly to `x` or `y`.\n",
      "  warnings.warn(msg, FutureWarning)\n"
     ]
    },
    {
     "data": {
      "text/plain": [
       "<AxesSubplot:xlabel='SALE PRICE', ylabel='Density'>"
      ]
     },
     "execution_count": 35,
     "metadata": {},
     "output_type": "execute_result"
    },
    {
     "data": {
      "image/png": "[encoded data removed]",
      "text/plain": [
       "<Figure size 432x288 with 1 Axes>"
      ]
     },
     "metadata": {
      "needs_background": "light"
     },
     "output_type": "display_data"
    }
   ],
   "source": [
    "# distribution sale price\n",
    "sns.distplot(dataa['SALE PRICE'], kde=True, rug=True)"
   ]
  },
  {
   "cell_type": "code",
   "execution_count": 36,
   "id": "9d344104",
   "metadata": {},
   "outputs": [],
   "source": [
    "# data sale price pada rentang 10.000 - 10.000.000\n",
    "datasal = dataa[(dataa['SALE PRICE'] > 100000) & (dataa['SALE PRICE'] < 10000000)]"
   ]
  },
  {
   "cell_type": "code",
   "execution_count": 37,
   "id": "dcecae9f",
   "metadata": {},
   "outputs": [
    {
     "name": "stderr",
     "output_type": "stream",
     "text": [
      "/home/jefl5/.local/lib/python3.8/site-packages/seaborn/distributions.py:2619: FutureWarning: `distplot` is a deprecated function and will be removed in a future version. Please adapt your code to use either `displot` (a figure-level function with similar flexibility) or `histplot` (an axes-level function for histograms).\n",
      "  warnings.warn(msg, FutureWarning)\n",
      "/home/jefl5/.local/lib/python3.8/site-packages/seaborn/distributions.py:2103: FutureWarning: The `axis` variable is no longer used and will be removed. Instead, assign variables directly to `x` or `y`.\n",
      "  warnings.warn(msg, FutureWarning)\n"
     ]
    },
    {
     "data": {
      "text/plain": [
       "<AxesSubplot:xlabel='SALE PRICE', ylabel='Density'>"
      ]
     },
     "execution_count": 37,
     "metadata": {},
     "output_type": "execute_result"
    },
    {
     "data": {
      "image/png": "[encoded data removed]",
      "text/plain": [
       "<Figure size 432x288 with 1 Axes>"
      ]
     },
     "metadata": {
      "needs_background": "light"
     },
     "output_type": "display_data"
    }
   ],
   "source": [
    "# distribusi\n",
    "sns.distplot(datasal['SALE PRICE'], kde=True, rug=True)"
   ]
  },
  {
   "cell_type": "code",
   "execution_count": 38,
   "id": "b3d5c835",
   "metadata": {},
   "outputs": [
    {
     "name": "stderr",
     "output_type": "stream",
     "text": [
      "/tmp/ipykernel_15552/4065478517.py:2: SettingWithCopyWarning: \n",
      "A value is trying to be set on a copy of a slice from a DataFrame.\n",
      "Try using .loc[row_indexer,col_indexer] = value instead\n",
      "\n",
      "See the caveats in the documentation: https://pandas.pydata.org/pandas-docs/stable/user_guide/indexing.html#returning-a-view-versus-a-copy\n",
      "  datasal['SALE PRICE'] = np.log(datasal['SALE PRICE'])\n",
      "/home/jefl5/.local/lib/python3.8/site-packages/seaborn/distributions.py:2619: FutureWarning: `distplot` is a deprecated function and will be removed in a future version. Please adapt your code to use either `displot` (a figure-level function with similar flexibility) or `histplot` (an axes-level function for histograms).\n",
      "  warnings.warn(msg, FutureWarning)\n",
      "/home/jefl5/.local/lib/python3.8/site-packages/seaborn/distributions.py:2103: FutureWarning: The `axis` variable is no longer used and will be removed. Instead, assign variables directly to `x` or `y`.\n",
      "  warnings.warn(msg, FutureWarning)\n"
     ]
    },
    {
     "data": {
      "text/plain": [
       "<AxesSubplot:xlabel='SALE PRICE', ylabel='Density'>"
      ]
     },
     "execution_count": 38,
     "metadata": {},
     "output_type": "execute_result"
    },
    {
     "data": {
      "image/png": "[encoded data removed]",
      "text/plain": [
       "<Figure size 432x288 with 1 Axes>"
      ]
     },
     "metadata": {
      "needs_background": "light"
     },
     "output_type": "display_data"
    }
   ],
   "source": [
    "# diubah ke bentuk logaritma untuk memperbaiki data\n",
    "datasal['SALE PRICE'] = np.log(datasal['SALE PRICE'])\n",
    "# distribusi\n",
    "sns.distplot(datasal['SALE PRICE'], kde=True, rug=True)"
   ]
  },
  {
   "cell_type": "markdown",
   "id": "313c9db7",
   "metadata": {},
   "source": [
    "# confidence intervals"
   ]
  },
  {
   "cell_type": "markdown",
   "id": "7f97f285",
   "metadata": {},
   "source": [
    "## calculation of CI of mean"
   ]
  },
  {
   "cell_type": "markdown",
   "id": "082b983e",
   "metadata": {},
   "source": [
    "**Bagaiamana Confidence Interval untuk Sale Price Wilayah Staten Island?**"
   ]
  },
  {
   "cell_type": "code",
   "execution_count": 39,
   "id": "989b995d",
   "metadata": {},
   "outputs": [
    {
     "data": {
      "text/html": [
       "<div>\n",
       "<style scoped>\n",
       "    .dataframe tbody tr th:only-of-type {\n",
       "        vertical-align: middle;\n",
       "    }\n",
       "\n",
       "    .dataframe tbody tr th {\n",
       "        vertical-align: top;\n",
       "    }\n",
       "\n",
       "    .dataframe thead tr th {\n",
       "        text-align: left;\n",
       "    }\n",
       "\n",
       "    .dataframe thead tr:last-of-type th {\n",
       "        text-align: right;\n",
       "    }\n",
       "</style>\n",
       "<table border=\"1\" class=\"dataframe\">\n",
       "  <thead>\n",
       "    <tr>\n",
       "      <th></th>\n",
       "      <th colspan=\"3\" halign=\"left\">SALE PRICE</th>\n",
       "    </tr>\n",
       "    <tr>\n",
       "      <th></th>\n",
       "      <th>mean</th>\n",
       "      <th>std</th>\n",
       "      <th>size</th>\n",
       "    </tr>\n",
       "    <tr>\n",
       "      <th>BOROUGH</th>\n",
       "      <th></th>\n",
       "      <th></th>\n",
       "      <th></th>\n",
       "    </tr>\n",
       "  </thead>\n",
       "  <tbody>\n",
       "    <tr>\n",
       "      <th>Bronx</th>\n",
       "      <td>8.435075e+05</td>\n",
       "      <td>3.350941e+06</td>\n",
       "      <td>4740</td>\n",
       "    </tr>\n",
       "    <tr>\n",
       "      <th>Brooklyn</th>\n",
       "      <td>1.266564e+06</td>\n",
       "      <td>3.861973e+06</td>\n",
       "      <td>14260</td>\n",
       "    </tr>\n",
       "    <tr>\n",
       "      <th>Manhattan</th>\n",
       "      <td>3.408388e+06</td>\n",
       "      <td>2.545039e+07</td>\n",
       "      <td>12766</td>\n",
       "    </tr>\n",
       "    <tr>\n",
       "      <th>Queens</th>\n",
       "      <td>7.271154e+05</td>\n",
       "      <td>2.966921e+06</td>\n",
       "      <td>17674</td>\n",
       "    </tr>\n",
       "    <tr>\n",
       "      <th>Staten Island</th>\n",
       "      <td>5.033410e+05</td>\n",
       "      <td>4.661293e+05</td>\n",
       "      <td>5816</td>\n",
       "    </tr>\n",
       "  </tbody>\n",
       "</table>\n",
       "</div>"
      ],
      "text/plain": [
       "                 SALE PRICE                     \n",
       "                       mean           std   size\n",
       "BOROUGH                                         \n",
       "Bronx          8.435075e+05  3.350941e+06   4740\n",
       "Brooklyn       1.266564e+06  3.861973e+06  14260\n",
       "Manhattan      3.408388e+06  2.545039e+07  12766\n",
       "Queens         7.271154e+05  2.966921e+06  17674\n",
       "Staten Island  5.033410e+05  4.661293e+05   5816"
      ]
     },
     "execution_count": 39,
     "metadata": {},
     "output_type": "execute_result"
    }
   ],
   "source": [
    "dataa.groupby(\"BOROUGH\").agg({\"SALE PRICE\":[np.mean, np.std, np.size]})"
   ]
  },
  {
   "cell_type": "code",
   "execution_count": 40,
   "id": "b48d2c46",
   "metadata": {},
   "outputs": [
    {
     "data": {
      "text/html": [
       "<div>\n",
       "<style scoped>\n",
       "    .dataframe tbody tr th:only-of-type {\n",
       "        vertical-align: middle;\n",
       "    }\n",
       "\n",
       "    .dataframe tbody tr th {\n",
       "        vertical-align: top;\n",
       "    }\n",
       "\n",
       "    .dataframe thead th {\n",
       "        text-align: right;\n",
       "    }\n",
       "</style>\n",
       "<table border=\"1\" class=\"dataframe\">\n",
       "  <thead>\n",
       "    <tr style=\"text-align: right;\">\n",
       "      <th>BOROUGH</th>\n",
       "      <th>Bronx</th>\n",
       "      <th>Brooklyn</th>\n",
       "      <th>Manhattan</th>\n",
       "      <th>Queens</th>\n",
       "      <th>Staten Island</th>\n",
       "    </tr>\n",
       "  </thead>\n",
       "  <tbody>\n",
       "    <tr>\n",
       "      <th>count</th>\n",
       "      <td>4.740000e+03</td>\n",
       "      <td>1.426000e+04</td>\n",
       "      <td>1.276600e+04</td>\n",
       "      <td>1.767400e+04</td>\n",
       "      <td>5.816000e+03</td>\n",
       "    </tr>\n",
       "    <tr>\n",
       "      <th>mean</th>\n",
       "      <td>8.435075e+05</td>\n",
       "      <td>1.266564e+06</td>\n",
       "      <td>3.408388e+06</td>\n",
       "      <td>7.271154e+05</td>\n",
       "      <td>5.033410e+05</td>\n",
       "    </tr>\n",
       "    <tr>\n",
       "      <th>std</th>\n",
       "      <td>3.350941e+06</td>\n",
       "      <td>3.861973e+06</td>\n",
       "      <td>2.545039e+07</td>\n",
       "      <td>2.966921e+06</td>\n",
       "      <td>4.661293e+05</td>\n",
       "    </tr>\n",
       "    <tr>\n",
       "      <th>min</th>\n",
       "      <td>1.000000e+00</td>\n",
       "      <td>1.000000e+00</td>\n",
       "      <td>1.000000e+00</td>\n",
       "      <td>1.000000e+00</td>\n",
       "      <td>1.000000e+00</td>\n",
       "    </tr>\n",
       "    <tr>\n",
       "      <th>25%</th>\n",
       "      <td>2.457500e+05</td>\n",
       "      <td>4.450000e+05</td>\n",
       "      <td>6.490000e+05</td>\n",
       "      <td>2.850000e+05</td>\n",
       "      <td>3.320000e+05</td>\n",
       "    </tr>\n",
       "    <tr>\n",
       "      <th>50%</th>\n",
       "      <td>4.200000e+05</td>\n",
       "      <td>7.550000e+05</td>\n",
       "      <td>1.115000e+06</td>\n",
       "      <td>4.980000e+05</td>\n",
       "      <td>4.652130e+05</td>\n",
       "    </tr>\n",
       "    <tr>\n",
       "      <th>75%</th>\n",
       "      <td>5.800000e+05</td>\n",
       "      <td>1.262170e+06</td>\n",
       "      <td>2.400000e+06</td>\n",
       "      <td>7.800000e+05</td>\n",
       "      <td>6.000000e+05</td>\n",
       "    </tr>\n",
       "    <tr>\n",
       "      <th>max</th>\n",
       "      <td>1.100000e+08</td>\n",
       "      <td>1.542500e+08</td>\n",
       "      <td>2.210000e+09</td>\n",
       "      <td>2.575000e+08</td>\n",
       "      <td>1.190000e+07</td>\n",
       "    </tr>\n",
       "  </tbody>\n",
       "</table>\n",
       "</div>"
      ],
      "text/plain": [
       "BOROUGH         Bronx      Brooklyn     Manhattan        Queens  Staten Island\n",
       "count    4.740000e+03  1.426000e+04  1.276600e+04  1.767400e+04   5.816000e+03\n",
       "mean     8.435075e+05  1.266564e+06  3.408388e+06  7.271154e+05   5.033410e+05\n",
       "std      3.350941e+06  3.861973e+06  2.545039e+07  2.966921e+06   4.661293e+05\n",
       "min      1.000000e+00  1.000000e+00  1.000000e+00  1.000000e+00   1.000000e+00\n",
       "25%      2.457500e+05  4.450000e+05  6.490000e+05  2.850000e+05   3.320000e+05\n",
       "50%      4.200000e+05  7.550000e+05  1.115000e+06  4.980000e+05   4.652130e+05\n",
       "75%      5.800000e+05  1.262170e+06  2.400000e+06  7.800000e+05   6.000000e+05\n",
       "max      1.100000e+08  1.542500e+08  2.210000e+09  2.575000e+08   1.190000e+07"
      ]
     },
     "execution_count": 40,
     "metadata": {},
     "output_type": "execute_result"
    }
   ],
   "source": [
    "dataa.groupby(\"BOROUGH\")[\"SALE PRICE\"].describe().T"
   ]
  },
  {
   "cell_type": "code",
   "execution_count": 41,
   "id": "7674d710",
   "metadata": {},
   "outputs": [],
   "source": [
    "mean_br = 5.033 #mean cholestrol of female\n",
    "sd = 4.66       #standard deviation for female population\n",
    "n = 5816          #total number of female\n",
    "z = 1.96         #z-score from the z table mentioned before"
   ]
  },
  {
   "cell_type": "code",
   "execution_count": 42,
   "id": "9f3b6984",
   "metadata": {},
   "outputs": [
    {
     "data": {
      "text/plain": [
       "0.06110457358776431"
      ]
     },
     "execution_count": 42,
     "metadata": {},
     "output_type": "execute_result"
    }
   ],
   "source": [
    "se = sd/np.sqrt(n)\n",
    "se"
   ]
  },
  {
   "cell_type": "code",
   "execution_count": 43,
   "id": "0e6bc64f",
   "metadata": {},
   "outputs": [
    {
     "data": {
      "text/plain": [
       "(4.913235035767983, 5.152764964232018)"
      ]
     },
     "execution_count": 43,
     "metadata": {},
     "output_type": "execute_result"
    }
   ],
   "source": [
    "lcb = mean_br - z * se #lower limit of the CI\n",
    "ucb = mean_br  + z * se#upper limit of the CI\n",
    "lcb, ucb"
   ]
  },
  {
   "cell_type": "markdown",
   "id": "f12b3e23",
   "metadata": {},
   "source": [
    "Diperoleh Confidence Interval adalah 4.91-5.15."
   ]
  },
  {
   "cell_type": "markdown",
   "id": "dd2e7c91",
   "metadata": {},
   "source": [
    "# hypothesis testing"
   ]
  },
  {
   "cell_type": "markdown",
   "id": "a56d7a11",
   "metadata": {},
   "source": [
    "apakah terdapat perbedaan signifikan sale price pada wilayah quens dan State island?"
   ]
  },
  {
   "cell_type": "code",
   "execution_count": 44,
   "id": "973a16aa",
   "metadata": {},
   "outputs": [],
   "source": [
    "import statsmodels.api as sm"
   ]
  },
  {
   "cell_type": "code",
   "execution_count": 45,
   "id": "3ebacc67",
   "metadata": {},
   "outputs": [],
   "source": [
    "hiq = dataa[dataa[\"BOROUGH\"] == \"Queens\"]\n",
    "his = dataa[dataa[\"BOROUGH\"] == \"Staten Island\"]"
   ]
  },
  {
   "cell_type": "code",
   "execution_count": 46,
   "id": "b5b5205e",
   "metadata": {},
   "outputs": [
    {
     "data": {
      "text/plain": [
       "(17674, 727115.4420052054, 2966921.3534063147)"
      ]
     },
     "execution_count": 46,
     "metadata": {},
     "output_type": "execute_result"
    }
   ],
   "source": [
    "n1 = len(hiq)\n",
    "mu1 = hiq[\"SALE PRICE\"].mean()\n",
    "sd1 = hiq[\"SALE PRICE\"].std()\n",
    "\n",
    "(n1, mu1, sd1)"
   ]
  },
  {
   "cell_type": "code",
   "execution_count": 47,
   "id": "f9d16cdc",
   "metadata": {},
   "outputs": [
    {
     "data": {
      "text/plain": [
       "(5816, 503340.98607290233, 466129.2669375476)"
      ]
     },
     "execution_count": 47,
     "metadata": {},
     "output_type": "execute_result"
    }
   ],
   "source": [
    "n2 = len(his)\n",
    "mu2 = his[\"SALE PRICE\"].mean()\n",
    "sd2 = his[\"SALE PRICE\"].std()\n",
    "\n",
    "(n2, mu2, sd2)"
   ]
  },
  {
   "cell_type": "code",
   "execution_count": 48,
   "id": "1e4a83f6",
   "metadata": {},
   "outputs": [
    {
     "data": {
      "text/plain": [
       "(5.728672801436983, 1.0121941216840619e-08)"
      ]
     },
     "execution_count": 48,
     "metadata": {},
     "output_type": "execute_result"
    }
   ],
   "source": [
    "sm.stats.ztest(hiq[\"SALE PRICE\"].dropna(), his[\"SALE PRICE\"].dropna(),alternative='two-sided')"
   ]
  },
  {
   "cell_type": "markdown",
   "id": "86e32288",
   "metadata": {},
   "source": [
    "Karena p-value (1.01..) sangat kecil, kita dapat reject the Null hypothesis. Kita menggunakan alternative=\"two-sided\" dalam z-theest karena disni kita memerika ketidaksamaan"
   ]
  },
  {
   "cell_type": "markdown",
   "id": "e9af3e55",
   "metadata": {},
   "source": [
    "## normality tests"
   ]
  },
  {
   "cell_type": "code",
   "execution_count": 49,
   "id": "600b569a",
   "metadata": {},
   "outputs": [],
   "source": [
    "ht_tu = dataa[dataa['TOTAL UNITS']!= 0]['TOTAL UNITS']"
   ]
  },
  {
   "cell_type": "code",
   "execution_count": 50,
   "id": "ca5c1a7e",
   "metadata": {},
   "outputs": [],
   "source": [
    "ht_lsf = dataa[dataa['LAND SQUARE FEET']!= 0]['GROSS SQUARE FEET']"
   ]
  },
  {
   "cell_type": "markdown",
   "id": "3afd7f04",
   "metadata": {},
   "source": [
    "### shapiro-wilk test"
   ]
  },
  {
   "cell_type": "code",
   "execution_count": 51,
   "id": "24ee9e23",
   "metadata": {},
   "outputs": [
    {
     "name": "stdout",
     "output_type": "stream",
     "text": [
      "stat=0.038, p=0.000\n",
      "Probably not Normal Dist\n"
     ]
    },
    {
     "name": "stderr",
     "output_type": "stream",
     "text": [
      "/home/jefl5/.local/lib/python3.8/site-packages/scipy/stats/_morestats.py:1761: UserWarning: p-value may not be accurate for N > 5000.\n",
      "  warnings.warn(\"p-value may not be accurate for N > 5000.\")\n"
     ]
    }
   ],
   "source": [
    "from scipy.stats import shapiro\n",
    "stat, p = shapiro(ht_tu )\n",
    "print('stat=%.3f, p=%.3f' % (stat, p))\n",
    "if p > 0.05:\n",
    "    print('Probably Normal Dist')\n",
    "else:\n",
    "    print('Probably not Normal Dist')"
   ]
  },
  {
   "cell_type": "code",
   "execution_count": 52,
   "id": "69cd9ffa",
   "metadata": {},
   "outputs": [
    {
     "name": "stdout",
     "output_type": "stream",
     "text": [
      "stat=0.034, p=0.000\n",
      "Probably not Normal Dist\n"
     ]
    }
   ],
   "source": [
    "from scipy.stats import shapiro\n",
    "stat, p = shapiro(ht_lsf )\n",
    "print('stat=%.3f, p=%.3f' % (stat, p))\n",
    "if p > 0.05:\n",
    "    print('Probably Normal Dist')\n",
    "else:\n",
    "    print('Probably not Normal Dist')"
   ]
  },
  {
   "cell_type": "markdown",
   "id": "605194de",
   "metadata": {},
   "source": [
    "### d’agostino’s K^2 Test"
   ]
  },
  {
   "cell_type": "code",
   "execution_count": 53,
   "id": "3b401eff",
   "metadata": {},
   "outputs": [
    {
     "name": "stdout",
     "output_type": "stream",
     "text": [
      "stat=136766.933, p=0.000\n",
      "Probably not Gaussian\n"
     ]
    }
   ],
   "source": [
    "# Example of the D'Agostino's K^2 Normality Test\n",
    "from scipy.stats import normaltest\n",
    "stat, p = normaltest(ht_tu)\n",
    "print('stat=%.3f, p=%.3f' % (stat, p))\n",
    "if p > 0.05:\n",
    "    print('Probably Gaussian')\n",
    "else:\n",
    "    print('Probably not Gaussian')"
   ]
  },
  {
   "cell_type": "code",
   "execution_count": 54,
   "id": "05aabe86",
   "metadata": {},
   "outputs": [
    {
     "name": "stdout",
     "output_type": "stream",
     "text": [
      "stat=177325.291, p=0.000\n",
      "Probably not Gaussian\n"
     ]
    }
   ],
   "source": [
    "# Example of the D'Agostino's K^2 Normality Test\n",
    "from scipy.stats import normaltest\n",
    "stat, p = normaltest(ht_lsf)\n",
    "print('stat=%.3f, p=%.3f' % (stat, p))\n",
    "if p > 0.05:\n",
    "    print('Probably Gaussian')\n",
    "else:\n",
    "    print('Probably not Gaussian')"
   ]
  }
 ],
 "metadata": {
  "kernelspec": {
   "display_name": "Python 3 (ipykernel)",
   "language": "python",
   "name": "python3"
  },
  "language_info": {
   "codemirror_mode": {
    "name": "ipython",
    "version": 3
   },
   "file_extension": ".py",
   "mimetype": "text/x-python",
   "name": "python",
   "nbconvert_exporter": "python",
   "pygments_lexer": "ipython3",
   "version": "3.8.10"
  }
 },
 "nbformat": 4,
 "nbformat_minor": 5
}
