{
 "cells": [
  {
   "cell_type": "markdown",
   "metadata": {},
   "source": [
    "# Unsupervised"
   ]
  },
  {
   "cell_type": "markdown",
   "metadata": {},
   "source": [
    "## Introduction\n",
    "- unsupervised machine learning algorithm digunakan untuk mengelompokan data yang tidak terstruktur berdasarkan kesamaan dan perbedaan pola pada suatu kumpulan data\n",
    "- ML ini tidak perlu dipandu jadi melakukan pengolahan data tanpa pelatihan sebelumnya dan merupakan fungsi yang melakukan tugasnya dengan data yang tersedia atau dibiarkan di suatu perangkatnya sendiri untuk menyelesaikan masalah yang sesuai dengan keinginannya\n",
    "- berfungsi untuk data yang tidak berlabel yang bertujuan untuk eksploraasi.\n",
    "- Unsupervised learning berfungsi dalam kondisi hasil yang tidak diketahui oleh karena itu perlu didefinisikan dalam prosesnya\n",
    "---\n",
    "- digunakan untuk:\n",
    "    - explore suatu struktur dari suatu informasi\n",
    "    - extract nilai yang berpengaruh\n",
    "    - mendeteksi pola\n",
    "    - implementasi suatu operasi untuk meningkatkan efisiensi\n",
    "- mendeskripsikan informasi yang ada- menelusuri seluk beluknya dan mengidentifikasi apa data yang sebenarnya"
   ]
  },
  {
   "cell_type": "code",
   "execution_count": null,
   "metadata": {},
   "outputs": [],
   "source": []
  }
 ],
 "metadata": {
  "language_info": {
   "name": "python"
  },
  "orig_nbformat": 4
 },
 "nbformat": 4,
 "nbformat_minor": 2
}
