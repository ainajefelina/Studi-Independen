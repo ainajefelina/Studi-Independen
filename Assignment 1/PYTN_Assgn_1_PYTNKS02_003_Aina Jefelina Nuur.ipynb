{
 "cells": [
  {
   "cell_type": "markdown",
   "source": [
    "# Import Library"
   ],
   "metadata": {}
  },
  {
   "cell_type": "code",
   "execution_count": 1,
   "source": [
    "# mengimport library\n",
    "import pandas as pd\n",
    "import numpy as np\n",
    "%matplotlib inline \n",
    "import matplotlib as mpl\n",
    "import matplotlib.pyplot as plt\n",
    "import seaborn as sns\n",
    "cmap = plt.get_cmap('Spectral') #mengimpor warna gradasi"
   ],
   "outputs": [],
   "metadata": {}
  },
  {
   "cell_type": "markdown",
   "source": [
    "# Data Crime in London 2008-2016"
   ],
   "metadata": {}
  },
  {
   "cell_type": "code",
   "execution_count": 2,
   "source": [
    "# membaca data yang akan digunakan\n",
    "df_london_crime = pd.read_csv('london_crime_by_lsoa.csv')"
   ],
   "outputs": [],
   "metadata": {}
  },
  {
   "cell_type": "code",
   "execution_count": 3,
   "source": [
    "# mengetahui banyaknya data yang diperoleh\n",
    "df_london_crime.shape"
   ],
   "outputs": [
    {
     "output_type": "execute_result",
     "data": {
      "text/plain": [
       "(13490604, 7)"
      ]
     },
     "metadata": {},
     "execution_count": 3
    }
   ],
   "metadata": {}
  },
  {
   "cell_type": "code",
   "execution_count": 4,
   "source": [
    "#mengidentifikasi informasi yang diperlukan\n",
    "(df_london_crime.head())"
   ],
   "outputs": [
    {
     "output_type": "execute_result",
     "data": {
      "text/html": [
       "<div>\n",
       "<style scoped>\n",
       "    .dataframe tbody tr th:only-of-type {\n",
       "        vertical-align: middle;\n",
       "    }\n",
       "\n",
       "    .dataframe tbody tr th {\n",
       "        vertical-align: top;\n",
       "    }\n",
       "\n",
       "    .dataframe thead th {\n",
       "        text-align: right;\n",
       "    }\n",
       "</style>\n",
       "<table border=\"1\" class=\"dataframe\">\n",
       "  <thead>\n",
       "    <tr style=\"text-align: right;\">\n",
       "      <th></th>\n",
       "      <th>lsoa_code</th>\n",
       "      <th>borough</th>\n",
       "      <th>major_category</th>\n",
       "      <th>minor_category</th>\n",
       "      <th>value</th>\n",
       "      <th>year</th>\n",
       "      <th>month</th>\n",
       "    </tr>\n",
       "  </thead>\n",
       "  <tbody>\n",
       "    <tr>\n",
       "      <th>0</th>\n",
       "      <td>E01001116</td>\n",
       "      <td>Croydon</td>\n",
       "      <td>Burglary</td>\n",
       "      <td>Burglary in Other Buildings</td>\n",
       "      <td>0</td>\n",
       "      <td>2016</td>\n",
       "      <td>11</td>\n",
       "    </tr>\n",
       "    <tr>\n",
       "      <th>1</th>\n",
       "      <td>E01001646</td>\n",
       "      <td>Greenwich</td>\n",
       "      <td>Violence Against the Person</td>\n",
       "      <td>Other violence</td>\n",
       "      <td>0</td>\n",
       "      <td>2016</td>\n",
       "      <td>11</td>\n",
       "    </tr>\n",
       "    <tr>\n",
       "      <th>2</th>\n",
       "      <td>E01000677</td>\n",
       "      <td>Bromley</td>\n",
       "      <td>Violence Against the Person</td>\n",
       "      <td>Other violence</td>\n",
       "      <td>0</td>\n",
       "      <td>2015</td>\n",
       "      <td>5</td>\n",
       "    </tr>\n",
       "    <tr>\n",
       "      <th>3</th>\n",
       "      <td>E01003774</td>\n",
       "      <td>Redbridge</td>\n",
       "      <td>Burglary</td>\n",
       "      <td>Burglary in Other Buildings</td>\n",
       "      <td>0</td>\n",
       "      <td>2016</td>\n",
       "      <td>3</td>\n",
       "    </tr>\n",
       "    <tr>\n",
       "      <th>4</th>\n",
       "      <td>E01004563</td>\n",
       "      <td>Wandsworth</td>\n",
       "      <td>Robbery</td>\n",
       "      <td>Personal Property</td>\n",
       "      <td>0</td>\n",
       "      <td>2008</td>\n",
       "      <td>6</td>\n",
       "    </tr>\n",
       "  </tbody>\n",
       "</table>\n",
       "</div>"
      ],
      "text/plain": [
       "   lsoa_code     borough               major_category  \\\n",
       "0  E01001116     Croydon                     Burglary   \n",
       "1  E01001646   Greenwich  Violence Against the Person   \n",
       "2  E01000677     Bromley  Violence Against the Person   \n",
       "3  E01003774   Redbridge                     Burglary   \n",
       "4  E01004563  Wandsworth                      Robbery   \n",
       "\n",
       "                minor_category  value  year  month  \n",
       "0  Burglary in Other Buildings      0  2016     11  \n",
       "1               Other violence      0  2016     11  \n",
       "2               Other violence      0  2015      5  \n",
       "3  Burglary in Other Buildings      0  2016      3  \n",
       "4            Personal Property      0  2008      6  "
      ]
     },
     "metadata": {},
     "execution_count": 4
    }
   ],
   "metadata": {}
  },
  {
   "cell_type": "code",
   "execution_count": 5,
   "source": [
    "df_london_crime.tail()"
   ],
   "outputs": [
    {
     "output_type": "execute_result",
     "data": {
      "text/html": [
       "<div>\n",
       "<style scoped>\n",
       "    .dataframe tbody tr th:only-of-type {\n",
       "        vertical-align: middle;\n",
       "    }\n",
       "\n",
       "    .dataframe tbody tr th {\n",
       "        vertical-align: top;\n",
       "    }\n",
       "\n",
       "    .dataframe thead th {\n",
       "        text-align: right;\n",
       "    }\n",
       "</style>\n",
       "<table border=\"1\" class=\"dataframe\">\n",
       "  <thead>\n",
       "    <tr style=\"text-align: right;\">\n",
       "      <th></th>\n",
       "      <th>lsoa_code</th>\n",
       "      <th>borough</th>\n",
       "      <th>major_category</th>\n",
       "      <th>minor_category</th>\n",
       "      <th>value</th>\n",
       "      <th>year</th>\n",
       "      <th>month</th>\n",
       "    </tr>\n",
       "  </thead>\n",
       "  <tbody>\n",
       "    <tr>\n",
       "      <th>13490599</th>\n",
       "      <td>E01000504</td>\n",
       "      <td>Brent</td>\n",
       "      <td>Criminal Damage</td>\n",
       "      <td>Criminal Damage To Dwelling</td>\n",
       "      <td>0</td>\n",
       "      <td>2015</td>\n",
       "      <td>2</td>\n",
       "    </tr>\n",
       "    <tr>\n",
       "      <th>13490600</th>\n",
       "      <td>E01002504</td>\n",
       "      <td>Hillingdon</td>\n",
       "      <td>Robbery</td>\n",
       "      <td>Personal Property</td>\n",
       "      <td>1</td>\n",
       "      <td>2015</td>\n",
       "      <td>6</td>\n",
       "    </tr>\n",
       "    <tr>\n",
       "      <th>13490601</th>\n",
       "      <td>E01004165</td>\n",
       "      <td>Sutton</td>\n",
       "      <td>Burglary</td>\n",
       "      <td>Burglary in a Dwelling</td>\n",
       "      <td>0</td>\n",
       "      <td>2011</td>\n",
       "      <td>2</td>\n",
       "    </tr>\n",
       "    <tr>\n",
       "      <th>13490602</th>\n",
       "      <td>E01001134</td>\n",
       "      <td>Croydon</td>\n",
       "      <td>Robbery</td>\n",
       "      <td>Business Property</td>\n",
       "      <td>0</td>\n",
       "      <td>2011</td>\n",
       "      <td>5</td>\n",
       "    </tr>\n",
       "    <tr>\n",
       "      <th>13490603</th>\n",
       "      <td>E01003413</td>\n",
       "      <td>Merton</td>\n",
       "      <td>Violence Against the Person</td>\n",
       "      <td>Wounding/GBH</td>\n",
       "      <td>0</td>\n",
       "      <td>2015</td>\n",
       "      <td>6</td>\n",
       "    </tr>\n",
       "  </tbody>\n",
       "</table>\n",
       "</div>"
      ],
      "text/plain": [
       "          lsoa_code     borough               major_category  \\\n",
       "13490599  E01000504       Brent              Criminal Damage   \n",
       "13490600  E01002504  Hillingdon                      Robbery   \n",
       "13490601  E01004165      Sutton                     Burglary   \n",
       "13490602  E01001134     Croydon                      Robbery   \n",
       "13490603  E01003413      Merton  Violence Against the Person   \n",
       "\n",
       "                       minor_category  value  year  month  \n",
       "13490599  Criminal Damage To Dwelling      0  2015      2  \n",
       "13490600            Personal Property      1  2015      6  \n",
       "13490601       Burglary in a Dwelling      0  2011      2  \n",
       "13490602            Business Property      0  2011      5  \n",
       "13490603                 Wounding/GBH      0  2015      6  "
      ]
     },
     "metadata": {},
     "execution_count": 5
    }
   ],
   "metadata": {}
  },
  {
   "cell_type": "code",
   "execution_count": 6,
   "source": [
    "df_london_crime.info()"
   ],
   "outputs": [
    {
     "output_type": "stream",
     "name": "stdout",
     "text": [
      "<class 'pandas.core.frame.DataFrame'>\n",
      "RangeIndex: 13490604 entries, 0 to 13490603\n",
      "Data columns (total 7 columns):\n",
      " #   Column          Dtype \n",
      "---  ------          ----- \n",
      " 0   lsoa_code       object\n",
      " 1   borough         object\n",
      " 2   major_category  object\n",
      " 3   minor_category  object\n",
      " 4   value           int64 \n",
      " 5   year            int64 \n",
      " 6   month           int64 \n",
      "dtypes: int64(3), object(4)\n",
      "memory usage: 720.5+ MB\n"
     ]
    }
   ],
   "metadata": {}
  },
  {
   "cell_type": "code",
   "execution_count": 7,
   "source": [
    "#Diketahui diawal bahwa ukuran data crime sebesar (13490604, 7)\n",
    "#Beberapa memiliki nilai yang unik\n",
    "# Data yang unik mempermudah untuk analisa data\n",
    "# Banyaknya unik value pada kolom sebagai berikut:\n",
    "df_london_crime.describe(include = 'O').transpose()"
   ],
   "outputs": [
    {
     "output_type": "execute_result",
     "data": {
      "text/html": [
       "<div>\n",
       "<style scoped>\n",
       "    .dataframe tbody tr th:only-of-type {\n",
       "        vertical-align: middle;\n",
       "    }\n",
       "\n",
       "    .dataframe tbody tr th {\n",
       "        vertical-align: top;\n",
       "    }\n",
       "\n",
       "    .dataframe thead th {\n",
       "        text-align: right;\n",
       "    }\n",
       "</style>\n",
       "<table border=\"1\" class=\"dataframe\">\n",
       "  <thead>\n",
       "    <tr style=\"text-align: right;\">\n",
       "      <th></th>\n",
       "      <th>count</th>\n",
       "      <th>unique</th>\n",
       "      <th>top</th>\n",
       "      <th>freq</th>\n",
       "    </tr>\n",
       "  </thead>\n",
       "  <tbody>\n",
       "    <tr>\n",
       "      <th>lsoa_code</th>\n",
       "      <td>13490604</td>\n",
       "      <td>4835</td>\n",
       "      <td>E01003689</td>\n",
       "      <td>3456</td>\n",
       "    </tr>\n",
       "    <tr>\n",
       "      <th>borough</th>\n",
       "      <td>13490604</td>\n",
       "      <td>33</td>\n",
       "      <td>Croydon</td>\n",
       "      <td>602100</td>\n",
       "    </tr>\n",
       "    <tr>\n",
       "      <th>major_category</th>\n",
       "      <td>13490604</td>\n",
       "      <td>9</td>\n",
       "      <td>Theft and Handling</td>\n",
       "      <td>3966300</td>\n",
       "    </tr>\n",
       "    <tr>\n",
       "      <th>minor_category</th>\n",
       "      <td>13490604</td>\n",
       "      <td>32</td>\n",
       "      <td>Common Assault</td>\n",
       "      <td>522180</td>\n",
       "    </tr>\n",
       "  </tbody>\n",
       "</table>\n",
       "</div>"
      ],
      "text/plain": [
       "                   count unique                 top     freq\n",
       "lsoa_code       13490604   4835           E01003689     3456\n",
       "borough         13490604     33             Croydon   602100\n",
       "major_category  13490604      9  Theft and Handling  3966300\n",
       "minor_category  13490604     32      Common Assault   522180"
      ]
     },
     "metadata": {},
     "execution_count": 7
    }
   ],
   "metadata": {}
  },
  {
   "cell_type": "code",
   "execution_count": 8,
   "source": [
    "df_london_crime.describe(exclude = 'O').transpose()"
   ],
   "outputs": [
    {
     "output_type": "execute_result",
     "data": {
      "text/html": [
       "<div>\n",
       "<style scoped>\n",
       "    .dataframe tbody tr th:only-of-type {\n",
       "        vertical-align: middle;\n",
       "    }\n",
       "\n",
       "    .dataframe tbody tr th {\n",
       "        vertical-align: top;\n",
       "    }\n",
       "\n",
       "    .dataframe thead th {\n",
       "        text-align: right;\n",
       "    }\n",
       "</style>\n",
       "<table border=\"1\" class=\"dataframe\">\n",
       "  <thead>\n",
       "    <tr style=\"text-align: right;\">\n",
       "      <th></th>\n",
       "      <th>count</th>\n",
       "      <th>mean</th>\n",
       "      <th>std</th>\n",
       "      <th>min</th>\n",
       "      <th>25%</th>\n",
       "      <th>50%</th>\n",
       "      <th>75%</th>\n",
       "      <th>max</th>\n",
       "    </tr>\n",
       "  </thead>\n",
       "  <tbody>\n",
       "    <tr>\n",
       "      <th>value</th>\n",
       "      <td>13490604.0</td>\n",
       "      <td>0.477944</td>\n",
       "      <td>1.771513</td>\n",
       "      <td>0.0</td>\n",
       "      <td>0.00</td>\n",
       "      <td>0.0</td>\n",
       "      <td>1.00</td>\n",
       "      <td>309.0</td>\n",
       "    </tr>\n",
       "    <tr>\n",
       "      <th>year</th>\n",
       "      <td>13490604.0</td>\n",
       "      <td>2012.000000</td>\n",
       "      <td>2.581989</td>\n",
       "      <td>2008.0</td>\n",
       "      <td>2010.00</td>\n",
       "      <td>2012.0</td>\n",
       "      <td>2014.00</td>\n",
       "      <td>2016.0</td>\n",
       "    </tr>\n",
       "    <tr>\n",
       "      <th>month</th>\n",
       "      <td>13490604.0</td>\n",
       "      <td>6.500000</td>\n",
       "      <td>3.452053</td>\n",
       "      <td>1.0</td>\n",
       "      <td>3.75</td>\n",
       "      <td>6.5</td>\n",
       "      <td>9.25</td>\n",
       "      <td>12.0</td>\n",
       "    </tr>\n",
       "  </tbody>\n",
       "</table>\n",
       "</div>"
      ],
      "text/plain": [
       "            count         mean       std     min      25%     50%      75%  \\\n",
       "value  13490604.0     0.477944  1.771513     0.0     0.00     0.0     1.00   \n",
       "year   13490604.0  2012.000000  2.581989  2008.0  2010.00  2012.0  2014.00   \n",
       "month  13490604.0     6.500000  3.452053     1.0     3.75     6.5     9.25   \n",
       "\n",
       "          max  \n",
       "value   309.0  \n",
       "year   2016.0  \n",
       "month    12.0  "
      ]
     },
     "metadata": {},
     "execution_count": 8
    }
   ],
   "metadata": {}
  },
  {
   "cell_type": "code",
   "execution_count": 9,
   "source": [
    "#Untuk mengetahui apakah ada data yang kosong\n",
    "df_london_crime.isnull().any()\n"
   ],
   "outputs": [
    {
     "output_type": "execute_result",
     "data": {
      "text/plain": [
       "lsoa_code         False\n",
       "borough           False\n",
       "major_category    False\n",
       "minor_category    False\n",
       "value             False\n",
       "year              False\n",
       "month             False\n",
       "dtype: bool"
      ]
     },
     "metadata": {},
     "execution_count": 9
    }
   ],
   "metadata": {}
  },
  {
   "cell_type": "markdown",
   "source": [
    "# Total crime in London"
   ],
   "metadata": {}
  },
  {
   "cell_type": "code",
   "execution_count": 10,
   "source": [
    "#mengekstrak data untuk total kejahatan per tahun\n",
    "year = df_london_crime['year'].unique()\n",
    "sum_year = df_london_crime.groupby('year').sum()\n",
    "sums=sum_year['value'].to_numpy()\n",
    "\n",
    "n = len(year)\n",
    "for i in range(n):\n",
    "    for j in range (0, n-i-1):\n",
    "        if year[j]>year[j+1]:\n",
    "            year[j], year[j+1] = year[j+1], year[j]\n",
    "            sums[j], sums[j+1] = sums[j+1], sums[j]\n",
    "\n",
    "print(year)\n",
    "print(sums)"
   ],
   "outputs": [
    {
     "output_type": "stream",
     "name": "stdout",
     "text": [
      "[2008 2009 2010 2011 2012 2013 2014 2015 2016]\n",
      "[715324 736121 737329 711624 724915 686407 680183 717214 738641]\n"
     ]
    }
   ],
   "metadata": {}
  },
  {
   "cell_type": "code",
   "execution_count": 11,
   "source": [
    "df_london_crime_year=pd.DataFrame({\n",
    "    \"Year\": year,\n",
    "    \"Total Crime\": sums\n",
    "})\n",
    "df_london_crime_year.set_index('Year', inplace=True)\n",
    "df_london_crime_year"
   ],
   "outputs": [
    {
     "output_type": "execute_result",
     "data": {
      "text/html": [
       "<div>\n",
       "<style scoped>\n",
       "    .dataframe tbody tr th:only-of-type {\n",
       "        vertical-align: middle;\n",
       "    }\n",
       "\n",
       "    .dataframe tbody tr th {\n",
       "        vertical-align: top;\n",
       "    }\n",
       "\n",
       "    .dataframe thead th {\n",
       "        text-align: right;\n",
       "    }\n",
       "</style>\n",
       "<table border=\"1\" class=\"dataframe\">\n",
       "  <thead>\n",
       "    <tr style=\"text-align: right;\">\n",
       "      <th></th>\n",
       "      <th>Total Crime</th>\n",
       "    </tr>\n",
       "    <tr>\n",
       "      <th>Year</th>\n",
       "      <th></th>\n",
       "    </tr>\n",
       "  </thead>\n",
       "  <tbody>\n",
       "    <tr>\n",
       "      <th>2008</th>\n",
       "      <td>715324</td>\n",
       "    </tr>\n",
       "    <tr>\n",
       "      <th>2009</th>\n",
       "      <td>736121</td>\n",
       "    </tr>\n",
       "    <tr>\n",
       "      <th>2010</th>\n",
       "      <td>737329</td>\n",
       "    </tr>\n",
       "    <tr>\n",
       "      <th>2011</th>\n",
       "      <td>711624</td>\n",
       "    </tr>\n",
       "    <tr>\n",
       "      <th>2012</th>\n",
       "      <td>724915</td>\n",
       "    </tr>\n",
       "    <tr>\n",
       "      <th>2013</th>\n",
       "      <td>686407</td>\n",
       "    </tr>\n",
       "    <tr>\n",
       "      <th>2014</th>\n",
       "      <td>680183</td>\n",
       "    </tr>\n",
       "    <tr>\n",
       "      <th>2015</th>\n",
       "      <td>717214</td>\n",
       "    </tr>\n",
       "    <tr>\n",
       "      <th>2016</th>\n",
       "      <td>738641</td>\n",
       "    </tr>\n",
       "  </tbody>\n",
       "</table>\n",
       "</div>"
      ],
      "text/plain": [
       "      Total Crime\n",
       "Year             \n",
       "2008       715324\n",
       "2009       736121\n",
       "2010       737329\n",
       "2011       711624\n",
       "2012       724915\n",
       "2013       686407\n",
       "2014       680183\n",
       "2015       717214\n",
       "2016       738641"
      ]
     },
     "metadata": {},
     "execution_count": 11
    }
   ],
   "metadata": {}
  },
  {
   "cell_type": "code",
   "execution_count": 12,
   "source": [
    "df_london_crime_year.min()"
   ],
   "outputs": [
    {
     "output_type": "execute_result",
     "data": {
      "text/plain": [
       "Total Crime    680183\n",
       "dtype: int64"
      ]
     },
     "metadata": {},
     "execution_count": 12
    }
   ],
   "metadata": {}
  },
  {
   "cell_type": "code",
   "execution_count": 13,
   "source": [
    "#plotting\n",
    "df_london_crime_year.plot(marker='o', ls='dashed', lw=2,legend=None, figsize=(10,6))\n",
    "#modifikasi plot\n",
    "plt.xlabel('Years', size=20)\n",
    "plt.ylabel('Total Crime in 10000', size=20)\n",
    "plt.title('Number of Crime in London 2008-2016', size=25)\n",
    "plt.xticks(size=20)\n",
    "#modifikasi sumbu y\n",
    "values=np.arange(68, 76 , 1)\n",
    "values_incerment=10000\n",
    "plt.yticks(values*values_incerment,['%d' %val for val in values], size=20)\n",
    "plt.show()"
   ],
   "outputs": [
    {
     "output_type": "display_data",
     "data": {
      "image/png": "[encoded data removed]",
      "text/plain": [
       "<Figure size 720x432 with 1 Axes>"
      ]
     },
     "metadata": {
      "needs_background": "light"
     }
    }
   ],
   "metadata": {}
  },
  {
   "cell_type": "markdown",
   "source": [
    "# Percentage of Major Category"
   ],
   "metadata": {}
  },
  {
   "cell_type": "code",
   "execution_count": 14,
   "source": [
    "#mengekstrak data yang dibutuhkan yaitu major_category dan jumlah totalnya\n",
    "df_crime_major_category=pd.DataFrame(df_london_crime.groupby(['major_category']).size())\n",
    "df_crime_major_category.rename(columns={0:\"Total\"}, inplace=True) #mengubah nama kolom\n",
    "df_crime_major_category"
   ],
   "outputs": [
    {
     "output_type": "execute_result",
     "data": {
      "text/html": [
       "<div>\n",
       "<style scoped>\n",
       "    .dataframe tbody tr th:only-of-type {\n",
       "        vertical-align: middle;\n",
       "    }\n",
       "\n",
       "    .dataframe tbody tr th {\n",
       "        vertical-align: top;\n",
       "    }\n",
       "\n",
       "    .dataframe thead th {\n",
       "        text-align: right;\n",
       "    }\n",
       "</style>\n",
       "<table border=\"1\" class=\"dataframe\">\n",
       "  <thead>\n",
       "    <tr style=\"text-align: right;\">\n",
       "      <th></th>\n",
       "      <th>Total</th>\n",
       "    </tr>\n",
       "    <tr>\n",
       "      <th>major_category</th>\n",
       "      <th></th>\n",
       "    </tr>\n",
       "  </thead>\n",
       "  <tbody>\n",
       "    <tr>\n",
       "      <th>Burglary</th>\n",
       "      <td>1043604</td>\n",
       "    </tr>\n",
       "    <tr>\n",
       "      <th>Criminal Damage</th>\n",
       "      <td>2069172</td>\n",
       "    </tr>\n",
       "    <tr>\n",
       "      <th>Drugs</th>\n",
       "      <td>1179468</td>\n",
       "    </tr>\n",
       "    <tr>\n",
       "      <th>Fraud or Forgery</th>\n",
       "      <td>236520</td>\n",
       "    </tr>\n",
       "    <tr>\n",
       "      <th>Other Notifiable Offences</th>\n",
       "      <td>776304</td>\n",
       "    </tr>\n",
       "    <tr>\n",
       "      <th>Robbery</th>\n",
       "      <td>939384</td>\n",
       "    </tr>\n",
       "    <tr>\n",
       "      <th>Sexual Offences</th>\n",
       "      <td>108108</td>\n",
       "    </tr>\n",
       "    <tr>\n",
       "      <th>Theft and Handling</th>\n",
       "      <td>3966300</td>\n",
       "    </tr>\n",
       "    <tr>\n",
       "      <th>Violence Against the Person</th>\n",
       "      <td>3171744</td>\n",
       "    </tr>\n",
       "  </tbody>\n",
       "</table>\n",
       "</div>"
      ],
      "text/plain": [
       "                               Total\n",
       "major_category                      \n",
       "Burglary                     1043604\n",
       "Criminal Damage              2069172\n",
       "Drugs                        1179468\n",
       "Fraud or Forgery              236520\n",
       "Other Notifiable Offences     776304\n",
       "Robbery                       939384\n",
       "Sexual Offences               108108\n",
       "Theft and Handling           3966300\n",
       "Violence Against the Person  3171744"
      ]
     },
     "metadata": {},
     "execution_count": 14
    }
   ],
   "metadata": {}
  },
  {
   "cell_type": "code",
   "execution_count": 15,
   "source": [
    "colors = [cmap(i) for i in np.linspace(0, 1, 9)] #mendata warna yang akan digunakan\n",
    "explode_list=[0,0,0,0.1,0,0,0.1,0,0] #mendata pie yang akan diperbesar supaya mudah dibaca\n",
    "df_crime_major_category['Total'].plot(kind='pie', figsize=(12,6), autopct='%1.1f%%', startangle=90, colors=colors,labels=None, pctdistance=1.1, explode=explode_list)\n",
    "plt.title('Crime per Major Category in London 2008-2016', y=1.05, size=15)\n",
    "plt.axis('equal')\n",
    "plt.legend(labels=df_crime_major_category.index, loc='upper left')\n",
    "plt.ylabel(None)#menghilangkan y label\n",
    "plt.show()"
   ],
   "outputs": [
    {
     "output_type": "display_data",
     "data": {
      "image/png": "[encoded data removed]",
      "text/plain": [
       "<Figure size 864x432 with 1 Axes>"
      ]
     },
     "metadata": {}
    }
   ],
   "metadata": {}
  },
  {
   "cell_type": "markdown",
   "source": [
    "# Histogram of Minor Category"
   ],
   "metadata": {}
  },
  {
   "cell_type": "code",
   "execution_count": 16,
   "source": [
    "df_crime_minor_category=pd.DataFrame(df_london_crime.groupby(['minor_category']).size())\n",
    "df_crime_minor_category.rename(columns={0:\"Total\"}, inplace=True) #mengubah nama kolom\n",
    "df_crime_minor_category"
   ],
   "outputs": [
    {
     "output_type": "execute_result",
     "data": {
      "text/html": [
       "<div>\n",
       "<style scoped>\n",
       "    .dataframe tbody tr th:only-of-type {\n",
       "        vertical-align: middle;\n",
       "    }\n",
       "\n",
       "    .dataframe tbody tr th {\n",
       "        vertical-align: top;\n",
       "    }\n",
       "\n",
       "    .dataframe thead th {\n",
       "        text-align: right;\n",
       "    }\n",
       "</style>\n",
       "<table border=\"1\" class=\"dataframe\">\n",
       "  <thead>\n",
       "    <tr style=\"text-align: right;\">\n",
       "      <th></th>\n",
       "      <th>Total</th>\n",
       "    </tr>\n",
       "    <tr>\n",
       "      <th>minor_category</th>\n",
       "      <th></th>\n",
       "    </tr>\n",
       "  </thead>\n",
       "  <tbody>\n",
       "    <tr>\n",
       "      <th>Assault with Injury</th>\n",
       "      <td>521856</td>\n",
       "    </tr>\n",
       "    <tr>\n",
       "      <th>Burglary in Other Buildings</th>\n",
       "      <td>522072</td>\n",
       "    </tr>\n",
       "    <tr>\n",
       "      <th>Burglary in a Dwelling</th>\n",
       "      <td>521532</td>\n",
       "    </tr>\n",
       "    <tr>\n",
       "      <th>Business Property</th>\n",
       "      <td>418716</td>\n",
       "    </tr>\n",
       "    <tr>\n",
       "      <th>Common Assault</th>\n",
       "      <td>522180</td>\n",
       "    </tr>\n",
       "    <tr>\n",
       "      <th>Counted per Victim</th>\n",
       "      <td>137916</td>\n",
       "    </tr>\n",
       "    <tr>\n",
       "      <th>Criminal Damage To Dwelling</th>\n",
       "      <td>521424</td>\n",
       "    </tr>\n",
       "    <tr>\n",
       "      <th>Criminal Damage To Motor Vehicle</th>\n",
       "      <td>521964</td>\n",
       "    </tr>\n",
       "    <tr>\n",
       "      <th>Criminal Damage To Other Building</th>\n",
       "      <td>503928</td>\n",
       "    </tr>\n",
       "    <tr>\n",
       "      <th>Drug Trafficking</th>\n",
       "      <td>490536</td>\n",
       "    </tr>\n",
       "    <tr>\n",
       "      <th>Going Equipped</th>\n",
       "      <td>256608</td>\n",
       "    </tr>\n",
       "    <tr>\n",
       "      <th>Handling Stolen Goods</th>\n",
       "      <td>426168</td>\n",
       "    </tr>\n",
       "    <tr>\n",
       "      <th>Harassment</th>\n",
       "      <td>522072</td>\n",
       "    </tr>\n",
       "    <tr>\n",
       "      <th>Motor Vehicle Interference &amp; Tampering</th>\n",
       "      <td>520452</td>\n",
       "    </tr>\n",
       "    <tr>\n",
       "      <th>Murder</th>\n",
       "      <td>92340</td>\n",
       "    </tr>\n",
       "    <tr>\n",
       "      <th>Offensive Weapon</th>\n",
       "      <td>481896</td>\n",
       "    </tr>\n",
       "    <tr>\n",
       "      <th>Other Criminal Damage</th>\n",
       "      <td>521856</td>\n",
       "    </tr>\n",
       "    <tr>\n",
       "      <th>Other Drugs</th>\n",
       "      <td>167184</td>\n",
       "    </tr>\n",
       "    <tr>\n",
       "      <th>Other Fraud &amp; Forgery</th>\n",
       "      <td>98604</td>\n",
       "    </tr>\n",
       "    <tr>\n",
       "      <th>Other Notifiable</th>\n",
       "      <td>519696</td>\n",
       "    </tr>\n",
       "    <tr>\n",
       "      <th>Other Sexual</th>\n",
       "      <td>81108</td>\n",
       "    </tr>\n",
       "    <tr>\n",
       "      <th>Other Theft</th>\n",
       "      <td>522180</td>\n",
       "    </tr>\n",
       "    <tr>\n",
       "      <th>Other Theft Person</th>\n",
       "      <td>519480</td>\n",
       "    </tr>\n",
       "    <tr>\n",
       "      <th>Other violence</th>\n",
       "      <td>512028</td>\n",
       "    </tr>\n",
       "    <tr>\n",
       "      <th>Personal Property</th>\n",
       "      <td>520668</td>\n",
       "    </tr>\n",
       "    <tr>\n",
       "      <th>Possession Of Drugs</th>\n",
       "      <td>521748</td>\n",
       "    </tr>\n",
       "    <tr>\n",
       "      <th>Rape</th>\n",
       "      <td>27000</td>\n",
       "    </tr>\n",
       "    <tr>\n",
       "      <th>Theft From Motor Vehicle</th>\n",
       "      <td>522180</td>\n",
       "    </tr>\n",
       "    <tr>\n",
       "      <th>Theft From Shops</th>\n",
       "      <td>416772</td>\n",
       "    </tr>\n",
       "    <tr>\n",
       "      <th>Theft/Taking Of Motor Vehicle</th>\n",
       "      <td>522072</td>\n",
       "    </tr>\n",
       "    <tr>\n",
       "      <th>Theft/Taking of Pedal Cycle</th>\n",
       "      <td>516996</td>\n",
       "    </tr>\n",
       "    <tr>\n",
       "      <th>Wounding/GBH</th>\n",
       "      <td>519372</td>\n",
       "    </tr>\n",
       "  </tbody>\n",
       "</table>\n",
       "</div>"
      ],
      "text/plain": [
       "                                         Total\n",
       "minor_category                                \n",
       "Assault with Injury                     521856\n",
       "Burglary in Other Buildings             522072\n",
       "Burglary in a Dwelling                  521532\n",
       "Business Property                       418716\n",
       "Common Assault                          522180\n",
       "Counted per Victim                      137916\n",
       "Criminal Damage To Dwelling             521424\n",
       "Criminal Damage To Motor Vehicle        521964\n",
       "Criminal Damage To Other Building       503928\n",
       "Drug Trafficking                        490536\n",
       "Going Equipped                          256608\n",
       "Handling Stolen Goods                   426168\n",
       "Harassment                              522072\n",
       "Motor Vehicle Interference & Tampering  520452\n",
       "Murder                                   92340\n",
       "Offensive Weapon                        481896\n",
       "Other Criminal Damage                   521856\n",
       "Other Drugs                             167184\n",
       "Other Fraud & Forgery                    98604\n",
       "Other Notifiable                        519696\n",
       "Other Sexual                             81108\n",
       "Other Theft                             522180\n",
       "Other Theft Person                      519480\n",
       "Other violence                          512028\n",
       "Personal Property                       520668\n",
       "Possession Of Drugs                     521748\n",
       "Rape                                     27000\n",
       "Theft From Motor Vehicle                522180\n",
       "Theft From Shops                        416772\n",
       "Theft/Taking Of Motor Vehicle           522072\n",
       "Theft/Taking of Pedal Cycle             516996\n",
       "Wounding/GBH                            519372"
      ]
     },
     "metadata": {},
     "execution_count": 16
    }
   ],
   "metadata": {}
  },
  {
   "cell_type": "code",
   "execution_count": 17,
   "source": [
    "df_crime_minor_category.sort_values(by='Total', ascending=True, inplace=True)\n",
    "df_crime_minor_category.plot(kind='barh',figsize=(15,15), color='Lime')\n",
    "plt.xlabel('Number of Crime', size=25)\n",
    "plt.title('Crime in London per Minor Category 2008 - 2016', size=30)\n",
    "plt.ylabel(None)\n",
    "plt.xticks(size=20)\n",
    "plt.yticks(size=20)\n",
    "plt.show()"
   ],
   "outputs": [
    {
     "output_type": "display_data",
     "data": {
      "image/png": "[encoded data removed]",
      "text/plain": [
       "<Figure size 1080x1080 with 1 Axes>"
      ]
     },
     "metadata": {
      "needs_background": "light"
     }
    }
   ],
   "metadata": {}
  },
  {
   "cell_type": "markdown",
   "source": [
    "# Crime in each month"
   ],
   "metadata": {}
  },
  {
   "cell_type": "code",
   "execution_count": 26,
   "source": [
    "year2008=df_london_crime.loc[df_london_crime['year']==2008]\n",
    "months2008=year2008['month'].unique()\n",
    "months2008.sort()\n",
    "sum_month2008=year2008.groupby(['month']).sum()\n",
    "months2008_val=sum_month2008['value'].to_numpy()\n",
    "months2008_val"
   ],
   "outputs": [
    {
     "output_type": "execute_result",
     "data": {
      "text/plain": [
       "array([65419, 62626, 61343, 59640, 62587, 62290, 64126, 59959, 58414,\n",
       "       63354, 61395, 57488])"
      ]
     },
     "metadata": {},
     "execution_count": 26
    }
   ],
   "metadata": {}
  },
  {
   "cell_type": "code",
   "execution_count": null,
   "source": [
    "year2008=df_london_crime.loc[df_london_crime['year']==2016]\n",
    "months2008=year2008['month'].unique()\n",
    "months2008.sort()\n",
    "sum_month2008=year2008.groupby(['month']).sum()\n",
    "months2008_val=sum_month2008['value'].to_numpy()\n",
    "months2008_val"
   ],
   "outputs": [],
   "metadata": {}
  },
  {
   "cell_type": "code",
   "execution_count": 49,
   "source": [
    "months=pd.Series(['Jan','Feb','Mar','Apr','May','Jun','Jul','Aug','Sep','Oct','Nov','Dec'])\n",
    "df_crime_per_month=pd.DataFrame({'month':months, '2008':months2008_val})\n",
    "df_crime_per_month.set_index('month', inplace=True)\n",
    "df_crime_per_month"
   ],
   "outputs": [
    {
     "output_type": "execute_result",
     "data": {
      "text/html": [
       "<div>\n",
       "<style scoped>\n",
       "    .dataframe tbody tr th:only-of-type {\n",
       "        vertical-align: middle;\n",
       "    }\n",
       "\n",
       "    .dataframe tbody tr th {\n",
       "        vertical-align: top;\n",
       "    }\n",
       "\n",
       "    .dataframe thead th {\n",
       "        text-align: right;\n",
       "    }\n",
       "</style>\n",
       "<table border=\"1\" class=\"dataframe\">\n",
       "  <thead>\n",
       "    <tr style=\"text-align: right;\">\n",
       "      <th></th>\n",
       "      <th>2008</th>\n",
       "    </tr>\n",
       "    <tr>\n",
       "      <th>month</th>\n",
       "      <th></th>\n",
       "    </tr>\n",
       "  </thead>\n",
       "  <tbody>\n",
       "    <tr>\n",
       "      <th>Jan</th>\n",
       "      <td>65419</td>\n",
       "    </tr>\n",
       "    <tr>\n",
       "      <th>Feb</th>\n",
       "      <td>62626</td>\n",
       "    </tr>\n",
       "    <tr>\n",
       "      <th>Mar</th>\n",
       "      <td>61343</td>\n",
       "    </tr>\n",
       "    <tr>\n",
       "      <th>Apr</th>\n",
       "      <td>59640</td>\n",
       "    </tr>\n",
       "    <tr>\n",
       "      <th>May</th>\n",
       "      <td>62587</td>\n",
       "    </tr>\n",
       "    <tr>\n",
       "      <th>Jun</th>\n",
       "      <td>62290</td>\n",
       "    </tr>\n",
       "    <tr>\n",
       "      <th>Jul</th>\n",
       "      <td>64126</td>\n",
       "    </tr>\n",
       "    <tr>\n",
       "      <th>Aug</th>\n",
       "      <td>59959</td>\n",
       "    </tr>\n",
       "    <tr>\n",
       "      <th>Sep</th>\n",
       "      <td>58414</td>\n",
       "    </tr>\n",
       "    <tr>\n",
       "      <th>Oct</th>\n",
       "      <td>63354</td>\n",
       "    </tr>\n",
       "    <tr>\n",
       "      <th>Nov</th>\n",
       "      <td>61395</td>\n",
       "    </tr>\n",
       "    <tr>\n",
       "      <th>Dec</th>\n",
       "      <td>57488</td>\n",
       "    </tr>\n",
       "  </tbody>\n",
       "</table>\n",
       "</div>"
      ],
      "text/plain": [
       "        2008\n",
       "month       \n",
       "Jan    65419\n",
       "Feb    62626\n",
       "Mar    61343\n",
       "Apr    59640\n",
       "May    62587\n",
       "Jun    62290\n",
       "Jul    64126\n",
       "Aug    59959\n",
       "Sep    58414\n",
       "Oct    63354\n",
       "Nov    61395\n",
       "Dec    57488"
      ]
     },
     "metadata": {},
     "execution_count": 49
    }
   ],
   "metadata": {}
  },
  {
   "cell_type": "code",
   "execution_count": null,
   "source": [],
   "outputs": [],
   "metadata": {}
  }
 ],
 "metadata": {
  "orig_nbformat": 4,
  "language_info": {
   "name": "python",
   "version": "3.8.10",
   "mimetype": "text/x-python",
   "codemirror_mode": {
    "name": "ipython",
    "version": 3
   },
   "pygments_lexer": "ipython3",
   "nbconvert_exporter": "python",
   "file_extension": ".py"
  },
  "kernelspec": {
   "name": "python3",
   "display_name": "Python 3.8.10 64-bit"
  },
  "interpreter": {
   "hash": "31f2aee4e71d21fbe5cf8b01ff0e069b9275f58929596ceb00d14d90e3e16cd6"
  }
 },
 "nbformat": 4,
 "nbformat_minor": 2
}