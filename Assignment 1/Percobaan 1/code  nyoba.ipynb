{
 "cells": [
  {
   "cell_type": "code",
   "execution_count": null,
   "source": [
    "year=pd.Series([year])\n",
    "total_crime=pd.Series([sums])\n",
    "df_london_crime_year=pd.DataFrame({\n",
    "    \"Year\": year,\n",
    "    \"Total Crime\": total_crime\n",
    "})\n",
    "df_london_crime_year\n",
    "df_london_crime_year"
   ],
   "outputs": [],
   "metadata": {}
  }
 ],
 "metadata": {
  "orig_nbformat": 4,
  "language_info": {
   "name": "python"
  }
 },
 "nbformat": 4,
 "nbformat_minor": 2
}