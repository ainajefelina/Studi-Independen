{
 "cells": [
  {
   "cell_type": "markdown",
   "source": [
    "# import library"
   ],
   "metadata": {}
  },
  {
   "cell_type": "code",
   "execution_count": 1,
   "source": [
    "import pandas as pd\n",
    "import numpy as np\n",
    "%matplotlib inline \n",
    "import matplotlib as mpl\n",
    "import matplotlib.pyplot as plt\n",
    "import seaborn as sns\n",
    "import folium\n",
    "cmap = plt.get_cmap('Spectral') #mengimpor warna gradasi\n"
   ],
   "outputs": [],
   "metadata": {}
  },
  {
   "cell_type": "markdown",
   "source": [
    "# data kejahatan di london 2008 - 2016"
   ],
   "metadata": {}
  },
  {
   "cell_type": "markdown",
   "source": [
    "## persiapan"
   ],
   "metadata": {}
  },
  {
   "cell_type": "code",
   "execution_count": 2,
   "source": [
    "df_crime_london=pd.read_csv('london_crime_by_lsoa.csv') #import data\n",
    "df_crime_london.shape #mengetahui banyaknya baris dan kolom yang diperoleh"
   ],
   "outputs": [
    {
     "output_type": "execute_result",
     "data": {
      "text/plain": [
       "(13490604, 7)"
      ]
     },
     "metadata": {},
     "execution_count": 2
    }
   ],
   "metadata": {}
  },
  {
   "cell_type": "code",
   "execution_count": 3,
   "source": [
    "df_crime_london.describe(include='O').transpose() #mengetahui banyaknya data yang unik dan frekuensinya"
   ],
   "outputs": [
    {
     "output_type": "execute_result",
     "data": {
      "text/html": [
       "<div>\n",
       "<style scoped>\n",
       "    .dataframe tbody tr th:only-of-type {\n",
       "        vertical-align: middle;\n",
       "    }\n",
       "\n",
       "    .dataframe tbody tr th {\n",
       "        vertical-align: top;\n",
       "    }\n",
       "\n",
       "    .dataframe thead th {\n",
       "        text-align: right;\n",
       "    }\n",
       "</style>\n",
       "<table border=\"1\" class=\"dataframe\">\n",
       "  <thead>\n",
       "    <tr style=\"text-align: right;\">\n",
       "      <th></th>\n",
       "      <th>count</th>\n",
       "      <th>unique</th>\n",
       "      <th>top</th>\n",
       "      <th>freq</th>\n",
       "    </tr>\n",
       "  </thead>\n",
       "  <tbody>\n",
       "    <tr>\n",
       "      <th>lsoa_code</th>\n",
       "      <td>13490604</td>\n",
       "      <td>4835</td>\n",
       "      <td>E01003689</td>\n",
       "      <td>3456</td>\n",
       "    </tr>\n",
       "    <tr>\n",
       "      <th>borough</th>\n",
       "      <td>13490604</td>\n",
       "      <td>33</td>\n",
       "      <td>Croydon</td>\n",
       "      <td>602100</td>\n",
       "    </tr>\n",
       "    <tr>\n",
       "      <th>major_category</th>\n",
       "      <td>13490604</td>\n",
       "      <td>9</td>\n",
       "      <td>Theft and Handling</td>\n",
       "      <td>3966300</td>\n",
       "    </tr>\n",
       "    <tr>\n",
       "      <th>minor_category</th>\n",
       "      <td>13490604</td>\n",
       "      <td>32</td>\n",
       "      <td>Common Assault</td>\n",
       "      <td>522180</td>\n",
       "    </tr>\n",
       "  </tbody>\n",
       "</table>\n",
       "</div>"
      ],
      "text/plain": [
       "                   count unique                 top     freq\n",
       "lsoa_code       13490604   4835           E01003689     3456\n",
       "borough         13490604     33             Croydon   602100\n",
       "major_category  13490604      9  Theft and Handling  3966300\n",
       "minor_category  13490604     32      Common Assault   522180"
      ]
     },
     "metadata": {},
     "execution_count": 3
    }
   ],
   "metadata": {}
  },
  {
   "cell_type": "code",
   "execution_count": 4,
   "source": [
    "df_crime_london.describe(exclude='O').transpose() #mengetahui deskripsi data secara singkat"
   ],
   "outputs": [
    {
     "output_type": "execute_result",
     "data": {
      "text/html": [
       "<div>\n",
       "<style scoped>\n",
       "    .dataframe tbody tr th:only-of-type {\n",
       "        vertical-align: middle;\n",
       "    }\n",
       "\n",
       "    .dataframe tbody tr th {\n",
       "        vertical-align: top;\n",
       "    }\n",
       "\n",
       "    .dataframe thead th {\n",
       "        text-align: right;\n",
       "    }\n",
       "</style>\n",
       "<table border=\"1\" class=\"dataframe\">\n",
       "  <thead>\n",
       "    <tr style=\"text-align: right;\">\n",
       "      <th></th>\n",
       "      <th>count</th>\n",
       "      <th>mean</th>\n",
       "      <th>std</th>\n",
       "      <th>min</th>\n",
       "      <th>25%</th>\n",
       "      <th>50%</th>\n",
       "      <th>75%</th>\n",
       "      <th>max</th>\n",
       "    </tr>\n",
       "  </thead>\n",
       "  <tbody>\n",
       "    <tr>\n",
       "      <th>value</th>\n",
       "      <td>13490604.0</td>\n",
       "      <td>0.477944</td>\n",
       "      <td>1.771513</td>\n",
       "      <td>0.0</td>\n",
       "      <td>0.00</td>\n",
       "      <td>0.0</td>\n",
       "      <td>1.00</td>\n",
       "      <td>309.0</td>\n",
       "    </tr>\n",
       "    <tr>\n",
       "      <th>year</th>\n",
       "      <td>13490604.0</td>\n",
       "      <td>2012.000000</td>\n",
       "      <td>2.581989</td>\n",
       "      <td>2008.0</td>\n",
       "      <td>2010.00</td>\n",
       "      <td>2012.0</td>\n",
       "      <td>2014.00</td>\n",
       "      <td>2016.0</td>\n",
       "    </tr>\n",
       "    <tr>\n",
       "      <th>month</th>\n",
       "      <td>13490604.0</td>\n",
       "      <td>6.500000</td>\n",
       "      <td>3.452053</td>\n",
       "      <td>1.0</td>\n",
       "      <td>3.75</td>\n",
       "      <td>6.5</td>\n",
       "      <td>9.25</td>\n",
       "      <td>12.0</td>\n",
       "    </tr>\n",
       "  </tbody>\n",
       "</table>\n",
       "</div>"
      ],
      "text/plain": [
       "            count         mean       std     min      25%     50%      75%  \\\n",
       "value  13490604.0     0.477944  1.771513     0.0     0.00     0.0     1.00   \n",
       "year   13490604.0  2012.000000  2.581989  2008.0  2010.00  2012.0  2014.00   \n",
       "month  13490604.0     6.500000  3.452053     1.0     3.75     6.5     9.25   \n",
       "\n",
       "          max  \n",
       "value   309.0  \n",
       "year   2016.0  \n",
       "month    12.0  "
      ]
     },
     "metadata": {},
     "execution_count": 4
    }
   ],
   "metadata": {}
  },
  {
   "cell_type": "code",
   "execution_count": 5,
   "source": [
    "df_crime_london.isnull().any() #mengetahui apakah ada data yang kosong dan ternyata tidak ada data yang kosong"
   ],
   "outputs": [
    {
     "output_type": "execute_result",
     "data": {
      "text/plain": [
       "lsoa_code         False\n",
       "borough           False\n",
       "major_category    False\n",
       "minor_category    False\n",
       "value             False\n",
       "year              False\n",
       "month             False\n",
       "dtype: bool"
      ]
     },
     "metadata": {},
     "execution_count": 5
    }
   ],
   "metadata": {}
  },
  {
   "cell_type": "code",
   "execution_count": 6,
   "source": [
    "df_crime_london.info() #mengetahui value dari masing-masing kolom"
   ],
   "outputs": [
    {
     "output_type": "stream",
     "name": "stdout",
     "text": [
      "<class 'pandas.core.frame.DataFrame'>\n",
      "RangeIndex: 13490604 entries, 0 to 13490603\n",
      "Data columns (total 7 columns):\n",
      " #   Column          Dtype \n",
      "---  ------          ----- \n",
      " 0   lsoa_code       object\n",
      " 1   borough         object\n",
      " 2   major_category  object\n",
      " 3   minor_category  object\n",
      " 4   value           int64 \n",
      " 5   year            int64 \n",
      " 6   month           int64 \n",
      "dtypes: int64(3), object(4)\n",
      "memory usage: 720.5+ MB\n"
     ]
    }
   ],
   "metadata": {}
  },
  {
   "cell_type": "code",
   "execution_count": 11,
   "source": [
    "#berdasarkan dari data yang kosong dan value dari kolom maka data yang ada sudah benar dan dapat langsung digunakan\n",
    "df_crime_london.head()"
   ],
   "outputs": [
    {
     "output_type": "execute_result",
     "data": {
      "text/html": [
       "<div>\n",
       "<style scoped>\n",
       "    .dataframe tbody tr th:only-of-type {\n",
       "        vertical-align: middle;\n",
       "    }\n",
       "\n",
       "    .dataframe tbody tr th {\n",
       "        vertical-align: top;\n",
       "    }\n",
       "\n",
       "    .dataframe thead th {\n",
       "        text-align: right;\n",
       "    }\n",
       "</style>\n",
       "<table border=\"1\" class=\"dataframe\">\n",
       "  <thead>\n",
       "    <tr style=\"text-align: right;\">\n",
       "      <th></th>\n",
       "      <th>lsoa_code</th>\n",
       "      <th>borough</th>\n",
       "      <th>major_category</th>\n",
       "      <th>minor_category</th>\n",
       "      <th>value</th>\n",
       "      <th>year</th>\n",
       "      <th>month</th>\n",
       "    </tr>\n",
       "  </thead>\n",
       "  <tbody>\n",
       "    <tr>\n",
       "      <th>0</th>\n",
       "      <td>E01001116</td>\n",
       "      <td>Croydon</td>\n",
       "      <td>Burglary</td>\n",
       "      <td>Burglary in Other Buildings</td>\n",
       "      <td>0</td>\n",
       "      <td>2016</td>\n",
       "      <td>11</td>\n",
       "    </tr>\n",
       "    <tr>\n",
       "      <th>1</th>\n",
       "      <td>E01001646</td>\n",
       "      <td>Greenwich</td>\n",
       "      <td>Violence Against the Person</td>\n",
       "      <td>Other violence</td>\n",
       "      <td>0</td>\n",
       "      <td>2016</td>\n",
       "      <td>11</td>\n",
       "    </tr>\n",
       "    <tr>\n",
       "      <th>2</th>\n",
       "      <td>E01000677</td>\n",
       "      <td>Bromley</td>\n",
       "      <td>Violence Against the Person</td>\n",
       "      <td>Other violence</td>\n",
       "      <td>0</td>\n",
       "      <td>2015</td>\n",
       "      <td>5</td>\n",
       "    </tr>\n",
       "    <tr>\n",
       "      <th>3</th>\n",
       "      <td>E01003774</td>\n",
       "      <td>Redbridge</td>\n",
       "      <td>Burglary</td>\n",
       "      <td>Burglary in Other Buildings</td>\n",
       "      <td>0</td>\n",
       "      <td>2016</td>\n",
       "      <td>3</td>\n",
       "    </tr>\n",
       "    <tr>\n",
       "      <th>4</th>\n",
       "      <td>E01004563</td>\n",
       "      <td>Wandsworth</td>\n",
       "      <td>Robbery</td>\n",
       "      <td>Personal Property</td>\n",
       "      <td>0</td>\n",
       "      <td>2008</td>\n",
       "      <td>6</td>\n",
       "    </tr>\n",
       "  </tbody>\n",
       "</table>\n",
       "</div>"
      ],
      "text/plain": [
       "   lsoa_code     borough               major_category  \\\n",
       "0  E01001116     Croydon                     Burglary   \n",
       "1  E01001646   Greenwich  Violence Against the Person   \n",
       "2  E01000677     Bromley  Violence Against the Person   \n",
       "3  E01003774   Redbridge                     Burglary   \n",
       "4  E01004563  Wandsworth                      Robbery   \n",
       "\n",
       "                minor_category  value  year  month  \n",
       "0  Burglary in Other Buildings      0  2016     11  \n",
       "1               Other violence      0  2016     11  \n",
       "2               Other violence      0  2015      5  \n",
       "3  Burglary in Other Buildings      0  2016      3  \n",
       "4            Personal Property      0  2008      6  "
      ]
     },
     "metadata": {},
     "execution_count": 11
    }
   ],
   "metadata": {}
  },
  {
   "cell_type": "markdown",
   "source": [
    "# total kejahatan per tahun pada 2008 -2016"
   ],
   "metadata": {}
  },
  {
   "cell_type": "markdown",
   "source": [
    "## periapan"
   ],
   "metadata": {}
  },
  {
   "cell_type": "code",
   "execution_count": 14,
   "source": [
    "#mengekstrak data yang diperlukan yaitu data kejahatan 'value' tiap tahunnya\n",
    "tahun = df_crime_london['year'].unique()\n",
    "total_pertahun = df_crime_london.groupby('year').sum()\n",
    "total=total_pertahun['value'].to_numpy()\n",
    "\n",
    "n = len(tahun)\n",
    "for i in range(n):\n",
    "    for j in range (0, n-i-1):\n",
    "        if tahun[j]>tahun[j+1]:\n",
    "            tahun[j], tahun[j+1] = tahun[j+1], tahun[j]\n",
    "            total[j], total[j+1] = total[j+1], total[j]\n",
    "\n",
    "print(tahun)\n",
    "print(total)"
   ],
   "outputs": [
    {
     "output_type": "stream",
     "name": "stdout",
     "text": [
      "[2008 2009 2010 2011 2012 2013 2014 2015 2016]\n",
      "[715324 736121 737329 711624 724915 686407 680183 717214 738641]\n"
     ]
    }
   ],
   "metadata": {}
  },
  {
   "cell_type": "markdown",
   "source": [
    "## infografis"
   ],
   "metadata": {}
  },
  {
   "cell_type": "code",
   "execution_count": 20,
   "source": [
    "df_pertahun = pd.DataFrame({'Tahun':tahun, 'Total':total})\n",
    "df_pertahun.set_index('Tahun', inplace=True)"
   ],
   "outputs": [],
   "metadata": {}
  },
  {
   "cell_type": "code",
   "execution_count": 24,
   "source": [
    "df_pertahun.plot(marker='o', ls='--', lw=2, legend=None, figsize=(10,6))\n",
    "plt.xlabel('tahun', size=20)\n",
    "plt.ylabel('total kejahatan per tahun dalam 10.000', size=20)\n",
    "plt.title('angka kejahatan di London pada 2008-2016', size=25)\n",
    "plt.xticks(size=20)\n",
    "values=np.arange(68, 76 , 1)\n",
    "values_incerment=10000\n",
    "plt.yticks(values*values_incerment,['%d' %val for val in values], size=20)\n",
    "plt.show()\n"
   ],
   "outputs": [
    {
     "output_type": "display_data",
     "data": {
      "image/png": "[encoded data removed]",
      "text/plain": [
       "<Figure size 720x432 with 1 Axes>"
      ]
     },
     "metadata": {
      "needs_background": "light"
     }
    }
   ],
   "metadata": {}
  },
  {
   "cell_type": "markdown",
   "source": [
    "### Kesimpulan\n",
    "- Dari gambar dapat diketahui terjadi peningkatan kejahatan yang sangat drastis pada tahun 2014 hingga 2016. Hal ini menimbulkan beberapa pertanyaan sebagai berikut:\n",
    "   -  kategori kejahatan apa yang menominasi kategori kejahatan?\n",
    "    - Daerah mana yang mengalami kejatan paling besar pada tahun tersebut?\n",
    " "
   ],
   "metadata": {}
  },
  {
   "cell_type": "markdown",
   "source": [
    "# kategori kejahatan berat pada tahun 2014 - 2016"
   ],
   "metadata": {}
  },
  {
   "cell_type": "markdown",
   "source": [
    "## preparasi"
   ],
   "metadata": {}
  },
  {
   "cell_type": "code",
   "execution_count": 30,
   "source": [
    "df_crime_london.set_index('year', inplace=True)"
   ],
   "outputs": [],
   "metadata": {}
  },
  {
   "cell_type": "code",
   "execution_count": 39,
   "source": [
    "df_14=df_crime_london.loc[[2014]]\n",
    "df_15=df_crime_london.loc[[2015]]\n",
    "df_16=df_crime_london.loc[[2016]]"
   ],
   "outputs": [],
   "metadata": {}
  },
  {
   "cell_type": "code",
   "execution_count": 40,
   "source": [
    "# kategori berat 2014\n",
    "kategori= df_14['major_category'].unique()\n",
    "total_kategori14 = df_14.groupby('major_category').sum()\n",
    "total_kat_14=total_kategori14['value'].to_numpy()\n",
    "\n",
    "n = len(kategori)\n",
    "for i in range(n):\n",
    "    for j in range (0, n-i-1):\n",
    "        if kategori[j]>kategori[j+1]:\n",
    "            kategori[j], kategori[j+1] = kategori[j+1], kategori[j]\n",
    "            total_kat_14[j], total_kat_14[j+1] =total_kat_14[j+1], total_kat_14[j]\n",
    "\n",
    "print(kategori)\n",
    "print(total_kat_14)"
   ],
   "outputs": [
    {
     "output_type": "stream",
     "name": "stdout",
     "text": [
      "['Burglary' 'Criminal Damage' 'Drugs' 'Fraud or Forgery'\n",
      " 'Other Notifiable Offences' 'Robbery' 'Sexual Offences'\n",
      " 'Theft and Handling' 'Violence Against the Person']\n",
      "[     0  13037      0 185349  22150  76053 279880  59279  44435]\n"
     ]
    }
   ],
   "metadata": {}
  },
  {
   "cell_type": "code",
   "execution_count": 41,
   "source": [
    "# kategori berat 2015\n",
    "kategori= df_15['major_category'].unique()\n",
    "total_kategori15 = df_15.groupby('major_category').sum()\n",
    "total_kat_15=total_kategori15['value'].to_numpy()\n",
    "\n",
    "n = len(kategori)\n",
    "for i in range(n):\n",
    "    for j in range (0, n-i-1):\n",
    "        if kategori[j]>kategori[j+1]:\n",
    "            kategori[j], kategori[j+1] = kategori[j+1], kategori[j]\n",
    "            total_kat_15[j], total_kat_15[j+1] =total_kat_15[j+1], total_kat_15[j]\n",
    "\n",
    "print(kategori)\n",
    "print(total_kat_15)"
   ],
   "outputs": [
    {
     "output_type": "stream",
     "name": "stdout",
     "text": [
      "['Burglary' 'Criminal Damage' 'Drugs' 'Fraud or Forgery'\n",
      " 'Other Notifiable Offences' 'Robbery' 'Sexual Offences'\n",
      " 'Theft and Handling' 'Violence Against the Person']\n",
      "[284022  62976  39785      0  14229  21383 218740      0  70489]\n"
     ]
    }
   ],
   "metadata": {}
  },
  {
   "cell_type": "code",
   "execution_count": 42,
   "source": [
    "# kategori berat 2016\n",
    "kategori= df_16['major_category'].unique()\n",
    "total_kategori16 = df_16.groupby('major_category').sum()\n",
    "total_kat_16=total_kategori16['value'].to_numpy()\n",
    "\n",
    "n = len(kategori)\n",
    "for i in range(n):\n",
    "    for j in range (0, n-i-1):\n",
    "        if kategori[j]>kategori[j+1]:\n",
    "            kategori[j], kategori[j+1] = kategori[j+1], kategori[j]\n",
    "            total_kat_16[j], total_kat_16[j+1] =total_kat_16[j+1], total_kat_16[j]\n",
    "\n",
    "print(kategori)\n",
    "print(total_kat_16)"
   ],
   "outputs": [
    {
     "output_type": "stream",
     "name": "stdout",
     "text": [
      "['Burglary' 'Criminal Damage' 'Drugs' 'Fraud or Forgery'\n",
      " 'Other Notifiable Offences' 'Robbery' 'Sexual Offences'\n",
      " 'Theft and Handling' 'Violence Against the Person']\n",
      "[ 68285      0 294133 232381      0  15809  22528  38914  64071]\n"
     ]
    }
   ],
   "metadata": {}
  },
  {
   "cell_type": "code",
   "execution_count": 46,
   "source": [
    "df_kat_berat=pd.DataFrame({'Kategori': kategori, '2014': total_kat_14, '2015': total_kat_15, '2016': total_kat_16})\n",
    "df_kat_berat['Total'] = df_kat_berat.sum(axis=1)\n",
    "df_kat_berat.set_index('Kategori',inplace=True)\n",
    "df_kat_berat"
   ],
   "outputs": [
    {
     "output_type": "stream",
     "name": "stderr",
     "text": [
      "/tmp/ipykernel_15935/2405804479.py:2: FutureWarning: Dropping of nuisance columns in DataFrame reductions (with 'numeric_only=None') is deprecated; in a future version this will raise TypeError.  Select only valid columns before calling the reduction.\n",
      "  df_kat_berat['Total'] = df_kat_berat.sum(axis=1)\n"
     ]
    },
    {
     "output_type": "execute_result",
     "data": {
      "text/html": [
       "<div>\n",
       "<style scoped>\n",
       "    .dataframe tbody tr th:only-of-type {\n",
       "        vertical-align: middle;\n",
       "    }\n",
       "\n",
       "    .dataframe tbody tr th {\n",
       "        vertical-align: top;\n",
       "    }\n",
       "\n",
       "    .dataframe thead th {\n",
       "        text-align: right;\n",
       "    }\n",
       "</style>\n",
       "<table border=\"1\" class=\"dataframe\">\n",
       "  <thead>\n",
       "    <tr style=\"text-align: right;\">\n",
       "      <th></th>\n",
       "      <th>2014</th>\n",
       "      <th>2015</th>\n",
       "      <th>2016</th>\n",
       "      <th>Total</th>\n",
       "    </tr>\n",
       "    <tr>\n",
       "      <th>Kategori</th>\n",
       "      <th></th>\n",
       "      <th></th>\n",
       "      <th></th>\n",
       "      <th></th>\n",
       "    </tr>\n",
       "  </thead>\n",
       "  <tbody>\n",
       "    <tr>\n",
       "      <th>Burglary</th>\n",
       "      <td>0</td>\n",
       "      <td>284022</td>\n",
       "      <td>68285</td>\n",
       "      <td>352307</td>\n",
       "    </tr>\n",
       "    <tr>\n",
       "      <th>Criminal Damage</th>\n",
       "      <td>13037</td>\n",
       "      <td>62976</td>\n",
       "      <td>0</td>\n",
       "      <td>76013</td>\n",
       "    </tr>\n",
       "    <tr>\n",
       "      <th>Drugs</th>\n",
       "      <td>0</td>\n",
       "      <td>39785</td>\n",
       "      <td>294133</td>\n",
       "      <td>333918</td>\n",
       "    </tr>\n",
       "    <tr>\n",
       "      <th>Fraud or Forgery</th>\n",
       "      <td>185349</td>\n",
       "      <td>0</td>\n",
       "      <td>232381</td>\n",
       "      <td>417730</td>\n",
       "    </tr>\n",
       "    <tr>\n",
       "      <th>Other Notifiable Offences</th>\n",
       "      <td>22150</td>\n",
       "      <td>14229</td>\n",
       "      <td>0</td>\n",
       "      <td>36379</td>\n",
       "    </tr>\n",
       "    <tr>\n",
       "      <th>Robbery</th>\n",
       "      <td>76053</td>\n",
       "      <td>21383</td>\n",
       "      <td>15809</td>\n",
       "      <td>113245</td>\n",
       "    </tr>\n",
       "    <tr>\n",
       "      <th>Sexual Offences</th>\n",
       "      <td>279880</td>\n",
       "      <td>218740</td>\n",
       "      <td>22528</td>\n",
       "      <td>521148</td>\n",
       "    </tr>\n",
       "    <tr>\n",
       "      <th>Theft and Handling</th>\n",
       "      <td>59279</td>\n",
       "      <td>0</td>\n",
       "      <td>38914</td>\n",
       "      <td>98193</td>\n",
       "    </tr>\n",
       "    <tr>\n",
       "      <th>Violence Against the Person</th>\n",
       "      <td>44435</td>\n",
       "      <td>70489</td>\n",
       "      <td>64071</td>\n",
       "      <td>178995</td>\n",
       "    </tr>\n",
       "  </tbody>\n",
       "</table>\n",
       "</div>"
      ],
      "text/plain": [
       "                               2014    2015    2016   Total\n",
       "Kategori                                                   \n",
       "Burglary                          0  284022   68285  352307\n",
       "Criminal Damage               13037   62976       0   76013\n",
       "Drugs                             0   39785  294133  333918\n",
       "Fraud or Forgery             185349       0  232381  417730\n",
       "Other Notifiable Offences     22150   14229       0   36379\n",
       "Robbery                       76053   21383   15809  113245\n",
       "Sexual Offences              279880  218740   22528  521148\n",
       "Theft and Handling            59279       0   38914   98193\n",
       "Violence Against the Person   44435   70489   64071  178995"
      ]
     },
     "metadata": {},
     "execution_count": 46
    }
   ],
   "metadata": {}
  },
  {
   "cell_type": "markdown",
   "source": [
    "## infografis"
   ],
   "metadata": {}
  },
  {
   "cell_type": "code",
   "execution_count": 49,
   "source": [
    "color1= [cmap(i) for i in np.linspace(0, 1, 9)]\n",
    "explode_list=[0, 0.1, 0, 0, 0.1, 0, 0, 0.1, 0] \n",
    "df_kat_berat['Total'].plot(kind='pie',\n",
    "                                         figsize=(5,6),\n",
    "                                         autopct='%1.1f%%',\n",
    "                                         startangle=90, \n",
    "                                         shadow=True,\n",
    "                                         colors=color1,\n",
    "                                         explode=explode_list)\n",
    "plt.title=('kategori kejahatan di London pada 2014 - 2016')\n",
    "plt.axis('equal')\n",
    "plt.show()"
   ],
   "outputs": [
    {
     "output_type": "display_data",
     "data": {
      "image/png": "[encoded data removed]",
      "text/plain": [
       "<Figure size 360x432 with 1 Axes>"
      ]
     },
     "metadata": {}
    }
   ],
   "metadata": {}
  },
  {
   "cell_type": "markdown",
   "source": [
    "### kesimpulan\n",
    "- ketegori kejahatan di dominasi oleh sexual offences, fraud or forgery, burglary, drugs"
   ],
   "metadata": {}
  },
  {
   "cell_type": "markdown",
   "source": [
    "# angka kejahatan pada setiap daerah"
   ],
   "metadata": {}
  },
  {
   "cell_type": "markdown",
   "source": [],
   "metadata": {}
  }
 ],
 "metadata": {
  "orig_nbformat": 4,
  "language_info": {
   "name": "python",
   "version": "3.8.10",
   "mimetype": "text/x-python",
   "codemirror_mode": {
    "name": "ipython",
    "version": 3
   },
   "pygments_lexer": "ipython3",
   "nbconvert_exporter": "python",
   "file_extension": ".py"
  },
  "kernelspec": {
   "name": "python3",
   "display_name": "Python 3.8.10 64-bit"
  },
  "interpreter": {
   "hash": "31f2aee4e71d21fbe5cf8b01ff0e069b9275f58929596ceb00d14d90e3e16cd6"
  }
 },
 "nbformat": 4,
 "nbformat_minor": 2
}