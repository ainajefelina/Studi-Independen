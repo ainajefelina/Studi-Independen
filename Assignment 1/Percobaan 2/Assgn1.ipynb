{
 "cells": [
  {
   "cell_type": "markdown",
   "source": [
    "# import library"
   ],
   "metadata": {}
  },
  {
   "cell_type": "code",
   "execution_count": 2,
   "source": [
    "# mengimport library\n",
    "import pandas as pd\n",
    "import numpy as np\n",
    "%matplotlib inline \n",
    "import matplotlib as mpl\n",
    "import matplotlib.pyplot as plt\n",
    "import seaborn as sns\n",
    "cmap = plt.get_cmap('Spectral') #mengimpor warna gradasi"
   ],
   "outputs": [],
   "metadata": {}
  },
  {
   "cell_type": "markdown",
   "source": [
    "# mini notes *deleted soon"
   ],
   "metadata": {}
  },
  {
   "cell_type": "markdown",
   "source": [
    "## informasi data\n",
    "- lsoa_code: ini mewakili area kepolisian\n",
    "- borough: borough london yang statistiknya terkait\n",
    "- major_category: kategori kejahatan utama\n",
    "- minor_category: kategori kejahatan ringan\n",
    "- value: jumlah kejahatan untuk wilayah tertentu, pada bulan tertentu\n",
    "- tahun: tahun statistik ringkasan\n",
    "- bulan: bulan statistik ringkasan"
   ],
   "metadata": {}
  },
  {
   "cell_type": "markdown",
   "source": [
    "## informasi pertanyaan\n",
    "- Berapakah perubahan jumlah kejadian kejahatan dari tahun 2011 ke tahun 2016?\n",
    "- Apa 3 kejahatan teratas per wilayah pada tahun 2016?"
   ],
   "metadata": {}
  },
  {
   "cell_type": "markdown",
   "source": [
    "# Data Crime in London"
   ],
   "metadata": {}
  }
 ],
 "metadata": {
  "orig_nbformat": 4,
  "language_info": {
   "name": "python",
   "version": "3.8.10",
   "mimetype": "text/x-python",
   "codemirror_mode": {
    "name": "ipython",
    "version": 3
   },
   "pygments_lexer": "ipython3",
   "nbconvert_exporter": "python",
   "file_extension": ".py"
  },
  "kernelspec": {
   "name": "python3",
   "display_name": "Python 3.8.10 64-bit"
  },
  "interpreter": {
   "hash": "31f2aee4e71d21fbe5cf8b01ff0e069b9275f58929596ceb00d14d90e3e16cd6"
  }
 },
 "nbformat": 4,
 "nbformat_minor": 2
}